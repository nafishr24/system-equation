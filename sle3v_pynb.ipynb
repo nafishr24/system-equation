{
  "nbformat": 4,
  "nbformat_minor": 0,
  "metadata": {
    "colab": {
      "provenance": []
    },
    "kernelspec": {
      "name": "python3",
      "display_name": "Python 3"
    },
    "language_info": {
      "name": "python"
    }
  },
  "cells": [
    {
      "cell_type": "code",
      "execution_count": 9,
      "metadata": {
        "colab": {
          "base_uri": "https://localhost:8080/"
        },
        "id": "xGQDler2EHXC",
        "outputId": "3f73bf1a-4d68-48b2-a6d6-735539306f2c"
      },
      "outputs": [
        {
          "output_type": "stream",
          "name": "stdout",
          "text": [
            "General form of SLE3V:\n",
            "ax + by + cz = k1\n",
            "dx + ey + fz = k2\n",
            "gx + hy + iz = k3\n",
            "\n",
            "\n",
            "Possibility number-1\n",
            "System of equations with:\n",
            "a = 1, b = 1, c = 2,\n",
            "d = 2, e = 4, f = 7,\n",
            "g = 5, h = 2, i = 4,\n",
            "x = 25,000, y = 25,500, z = 26,000\n",
            "--------------------------------------------------\n",
            "The system of equations is:\n",
            "1x + 1y + 2z = 102,500\n",
            "2x + 4y + 7z = 334,000\n",
            "5x + 2y + 4z = 280,000\n",
            "\n",
            "Possibility number-2\n",
            "System of equations with:\n",
            "a = 1, b = 1, c = 2,\n",
            "d = 2, e = 4, f = 7,\n",
            "g = 5, h = 2, i = 5,\n",
            "x = 25,000, y = 25,500, z = 26,000\n",
            "--------------------------------------------------\n",
            "The system of equations is:\n",
            "1x + 1y + 2z = 102,500\n",
            "2x + 4y + 7z = 334,000\n",
            "5x + 2y + 5z = 306,000\n",
            "\n",
            "Possibility number-3\n",
            "System of equations with:\n",
            "a = 1, b = 1, c = 2,\n",
            "d = 2, e = 4, f = 7,\n",
            "g = 5, h = 2, i = 6,\n",
            "x = 25,000, y = 25,500, z = 26,000\n",
            "--------------------------------------------------\n",
            "The system of equations is:\n",
            "1x + 1y + 2z = 102,500\n",
            "2x + 4y + 7z = 334,000\n",
            "5x + 2y + 6z = 332,000\n",
            "\n",
            "Possibility number-4\n",
            "System of equations with:\n",
            "a = 1, b = 1, c = 2,\n",
            "d = 2, e = 4, f = 7,\n",
            "g = 5, h = 3, i = 4,\n",
            "x = 25,000, y = 25,500, z = 26,000\n",
            "--------------------------------------------------\n",
            "The system of equations is:\n",
            "1x + 1y + 2z = 102,500\n",
            "2x + 4y + 7z = 334,000\n",
            "5x + 3y + 4z = 305,500\n",
            "\n",
            "Possibility number-5\n",
            "System of equations with:\n",
            "a = 1, b = 1, c = 2,\n",
            "d = 2, e = 4, f = 7,\n",
            "g = 5, h = 3, i = 5,\n",
            "x = 25,000, y = 25,500, z = 26,000\n",
            "--------------------------------------------------\n",
            "The system of equations is:\n",
            "1x + 1y + 2z = 102,500\n",
            "2x + 4y + 7z = 334,000\n",
            "5x + 3y + 5z = 331,500\n",
            "\n",
            "Possibility number-6\n",
            "System of equations with:\n",
            "a = 1, b = 1, c = 2,\n",
            "d = 2, e = 4, f = 7,\n",
            "g = 5, h = 3, i = 6,\n",
            "x = 25,000, y = 25,500, z = 26,000\n",
            "--------------------------------------------------\n",
            "The system of equations is:\n",
            "1x + 1y + 2z = 102,500\n",
            "2x + 4y + 7z = 334,000\n",
            "5x + 3y + 6z = 357,500\n",
            "\n",
            "Possibility number-7\n",
            "System of equations with:\n",
            "a = 1, b = 1, c = 2,\n",
            "d = 2, e = 4, f = 7,\n",
            "g = 9, h = 2, i = 4,\n",
            "x = 25,000, y = 25,500, z = 26,000\n",
            "--------------------------------------------------\n",
            "The system of equations is:\n",
            "1x + 1y + 2z = 102,500\n",
            "2x + 4y + 7z = 334,000\n",
            "9x + 2y + 4z = 380,000\n",
            "\n",
            "Possibility number-8\n",
            "System of equations with:\n",
            "a = 1, b = 1, c = 2,\n",
            "d = 2, e = 4, f = 7,\n",
            "g = 9, h = 2, i = 5,\n",
            "x = 25,000, y = 25,500, z = 26,000\n",
            "--------------------------------------------------\n",
            "The system of equations is:\n",
            "1x + 1y + 2z = 102,500\n",
            "2x + 4y + 7z = 334,000\n",
            "9x + 2y + 5z = 406,000\n",
            "\n",
            "Possibility number-9\n",
            "System of equations with:\n",
            "a = 1, b = 1, c = 2,\n",
            "d = 2, e = 4, f = 7,\n",
            "g = 9, h = 2, i = 6,\n",
            "x = 25,000, y = 25,500, z = 26,000\n",
            "--------------------------------------------------\n",
            "The system of equations is:\n",
            "1x + 1y + 2z = 102,500\n",
            "2x + 4y + 7z = 334,000\n",
            "9x + 2y + 6z = 432,000\n",
            "\n",
            "Possibility number-10\n",
            "System of equations with:\n",
            "a = 1, b = 1, c = 2,\n",
            "d = 2, e = 4, f = 7,\n",
            "g = 9, h = 3, i = 4,\n",
            "x = 25,000, y = 25,500, z = 26,000\n",
            "--------------------------------------------------\n",
            "The system of equations is:\n",
            "1x + 1y + 2z = 102,500\n",
            "2x + 4y + 7z = 334,000\n",
            "9x + 3y + 4z = 405,500\n",
            "\n",
            "Possibility number-11\n",
            "System of equations with:\n",
            "a = 1, b = 1, c = 2,\n",
            "d = 2, e = 4, f = 7,\n",
            "g = 9, h = 3, i = 5,\n",
            "x = 25,000, y = 25,500, z = 26,000\n",
            "--------------------------------------------------\n",
            "The system of equations is:\n",
            "1x + 1y + 2z = 102,500\n",
            "2x + 4y + 7z = 334,000\n",
            "9x + 3y + 5z = 431,500\n",
            "\n",
            "Possibility number-12\n",
            "System of equations with:\n",
            "a = 1, b = 1, c = 2,\n",
            "d = 2, e = 4, f = 7,\n",
            "g = 9, h = 3, i = 6,\n",
            "x = 25,000, y = 25,500, z = 26,000\n",
            "--------------------------------------------------\n",
            "The system of equations is:\n",
            "1x + 1y + 2z = 102,500\n",
            "2x + 4y + 7z = 334,000\n",
            "9x + 3y + 6z = 457,500\n",
            "\n",
            "Possibility number-13\n",
            "System of equations with:\n",
            "a = 1, b = 1, c = 2,\n",
            "d = 2, e = 4, f = 7,\n",
            "g = 11, h = 2, i = 4,\n",
            "x = 25,000, y = 25,500, z = 26,000\n",
            "--------------------------------------------------\n",
            "The system of equations is:\n",
            "1x + 1y + 2z = 102,500\n",
            "2x + 4y + 7z = 334,000\n",
            "11x + 2y + 4z = 430,000\n",
            "\n",
            "Possibility number-14\n",
            "System of equations with:\n",
            "a = 1, b = 1, c = 2,\n",
            "d = 2, e = 4, f = 7,\n",
            "g = 11, h = 2, i = 5,\n",
            "x = 25,000, y = 25,500, z = 26,000\n",
            "--------------------------------------------------\n",
            "The system of equations is:\n",
            "1x + 1y + 2z = 102,500\n",
            "2x + 4y + 7z = 334,000\n",
            "11x + 2y + 5z = 456,000\n",
            "\n",
            "Possibility number-15\n",
            "System of equations with:\n",
            "a = 1, b = 1, c = 2,\n",
            "d = 2, e = 4, f = 7,\n",
            "g = 11, h = 2, i = 6,\n",
            "x = 25,000, y = 25,500, z = 26,000\n",
            "--------------------------------------------------\n",
            "The system of equations is:\n",
            "1x + 1y + 2z = 102,500\n",
            "2x + 4y + 7z = 334,000\n",
            "11x + 2y + 6z = 482,000\n",
            "\n",
            "Possibility number-16\n",
            "System of equations with:\n",
            "a = 1, b = 1, c = 2,\n",
            "d = 2, e = 4, f = 7,\n",
            "g = 11, h = 3, i = 4,\n",
            "x = 25,000, y = 25,500, z = 26,000\n",
            "--------------------------------------------------\n",
            "The system of equations is:\n",
            "1x + 1y + 2z = 102,500\n",
            "2x + 4y + 7z = 334,000\n",
            "11x + 3y + 4z = 455,500\n",
            "\n",
            "Possibility number-17\n",
            "System of equations with:\n",
            "a = 1, b = 1, c = 2,\n",
            "d = 2, e = 4, f = 7,\n",
            "g = 11, h = 3, i = 5,\n",
            "x = 25,000, y = 25,500, z = 26,000\n",
            "--------------------------------------------------\n",
            "The system of equations is:\n",
            "1x + 1y + 2z = 102,500\n",
            "2x + 4y + 7z = 334,000\n",
            "11x + 3y + 5z = 481,500\n",
            "\n",
            "Possibility number-18\n",
            "System of equations with:\n",
            "a = 1, b = 1, c = 2,\n",
            "d = 2, e = 4, f = 7,\n",
            "g = 11, h = 3, i = 6,\n",
            "x = 25,000, y = 25,500, z = 26,000\n",
            "--------------------------------------------------\n",
            "The system of equations is:\n",
            "1x + 1y + 2z = 102,500\n",
            "2x + 4y + 7z = 334,000\n",
            "11x + 3y + 6z = 507,500\n",
            "\n",
            "Possibility number-19\n",
            "System of equations with:\n",
            "a = 1, b = 1, c = 2,\n",
            "d = 2, e = 4, f = 8,\n",
            "g = 5, h = 2, i = 4,\n",
            "x = 25,000, y = 25,500, z = 26,000\n",
            "--------------------------------------------------\n",
            "The system of equations is:\n",
            "1x + 1y + 2z = 102,500\n",
            "2x + 4y + 8z = 360,000\n",
            "5x + 2y + 4z = 280,000\n",
            "\n",
            "Possibility number-20\n",
            "System of equations with:\n",
            "a = 1, b = 1, c = 2,\n",
            "d = 2, e = 4, f = 8,\n",
            "g = 5, h = 2, i = 5,\n",
            "x = 25,000, y = 25,500, z = 26,000\n",
            "--------------------------------------------------\n",
            "The system of equations is:\n",
            "1x + 1y + 2z = 102,500\n",
            "2x + 4y + 8z = 360,000\n",
            "5x + 2y + 5z = 306,000\n",
            "\n",
            "Possibility number-21\n",
            "System of equations with:\n",
            "a = 1, b = 1, c = 2,\n",
            "d = 2, e = 4, f = 8,\n",
            "g = 5, h = 2, i = 6,\n",
            "x = 25,000, y = 25,500, z = 26,000\n",
            "--------------------------------------------------\n",
            "The system of equations is:\n",
            "1x + 1y + 2z = 102,500\n",
            "2x + 4y + 8z = 360,000\n",
            "5x + 2y + 6z = 332,000\n",
            "\n",
            "Possibility number-22\n",
            "System of equations with:\n",
            "a = 1, b = 1, c = 2,\n",
            "d = 2, e = 4, f = 8,\n",
            "g = 5, h = 3, i = 4,\n",
            "x = 25,000, y = 25,500, z = 26,000\n",
            "--------------------------------------------------\n",
            "The system of equations is:\n",
            "1x + 1y + 2z = 102,500\n",
            "2x + 4y + 8z = 360,000\n",
            "5x + 3y + 4z = 305,500\n",
            "\n",
            "Possibility number-23\n",
            "System of equations with:\n",
            "a = 1, b = 1, c = 2,\n",
            "d = 2, e = 4, f = 8,\n",
            "g = 5, h = 3, i = 5,\n",
            "x = 25,000, y = 25,500, z = 26,000\n",
            "--------------------------------------------------\n",
            "The system of equations is:\n",
            "1x + 1y + 2z = 102,500\n",
            "2x + 4y + 8z = 360,000\n",
            "5x + 3y + 5z = 331,500\n",
            "\n",
            "Possibility number-24\n",
            "System of equations with:\n",
            "a = 1, b = 1, c = 2,\n",
            "d = 2, e = 4, f = 8,\n",
            "g = 5, h = 3, i = 6,\n",
            "x = 25,000, y = 25,500, z = 26,000\n",
            "--------------------------------------------------\n",
            "The system of equations is:\n",
            "1x + 1y + 2z = 102,500\n",
            "2x + 4y + 8z = 360,000\n",
            "5x + 3y + 6z = 357,500\n",
            "\n",
            "Possibility number-25\n",
            "System of equations with:\n",
            "a = 1, b = 1, c = 2,\n",
            "d = 2, e = 4, f = 8,\n",
            "g = 9, h = 2, i = 4,\n",
            "x = 25,000, y = 25,500, z = 26,000\n",
            "--------------------------------------------------\n",
            "The system of equations is:\n",
            "1x + 1y + 2z = 102,500\n",
            "2x + 4y + 8z = 360,000\n",
            "9x + 2y + 4z = 380,000\n",
            "\n",
            "Possibility number-26\n",
            "System of equations with:\n",
            "a = 1, b = 1, c = 2,\n",
            "d = 2, e = 4, f = 8,\n",
            "g = 9, h = 2, i = 5,\n",
            "x = 25,000, y = 25,500, z = 26,000\n",
            "--------------------------------------------------\n",
            "The system of equations is:\n",
            "1x + 1y + 2z = 102,500\n",
            "2x + 4y + 8z = 360,000\n",
            "9x + 2y + 5z = 406,000\n",
            "\n",
            "Possibility number-27\n",
            "System of equations with:\n",
            "a = 1, b = 1, c = 2,\n",
            "d = 2, e = 4, f = 8,\n",
            "g = 9, h = 2, i = 6,\n",
            "x = 25,000, y = 25,500, z = 26,000\n",
            "--------------------------------------------------\n",
            "The system of equations is:\n",
            "1x + 1y + 2z = 102,500\n",
            "2x + 4y + 8z = 360,000\n",
            "9x + 2y + 6z = 432,000\n",
            "\n",
            "Possibility number-28\n",
            "System of equations with:\n",
            "a = 1, b = 1, c = 2,\n",
            "d = 2, e = 4, f = 8,\n",
            "g = 9, h = 3, i = 4,\n",
            "x = 25,000, y = 25,500, z = 26,000\n",
            "--------------------------------------------------\n",
            "The system of equations is:\n",
            "1x + 1y + 2z = 102,500\n",
            "2x + 4y + 8z = 360,000\n",
            "9x + 3y + 4z = 405,500\n",
            "\n",
            "Possibility number-29\n",
            "System of equations with:\n",
            "a = 1, b = 1, c = 2,\n",
            "d = 2, e = 4, f = 8,\n",
            "g = 9, h = 3, i = 5,\n",
            "x = 25,000, y = 25,500, z = 26,000\n",
            "--------------------------------------------------\n",
            "The system of equations is:\n",
            "1x + 1y + 2z = 102,500\n",
            "2x + 4y + 8z = 360,000\n",
            "9x + 3y + 5z = 431,500\n",
            "\n",
            "Possibility number-30\n",
            "System of equations with:\n",
            "a = 1, b = 1, c = 2,\n",
            "d = 2, e = 4, f = 8,\n",
            "g = 9, h = 3, i = 6,\n",
            "x = 25,000, y = 25,500, z = 26,000\n",
            "--------------------------------------------------\n",
            "The system of equations is:\n",
            "1x + 1y + 2z = 102,500\n",
            "2x + 4y + 8z = 360,000\n",
            "9x + 3y + 6z = 457,500\n",
            "\n",
            "Possibility number-31\n",
            "System of equations with:\n",
            "a = 1, b = 1, c = 2,\n",
            "d = 2, e = 4, f = 8,\n",
            "g = 11, h = 2, i = 4,\n",
            "x = 25,000, y = 25,500, z = 26,000\n",
            "--------------------------------------------------\n",
            "The system of equations is:\n",
            "1x + 1y + 2z = 102,500\n",
            "2x + 4y + 8z = 360,000\n",
            "11x + 2y + 4z = 430,000\n",
            "\n",
            "Possibility number-32\n",
            "System of equations with:\n",
            "a = 1, b = 1, c = 2,\n",
            "d = 2, e = 4, f = 8,\n",
            "g = 11, h = 2, i = 5,\n",
            "x = 25,000, y = 25,500, z = 26,000\n",
            "--------------------------------------------------\n",
            "The system of equations is:\n",
            "1x + 1y + 2z = 102,500\n",
            "2x + 4y + 8z = 360,000\n",
            "11x + 2y + 5z = 456,000\n",
            "\n",
            "Possibility number-33\n",
            "System of equations with:\n",
            "a = 1, b = 1, c = 2,\n",
            "d = 2, e = 4, f = 8,\n",
            "g = 11, h = 2, i = 6,\n",
            "x = 25,000, y = 25,500, z = 26,000\n",
            "--------------------------------------------------\n",
            "The system of equations is:\n",
            "1x + 1y + 2z = 102,500\n",
            "2x + 4y + 8z = 360,000\n",
            "11x + 2y + 6z = 482,000\n",
            "\n",
            "Possibility number-34\n",
            "System of equations with:\n",
            "a = 1, b = 1, c = 2,\n",
            "d = 2, e = 4, f = 8,\n",
            "g = 11, h = 3, i = 4,\n",
            "x = 25,000, y = 25,500, z = 26,000\n",
            "--------------------------------------------------\n",
            "The system of equations is:\n",
            "1x + 1y + 2z = 102,500\n",
            "2x + 4y + 8z = 360,000\n",
            "11x + 3y + 4z = 455,500\n",
            "\n",
            "Possibility number-35\n",
            "System of equations with:\n",
            "a = 1, b = 1, c = 2,\n",
            "d = 2, e = 4, f = 8,\n",
            "g = 11, h = 3, i = 5,\n",
            "x = 25,000, y = 25,500, z = 26,000\n",
            "--------------------------------------------------\n",
            "The system of equations is:\n",
            "1x + 1y + 2z = 102,500\n",
            "2x + 4y + 8z = 360,000\n",
            "11x + 3y + 5z = 481,500\n",
            "\n",
            "Possibility number-36\n",
            "System of equations with:\n",
            "a = 1, b = 1, c = 2,\n",
            "d = 2, e = 4, f = 8,\n",
            "g = 11, h = 3, i = 6,\n",
            "x = 25,000, y = 25,500, z = 26,000\n",
            "--------------------------------------------------\n",
            "The system of equations is:\n",
            "1x + 1y + 2z = 102,500\n",
            "2x + 4y + 8z = 360,000\n",
            "11x + 3y + 6z = 507,500\n",
            "\n",
            "Possibility number-37\n",
            "System of equations with:\n",
            "a = 1, b = 1, c = 2,\n",
            "d = 2, e = 4, f = 10,\n",
            "g = 5, h = 2, i = 4,\n",
            "x = 25,000, y = 25,500, z = 26,000\n",
            "--------------------------------------------------\n",
            "The system of equations is:\n",
            "1x + 1y + 2z = 102,500\n",
            "2x + 4y + 10z = 412,000\n",
            "5x + 2y + 4z = 280,000\n",
            "\n",
            "Possibility number-38\n",
            "System of equations with:\n",
            "a = 1, b = 1, c = 2,\n",
            "d = 2, e = 4, f = 10,\n",
            "g = 5, h = 2, i = 5,\n",
            "x = 25,000, y = 25,500, z = 26,000\n",
            "--------------------------------------------------\n",
            "The system of equations is:\n",
            "1x + 1y + 2z = 102,500\n",
            "2x + 4y + 10z = 412,000\n",
            "5x + 2y + 5z = 306,000\n",
            "\n",
            "Possibility number-39\n",
            "System of equations with:\n",
            "a = 1, b = 1, c = 2,\n",
            "d = 2, e = 4, f = 10,\n",
            "g = 5, h = 2, i = 6,\n",
            "x = 25,000, y = 25,500, z = 26,000\n",
            "--------------------------------------------------\n",
            "The system of equations is:\n",
            "1x + 1y + 2z = 102,500\n",
            "2x + 4y + 10z = 412,000\n",
            "5x + 2y + 6z = 332,000\n",
            "\n",
            "Possibility number-40\n",
            "System of equations with:\n",
            "a = 1, b = 1, c = 2,\n",
            "d = 2, e = 4, f = 10,\n",
            "g = 5, h = 3, i = 4,\n",
            "x = 25,000, y = 25,500, z = 26,000\n",
            "--------------------------------------------------\n",
            "The system of equations is:\n",
            "1x + 1y + 2z = 102,500\n",
            "2x + 4y + 10z = 412,000\n",
            "5x + 3y + 4z = 305,500\n",
            "\n",
            "Possibility number-41\n",
            "System of equations with:\n",
            "a = 1, b = 1, c = 2,\n",
            "d = 2, e = 4, f = 10,\n",
            "g = 5, h = 3, i = 5,\n",
            "x = 25,000, y = 25,500, z = 26,000\n",
            "--------------------------------------------------\n",
            "The system of equations is:\n",
            "1x + 1y + 2z = 102,500\n",
            "2x + 4y + 10z = 412,000\n",
            "5x + 3y + 5z = 331,500\n",
            "\n",
            "Possibility number-42\n",
            "System of equations with:\n",
            "a = 1, b = 1, c = 2,\n",
            "d = 2, e = 4, f = 10,\n",
            "g = 5, h = 3, i = 6,\n",
            "x = 25,000, y = 25,500, z = 26,000\n",
            "--------------------------------------------------\n",
            "The system of equations is:\n",
            "1x + 1y + 2z = 102,500\n",
            "2x + 4y + 10z = 412,000\n",
            "5x + 3y + 6z = 357,500\n",
            "\n",
            "Possibility number-43\n",
            "System of equations with:\n",
            "a = 1, b = 1, c = 2,\n",
            "d = 2, e = 4, f = 10,\n",
            "g = 9, h = 2, i = 4,\n",
            "x = 25,000, y = 25,500, z = 26,000\n",
            "--------------------------------------------------\n",
            "The system of equations is:\n",
            "1x + 1y + 2z = 102,500\n",
            "2x + 4y + 10z = 412,000\n",
            "9x + 2y + 4z = 380,000\n",
            "\n",
            "Possibility number-44\n",
            "System of equations with:\n",
            "a = 1, b = 1, c = 2,\n",
            "d = 2, e = 4, f = 10,\n",
            "g = 9, h = 2, i = 5,\n",
            "x = 25,000, y = 25,500, z = 26,000\n",
            "--------------------------------------------------\n",
            "The system of equations is:\n",
            "1x + 1y + 2z = 102,500\n",
            "2x + 4y + 10z = 412,000\n",
            "9x + 2y + 5z = 406,000\n",
            "\n",
            "Possibility number-45\n",
            "System of equations with:\n",
            "a = 1, b = 1, c = 2,\n",
            "d = 2, e = 4, f = 10,\n",
            "g = 9, h = 2, i = 6,\n",
            "x = 25,000, y = 25,500, z = 26,000\n",
            "--------------------------------------------------\n",
            "The system of equations is:\n",
            "1x + 1y + 2z = 102,500\n",
            "2x + 4y + 10z = 412,000\n",
            "9x + 2y + 6z = 432,000\n",
            "\n",
            "Possibility number-46\n",
            "System of equations with:\n",
            "a = 1, b = 1, c = 2,\n",
            "d = 2, e = 4, f = 10,\n",
            "g = 9, h = 3, i = 4,\n",
            "x = 25,000, y = 25,500, z = 26,000\n",
            "--------------------------------------------------\n",
            "The system of equations is:\n",
            "1x + 1y + 2z = 102,500\n",
            "2x + 4y + 10z = 412,000\n",
            "9x + 3y + 4z = 405,500\n",
            "\n",
            "Possibility number-47\n",
            "System of equations with:\n",
            "a = 1, b = 1, c = 2,\n",
            "d = 2, e = 4, f = 10,\n",
            "g = 9, h = 3, i = 5,\n",
            "x = 25,000, y = 25,500, z = 26,000\n",
            "--------------------------------------------------\n",
            "The system of equations is:\n",
            "1x + 1y + 2z = 102,500\n",
            "2x + 4y + 10z = 412,000\n",
            "9x + 3y + 5z = 431,500\n",
            "\n",
            "Possibility number-48\n",
            "System of equations with:\n",
            "a = 1, b = 1, c = 2,\n",
            "d = 2, e = 4, f = 10,\n",
            "g = 9, h = 3, i = 6,\n",
            "x = 25,000, y = 25,500, z = 26,000\n",
            "--------------------------------------------------\n",
            "The system of equations is:\n",
            "1x + 1y + 2z = 102,500\n",
            "2x + 4y + 10z = 412,000\n",
            "9x + 3y + 6z = 457,500\n",
            "\n",
            "Possibility number-49\n",
            "System of equations with:\n",
            "a = 1, b = 1, c = 2,\n",
            "d = 2, e = 4, f = 10,\n",
            "g = 11, h = 2, i = 4,\n",
            "x = 25,000, y = 25,500, z = 26,000\n",
            "--------------------------------------------------\n",
            "The system of equations is:\n",
            "1x + 1y + 2z = 102,500\n",
            "2x + 4y + 10z = 412,000\n",
            "11x + 2y + 4z = 430,000\n",
            "\n",
            "Possibility number-50\n",
            "System of equations with:\n",
            "a = 1, b = 1, c = 2,\n",
            "d = 2, e = 4, f = 10,\n",
            "g = 11, h = 2, i = 5,\n",
            "x = 25,000, y = 25,500, z = 26,000\n",
            "--------------------------------------------------\n",
            "The system of equations is:\n",
            "1x + 1y + 2z = 102,500\n",
            "2x + 4y + 10z = 412,000\n",
            "11x + 2y + 5z = 456,000\n",
            "\n",
            "Possibility number-51\n",
            "System of equations with:\n",
            "a = 1, b = 1, c = 2,\n",
            "d = 2, e = 4, f = 10,\n",
            "g = 11, h = 2, i = 6,\n",
            "x = 25,000, y = 25,500, z = 26,000\n",
            "--------------------------------------------------\n",
            "The system of equations is:\n",
            "1x + 1y + 2z = 102,500\n",
            "2x + 4y + 10z = 412,000\n",
            "11x + 2y + 6z = 482,000\n",
            "\n",
            "Possibility number-52\n",
            "System of equations with:\n",
            "a = 1, b = 1, c = 2,\n",
            "d = 2, e = 4, f = 10,\n",
            "g = 11, h = 3, i = 4,\n",
            "x = 25,000, y = 25,500, z = 26,000\n",
            "--------------------------------------------------\n",
            "The system of equations is:\n",
            "1x + 1y + 2z = 102,500\n",
            "2x + 4y + 10z = 412,000\n",
            "11x + 3y + 4z = 455,500\n",
            "\n",
            "Possibility number-53\n",
            "System of equations with:\n",
            "a = 1, b = 1, c = 2,\n",
            "d = 2, e = 4, f = 10,\n",
            "g = 11, h = 3, i = 5,\n",
            "x = 25,000, y = 25,500, z = 26,000\n",
            "--------------------------------------------------\n",
            "The system of equations is:\n",
            "1x + 1y + 2z = 102,500\n",
            "2x + 4y + 10z = 412,000\n",
            "11x + 3y + 5z = 481,500\n",
            "\n",
            "Possibility number-54\n",
            "System of equations with:\n",
            "a = 1, b = 1, c = 2,\n",
            "d = 2, e = 4, f = 10,\n",
            "g = 11, h = 3, i = 6,\n",
            "x = 25,000, y = 25,500, z = 26,000\n",
            "--------------------------------------------------\n",
            "The system of equations is:\n",
            "1x + 1y + 2z = 102,500\n",
            "2x + 4y + 10z = 412,000\n",
            "11x + 3y + 6z = 507,500\n",
            "\n",
            "Possibility number-55\n",
            "System of equations with:\n",
            "a = 1, b = 1, c = 2,\n",
            "d = 3, e = 4, f = 7,\n",
            "g = 5, h = 2, i = 4,\n",
            "x = 25,000, y = 25,500, z = 26,000\n",
            "--------------------------------------------------\n",
            "The system of equations is:\n",
            "1x + 1y + 2z = 102,500\n",
            "3x + 4y + 7z = 359,000\n",
            "5x + 2y + 4z = 280,000\n",
            "\n",
            "Possibility number-56\n",
            "System of equations with:\n",
            "a = 1, b = 1, c = 2,\n",
            "d = 3, e = 4, f = 7,\n",
            "g = 5, h = 2, i = 5,\n",
            "x = 25,000, y = 25,500, z = 26,000\n",
            "--------------------------------------------------\n",
            "The system of equations is:\n",
            "1x + 1y + 2z = 102,500\n",
            "3x + 4y + 7z = 359,000\n",
            "5x + 2y + 5z = 306,000\n",
            "\n",
            "Possibility number-57\n",
            "System of equations with:\n",
            "a = 1, b = 1, c = 2,\n",
            "d = 3, e = 4, f = 7,\n",
            "g = 5, h = 2, i = 6,\n",
            "x = 25,000, y = 25,500, z = 26,000\n",
            "--------------------------------------------------\n",
            "The system of equations is:\n",
            "1x + 1y + 2z = 102,500\n",
            "3x + 4y + 7z = 359,000\n",
            "5x + 2y + 6z = 332,000\n",
            "\n",
            "Possibility number-58\n",
            "System of equations with:\n",
            "a = 1, b = 1, c = 2,\n",
            "d = 3, e = 4, f = 7,\n",
            "g = 5, h = 3, i = 4,\n",
            "x = 25,000, y = 25,500, z = 26,000\n",
            "--------------------------------------------------\n",
            "The system of equations is:\n",
            "1x + 1y + 2z = 102,500\n",
            "3x + 4y + 7z = 359,000\n",
            "5x + 3y + 4z = 305,500\n",
            "\n",
            "Possibility number-59\n",
            "System of equations with:\n",
            "a = 1, b = 1, c = 2,\n",
            "d = 3, e = 4, f = 7,\n",
            "g = 5, h = 3, i = 5,\n",
            "x = 25,000, y = 25,500, z = 26,000\n",
            "--------------------------------------------------\n",
            "The system of equations is:\n",
            "1x + 1y + 2z = 102,500\n",
            "3x + 4y + 7z = 359,000\n",
            "5x + 3y + 5z = 331,500\n",
            "\n",
            "Possibility number-60\n",
            "System of equations with:\n",
            "a = 1, b = 1, c = 2,\n",
            "d = 3, e = 4, f = 7,\n",
            "g = 5, h = 3, i = 6,\n",
            "x = 25,000, y = 25,500, z = 26,000\n",
            "--------------------------------------------------\n",
            "The system of equations is:\n",
            "1x + 1y + 2z = 102,500\n",
            "3x + 4y + 7z = 359,000\n",
            "5x + 3y + 6z = 357,500\n",
            "\n",
            "Possibility number-61\n",
            "System of equations with:\n",
            "a = 1, b = 1, c = 2,\n",
            "d = 3, e = 4, f = 7,\n",
            "g = 9, h = 2, i = 4,\n",
            "x = 25,000, y = 25,500, z = 26,000\n",
            "--------------------------------------------------\n",
            "The system of equations is:\n",
            "1x + 1y + 2z = 102,500\n",
            "3x + 4y + 7z = 359,000\n",
            "9x + 2y + 4z = 380,000\n",
            "\n",
            "Possibility number-62\n",
            "System of equations with:\n",
            "a = 1, b = 1, c = 2,\n",
            "d = 3, e = 4, f = 7,\n",
            "g = 9, h = 2, i = 5,\n",
            "x = 25,000, y = 25,500, z = 26,000\n",
            "--------------------------------------------------\n",
            "The system of equations is:\n",
            "1x + 1y + 2z = 102,500\n",
            "3x + 4y + 7z = 359,000\n",
            "9x + 2y + 5z = 406,000\n",
            "\n",
            "Possibility number-63\n",
            "System of equations with:\n",
            "a = 1, b = 1, c = 2,\n",
            "d = 3, e = 4, f = 7,\n",
            "g = 9, h = 2, i = 6,\n",
            "x = 25,000, y = 25,500, z = 26,000\n",
            "--------------------------------------------------\n",
            "The system of equations is:\n",
            "1x + 1y + 2z = 102,500\n",
            "3x + 4y + 7z = 359,000\n",
            "9x + 2y + 6z = 432,000\n",
            "\n",
            "Possibility number-64\n",
            "System of equations with:\n",
            "a = 1, b = 1, c = 2,\n",
            "d = 3, e = 4, f = 7,\n",
            "g = 9, h = 3, i = 4,\n",
            "x = 25,000, y = 25,500, z = 26,000\n",
            "--------------------------------------------------\n",
            "The system of equations is:\n",
            "1x + 1y + 2z = 102,500\n",
            "3x + 4y + 7z = 359,000\n",
            "9x + 3y + 4z = 405,500\n",
            "\n",
            "Possibility number-65\n",
            "System of equations with:\n",
            "a = 1, b = 1, c = 2,\n",
            "d = 3, e = 4, f = 7,\n",
            "g = 9, h = 3, i = 5,\n",
            "x = 25,000, y = 25,500, z = 26,000\n",
            "--------------------------------------------------\n",
            "The system of equations is:\n",
            "1x + 1y + 2z = 102,500\n",
            "3x + 4y + 7z = 359,000\n",
            "9x + 3y + 5z = 431,500\n",
            "\n",
            "Possibility number-66\n",
            "System of equations with:\n",
            "a = 1, b = 1, c = 2,\n",
            "d = 3, e = 4, f = 7,\n",
            "g = 9, h = 3, i = 6,\n",
            "x = 25,000, y = 25,500, z = 26,000\n",
            "--------------------------------------------------\n",
            "The system of equations is:\n",
            "1x + 1y + 2z = 102,500\n",
            "3x + 4y + 7z = 359,000\n",
            "9x + 3y + 6z = 457,500\n",
            "\n",
            "Possibility number-67\n",
            "System of equations with:\n",
            "a = 1, b = 1, c = 2,\n",
            "d = 3, e = 4, f = 7,\n",
            "g = 11, h = 2, i = 4,\n",
            "x = 25,000, y = 25,500, z = 26,000\n",
            "--------------------------------------------------\n",
            "The system of equations is:\n",
            "1x + 1y + 2z = 102,500\n",
            "3x + 4y + 7z = 359,000\n",
            "11x + 2y + 4z = 430,000\n",
            "\n",
            "Possibility number-68\n",
            "System of equations with:\n",
            "a = 1, b = 1, c = 2,\n",
            "d = 3, e = 4, f = 7,\n",
            "g = 11, h = 2, i = 5,\n",
            "x = 25,000, y = 25,500, z = 26,000\n",
            "--------------------------------------------------\n",
            "The system of equations is:\n",
            "1x + 1y + 2z = 102,500\n",
            "3x + 4y + 7z = 359,000\n",
            "11x + 2y + 5z = 456,000\n",
            "\n",
            "Possibility number-69\n",
            "System of equations with:\n",
            "a = 1, b = 1, c = 2,\n",
            "d = 3, e = 4, f = 7,\n",
            "g = 11, h = 2, i = 6,\n",
            "x = 25,000, y = 25,500, z = 26,000\n",
            "--------------------------------------------------\n",
            "The system of equations is:\n",
            "1x + 1y + 2z = 102,500\n",
            "3x + 4y + 7z = 359,000\n",
            "11x + 2y + 6z = 482,000\n",
            "\n",
            "Possibility number-70\n",
            "System of equations with:\n",
            "a = 1, b = 1, c = 2,\n",
            "d = 3, e = 4, f = 7,\n",
            "g = 11, h = 3, i = 4,\n",
            "x = 25,000, y = 25,500, z = 26,000\n",
            "--------------------------------------------------\n",
            "The system of equations is:\n",
            "1x + 1y + 2z = 102,500\n",
            "3x + 4y + 7z = 359,000\n",
            "11x + 3y + 4z = 455,500\n",
            "\n",
            "Possibility number-71\n",
            "System of equations with:\n",
            "a = 1, b = 1, c = 2,\n",
            "d = 3, e = 4, f = 7,\n",
            "g = 11, h = 3, i = 5,\n",
            "x = 25,000, y = 25,500, z = 26,000\n",
            "--------------------------------------------------\n",
            "The system of equations is:\n",
            "1x + 1y + 2z = 102,500\n",
            "3x + 4y + 7z = 359,000\n",
            "11x + 3y + 5z = 481,500\n",
            "\n",
            "Possibility number-72\n",
            "System of equations with:\n",
            "a = 1, b = 1, c = 2,\n",
            "d = 3, e = 4, f = 7,\n",
            "g = 11, h = 3, i = 6,\n",
            "x = 25,000, y = 25,500, z = 26,000\n",
            "--------------------------------------------------\n",
            "The system of equations is:\n",
            "1x + 1y + 2z = 102,500\n",
            "3x + 4y + 7z = 359,000\n",
            "11x + 3y + 6z = 507,500\n",
            "\n",
            "Possibility number-73\n",
            "System of equations with:\n",
            "a = 1, b = 1, c = 2,\n",
            "d = 3, e = 4, f = 8,\n",
            "g = 5, h = 2, i = 4,\n",
            "x = 25,000, y = 25,500, z = 26,000\n",
            "--------------------------------------------------\n",
            "The system of equations is:\n",
            "1x + 1y + 2z = 102,500\n",
            "3x + 4y + 8z = 385,000\n",
            "5x + 2y + 4z = 280,000\n",
            "\n",
            "Possibility number-74\n",
            "System of equations with:\n",
            "a = 1, b = 1, c = 2,\n",
            "d = 3, e = 4, f = 8,\n",
            "g = 5, h = 2, i = 5,\n",
            "x = 25,000, y = 25,500, z = 26,000\n",
            "--------------------------------------------------\n",
            "The system of equations is:\n",
            "1x + 1y + 2z = 102,500\n",
            "3x + 4y + 8z = 385,000\n",
            "5x + 2y + 5z = 306,000\n",
            "\n",
            "Possibility number-75\n",
            "System of equations with:\n",
            "a = 1, b = 1, c = 2,\n",
            "d = 3, e = 4, f = 8,\n",
            "g = 5, h = 2, i = 6,\n",
            "x = 25,000, y = 25,500, z = 26,000\n",
            "--------------------------------------------------\n",
            "The system of equations is:\n",
            "1x + 1y + 2z = 102,500\n",
            "3x + 4y + 8z = 385,000\n",
            "5x + 2y + 6z = 332,000\n",
            "\n",
            "Possibility number-76\n",
            "System of equations with:\n",
            "a = 1, b = 1, c = 2,\n",
            "d = 3, e = 4, f = 8,\n",
            "g = 5, h = 3, i = 4,\n",
            "x = 25,000, y = 25,500, z = 26,000\n",
            "--------------------------------------------------\n",
            "The system of equations is:\n",
            "1x + 1y + 2z = 102,500\n",
            "3x + 4y + 8z = 385,000\n",
            "5x + 3y + 4z = 305,500\n",
            "\n",
            "Possibility number-77\n",
            "System of equations with:\n",
            "a = 1, b = 1, c = 2,\n",
            "d = 3, e = 4, f = 8,\n",
            "g = 5, h = 3, i = 5,\n",
            "x = 25,000, y = 25,500, z = 26,000\n",
            "--------------------------------------------------\n",
            "The system of equations is:\n",
            "1x + 1y + 2z = 102,500\n",
            "3x + 4y + 8z = 385,000\n",
            "5x + 3y + 5z = 331,500\n",
            "\n",
            "Possibility number-78\n",
            "System of equations with:\n",
            "a = 1, b = 1, c = 2,\n",
            "d = 3, e = 4, f = 8,\n",
            "g = 5, h = 3, i = 6,\n",
            "x = 25,000, y = 25,500, z = 26,000\n",
            "--------------------------------------------------\n",
            "The system of equations is:\n",
            "1x + 1y + 2z = 102,500\n",
            "3x + 4y + 8z = 385,000\n",
            "5x + 3y + 6z = 357,500\n",
            "\n",
            "Possibility number-79\n",
            "System of equations with:\n",
            "a = 1, b = 1, c = 2,\n",
            "d = 3, e = 4, f = 8,\n",
            "g = 9, h = 2, i = 4,\n",
            "x = 25,000, y = 25,500, z = 26,000\n",
            "--------------------------------------------------\n",
            "The system of equations is:\n",
            "1x + 1y + 2z = 102,500\n",
            "3x + 4y + 8z = 385,000\n",
            "9x + 2y + 4z = 380,000\n",
            "\n",
            "Possibility number-80\n",
            "System of equations with:\n",
            "a = 1, b = 1, c = 2,\n",
            "d = 3, e = 4, f = 8,\n",
            "g = 9, h = 2, i = 5,\n",
            "x = 25,000, y = 25,500, z = 26,000\n",
            "--------------------------------------------------\n",
            "The system of equations is:\n",
            "1x + 1y + 2z = 102,500\n",
            "3x + 4y + 8z = 385,000\n",
            "9x + 2y + 5z = 406,000\n",
            "\n",
            "Possibility number-81\n",
            "System of equations with:\n",
            "a = 1, b = 1, c = 2,\n",
            "d = 3, e = 4, f = 8,\n",
            "g = 9, h = 2, i = 6,\n",
            "x = 25,000, y = 25,500, z = 26,000\n",
            "--------------------------------------------------\n",
            "The system of equations is:\n",
            "1x + 1y + 2z = 102,500\n",
            "3x + 4y + 8z = 385,000\n",
            "9x + 2y + 6z = 432,000\n",
            "\n",
            "Possibility number-82\n",
            "System of equations with:\n",
            "a = 1, b = 1, c = 2,\n",
            "d = 3, e = 4, f = 8,\n",
            "g = 9, h = 3, i = 4,\n",
            "x = 25,000, y = 25,500, z = 26,000\n",
            "--------------------------------------------------\n",
            "The system of equations is:\n",
            "1x + 1y + 2z = 102,500\n",
            "3x + 4y + 8z = 385,000\n",
            "9x + 3y + 4z = 405,500\n",
            "\n",
            "Possibility number-83\n",
            "System of equations with:\n",
            "a = 1, b = 1, c = 2,\n",
            "d = 3, e = 4, f = 8,\n",
            "g = 9, h = 3, i = 5,\n",
            "x = 25,000, y = 25,500, z = 26,000\n",
            "--------------------------------------------------\n",
            "The system of equations is:\n",
            "1x + 1y + 2z = 102,500\n",
            "3x + 4y + 8z = 385,000\n",
            "9x + 3y + 5z = 431,500\n",
            "\n",
            "Possibility number-84\n",
            "System of equations with:\n",
            "a = 1, b = 1, c = 2,\n",
            "d = 3, e = 4, f = 8,\n",
            "g = 9, h = 3, i = 6,\n",
            "x = 25,000, y = 25,500, z = 26,000\n",
            "--------------------------------------------------\n",
            "The system of equations is:\n",
            "1x + 1y + 2z = 102,500\n",
            "3x + 4y + 8z = 385,000\n",
            "9x + 3y + 6z = 457,500\n",
            "\n",
            "Possibility number-85\n",
            "System of equations with:\n",
            "a = 1, b = 1, c = 2,\n",
            "d = 3, e = 4, f = 8,\n",
            "g = 11, h = 2, i = 4,\n",
            "x = 25,000, y = 25,500, z = 26,000\n",
            "--------------------------------------------------\n",
            "The system of equations is:\n",
            "1x + 1y + 2z = 102,500\n",
            "3x + 4y + 8z = 385,000\n",
            "11x + 2y + 4z = 430,000\n",
            "\n",
            "Possibility number-86\n",
            "System of equations with:\n",
            "a = 1, b = 1, c = 2,\n",
            "d = 3, e = 4, f = 8,\n",
            "g = 11, h = 2, i = 5,\n",
            "x = 25,000, y = 25,500, z = 26,000\n",
            "--------------------------------------------------\n",
            "The system of equations is:\n",
            "1x + 1y + 2z = 102,500\n",
            "3x + 4y + 8z = 385,000\n",
            "11x + 2y + 5z = 456,000\n",
            "\n",
            "Possibility number-87\n",
            "System of equations with:\n",
            "a = 1, b = 1, c = 2,\n",
            "d = 3, e = 4, f = 8,\n",
            "g = 11, h = 2, i = 6,\n",
            "x = 25,000, y = 25,500, z = 26,000\n",
            "--------------------------------------------------\n",
            "The system of equations is:\n",
            "1x + 1y + 2z = 102,500\n",
            "3x + 4y + 8z = 385,000\n",
            "11x + 2y + 6z = 482,000\n",
            "\n",
            "Possibility number-88\n",
            "System of equations with:\n",
            "a = 1, b = 1, c = 2,\n",
            "d = 3, e = 4, f = 8,\n",
            "g = 11, h = 3, i = 4,\n",
            "x = 25,000, y = 25,500, z = 26,000\n",
            "--------------------------------------------------\n",
            "The system of equations is:\n",
            "1x + 1y + 2z = 102,500\n",
            "3x + 4y + 8z = 385,000\n",
            "11x + 3y + 4z = 455,500\n",
            "\n",
            "Possibility number-89\n",
            "System of equations with:\n",
            "a = 1, b = 1, c = 2,\n",
            "d = 3, e = 4, f = 8,\n",
            "g = 11, h = 3, i = 5,\n",
            "x = 25,000, y = 25,500, z = 26,000\n",
            "--------------------------------------------------\n",
            "The system of equations is:\n",
            "1x + 1y + 2z = 102,500\n",
            "3x + 4y + 8z = 385,000\n",
            "11x + 3y + 5z = 481,500\n",
            "\n",
            "Possibility number-90\n",
            "System of equations with:\n",
            "a = 1, b = 1, c = 2,\n",
            "d = 3, e = 4, f = 8,\n",
            "g = 11, h = 3, i = 6,\n",
            "x = 25,000, y = 25,500, z = 26,000\n",
            "--------------------------------------------------\n",
            "The system of equations is:\n",
            "1x + 1y + 2z = 102,500\n",
            "3x + 4y + 8z = 385,000\n",
            "11x + 3y + 6z = 507,500\n",
            "\n",
            "Possibility number-91\n",
            "System of equations with:\n",
            "a = 1, b = 1, c = 2,\n",
            "d = 3, e = 4, f = 10,\n",
            "g = 5, h = 2, i = 4,\n",
            "x = 25,000, y = 25,500, z = 26,000\n",
            "--------------------------------------------------\n",
            "The system of equations is:\n",
            "1x + 1y + 2z = 102,500\n",
            "3x + 4y + 10z = 437,000\n",
            "5x + 2y + 4z = 280,000\n",
            "\n",
            "Possibility number-92\n",
            "System of equations with:\n",
            "a = 1, b = 1, c = 2,\n",
            "d = 3, e = 4, f = 10,\n",
            "g = 5, h = 2, i = 5,\n",
            "x = 25,000, y = 25,500, z = 26,000\n",
            "--------------------------------------------------\n",
            "The system of equations is:\n",
            "1x + 1y + 2z = 102,500\n",
            "3x + 4y + 10z = 437,000\n",
            "5x + 2y + 5z = 306,000\n",
            "\n",
            "Possibility number-93\n",
            "System of equations with:\n",
            "a = 1, b = 1, c = 2,\n",
            "d = 3, e = 4, f = 10,\n",
            "g = 5, h = 2, i = 6,\n",
            "x = 25,000, y = 25,500, z = 26,000\n",
            "--------------------------------------------------\n",
            "The system of equations is:\n",
            "1x + 1y + 2z = 102,500\n",
            "3x + 4y + 10z = 437,000\n",
            "5x + 2y + 6z = 332,000\n",
            "\n",
            "Possibility number-94\n",
            "System of equations with:\n",
            "a = 1, b = 1, c = 2,\n",
            "d = 3, e = 4, f = 10,\n",
            "g = 5, h = 3, i = 4,\n",
            "x = 25,000, y = 25,500, z = 26,000\n",
            "--------------------------------------------------\n",
            "The system of equations is:\n",
            "1x + 1y + 2z = 102,500\n",
            "3x + 4y + 10z = 437,000\n",
            "5x + 3y + 4z = 305,500\n",
            "\n",
            "Possibility number-95\n",
            "System of equations with:\n",
            "a = 1, b = 1, c = 2,\n",
            "d = 3, e = 4, f = 10,\n",
            "g = 5, h = 3, i = 5,\n",
            "x = 25,000, y = 25,500, z = 26,000\n",
            "--------------------------------------------------\n",
            "The system of equations is:\n",
            "1x + 1y + 2z = 102,500\n",
            "3x + 4y + 10z = 437,000\n",
            "5x + 3y + 5z = 331,500\n",
            "\n",
            "Possibility number-96\n",
            "System of equations with:\n",
            "a = 1, b = 1, c = 2,\n",
            "d = 3, e = 4, f = 10,\n",
            "g = 5, h = 3, i = 6,\n",
            "x = 25,000, y = 25,500, z = 26,000\n",
            "--------------------------------------------------\n",
            "The system of equations is:\n",
            "1x + 1y + 2z = 102,500\n",
            "3x + 4y + 10z = 437,000\n",
            "5x + 3y + 6z = 357,500\n",
            "\n",
            "Possibility number-97\n",
            "System of equations with:\n",
            "a = 1, b = 1, c = 2,\n",
            "d = 3, e = 4, f = 10,\n",
            "g = 9, h = 2, i = 4,\n",
            "x = 25,000, y = 25,500, z = 26,000\n",
            "--------------------------------------------------\n",
            "The system of equations is:\n",
            "1x + 1y + 2z = 102,500\n",
            "3x + 4y + 10z = 437,000\n",
            "9x + 2y + 4z = 380,000\n",
            "\n",
            "Possibility number-98\n",
            "System of equations with:\n",
            "a = 1, b = 1, c = 2,\n",
            "d = 3, e = 4, f = 10,\n",
            "g = 9, h = 2, i = 5,\n",
            "x = 25,000, y = 25,500, z = 26,000\n",
            "--------------------------------------------------\n",
            "The system of equations is:\n",
            "1x + 1y + 2z = 102,500\n",
            "3x + 4y + 10z = 437,000\n",
            "9x + 2y + 5z = 406,000\n",
            "\n",
            "Possibility number-99\n",
            "System of equations with:\n",
            "a = 1, b = 1, c = 2,\n",
            "d = 3, e = 4, f = 10,\n",
            "g = 9, h = 2, i = 6,\n",
            "x = 25,000, y = 25,500, z = 26,000\n",
            "--------------------------------------------------\n",
            "The system of equations is:\n",
            "1x + 1y + 2z = 102,500\n",
            "3x + 4y + 10z = 437,000\n",
            "9x + 2y + 6z = 432,000\n",
            "\n",
            "Possibility number-100\n",
            "System of equations with:\n",
            "a = 1, b = 1, c = 2,\n",
            "d = 3, e = 4, f = 10,\n",
            "g = 9, h = 3, i = 4,\n",
            "x = 25,000, y = 25,500, z = 26,000\n",
            "--------------------------------------------------\n",
            "The system of equations is:\n",
            "1x + 1y + 2z = 102,500\n",
            "3x + 4y + 10z = 437,000\n",
            "9x + 3y + 4z = 405,500\n",
            "\n",
            "Possibility number-101\n",
            "System of equations with:\n",
            "a = 1, b = 1, c = 2,\n",
            "d = 3, e = 4, f = 10,\n",
            "g = 9, h = 3, i = 5,\n",
            "x = 25,000, y = 25,500, z = 26,000\n",
            "--------------------------------------------------\n",
            "The system of equations is:\n",
            "1x + 1y + 2z = 102,500\n",
            "3x + 4y + 10z = 437,000\n",
            "9x + 3y + 5z = 431,500\n",
            "\n",
            "Possibility number-102\n",
            "System of equations with:\n",
            "a = 1, b = 1, c = 2,\n",
            "d = 3, e = 4, f = 10,\n",
            "g = 9, h = 3, i = 6,\n",
            "x = 25,000, y = 25,500, z = 26,000\n",
            "--------------------------------------------------\n",
            "The system of equations is:\n",
            "1x + 1y + 2z = 102,500\n",
            "3x + 4y + 10z = 437,000\n",
            "9x + 3y + 6z = 457,500\n",
            "\n",
            "Possibility number-103\n",
            "System of equations with:\n",
            "a = 1, b = 1, c = 2,\n",
            "d = 3, e = 4, f = 10,\n",
            "g = 11, h = 2, i = 4,\n",
            "x = 25,000, y = 25,500, z = 26,000\n",
            "--------------------------------------------------\n",
            "The system of equations is:\n",
            "1x + 1y + 2z = 102,500\n",
            "3x + 4y + 10z = 437,000\n",
            "11x + 2y + 4z = 430,000\n",
            "\n",
            "Possibility number-104\n",
            "System of equations with:\n",
            "a = 1, b = 1, c = 2,\n",
            "d = 3, e = 4, f = 10,\n",
            "g = 11, h = 2, i = 5,\n",
            "x = 25,000, y = 25,500, z = 26,000\n",
            "--------------------------------------------------\n",
            "The system of equations is:\n",
            "1x + 1y + 2z = 102,500\n",
            "3x + 4y + 10z = 437,000\n",
            "11x + 2y + 5z = 456,000\n",
            "\n",
            "Possibility number-105\n",
            "System of equations with:\n",
            "a = 1, b = 1, c = 2,\n",
            "d = 3, e = 4, f = 10,\n",
            "g = 11, h = 2, i = 6,\n",
            "x = 25,000, y = 25,500, z = 26,000\n",
            "--------------------------------------------------\n",
            "The system of equations is:\n",
            "1x + 1y + 2z = 102,500\n",
            "3x + 4y + 10z = 437,000\n",
            "11x + 2y + 6z = 482,000\n",
            "\n",
            "Possibility number-106\n",
            "System of equations with:\n",
            "a = 1, b = 1, c = 2,\n",
            "d = 3, e = 4, f = 10,\n",
            "g = 11, h = 3, i = 4,\n",
            "x = 25,000, y = 25,500, z = 26,000\n",
            "--------------------------------------------------\n",
            "The system of equations is:\n",
            "1x + 1y + 2z = 102,500\n",
            "3x + 4y + 10z = 437,000\n",
            "11x + 3y + 4z = 455,500\n",
            "\n",
            "Possibility number-107\n",
            "System of equations with:\n",
            "a = 1, b = 1, c = 2,\n",
            "d = 3, e = 4, f = 10,\n",
            "g = 11, h = 3, i = 5,\n",
            "x = 25,000, y = 25,500, z = 26,000\n",
            "--------------------------------------------------\n",
            "The system of equations is:\n",
            "1x + 1y + 2z = 102,500\n",
            "3x + 4y + 10z = 437,000\n",
            "11x + 3y + 5z = 481,500\n",
            "\n",
            "Possibility number-108\n",
            "System of equations with:\n",
            "a = 1, b = 1, c = 2,\n",
            "d = 3, e = 4, f = 10,\n",
            "g = 11, h = 3, i = 6,\n",
            "x = 25,000, y = 25,500, z = 26,000\n",
            "--------------------------------------------------\n",
            "The system of equations is:\n",
            "1x + 1y + 2z = 102,500\n",
            "3x + 4y + 10z = 437,000\n",
            "11x + 3y + 6z = 507,500\n",
            "\n",
            "Possibility number-109\n",
            "System of equations with:\n",
            "a = 1, b = 1, c = 3,\n",
            "d = 2, e = 4, f = 7,\n",
            "g = 5, h = 2, i = 4,\n",
            "x = 25,000, y = 25,500, z = 26,000\n",
            "--------------------------------------------------\n",
            "The system of equations is:\n",
            "1x + 1y + 3z = 128,500\n",
            "2x + 4y + 7z = 334,000\n",
            "5x + 2y + 4z = 280,000\n",
            "\n",
            "Possibility number-110\n",
            "System of equations with:\n",
            "a = 1, b = 1, c = 3,\n",
            "d = 2, e = 4, f = 7,\n",
            "g = 5, h = 2, i = 5,\n",
            "x = 25,000, y = 25,500, z = 26,000\n",
            "--------------------------------------------------\n",
            "The system of equations is:\n",
            "1x + 1y + 3z = 128,500\n",
            "2x + 4y + 7z = 334,000\n",
            "5x + 2y + 5z = 306,000\n",
            "\n",
            "Possibility number-111\n",
            "System of equations with:\n",
            "a = 1, b = 1, c = 3,\n",
            "d = 2, e = 4, f = 7,\n",
            "g = 5, h = 2, i = 6,\n",
            "x = 25,000, y = 25,500, z = 26,000\n",
            "--------------------------------------------------\n",
            "The system of equations is:\n",
            "1x + 1y + 3z = 128,500\n",
            "2x + 4y + 7z = 334,000\n",
            "5x + 2y + 6z = 332,000\n",
            "\n",
            "Possibility number-112\n",
            "System of equations with:\n",
            "a = 1, b = 1, c = 3,\n",
            "d = 2, e = 4, f = 7,\n",
            "g = 5, h = 3, i = 4,\n",
            "x = 25,000, y = 25,500, z = 26,000\n",
            "--------------------------------------------------\n",
            "The system of equations is:\n",
            "1x + 1y + 3z = 128,500\n",
            "2x + 4y + 7z = 334,000\n",
            "5x + 3y + 4z = 305,500\n",
            "\n",
            "Possibility number-113\n",
            "System of equations with:\n",
            "a = 1, b = 1, c = 3,\n",
            "d = 2, e = 4, f = 7,\n",
            "g = 5, h = 3, i = 5,\n",
            "x = 25,000, y = 25,500, z = 26,000\n",
            "--------------------------------------------------\n",
            "The system of equations is:\n",
            "1x + 1y + 3z = 128,500\n",
            "2x + 4y + 7z = 334,000\n",
            "5x + 3y + 5z = 331,500\n",
            "\n",
            "Possibility number-114\n",
            "System of equations with:\n",
            "a = 1, b = 1, c = 3,\n",
            "d = 2, e = 4, f = 7,\n",
            "g = 5, h = 3, i = 6,\n",
            "x = 25,000, y = 25,500, z = 26,000\n",
            "--------------------------------------------------\n",
            "The system of equations is:\n",
            "1x + 1y + 3z = 128,500\n",
            "2x + 4y + 7z = 334,000\n",
            "5x + 3y + 6z = 357,500\n",
            "\n",
            "Possibility number-115\n",
            "System of equations with:\n",
            "a = 1, b = 1, c = 3,\n",
            "d = 2, e = 4, f = 7,\n",
            "g = 9, h = 2, i = 4,\n",
            "x = 25,000, y = 25,500, z = 26,000\n",
            "--------------------------------------------------\n",
            "The system of equations is:\n",
            "1x + 1y + 3z = 128,500\n",
            "2x + 4y + 7z = 334,000\n",
            "9x + 2y + 4z = 380,000\n",
            "\n",
            "Possibility number-116\n",
            "System of equations with:\n",
            "a = 1, b = 1, c = 3,\n",
            "d = 2, e = 4, f = 7,\n",
            "g = 9, h = 2, i = 5,\n",
            "x = 25,000, y = 25,500, z = 26,000\n",
            "--------------------------------------------------\n",
            "The system of equations is:\n",
            "1x + 1y + 3z = 128,500\n",
            "2x + 4y + 7z = 334,000\n",
            "9x + 2y + 5z = 406,000\n",
            "\n",
            "Possibility number-117\n",
            "System of equations with:\n",
            "a = 1, b = 1, c = 3,\n",
            "d = 2, e = 4, f = 7,\n",
            "g = 9, h = 2, i = 6,\n",
            "x = 25,000, y = 25,500, z = 26,000\n",
            "--------------------------------------------------\n",
            "The system of equations is:\n",
            "1x + 1y + 3z = 128,500\n",
            "2x + 4y + 7z = 334,000\n",
            "9x + 2y + 6z = 432,000\n",
            "\n",
            "Possibility number-118\n",
            "System of equations with:\n",
            "a = 1, b = 1, c = 3,\n",
            "d = 2, e = 4, f = 7,\n",
            "g = 9, h = 3, i = 4,\n",
            "x = 25,000, y = 25,500, z = 26,000\n",
            "--------------------------------------------------\n",
            "The system of equations is:\n",
            "1x + 1y + 3z = 128,500\n",
            "2x + 4y + 7z = 334,000\n",
            "9x + 3y + 4z = 405,500\n",
            "\n",
            "Possibility number-119\n",
            "System of equations with:\n",
            "a = 1, b = 1, c = 3,\n",
            "d = 2, e = 4, f = 7,\n",
            "g = 9, h = 3, i = 5,\n",
            "x = 25,000, y = 25,500, z = 26,000\n",
            "--------------------------------------------------\n",
            "The system of equations is:\n",
            "1x + 1y + 3z = 128,500\n",
            "2x + 4y + 7z = 334,000\n",
            "9x + 3y + 5z = 431,500\n",
            "\n",
            "Possibility number-120\n",
            "System of equations with:\n",
            "a = 1, b = 1, c = 3,\n",
            "d = 2, e = 4, f = 7,\n",
            "g = 9, h = 3, i = 6,\n",
            "x = 25,000, y = 25,500, z = 26,000\n",
            "--------------------------------------------------\n",
            "The system of equations is:\n",
            "1x + 1y + 3z = 128,500\n",
            "2x + 4y + 7z = 334,000\n",
            "9x + 3y + 6z = 457,500\n",
            "\n",
            "Possibility number-121\n",
            "System of equations with:\n",
            "a = 1, b = 1, c = 3,\n",
            "d = 2, e = 4, f = 7,\n",
            "g = 11, h = 2, i = 4,\n",
            "x = 25,000, y = 25,500, z = 26,000\n",
            "--------------------------------------------------\n",
            "The system of equations is:\n",
            "1x + 1y + 3z = 128,500\n",
            "2x + 4y + 7z = 334,000\n",
            "11x + 2y + 4z = 430,000\n",
            "\n",
            "Possibility number-122\n",
            "System of equations with:\n",
            "a = 1, b = 1, c = 3,\n",
            "d = 2, e = 4, f = 7,\n",
            "g = 11, h = 2, i = 5,\n",
            "x = 25,000, y = 25,500, z = 26,000\n",
            "--------------------------------------------------\n",
            "The system of equations is:\n",
            "1x + 1y + 3z = 128,500\n",
            "2x + 4y + 7z = 334,000\n",
            "11x + 2y + 5z = 456,000\n",
            "\n",
            "Possibility number-123\n",
            "System of equations with:\n",
            "a = 1, b = 1, c = 3,\n",
            "d = 2, e = 4, f = 7,\n",
            "g = 11, h = 2, i = 6,\n",
            "x = 25,000, y = 25,500, z = 26,000\n",
            "--------------------------------------------------\n",
            "The system of equations is:\n",
            "1x + 1y + 3z = 128,500\n",
            "2x + 4y + 7z = 334,000\n",
            "11x + 2y + 6z = 482,000\n",
            "\n",
            "Possibility number-124\n",
            "System of equations with:\n",
            "a = 1, b = 1, c = 3,\n",
            "d = 2, e = 4, f = 7,\n",
            "g = 11, h = 3, i = 4,\n",
            "x = 25,000, y = 25,500, z = 26,000\n",
            "--------------------------------------------------\n",
            "The system of equations is:\n",
            "1x + 1y + 3z = 128,500\n",
            "2x + 4y + 7z = 334,000\n",
            "11x + 3y + 4z = 455,500\n",
            "\n",
            "Possibility number-125\n",
            "System of equations with:\n",
            "a = 1, b = 1, c = 3,\n",
            "d = 2, e = 4, f = 7,\n",
            "g = 11, h = 3, i = 5,\n",
            "x = 25,000, y = 25,500, z = 26,000\n",
            "--------------------------------------------------\n",
            "The system of equations is:\n",
            "1x + 1y + 3z = 128,500\n",
            "2x + 4y + 7z = 334,000\n",
            "11x + 3y + 5z = 481,500\n",
            "\n",
            "Possibility number-126\n",
            "System of equations with:\n",
            "a = 1, b = 1, c = 3,\n",
            "d = 2, e = 4, f = 7,\n",
            "g = 11, h = 3, i = 6,\n",
            "x = 25,000, y = 25,500, z = 26,000\n",
            "--------------------------------------------------\n",
            "The system of equations is:\n",
            "1x + 1y + 3z = 128,500\n",
            "2x + 4y + 7z = 334,000\n",
            "11x + 3y + 6z = 507,500\n",
            "\n",
            "Possibility number-127\n",
            "System of equations with:\n",
            "a = 1, b = 1, c = 3,\n",
            "d = 2, e = 4, f = 8,\n",
            "g = 5, h = 2, i = 4,\n",
            "x = 25,000, y = 25,500, z = 26,000\n",
            "--------------------------------------------------\n",
            "The system of equations is:\n",
            "1x + 1y + 3z = 128,500\n",
            "2x + 4y + 8z = 360,000\n",
            "5x + 2y + 4z = 280,000\n",
            "\n",
            "Possibility number-128\n",
            "System of equations with:\n",
            "a = 1, b = 1, c = 3,\n",
            "d = 2, e = 4, f = 8,\n",
            "g = 5, h = 2, i = 5,\n",
            "x = 25,000, y = 25,500, z = 26,000\n",
            "--------------------------------------------------\n",
            "The system of equations is:\n",
            "1x + 1y + 3z = 128,500\n",
            "2x + 4y + 8z = 360,000\n",
            "5x + 2y + 5z = 306,000\n",
            "\n",
            "Possibility number-129\n",
            "System of equations with:\n",
            "a = 1, b = 1, c = 3,\n",
            "d = 2, e = 4, f = 8,\n",
            "g = 5, h = 2, i = 6,\n",
            "x = 25,000, y = 25,500, z = 26,000\n",
            "--------------------------------------------------\n",
            "The system of equations is:\n",
            "1x + 1y + 3z = 128,500\n",
            "2x + 4y + 8z = 360,000\n",
            "5x + 2y + 6z = 332,000\n",
            "\n",
            "Possibility number-130\n",
            "System of equations with:\n",
            "a = 1, b = 1, c = 3,\n",
            "d = 2, e = 4, f = 8,\n",
            "g = 5, h = 3, i = 4,\n",
            "x = 25,000, y = 25,500, z = 26,000\n",
            "--------------------------------------------------\n",
            "The system of equations is:\n",
            "1x + 1y + 3z = 128,500\n",
            "2x + 4y + 8z = 360,000\n",
            "5x + 3y + 4z = 305,500\n",
            "\n",
            "Possibility number-131\n",
            "System of equations with:\n",
            "a = 1, b = 1, c = 3,\n",
            "d = 2, e = 4, f = 8,\n",
            "g = 5, h = 3, i = 5,\n",
            "x = 25,000, y = 25,500, z = 26,000\n",
            "--------------------------------------------------\n",
            "The system of equations is:\n",
            "1x + 1y + 3z = 128,500\n",
            "2x + 4y + 8z = 360,000\n",
            "5x + 3y + 5z = 331,500\n",
            "\n",
            "Possibility number-132\n",
            "System of equations with:\n",
            "a = 1, b = 1, c = 3,\n",
            "d = 2, e = 4, f = 8,\n",
            "g = 5, h = 3, i = 6,\n",
            "x = 25,000, y = 25,500, z = 26,000\n",
            "--------------------------------------------------\n",
            "The system of equations is:\n",
            "1x + 1y + 3z = 128,500\n",
            "2x + 4y + 8z = 360,000\n",
            "5x + 3y + 6z = 357,500\n",
            "\n",
            "Possibility number-133\n",
            "System of equations with:\n",
            "a = 1, b = 1, c = 3,\n",
            "d = 2, e = 4, f = 8,\n",
            "g = 9, h = 2, i = 4,\n",
            "x = 25,000, y = 25,500, z = 26,000\n",
            "--------------------------------------------------\n",
            "The system of equations is:\n",
            "1x + 1y + 3z = 128,500\n",
            "2x + 4y + 8z = 360,000\n",
            "9x + 2y + 4z = 380,000\n",
            "\n",
            "Possibility number-134\n",
            "System of equations with:\n",
            "a = 1, b = 1, c = 3,\n",
            "d = 2, e = 4, f = 8,\n",
            "g = 9, h = 2, i = 5,\n",
            "x = 25,000, y = 25,500, z = 26,000\n",
            "--------------------------------------------------\n",
            "The system of equations is:\n",
            "1x + 1y + 3z = 128,500\n",
            "2x + 4y + 8z = 360,000\n",
            "9x + 2y + 5z = 406,000\n",
            "\n",
            "Possibility number-135\n",
            "System of equations with:\n",
            "a = 1, b = 1, c = 3,\n",
            "d = 2, e = 4, f = 8,\n",
            "g = 9, h = 2, i = 6,\n",
            "x = 25,000, y = 25,500, z = 26,000\n",
            "--------------------------------------------------\n",
            "The system of equations is:\n",
            "1x + 1y + 3z = 128,500\n",
            "2x + 4y + 8z = 360,000\n",
            "9x + 2y + 6z = 432,000\n",
            "\n",
            "Possibility number-136\n",
            "System of equations with:\n",
            "a = 1, b = 1, c = 3,\n",
            "d = 2, e = 4, f = 8,\n",
            "g = 9, h = 3, i = 4,\n",
            "x = 25,000, y = 25,500, z = 26,000\n",
            "--------------------------------------------------\n",
            "The system of equations is:\n",
            "1x + 1y + 3z = 128,500\n",
            "2x + 4y + 8z = 360,000\n",
            "9x + 3y + 4z = 405,500\n",
            "\n",
            "Possibility number-137\n",
            "System of equations with:\n",
            "a = 1, b = 1, c = 3,\n",
            "d = 2, e = 4, f = 8,\n",
            "g = 9, h = 3, i = 5,\n",
            "x = 25,000, y = 25,500, z = 26,000\n",
            "--------------------------------------------------\n",
            "The system of equations is:\n",
            "1x + 1y + 3z = 128,500\n",
            "2x + 4y + 8z = 360,000\n",
            "9x + 3y + 5z = 431,500\n",
            "\n",
            "Possibility number-138\n",
            "System of equations with:\n",
            "a = 1, b = 1, c = 3,\n",
            "d = 2, e = 4, f = 8,\n",
            "g = 9, h = 3, i = 6,\n",
            "x = 25,000, y = 25,500, z = 26,000\n",
            "--------------------------------------------------\n",
            "The system of equations is:\n",
            "1x + 1y + 3z = 128,500\n",
            "2x + 4y + 8z = 360,000\n",
            "9x + 3y + 6z = 457,500\n",
            "\n",
            "Possibility number-139\n",
            "System of equations with:\n",
            "a = 1, b = 1, c = 3,\n",
            "d = 2, e = 4, f = 8,\n",
            "g = 11, h = 2, i = 4,\n",
            "x = 25,000, y = 25,500, z = 26,000\n",
            "--------------------------------------------------\n",
            "The system of equations is:\n",
            "1x + 1y + 3z = 128,500\n",
            "2x + 4y + 8z = 360,000\n",
            "11x + 2y + 4z = 430,000\n",
            "\n",
            "Possibility number-140\n",
            "System of equations with:\n",
            "a = 1, b = 1, c = 3,\n",
            "d = 2, e = 4, f = 8,\n",
            "g = 11, h = 2, i = 5,\n",
            "x = 25,000, y = 25,500, z = 26,000\n",
            "--------------------------------------------------\n",
            "The system of equations is:\n",
            "1x + 1y + 3z = 128,500\n",
            "2x + 4y + 8z = 360,000\n",
            "11x + 2y + 5z = 456,000\n",
            "\n",
            "Possibility number-141\n",
            "System of equations with:\n",
            "a = 1, b = 1, c = 3,\n",
            "d = 2, e = 4, f = 8,\n",
            "g = 11, h = 2, i = 6,\n",
            "x = 25,000, y = 25,500, z = 26,000\n",
            "--------------------------------------------------\n",
            "The system of equations is:\n",
            "1x + 1y + 3z = 128,500\n",
            "2x + 4y + 8z = 360,000\n",
            "11x + 2y + 6z = 482,000\n",
            "\n",
            "Possibility number-142\n",
            "System of equations with:\n",
            "a = 1, b = 1, c = 3,\n",
            "d = 2, e = 4, f = 8,\n",
            "g = 11, h = 3, i = 4,\n",
            "x = 25,000, y = 25,500, z = 26,000\n",
            "--------------------------------------------------\n",
            "The system of equations is:\n",
            "1x + 1y + 3z = 128,500\n",
            "2x + 4y + 8z = 360,000\n",
            "11x + 3y + 4z = 455,500\n",
            "\n",
            "Possibility number-143\n",
            "System of equations with:\n",
            "a = 1, b = 1, c = 3,\n",
            "d = 2, e = 4, f = 8,\n",
            "g = 11, h = 3, i = 5,\n",
            "x = 25,000, y = 25,500, z = 26,000\n",
            "--------------------------------------------------\n",
            "The system of equations is:\n",
            "1x + 1y + 3z = 128,500\n",
            "2x + 4y + 8z = 360,000\n",
            "11x + 3y + 5z = 481,500\n",
            "\n",
            "Possibility number-144\n",
            "System of equations with:\n",
            "a = 1, b = 1, c = 3,\n",
            "d = 2, e = 4, f = 8,\n",
            "g = 11, h = 3, i = 6,\n",
            "x = 25,000, y = 25,500, z = 26,000\n",
            "--------------------------------------------------\n",
            "The system of equations is:\n",
            "1x + 1y + 3z = 128,500\n",
            "2x + 4y + 8z = 360,000\n",
            "11x + 3y + 6z = 507,500\n",
            "\n",
            "Possibility number-145\n",
            "System of equations with:\n",
            "a = 1, b = 1, c = 3,\n",
            "d = 2, e = 4, f = 10,\n",
            "g = 5, h = 2, i = 4,\n",
            "x = 25,000, y = 25,500, z = 26,000\n",
            "--------------------------------------------------\n",
            "The system of equations is:\n",
            "1x + 1y + 3z = 128,500\n",
            "2x + 4y + 10z = 412,000\n",
            "5x + 2y + 4z = 280,000\n",
            "\n",
            "Possibility number-146\n",
            "System of equations with:\n",
            "a = 1, b = 1, c = 3,\n",
            "d = 2, e = 4, f = 10,\n",
            "g = 5, h = 2, i = 5,\n",
            "x = 25,000, y = 25,500, z = 26,000\n",
            "--------------------------------------------------\n",
            "The system of equations is:\n",
            "1x + 1y + 3z = 128,500\n",
            "2x + 4y + 10z = 412,000\n",
            "5x + 2y + 5z = 306,000\n",
            "\n",
            "Possibility number-147\n",
            "System of equations with:\n",
            "a = 1, b = 1, c = 3,\n",
            "d = 2, e = 4, f = 10,\n",
            "g = 5, h = 2, i = 6,\n",
            "x = 25,000, y = 25,500, z = 26,000\n",
            "--------------------------------------------------\n",
            "The system of equations is:\n",
            "1x + 1y + 3z = 128,500\n",
            "2x + 4y + 10z = 412,000\n",
            "5x + 2y + 6z = 332,000\n",
            "\n",
            "Possibility number-148\n",
            "System of equations with:\n",
            "a = 1, b = 1, c = 3,\n",
            "d = 2, e = 4, f = 10,\n",
            "g = 5, h = 3, i = 4,\n",
            "x = 25,000, y = 25,500, z = 26,000\n",
            "--------------------------------------------------\n",
            "The system of equations is:\n",
            "1x + 1y + 3z = 128,500\n",
            "2x + 4y + 10z = 412,000\n",
            "5x + 3y + 4z = 305,500\n",
            "\n",
            "Possibility number-149\n",
            "System of equations with:\n",
            "a = 1, b = 1, c = 3,\n",
            "d = 2, e = 4, f = 10,\n",
            "g = 5, h = 3, i = 5,\n",
            "x = 25,000, y = 25,500, z = 26,000\n",
            "--------------------------------------------------\n",
            "The system of equations is:\n",
            "1x + 1y + 3z = 128,500\n",
            "2x + 4y + 10z = 412,000\n",
            "5x + 3y + 5z = 331,500\n",
            "\n",
            "Possibility number-150\n",
            "System of equations with:\n",
            "a = 1, b = 1, c = 3,\n",
            "d = 2, e = 4, f = 10,\n",
            "g = 5, h = 3, i = 6,\n",
            "x = 25,000, y = 25,500, z = 26,000\n",
            "--------------------------------------------------\n",
            "The system of equations is:\n",
            "1x + 1y + 3z = 128,500\n",
            "2x + 4y + 10z = 412,000\n",
            "5x + 3y + 6z = 357,500\n",
            "\n",
            "Possibility number-151\n",
            "System of equations with:\n",
            "a = 1, b = 1, c = 3,\n",
            "d = 2, e = 4, f = 10,\n",
            "g = 9, h = 2, i = 4,\n",
            "x = 25,000, y = 25,500, z = 26,000\n",
            "--------------------------------------------------\n",
            "The system of equations is:\n",
            "1x + 1y + 3z = 128,500\n",
            "2x + 4y + 10z = 412,000\n",
            "9x + 2y + 4z = 380,000\n",
            "\n",
            "Possibility number-152\n",
            "System of equations with:\n",
            "a = 1, b = 1, c = 3,\n",
            "d = 2, e = 4, f = 10,\n",
            "g = 9, h = 2, i = 5,\n",
            "x = 25,000, y = 25,500, z = 26,000\n",
            "--------------------------------------------------\n",
            "The system of equations is:\n",
            "1x + 1y + 3z = 128,500\n",
            "2x + 4y + 10z = 412,000\n",
            "9x + 2y + 5z = 406,000\n",
            "\n",
            "Possibility number-153\n",
            "System of equations with:\n",
            "a = 1, b = 1, c = 3,\n",
            "d = 2, e = 4, f = 10,\n",
            "g = 9, h = 2, i = 6,\n",
            "x = 25,000, y = 25,500, z = 26,000\n",
            "--------------------------------------------------\n",
            "The system of equations is:\n",
            "1x + 1y + 3z = 128,500\n",
            "2x + 4y + 10z = 412,000\n",
            "9x + 2y + 6z = 432,000\n",
            "\n",
            "Possibility number-154\n",
            "System of equations with:\n",
            "a = 1, b = 1, c = 3,\n",
            "d = 2, e = 4, f = 10,\n",
            "g = 9, h = 3, i = 4,\n",
            "x = 25,000, y = 25,500, z = 26,000\n",
            "--------------------------------------------------\n",
            "The system of equations is:\n",
            "1x + 1y + 3z = 128,500\n",
            "2x + 4y + 10z = 412,000\n",
            "9x + 3y + 4z = 405,500\n",
            "\n",
            "Possibility number-155\n",
            "System of equations with:\n",
            "a = 1, b = 1, c = 3,\n",
            "d = 2, e = 4, f = 10,\n",
            "g = 9, h = 3, i = 5,\n",
            "x = 25,000, y = 25,500, z = 26,000\n",
            "--------------------------------------------------\n",
            "The system of equations is:\n",
            "1x + 1y + 3z = 128,500\n",
            "2x + 4y + 10z = 412,000\n",
            "9x + 3y + 5z = 431,500\n",
            "\n",
            "Possibility number-156\n",
            "System of equations with:\n",
            "a = 1, b = 1, c = 3,\n",
            "d = 2, e = 4, f = 10,\n",
            "g = 9, h = 3, i = 6,\n",
            "x = 25,000, y = 25,500, z = 26,000\n",
            "--------------------------------------------------\n",
            "The system of equations is:\n",
            "1x + 1y + 3z = 128,500\n",
            "2x + 4y + 10z = 412,000\n",
            "9x + 3y + 6z = 457,500\n",
            "\n",
            "Possibility number-157\n",
            "System of equations with:\n",
            "a = 1, b = 1, c = 3,\n",
            "d = 2, e = 4, f = 10,\n",
            "g = 11, h = 2, i = 4,\n",
            "x = 25,000, y = 25,500, z = 26,000\n",
            "--------------------------------------------------\n",
            "The system of equations is:\n",
            "1x + 1y + 3z = 128,500\n",
            "2x + 4y + 10z = 412,000\n",
            "11x + 2y + 4z = 430,000\n",
            "\n",
            "Possibility number-158\n",
            "System of equations with:\n",
            "a = 1, b = 1, c = 3,\n",
            "d = 2, e = 4, f = 10,\n",
            "g = 11, h = 2, i = 5,\n",
            "x = 25,000, y = 25,500, z = 26,000\n",
            "--------------------------------------------------\n",
            "The system of equations is:\n",
            "1x + 1y + 3z = 128,500\n",
            "2x + 4y + 10z = 412,000\n",
            "11x + 2y + 5z = 456,000\n",
            "\n",
            "Possibility number-159\n",
            "System of equations with:\n",
            "a = 1, b = 1, c = 3,\n",
            "d = 2, e = 4, f = 10,\n",
            "g = 11, h = 2, i = 6,\n",
            "x = 25,000, y = 25,500, z = 26,000\n",
            "--------------------------------------------------\n",
            "The system of equations is:\n",
            "1x + 1y + 3z = 128,500\n",
            "2x + 4y + 10z = 412,000\n",
            "11x + 2y + 6z = 482,000\n",
            "\n",
            "Possibility number-160\n",
            "System of equations with:\n",
            "a = 1, b = 1, c = 3,\n",
            "d = 2, e = 4, f = 10,\n",
            "g = 11, h = 3, i = 4,\n",
            "x = 25,000, y = 25,500, z = 26,000\n",
            "--------------------------------------------------\n",
            "The system of equations is:\n",
            "1x + 1y + 3z = 128,500\n",
            "2x + 4y + 10z = 412,000\n",
            "11x + 3y + 4z = 455,500\n",
            "\n",
            "Possibility number-161\n",
            "System of equations with:\n",
            "a = 1, b = 1, c = 3,\n",
            "d = 2, e = 4, f = 10,\n",
            "g = 11, h = 3, i = 5,\n",
            "x = 25,000, y = 25,500, z = 26,000\n",
            "--------------------------------------------------\n",
            "The system of equations is:\n",
            "1x + 1y + 3z = 128,500\n",
            "2x + 4y + 10z = 412,000\n",
            "11x + 3y + 5z = 481,500\n",
            "\n",
            "Possibility number-162\n",
            "System of equations with:\n",
            "a = 1, b = 1, c = 3,\n",
            "d = 2, e = 4, f = 10,\n",
            "g = 11, h = 3, i = 6,\n",
            "x = 25,000, y = 25,500, z = 26,000\n",
            "--------------------------------------------------\n",
            "The system of equations is:\n",
            "1x + 1y + 3z = 128,500\n",
            "2x + 4y + 10z = 412,000\n",
            "11x + 3y + 6z = 507,500\n",
            "\n",
            "Possibility number-163\n",
            "System of equations with:\n",
            "a = 1, b = 1, c = 3,\n",
            "d = 3, e = 4, f = 7,\n",
            "g = 5, h = 2, i = 4,\n",
            "x = 25,000, y = 25,500, z = 26,000\n",
            "--------------------------------------------------\n",
            "The system of equations is:\n",
            "1x + 1y + 3z = 128,500\n",
            "3x + 4y + 7z = 359,000\n",
            "5x + 2y + 4z = 280,000\n",
            "\n",
            "Possibility number-164\n",
            "System of equations with:\n",
            "a = 1, b = 1, c = 3,\n",
            "d = 3, e = 4, f = 7,\n",
            "g = 5, h = 2, i = 5,\n",
            "x = 25,000, y = 25,500, z = 26,000\n",
            "--------------------------------------------------\n",
            "The system of equations is:\n",
            "1x + 1y + 3z = 128,500\n",
            "3x + 4y + 7z = 359,000\n",
            "5x + 2y + 5z = 306,000\n",
            "\n",
            "Possibility number-165\n",
            "System of equations with:\n",
            "a = 1, b = 1, c = 3,\n",
            "d = 3, e = 4, f = 7,\n",
            "g = 5, h = 2, i = 6,\n",
            "x = 25,000, y = 25,500, z = 26,000\n",
            "--------------------------------------------------\n",
            "The system of equations is:\n",
            "1x + 1y + 3z = 128,500\n",
            "3x + 4y + 7z = 359,000\n",
            "5x + 2y + 6z = 332,000\n",
            "\n",
            "Possibility number-166\n",
            "System of equations with:\n",
            "a = 1, b = 1, c = 3,\n",
            "d = 3, e = 4, f = 7,\n",
            "g = 5, h = 3, i = 4,\n",
            "x = 25,000, y = 25,500, z = 26,000\n",
            "--------------------------------------------------\n",
            "The system of equations is:\n",
            "1x + 1y + 3z = 128,500\n",
            "3x + 4y + 7z = 359,000\n",
            "5x + 3y + 4z = 305,500\n",
            "\n",
            "Possibility number-167\n",
            "System of equations with:\n",
            "a = 1, b = 1, c = 3,\n",
            "d = 3, e = 4, f = 7,\n",
            "g = 5, h = 3, i = 5,\n",
            "x = 25,000, y = 25,500, z = 26,000\n",
            "--------------------------------------------------\n",
            "The system of equations is:\n",
            "1x + 1y + 3z = 128,500\n",
            "3x + 4y + 7z = 359,000\n",
            "5x + 3y + 5z = 331,500\n",
            "\n",
            "Possibility number-168\n",
            "System of equations with:\n",
            "a = 1, b = 1, c = 3,\n",
            "d = 3, e = 4, f = 7,\n",
            "g = 5, h = 3, i = 6,\n",
            "x = 25,000, y = 25,500, z = 26,000\n",
            "--------------------------------------------------\n",
            "The system of equations is:\n",
            "1x + 1y + 3z = 128,500\n",
            "3x + 4y + 7z = 359,000\n",
            "5x + 3y + 6z = 357,500\n",
            "\n",
            "Possibility number-169\n",
            "System of equations with:\n",
            "a = 1, b = 1, c = 3,\n",
            "d = 3, e = 4, f = 7,\n",
            "g = 9, h = 2, i = 4,\n",
            "x = 25,000, y = 25,500, z = 26,000\n",
            "--------------------------------------------------\n",
            "The system of equations is:\n",
            "1x + 1y + 3z = 128,500\n",
            "3x + 4y + 7z = 359,000\n",
            "9x + 2y + 4z = 380,000\n",
            "\n",
            "Possibility number-170\n",
            "System of equations with:\n",
            "a = 1, b = 1, c = 3,\n",
            "d = 3, e = 4, f = 7,\n",
            "g = 9, h = 2, i = 5,\n",
            "x = 25,000, y = 25,500, z = 26,000\n",
            "--------------------------------------------------\n",
            "The system of equations is:\n",
            "1x + 1y + 3z = 128,500\n",
            "3x + 4y + 7z = 359,000\n",
            "9x + 2y + 5z = 406,000\n",
            "\n",
            "Possibility number-171\n",
            "System of equations with:\n",
            "a = 1, b = 1, c = 3,\n",
            "d = 3, e = 4, f = 7,\n",
            "g = 9, h = 2, i = 6,\n",
            "x = 25,000, y = 25,500, z = 26,000\n",
            "--------------------------------------------------\n",
            "The system of equations is:\n",
            "1x + 1y + 3z = 128,500\n",
            "3x + 4y + 7z = 359,000\n",
            "9x + 2y + 6z = 432,000\n",
            "\n",
            "Possibility number-172\n",
            "System of equations with:\n",
            "a = 1, b = 1, c = 3,\n",
            "d = 3, e = 4, f = 7,\n",
            "g = 9, h = 3, i = 4,\n",
            "x = 25,000, y = 25,500, z = 26,000\n",
            "--------------------------------------------------\n",
            "The system of equations is:\n",
            "1x + 1y + 3z = 128,500\n",
            "3x + 4y + 7z = 359,000\n",
            "9x + 3y + 4z = 405,500\n",
            "\n",
            "Possibility number-173\n",
            "System of equations with:\n",
            "a = 1, b = 1, c = 3,\n",
            "d = 3, e = 4, f = 7,\n",
            "g = 9, h = 3, i = 5,\n",
            "x = 25,000, y = 25,500, z = 26,000\n",
            "--------------------------------------------------\n",
            "The system of equations is:\n",
            "1x + 1y + 3z = 128,500\n",
            "3x + 4y + 7z = 359,000\n",
            "9x + 3y + 5z = 431,500\n",
            "\n",
            "Possibility number-174\n",
            "System of equations with:\n",
            "a = 1, b = 1, c = 3,\n",
            "d = 3, e = 4, f = 7,\n",
            "g = 9, h = 3, i = 6,\n",
            "x = 25,000, y = 25,500, z = 26,000\n",
            "--------------------------------------------------\n",
            "The system of equations is:\n",
            "1x + 1y + 3z = 128,500\n",
            "3x + 4y + 7z = 359,000\n",
            "9x + 3y + 6z = 457,500\n",
            "\n",
            "Possibility number-175\n",
            "System of equations with:\n",
            "a = 1, b = 1, c = 3,\n",
            "d = 3, e = 4, f = 7,\n",
            "g = 11, h = 2, i = 4,\n",
            "x = 25,000, y = 25,500, z = 26,000\n",
            "--------------------------------------------------\n",
            "The system of equations is:\n",
            "1x + 1y + 3z = 128,500\n",
            "3x + 4y + 7z = 359,000\n",
            "11x + 2y + 4z = 430,000\n",
            "\n",
            "Possibility number-176\n",
            "System of equations with:\n",
            "a = 1, b = 1, c = 3,\n",
            "d = 3, e = 4, f = 7,\n",
            "g = 11, h = 2, i = 5,\n",
            "x = 25,000, y = 25,500, z = 26,000\n",
            "--------------------------------------------------\n",
            "The system of equations is:\n",
            "1x + 1y + 3z = 128,500\n",
            "3x + 4y + 7z = 359,000\n",
            "11x + 2y + 5z = 456,000\n",
            "\n",
            "Possibility number-177\n",
            "System of equations with:\n",
            "a = 1, b = 1, c = 3,\n",
            "d = 3, e = 4, f = 7,\n",
            "g = 11, h = 2, i = 6,\n",
            "x = 25,000, y = 25,500, z = 26,000\n",
            "--------------------------------------------------\n",
            "The system of equations is:\n",
            "1x + 1y + 3z = 128,500\n",
            "3x + 4y + 7z = 359,000\n",
            "11x + 2y + 6z = 482,000\n",
            "\n",
            "Possibility number-178\n",
            "System of equations with:\n",
            "a = 1, b = 1, c = 3,\n",
            "d = 3, e = 4, f = 7,\n",
            "g = 11, h = 3, i = 4,\n",
            "x = 25,000, y = 25,500, z = 26,000\n",
            "--------------------------------------------------\n",
            "The system of equations is:\n",
            "1x + 1y + 3z = 128,500\n",
            "3x + 4y + 7z = 359,000\n",
            "11x + 3y + 4z = 455,500\n",
            "\n",
            "Possibility number-179\n",
            "System of equations with:\n",
            "a = 1, b = 1, c = 3,\n",
            "d = 3, e = 4, f = 7,\n",
            "g = 11, h = 3, i = 5,\n",
            "x = 25,000, y = 25,500, z = 26,000\n",
            "--------------------------------------------------\n",
            "The system of equations is:\n",
            "1x + 1y + 3z = 128,500\n",
            "3x + 4y + 7z = 359,000\n",
            "11x + 3y + 5z = 481,500\n",
            "\n",
            "Possibility number-180\n",
            "System of equations with:\n",
            "a = 1, b = 1, c = 3,\n",
            "d = 3, e = 4, f = 7,\n",
            "g = 11, h = 3, i = 6,\n",
            "x = 25,000, y = 25,500, z = 26,000\n",
            "--------------------------------------------------\n",
            "The system of equations is:\n",
            "1x + 1y + 3z = 128,500\n",
            "3x + 4y + 7z = 359,000\n",
            "11x + 3y + 6z = 507,500\n",
            "\n",
            "Possibility number-181\n",
            "System of equations with:\n",
            "a = 1, b = 1, c = 3,\n",
            "d = 3, e = 4, f = 8,\n",
            "g = 5, h = 2, i = 4,\n",
            "x = 25,000, y = 25,500, z = 26,000\n",
            "--------------------------------------------------\n",
            "The system of equations is:\n",
            "1x + 1y + 3z = 128,500\n",
            "3x + 4y + 8z = 385,000\n",
            "5x + 2y + 4z = 280,000\n",
            "\n",
            "Possibility number-182\n",
            "System of equations with:\n",
            "a = 1, b = 1, c = 3,\n",
            "d = 3, e = 4, f = 8,\n",
            "g = 5, h = 2, i = 5,\n",
            "x = 25,000, y = 25,500, z = 26,000\n",
            "--------------------------------------------------\n",
            "The system of equations is:\n",
            "1x + 1y + 3z = 128,500\n",
            "3x + 4y + 8z = 385,000\n",
            "5x + 2y + 5z = 306,000\n",
            "\n",
            "Possibility number-183\n",
            "System of equations with:\n",
            "a = 1, b = 1, c = 3,\n",
            "d = 3, e = 4, f = 8,\n",
            "g = 5, h = 2, i = 6,\n",
            "x = 25,000, y = 25,500, z = 26,000\n",
            "--------------------------------------------------\n",
            "The system of equations is:\n",
            "1x + 1y + 3z = 128,500\n",
            "3x + 4y + 8z = 385,000\n",
            "5x + 2y + 6z = 332,000\n",
            "\n",
            "Possibility number-184\n",
            "System of equations with:\n",
            "a = 1, b = 1, c = 3,\n",
            "d = 3, e = 4, f = 8,\n",
            "g = 5, h = 3, i = 4,\n",
            "x = 25,000, y = 25,500, z = 26,000\n",
            "--------------------------------------------------\n",
            "The system of equations is:\n",
            "1x + 1y + 3z = 128,500\n",
            "3x + 4y + 8z = 385,000\n",
            "5x + 3y + 4z = 305,500\n",
            "\n",
            "Possibility number-185\n",
            "System of equations with:\n",
            "a = 1, b = 1, c = 3,\n",
            "d = 3, e = 4, f = 8,\n",
            "g = 5, h = 3, i = 5,\n",
            "x = 25,000, y = 25,500, z = 26,000\n",
            "--------------------------------------------------\n",
            "The system of equations is:\n",
            "1x + 1y + 3z = 128,500\n",
            "3x + 4y + 8z = 385,000\n",
            "5x + 3y + 5z = 331,500\n",
            "\n",
            "Possibility number-186\n",
            "System of equations with:\n",
            "a = 1, b = 1, c = 3,\n",
            "d = 3, e = 4, f = 8,\n",
            "g = 5, h = 3, i = 6,\n",
            "x = 25,000, y = 25,500, z = 26,000\n",
            "--------------------------------------------------\n",
            "The system of equations is:\n",
            "1x + 1y + 3z = 128,500\n",
            "3x + 4y + 8z = 385,000\n",
            "5x + 3y + 6z = 357,500\n",
            "\n",
            "Possibility number-187\n",
            "System of equations with:\n",
            "a = 1, b = 1, c = 3,\n",
            "d = 3, e = 4, f = 8,\n",
            "g = 9, h = 2, i = 4,\n",
            "x = 25,000, y = 25,500, z = 26,000\n",
            "--------------------------------------------------\n",
            "The system of equations is:\n",
            "1x + 1y + 3z = 128,500\n",
            "3x + 4y + 8z = 385,000\n",
            "9x + 2y + 4z = 380,000\n",
            "\n",
            "Possibility number-188\n",
            "System of equations with:\n",
            "a = 1, b = 1, c = 3,\n",
            "d = 3, e = 4, f = 8,\n",
            "g = 9, h = 2, i = 5,\n",
            "x = 25,000, y = 25,500, z = 26,000\n",
            "--------------------------------------------------\n",
            "The system of equations is:\n",
            "1x + 1y + 3z = 128,500\n",
            "3x + 4y + 8z = 385,000\n",
            "9x + 2y + 5z = 406,000\n",
            "\n",
            "Possibility number-189\n",
            "System of equations with:\n",
            "a = 1, b = 1, c = 3,\n",
            "d = 3, e = 4, f = 8,\n",
            "g = 9, h = 2, i = 6,\n",
            "x = 25,000, y = 25,500, z = 26,000\n",
            "--------------------------------------------------\n",
            "The system of equations is:\n",
            "1x + 1y + 3z = 128,500\n",
            "3x + 4y + 8z = 385,000\n",
            "9x + 2y + 6z = 432,000\n",
            "\n",
            "Possibility number-190\n",
            "System of equations with:\n",
            "a = 1, b = 1, c = 3,\n",
            "d = 3, e = 4, f = 8,\n",
            "g = 9, h = 3, i = 4,\n",
            "x = 25,000, y = 25,500, z = 26,000\n",
            "--------------------------------------------------\n",
            "The system of equations is:\n",
            "1x + 1y + 3z = 128,500\n",
            "3x + 4y + 8z = 385,000\n",
            "9x + 3y + 4z = 405,500\n",
            "\n",
            "Possibility number-191\n",
            "System of equations with:\n",
            "a = 1, b = 1, c = 3,\n",
            "d = 3, e = 4, f = 8,\n",
            "g = 9, h = 3, i = 5,\n",
            "x = 25,000, y = 25,500, z = 26,000\n",
            "--------------------------------------------------\n",
            "The system of equations is:\n",
            "1x + 1y + 3z = 128,500\n",
            "3x + 4y + 8z = 385,000\n",
            "9x + 3y + 5z = 431,500\n",
            "\n",
            "Possibility number-192\n",
            "System of equations with:\n",
            "a = 1, b = 1, c = 3,\n",
            "d = 3, e = 4, f = 8,\n",
            "g = 9, h = 3, i = 6,\n",
            "x = 25,000, y = 25,500, z = 26,000\n",
            "--------------------------------------------------\n",
            "The system of equations is:\n",
            "1x + 1y + 3z = 128,500\n",
            "3x + 4y + 8z = 385,000\n",
            "9x + 3y + 6z = 457,500\n",
            "\n",
            "Possibility number-193\n",
            "System of equations with:\n",
            "a = 1, b = 1, c = 3,\n",
            "d = 3, e = 4, f = 8,\n",
            "g = 11, h = 2, i = 4,\n",
            "x = 25,000, y = 25,500, z = 26,000\n",
            "--------------------------------------------------\n",
            "The system of equations is:\n",
            "1x + 1y + 3z = 128,500\n",
            "3x + 4y + 8z = 385,000\n",
            "11x + 2y + 4z = 430,000\n",
            "\n",
            "Possibility number-194\n",
            "System of equations with:\n",
            "a = 1, b = 1, c = 3,\n",
            "d = 3, e = 4, f = 8,\n",
            "g = 11, h = 2, i = 5,\n",
            "x = 25,000, y = 25,500, z = 26,000\n",
            "--------------------------------------------------\n",
            "The system of equations is:\n",
            "1x + 1y + 3z = 128,500\n",
            "3x + 4y + 8z = 385,000\n",
            "11x + 2y + 5z = 456,000\n",
            "\n",
            "Possibility number-195\n",
            "System of equations with:\n",
            "a = 1, b = 1, c = 3,\n",
            "d = 3, e = 4, f = 8,\n",
            "g = 11, h = 2, i = 6,\n",
            "x = 25,000, y = 25,500, z = 26,000\n",
            "--------------------------------------------------\n",
            "The system of equations is:\n",
            "1x + 1y + 3z = 128,500\n",
            "3x + 4y + 8z = 385,000\n",
            "11x + 2y + 6z = 482,000\n",
            "\n",
            "Possibility number-196\n",
            "System of equations with:\n",
            "a = 1, b = 1, c = 3,\n",
            "d = 3, e = 4, f = 8,\n",
            "g = 11, h = 3, i = 4,\n",
            "x = 25,000, y = 25,500, z = 26,000\n",
            "--------------------------------------------------\n",
            "The system of equations is:\n",
            "1x + 1y + 3z = 128,500\n",
            "3x + 4y + 8z = 385,000\n",
            "11x + 3y + 4z = 455,500\n",
            "\n",
            "Possibility number-197\n",
            "System of equations with:\n",
            "a = 1, b = 1, c = 3,\n",
            "d = 3, e = 4, f = 8,\n",
            "g = 11, h = 3, i = 5,\n",
            "x = 25,000, y = 25,500, z = 26,000\n",
            "--------------------------------------------------\n",
            "The system of equations is:\n",
            "1x + 1y + 3z = 128,500\n",
            "3x + 4y + 8z = 385,000\n",
            "11x + 3y + 5z = 481,500\n",
            "\n",
            "Possibility number-198\n",
            "System of equations with:\n",
            "a = 1, b = 1, c = 3,\n",
            "d = 3, e = 4, f = 8,\n",
            "g = 11, h = 3, i = 6,\n",
            "x = 25,000, y = 25,500, z = 26,000\n",
            "--------------------------------------------------\n",
            "The system of equations is:\n",
            "1x + 1y + 3z = 128,500\n",
            "3x + 4y + 8z = 385,000\n",
            "11x + 3y + 6z = 507,500\n",
            "\n",
            "Possibility number-199\n",
            "System of equations with:\n",
            "a = 1, b = 1, c = 3,\n",
            "d = 3, e = 4, f = 10,\n",
            "g = 5, h = 2, i = 4,\n",
            "x = 25,000, y = 25,500, z = 26,000\n",
            "--------------------------------------------------\n",
            "The system of equations is:\n",
            "1x + 1y + 3z = 128,500\n",
            "3x + 4y + 10z = 437,000\n",
            "5x + 2y + 4z = 280,000\n",
            "\n",
            "Possibility number-200\n",
            "System of equations with:\n",
            "a = 1, b = 1, c = 3,\n",
            "d = 3, e = 4, f = 10,\n",
            "g = 5, h = 2, i = 5,\n",
            "x = 25,000, y = 25,500, z = 26,000\n",
            "--------------------------------------------------\n",
            "The system of equations is:\n",
            "1x + 1y + 3z = 128,500\n",
            "3x + 4y + 10z = 437,000\n",
            "5x + 2y + 5z = 306,000\n",
            "\n",
            "Possibility number-201\n",
            "System of equations with:\n",
            "a = 1, b = 1, c = 3,\n",
            "d = 3, e = 4, f = 10,\n",
            "g = 5, h = 2, i = 6,\n",
            "x = 25,000, y = 25,500, z = 26,000\n",
            "--------------------------------------------------\n",
            "The system of equations is:\n",
            "1x + 1y + 3z = 128,500\n",
            "3x + 4y + 10z = 437,000\n",
            "5x + 2y + 6z = 332,000\n",
            "\n",
            "Possibility number-202\n",
            "System of equations with:\n",
            "a = 1, b = 1, c = 3,\n",
            "d = 3, e = 4, f = 10,\n",
            "g = 5, h = 3, i = 4,\n",
            "x = 25,000, y = 25,500, z = 26,000\n",
            "--------------------------------------------------\n",
            "The system of equations is:\n",
            "1x + 1y + 3z = 128,500\n",
            "3x + 4y + 10z = 437,000\n",
            "5x + 3y + 4z = 305,500\n",
            "\n",
            "Possibility number-203\n",
            "System of equations with:\n",
            "a = 1, b = 1, c = 3,\n",
            "d = 3, e = 4, f = 10,\n",
            "g = 5, h = 3, i = 5,\n",
            "x = 25,000, y = 25,500, z = 26,000\n",
            "--------------------------------------------------\n",
            "The system of equations is:\n",
            "1x + 1y + 3z = 128,500\n",
            "3x + 4y + 10z = 437,000\n",
            "5x + 3y + 5z = 331,500\n",
            "\n",
            "Possibility number-204\n",
            "System of equations with:\n",
            "a = 1, b = 1, c = 3,\n",
            "d = 3, e = 4, f = 10,\n",
            "g = 5, h = 3, i = 6,\n",
            "x = 25,000, y = 25,500, z = 26,000\n",
            "--------------------------------------------------\n",
            "The system of equations is:\n",
            "1x + 1y + 3z = 128,500\n",
            "3x + 4y + 10z = 437,000\n",
            "5x + 3y + 6z = 357,500\n",
            "\n",
            "Possibility number-205\n",
            "System of equations with:\n",
            "a = 1, b = 1, c = 3,\n",
            "d = 3, e = 4, f = 10,\n",
            "g = 9, h = 2, i = 4,\n",
            "x = 25,000, y = 25,500, z = 26,000\n",
            "--------------------------------------------------\n",
            "The system of equations is:\n",
            "1x + 1y + 3z = 128,500\n",
            "3x + 4y + 10z = 437,000\n",
            "9x + 2y + 4z = 380,000\n",
            "\n",
            "Possibility number-206\n",
            "System of equations with:\n",
            "a = 1, b = 1, c = 3,\n",
            "d = 3, e = 4, f = 10,\n",
            "g = 9, h = 2, i = 5,\n",
            "x = 25,000, y = 25,500, z = 26,000\n",
            "--------------------------------------------------\n",
            "The system of equations is:\n",
            "1x + 1y + 3z = 128,500\n",
            "3x + 4y + 10z = 437,000\n",
            "9x + 2y + 5z = 406,000\n",
            "\n",
            "Possibility number-207\n",
            "System of equations with:\n",
            "a = 1, b = 1, c = 3,\n",
            "d = 3, e = 4, f = 10,\n",
            "g = 9, h = 2, i = 6,\n",
            "x = 25,000, y = 25,500, z = 26,000\n",
            "--------------------------------------------------\n",
            "The system of equations is:\n",
            "1x + 1y + 3z = 128,500\n",
            "3x + 4y + 10z = 437,000\n",
            "9x + 2y + 6z = 432,000\n",
            "\n",
            "Possibility number-208\n",
            "System of equations with:\n",
            "a = 1, b = 1, c = 3,\n",
            "d = 3, e = 4, f = 10,\n",
            "g = 9, h = 3, i = 4,\n",
            "x = 25,000, y = 25,500, z = 26,000\n",
            "--------------------------------------------------\n",
            "The system of equations is:\n",
            "1x + 1y + 3z = 128,500\n",
            "3x + 4y + 10z = 437,000\n",
            "9x + 3y + 4z = 405,500\n",
            "\n",
            "Possibility number-209\n",
            "System of equations with:\n",
            "a = 1, b = 1, c = 3,\n",
            "d = 3, e = 4, f = 10,\n",
            "g = 9, h = 3, i = 5,\n",
            "x = 25,000, y = 25,500, z = 26,000\n",
            "--------------------------------------------------\n",
            "The system of equations is:\n",
            "1x + 1y + 3z = 128,500\n",
            "3x + 4y + 10z = 437,000\n",
            "9x + 3y + 5z = 431,500\n",
            "\n",
            "Possibility number-210\n",
            "System of equations with:\n",
            "a = 1, b = 1, c = 3,\n",
            "d = 3, e = 4, f = 10,\n",
            "g = 9, h = 3, i = 6,\n",
            "x = 25,000, y = 25,500, z = 26,000\n",
            "--------------------------------------------------\n",
            "The system of equations is:\n",
            "1x + 1y + 3z = 128,500\n",
            "3x + 4y + 10z = 437,000\n",
            "9x + 3y + 6z = 457,500\n",
            "\n",
            "Possibility number-211\n",
            "System of equations with:\n",
            "a = 1, b = 1, c = 3,\n",
            "d = 3, e = 4, f = 10,\n",
            "g = 11, h = 2, i = 4,\n",
            "x = 25,000, y = 25,500, z = 26,000\n",
            "--------------------------------------------------\n",
            "The system of equations is:\n",
            "1x + 1y + 3z = 128,500\n",
            "3x + 4y + 10z = 437,000\n",
            "11x + 2y + 4z = 430,000\n",
            "\n",
            "Possibility number-212\n",
            "System of equations with:\n",
            "a = 1, b = 1, c = 3,\n",
            "d = 3, e = 4, f = 10,\n",
            "g = 11, h = 2, i = 5,\n",
            "x = 25,000, y = 25,500, z = 26,000\n",
            "--------------------------------------------------\n",
            "The system of equations is:\n",
            "1x + 1y + 3z = 128,500\n",
            "3x + 4y + 10z = 437,000\n",
            "11x + 2y + 5z = 456,000\n",
            "\n",
            "Possibility number-213\n",
            "System of equations with:\n",
            "a = 1, b = 1, c = 3,\n",
            "d = 3, e = 4, f = 10,\n",
            "g = 11, h = 2, i = 6,\n",
            "x = 25,000, y = 25,500, z = 26,000\n",
            "--------------------------------------------------\n",
            "The system of equations is:\n",
            "1x + 1y + 3z = 128,500\n",
            "3x + 4y + 10z = 437,000\n",
            "11x + 2y + 6z = 482,000\n",
            "\n",
            "Possibility number-214\n",
            "System of equations with:\n",
            "a = 1, b = 1, c = 3,\n",
            "d = 3, e = 4, f = 10,\n",
            "g = 11, h = 3, i = 4,\n",
            "x = 25,000, y = 25,500, z = 26,000\n",
            "--------------------------------------------------\n",
            "The system of equations is:\n",
            "1x + 1y + 3z = 128,500\n",
            "3x + 4y + 10z = 437,000\n",
            "11x + 3y + 4z = 455,500\n",
            "\n",
            "Possibility number-215\n",
            "System of equations with:\n",
            "a = 1, b = 1, c = 3,\n",
            "d = 3, e = 4, f = 10,\n",
            "g = 11, h = 3, i = 5,\n",
            "x = 25,000, y = 25,500, z = 26,000\n",
            "--------------------------------------------------\n",
            "The system of equations is:\n",
            "1x + 1y + 3z = 128,500\n",
            "3x + 4y + 10z = 437,000\n",
            "11x + 3y + 5z = 481,500\n",
            "\n",
            "Possibility number-216\n",
            "System of equations with:\n",
            "a = 1, b = 1, c = 3,\n",
            "d = 3, e = 4, f = 10,\n",
            "g = 11, h = 3, i = 6,\n",
            "x = 25,000, y = 25,500, z = 26,000\n",
            "--------------------------------------------------\n",
            "The system of equations is:\n",
            "1x + 1y + 3z = 128,500\n",
            "3x + 4y + 10z = 437,000\n",
            "11x + 3y + 6z = 507,500\n",
            "\n",
            "Possibility number-217\n",
            "System of equations with:\n",
            "a = 2, b = 2, c = 3,\n",
            "d = 1, e = 4, f = 7,\n",
            "g = 5, h = 1, i = 4,\n",
            "x = 25,000, y = 25,500, z = 26,000\n",
            "--------------------------------------------------\n",
            "The system of equations is:\n",
            "2x + 2y + 3z = 179,000\n",
            "1x + 4y + 7z = 309,000\n",
            "5x + 1y + 4z = 254,500\n",
            "\n",
            "Possibility number-218\n",
            "System of equations with:\n",
            "a = 2, b = 2, c = 3,\n",
            "d = 1, e = 4, f = 7,\n",
            "g = 5, h = 1, i = 5,\n",
            "x = 25,000, y = 25,500, z = 26,000\n",
            "--------------------------------------------------\n",
            "The system of equations is:\n",
            "2x + 2y + 3z = 179,000\n",
            "1x + 4y + 7z = 309,000\n",
            "5x + 1y + 5z = 280,500\n",
            "\n",
            "Possibility number-219\n",
            "System of equations with:\n",
            "a = 2, b = 2, c = 3,\n",
            "d = 1, e = 4, f = 7,\n",
            "g = 5, h = 1, i = 6,\n",
            "x = 25,000, y = 25,500, z = 26,000\n",
            "--------------------------------------------------\n",
            "The system of equations is:\n",
            "2x + 2y + 3z = 179,000\n",
            "1x + 4y + 7z = 309,000\n",
            "5x + 1y + 6z = 306,500\n",
            "\n",
            "Possibility number-220\n",
            "System of equations with:\n",
            "a = 2, b = 2, c = 3,\n",
            "d = 1, e = 4, f = 7,\n",
            "g = 5, h = 3, i = 4,\n",
            "x = 25,000, y = 25,500, z = 26,000\n",
            "--------------------------------------------------\n",
            "The system of equations is:\n",
            "2x + 2y + 3z = 179,000\n",
            "1x + 4y + 7z = 309,000\n",
            "5x + 3y + 4z = 305,500\n",
            "\n",
            "Possibility number-221\n",
            "System of equations with:\n",
            "a = 2, b = 2, c = 3,\n",
            "d = 1, e = 4, f = 7,\n",
            "g = 5, h = 3, i = 5,\n",
            "x = 25,000, y = 25,500, z = 26,000\n",
            "--------------------------------------------------\n",
            "The system of equations is:\n",
            "2x + 2y + 3z = 179,000\n",
            "1x + 4y + 7z = 309,000\n",
            "5x + 3y + 5z = 331,500\n",
            "\n",
            "Possibility number-222\n",
            "System of equations with:\n",
            "a = 2, b = 2, c = 3,\n",
            "d = 1, e = 4, f = 7,\n",
            "g = 5, h = 3, i = 6,\n",
            "x = 25,000, y = 25,500, z = 26,000\n",
            "--------------------------------------------------\n",
            "The system of equations is:\n",
            "2x + 2y + 3z = 179,000\n",
            "1x + 4y + 7z = 309,000\n",
            "5x + 3y + 6z = 357,500\n",
            "\n",
            "Possibility number-223\n",
            "System of equations with:\n",
            "a = 2, b = 2, c = 3,\n",
            "d = 1, e = 4, f = 7,\n",
            "g = 9, h = 1, i = 4,\n",
            "x = 25,000, y = 25,500, z = 26,000\n",
            "--------------------------------------------------\n",
            "The system of equations is:\n",
            "2x + 2y + 3z = 179,000\n",
            "1x + 4y + 7z = 309,000\n",
            "9x + 1y + 4z = 354,500\n",
            "\n",
            "Possibility number-224\n",
            "System of equations with:\n",
            "a = 2, b = 2, c = 3,\n",
            "d = 1, e = 4, f = 7,\n",
            "g = 9, h = 1, i = 5,\n",
            "x = 25,000, y = 25,500, z = 26,000\n",
            "--------------------------------------------------\n",
            "The system of equations is:\n",
            "2x + 2y + 3z = 179,000\n",
            "1x + 4y + 7z = 309,000\n",
            "9x + 1y + 5z = 380,500\n",
            "\n",
            "Possibility number-225\n",
            "System of equations with:\n",
            "a = 2, b = 2, c = 3,\n",
            "d = 1, e = 4, f = 7,\n",
            "g = 9, h = 1, i = 6,\n",
            "x = 25,000, y = 25,500, z = 26,000\n",
            "--------------------------------------------------\n",
            "The system of equations is:\n",
            "2x + 2y + 3z = 179,000\n",
            "1x + 4y + 7z = 309,000\n",
            "9x + 1y + 6z = 406,500\n",
            "\n",
            "Possibility number-226\n",
            "System of equations with:\n",
            "a = 2, b = 2, c = 3,\n",
            "d = 1, e = 4, f = 7,\n",
            "g = 9, h = 3, i = 4,\n",
            "x = 25,000, y = 25,500, z = 26,000\n",
            "--------------------------------------------------\n",
            "The system of equations is:\n",
            "2x + 2y + 3z = 179,000\n",
            "1x + 4y + 7z = 309,000\n",
            "9x + 3y + 4z = 405,500\n",
            "\n",
            "Possibility number-227\n",
            "System of equations with:\n",
            "a = 2, b = 2, c = 3,\n",
            "d = 1, e = 4, f = 7,\n",
            "g = 9, h = 3, i = 5,\n",
            "x = 25,000, y = 25,500, z = 26,000\n",
            "--------------------------------------------------\n",
            "The system of equations is:\n",
            "2x + 2y + 3z = 179,000\n",
            "1x + 4y + 7z = 309,000\n",
            "9x + 3y + 5z = 431,500\n",
            "\n",
            "Possibility number-228\n",
            "System of equations with:\n",
            "a = 2, b = 2, c = 3,\n",
            "d = 1, e = 4, f = 7,\n",
            "g = 9, h = 3, i = 6,\n",
            "x = 25,000, y = 25,500, z = 26,000\n",
            "--------------------------------------------------\n",
            "The system of equations is:\n",
            "2x + 2y + 3z = 179,000\n",
            "1x + 4y + 7z = 309,000\n",
            "9x + 3y + 6z = 457,500\n",
            "\n",
            "Possibility number-229\n",
            "System of equations with:\n",
            "a = 2, b = 2, c = 3,\n",
            "d = 1, e = 4, f = 7,\n",
            "g = 11, h = 1, i = 4,\n",
            "x = 25,000, y = 25,500, z = 26,000\n",
            "--------------------------------------------------\n",
            "The system of equations is:\n",
            "2x + 2y + 3z = 179,000\n",
            "1x + 4y + 7z = 309,000\n",
            "11x + 1y + 4z = 404,500\n",
            "\n",
            "Possibility number-230\n",
            "System of equations with:\n",
            "a = 2, b = 2, c = 3,\n",
            "d = 1, e = 4, f = 7,\n",
            "g = 11, h = 1, i = 5,\n",
            "x = 25,000, y = 25,500, z = 26,000\n",
            "--------------------------------------------------\n",
            "The system of equations is:\n",
            "2x + 2y + 3z = 179,000\n",
            "1x + 4y + 7z = 309,000\n",
            "11x + 1y + 5z = 430,500\n",
            "\n",
            "Possibility number-231\n",
            "System of equations with:\n",
            "a = 2, b = 2, c = 3,\n",
            "d = 1, e = 4, f = 7,\n",
            "g = 11, h = 1, i = 6,\n",
            "x = 25,000, y = 25,500, z = 26,000\n",
            "--------------------------------------------------\n",
            "The system of equations is:\n",
            "2x + 2y + 3z = 179,000\n",
            "1x + 4y + 7z = 309,000\n",
            "11x + 1y + 6z = 456,500\n",
            "\n",
            "Possibility number-232\n",
            "System of equations with:\n",
            "a = 2, b = 2, c = 3,\n",
            "d = 1, e = 4, f = 7,\n",
            "g = 11, h = 3, i = 4,\n",
            "x = 25,000, y = 25,500, z = 26,000\n",
            "--------------------------------------------------\n",
            "The system of equations is:\n",
            "2x + 2y + 3z = 179,000\n",
            "1x + 4y + 7z = 309,000\n",
            "11x + 3y + 4z = 455,500\n",
            "\n",
            "Possibility number-233\n",
            "System of equations with:\n",
            "a = 2, b = 2, c = 3,\n",
            "d = 1, e = 4, f = 7,\n",
            "g = 11, h = 3, i = 5,\n",
            "x = 25,000, y = 25,500, z = 26,000\n",
            "--------------------------------------------------\n",
            "The system of equations is:\n",
            "2x + 2y + 3z = 179,000\n",
            "1x + 4y + 7z = 309,000\n",
            "11x + 3y + 5z = 481,500\n",
            "\n",
            "Possibility number-234\n",
            "System of equations with:\n",
            "a = 2, b = 2, c = 3,\n",
            "d = 1, e = 4, f = 7,\n",
            "g = 11, h = 3, i = 6,\n",
            "x = 25,000, y = 25,500, z = 26,000\n",
            "--------------------------------------------------\n",
            "The system of equations is:\n",
            "2x + 2y + 3z = 179,000\n",
            "1x + 4y + 7z = 309,000\n",
            "11x + 3y + 6z = 507,500\n",
            "\n",
            "Possibility number-235\n",
            "System of equations with:\n",
            "a = 2, b = 2, c = 3,\n",
            "d = 1, e = 4, f = 8,\n",
            "g = 5, h = 1, i = 4,\n",
            "x = 25,000, y = 25,500, z = 26,000\n",
            "--------------------------------------------------\n",
            "The system of equations is:\n",
            "2x + 2y + 3z = 179,000\n",
            "1x + 4y + 8z = 335,000\n",
            "5x + 1y + 4z = 254,500\n",
            "\n",
            "Possibility number-236\n",
            "System of equations with:\n",
            "a = 2, b = 2, c = 3,\n",
            "d = 1, e = 4, f = 8,\n",
            "g = 5, h = 1, i = 5,\n",
            "x = 25,000, y = 25,500, z = 26,000\n",
            "--------------------------------------------------\n",
            "The system of equations is:\n",
            "2x + 2y + 3z = 179,000\n",
            "1x + 4y + 8z = 335,000\n",
            "5x + 1y + 5z = 280,500\n",
            "\n",
            "Possibility number-237\n",
            "System of equations with:\n",
            "a = 2, b = 2, c = 3,\n",
            "d = 1, e = 4, f = 8,\n",
            "g = 5, h = 1, i = 6,\n",
            "x = 25,000, y = 25,500, z = 26,000\n",
            "--------------------------------------------------\n",
            "The system of equations is:\n",
            "2x + 2y + 3z = 179,000\n",
            "1x + 4y + 8z = 335,000\n",
            "5x + 1y + 6z = 306,500\n",
            "\n",
            "Possibility number-238\n",
            "System of equations with:\n",
            "a = 2, b = 2, c = 3,\n",
            "d = 1, e = 4, f = 8,\n",
            "g = 5, h = 3, i = 4,\n",
            "x = 25,000, y = 25,500, z = 26,000\n",
            "--------------------------------------------------\n",
            "The system of equations is:\n",
            "2x + 2y + 3z = 179,000\n",
            "1x + 4y + 8z = 335,000\n",
            "5x + 3y + 4z = 305,500\n",
            "\n",
            "Possibility number-239\n",
            "System of equations with:\n",
            "a = 2, b = 2, c = 3,\n",
            "d = 1, e = 4, f = 8,\n",
            "g = 5, h = 3, i = 5,\n",
            "x = 25,000, y = 25,500, z = 26,000\n",
            "--------------------------------------------------\n",
            "The system of equations is:\n",
            "2x + 2y + 3z = 179,000\n",
            "1x + 4y + 8z = 335,000\n",
            "5x + 3y + 5z = 331,500\n",
            "\n",
            "Possibility number-240\n",
            "System of equations with:\n",
            "a = 2, b = 2, c = 3,\n",
            "d = 1, e = 4, f = 8,\n",
            "g = 5, h = 3, i = 6,\n",
            "x = 25,000, y = 25,500, z = 26,000\n",
            "--------------------------------------------------\n",
            "The system of equations is:\n",
            "2x + 2y + 3z = 179,000\n",
            "1x + 4y + 8z = 335,000\n",
            "5x + 3y + 6z = 357,500\n",
            "\n",
            "Possibility number-241\n",
            "System of equations with:\n",
            "a = 2, b = 2, c = 3,\n",
            "d = 1, e = 4, f = 8,\n",
            "g = 9, h = 1, i = 4,\n",
            "x = 25,000, y = 25,500, z = 26,000\n",
            "--------------------------------------------------\n",
            "The system of equations is:\n",
            "2x + 2y + 3z = 179,000\n",
            "1x + 4y + 8z = 335,000\n",
            "9x + 1y + 4z = 354,500\n",
            "\n",
            "Possibility number-242\n",
            "System of equations with:\n",
            "a = 2, b = 2, c = 3,\n",
            "d = 1, e = 4, f = 8,\n",
            "g = 9, h = 1, i = 5,\n",
            "x = 25,000, y = 25,500, z = 26,000\n",
            "--------------------------------------------------\n",
            "The system of equations is:\n",
            "2x + 2y + 3z = 179,000\n",
            "1x + 4y + 8z = 335,000\n",
            "9x + 1y + 5z = 380,500\n",
            "\n",
            "Possibility number-243\n",
            "System of equations with:\n",
            "a = 2, b = 2, c = 3,\n",
            "d = 1, e = 4, f = 8,\n",
            "g = 9, h = 1, i = 6,\n",
            "x = 25,000, y = 25,500, z = 26,000\n",
            "--------------------------------------------------\n",
            "The system of equations is:\n",
            "2x + 2y + 3z = 179,000\n",
            "1x + 4y + 8z = 335,000\n",
            "9x + 1y + 6z = 406,500\n",
            "\n",
            "Possibility number-244\n",
            "System of equations with:\n",
            "a = 2, b = 2, c = 3,\n",
            "d = 1, e = 4, f = 8,\n",
            "g = 9, h = 3, i = 4,\n",
            "x = 25,000, y = 25,500, z = 26,000\n",
            "--------------------------------------------------\n",
            "The system of equations is:\n",
            "2x + 2y + 3z = 179,000\n",
            "1x + 4y + 8z = 335,000\n",
            "9x + 3y + 4z = 405,500\n",
            "\n",
            "Possibility number-245\n",
            "System of equations with:\n",
            "a = 2, b = 2, c = 3,\n",
            "d = 1, e = 4, f = 8,\n",
            "g = 9, h = 3, i = 5,\n",
            "x = 25,000, y = 25,500, z = 26,000\n",
            "--------------------------------------------------\n",
            "The system of equations is:\n",
            "2x + 2y + 3z = 179,000\n",
            "1x + 4y + 8z = 335,000\n",
            "9x + 3y + 5z = 431,500\n",
            "\n",
            "Possibility number-246\n",
            "System of equations with:\n",
            "a = 2, b = 2, c = 3,\n",
            "d = 1, e = 4, f = 8,\n",
            "g = 9, h = 3, i = 6,\n",
            "x = 25,000, y = 25,500, z = 26,000\n",
            "--------------------------------------------------\n",
            "The system of equations is:\n",
            "2x + 2y + 3z = 179,000\n",
            "1x + 4y + 8z = 335,000\n",
            "9x + 3y + 6z = 457,500\n",
            "\n",
            "Possibility number-247\n",
            "System of equations with:\n",
            "a = 2, b = 2, c = 3,\n",
            "d = 1, e = 4, f = 8,\n",
            "g = 11, h = 1, i = 4,\n",
            "x = 25,000, y = 25,500, z = 26,000\n",
            "--------------------------------------------------\n",
            "The system of equations is:\n",
            "2x + 2y + 3z = 179,000\n",
            "1x + 4y + 8z = 335,000\n",
            "11x + 1y + 4z = 404,500\n",
            "\n",
            "Possibility number-248\n",
            "System of equations with:\n",
            "a = 2, b = 2, c = 3,\n",
            "d = 1, e = 4, f = 8,\n",
            "g = 11, h = 1, i = 5,\n",
            "x = 25,000, y = 25,500, z = 26,000\n",
            "--------------------------------------------------\n",
            "The system of equations is:\n",
            "2x + 2y + 3z = 179,000\n",
            "1x + 4y + 8z = 335,000\n",
            "11x + 1y + 5z = 430,500\n",
            "\n",
            "Possibility number-249\n",
            "System of equations with:\n",
            "a = 2, b = 2, c = 3,\n",
            "d = 1, e = 4, f = 8,\n",
            "g = 11, h = 1, i = 6,\n",
            "x = 25,000, y = 25,500, z = 26,000\n",
            "--------------------------------------------------\n",
            "The system of equations is:\n",
            "2x + 2y + 3z = 179,000\n",
            "1x + 4y + 8z = 335,000\n",
            "11x + 1y + 6z = 456,500\n",
            "\n",
            "Possibility number-250\n",
            "System of equations with:\n",
            "a = 2, b = 2, c = 3,\n",
            "d = 1, e = 4, f = 8,\n",
            "g = 11, h = 3, i = 4,\n",
            "x = 25,000, y = 25,500, z = 26,000\n",
            "--------------------------------------------------\n",
            "The system of equations is:\n",
            "2x + 2y + 3z = 179,000\n",
            "1x + 4y + 8z = 335,000\n",
            "11x + 3y + 4z = 455,500\n",
            "\n",
            "Possibility number-251\n",
            "System of equations with:\n",
            "a = 2, b = 2, c = 3,\n",
            "d = 1, e = 4, f = 8,\n",
            "g = 11, h = 3, i = 5,\n",
            "x = 25,000, y = 25,500, z = 26,000\n",
            "--------------------------------------------------\n",
            "The system of equations is:\n",
            "2x + 2y + 3z = 179,000\n",
            "1x + 4y + 8z = 335,000\n",
            "11x + 3y + 5z = 481,500\n",
            "\n",
            "Possibility number-252\n",
            "System of equations with:\n",
            "a = 2, b = 2, c = 3,\n",
            "d = 1, e = 4, f = 8,\n",
            "g = 11, h = 3, i = 6,\n",
            "x = 25,000, y = 25,500, z = 26,000\n",
            "--------------------------------------------------\n",
            "The system of equations is:\n",
            "2x + 2y + 3z = 179,000\n",
            "1x + 4y + 8z = 335,000\n",
            "11x + 3y + 6z = 507,500\n",
            "\n",
            "Possibility number-253\n",
            "System of equations with:\n",
            "a = 2, b = 2, c = 3,\n",
            "d = 1, e = 4, f = 10,\n",
            "g = 5, h = 1, i = 4,\n",
            "x = 25,000, y = 25,500, z = 26,000\n",
            "--------------------------------------------------\n",
            "The system of equations is:\n",
            "2x + 2y + 3z = 179,000\n",
            "1x + 4y + 10z = 387,000\n",
            "5x + 1y + 4z = 254,500\n",
            "\n",
            "Possibility number-254\n",
            "System of equations with:\n",
            "a = 2, b = 2, c = 3,\n",
            "d = 1, e = 4, f = 10,\n",
            "g = 5, h = 1, i = 5,\n",
            "x = 25,000, y = 25,500, z = 26,000\n",
            "--------------------------------------------------\n",
            "The system of equations is:\n",
            "2x + 2y + 3z = 179,000\n",
            "1x + 4y + 10z = 387,000\n",
            "5x + 1y + 5z = 280,500\n",
            "\n",
            "Possibility number-255\n",
            "System of equations with:\n",
            "a = 2, b = 2, c = 3,\n",
            "d = 1, e = 4, f = 10,\n",
            "g = 5, h = 1, i = 6,\n",
            "x = 25,000, y = 25,500, z = 26,000\n",
            "--------------------------------------------------\n",
            "The system of equations is:\n",
            "2x + 2y + 3z = 179,000\n",
            "1x + 4y + 10z = 387,000\n",
            "5x + 1y + 6z = 306,500\n",
            "\n",
            "Possibility number-256\n",
            "System of equations with:\n",
            "a = 2, b = 2, c = 3,\n",
            "d = 1, e = 4, f = 10,\n",
            "g = 5, h = 3, i = 4,\n",
            "x = 25,000, y = 25,500, z = 26,000\n",
            "--------------------------------------------------\n",
            "The system of equations is:\n",
            "2x + 2y + 3z = 179,000\n",
            "1x + 4y + 10z = 387,000\n",
            "5x + 3y + 4z = 305,500\n",
            "\n",
            "Possibility number-257\n",
            "System of equations with:\n",
            "a = 2, b = 2, c = 3,\n",
            "d = 1, e = 4, f = 10,\n",
            "g = 5, h = 3, i = 5,\n",
            "x = 25,000, y = 25,500, z = 26,000\n",
            "--------------------------------------------------\n",
            "The system of equations is:\n",
            "2x + 2y + 3z = 179,000\n",
            "1x + 4y + 10z = 387,000\n",
            "5x + 3y + 5z = 331,500\n",
            "\n",
            "Possibility number-258\n",
            "System of equations with:\n",
            "a = 2, b = 2, c = 3,\n",
            "d = 1, e = 4, f = 10,\n",
            "g = 5, h = 3, i = 6,\n",
            "x = 25,000, y = 25,500, z = 26,000\n",
            "--------------------------------------------------\n",
            "The system of equations is:\n",
            "2x + 2y + 3z = 179,000\n",
            "1x + 4y + 10z = 387,000\n",
            "5x + 3y + 6z = 357,500\n",
            "\n",
            "Possibility number-259\n",
            "System of equations with:\n",
            "a = 2, b = 2, c = 3,\n",
            "d = 1, e = 4, f = 10,\n",
            "g = 9, h = 1, i = 4,\n",
            "x = 25,000, y = 25,500, z = 26,000\n",
            "--------------------------------------------------\n",
            "The system of equations is:\n",
            "2x + 2y + 3z = 179,000\n",
            "1x + 4y + 10z = 387,000\n",
            "9x + 1y + 4z = 354,500\n",
            "\n",
            "Possibility number-260\n",
            "System of equations with:\n",
            "a = 2, b = 2, c = 3,\n",
            "d = 1, e = 4, f = 10,\n",
            "g = 9, h = 1, i = 5,\n",
            "x = 25,000, y = 25,500, z = 26,000\n",
            "--------------------------------------------------\n",
            "The system of equations is:\n",
            "2x + 2y + 3z = 179,000\n",
            "1x + 4y + 10z = 387,000\n",
            "9x + 1y + 5z = 380,500\n",
            "\n",
            "Possibility number-261\n",
            "System of equations with:\n",
            "a = 2, b = 2, c = 3,\n",
            "d = 1, e = 4, f = 10,\n",
            "g = 9, h = 1, i = 6,\n",
            "x = 25,000, y = 25,500, z = 26,000\n",
            "--------------------------------------------------\n",
            "The system of equations is:\n",
            "2x + 2y + 3z = 179,000\n",
            "1x + 4y + 10z = 387,000\n",
            "9x + 1y + 6z = 406,500\n",
            "\n",
            "Possibility number-262\n",
            "System of equations with:\n",
            "a = 2, b = 2, c = 3,\n",
            "d = 1, e = 4, f = 10,\n",
            "g = 9, h = 3, i = 4,\n",
            "x = 25,000, y = 25,500, z = 26,000\n",
            "--------------------------------------------------\n",
            "The system of equations is:\n",
            "2x + 2y + 3z = 179,000\n",
            "1x + 4y + 10z = 387,000\n",
            "9x + 3y + 4z = 405,500\n",
            "\n",
            "Possibility number-263\n",
            "System of equations with:\n",
            "a = 2, b = 2, c = 3,\n",
            "d = 1, e = 4, f = 10,\n",
            "g = 9, h = 3, i = 5,\n",
            "x = 25,000, y = 25,500, z = 26,000\n",
            "--------------------------------------------------\n",
            "The system of equations is:\n",
            "2x + 2y + 3z = 179,000\n",
            "1x + 4y + 10z = 387,000\n",
            "9x + 3y + 5z = 431,500\n",
            "\n",
            "Possibility number-264\n",
            "System of equations with:\n",
            "a = 2, b = 2, c = 3,\n",
            "d = 1, e = 4, f = 10,\n",
            "g = 9, h = 3, i = 6,\n",
            "x = 25,000, y = 25,500, z = 26,000\n",
            "--------------------------------------------------\n",
            "The system of equations is:\n",
            "2x + 2y + 3z = 179,000\n",
            "1x + 4y + 10z = 387,000\n",
            "9x + 3y + 6z = 457,500\n",
            "\n",
            "Possibility number-265\n",
            "System of equations with:\n",
            "a = 2, b = 2, c = 3,\n",
            "d = 1, e = 4, f = 10,\n",
            "g = 11, h = 1, i = 4,\n",
            "x = 25,000, y = 25,500, z = 26,000\n",
            "--------------------------------------------------\n",
            "The system of equations is:\n",
            "2x + 2y + 3z = 179,000\n",
            "1x + 4y + 10z = 387,000\n",
            "11x + 1y + 4z = 404,500\n",
            "\n",
            "Possibility number-266\n",
            "System of equations with:\n",
            "a = 2, b = 2, c = 3,\n",
            "d = 1, e = 4, f = 10,\n",
            "g = 11, h = 1, i = 5,\n",
            "x = 25,000, y = 25,500, z = 26,000\n",
            "--------------------------------------------------\n",
            "The system of equations is:\n",
            "2x + 2y + 3z = 179,000\n",
            "1x + 4y + 10z = 387,000\n",
            "11x + 1y + 5z = 430,500\n",
            "\n",
            "Possibility number-267\n",
            "System of equations with:\n",
            "a = 2, b = 2, c = 3,\n",
            "d = 1, e = 4, f = 10,\n",
            "g = 11, h = 1, i = 6,\n",
            "x = 25,000, y = 25,500, z = 26,000\n",
            "--------------------------------------------------\n",
            "The system of equations is:\n",
            "2x + 2y + 3z = 179,000\n",
            "1x + 4y + 10z = 387,000\n",
            "11x + 1y + 6z = 456,500\n",
            "\n",
            "Possibility number-268\n",
            "System of equations with:\n",
            "a = 2, b = 2, c = 3,\n",
            "d = 1, e = 4, f = 10,\n",
            "g = 11, h = 3, i = 4,\n",
            "x = 25,000, y = 25,500, z = 26,000\n",
            "--------------------------------------------------\n",
            "The system of equations is:\n",
            "2x + 2y + 3z = 179,000\n",
            "1x + 4y + 10z = 387,000\n",
            "11x + 3y + 4z = 455,500\n",
            "\n",
            "Possibility number-269\n",
            "System of equations with:\n",
            "a = 2, b = 2, c = 3,\n",
            "d = 1, e = 4, f = 10,\n",
            "g = 11, h = 3, i = 5,\n",
            "x = 25,000, y = 25,500, z = 26,000\n",
            "--------------------------------------------------\n",
            "The system of equations is:\n",
            "2x + 2y + 3z = 179,000\n",
            "1x + 4y + 10z = 387,000\n",
            "11x + 3y + 5z = 481,500\n",
            "\n",
            "Possibility number-270\n",
            "System of equations with:\n",
            "a = 2, b = 2, c = 3,\n",
            "d = 1, e = 4, f = 10,\n",
            "g = 11, h = 3, i = 6,\n",
            "x = 25,000, y = 25,500, z = 26,000\n",
            "--------------------------------------------------\n",
            "The system of equations is:\n",
            "2x + 2y + 3z = 179,000\n",
            "1x + 4y + 10z = 387,000\n",
            "11x + 3y + 6z = 507,500\n",
            "\n",
            "Possibility number-271\n",
            "System of equations with:\n",
            "a = 2, b = 2, c = 3,\n",
            "d = 3, e = 4, f = 7,\n",
            "g = 5, h = 1, i = 4,\n",
            "x = 25,000, y = 25,500, z = 26,000\n",
            "--------------------------------------------------\n",
            "The system of equations is:\n",
            "2x + 2y + 3z = 179,000\n",
            "3x + 4y + 7z = 359,000\n",
            "5x + 1y + 4z = 254,500\n",
            "\n",
            "Possibility number-272\n",
            "System of equations with:\n",
            "a = 2, b = 2, c = 3,\n",
            "d = 3, e = 4, f = 7,\n",
            "g = 5, h = 1, i = 5,\n",
            "x = 25,000, y = 25,500, z = 26,000\n",
            "--------------------------------------------------\n",
            "The system of equations is:\n",
            "2x + 2y + 3z = 179,000\n",
            "3x + 4y + 7z = 359,000\n",
            "5x + 1y + 5z = 280,500\n",
            "\n",
            "Possibility number-273\n",
            "System of equations with:\n",
            "a = 2, b = 2, c = 3,\n",
            "d = 3, e = 4, f = 7,\n",
            "g = 5, h = 1, i = 6,\n",
            "x = 25,000, y = 25,500, z = 26,000\n",
            "--------------------------------------------------\n",
            "The system of equations is:\n",
            "2x + 2y + 3z = 179,000\n",
            "3x + 4y + 7z = 359,000\n",
            "5x + 1y + 6z = 306,500\n",
            "\n",
            "Possibility number-274\n",
            "System of equations with:\n",
            "a = 2, b = 2, c = 3,\n",
            "d = 3, e = 4, f = 7,\n",
            "g = 5, h = 3, i = 4,\n",
            "x = 25,000, y = 25,500, z = 26,000\n",
            "--------------------------------------------------\n",
            "The system of equations is:\n",
            "2x + 2y + 3z = 179,000\n",
            "3x + 4y + 7z = 359,000\n",
            "5x + 3y + 4z = 305,500\n",
            "\n",
            "Possibility number-275\n",
            "System of equations with:\n",
            "a = 2, b = 2, c = 3,\n",
            "d = 3, e = 4, f = 7,\n",
            "g = 5, h = 3, i = 5,\n",
            "x = 25,000, y = 25,500, z = 26,000\n",
            "--------------------------------------------------\n",
            "The system of equations is:\n",
            "2x + 2y + 3z = 179,000\n",
            "3x + 4y + 7z = 359,000\n",
            "5x + 3y + 5z = 331,500\n",
            "\n",
            "Possibility number-276\n",
            "System of equations with:\n",
            "a = 2, b = 2, c = 3,\n",
            "d = 3, e = 4, f = 7,\n",
            "g = 5, h = 3, i = 6,\n",
            "x = 25,000, y = 25,500, z = 26,000\n",
            "--------------------------------------------------\n",
            "The system of equations is:\n",
            "2x + 2y + 3z = 179,000\n",
            "3x + 4y + 7z = 359,000\n",
            "5x + 3y + 6z = 357,500\n",
            "\n",
            "Possibility number-277\n",
            "System of equations with:\n",
            "a = 2, b = 2, c = 3,\n",
            "d = 3, e = 4, f = 7,\n",
            "g = 9, h = 1, i = 4,\n",
            "x = 25,000, y = 25,500, z = 26,000\n",
            "--------------------------------------------------\n",
            "The system of equations is:\n",
            "2x + 2y + 3z = 179,000\n",
            "3x + 4y + 7z = 359,000\n",
            "9x + 1y + 4z = 354,500\n",
            "\n",
            "Possibility number-278\n",
            "System of equations with:\n",
            "a = 2, b = 2, c = 3,\n",
            "d = 3, e = 4, f = 7,\n",
            "g = 9, h = 1, i = 5,\n",
            "x = 25,000, y = 25,500, z = 26,000\n",
            "--------------------------------------------------\n",
            "The system of equations is:\n",
            "2x + 2y + 3z = 179,000\n",
            "3x + 4y + 7z = 359,000\n",
            "9x + 1y + 5z = 380,500\n",
            "\n",
            "Possibility number-279\n",
            "System of equations with:\n",
            "a = 2, b = 2, c = 3,\n",
            "d = 3, e = 4, f = 7,\n",
            "g = 9, h = 1, i = 6,\n",
            "x = 25,000, y = 25,500, z = 26,000\n",
            "--------------------------------------------------\n",
            "The system of equations is:\n",
            "2x + 2y + 3z = 179,000\n",
            "3x + 4y + 7z = 359,000\n",
            "9x + 1y + 6z = 406,500\n",
            "\n",
            "Possibility number-280\n",
            "System of equations with:\n",
            "a = 2, b = 2, c = 3,\n",
            "d = 3, e = 4, f = 7,\n",
            "g = 9, h = 3, i = 4,\n",
            "x = 25,000, y = 25,500, z = 26,000\n",
            "--------------------------------------------------\n",
            "The system of equations is:\n",
            "2x + 2y + 3z = 179,000\n",
            "3x + 4y + 7z = 359,000\n",
            "9x + 3y + 4z = 405,500\n",
            "\n",
            "Possibility number-281\n",
            "System of equations with:\n",
            "a = 2, b = 2, c = 3,\n",
            "d = 3, e = 4, f = 7,\n",
            "g = 9, h = 3, i = 5,\n",
            "x = 25,000, y = 25,500, z = 26,000\n",
            "--------------------------------------------------\n",
            "The system of equations is:\n",
            "2x + 2y + 3z = 179,000\n",
            "3x + 4y + 7z = 359,000\n",
            "9x + 3y + 5z = 431,500\n",
            "\n",
            "Possibility number-282\n",
            "System of equations with:\n",
            "a = 2, b = 2, c = 3,\n",
            "d = 3, e = 4, f = 7,\n",
            "g = 9, h = 3, i = 6,\n",
            "x = 25,000, y = 25,500, z = 26,000\n",
            "--------------------------------------------------\n",
            "The system of equations is:\n",
            "2x + 2y + 3z = 179,000\n",
            "3x + 4y + 7z = 359,000\n",
            "9x + 3y + 6z = 457,500\n",
            "\n",
            "Possibility number-283\n",
            "System of equations with:\n",
            "a = 2, b = 2, c = 3,\n",
            "d = 3, e = 4, f = 7,\n",
            "g = 11, h = 1, i = 4,\n",
            "x = 25,000, y = 25,500, z = 26,000\n",
            "--------------------------------------------------\n",
            "The system of equations is:\n",
            "2x + 2y + 3z = 179,000\n",
            "3x + 4y + 7z = 359,000\n",
            "11x + 1y + 4z = 404,500\n",
            "\n",
            "Possibility number-284\n",
            "System of equations with:\n",
            "a = 2, b = 2, c = 3,\n",
            "d = 3, e = 4, f = 7,\n",
            "g = 11, h = 1, i = 5,\n",
            "x = 25,000, y = 25,500, z = 26,000\n",
            "--------------------------------------------------\n",
            "The system of equations is:\n",
            "2x + 2y + 3z = 179,000\n",
            "3x + 4y + 7z = 359,000\n",
            "11x + 1y + 5z = 430,500\n",
            "\n",
            "Possibility number-285\n",
            "System of equations with:\n",
            "a = 2, b = 2, c = 3,\n",
            "d = 3, e = 4, f = 7,\n",
            "g = 11, h = 1, i = 6,\n",
            "x = 25,000, y = 25,500, z = 26,000\n",
            "--------------------------------------------------\n",
            "The system of equations is:\n",
            "2x + 2y + 3z = 179,000\n",
            "3x + 4y + 7z = 359,000\n",
            "11x + 1y + 6z = 456,500\n",
            "\n",
            "Possibility number-286\n",
            "System of equations with:\n",
            "a = 2, b = 2, c = 3,\n",
            "d = 3, e = 4, f = 7,\n",
            "g = 11, h = 3, i = 4,\n",
            "x = 25,000, y = 25,500, z = 26,000\n",
            "--------------------------------------------------\n",
            "The system of equations is:\n",
            "2x + 2y + 3z = 179,000\n",
            "3x + 4y + 7z = 359,000\n",
            "11x + 3y + 4z = 455,500\n",
            "\n",
            "Possibility number-287\n",
            "System of equations with:\n",
            "a = 2, b = 2, c = 3,\n",
            "d = 3, e = 4, f = 7,\n",
            "g = 11, h = 3, i = 5,\n",
            "x = 25,000, y = 25,500, z = 26,000\n",
            "--------------------------------------------------\n",
            "The system of equations is:\n",
            "2x + 2y + 3z = 179,000\n",
            "3x + 4y + 7z = 359,000\n",
            "11x + 3y + 5z = 481,500\n",
            "\n",
            "Possibility number-288\n",
            "System of equations with:\n",
            "a = 2, b = 2, c = 3,\n",
            "d = 3, e = 4, f = 7,\n",
            "g = 11, h = 3, i = 6,\n",
            "x = 25,000, y = 25,500, z = 26,000\n",
            "--------------------------------------------------\n",
            "The system of equations is:\n",
            "2x + 2y + 3z = 179,000\n",
            "3x + 4y + 7z = 359,000\n",
            "11x + 3y + 6z = 507,500\n",
            "\n",
            "Possibility number-289\n",
            "System of equations with:\n",
            "a = 2, b = 2, c = 3,\n",
            "d = 3, e = 4, f = 8,\n",
            "g = 5, h = 1, i = 4,\n",
            "x = 25,000, y = 25,500, z = 26,000\n",
            "--------------------------------------------------\n",
            "The system of equations is:\n",
            "2x + 2y + 3z = 179,000\n",
            "3x + 4y + 8z = 385,000\n",
            "5x + 1y + 4z = 254,500\n",
            "\n",
            "Possibility number-290\n",
            "System of equations with:\n",
            "a = 2, b = 2, c = 3,\n",
            "d = 3, e = 4, f = 8,\n",
            "g = 5, h = 1, i = 5,\n",
            "x = 25,000, y = 25,500, z = 26,000\n",
            "--------------------------------------------------\n",
            "The system of equations is:\n",
            "2x + 2y + 3z = 179,000\n",
            "3x + 4y + 8z = 385,000\n",
            "5x + 1y + 5z = 280,500\n",
            "\n",
            "Possibility number-291\n",
            "System of equations with:\n",
            "a = 2, b = 2, c = 3,\n",
            "d = 3, e = 4, f = 8,\n",
            "g = 5, h = 1, i = 6,\n",
            "x = 25,000, y = 25,500, z = 26,000\n",
            "--------------------------------------------------\n",
            "The system of equations is:\n",
            "2x + 2y + 3z = 179,000\n",
            "3x + 4y + 8z = 385,000\n",
            "5x + 1y + 6z = 306,500\n",
            "\n",
            "Possibility number-292\n",
            "System of equations with:\n",
            "a = 2, b = 2, c = 3,\n",
            "d = 3, e = 4, f = 8,\n",
            "g = 5, h = 3, i = 4,\n",
            "x = 25,000, y = 25,500, z = 26,000\n",
            "--------------------------------------------------\n",
            "The system of equations is:\n",
            "2x + 2y + 3z = 179,000\n",
            "3x + 4y + 8z = 385,000\n",
            "5x + 3y + 4z = 305,500\n",
            "\n",
            "Possibility number-293\n",
            "System of equations with:\n",
            "a = 2, b = 2, c = 3,\n",
            "d = 3, e = 4, f = 8,\n",
            "g = 5, h = 3, i = 5,\n",
            "x = 25,000, y = 25,500, z = 26,000\n",
            "--------------------------------------------------\n",
            "The system of equations is:\n",
            "2x + 2y + 3z = 179,000\n",
            "3x + 4y + 8z = 385,000\n",
            "5x + 3y + 5z = 331,500\n",
            "\n",
            "Possibility number-294\n",
            "System of equations with:\n",
            "a = 2, b = 2, c = 3,\n",
            "d = 3, e = 4, f = 8,\n",
            "g = 5, h = 3, i = 6,\n",
            "x = 25,000, y = 25,500, z = 26,000\n",
            "--------------------------------------------------\n",
            "The system of equations is:\n",
            "2x + 2y + 3z = 179,000\n",
            "3x + 4y + 8z = 385,000\n",
            "5x + 3y + 6z = 357,500\n",
            "\n",
            "Possibility number-295\n",
            "System of equations with:\n",
            "a = 2, b = 2, c = 3,\n",
            "d = 3, e = 4, f = 8,\n",
            "g = 9, h = 1, i = 4,\n",
            "x = 25,000, y = 25,500, z = 26,000\n",
            "--------------------------------------------------\n",
            "The system of equations is:\n",
            "2x + 2y + 3z = 179,000\n",
            "3x + 4y + 8z = 385,000\n",
            "9x + 1y + 4z = 354,500\n",
            "\n",
            "Possibility number-296\n",
            "System of equations with:\n",
            "a = 2, b = 2, c = 3,\n",
            "d = 3, e = 4, f = 8,\n",
            "g = 9, h = 1, i = 5,\n",
            "x = 25,000, y = 25,500, z = 26,000\n",
            "--------------------------------------------------\n",
            "The system of equations is:\n",
            "2x + 2y + 3z = 179,000\n",
            "3x + 4y + 8z = 385,000\n",
            "9x + 1y + 5z = 380,500\n",
            "\n",
            "Possibility number-297\n",
            "System of equations with:\n",
            "a = 2, b = 2, c = 3,\n",
            "d = 3, e = 4, f = 8,\n",
            "g = 9, h = 1, i = 6,\n",
            "x = 25,000, y = 25,500, z = 26,000\n",
            "--------------------------------------------------\n",
            "The system of equations is:\n",
            "2x + 2y + 3z = 179,000\n",
            "3x + 4y + 8z = 385,000\n",
            "9x + 1y + 6z = 406,500\n",
            "\n",
            "Possibility number-298\n",
            "System of equations with:\n",
            "a = 2, b = 2, c = 3,\n",
            "d = 3, e = 4, f = 8,\n",
            "g = 9, h = 3, i = 4,\n",
            "x = 25,000, y = 25,500, z = 26,000\n",
            "--------------------------------------------------\n",
            "The system of equations is:\n",
            "2x + 2y + 3z = 179,000\n",
            "3x + 4y + 8z = 385,000\n",
            "9x + 3y + 4z = 405,500\n",
            "\n",
            "Possibility number-299\n",
            "System of equations with:\n",
            "a = 2, b = 2, c = 3,\n",
            "d = 3, e = 4, f = 8,\n",
            "g = 9, h = 3, i = 5,\n",
            "x = 25,000, y = 25,500, z = 26,000\n",
            "--------------------------------------------------\n",
            "The system of equations is:\n",
            "2x + 2y + 3z = 179,000\n",
            "3x + 4y + 8z = 385,000\n",
            "9x + 3y + 5z = 431,500\n",
            "\n",
            "Possibility number-300\n",
            "System of equations with:\n",
            "a = 2, b = 2, c = 3,\n",
            "d = 3, e = 4, f = 8,\n",
            "g = 9, h = 3, i = 6,\n",
            "x = 25,000, y = 25,500, z = 26,000\n",
            "--------------------------------------------------\n",
            "The system of equations is:\n",
            "2x + 2y + 3z = 179,000\n",
            "3x + 4y + 8z = 385,000\n",
            "9x + 3y + 6z = 457,500\n",
            "\n",
            "Possibility number-301\n",
            "System of equations with:\n",
            "a = 2, b = 2, c = 3,\n",
            "d = 3, e = 4, f = 8,\n",
            "g = 11, h = 1, i = 4,\n",
            "x = 25,000, y = 25,500, z = 26,000\n",
            "--------------------------------------------------\n",
            "The system of equations is:\n",
            "2x + 2y + 3z = 179,000\n",
            "3x + 4y + 8z = 385,000\n",
            "11x + 1y + 4z = 404,500\n",
            "\n",
            "Possibility number-302\n",
            "System of equations with:\n",
            "a = 2, b = 2, c = 3,\n",
            "d = 3, e = 4, f = 8,\n",
            "g = 11, h = 1, i = 5,\n",
            "x = 25,000, y = 25,500, z = 26,000\n",
            "--------------------------------------------------\n",
            "The system of equations is:\n",
            "2x + 2y + 3z = 179,000\n",
            "3x + 4y + 8z = 385,000\n",
            "11x + 1y + 5z = 430,500\n",
            "\n",
            "Possibility number-303\n",
            "System of equations with:\n",
            "a = 2, b = 2, c = 3,\n",
            "d = 3, e = 4, f = 8,\n",
            "g = 11, h = 1, i = 6,\n",
            "x = 25,000, y = 25,500, z = 26,000\n",
            "--------------------------------------------------\n",
            "The system of equations is:\n",
            "2x + 2y + 3z = 179,000\n",
            "3x + 4y + 8z = 385,000\n",
            "11x + 1y + 6z = 456,500\n",
            "\n",
            "Possibility number-304\n",
            "System of equations with:\n",
            "a = 2, b = 2, c = 3,\n",
            "d = 3, e = 4, f = 8,\n",
            "g = 11, h = 3, i = 4,\n",
            "x = 25,000, y = 25,500, z = 26,000\n",
            "--------------------------------------------------\n",
            "The system of equations is:\n",
            "2x + 2y + 3z = 179,000\n",
            "3x + 4y + 8z = 385,000\n",
            "11x + 3y + 4z = 455,500\n",
            "\n",
            "Possibility number-305\n",
            "System of equations with:\n",
            "a = 2, b = 2, c = 3,\n",
            "d = 3, e = 4, f = 8,\n",
            "g = 11, h = 3, i = 5,\n",
            "x = 25,000, y = 25,500, z = 26,000\n",
            "--------------------------------------------------\n",
            "The system of equations is:\n",
            "2x + 2y + 3z = 179,000\n",
            "3x + 4y + 8z = 385,000\n",
            "11x + 3y + 5z = 481,500\n",
            "\n",
            "Possibility number-306\n",
            "System of equations with:\n",
            "a = 2, b = 2, c = 3,\n",
            "d = 3, e = 4, f = 8,\n",
            "g = 11, h = 3, i = 6,\n",
            "x = 25,000, y = 25,500, z = 26,000\n",
            "--------------------------------------------------\n",
            "The system of equations is:\n",
            "2x + 2y + 3z = 179,000\n",
            "3x + 4y + 8z = 385,000\n",
            "11x + 3y + 6z = 507,500\n",
            "\n",
            "Possibility number-307\n",
            "System of equations with:\n",
            "a = 2, b = 2, c = 3,\n",
            "d = 3, e = 4, f = 10,\n",
            "g = 5, h = 1, i = 4,\n",
            "x = 25,000, y = 25,500, z = 26,000\n",
            "--------------------------------------------------\n",
            "The system of equations is:\n",
            "2x + 2y + 3z = 179,000\n",
            "3x + 4y + 10z = 437,000\n",
            "5x + 1y + 4z = 254,500\n",
            "\n",
            "Possibility number-308\n",
            "System of equations with:\n",
            "a = 2, b = 2, c = 3,\n",
            "d = 3, e = 4, f = 10,\n",
            "g = 5, h = 1, i = 5,\n",
            "x = 25,000, y = 25,500, z = 26,000\n",
            "--------------------------------------------------\n",
            "The system of equations is:\n",
            "2x + 2y + 3z = 179,000\n",
            "3x + 4y + 10z = 437,000\n",
            "5x + 1y + 5z = 280,500\n",
            "\n",
            "Possibility number-309\n",
            "System of equations with:\n",
            "a = 2, b = 2, c = 3,\n",
            "d = 3, e = 4, f = 10,\n",
            "g = 5, h = 1, i = 6,\n",
            "x = 25,000, y = 25,500, z = 26,000\n",
            "--------------------------------------------------\n",
            "The system of equations is:\n",
            "2x + 2y + 3z = 179,000\n",
            "3x + 4y + 10z = 437,000\n",
            "5x + 1y + 6z = 306,500\n",
            "\n",
            "Possibility number-310\n",
            "System of equations with:\n",
            "a = 2, b = 2, c = 3,\n",
            "d = 3, e = 4, f = 10,\n",
            "g = 5, h = 3, i = 4,\n",
            "x = 25,000, y = 25,500, z = 26,000\n",
            "--------------------------------------------------\n",
            "The system of equations is:\n",
            "2x + 2y + 3z = 179,000\n",
            "3x + 4y + 10z = 437,000\n",
            "5x + 3y + 4z = 305,500\n",
            "\n",
            "Possibility number-311\n",
            "System of equations with:\n",
            "a = 2, b = 2, c = 3,\n",
            "d = 3, e = 4, f = 10,\n",
            "g = 5, h = 3, i = 5,\n",
            "x = 25,000, y = 25,500, z = 26,000\n",
            "--------------------------------------------------\n",
            "The system of equations is:\n",
            "2x + 2y + 3z = 179,000\n",
            "3x + 4y + 10z = 437,000\n",
            "5x + 3y + 5z = 331,500\n",
            "\n",
            "Possibility number-312\n",
            "System of equations with:\n",
            "a = 2, b = 2, c = 3,\n",
            "d = 3, e = 4, f = 10,\n",
            "g = 5, h = 3, i = 6,\n",
            "x = 25,000, y = 25,500, z = 26,000\n",
            "--------------------------------------------------\n",
            "The system of equations is:\n",
            "2x + 2y + 3z = 179,000\n",
            "3x + 4y + 10z = 437,000\n",
            "5x + 3y + 6z = 357,500\n",
            "\n",
            "Possibility number-313\n",
            "System of equations with:\n",
            "a = 2, b = 2, c = 3,\n",
            "d = 3, e = 4, f = 10,\n",
            "g = 9, h = 1, i = 4,\n",
            "x = 25,000, y = 25,500, z = 26,000\n",
            "--------------------------------------------------\n",
            "The system of equations is:\n",
            "2x + 2y + 3z = 179,000\n",
            "3x + 4y + 10z = 437,000\n",
            "9x + 1y + 4z = 354,500\n",
            "\n",
            "Possibility number-314\n",
            "System of equations with:\n",
            "a = 2, b = 2, c = 3,\n",
            "d = 3, e = 4, f = 10,\n",
            "g = 9, h = 1, i = 5,\n",
            "x = 25,000, y = 25,500, z = 26,000\n",
            "--------------------------------------------------\n",
            "The system of equations is:\n",
            "2x + 2y + 3z = 179,000\n",
            "3x + 4y + 10z = 437,000\n",
            "9x + 1y + 5z = 380,500\n",
            "\n",
            "Possibility number-315\n",
            "System of equations with:\n",
            "a = 2, b = 2, c = 3,\n",
            "d = 3, e = 4, f = 10,\n",
            "g = 9, h = 1, i = 6,\n",
            "x = 25,000, y = 25,500, z = 26,000\n",
            "--------------------------------------------------\n",
            "The system of equations is:\n",
            "2x + 2y + 3z = 179,000\n",
            "3x + 4y + 10z = 437,000\n",
            "9x + 1y + 6z = 406,500\n",
            "\n",
            "Possibility number-316\n",
            "System of equations with:\n",
            "a = 2, b = 2, c = 3,\n",
            "d = 3, e = 4, f = 10,\n",
            "g = 9, h = 3, i = 4,\n",
            "x = 25,000, y = 25,500, z = 26,000\n",
            "--------------------------------------------------\n",
            "The system of equations is:\n",
            "2x + 2y + 3z = 179,000\n",
            "3x + 4y + 10z = 437,000\n",
            "9x + 3y + 4z = 405,500\n",
            "\n",
            "Possibility number-317\n",
            "System of equations with:\n",
            "a = 2, b = 2, c = 3,\n",
            "d = 3, e = 4, f = 10,\n",
            "g = 9, h = 3, i = 5,\n",
            "x = 25,000, y = 25,500, z = 26,000\n",
            "--------------------------------------------------\n",
            "The system of equations is:\n",
            "2x + 2y + 3z = 179,000\n",
            "3x + 4y + 10z = 437,000\n",
            "9x + 3y + 5z = 431,500\n",
            "\n",
            "Possibility number-318\n",
            "System of equations with:\n",
            "a = 2, b = 2, c = 3,\n",
            "d = 3, e = 4, f = 10,\n",
            "g = 9, h = 3, i = 6,\n",
            "x = 25,000, y = 25,500, z = 26,000\n",
            "--------------------------------------------------\n",
            "The system of equations is:\n",
            "2x + 2y + 3z = 179,000\n",
            "3x + 4y + 10z = 437,000\n",
            "9x + 3y + 6z = 457,500\n",
            "\n",
            "Possibility number-319\n",
            "System of equations with:\n",
            "a = 2, b = 2, c = 3,\n",
            "d = 3, e = 4, f = 10,\n",
            "g = 11, h = 1, i = 4,\n",
            "x = 25,000, y = 25,500, z = 26,000\n",
            "--------------------------------------------------\n",
            "The system of equations is:\n",
            "2x + 2y + 3z = 179,000\n",
            "3x + 4y + 10z = 437,000\n",
            "11x + 1y + 4z = 404,500\n",
            "\n",
            "Possibility number-320\n",
            "System of equations with:\n",
            "a = 2, b = 2, c = 3,\n",
            "d = 3, e = 4, f = 10,\n",
            "g = 11, h = 1, i = 5,\n",
            "x = 25,000, y = 25,500, z = 26,000\n",
            "--------------------------------------------------\n",
            "The system of equations is:\n",
            "2x + 2y + 3z = 179,000\n",
            "3x + 4y + 10z = 437,000\n",
            "11x + 1y + 5z = 430,500\n",
            "\n",
            "Possibility number-321\n",
            "System of equations with:\n",
            "a = 2, b = 2, c = 3,\n",
            "d = 3, e = 4, f = 10,\n",
            "g = 11, h = 1, i = 6,\n",
            "x = 25,000, y = 25,500, z = 26,000\n",
            "--------------------------------------------------\n",
            "The system of equations is:\n",
            "2x + 2y + 3z = 179,000\n",
            "3x + 4y + 10z = 437,000\n",
            "11x + 1y + 6z = 456,500\n",
            "\n",
            "Possibility number-322\n",
            "System of equations with:\n",
            "a = 2, b = 2, c = 3,\n",
            "d = 3, e = 4, f = 10,\n",
            "g = 11, h = 3, i = 4,\n",
            "x = 25,000, y = 25,500, z = 26,000\n",
            "--------------------------------------------------\n",
            "The system of equations is:\n",
            "2x + 2y + 3z = 179,000\n",
            "3x + 4y + 10z = 437,000\n",
            "11x + 3y + 4z = 455,500\n",
            "\n",
            "Possibility number-323\n",
            "System of equations with:\n",
            "a = 2, b = 2, c = 3,\n",
            "d = 3, e = 4, f = 10,\n",
            "g = 11, h = 3, i = 5,\n",
            "x = 25,000, y = 25,500, z = 26,000\n",
            "--------------------------------------------------\n",
            "The system of equations is:\n",
            "2x + 2y + 3z = 179,000\n",
            "3x + 4y + 10z = 437,000\n",
            "11x + 3y + 5z = 481,500\n",
            "\n",
            "Possibility number-324\n",
            "System of equations with:\n",
            "a = 2, b = 2, c = 3,\n",
            "d = 3, e = 4, f = 10,\n",
            "g = 11, h = 3, i = 6,\n",
            "x = 25,000, y = 25,500, z = 26,000\n",
            "--------------------------------------------------\n",
            "The system of equations is:\n",
            "2x + 2y + 3z = 179,000\n",
            "3x + 4y + 10z = 437,000\n",
            "11x + 3y + 6z = 507,500\n"
          ]
        }
      ],
      "source": [
        "# Terminal version\n",
        "\n",
        "from itertools import product\n",
        "from collections import Counter\n",
        "from fractions import Fraction\n",
        "\n",
        "t = 0  # Global variable to count valid possibilities\n",
        "\n",
        "def sle3v_ter(a, b, c, d, e, f, g, h, i, x, y, z):\n",
        "    global t\n",
        "    k1 = a * x + b * y + c * z\n",
        "    k2 = d * x + e * y + f * z\n",
        "    k3 = g * x + h * y + i * z\n",
        "    t += 1\n",
        "    print(f\"\\nPossibility number-{t:,}\")\n",
        "    print(\"System of equations with:\")\n",
        "    print(f\"a = {a}, b = {b}, c = {c},\")\n",
        "    print(f\"d = {d}, e = {e}, f = {f},\")\n",
        "    print(f\"g = {g}, h = {h}, i = {i},\")\n",
        "    print(f\"x = {x:,}, y = {y:,}, z = {z:,}\")\n",
        "    print(\"-\" * 50)\n",
        "    print(\"The system of equations is:\")\n",
        "    print(f\"{a}x + {b}y + {c}z = {k1:,}\")\n",
        "    print(f\"{d}x + {e}y + {f}z = {k2:,}\")\n",
        "    print(f\"{g}x + {h}y + {i}z = {k3:,}\")\n",
        "\n",
        "def max_duplicates_allowed(group, max_duplicates=2):\n",
        "    counts = Counter(group)\n",
        "    return all(v <= max_duplicates for v in counts.values())\n",
        "\n",
        "def is_multiple(row1, row2):\n",
        "    try:\n",
        "        ratios = [Fraction(r2, r1) for r1, r2 in zip(row1, row2) if r1 != 0]\n",
        "        return all(r == ratios[0] for r in ratios) and len(ratios) == len(row1)\n",
        "    except ZeroDivisionError:\n",
        "        return False\n",
        "\n",
        "# Value list for each coefficient\n",
        "a_values = [1, 2, 3]\n",
        "b_values = [1, 2]\n",
        "c_values = [2, 3]\n",
        "d_values = [1, 2, 3]\n",
        "e_values = [4]\n",
        "f_values = [7, 8, 10]\n",
        "g_values = [5, 9, 11]\n",
        "h_values = [1, 2, 3]\n",
        "i_values = [4, 5, 6]\n",
        "\n",
        "# Constant values for x, y, z\n",
        "x_values = [25000]\n",
        "y_values = [25500]\n",
        "z_values = [26000]\n",
        "\n",
        "# Iterate over all combinations\n",
        "print(\"General form of SLE3V:\")\n",
        "print(\"ax + by + cz = k1\")\n",
        "print(\"dx + ey + fz = k2\")\n",
        "print(\"gx + hy + iz = k3\\n\", flush=True)\n",
        "\n",
        "for a, b, c, d, e, f, g, h, i, x, y, z in product(\n",
        "    a_values, b_values, c_values,\n",
        "    d_values, e_values, f_values,\n",
        "    g_values, h_values, i_values,\n",
        "    x_values, y_values, z_values\n",
        "):\n",
        "    if t >= 9000:\n",
        "        break\n",
        "\n",
        "    # Ensure no two equations are identical\n",
        "    if (a, b, c) == (d, e, f) or (a, b, c) == (g, h, i) or (d, e, f) == (g, h, i):\n",
        "        continue\n",
        "\n",
        "    # Check if any row is a multiple of another\n",
        "    row1 = (a, b, c)\n",
        "    row2 = (d, e, f)\n",
        "    row3 = (g, h, i)\n",
        "\n",
        "    if is_multiple(row1, row2) or is_multiple(row1, row3) or is_multiple(row2, row3):\n",
        "        continue\n",
        "\n",
        "    # Check for duplicate variables in the same column\n",
        "    group1 = (a, d, g)\n",
        "    group2 = (b, e, h)\n",
        "    group3 = (c, f, i)\n",
        "\n",
        "    if not max_duplicates_allowed(group1) or not max_duplicates_allowed(group2) or not max_duplicates_allowed(group3):\n",
        "        continue\n",
        "\n",
        "    if group1 == group2 or group1 == group3 or group2 == group3:\n",
        "        continue\n",
        "\n",
        "    # Additional condition: no variable should appear more than 2 times\n",
        "    all_vars = [a, b, c, d, e, f, g, h, i]\n",
        "    duplicates = [var for var in all_vars if all_vars.count(var) >= 2]\n",
        "\n",
        "    if duplicates:\n",
        "        duplicate_value = duplicates[0]\n",
        "        if all_vars.count(duplicate_value) > 2:\n",
        "            continue\n",
        "        elif any(var == duplicate_value for var in all_vars[2:]):\n",
        "            continue\n",
        "\n",
        "    # ✅ Display valid possibility\n",
        "    sle3v_ter(a, b, c, d, e, f, g, h, i, x, y, z)\n"
      ]
    },
    {
      "cell_type": "code",
      "source": [
        "# Jupyter version\n",
        "\n",
        "from itertools import product\n",
        "from collections import Counter\n",
        "from fractions import Fraction\n",
        "from sympy import symbols, Eq, latex\n",
        "from IPython.display import display, Math\n",
        "\n",
        "# Symbols for equations\n",
        "x_sym, y_sym, z_sym = symbols('x y z')\n",
        "\n",
        "t = 0  # Global variable for counting possibilities\n",
        "\n",
        "def sle3v_jup(a, b, c, d, e, f, g, h, i, x_val, y_val, z_val):\n",
        "    global t\n",
        "    k1 = a * x_val + b * y_val + c * z_val\n",
        "    k2 = d * x_val + e * y_val + f * z_val\n",
        "    k3 = g * x_val + h * y_val + i * z_val\n",
        "    t += 1\n",
        "\n",
        "    print(f\"\\nPossibility number-{t:,}\")\n",
        "    print(\"System of equations with:\")\n",
        "    print(f\"a = {a}, b = {b}, c = {c},\\nd = {d}, e = {e}, f = {f},\\ng = {g}, h = {h}, i = {i},\")\n",
        "    print(f\"x = {x_val:,}, y = {y_val:,}, z = {z_val:,}\")\n",
        "    print(\"-\" * 50)\n",
        "    print(\"The system of equations is:\")\n",
        "\n",
        "    display(Math(r\"\\begin{cases}\" +\n",
        "                 f\"{latex(a*x_sym + b*y_sym + c*z_sym)} = \\\\text{{{format(k1, ',')}}}\" + r\"\\\\\" +\n",
        "                 f\"{latex(d*x_sym + e*y_sym + f*z_sym)} = \\\\text{{{format(k2, ',')}}}\" + r\"\\\\\" +\n",
        "                 f\"{latex(g*x_sym + h*y_sym + i*z_sym)} = \\\\text{{{format(k3, ',')}}}\" +\n",
        "                 r\"\\end{cases}\"))\n",
        "\n",
        "def max_duplicates_allowed(group, max_duplicates=2):\n",
        "    counts = Counter(group)\n",
        "    return all(v <= max_duplicates for v in counts.values())\n",
        "\n",
        "def is_multiple(row1, row2):\n",
        "    try:\n",
        "        ratios = [Fraction(r2, r1) for r1, r2 in zip(row1, row2) if r1 != 0]\n",
        "        return all(r == ratios[0] for r in ratios) and len(ratios) == len(row1)\n",
        "    except ZeroDivisionError:\n",
        "        return False\n",
        "\n",
        "# Value list for each coefficient\n",
        "a_values = [1, 2, 3]\n",
        "b_values = [1, 2]\n",
        "c_values = [2, 3]\n",
        "d_values = [1, 2, 3]\n",
        "e_values = [4]\n",
        "f_values = [7, 8, 10]\n",
        "g_values = [5, 9, 11]\n",
        "h_values = [1, 2, 3]\n",
        "i_values = [4, 5, 6]\n",
        "\n",
        "# Constant values for x, y, z\n",
        "x_values = [25000]\n",
        "y_values = [25500]\n",
        "z_values = [26000]\n",
        "\n",
        "# Show general form\n",
        "display(Math(\n",
        "    r\"\\text{General form of SLE3V:}\"\n",
        "    r\"\\\\\"  # New line\n",
        "    r\"\\begin{cases}\"\n",
        "    r\"ax + by + cz = k_1 \\\\\"\n",
        "    r\"dx + ey + fz = k_2 \\\\\"\n",
        "    r\"gx + hy + iz = k_3\"\n",
        "    r\"\\end{cases}\"\n",
        "))\n",
        "\n",
        "# Iterate over all combinations\n",
        "for a, b, c, d, e, f, g, h, i, x, y, z in product(\n",
        "    a_values, b_values, c_values,\n",
        "    d_values, e_values, f_values,\n",
        "    g_values, h_values, i_values,\n",
        "    x_values, y_values, z_values\n",
        "):\n",
        "    if t >= 9000:\n",
        "        break\n",
        "\n",
        "    # Do not allow identical equations\n",
        "    if (a, b, c) == (d, e, f) or (a, b, c) == (g, h, i) or (d, e, f) == (g, h, i):\n",
        "        continue\n",
        "\n",
        "    # Check if any row is a multiple of another\n",
        "    row1 = (a, b, c)\n",
        "    row2 = (d, e, f)\n",
        "    row3 = (g, h, i)\n",
        "\n",
        "    if is_multiple(row1, row2) or is_multiple(row1, row3) or is_multiple(row2, row3):\n",
        "        continue\n",
        "\n",
        "    # Check duplicate values in column groups: a-d-g, b-e-h, c-f-i\n",
        "    group1 = (a, d, g)\n",
        "    group2 = (b, e, h)\n",
        "    group3 = (c, f, i)\n",
        "\n",
        "    if not max_duplicates_allowed(group1) or not max_duplicates_allowed(group2) or not max_duplicates_allowed(group3):\n",
        "        continue\n",
        "\n",
        "    if group1 == group2 or group1 == group3 or group2 == group3:\n",
        "        continue\n",
        "\n",
        "    # Ensure no variable appears more than 2 times overall\n",
        "    all_vars = [a, b, c, d, e, f, g, h, i]\n",
        "    duplicates = [var for var in all_vars if all_vars.count(var) >= 2]\n",
        "\n",
        "    if duplicates:\n",
        "        duplicate_value = duplicates[0]\n",
        "        if all_vars.count(duplicate_value) > 2:\n",
        "            continue\n",
        "        elif any(var == duplicate_value for var in all_vars[2:]):\n",
        "            continue\n",
        "\n",
        "    # ✅ Show valid result\n",
        "    sle3v_jup(a, b, c, d, e, f, g, h, i, x, y, z)\n"
      ],
      "metadata": {
        "colab": {
          "base_uri": "https://localhost:8080/",
          "height": 1000
        },
        "id": "JDvOHLXgkIHx",
        "outputId": "3d711c3d-7059-49a4-aa86-4d46939b9a11"
      },
      "execution_count": 10,
      "outputs": [
        {
          "output_type": "display_data",
          "data": {
            "text/plain": [
              "<IPython.core.display.Math object>"
            ],
            "text/latex": "$\\displaystyle \\text{General form of SLE3V:}\\\\\\begin{cases}ax + by + cz = k_1 \\\\dx + ey + fz = k_2 \\\\gx + hy + iz = k_3\\end{cases}$"
          },
          "metadata": {}
        },
        {
          "output_type": "stream",
          "name": "stdout",
          "text": [
            "\n",
            "Possibility number-1\n",
            "System of equations with:\n",
            "a = 1, b = 1, c = 2,\n",
            "d = 2, e = 4, f = 7,\n",
            "g = 5, h = 2, i = 4,\n",
            "x = 25,000, y = 25,500, z = 26,000\n",
            "--------------------------------------------------\n",
            "The system of equations is:\n"
          ]
        },
        {
          "output_type": "display_data",
          "data": {
            "text/plain": [
              "<IPython.core.display.Math object>"
            ],
            "text/latex": "$\\displaystyle \\begin{cases}x + y + 2 z = \\text{102,500}\\\\2 x + 4 y + 7 z = \\text{334,000}\\\\5 x + 2 y + 4 z = \\text{280,000}\\end{cases}$"
          },
          "metadata": {}
        },
        {
          "output_type": "stream",
          "name": "stdout",
          "text": [
            "\n",
            "Possibility number-2\n",
            "System of equations with:\n",
            "a = 1, b = 1, c = 2,\n",
            "d = 2, e = 4, f = 7,\n",
            "g = 5, h = 2, i = 5,\n",
            "x = 25,000, y = 25,500, z = 26,000\n",
            "--------------------------------------------------\n",
            "The system of equations is:\n"
          ]
        },
        {
          "output_type": "display_data",
          "data": {
            "text/plain": [
              "<IPython.core.display.Math object>"
            ],
            "text/latex": "$\\displaystyle \\begin{cases}x + y + 2 z = \\text{102,500}\\\\2 x + 4 y + 7 z = \\text{334,000}\\\\5 x + 2 y + 5 z = \\text{306,000}\\end{cases}$"
          },
          "metadata": {}
        },
        {
          "output_type": "stream",
          "name": "stdout",
          "text": [
            "\n",
            "Possibility number-3\n",
            "System of equations with:\n",
            "a = 1, b = 1, c = 2,\n",
            "d = 2, e = 4, f = 7,\n",
            "g = 5, h = 2, i = 6,\n",
            "x = 25,000, y = 25,500, z = 26,000\n",
            "--------------------------------------------------\n",
            "The system of equations is:\n"
          ]
        },
        {
          "output_type": "display_data",
          "data": {
            "text/plain": [
              "<IPython.core.display.Math object>"
            ],
            "text/latex": "$\\displaystyle \\begin{cases}x + y + 2 z = \\text{102,500}\\\\2 x + 4 y + 7 z = \\text{334,000}\\\\5 x + 2 y + 6 z = \\text{332,000}\\end{cases}$"
          },
          "metadata": {}
        },
        {
          "output_type": "stream",
          "name": "stdout",
          "text": [
            "\n",
            "Possibility number-4\n",
            "System of equations with:\n",
            "a = 1, b = 1, c = 2,\n",
            "d = 2, e = 4, f = 7,\n",
            "g = 5, h = 3, i = 4,\n",
            "x = 25,000, y = 25,500, z = 26,000\n",
            "--------------------------------------------------\n",
            "The system of equations is:\n"
          ]
        },
        {
          "output_type": "display_data",
          "data": {
            "text/plain": [
              "<IPython.core.display.Math object>"
            ],
            "text/latex": "$\\displaystyle \\begin{cases}x + y + 2 z = \\text{102,500}\\\\2 x + 4 y + 7 z = \\text{334,000}\\\\5 x + 3 y + 4 z = \\text{305,500}\\end{cases}$"
          },
          "metadata": {}
        },
        {
          "output_type": "stream",
          "name": "stdout",
          "text": [
            "\n",
            "Possibility number-5\n",
            "System of equations with:\n",
            "a = 1, b = 1, c = 2,\n",
            "d = 2, e = 4, f = 7,\n",
            "g = 5, h = 3, i = 5,\n",
            "x = 25,000, y = 25,500, z = 26,000\n",
            "--------------------------------------------------\n",
            "The system of equations is:\n"
          ]
        },
        {
          "output_type": "display_data",
          "data": {
            "text/plain": [
              "<IPython.core.display.Math object>"
            ],
            "text/latex": "$\\displaystyle \\begin{cases}x + y + 2 z = \\text{102,500}\\\\2 x + 4 y + 7 z = \\text{334,000}\\\\5 x + 3 y + 5 z = \\text{331,500}\\end{cases}$"
          },
          "metadata": {}
        },
        {
          "output_type": "stream",
          "name": "stdout",
          "text": [
            "\n",
            "Possibility number-6\n",
            "System of equations with:\n",
            "a = 1, b = 1, c = 2,\n",
            "d = 2, e = 4, f = 7,\n",
            "g = 5, h = 3, i = 6,\n",
            "x = 25,000, y = 25,500, z = 26,000\n",
            "--------------------------------------------------\n",
            "The system of equations is:\n"
          ]
        },
        {
          "output_type": "display_data",
          "data": {
            "text/plain": [
              "<IPython.core.display.Math object>"
            ],
            "text/latex": "$\\displaystyle \\begin{cases}x + y + 2 z = \\text{102,500}\\\\2 x + 4 y + 7 z = \\text{334,000}\\\\5 x + 3 y + 6 z = \\text{357,500}\\end{cases}$"
          },
          "metadata": {}
        },
        {
          "output_type": "stream",
          "name": "stdout",
          "text": [
            "\n",
            "Possibility number-7\n",
            "System of equations with:\n",
            "a = 1, b = 1, c = 2,\n",
            "d = 2, e = 4, f = 7,\n",
            "g = 9, h = 2, i = 4,\n",
            "x = 25,000, y = 25,500, z = 26,000\n",
            "--------------------------------------------------\n",
            "The system of equations is:\n"
          ]
        },
        {
          "output_type": "display_data",
          "data": {
            "text/plain": [
              "<IPython.core.display.Math object>"
            ],
            "text/latex": "$\\displaystyle \\begin{cases}x + y + 2 z = \\text{102,500}\\\\2 x + 4 y + 7 z = \\text{334,000}\\\\9 x + 2 y + 4 z = \\text{380,000}\\end{cases}$"
          },
          "metadata": {}
        },
        {
          "output_type": "stream",
          "name": "stdout",
          "text": [
            "\n",
            "Possibility number-8\n",
            "System of equations with:\n",
            "a = 1, b = 1, c = 2,\n",
            "d = 2, e = 4, f = 7,\n",
            "g = 9, h = 2, i = 5,\n",
            "x = 25,000, y = 25,500, z = 26,000\n",
            "--------------------------------------------------\n",
            "The system of equations is:\n"
          ]
        },
        {
          "output_type": "display_data",
          "data": {
            "text/plain": [
              "<IPython.core.display.Math object>"
            ],
            "text/latex": "$\\displaystyle \\begin{cases}x + y + 2 z = \\text{102,500}\\\\2 x + 4 y + 7 z = \\text{334,000}\\\\9 x + 2 y + 5 z = \\text{406,000}\\end{cases}$"
          },
          "metadata": {}
        },
        {
          "output_type": "stream",
          "name": "stdout",
          "text": [
            "\n",
            "Possibility number-9\n",
            "System of equations with:\n",
            "a = 1, b = 1, c = 2,\n",
            "d = 2, e = 4, f = 7,\n",
            "g = 9, h = 2, i = 6,\n",
            "x = 25,000, y = 25,500, z = 26,000\n",
            "--------------------------------------------------\n",
            "The system of equations is:\n"
          ]
        },
        {
          "output_type": "display_data",
          "data": {
            "text/plain": [
              "<IPython.core.display.Math object>"
            ],
            "text/latex": "$\\displaystyle \\begin{cases}x + y + 2 z = \\text{102,500}\\\\2 x + 4 y + 7 z = \\text{334,000}\\\\9 x + 2 y + 6 z = \\text{432,000}\\end{cases}$"
          },
          "metadata": {}
        },
        {
          "output_type": "stream",
          "name": "stdout",
          "text": [
            "\n",
            "Possibility number-10\n",
            "System of equations with:\n",
            "a = 1, b = 1, c = 2,\n",
            "d = 2, e = 4, f = 7,\n",
            "g = 9, h = 3, i = 4,\n",
            "x = 25,000, y = 25,500, z = 26,000\n",
            "--------------------------------------------------\n",
            "The system of equations is:\n"
          ]
        },
        {
          "output_type": "display_data",
          "data": {
            "text/plain": [
              "<IPython.core.display.Math object>"
            ],
            "text/latex": "$\\displaystyle \\begin{cases}x + y + 2 z = \\text{102,500}\\\\2 x + 4 y + 7 z = \\text{334,000}\\\\9 x + 3 y + 4 z = \\text{405,500}\\end{cases}$"
          },
          "metadata": {}
        },
        {
          "output_type": "stream",
          "name": "stdout",
          "text": [
            "\n",
            "Possibility number-11\n",
            "System of equations with:\n",
            "a = 1, b = 1, c = 2,\n",
            "d = 2, e = 4, f = 7,\n",
            "g = 9, h = 3, i = 5,\n",
            "x = 25,000, y = 25,500, z = 26,000\n",
            "--------------------------------------------------\n",
            "The system of equations is:\n"
          ]
        },
        {
          "output_type": "display_data",
          "data": {
            "text/plain": [
              "<IPython.core.display.Math object>"
            ],
            "text/latex": "$\\displaystyle \\begin{cases}x + y + 2 z = \\text{102,500}\\\\2 x + 4 y + 7 z = \\text{334,000}\\\\9 x + 3 y + 5 z = \\text{431,500}\\end{cases}$"
          },
          "metadata": {}
        },
        {
          "output_type": "stream",
          "name": "stdout",
          "text": [
            "\n",
            "Possibility number-12\n",
            "System of equations with:\n",
            "a = 1, b = 1, c = 2,\n",
            "d = 2, e = 4, f = 7,\n",
            "g = 9, h = 3, i = 6,\n",
            "x = 25,000, y = 25,500, z = 26,000\n",
            "--------------------------------------------------\n",
            "The system of equations is:\n"
          ]
        },
        {
          "output_type": "display_data",
          "data": {
            "text/plain": [
              "<IPython.core.display.Math object>"
            ],
            "text/latex": "$\\displaystyle \\begin{cases}x + y + 2 z = \\text{102,500}\\\\2 x + 4 y + 7 z = \\text{334,000}\\\\9 x + 3 y + 6 z = \\text{457,500}\\end{cases}$"
          },
          "metadata": {}
        },
        {
          "output_type": "stream",
          "name": "stdout",
          "text": [
            "\n",
            "Possibility number-13\n",
            "System of equations with:\n",
            "a = 1, b = 1, c = 2,\n",
            "d = 2, e = 4, f = 7,\n",
            "g = 11, h = 2, i = 4,\n",
            "x = 25,000, y = 25,500, z = 26,000\n",
            "--------------------------------------------------\n",
            "The system of equations is:\n"
          ]
        },
        {
          "output_type": "display_data",
          "data": {
            "text/plain": [
              "<IPython.core.display.Math object>"
            ],
            "text/latex": "$\\displaystyle \\begin{cases}x + y + 2 z = \\text{102,500}\\\\2 x + 4 y + 7 z = \\text{334,000}\\\\11 x + 2 y + 4 z = \\text{430,000}\\end{cases}$"
          },
          "metadata": {}
        },
        {
          "output_type": "stream",
          "name": "stdout",
          "text": [
            "\n",
            "Possibility number-14\n",
            "System of equations with:\n",
            "a = 1, b = 1, c = 2,\n",
            "d = 2, e = 4, f = 7,\n",
            "g = 11, h = 2, i = 5,\n",
            "x = 25,000, y = 25,500, z = 26,000\n",
            "--------------------------------------------------\n",
            "The system of equations is:\n"
          ]
        },
        {
          "output_type": "display_data",
          "data": {
            "text/plain": [
              "<IPython.core.display.Math object>"
            ],
            "text/latex": "$\\displaystyle \\begin{cases}x + y + 2 z = \\text{102,500}\\\\2 x + 4 y + 7 z = \\text{334,000}\\\\11 x + 2 y + 5 z = \\text{456,000}\\end{cases}$"
          },
          "metadata": {}
        },
        {
          "output_type": "stream",
          "name": "stdout",
          "text": [
            "\n",
            "Possibility number-15\n",
            "System of equations with:\n",
            "a = 1, b = 1, c = 2,\n",
            "d = 2, e = 4, f = 7,\n",
            "g = 11, h = 2, i = 6,\n",
            "x = 25,000, y = 25,500, z = 26,000\n",
            "--------------------------------------------------\n",
            "The system of equations is:\n"
          ]
        },
        {
          "output_type": "display_data",
          "data": {
            "text/plain": [
              "<IPython.core.display.Math object>"
            ],
            "text/latex": "$\\displaystyle \\begin{cases}x + y + 2 z = \\text{102,500}\\\\2 x + 4 y + 7 z = \\text{334,000}\\\\11 x + 2 y + 6 z = \\text{482,000}\\end{cases}$"
          },
          "metadata": {}
        },
        {
          "output_type": "stream",
          "name": "stdout",
          "text": [
            "\n",
            "Possibility number-16\n",
            "System of equations with:\n",
            "a = 1, b = 1, c = 2,\n",
            "d = 2, e = 4, f = 7,\n",
            "g = 11, h = 3, i = 4,\n",
            "x = 25,000, y = 25,500, z = 26,000\n",
            "--------------------------------------------------\n",
            "The system of equations is:\n"
          ]
        },
        {
          "output_type": "display_data",
          "data": {
            "text/plain": [
              "<IPython.core.display.Math object>"
            ],
            "text/latex": "$\\displaystyle \\begin{cases}x + y + 2 z = \\text{102,500}\\\\2 x + 4 y + 7 z = \\text{334,000}\\\\11 x + 3 y + 4 z = \\text{455,500}\\end{cases}$"
          },
          "metadata": {}
        },
        {
          "output_type": "stream",
          "name": "stdout",
          "text": [
            "\n",
            "Possibility number-17\n",
            "System of equations with:\n",
            "a = 1, b = 1, c = 2,\n",
            "d = 2, e = 4, f = 7,\n",
            "g = 11, h = 3, i = 5,\n",
            "x = 25,000, y = 25,500, z = 26,000\n",
            "--------------------------------------------------\n",
            "The system of equations is:\n"
          ]
        },
        {
          "output_type": "display_data",
          "data": {
            "text/plain": [
              "<IPython.core.display.Math object>"
            ],
            "text/latex": "$\\displaystyle \\begin{cases}x + y + 2 z = \\text{102,500}\\\\2 x + 4 y + 7 z = \\text{334,000}\\\\11 x + 3 y + 5 z = \\text{481,500}\\end{cases}$"
          },
          "metadata": {}
        },
        {
          "output_type": "stream",
          "name": "stdout",
          "text": [
            "\n",
            "Possibility number-18\n",
            "System of equations with:\n",
            "a = 1, b = 1, c = 2,\n",
            "d = 2, e = 4, f = 7,\n",
            "g = 11, h = 3, i = 6,\n",
            "x = 25,000, y = 25,500, z = 26,000\n",
            "--------------------------------------------------\n",
            "The system of equations is:\n"
          ]
        },
        {
          "output_type": "display_data",
          "data": {
            "text/plain": [
              "<IPython.core.display.Math object>"
            ],
            "text/latex": "$\\displaystyle \\begin{cases}x + y + 2 z = \\text{102,500}\\\\2 x + 4 y + 7 z = \\text{334,000}\\\\11 x + 3 y + 6 z = \\text{507,500}\\end{cases}$"
          },
          "metadata": {}
        },
        {
          "output_type": "stream",
          "name": "stdout",
          "text": [
            "\n",
            "Possibility number-19\n",
            "System of equations with:\n",
            "a = 1, b = 1, c = 2,\n",
            "d = 2, e = 4, f = 8,\n",
            "g = 5, h = 2, i = 4,\n",
            "x = 25,000, y = 25,500, z = 26,000\n",
            "--------------------------------------------------\n",
            "The system of equations is:\n"
          ]
        },
        {
          "output_type": "display_data",
          "data": {
            "text/plain": [
              "<IPython.core.display.Math object>"
            ],
            "text/latex": "$\\displaystyle \\begin{cases}x + y + 2 z = \\text{102,500}\\\\2 x + 4 y + 8 z = \\text{360,000}\\\\5 x + 2 y + 4 z = \\text{280,000}\\end{cases}$"
          },
          "metadata": {}
        },
        {
          "output_type": "stream",
          "name": "stdout",
          "text": [
            "\n",
            "Possibility number-20\n",
            "System of equations with:\n",
            "a = 1, b = 1, c = 2,\n",
            "d = 2, e = 4, f = 8,\n",
            "g = 5, h = 2, i = 5,\n",
            "x = 25,000, y = 25,500, z = 26,000\n",
            "--------------------------------------------------\n",
            "The system of equations is:\n"
          ]
        },
        {
          "output_type": "display_data",
          "data": {
            "text/plain": [
              "<IPython.core.display.Math object>"
            ],
            "text/latex": "$\\displaystyle \\begin{cases}x + y + 2 z = \\text{102,500}\\\\2 x + 4 y + 8 z = \\text{360,000}\\\\5 x + 2 y + 5 z = \\text{306,000}\\end{cases}$"
          },
          "metadata": {}
        },
        {
          "output_type": "stream",
          "name": "stdout",
          "text": [
            "\n",
            "Possibility number-21\n",
            "System of equations with:\n",
            "a = 1, b = 1, c = 2,\n",
            "d = 2, e = 4, f = 8,\n",
            "g = 5, h = 2, i = 6,\n",
            "x = 25,000, y = 25,500, z = 26,000\n",
            "--------------------------------------------------\n",
            "The system of equations is:\n"
          ]
        },
        {
          "output_type": "display_data",
          "data": {
            "text/plain": [
              "<IPython.core.display.Math object>"
            ],
            "text/latex": "$\\displaystyle \\begin{cases}x + y + 2 z = \\text{102,500}\\\\2 x + 4 y + 8 z = \\text{360,000}\\\\5 x + 2 y + 6 z = \\text{332,000}\\end{cases}$"
          },
          "metadata": {}
        },
        {
          "output_type": "stream",
          "name": "stdout",
          "text": [
            "\n",
            "Possibility number-22\n",
            "System of equations with:\n",
            "a = 1, b = 1, c = 2,\n",
            "d = 2, e = 4, f = 8,\n",
            "g = 5, h = 3, i = 4,\n",
            "x = 25,000, y = 25,500, z = 26,000\n",
            "--------------------------------------------------\n",
            "The system of equations is:\n"
          ]
        },
        {
          "output_type": "display_data",
          "data": {
            "text/plain": [
              "<IPython.core.display.Math object>"
            ],
            "text/latex": "$\\displaystyle \\begin{cases}x + y + 2 z = \\text{102,500}\\\\2 x + 4 y + 8 z = \\text{360,000}\\\\5 x + 3 y + 4 z = \\text{305,500}\\end{cases}$"
          },
          "metadata": {}
        },
        {
          "output_type": "stream",
          "name": "stdout",
          "text": [
            "\n",
            "Possibility number-23\n",
            "System of equations with:\n",
            "a = 1, b = 1, c = 2,\n",
            "d = 2, e = 4, f = 8,\n",
            "g = 5, h = 3, i = 5,\n",
            "x = 25,000, y = 25,500, z = 26,000\n",
            "--------------------------------------------------\n",
            "The system of equations is:\n"
          ]
        },
        {
          "output_type": "display_data",
          "data": {
            "text/plain": [
              "<IPython.core.display.Math object>"
            ],
            "text/latex": "$\\displaystyle \\begin{cases}x + y + 2 z = \\text{102,500}\\\\2 x + 4 y + 8 z = \\text{360,000}\\\\5 x + 3 y + 5 z = \\text{331,500}\\end{cases}$"
          },
          "metadata": {}
        },
        {
          "output_type": "stream",
          "name": "stdout",
          "text": [
            "\n",
            "Possibility number-24\n",
            "System of equations with:\n",
            "a = 1, b = 1, c = 2,\n",
            "d = 2, e = 4, f = 8,\n",
            "g = 5, h = 3, i = 6,\n",
            "x = 25,000, y = 25,500, z = 26,000\n",
            "--------------------------------------------------\n",
            "The system of equations is:\n"
          ]
        },
        {
          "output_type": "display_data",
          "data": {
            "text/plain": [
              "<IPython.core.display.Math object>"
            ],
            "text/latex": "$\\displaystyle \\begin{cases}x + y + 2 z = \\text{102,500}\\\\2 x + 4 y + 8 z = \\text{360,000}\\\\5 x + 3 y + 6 z = \\text{357,500}\\end{cases}$"
          },
          "metadata": {}
        },
        {
          "output_type": "stream",
          "name": "stdout",
          "text": [
            "\n",
            "Possibility number-25\n",
            "System of equations with:\n",
            "a = 1, b = 1, c = 2,\n",
            "d = 2, e = 4, f = 8,\n",
            "g = 9, h = 2, i = 4,\n",
            "x = 25,000, y = 25,500, z = 26,000\n",
            "--------------------------------------------------\n",
            "The system of equations is:\n"
          ]
        },
        {
          "output_type": "display_data",
          "data": {
            "text/plain": [
              "<IPython.core.display.Math object>"
            ],
            "text/latex": "$\\displaystyle \\begin{cases}x + y + 2 z = \\text{102,500}\\\\2 x + 4 y + 8 z = \\text{360,000}\\\\9 x + 2 y + 4 z = \\text{380,000}\\end{cases}$"
          },
          "metadata": {}
        },
        {
          "output_type": "stream",
          "name": "stdout",
          "text": [
            "\n",
            "Possibility number-26\n",
            "System of equations with:\n",
            "a = 1, b = 1, c = 2,\n",
            "d = 2, e = 4, f = 8,\n",
            "g = 9, h = 2, i = 5,\n",
            "x = 25,000, y = 25,500, z = 26,000\n",
            "--------------------------------------------------\n",
            "The system of equations is:\n"
          ]
        },
        {
          "output_type": "display_data",
          "data": {
            "text/plain": [
              "<IPython.core.display.Math object>"
            ],
            "text/latex": "$\\displaystyle \\begin{cases}x + y + 2 z = \\text{102,500}\\\\2 x + 4 y + 8 z = \\text{360,000}\\\\9 x + 2 y + 5 z = \\text{406,000}\\end{cases}$"
          },
          "metadata": {}
        },
        {
          "output_type": "stream",
          "name": "stdout",
          "text": [
            "\n",
            "Possibility number-27\n",
            "System of equations with:\n",
            "a = 1, b = 1, c = 2,\n",
            "d = 2, e = 4, f = 8,\n",
            "g = 9, h = 2, i = 6,\n",
            "x = 25,000, y = 25,500, z = 26,000\n",
            "--------------------------------------------------\n",
            "The system of equations is:\n"
          ]
        },
        {
          "output_type": "display_data",
          "data": {
            "text/plain": [
              "<IPython.core.display.Math object>"
            ],
            "text/latex": "$\\displaystyle \\begin{cases}x + y + 2 z = \\text{102,500}\\\\2 x + 4 y + 8 z = \\text{360,000}\\\\9 x + 2 y + 6 z = \\text{432,000}\\end{cases}$"
          },
          "metadata": {}
        },
        {
          "output_type": "stream",
          "name": "stdout",
          "text": [
            "\n",
            "Possibility number-28\n",
            "System of equations with:\n",
            "a = 1, b = 1, c = 2,\n",
            "d = 2, e = 4, f = 8,\n",
            "g = 9, h = 3, i = 4,\n",
            "x = 25,000, y = 25,500, z = 26,000\n",
            "--------------------------------------------------\n",
            "The system of equations is:\n"
          ]
        },
        {
          "output_type": "display_data",
          "data": {
            "text/plain": [
              "<IPython.core.display.Math object>"
            ],
            "text/latex": "$\\displaystyle \\begin{cases}x + y + 2 z = \\text{102,500}\\\\2 x + 4 y + 8 z = \\text{360,000}\\\\9 x + 3 y + 4 z = \\text{405,500}\\end{cases}$"
          },
          "metadata": {}
        },
        {
          "output_type": "stream",
          "name": "stdout",
          "text": [
            "\n",
            "Possibility number-29\n",
            "System of equations with:\n",
            "a = 1, b = 1, c = 2,\n",
            "d = 2, e = 4, f = 8,\n",
            "g = 9, h = 3, i = 5,\n",
            "x = 25,000, y = 25,500, z = 26,000\n",
            "--------------------------------------------------\n",
            "The system of equations is:\n"
          ]
        },
        {
          "output_type": "display_data",
          "data": {
            "text/plain": [
              "<IPython.core.display.Math object>"
            ],
            "text/latex": "$\\displaystyle \\begin{cases}x + y + 2 z = \\text{102,500}\\\\2 x + 4 y + 8 z = \\text{360,000}\\\\9 x + 3 y + 5 z = \\text{431,500}\\end{cases}$"
          },
          "metadata": {}
        },
        {
          "output_type": "stream",
          "name": "stdout",
          "text": [
            "\n",
            "Possibility number-30\n",
            "System of equations with:\n",
            "a = 1, b = 1, c = 2,\n",
            "d = 2, e = 4, f = 8,\n",
            "g = 9, h = 3, i = 6,\n",
            "x = 25,000, y = 25,500, z = 26,000\n",
            "--------------------------------------------------\n",
            "The system of equations is:\n"
          ]
        },
        {
          "output_type": "display_data",
          "data": {
            "text/plain": [
              "<IPython.core.display.Math object>"
            ],
            "text/latex": "$\\displaystyle \\begin{cases}x + y + 2 z = \\text{102,500}\\\\2 x + 4 y + 8 z = \\text{360,000}\\\\9 x + 3 y + 6 z = \\text{457,500}\\end{cases}$"
          },
          "metadata": {}
        },
        {
          "output_type": "stream",
          "name": "stdout",
          "text": [
            "\n",
            "Possibility number-31\n",
            "System of equations with:\n",
            "a = 1, b = 1, c = 2,\n",
            "d = 2, e = 4, f = 8,\n",
            "g = 11, h = 2, i = 4,\n",
            "x = 25,000, y = 25,500, z = 26,000\n",
            "--------------------------------------------------\n",
            "The system of equations is:\n"
          ]
        },
        {
          "output_type": "display_data",
          "data": {
            "text/plain": [
              "<IPython.core.display.Math object>"
            ],
            "text/latex": "$\\displaystyle \\begin{cases}x + y + 2 z = \\text{102,500}\\\\2 x + 4 y + 8 z = \\text{360,000}\\\\11 x + 2 y + 4 z = \\text{430,000}\\end{cases}$"
          },
          "metadata": {}
        },
        {
          "output_type": "stream",
          "name": "stdout",
          "text": [
            "\n",
            "Possibility number-32\n",
            "System of equations with:\n",
            "a = 1, b = 1, c = 2,\n",
            "d = 2, e = 4, f = 8,\n",
            "g = 11, h = 2, i = 5,\n",
            "x = 25,000, y = 25,500, z = 26,000\n",
            "--------------------------------------------------\n",
            "The system of equations is:\n"
          ]
        },
        {
          "output_type": "display_data",
          "data": {
            "text/plain": [
              "<IPython.core.display.Math object>"
            ],
            "text/latex": "$\\displaystyle \\begin{cases}x + y + 2 z = \\text{102,500}\\\\2 x + 4 y + 8 z = \\text{360,000}\\\\11 x + 2 y + 5 z = \\text{456,000}\\end{cases}$"
          },
          "metadata": {}
        },
        {
          "output_type": "stream",
          "name": "stdout",
          "text": [
            "\n",
            "Possibility number-33\n",
            "System of equations with:\n",
            "a = 1, b = 1, c = 2,\n",
            "d = 2, e = 4, f = 8,\n",
            "g = 11, h = 2, i = 6,\n",
            "x = 25,000, y = 25,500, z = 26,000\n",
            "--------------------------------------------------\n",
            "The system of equations is:\n"
          ]
        },
        {
          "output_type": "display_data",
          "data": {
            "text/plain": [
              "<IPython.core.display.Math object>"
            ],
            "text/latex": "$\\displaystyle \\begin{cases}x + y + 2 z = \\text{102,500}\\\\2 x + 4 y + 8 z = \\text{360,000}\\\\11 x + 2 y + 6 z = \\text{482,000}\\end{cases}$"
          },
          "metadata": {}
        },
        {
          "output_type": "stream",
          "name": "stdout",
          "text": [
            "\n",
            "Possibility number-34\n",
            "System of equations with:\n",
            "a = 1, b = 1, c = 2,\n",
            "d = 2, e = 4, f = 8,\n",
            "g = 11, h = 3, i = 4,\n",
            "x = 25,000, y = 25,500, z = 26,000\n",
            "--------------------------------------------------\n",
            "The system of equations is:\n"
          ]
        },
        {
          "output_type": "display_data",
          "data": {
            "text/plain": [
              "<IPython.core.display.Math object>"
            ],
            "text/latex": "$\\displaystyle \\begin{cases}x + y + 2 z = \\text{102,500}\\\\2 x + 4 y + 8 z = \\text{360,000}\\\\11 x + 3 y + 4 z = \\text{455,500}\\end{cases}$"
          },
          "metadata": {}
        },
        {
          "output_type": "stream",
          "name": "stdout",
          "text": [
            "\n",
            "Possibility number-35\n",
            "System of equations with:\n",
            "a = 1, b = 1, c = 2,\n",
            "d = 2, e = 4, f = 8,\n",
            "g = 11, h = 3, i = 5,\n",
            "x = 25,000, y = 25,500, z = 26,000\n",
            "--------------------------------------------------\n",
            "The system of equations is:\n"
          ]
        },
        {
          "output_type": "display_data",
          "data": {
            "text/plain": [
              "<IPython.core.display.Math object>"
            ],
            "text/latex": "$\\displaystyle \\begin{cases}x + y + 2 z = \\text{102,500}\\\\2 x + 4 y + 8 z = \\text{360,000}\\\\11 x + 3 y + 5 z = \\text{481,500}\\end{cases}$"
          },
          "metadata": {}
        },
        {
          "output_type": "stream",
          "name": "stdout",
          "text": [
            "\n",
            "Possibility number-36\n",
            "System of equations with:\n",
            "a = 1, b = 1, c = 2,\n",
            "d = 2, e = 4, f = 8,\n",
            "g = 11, h = 3, i = 6,\n",
            "x = 25,000, y = 25,500, z = 26,000\n",
            "--------------------------------------------------\n",
            "The system of equations is:\n"
          ]
        },
        {
          "output_type": "display_data",
          "data": {
            "text/plain": [
              "<IPython.core.display.Math object>"
            ],
            "text/latex": "$\\displaystyle \\begin{cases}x + y + 2 z = \\text{102,500}\\\\2 x + 4 y + 8 z = \\text{360,000}\\\\11 x + 3 y + 6 z = \\text{507,500}\\end{cases}$"
          },
          "metadata": {}
        },
        {
          "output_type": "stream",
          "name": "stdout",
          "text": [
            "\n",
            "Possibility number-37\n",
            "System of equations with:\n",
            "a = 1, b = 1, c = 2,\n",
            "d = 2, e = 4, f = 10,\n",
            "g = 5, h = 2, i = 4,\n",
            "x = 25,000, y = 25,500, z = 26,000\n",
            "--------------------------------------------------\n",
            "The system of equations is:\n"
          ]
        },
        {
          "output_type": "display_data",
          "data": {
            "text/plain": [
              "<IPython.core.display.Math object>"
            ],
            "text/latex": "$\\displaystyle \\begin{cases}x + y + 2 z = \\text{102,500}\\\\2 x + 4 y + 10 z = \\text{412,000}\\\\5 x + 2 y + 4 z = \\text{280,000}\\end{cases}$"
          },
          "metadata": {}
        },
        {
          "output_type": "stream",
          "name": "stdout",
          "text": [
            "\n",
            "Possibility number-38\n",
            "System of equations with:\n",
            "a = 1, b = 1, c = 2,\n",
            "d = 2, e = 4, f = 10,\n",
            "g = 5, h = 2, i = 5,\n",
            "x = 25,000, y = 25,500, z = 26,000\n",
            "--------------------------------------------------\n",
            "The system of equations is:\n"
          ]
        },
        {
          "output_type": "display_data",
          "data": {
            "text/plain": [
              "<IPython.core.display.Math object>"
            ],
            "text/latex": "$\\displaystyle \\begin{cases}x + y + 2 z = \\text{102,500}\\\\2 x + 4 y + 10 z = \\text{412,000}\\\\5 x + 2 y + 5 z = \\text{306,000}\\end{cases}$"
          },
          "metadata": {}
        },
        {
          "output_type": "stream",
          "name": "stdout",
          "text": [
            "\n",
            "Possibility number-39\n",
            "System of equations with:\n",
            "a = 1, b = 1, c = 2,\n",
            "d = 2, e = 4, f = 10,\n",
            "g = 5, h = 2, i = 6,\n",
            "x = 25,000, y = 25,500, z = 26,000\n",
            "--------------------------------------------------\n",
            "The system of equations is:\n"
          ]
        },
        {
          "output_type": "display_data",
          "data": {
            "text/plain": [
              "<IPython.core.display.Math object>"
            ],
            "text/latex": "$\\displaystyle \\begin{cases}x + y + 2 z = \\text{102,500}\\\\2 x + 4 y + 10 z = \\text{412,000}\\\\5 x + 2 y + 6 z = \\text{332,000}\\end{cases}$"
          },
          "metadata": {}
        },
        {
          "output_type": "stream",
          "name": "stdout",
          "text": [
            "\n",
            "Possibility number-40\n",
            "System of equations with:\n",
            "a = 1, b = 1, c = 2,\n",
            "d = 2, e = 4, f = 10,\n",
            "g = 5, h = 3, i = 4,\n",
            "x = 25,000, y = 25,500, z = 26,000\n",
            "--------------------------------------------------\n",
            "The system of equations is:\n"
          ]
        },
        {
          "output_type": "display_data",
          "data": {
            "text/plain": [
              "<IPython.core.display.Math object>"
            ],
            "text/latex": "$\\displaystyle \\begin{cases}x + y + 2 z = \\text{102,500}\\\\2 x + 4 y + 10 z = \\text{412,000}\\\\5 x + 3 y + 4 z = \\text{305,500}\\end{cases}$"
          },
          "metadata": {}
        },
        {
          "output_type": "stream",
          "name": "stdout",
          "text": [
            "\n",
            "Possibility number-41\n",
            "System of equations with:\n",
            "a = 1, b = 1, c = 2,\n",
            "d = 2, e = 4, f = 10,\n",
            "g = 5, h = 3, i = 5,\n",
            "x = 25,000, y = 25,500, z = 26,000\n",
            "--------------------------------------------------\n",
            "The system of equations is:\n"
          ]
        },
        {
          "output_type": "display_data",
          "data": {
            "text/plain": [
              "<IPython.core.display.Math object>"
            ],
            "text/latex": "$\\displaystyle \\begin{cases}x + y + 2 z = \\text{102,500}\\\\2 x + 4 y + 10 z = \\text{412,000}\\\\5 x + 3 y + 5 z = \\text{331,500}\\end{cases}$"
          },
          "metadata": {}
        },
        {
          "output_type": "stream",
          "name": "stdout",
          "text": [
            "\n",
            "Possibility number-42\n",
            "System of equations with:\n",
            "a = 1, b = 1, c = 2,\n",
            "d = 2, e = 4, f = 10,\n",
            "g = 5, h = 3, i = 6,\n",
            "x = 25,000, y = 25,500, z = 26,000\n",
            "--------------------------------------------------\n",
            "The system of equations is:\n"
          ]
        },
        {
          "output_type": "display_data",
          "data": {
            "text/plain": [
              "<IPython.core.display.Math object>"
            ],
            "text/latex": "$\\displaystyle \\begin{cases}x + y + 2 z = \\text{102,500}\\\\2 x + 4 y + 10 z = \\text{412,000}\\\\5 x + 3 y + 6 z = \\text{357,500}\\end{cases}$"
          },
          "metadata": {}
        },
        {
          "output_type": "stream",
          "name": "stdout",
          "text": [
            "\n",
            "Possibility number-43\n",
            "System of equations with:\n",
            "a = 1, b = 1, c = 2,\n",
            "d = 2, e = 4, f = 10,\n",
            "g = 9, h = 2, i = 4,\n",
            "x = 25,000, y = 25,500, z = 26,000\n",
            "--------------------------------------------------\n",
            "The system of equations is:\n"
          ]
        },
        {
          "output_type": "display_data",
          "data": {
            "text/plain": [
              "<IPython.core.display.Math object>"
            ],
            "text/latex": "$\\displaystyle \\begin{cases}x + y + 2 z = \\text{102,500}\\\\2 x + 4 y + 10 z = \\text{412,000}\\\\9 x + 2 y + 4 z = \\text{380,000}\\end{cases}$"
          },
          "metadata": {}
        },
        {
          "output_type": "stream",
          "name": "stdout",
          "text": [
            "\n",
            "Possibility number-44\n",
            "System of equations with:\n",
            "a = 1, b = 1, c = 2,\n",
            "d = 2, e = 4, f = 10,\n",
            "g = 9, h = 2, i = 5,\n",
            "x = 25,000, y = 25,500, z = 26,000\n",
            "--------------------------------------------------\n",
            "The system of equations is:\n"
          ]
        },
        {
          "output_type": "display_data",
          "data": {
            "text/plain": [
              "<IPython.core.display.Math object>"
            ],
            "text/latex": "$\\displaystyle \\begin{cases}x + y + 2 z = \\text{102,500}\\\\2 x + 4 y + 10 z = \\text{412,000}\\\\9 x + 2 y + 5 z = \\text{406,000}\\end{cases}$"
          },
          "metadata": {}
        },
        {
          "output_type": "stream",
          "name": "stdout",
          "text": [
            "\n",
            "Possibility number-45\n",
            "System of equations with:\n",
            "a = 1, b = 1, c = 2,\n",
            "d = 2, e = 4, f = 10,\n",
            "g = 9, h = 2, i = 6,\n",
            "x = 25,000, y = 25,500, z = 26,000\n",
            "--------------------------------------------------\n",
            "The system of equations is:\n"
          ]
        },
        {
          "output_type": "display_data",
          "data": {
            "text/plain": [
              "<IPython.core.display.Math object>"
            ],
            "text/latex": "$\\displaystyle \\begin{cases}x + y + 2 z = \\text{102,500}\\\\2 x + 4 y + 10 z = \\text{412,000}\\\\9 x + 2 y + 6 z = \\text{432,000}\\end{cases}$"
          },
          "metadata": {}
        },
        {
          "output_type": "stream",
          "name": "stdout",
          "text": [
            "\n",
            "Possibility number-46\n",
            "System of equations with:\n",
            "a = 1, b = 1, c = 2,\n",
            "d = 2, e = 4, f = 10,\n",
            "g = 9, h = 3, i = 4,\n",
            "x = 25,000, y = 25,500, z = 26,000\n",
            "--------------------------------------------------\n",
            "The system of equations is:\n"
          ]
        },
        {
          "output_type": "display_data",
          "data": {
            "text/plain": [
              "<IPython.core.display.Math object>"
            ],
            "text/latex": "$\\displaystyle \\begin{cases}x + y + 2 z = \\text{102,500}\\\\2 x + 4 y + 10 z = \\text{412,000}\\\\9 x + 3 y + 4 z = \\text{405,500}\\end{cases}$"
          },
          "metadata": {}
        },
        {
          "output_type": "stream",
          "name": "stdout",
          "text": [
            "\n",
            "Possibility number-47\n",
            "System of equations with:\n",
            "a = 1, b = 1, c = 2,\n",
            "d = 2, e = 4, f = 10,\n",
            "g = 9, h = 3, i = 5,\n",
            "x = 25,000, y = 25,500, z = 26,000\n",
            "--------------------------------------------------\n",
            "The system of equations is:\n"
          ]
        },
        {
          "output_type": "display_data",
          "data": {
            "text/plain": [
              "<IPython.core.display.Math object>"
            ],
            "text/latex": "$\\displaystyle \\begin{cases}x + y + 2 z = \\text{102,500}\\\\2 x + 4 y + 10 z = \\text{412,000}\\\\9 x + 3 y + 5 z = \\text{431,500}\\end{cases}$"
          },
          "metadata": {}
        },
        {
          "output_type": "stream",
          "name": "stdout",
          "text": [
            "\n",
            "Possibility number-48\n",
            "System of equations with:\n",
            "a = 1, b = 1, c = 2,\n",
            "d = 2, e = 4, f = 10,\n",
            "g = 9, h = 3, i = 6,\n",
            "x = 25,000, y = 25,500, z = 26,000\n",
            "--------------------------------------------------\n",
            "The system of equations is:\n"
          ]
        },
        {
          "output_type": "display_data",
          "data": {
            "text/plain": [
              "<IPython.core.display.Math object>"
            ],
            "text/latex": "$\\displaystyle \\begin{cases}x + y + 2 z = \\text{102,500}\\\\2 x + 4 y + 10 z = \\text{412,000}\\\\9 x + 3 y + 6 z = \\text{457,500}\\end{cases}$"
          },
          "metadata": {}
        },
        {
          "output_type": "stream",
          "name": "stdout",
          "text": [
            "\n",
            "Possibility number-49\n",
            "System of equations with:\n",
            "a = 1, b = 1, c = 2,\n",
            "d = 2, e = 4, f = 10,\n",
            "g = 11, h = 2, i = 4,\n",
            "x = 25,000, y = 25,500, z = 26,000\n",
            "--------------------------------------------------\n",
            "The system of equations is:\n"
          ]
        },
        {
          "output_type": "display_data",
          "data": {
            "text/plain": [
              "<IPython.core.display.Math object>"
            ],
            "text/latex": "$\\displaystyle \\begin{cases}x + y + 2 z = \\text{102,500}\\\\2 x + 4 y + 10 z = \\text{412,000}\\\\11 x + 2 y + 4 z = \\text{430,000}\\end{cases}$"
          },
          "metadata": {}
        },
        {
          "output_type": "stream",
          "name": "stdout",
          "text": [
            "\n",
            "Possibility number-50\n",
            "System of equations with:\n",
            "a = 1, b = 1, c = 2,\n",
            "d = 2, e = 4, f = 10,\n",
            "g = 11, h = 2, i = 5,\n",
            "x = 25,000, y = 25,500, z = 26,000\n",
            "--------------------------------------------------\n",
            "The system of equations is:\n"
          ]
        },
        {
          "output_type": "display_data",
          "data": {
            "text/plain": [
              "<IPython.core.display.Math object>"
            ],
            "text/latex": "$\\displaystyle \\begin{cases}x + y + 2 z = \\text{102,500}\\\\2 x + 4 y + 10 z = \\text{412,000}\\\\11 x + 2 y + 5 z = \\text{456,000}\\end{cases}$"
          },
          "metadata": {}
        },
        {
          "output_type": "stream",
          "name": "stdout",
          "text": [
            "\n",
            "Possibility number-51\n",
            "System of equations with:\n",
            "a = 1, b = 1, c = 2,\n",
            "d = 2, e = 4, f = 10,\n",
            "g = 11, h = 2, i = 6,\n",
            "x = 25,000, y = 25,500, z = 26,000\n",
            "--------------------------------------------------\n",
            "The system of equations is:\n"
          ]
        },
        {
          "output_type": "display_data",
          "data": {
            "text/plain": [
              "<IPython.core.display.Math object>"
            ],
            "text/latex": "$\\displaystyle \\begin{cases}x + y + 2 z = \\text{102,500}\\\\2 x + 4 y + 10 z = \\text{412,000}\\\\11 x + 2 y + 6 z = \\text{482,000}\\end{cases}$"
          },
          "metadata": {}
        },
        {
          "output_type": "stream",
          "name": "stdout",
          "text": [
            "\n",
            "Possibility number-52\n",
            "System of equations with:\n",
            "a = 1, b = 1, c = 2,\n",
            "d = 2, e = 4, f = 10,\n",
            "g = 11, h = 3, i = 4,\n",
            "x = 25,000, y = 25,500, z = 26,000\n",
            "--------------------------------------------------\n",
            "The system of equations is:\n"
          ]
        },
        {
          "output_type": "display_data",
          "data": {
            "text/plain": [
              "<IPython.core.display.Math object>"
            ],
            "text/latex": "$\\displaystyle \\begin{cases}x + y + 2 z = \\text{102,500}\\\\2 x + 4 y + 10 z = \\text{412,000}\\\\11 x + 3 y + 4 z = \\text{455,500}\\end{cases}$"
          },
          "metadata": {}
        },
        {
          "output_type": "stream",
          "name": "stdout",
          "text": [
            "\n",
            "Possibility number-53\n",
            "System of equations with:\n",
            "a = 1, b = 1, c = 2,\n",
            "d = 2, e = 4, f = 10,\n",
            "g = 11, h = 3, i = 5,\n",
            "x = 25,000, y = 25,500, z = 26,000\n",
            "--------------------------------------------------\n",
            "The system of equations is:\n"
          ]
        },
        {
          "output_type": "display_data",
          "data": {
            "text/plain": [
              "<IPython.core.display.Math object>"
            ],
            "text/latex": "$\\displaystyle \\begin{cases}x + y + 2 z = \\text{102,500}\\\\2 x + 4 y + 10 z = \\text{412,000}\\\\11 x + 3 y + 5 z = \\text{481,500}\\end{cases}$"
          },
          "metadata": {}
        },
        {
          "output_type": "stream",
          "name": "stdout",
          "text": [
            "\n",
            "Possibility number-54\n",
            "System of equations with:\n",
            "a = 1, b = 1, c = 2,\n",
            "d = 2, e = 4, f = 10,\n",
            "g = 11, h = 3, i = 6,\n",
            "x = 25,000, y = 25,500, z = 26,000\n",
            "--------------------------------------------------\n",
            "The system of equations is:\n"
          ]
        },
        {
          "output_type": "display_data",
          "data": {
            "text/plain": [
              "<IPython.core.display.Math object>"
            ],
            "text/latex": "$\\displaystyle \\begin{cases}x + y + 2 z = \\text{102,500}\\\\2 x + 4 y + 10 z = \\text{412,000}\\\\11 x + 3 y + 6 z = \\text{507,500}\\end{cases}$"
          },
          "metadata": {}
        },
        {
          "output_type": "stream",
          "name": "stdout",
          "text": [
            "\n",
            "Possibility number-55\n",
            "System of equations with:\n",
            "a = 1, b = 1, c = 2,\n",
            "d = 3, e = 4, f = 7,\n",
            "g = 5, h = 2, i = 4,\n",
            "x = 25,000, y = 25,500, z = 26,000\n",
            "--------------------------------------------------\n",
            "The system of equations is:\n"
          ]
        },
        {
          "output_type": "display_data",
          "data": {
            "text/plain": [
              "<IPython.core.display.Math object>"
            ],
            "text/latex": "$\\displaystyle \\begin{cases}x + y + 2 z = \\text{102,500}\\\\3 x + 4 y + 7 z = \\text{359,000}\\\\5 x + 2 y + 4 z = \\text{280,000}\\end{cases}$"
          },
          "metadata": {}
        },
        {
          "output_type": "stream",
          "name": "stdout",
          "text": [
            "\n",
            "Possibility number-56\n",
            "System of equations with:\n",
            "a = 1, b = 1, c = 2,\n",
            "d = 3, e = 4, f = 7,\n",
            "g = 5, h = 2, i = 5,\n",
            "x = 25,000, y = 25,500, z = 26,000\n",
            "--------------------------------------------------\n",
            "The system of equations is:\n"
          ]
        },
        {
          "output_type": "display_data",
          "data": {
            "text/plain": [
              "<IPython.core.display.Math object>"
            ],
            "text/latex": "$\\displaystyle \\begin{cases}x + y + 2 z = \\text{102,500}\\\\3 x + 4 y + 7 z = \\text{359,000}\\\\5 x + 2 y + 5 z = \\text{306,000}\\end{cases}$"
          },
          "metadata": {}
        },
        {
          "output_type": "stream",
          "name": "stdout",
          "text": [
            "\n",
            "Possibility number-57\n",
            "System of equations with:\n",
            "a = 1, b = 1, c = 2,\n",
            "d = 3, e = 4, f = 7,\n",
            "g = 5, h = 2, i = 6,\n",
            "x = 25,000, y = 25,500, z = 26,000\n",
            "--------------------------------------------------\n",
            "The system of equations is:\n"
          ]
        },
        {
          "output_type": "display_data",
          "data": {
            "text/plain": [
              "<IPython.core.display.Math object>"
            ],
            "text/latex": "$\\displaystyle \\begin{cases}x + y + 2 z = \\text{102,500}\\\\3 x + 4 y + 7 z = \\text{359,000}\\\\5 x + 2 y + 6 z = \\text{332,000}\\end{cases}$"
          },
          "metadata": {}
        },
        {
          "output_type": "stream",
          "name": "stdout",
          "text": [
            "\n",
            "Possibility number-58\n",
            "System of equations with:\n",
            "a = 1, b = 1, c = 2,\n",
            "d = 3, e = 4, f = 7,\n",
            "g = 5, h = 3, i = 4,\n",
            "x = 25,000, y = 25,500, z = 26,000\n",
            "--------------------------------------------------\n",
            "The system of equations is:\n"
          ]
        },
        {
          "output_type": "display_data",
          "data": {
            "text/plain": [
              "<IPython.core.display.Math object>"
            ],
            "text/latex": "$\\displaystyle \\begin{cases}x + y + 2 z = \\text{102,500}\\\\3 x + 4 y + 7 z = \\text{359,000}\\\\5 x + 3 y + 4 z = \\text{305,500}\\end{cases}$"
          },
          "metadata": {}
        },
        {
          "output_type": "stream",
          "name": "stdout",
          "text": [
            "\n",
            "Possibility number-59\n",
            "System of equations with:\n",
            "a = 1, b = 1, c = 2,\n",
            "d = 3, e = 4, f = 7,\n",
            "g = 5, h = 3, i = 5,\n",
            "x = 25,000, y = 25,500, z = 26,000\n",
            "--------------------------------------------------\n",
            "The system of equations is:\n"
          ]
        },
        {
          "output_type": "display_data",
          "data": {
            "text/plain": [
              "<IPython.core.display.Math object>"
            ],
            "text/latex": "$\\displaystyle \\begin{cases}x + y + 2 z = \\text{102,500}\\\\3 x + 4 y + 7 z = \\text{359,000}\\\\5 x + 3 y + 5 z = \\text{331,500}\\end{cases}$"
          },
          "metadata": {}
        },
        {
          "output_type": "stream",
          "name": "stdout",
          "text": [
            "\n",
            "Possibility number-60\n",
            "System of equations with:\n",
            "a = 1, b = 1, c = 2,\n",
            "d = 3, e = 4, f = 7,\n",
            "g = 5, h = 3, i = 6,\n",
            "x = 25,000, y = 25,500, z = 26,000\n",
            "--------------------------------------------------\n",
            "The system of equations is:\n"
          ]
        },
        {
          "output_type": "display_data",
          "data": {
            "text/plain": [
              "<IPython.core.display.Math object>"
            ],
            "text/latex": "$\\displaystyle \\begin{cases}x + y + 2 z = \\text{102,500}\\\\3 x + 4 y + 7 z = \\text{359,000}\\\\5 x + 3 y + 6 z = \\text{357,500}\\end{cases}$"
          },
          "metadata": {}
        },
        {
          "output_type": "stream",
          "name": "stdout",
          "text": [
            "\n",
            "Possibility number-61\n",
            "System of equations with:\n",
            "a = 1, b = 1, c = 2,\n",
            "d = 3, e = 4, f = 7,\n",
            "g = 9, h = 2, i = 4,\n",
            "x = 25,000, y = 25,500, z = 26,000\n",
            "--------------------------------------------------\n",
            "The system of equations is:\n"
          ]
        },
        {
          "output_type": "display_data",
          "data": {
            "text/plain": [
              "<IPython.core.display.Math object>"
            ],
            "text/latex": "$\\displaystyle \\begin{cases}x + y + 2 z = \\text{102,500}\\\\3 x + 4 y + 7 z = \\text{359,000}\\\\9 x + 2 y + 4 z = \\text{380,000}\\end{cases}$"
          },
          "metadata": {}
        },
        {
          "output_type": "stream",
          "name": "stdout",
          "text": [
            "\n",
            "Possibility number-62\n",
            "System of equations with:\n",
            "a = 1, b = 1, c = 2,\n",
            "d = 3, e = 4, f = 7,\n",
            "g = 9, h = 2, i = 5,\n",
            "x = 25,000, y = 25,500, z = 26,000\n",
            "--------------------------------------------------\n",
            "The system of equations is:\n"
          ]
        },
        {
          "output_type": "display_data",
          "data": {
            "text/plain": [
              "<IPython.core.display.Math object>"
            ],
            "text/latex": "$\\displaystyle \\begin{cases}x + y + 2 z = \\text{102,500}\\\\3 x + 4 y + 7 z = \\text{359,000}\\\\9 x + 2 y + 5 z = \\text{406,000}\\end{cases}$"
          },
          "metadata": {}
        },
        {
          "output_type": "stream",
          "name": "stdout",
          "text": [
            "\n",
            "Possibility number-63\n",
            "System of equations with:\n",
            "a = 1, b = 1, c = 2,\n",
            "d = 3, e = 4, f = 7,\n",
            "g = 9, h = 2, i = 6,\n",
            "x = 25,000, y = 25,500, z = 26,000\n",
            "--------------------------------------------------\n",
            "The system of equations is:\n"
          ]
        },
        {
          "output_type": "display_data",
          "data": {
            "text/plain": [
              "<IPython.core.display.Math object>"
            ],
            "text/latex": "$\\displaystyle \\begin{cases}x + y + 2 z = \\text{102,500}\\\\3 x + 4 y + 7 z = \\text{359,000}\\\\9 x + 2 y + 6 z = \\text{432,000}\\end{cases}$"
          },
          "metadata": {}
        },
        {
          "output_type": "stream",
          "name": "stdout",
          "text": [
            "\n",
            "Possibility number-64\n",
            "System of equations with:\n",
            "a = 1, b = 1, c = 2,\n",
            "d = 3, e = 4, f = 7,\n",
            "g = 9, h = 3, i = 4,\n",
            "x = 25,000, y = 25,500, z = 26,000\n",
            "--------------------------------------------------\n",
            "The system of equations is:\n"
          ]
        },
        {
          "output_type": "display_data",
          "data": {
            "text/plain": [
              "<IPython.core.display.Math object>"
            ],
            "text/latex": "$\\displaystyle \\begin{cases}x + y + 2 z = \\text{102,500}\\\\3 x + 4 y + 7 z = \\text{359,000}\\\\9 x + 3 y + 4 z = \\text{405,500}\\end{cases}$"
          },
          "metadata": {}
        },
        {
          "output_type": "stream",
          "name": "stdout",
          "text": [
            "\n",
            "Possibility number-65\n",
            "System of equations with:\n",
            "a = 1, b = 1, c = 2,\n",
            "d = 3, e = 4, f = 7,\n",
            "g = 9, h = 3, i = 5,\n",
            "x = 25,000, y = 25,500, z = 26,000\n",
            "--------------------------------------------------\n",
            "The system of equations is:\n"
          ]
        },
        {
          "output_type": "display_data",
          "data": {
            "text/plain": [
              "<IPython.core.display.Math object>"
            ],
            "text/latex": "$\\displaystyle \\begin{cases}x + y + 2 z = \\text{102,500}\\\\3 x + 4 y + 7 z = \\text{359,000}\\\\9 x + 3 y + 5 z = \\text{431,500}\\end{cases}$"
          },
          "metadata": {}
        },
        {
          "output_type": "stream",
          "name": "stdout",
          "text": [
            "\n",
            "Possibility number-66\n",
            "System of equations with:\n",
            "a = 1, b = 1, c = 2,\n",
            "d = 3, e = 4, f = 7,\n",
            "g = 9, h = 3, i = 6,\n",
            "x = 25,000, y = 25,500, z = 26,000\n",
            "--------------------------------------------------\n",
            "The system of equations is:\n"
          ]
        },
        {
          "output_type": "display_data",
          "data": {
            "text/plain": [
              "<IPython.core.display.Math object>"
            ],
            "text/latex": "$\\displaystyle \\begin{cases}x + y + 2 z = \\text{102,500}\\\\3 x + 4 y + 7 z = \\text{359,000}\\\\9 x + 3 y + 6 z = \\text{457,500}\\end{cases}$"
          },
          "metadata": {}
        },
        {
          "output_type": "stream",
          "name": "stdout",
          "text": [
            "\n",
            "Possibility number-67\n",
            "System of equations with:\n",
            "a = 1, b = 1, c = 2,\n",
            "d = 3, e = 4, f = 7,\n",
            "g = 11, h = 2, i = 4,\n",
            "x = 25,000, y = 25,500, z = 26,000\n",
            "--------------------------------------------------\n",
            "The system of equations is:\n"
          ]
        },
        {
          "output_type": "display_data",
          "data": {
            "text/plain": [
              "<IPython.core.display.Math object>"
            ],
            "text/latex": "$\\displaystyle \\begin{cases}x + y + 2 z = \\text{102,500}\\\\3 x + 4 y + 7 z = \\text{359,000}\\\\11 x + 2 y + 4 z = \\text{430,000}\\end{cases}$"
          },
          "metadata": {}
        },
        {
          "output_type": "stream",
          "name": "stdout",
          "text": [
            "\n",
            "Possibility number-68\n",
            "System of equations with:\n",
            "a = 1, b = 1, c = 2,\n",
            "d = 3, e = 4, f = 7,\n",
            "g = 11, h = 2, i = 5,\n",
            "x = 25,000, y = 25,500, z = 26,000\n",
            "--------------------------------------------------\n",
            "The system of equations is:\n"
          ]
        },
        {
          "output_type": "display_data",
          "data": {
            "text/plain": [
              "<IPython.core.display.Math object>"
            ],
            "text/latex": "$\\displaystyle \\begin{cases}x + y + 2 z = \\text{102,500}\\\\3 x + 4 y + 7 z = \\text{359,000}\\\\11 x + 2 y + 5 z = \\text{456,000}\\end{cases}$"
          },
          "metadata": {}
        },
        {
          "output_type": "stream",
          "name": "stdout",
          "text": [
            "\n",
            "Possibility number-69\n",
            "System of equations with:\n",
            "a = 1, b = 1, c = 2,\n",
            "d = 3, e = 4, f = 7,\n",
            "g = 11, h = 2, i = 6,\n",
            "x = 25,000, y = 25,500, z = 26,000\n",
            "--------------------------------------------------\n",
            "The system of equations is:\n"
          ]
        },
        {
          "output_type": "display_data",
          "data": {
            "text/plain": [
              "<IPython.core.display.Math object>"
            ],
            "text/latex": "$\\displaystyle \\begin{cases}x + y + 2 z = \\text{102,500}\\\\3 x + 4 y + 7 z = \\text{359,000}\\\\11 x + 2 y + 6 z = \\text{482,000}\\end{cases}$"
          },
          "metadata": {}
        },
        {
          "output_type": "stream",
          "name": "stdout",
          "text": [
            "\n",
            "Possibility number-70\n",
            "System of equations with:\n",
            "a = 1, b = 1, c = 2,\n",
            "d = 3, e = 4, f = 7,\n",
            "g = 11, h = 3, i = 4,\n",
            "x = 25,000, y = 25,500, z = 26,000\n",
            "--------------------------------------------------\n",
            "The system of equations is:\n"
          ]
        },
        {
          "output_type": "display_data",
          "data": {
            "text/plain": [
              "<IPython.core.display.Math object>"
            ],
            "text/latex": "$\\displaystyle \\begin{cases}x + y + 2 z = \\text{102,500}\\\\3 x + 4 y + 7 z = \\text{359,000}\\\\11 x + 3 y + 4 z = \\text{455,500}\\end{cases}$"
          },
          "metadata": {}
        },
        {
          "output_type": "stream",
          "name": "stdout",
          "text": [
            "\n",
            "Possibility number-71\n",
            "System of equations with:\n",
            "a = 1, b = 1, c = 2,\n",
            "d = 3, e = 4, f = 7,\n",
            "g = 11, h = 3, i = 5,\n",
            "x = 25,000, y = 25,500, z = 26,000\n",
            "--------------------------------------------------\n",
            "The system of equations is:\n"
          ]
        },
        {
          "output_type": "display_data",
          "data": {
            "text/plain": [
              "<IPython.core.display.Math object>"
            ],
            "text/latex": "$\\displaystyle \\begin{cases}x + y + 2 z = \\text{102,500}\\\\3 x + 4 y + 7 z = \\text{359,000}\\\\11 x + 3 y + 5 z = \\text{481,500}\\end{cases}$"
          },
          "metadata": {}
        },
        {
          "output_type": "stream",
          "name": "stdout",
          "text": [
            "\n",
            "Possibility number-72\n",
            "System of equations with:\n",
            "a = 1, b = 1, c = 2,\n",
            "d = 3, e = 4, f = 7,\n",
            "g = 11, h = 3, i = 6,\n",
            "x = 25,000, y = 25,500, z = 26,000\n",
            "--------------------------------------------------\n",
            "The system of equations is:\n"
          ]
        },
        {
          "output_type": "display_data",
          "data": {
            "text/plain": [
              "<IPython.core.display.Math object>"
            ],
            "text/latex": "$\\displaystyle \\begin{cases}x + y + 2 z = \\text{102,500}\\\\3 x + 4 y + 7 z = \\text{359,000}\\\\11 x + 3 y + 6 z = \\text{507,500}\\end{cases}$"
          },
          "metadata": {}
        },
        {
          "output_type": "stream",
          "name": "stdout",
          "text": [
            "\n",
            "Possibility number-73\n",
            "System of equations with:\n",
            "a = 1, b = 1, c = 2,\n",
            "d = 3, e = 4, f = 8,\n",
            "g = 5, h = 2, i = 4,\n",
            "x = 25,000, y = 25,500, z = 26,000\n",
            "--------------------------------------------------\n",
            "The system of equations is:\n"
          ]
        },
        {
          "output_type": "display_data",
          "data": {
            "text/plain": [
              "<IPython.core.display.Math object>"
            ],
            "text/latex": "$\\displaystyle \\begin{cases}x + y + 2 z = \\text{102,500}\\\\3 x + 4 y + 8 z = \\text{385,000}\\\\5 x + 2 y + 4 z = \\text{280,000}\\end{cases}$"
          },
          "metadata": {}
        },
        {
          "output_type": "stream",
          "name": "stdout",
          "text": [
            "\n",
            "Possibility number-74\n",
            "System of equations with:\n",
            "a = 1, b = 1, c = 2,\n",
            "d = 3, e = 4, f = 8,\n",
            "g = 5, h = 2, i = 5,\n",
            "x = 25,000, y = 25,500, z = 26,000\n",
            "--------------------------------------------------\n",
            "The system of equations is:\n"
          ]
        },
        {
          "output_type": "display_data",
          "data": {
            "text/plain": [
              "<IPython.core.display.Math object>"
            ],
            "text/latex": "$\\displaystyle \\begin{cases}x + y + 2 z = \\text{102,500}\\\\3 x + 4 y + 8 z = \\text{385,000}\\\\5 x + 2 y + 5 z = \\text{306,000}\\end{cases}$"
          },
          "metadata": {}
        },
        {
          "output_type": "stream",
          "name": "stdout",
          "text": [
            "\n",
            "Possibility number-75\n",
            "System of equations with:\n",
            "a = 1, b = 1, c = 2,\n",
            "d = 3, e = 4, f = 8,\n",
            "g = 5, h = 2, i = 6,\n",
            "x = 25,000, y = 25,500, z = 26,000\n",
            "--------------------------------------------------\n",
            "The system of equations is:\n"
          ]
        },
        {
          "output_type": "display_data",
          "data": {
            "text/plain": [
              "<IPython.core.display.Math object>"
            ],
            "text/latex": "$\\displaystyle \\begin{cases}x + y + 2 z = \\text{102,500}\\\\3 x + 4 y + 8 z = \\text{385,000}\\\\5 x + 2 y + 6 z = \\text{332,000}\\end{cases}$"
          },
          "metadata": {}
        },
        {
          "output_type": "stream",
          "name": "stdout",
          "text": [
            "\n",
            "Possibility number-76\n",
            "System of equations with:\n",
            "a = 1, b = 1, c = 2,\n",
            "d = 3, e = 4, f = 8,\n",
            "g = 5, h = 3, i = 4,\n",
            "x = 25,000, y = 25,500, z = 26,000\n",
            "--------------------------------------------------\n",
            "The system of equations is:\n"
          ]
        },
        {
          "output_type": "display_data",
          "data": {
            "text/plain": [
              "<IPython.core.display.Math object>"
            ],
            "text/latex": "$\\displaystyle \\begin{cases}x + y + 2 z = \\text{102,500}\\\\3 x + 4 y + 8 z = \\text{385,000}\\\\5 x + 3 y + 4 z = \\text{305,500}\\end{cases}$"
          },
          "metadata": {}
        },
        {
          "output_type": "stream",
          "name": "stdout",
          "text": [
            "\n",
            "Possibility number-77\n",
            "System of equations with:\n",
            "a = 1, b = 1, c = 2,\n",
            "d = 3, e = 4, f = 8,\n",
            "g = 5, h = 3, i = 5,\n",
            "x = 25,000, y = 25,500, z = 26,000\n",
            "--------------------------------------------------\n",
            "The system of equations is:\n"
          ]
        },
        {
          "output_type": "display_data",
          "data": {
            "text/plain": [
              "<IPython.core.display.Math object>"
            ],
            "text/latex": "$\\displaystyle \\begin{cases}x + y + 2 z = \\text{102,500}\\\\3 x + 4 y + 8 z = \\text{385,000}\\\\5 x + 3 y + 5 z = \\text{331,500}\\end{cases}$"
          },
          "metadata": {}
        },
        {
          "output_type": "stream",
          "name": "stdout",
          "text": [
            "\n",
            "Possibility number-78\n",
            "System of equations with:\n",
            "a = 1, b = 1, c = 2,\n",
            "d = 3, e = 4, f = 8,\n",
            "g = 5, h = 3, i = 6,\n",
            "x = 25,000, y = 25,500, z = 26,000\n",
            "--------------------------------------------------\n",
            "The system of equations is:\n"
          ]
        },
        {
          "output_type": "display_data",
          "data": {
            "text/plain": [
              "<IPython.core.display.Math object>"
            ],
            "text/latex": "$\\displaystyle \\begin{cases}x + y + 2 z = \\text{102,500}\\\\3 x + 4 y + 8 z = \\text{385,000}\\\\5 x + 3 y + 6 z = \\text{357,500}\\end{cases}$"
          },
          "metadata": {}
        },
        {
          "output_type": "stream",
          "name": "stdout",
          "text": [
            "\n",
            "Possibility number-79\n",
            "System of equations with:\n",
            "a = 1, b = 1, c = 2,\n",
            "d = 3, e = 4, f = 8,\n",
            "g = 9, h = 2, i = 4,\n",
            "x = 25,000, y = 25,500, z = 26,000\n",
            "--------------------------------------------------\n",
            "The system of equations is:\n"
          ]
        },
        {
          "output_type": "display_data",
          "data": {
            "text/plain": [
              "<IPython.core.display.Math object>"
            ],
            "text/latex": "$\\displaystyle \\begin{cases}x + y + 2 z = \\text{102,500}\\\\3 x + 4 y + 8 z = \\text{385,000}\\\\9 x + 2 y + 4 z = \\text{380,000}\\end{cases}$"
          },
          "metadata": {}
        },
        {
          "output_type": "stream",
          "name": "stdout",
          "text": [
            "\n",
            "Possibility number-80\n",
            "System of equations with:\n",
            "a = 1, b = 1, c = 2,\n",
            "d = 3, e = 4, f = 8,\n",
            "g = 9, h = 2, i = 5,\n",
            "x = 25,000, y = 25,500, z = 26,000\n",
            "--------------------------------------------------\n",
            "The system of equations is:\n"
          ]
        },
        {
          "output_type": "display_data",
          "data": {
            "text/plain": [
              "<IPython.core.display.Math object>"
            ],
            "text/latex": "$\\displaystyle \\begin{cases}x + y + 2 z = \\text{102,500}\\\\3 x + 4 y + 8 z = \\text{385,000}\\\\9 x + 2 y + 5 z = \\text{406,000}\\end{cases}$"
          },
          "metadata": {}
        },
        {
          "output_type": "stream",
          "name": "stdout",
          "text": [
            "\n",
            "Possibility number-81\n",
            "System of equations with:\n",
            "a = 1, b = 1, c = 2,\n",
            "d = 3, e = 4, f = 8,\n",
            "g = 9, h = 2, i = 6,\n",
            "x = 25,000, y = 25,500, z = 26,000\n",
            "--------------------------------------------------\n",
            "The system of equations is:\n"
          ]
        },
        {
          "output_type": "display_data",
          "data": {
            "text/plain": [
              "<IPython.core.display.Math object>"
            ],
            "text/latex": "$\\displaystyle \\begin{cases}x + y + 2 z = \\text{102,500}\\\\3 x + 4 y + 8 z = \\text{385,000}\\\\9 x + 2 y + 6 z = \\text{432,000}\\end{cases}$"
          },
          "metadata": {}
        },
        {
          "output_type": "stream",
          "name": "stdout",
          "text": [
            "\n",
            "Possibility number-82\n",
            "System of equations with:\n",
            "a = 1, b = 1, c = 2,\n",
            "d = 3, e = 4, f = 8,\n",
            "g = 9, h = 3, i = 4,\n",
            "x = 25,000, y = 25,500, z = 26,000\n",
            "--------------------------------------------------\n",
            "The system of equations is:\n"
          ]
        },
        {
          "output_type": "display_data",
          "data": {
            "text/plain": [
              "<IPython.core.display.Math object>"
            ],
            "text/latex": "$\\displaystyle \\begin{cases}x + y + 2 z = \\text{102,500}\\\\3 x + 4 y + 8 z = \\text{385,000}\\\\9 x + 3 y + 4 z = \\text{405,500}\\end{cases}$"
          },
          "metadata": {}
        },
        {
          "output_type": "stream",
          "name": "stdout",
          "text": [
            "\n",
            "Possibility number-83\n",
            "System of equations with:\n",
            "a = 1, b = 1, c = 2,\n",
            "d = 3, e = 4, f = 8,\n",
            "g = 9, h = 3, i = 5,\n",
            "x = 25,000, y = 25,500, z = 26,000\n",
            "--------------------------------------------------\n",
            "The system of equations is:\n"
          ]
        },
        {
          "output_type": "display_data",
          "data": {
            "text/plain": [
              "<IPython.core.display.Math object>"
            ],
            "text/latex": "$\\displaystyle \\begin{cases}x + y + 2 z = \\text{102,500}\\\\3 x + 4 y + 8 z = \\text{385,000}\\\\9 x + 3 y + 5 z = \\text{431,500}\\end{cases}$"
          },
          "metadata": {}
        },
        {
          "output_type": "stream",
          "name": "stdout",
          "text": [
            "\n",
            "Possibility number-84\n",
            "System of equations with:\n",
            "a = 1, b = 1, c = 2,\n",
            "d = 3, e = 4, f = 8,\n",
            "g = 9, h = 3, i = 6,\n",
            "x = 25,000, y = 25,500, z = 26,000\n",
            "--------------------------------------------------\n",
            "The system of equations is:\n"
          ]
        },
        {
          "output_type": "display_data",
          "data": {
            "text/plain": [
              "<IPython.core.display.Math object>"
            ],
            "text/latex": "$\\displaystyle \\begin{cases}x + y + 2 z = \\text{102,500}\\\\3 x + 4 y + 8 z = \\text{385,000}\\\\9 x + 3 y + 6 z = \\text{457,500}\\end{cases}$"
          },
          "metadata": {}
        },
        {
          "output_type": "stream",
          "name": "stdout",
          "text": [
            "\n",
            "Possibility number-85\n",
            "System of equations with:\n",
            "a = 1, b = 1, c = 2,\n",
            "d = 3, e = 4, f = 8,\n",
            "g = 11, h = 2, i = 4,\n",
            "x = 25,000, y = 25,500, z = 26,000\n",
            "--------------------------------------------------\n",
            "The system of equations is:\n"
          ]
        },
        {
          "output_type": "display_data",
          "data": {
            "text/plain": [
              "<IPython.core.display.Math object>"
            ],
            "text/latex": "$\\displaystyle \\begin{cases}x + y + 2 z = \\text{102,500}\\\\3 x + 4 y + 8 z = \\text{385,000}\\\\11 x + 2 y + 4 z = \\text{430,000}\\end{cases}$"
          },
          "metadata": {}
        },
        {
          "output_type": "stream",
          "name": "stdout",
          "text": [
            "\n",
            "Possibility number-86\n",
            "System of equations with:\n",
            "a = 1, b = 1, c = 2,\n",
            "d = 3, e = 4, f = 8,\n",
            "g = 11, h = 2, i = 5,\n",
            "x = 25,000, y = 25,500, z = 26,000\n",
            "--------------------------------------------------\n",
            "The system of equations is:\n"
          ]
        },
        {
          "output_type": "display_data",
          "data": {
            "text/plain": [
              "<IPython.core.display.Math object>"
            ],
            "text/latex": "$\\displaystyle \\begin{cases}x + y + 2 z = \\text{102,500}\\\\3 x + 4 y + 8 z = \\text{385,000}\\\\11 x + 2 y + 5 z = \\text{456,000}\\end{cases}$"
          },
          "metadata": {}
        },
        {
          "output_type": "stream",
          "name": "stdout",
          "text": [
            "\n",
            "Possibility number-87\n",
            "System of equations with:\n",
            "a = 1, b = 1, c = 2,\n",
            "d = 3, e = 4, f = 8,\n",
            "g = 11, h = 2, i = 6,\n",
            "x = 25,000, y = 25,500, z = 26,000\n",
            "--------------------------------------------------\n",
            "The system of equations is:\n"
          ]
        },
        {
          "output_type": "display_data",
          "data": {
            "text/plain": [
              "<IPython.core.display.Math object>"
            ],
            "text/latex": "$\\displaystyle \\begin{cases}x + y + 2 z = \\text{102,500}\\\\3 x + 4 y + 8 z = \\text{385,000}\\\\11 x + 2 y + 6 z = \\text{482,000}\\end{cases}$"
          },
          "metadata": {}
        },
        {
          "output_type": "stream",
          "name": "stdout",
          "text": [
            "\n",
            "Possibility number-88\n",
            "System of equations with:\n",
            "a = 1, b = 1, c = 2,\n",
            "d = 3, e = 4, f = 8,\n",
            "g = 11, h = 3, i = 4,\n",
            "x = 25,000, y = 25,500, z = 26,000\n",
            "--------------------------------------------------\n",
            "The system of equations is:\n"
          ]
        },
        {
          "output_type": "display_data",
          "data": {
            "text/plain": [
              "<IPython.core.display.Math object>"
            ],
            "text/latex": "$\\displaystyle \\begin{cases}x + y + 2 z = \\text{102,500}\\\\3 x + 4 y + 8 z = \\text{385,000}\\\\11 x + 3 y + 4 z = \\text{455,500}\\end{cases}$"
          },
          "metadata": {}
        },
        {
          "output_type": "stream",
          "name": "stdout",
          "text": [
            "\n",
            "Possibility number-89\n",
            "System of equations with:\n",
            "a = 1, b = 1, c = 2,\n",
            "d = 3, e = 4, f = 8,\n",
            "g = 11, h = 3, i = 5,\n",
            "x = 25,000, y = 25,500, z = 26,000\n",
            "--------------------------------------------------\n",
            "The system of equations is:\n"
          ]
        },
        {
          "output_type": "display_data",
          "data": {
            "text/plain": [
              "<IPython.core.display.Math object>"
            ],
            "text/latex": "$\\displaystyle \\begin{cases}x + y + 2 z = \\text{102,500}\\\\3 x + 4 y + 8 z = \\text{385,000}\\\\11 x + 3 y + 5 z = \\text{481,500}\\end{cases}$"
          },
          "metadata": {}
        },
        {
          "output_type": "stream",
          "name": "stdout",
          "text": [
            "\n",
            "Possibility number-90\n",
            "System of equations with:\n",
            "a = 1, b = 1, c = 2,\n",
            "d = 3, e = 4, f = 8,\n",
            "g = 11, h = 3, i = 6,\n",
            "x = 25,000, y = 25,500, z = 26,000\n",
            "--------------------------------------------------\n",
            "The system of equations is:\n"
          ]
        },
        {
          "output_type": "display_data",
          "data": {
            "text/plain": [
              "<IPython.core.display.Math object>"
            ],
            "text/latex": "$\\displaystyle \\begin{cases}x + y + 2 z = \\text{102,500}\\\\3 x + 4 y + 8 z = \\text{385,000}\\\\11 x + 3 y + 6 z = \\text{507,500}\\end{cases}$"
          },
          "metadata": {}
        },
        {
          "output_type": "stream",
          "name": "stdout",
          "text": [
            "\n",
            "Possibility number-91\n",
            "System of equations with:\n",
            "a = 1, b = 1, c = 2,\n",
            "d = 3, e = 4, f = 10,\n",
            "g = 5, h = 2, i = 4,\n",
            "x = 25,000, y = 25,500, z = 26,000\n",
            "--------------------------------------------------\n",
            "The system of equations is:\n"
          ]
        },
        {
          "output_type": "display_data",
          "data": {
            "text/plain": [
              "<IPython.core.display.Math object>"
            ],
            "text/latex": "$\\displaystyle \\begin{cases}x + y + 2 z = \\text{102,500}\\\\3 x + 4 y + 10 z = \\text{437,000}\\\\5 x + 2 y + 4 z = \\text{280,000}\\end{cases}$"
          },
          "metadata": {}
        },
        {
          "output_type": "stream",
          "name": "stdout",
          "text": [
            "\n",
            "Possibility number-92\n",
            "System of equations with:\n",
            "a = 1, b = 1, c = 2,\n",
            "d = 3, e = 4, f = 10,\n",
            "g = 5, h = 2, i = 5,\n",
            "x = 25,000, y = 25,500, z = 26,000\n",
            "--------------------------------------------------\n",
            "The system of equations is:\n"
          ]
        },
        {
          "output_type": "display_data",
          "data": {
            "text/plain": [
              "<IPython.core.display.Math object>"
            ],
            "text/latex": "$\\displaystyle \\begin{cases}x + y + 2 z = \\text{102,500}\\\\3 x + 4 y + 10 z = \\text{437,000}\\\\5 x + 2 y + 5 z = \\text{306,000}\\end{cases}$"
          },
          "metadata": {}
        },
        {
          "output_type": "stream",
          "name": "stdout",
          "text": [
            "\n",
            "Possibility number-93\n",
            "System of equations with:\n",
            "a = 1, b = 1, c = 2,\n",
            "d = 3, e = 4, f = 10,\n",
            "g = 5, h = 2, i = 6,\n",
            "x = 25,000, y = 25,500, z = 26,000\n",
            "--------------------------------------------------\n",
            "The system of equations is:\n"
          ]
        },
        {
          "output_type": "display_data",
          "data": {
            "text/plain": [
              "<IPython.core.display.Math object>"
            ],
            "text/latex": "$\\displaystyle \\begin{cases}x + y + 2 z = \\text{102,500}\\\\3 x + 4 y + 10 z = \\text{437,000}\\\\5 x + 2 y + 6 z = \\text{332,000}\\end{cases}$"
          },
          "metadata": {}
        },
        {
          "output_type": "stream",
          "name": "stdout",
          "text": [
            "\n",
            "Possibility number-94\n",
            "System of equations with:\n",
            "a = 1, b = 1, c = 2,\n",
            "d = 3, e = 4, f = 10,\n",
            "g = 5, h = 3, i = 4,\n",
            "x = 25,000, y = 25,500, z = 26,000\n",
            "--------------------------------------------------\n",
            "The system of equations is:\n"
          ]
        },
        {
          "output_type": "display_data",
          "data": {
            "text/plain": [
              "<IPython.core.display.Math object>"
            ],
            "text/latex": "$\\displaystyle \\begin{cases}x + y + 2 z = \\text{102,500}\\\\3 x + 4 y + 10 z = \\text{437,000}\\\\5 x + 3 y + 4 z = \\text{305,500}\\end{cases}$"
          },
          "metadata": {}
        },
        {
          "output_type": "stream",
          "name": "stdout",
          "text": [
            "\n",
            "Possibility number-95\n",
            "System of equations with:\n",
            "a = 1, b = 1, c = 2,\n",
            "d = 3, e = 4, f = 10,\n",
            "g = 5, h = 3, i = 5,\n",
            "x = 25,000, y = 25,500, z = 26,000\n",
            "--------------------------------------------------\n",
            "The system of equations is:\n"
          ]
        },
        {
          "output_type": "display_data",
          "data": {
            "text/plain": [
              "<IPython.core.display.Math object>"
            ],
            "text/latex": "$\\displaystyle \\begin{cases}x + y + 2 z = \\text{102,500}\\\\3 x + 4 y + 10 z = \\text{437,000}\\\\5 x + 3 y + 5 z = \\text{331,500}\\end{cases}$"
          },
          "metadata": {}
        },
        {
          "output_type": "stream",
          "name": "stdout",
          "text": [
            "\n",
            "Possibility number-96\n",
            "System of equations with:\n",
            "a = 1, b = 1, c = 2,\n",
            "d = 3, e = 4, f = 10,\n",
            "g = 5, h = 3, i = 6,\n",
            "x = 25,000, y = 25,500, z = 26,000\n",
            "--------------------------------------------------\n",
            "The system of equations is:\n"
          ]
        },
        {
          "output_type": "display_data",
          "data": {
            "text/plain": [
              "<IPython.core.display.Math object>"
            ],
            "text/latex": "$\\displaystyle \\begin{cases}x + y + 2 z = \\text{102,500}\\\\3 x + 4 y + 10 z = \\text{437,000}\\\\5 x + 3 y + 6 z = \\text{357,500}\\end{cases}$"
          },
          "metadata": {}
        },
        {
          "output_type": "stream",
          "name": "stdout",
          "text": [
            "\n",
            "Possibility number-97\n",
            "System of equations with:\n",
            "a = 1, b = 1, c = 2,\n",
            "d = 3, e = 4, f = 10,\n",
            "g = 9, h = 2, i = 4,\n",
            "x = 25,000, y = 25,500, z = 26,000\n",
            "--------------------------------------------------\n",
            "The system of equations is:\n"
          ]
        },
        {
          "output_type": "display_data",
          "data": {
            "text/plain": [
              "<IPython.core.display.Math object>"
            ],
            "text/latex": "$\\displaystyle \\begin{cases}x + y + 2 z = \\text{102,500}\\\\3 x + 4 y + 10 z = \\text{437,000}\\\\9 x + 2 y + 4 z = \\text{380,000}\\end{cases}$"
          },
          "metadata": {}
        },
        {
          "output_type": "stream",
          "name": "stdout",
          "text": [
            "\n",
            "Possibility number-98\n",
            "System of equations with:\n",
            "a = 1, b = 1, c = 2,\n",
            "d = 3, e = 4, f = 10,\n",
            "g = 9, h = 2, i = 5,\n",
            "x = 25,000, y = 25,500, z = 26,000\n",
            "--------------------------------------------------\n",
            "The system of equations is:\n"
          ]
        },
        {
          "output_type": "display_data",
          "data": {
            "text/plain": [
              "<IPython.core.display.Math object>"
            ],
            "text/latex": "$\\displaystyle \\begin{cases}x + y + 2 z = \\text{102,500}\\\\3 x + 4 y + 10 z = \\text{437,000}\\\\9 x + 2 y + 5 z = \\text{406,000}\\end{cases}$"
          },
          "metadata": {}
        },
        {
          "output_type": "stream",
          "name": "stdout",
          "text": [
            "\n",
            "Possibility number-99\n",
            "System of equations with:\n",
            "a = 1, b = 1, c = 2,\n",
            "d = 3, e = 4, f = 10,\n",
            "g = 9, h = 2, i = 6,\n",
            "x = 25,000, y = 25,500, z = 26,000\n",
            "--------------------------------------------------\n",
            "The system of equations is:\n"
          ]
        },
        {
          "output_type": "display_data",
          "data": {
            "text/plain": [
              "<IPython.core.display.Math object>"
            ],
            "text/latex": "$\\displaystyle \\begin{cases}x + y + 2 z = \\text{102,500}\\\\3 x + 4 y + 10 z = \\text{437,000}\\\\9 x + 2 y + 6 z = \\text{432,000}\\end{cases}$"
          },
          "metadata": {}
        },
        {
          "output_type": "stream",
          "name": "stdout",
          "text": [
            "\n",
            "Possibility number-100\n",
            "System of equations with:\n",
            "a = 1, b = 1, c = 2,\n",
            "d = 3, e = 4, f = 10,\n",
            "g = 9, h = 3, i = 4,\n",
            "x = 25,000, y = 25,500, z = 26,000\n",
            "--------------------------------------------------\n",
            "The system of equations is:\n"
          ]
        },
        {
          "output_type": "display_data",
          "data": {
            "text/plain": [
              "<IPython.core.display.Math object>"
            ],
            "text/latex": "$\\displaystyle \\begin{cases}x + y + 2 z = \\text{102,500}\\\\3 x + 4 y + 10 z = \\text{437,000}\\\\9 x + 3 y + 4 z = \\text{405,500}\\end{cases}$"
          },
          "metadata": {}
        },
        {
          "output_type": "stream",
          "name": "stdout",
          "text": [
            "\n",
            "Possibility number-101\n",
            "System of equations with:\n",
            "a = 1, b = 1, c = 2,\n",
            "d = 3, e = 4, f = 10,\n",
            "g = 9, h = 3, i = 5,\n",
            "x = 25,000, y = 25,500, z = 26,000\n",
            "--------------------------------------------------\n",
            "The system of equations is:\n"
          ]
        },
        {
          "output_type": "display_data",
          "data": {
            "text/plain": [
              "<IPython.core.display.Math object>"
            ],
            "text/latex": "$\\displaystyle \\begin{cases}x + y + 2 z = \\text{102,500}\\\\3 x + 4 y + 10 z = \\text{437,000}\\\\9 x + 3 y + 5 z = \\text{431,500}\\end{cases}$"
          },
          "metadata": {}
        },
        {
          "output_type": "stream",
          "name": "stdout",
          "text": [
            "\n",
            "Possibility number-102\n",
            "System of equations with:\n",
            "a = 1, b = 1, c = 2,\n",
            "d = 3, e = 4, f = 10,\n",
            "g = 9, h = 3, i = 6,\n",
            "x = 25,000, y = 25,500, z = 26,000\n",
            "--------------------------------------------------\n",
            "The system of equations is:\n"
          ]
        },
        {
          "output_type": "display_data",
          "data": {
            "text/plain": [
              "<IPython.core.display.Math object>"
            ],
            "text/latex": "$\\displaystyle \\begin{cases}x + y + 2 z = \\text{102,500}\\\\3 x + 4 y + 10 z = \\text{437,000}\\\\9 x + 3 y + 6 z = \\text{457,500}\\end{cases}$"
          },
          "metadata": {}
        },
        {
          "output_type": "stream",
          "name": "stdout",
          "text": [
            "\n",
            "Possibility number-103\n",
            "System of equations with:\n",
            "a = 1, b = 1, c = 2,\n",
            "d = 3, e = 4, f = 10,\n",
            "g = 11, h = 2, i = 4,\n",
            "x = 25,000, y = 25,500, z = 26,000\n",
            "--------------------------------------------------\n",
            "The system of equations is:\n"
          ]
        },
        {
          "output_type": "display_data",
          "data": {
            "text/plain": [
              "<IPython.core.display.Math object>"
            ],
            "text/latex": "$\\displaystyle \\begin{cases}x + y + 2 z = \\text{102,500}\\\\3 x + 4 y + 10 z = \\text{437,000}\\\\11 x + 2 y + 4 z = \\text{430,000}\\end{cases}$"
          },
          "metadata": {}
        },
        {
          "output_type": "stream",
          "name": "stdout",
          "text": [
            "\n",
            "Possibility number-104\n",
            "System of equations with:\n",
            "a = 1, b = 1, c = 2,\n",
            "d = 3, e = 4, f = 10,\n",
            "g = 11, h = 2, i = 5,\n",
            "x = 25,000, y = 25,500, z = 26,000\n",
            "--------------------------------------------------\n",
            "The system of equations is:\n"
          ]
        },
        {
          "output_type": "display_data",
          "data": {
            "text/plain": [
              "<IPython.core.display.Math object>"
            ],
            "text/latex": "$\\displaystyle \\begin{cases}x + y + 2 z = \\text{102,500}\\\\3 x + 4 y + 10 z = \\text{437,000}\\\\11 x + 2 y + 5 z = \\text{456,000}\\end{cases}$"
          },
          "metadata": {}
        },
        {
          "output_type": "stream",
          "name": "stdout",
          "text": [
            "\n",
            "Possibility number-105\n",
            "System of equations with:\n",
            "a = 1, b = 1, c = 2,\n",
            "d = 3, e = 4, f = 10,\n",
            "g = 11, h = 2, i = 6,\n",
            "x = 25,000, y = 25,500, z = 26,000\n",
            "--------------------------------------------------\n",
            "The system of equations is:\n"
          ]
        },
        {
          "output_type": "display_data",
          "data": {
            "text/plain": [
              "<IPython.core.display.Math object>"
            ],
            "text/latex": "$\\displaystyle \\begin{cases}x + y + 2 z = \\text{102,500}\\\\3 x + 4 y + 10 z = \\text{437,000}\\\\11 x + 2 y + 6 z = \\text{482,000}\\end{cases}$"
          },
          "metadata": {}
        },
        {
          "output_type": "stream",
          "name": "stdout",
          "text": [
            "\n",
            "Possibility number-106\n",
            "System of equations with:\n",
            "a = 1, b = 1, c = 2,\n",
            "d = 3, e = 4, f = 10,\n",
            "g = 11, h = 3, i = 4,\n",
            "x = 25,000, y = 25,500, z = 26,000\n",
            "--------------------------------------------------\n",
            "The system of equations is:\n"
          ]
        },
        {
          "output_type": "display_data",
          "data": {
            "text/plain": [
              "<IPython.core.display.Math object>"
            ],
            "text/latex": "$\\displaystyle \\begin{cases}x + y + 2 z = \\text{102,500}\\\\3 x + 4 y + 10 z = \\text{437,000}\\\\11 x + 3 y + 4 z = \\text{455,500}\\end{cases}$"
          },
          "metadata": {}
        },
        {
          "output_type": "stream",
          "name": "stdout",
          "text": [
            "\n",
            "Possibility number-107\n",
            "System of equations with:\n",
            "a = 1, b = 1, c = 2,\n",
            "d = 3, e = 4, f = 10,\n",
            "g = 11, h = 3, i = 5,\n",
            "x = 25,000, y = 25,500, z = 26,000\n",
            "--------------------------------------------------\n",
            "The system of equations is:\n"
          ]
        },
        {
          "output_type": "display_data",
          "data": {
            "text/plain": [
              "<IPython.core.display.Math object>"
            ],
            "text/latex": "$\\displaystyle \\begin{cases}x + y + 2 z = \\text{102,500}\\\\3 x + 4 y + 10 z = \\text{437,000}\\\\11 x + 3 y + 5 z = \\text{481,500}\\end{cases}$"
          },
          "metadata": {}
        },
        {
          "output_type": "stream",
          "name": "stdout",
          "text": [
            "\n",
            "Possibility number-108\n",
            "System of equations with:\n",
            "a = 1, b = 1, c = 2,\n",
            "d = 3, e = 4, f = 10,\n",
            "g = 11, h = 3, i = 6,\n",
            "x = 25,000, y = 25,500, z = 26,000\n",
            "--------------------------------------------------\n",
            "The system of equations is:\n"
          ]
        },
        {
          "output_type": "display_data",
          "data": {
            "text/plain": [
              "<IPython.core.display.Math object>"
            ],
            "text/latex": "$\\displaystyle \\begin{cases}x + y + 2 z = \\text{102,500}\\\\3 x + 4 y + 10 z = \\text{437,000}\\\\11 x + 3 y + 6 z = \\text{507,500}\\end{cases}$"
          },
          "metadata": {}
        },
        {
          "output_type": "stream",
          "name": "stdout",
          "text": [
            "\n",
            "Possibility number-109\n",
            "System of equations with:\n",
            "a = 1, b = 1, c = 3,\n",
            "d = 2, e = 4, f = 7,\n",
            "g = 5, h = 2, i = 4,\n",
            "x = 25,000, y = 25,500, z = 26,000\n",
            "--------------------------------------------------\n",
            "The system of equations is:\n"
          ]
        },
        {
          "output_type": "display_data",
          "data": {
            "text/plain": [
              "<IPython.core.display.Math object>"
            ],
            "text/latex": "$\\displaystyle \\begin{cases}x + y + 3 z = \\text{128,500}\\\\2 x + 4 y + 7 z = \\text{334,000}\\\\5 x + 2 y + 4 z = \\text{280,000}\\end{cases}$"
          },
          "metadata": {}
        },
        {
          "output_type": "stream",
          "name": "stdout",
          "text": [
            "\n",
            "Possibility number-110\n",
            "System of equations with:\n",
            "a = 1, b = 1, c = 3,\n",
            "d = 2, e = 4, f = 7,\n",
            "g = 5, h = 2, i = 5,\n",
            "x = 25,000, y = 25,500, z = 26,000\n",
            "--------------------------------------------------\n",
            "The system of equations is:\n"
          ]
        },
        {
          "output_type": "display_data",
          "data": {
            "text/plain": [
              "<IPython.core.display.Math object>"
            ],
            "text/latex": "$\\displaystyle \\begin{cases}x + y + 3 z = \\text{128,500}\\\\2 x + 4 y + 7 z = \\text{334,000}\\\\5 x + 2 y + 5 z = \\text{306,000}\\end{cases}$"
          },
          "metadata": {}
        },
        {
          "output_type": "stream",
          "name": "stdout",
          "text": [
            "\n",
            "Possibility number-111\n",
            "System of equations with:\n",
            "a = 1, b = 1, c = 3,\n",
            "d = 2, e = 4, f = 7,\n",
            "g = 5, h = 2, i = 6,\n",
            "x = 25,000, y = 25,500, z = 26,000\n",
            "--------------------------------------------------\n",
            "The system of equations is:\n"
          ]
        },
        {
          "output_type": "display_data",
          "data": {
            "text/plain": [
              "<IPython.core.display.Math object>"
            ],
            "text/latex": "$\\displaystyle \\begin{cases}x + y + 3 z = \\text{128,500}\\\\2 x + 4 y + 7 z = \\text{334,000}\\\\5 x + 2 y + 6 z = \\text{332,000}\\end{cases}$"
          },
          "metadata": {}
        },
        {
          "output_type": "stream",
          "name": "stdout",
          "text": [
            "\n",
            "Possibility number-112\n",
            "System of equations with:\n",
            "a = 1, b = 1, c = 3,\n",
            "d = 2, e = 4, f = 7,\n",
            "g = 5, h = 3, i = 4,\n",
            "x = 25,000, y = 25,500, z = 26,000\n",
            "--------------------------------------------------\n",
            "The system of equations is:\n"
          ]
        },
        {
          "output_type": "display_data",
          "data": {
            "text/plain": [
              "<IPython.core.display.Math object>"
            ],
            "text/latex": "$\\displaystyle \\begin{cases}x + y + 3 z = \\text{128,500}\\\\2 x + 4 y + 7 z = \\text{334,000}\\\\5 x + 3 y + 4 z = \\text{305,500}\\end{cases}$"
          },
          "metadata": {}
        },
        {
          "output_type": "stream",
          "name": "stdout",
          "text": [
            "\n",
            "Possibility number-113\n",
            "System of equations with:\n",
            "a = 1, b = 1, c = 3,\n",
            "d = 2, e = 4, f = 7,\n",
            "g = 5, h = 3, i = 5,\n",
            "x = 25,000, y = 25,500, z = 26,000\n",
            "--------------------------------------------------\n",
            "The system of equations is:\n"
          ]
        },
        {
          "output_type": "display_data",
          "data": {
            "text/plain": [
              "<IPython.core.display.Math object>"
            ],
            "text/latex": "$\\displaystyle \\begin{cases}x + y + 3 z = \\text{128,500}\\\\2 x + 4 y + 7 z = \\text{334,000}\\\\5 x + 3 y + 5 z = \\text{331,500}\\end{cases}$"
          },
          "metadata": {}
        },
        {
          "output_type": "stream",
          "name": "stdout",
          "text": [
            "\n",
            "Possibility number-114\n",
            "System of equations with:\n",
            "a = 1, b = 1, c = 3,\n",
            "d = 2, e = 4, f = 7,\n",
            "g = 5, h = 3, i = 6,\n",
            "x = 25,000, y = 25,500, z = 26,000\n",
            "--------------------------------------------------\n",
            "The system of equations is:\n"
          ]
        },
        {
          "output_type": "display_data",
          "data": {
            "text/plain": [
              "<IPython.core.display.Math object>"
            ],
            "text/latex": "$\\displaystyle \\begin{cases}x + y + 3 z = \\text{128,500}\\\\2 x + 4 y + 7 z = \\text{334,000}\\\\5 x + 3 y + 6 z = \\text{357,500}\\end{cases}$"
          },
          "metadata": {}
        },
        {
          "output_type": "stream",
          "name": "stdout",
          "text": [
            "\n",
            "Possibility number-115\n",
            "System of equations with:\n",
            "a = 1, b = 1, c = 3,\n",
            "d = 2, e = 4, f = 7,\n",
            "g = 9, h = 2, i = 4,\n",
            "x = 25,000, y = 25,500, z = 26,000\n",
            "--------------------------------------------------\n",
            "The system of equations is:\n"
          ]
        },
        {
          "output_type": "display_data",
          "data": {
            "text/plain": [
              "<IPython.core.display.Math object>"
            ],
            "text/latex": "$\\displaystyle \\begin{cases}x + y + 3 z = \\text{128,500}\\\\2 x + 4 y + 7 z = \\text{334,000}\\\\9 x + 2 y + 4 z = \\text{380,000}\\end{cases}$"
          },
          "metadata": {}
        },
        {
          "output_type": "stream",
          "name": "stdout",
          "text": [
            "\n",
            "Possibility number-116\n",
            "System of equations with:\n",
            "a = 1, b = 1, c = 3,\n",
            "d = 2, e = 4, f = 7,\n",
            "g = 9, h = 2, i = 5,\n",
            "x = 25,000, y = 25,500, z = 26,000\n",
            "--------------------------------------------------\n",
            "The system of equations is:\n"
          ]
        },
        {
          "output_type": "display_data",
          "data": {
            "text/plain": [
              "<IPython.core.display.Math object>"
            ],
            "text/latex": "$\\displaystyle \\begin{cases}x + y + 3 z = \\text{128,500}\\\\2 x + 4 y + 7 z = \\text{334,000}\\\\9 x + 2 y + 5 z = \\text{406,000}\\end{cases}$"
          },
          "metadata": {}
        },
        {
          "output_type": "stream",
          "name": "stdout",
          "text": [
            "\n",
            "Possibility number-117\n",
            "System of equations with:\n",
            "a = 1, b = 1, c = 3,\n",
            "d = 2, e = 4, f = 7,\n",
            "g = 9, h = 2, i = 6,\n",
            "x = 25,000, y = 25,500, z = 26,000\n",
            "--------------------------------------------------\n",
            "The system of equations is:\n"
          ]
        },
        {
          "output_type": "display_data",
          "data": {
            "text/plain": [
              "<IPython.core.display.Math object>"
            ],
            "text/latex": "$\\displaystyle \\begin{cases}x + y + 3 z = \\text{128,500}\\\\2 x + 4 y + 7 z = \\text{334,000}\\\\9 x + 2 y + 6 z = \\text{432,000}\\end{cases}$"
          },
          "metadata": {}
        },
        {
          "output_type": "stream",
          "name": "stdout",
          "text": [
            "\n",
            "Possibility number-118\n",
            "System of equations with:\n",
            "a = 1, b = 1, c = 3,\n",
            "d = 2, e = 4, f = 7,\n",
            "g = 9, h = 3, i = 4,\n",
            "x = 25,000, y = 25,500, z = 26,000\n",
            "--------------------------------------------------\n",
            "The system of equations is:\n"
          ]
        },
        {
          "output_type": "display_data",
          "data": {
            "text/plain": [
              "<IPython.core.display.Math object>"
            ],
            "text/latex": "$\\displaystyle \\begin{cases}x + y + 3 z = \\text{128,500}\\\\2 x + 4 y + 7 z = \\text{334,000}\\\\9 x + 3 y + 4 z = \\text{405,500}\\end{cases}$"
          },
          "metadata": {}
        },
        {
          "output_type": "stream",
          "name": "stdout",
          "text": [
            "\n",
            "Possibility number-119\n",
            "System of equations with:\n",
            "a = 1, b = 1, c = 3,\n",
            "d = 2, e = 4, f = 7,\n",
            "g = 9, h = 3, i = 5,\n",
            "x = 25,000, y = 25,500, z = 26,000\n",
            "--------------------------------------------------\n",
            "The system of equations is:\n"
          ]
        },
        {
          "output_type": "display_data",
          "data": {
            "text/plain": [
              "<IPython.core.display.Math object>"
            ],
            "text/latex": "$\\displaystyle \\begin{cases}x + y + 3 z = \\text{128,500}\\\\2 x + 4 y + 7 z = \\text{334,000}\\\\9 x + 3 y + 5 z = \\text{431,500}\\end{cases}$"
          },
          "metadata": {}
        },
        {
          "output_type": "stream",
          "name": "stdout",
          "text": [
            "\n",
            "Possibility number-120\n",
            "System of equations with:\n",
            "a = 1, b = 1, c = 3,\n",
            "d = 2, e = 4, f = 7,\n",
            "g = 9, h = 3, i = 6,\n",
            "x = 25,000, y = 25,500, z = 26,000\n",
            "--------------------------------------------------\n",
            "The system of equations is:\n"
          ]
        },
        {
          "output_type": "display_data",
          "data": {
            "text/plain": [
              "<IPython.core.display.Math object>"
            ],
            "text/latex": "$\\displaystyle \\begin{cases}x + y + 3 z = \\text{128,500}\\\\2 x + 4 y + 7 z = \\text{334,000}\\\\9 x + 3 y + 6 z = \\text{457,500}\\end{cases}$"
          },
          "metadata": {}
        },
        {
          "output_type": "stream",
          "name": "stdout",
          "text": [
            "\n",
            "Possibility number-121\n",
            "System of equations with:\n",
            "a = 1, b = 1, c = 3,\n",
            "d = 2, e = 4, f = 7,\n",
            "g = 11, h = 2, i = 4,\n",
            "x = 25,000, y = 25,500, z = 26,000\n",
            "--------------------------------------------------\n",
            "The system of equations is:\n"
          ]
        },
        {
          "output_type": "display_data",
          "data": {
            "text/plain": [
              "<IPython.core.display.Math object>"
            ],
            "text/latex": "$\\displaystyle \\begin{cases}x + y + 3 z = \\text{128,500}\\\\2 x + 4 y + 7 z = \\text{334,000}\\\\11 x + 2 y + 4 z = \\text{430,000}\\end{cases}$"
          },
          "metadata": {}
        },
        {
          "output_type": "stream",
          "name": "stdout",
          "text": [
            "\n",
            "Possibility number-122\n",
            "System of equations with:\n",
            "a = 1, b = 1, c = 3,\n",
            "d = 2, e = 4, f = 7,\n",
            "g = 11, h = 2, i = 5,\n",
            "x = 25,000, y = 25,500, z = 26,000\n",
            "--------------------------------------------------\n",
            "The system of equations is:\n"
          ]
        },
        {
          "output_type": "display_data",
          "data": {
            "text/plain": [
              "<IPython.core.display.Math object>"
            ],
            "text/latex": "$\\displaystyle \\begin{cases}x + y + 3 z = \\text{128,500}\\\\2 x + 4 y + 7 z = \\text{334,000}\\\\11 x + 2 y + 5 z = \\text{456,000}\\end{cases}$"
          },
          "metadata": {}
        },
        {
          "output_type": "stream",
          "name": "stdout",
          "text": [
            "\n",
            "Possibility number-123\n",
            "System of equations with:\n",
            "a = 1, b = 1, c = 3,\n",
            "d = 2, e = 4, f = 7,\n",
            "g = 11, h = 2, i = 6,\n",
            "x = 25,000, y = 25,500, z = 26,000\n",
            "--------------------------------------------------\n",
            "The system of equations is:\n"
          ]
        },
        {
          "output_type": "display_data",
          "data": {
            "text/plain": [
              "<IPython.core.display.Math object>"
            ],
            "text/latex": "$\\displaystyle \\begin{cases}x + y + 3 z = \\text{128,500}\\\\2 x + 4 y + 7 z = \\text{334,000}\\\\11 x + 2 y + 6 z = \\text{482,000}\\end{cases}$"
          },
          "metadata": {}
        },
        {
          "output_type": "stream",
          "name": "stdout",
          "text": [
            "\n",
            "Possibility number-124\n",
            "System of equations with:\n",
            "a = 1, b = 1, c = 3,\n",
            "d = 2, e = 4, f = 7,\n",
            "g = 11, h = 3, i = 4,\n",
            "x = 25,000, y = 25,500, z = 26,000\n",
            "--------------------------------------------------\n",
            "The system of equations is:\n"
          ]
        },
        {
          "output_type": "display_data",
          "data": {
            "text/plain": [
              "<IPython.core.display.Math object>"
            ],
            "text/latex": "$\\displaystyle \\begin{cases}x + y + 3 z = \\text{128,500}\\\\2 x + 4 y + 7 z = \\text{334,000}\\\\11 x + 3 y + 4 z = \\text{455,500}\\end{cases}$"
          },
          "metadata": {}
        },
        {
          "output_type": "stream",
          "name": "stdout",
          "text": [
            "\n",
            "Possibility number-125\n",
            "System of equations with:\n",
            "a = 1, b = 1, c = 3,\n",
            "d = 2, e = 4, f = 7,\n",
            "g = 11, h = 3, i = 5,\n",
            "x = 25,000, y = 25,500, z = 26,000\n",
            "--------------------------------------------------\n",
            "The system of equations is:\n"
          ]
        },
        {
          "output_type": "display_data",
          "data": {
            "text/plain": [
              "<IPython.core.display.Math object>"
            ],
            "text/latex": "$\\displaystyle \\begin{cases}x + y + 3 z = \\text{128,500}\\\\2 x + 4 y + 7 z = \\text{334,000}\\\\11 x + 3 y + 5 z = \\text{481,500}\\end{cases}$"
          },
          "metadata": {}
        },
        {
          "output_type": "stream",
          "name": "stdout",
          "text": [
            "\n",
            "Possibility number-126\n",
            "System of equations with:\n",
            "a = 1, b = 1, c = 3,\n",
            "d = 2, e = 4, f = 7,\n",
            "g = 11, h = 3, i = 6,\n",
            "x = 25,000, y = 25,500, z = 26,000\n",
            "--------------------------------------------------\n",
            "The system of equations is:\n"
          ]
        },
        {
          "output_type": "display_data",
          "data": {
            "text/plain": [
              "<IPython.core.display.Math object>"
            ],
            "text/latex": "$\\displaystyle \\begin{cases}x + y + 3 z = \\text{128,500}\\\\2 x + 4 y + 7 z = \\text{334,000}\\\\11 x + 3 y + 6 z = \\text{507,500}\\end{cases}$"
          },
          "metadata": {}
        },
        {
          "output_type": "stream",
          "name": "stdout",
          "text": [
            "\n",
            "Possibility number-127\n",
            "System of equations with:\n",
            "a = 1, b = 1, c = 3,\n",
            "d = 2, e = 4, f = 8,\n",
            "g = 5, h = 2, i = 4,\n",
            "x = 25,000, y = 25,500, z = 26,000\n",
            "--------------------------------------------------\n",
            "The system of equations is:\n"
          ]
        },
        {
          "output_type": "display_data",
          "data": {
            "text/plain": [
              "<IPython.core.display.Math object>"
            ],
            "text/latex": "$\\displaystyle \\begin{cases}x + y + 3 z = \\text{128,500}\\\\2 x + 4 y + 8 z = \\text{360,000}\\\\5 x + 2 y + 4 z = \\text{280,000}\\end{cases}$"
          },
          "metadata": {}
        },
        {
          "output_type": "stream",
          "name": "stdout",
          "text": [
            "\n",
            "Possibility number-128\n",
            "System of equations with:\n",
            "a = 1, b = 1, c = 3,\n",
            "d = 2, e = 4, f = 8,\n",
            "g = 5, h = 2, i = 5,\n",
            "x = 25,000, y = 25,500, z = 26,000\n",
            "--------------------------------------------------\n",
            "The system of equations is:\n"
          ]
        },
        {
          "output_type": "display_data",
          "data": {
            "text/plain": [
              "<IPython.core.display.Math object>"
            ],
            "text/latex": "$\\displaystyle \\begin{cases}x + y + 3 z = \\text{128,500}\\\\2 x + 4 y + 8 z = \\text{360,000}\\\\5 x + 2 y + 5 z = \\text{306,000}\\end{cases}$"
          },
          "metadata": {}
        },
        {
          "output_type": "stream",
          "name": "stdout",
          "text": [
            "\n",
            "Possibility number-129\n",
            "System of equations with:\n",
            "a = 1, b = 1, c = 3,\n",
            "d = 2, e = 4, f = 8,\n",
            "g = 5, h = 2, i = 6,\n",
            "x = 25,000, y = 25,500, z = 26,000\n",
            "--------------------------------------------------\n",
            "The system of equations is:\n"
          ]
        },
        {
          "output_type": "display_data",
          "data": {
            "text/plain": [
              "<IPython.core.display.Math object>"
            ],
            "text/latex": "$\\displaystyle \\begin{cases}x + y + 3 z = \\text{128,500}\\\\2 x + 4 y + 8 z = \\text{360,000}\\\\5 x + 2 y + 6 z = \\text{332,000}\\end{cases}$"
          },
          "metadata": {}
        },
        {
          "output_type": "stream",
          "name": "stdout",
          "text": [
            "\n",
            "Possibility number-130\n",
            "System of equations with:\n",
            "a = 1, b = 1, c = 3,\n",
            "d = 2, e = 4, f = 8,\n",
            "g = 5, h = 3, i = 4,\n",
            "x = 25,000, y = 25,500, z = 26,000\n",
            "--------------------------------------------------\n",
            "The system of equations is:\n"
          ]
        },
        {
          "output_type": "display_data",
          "data": {
            "text/plain": [
              "<IPython.core.display.Math object>"
            ],
            "text/latex": "$\\displaystyle \\begin{cases}x + y + 3 z = \\text{128,500}\\\\2 x + 4 y + 8 z = \\text{360,000}\\\\5 x + 3 y + 4 z = \\text{305,500}\\end{cases}$"
          },
          "metadata": {}
        },
        {
          "output_type": "stream",
          "name": "stdout",
          "text": [
            "\n",
            "Possibility number-131\n",
            "System of equations with:\n",
            "a = 1, b = 1, c = 3,\n",
            "d = 2, e = 4, f = 8,\n",
            "g = 5, h = 3, i = 5,\n",
            "x = 25,000, y = 25,500, z = 26,000\n",
            "--------------------------------------------------\n",
            "The system of equations is:\n"
          ]
        },
        {
          "output_type": "display_data",
          "data": {
            "text/plain": [
              "<IPython.core.display.Math object>"
            ],
            "text/latex": "$\\displaystyle \\begin{cases}x + y + 3 z = \\text{128,500}\\\\2 x + 4 y + 8 z = \\text{360,000}\\\\5 x + 3 y + 5 z = \\text{331,500}\\end{cases}$"
          },
          "metadata": {}
        },
        {
          "output_type": "stream",
          "name": "stdout",
          "text": [
            "\n",
            "Possibility number-132\n",
            "System of equations with:\n",
            "a = 1, b = 1, c = 3,\n",
            "d = 2, e = 4, f = 8,\n",
            "g = 5, h = 3, i = 6,\n",
            "x = 25,000, y = 25,500, z = 26,000\n",
            "--------------------------------------------------\n",
            "The system of equations is:\n"
          ]
        },
        {
          "output_type": "display_data",
          "data": {
            "text/plain": [
              "<IPython.core.display.Math object>"
            ],
            "text/latex": "$\\displaystyle \\begin{cases}x + y + 3 z = \\text{128,500}\\\\2 x + 4 y + 8 z = \\text{360,000}\\\\5 x + 3 y + 6 z = \\text{357,500}\\end{cases}$"
          },
          "metadata": {}
        },
        {
          "output_type": "stream",
          "name": "stdout",
          "text": [
            "\n",
            "Possibility number-133\n",
            "System of equations with:\n",
            "a = 1, b = 1, c = 3,\n",
            "d = 2, e = 4, f = 8,\n",
            "g = 9, h = 2, i = 4,\n",
            "x = 25,000, y = 25,500, z = 26,000\n",
            "--------------------------------------------------\n",
            "The system of equations is:\n"
          ]
        },
        {
          "output_type": "display_data",
          "data": {
            "text/plain": [
              "<IPython.core.display.Math object>"
            ],
            "text/latex": "$\\displaystyle \\begin{cases}x + y + 3 z = \\text{128,500}\\\\2 x + 4 y + 8 z = \\text{360,000}\\\\9 x + 2 y + 4 z = \\text{380,000}\\end{cases}$"
          },
          "metadata": {}
        },
        {
          "output_type": "stream",
          "name": "stdout",
          "text": [
            "\n",
            "Possibility number-134\n",
            "System of equations with:\n",
            "a = 1, b = 1, c = 3,\n",
            "d = 2, e = 4, f = 8,\n",
            "g = 9, h = 2, i = 5,\n",
            "x = 25,000, y = 25,500, z = 26,000\n",
            "--------------------------------------------------\n",
            "The system of equations is:\n"
          ]
        },
        {
          "output_type": "display_data",
          "data": {
            "text/plain": [
              "<IPython.core.display.Math object>"
            ],
            "text/latex": "$\\displaystyle \\begin{cases}x + y + 3 z = \\text{128,500}\\\\2 x + 4 y + 8 z = \\text{360,000}\\\\9 x + 2 y + 5 z = \\text{406,000}\\end{cases}$"
          },
          "metadata": {}
        },
        {
          "output_type": "stream",
          "name": "stdout",
          "text": [
            "\n",
            "Possibility number-135\n",
            "System of equations with:\n",
            "a = 1, b = 1, c = 3,\n",
            "d = 2, e = 4, f = 8,\n",
            "g = 9, h = 2, i = 6,\n",
            "x = 25,000, y = 25,500, z = 26,000\n",
            "--------------------------------------------------\n",
            "The system of equations is:\n"
          ]
        },
        {
          "output_type": "display_data",
          "data": {
            "text/plain": [
              "<IPython.core.display.Math object>"
            ],
            "text/latex": "$\\displaystyle \\begin{cases}x + y + 3 z = \\text{128,500}\\\\2 x + 4 y + 8 z = \\text{360,000}\\\\9 x + 2 y + 6 z = \\text{432,000}\\end{cases}$"
          },
          "metadata": {}
        },
        {
          "output_type": "stream",
          "name": "stdout",
          "text": [
            "\n",
            "Possibility number-136\n",
            "System of equations with:\n",
            "a = 1, b = 1, c = 3,\n",
            "d = 2, e = 4, f = 8,\n",
            "g = 9, h = 3, i = 4,\n",
            "x = 25,000, y = 25,500, z = 26,000\n",
            "--------------------------------------------------\n",
            "The system of equations is:\n"
          ]
        },
        {
          "output_type": "display_data",
          "data": {
            "text/plain": [
              "<IPython.core.display.Math object>"
            ],
            "text/latex": "$\\displaystyle \\begin{cases}x + y + 3 z = \\text{128,500}\\\\2 x + 4 y + 8 z = \\text{360,000}\\\\9 x + 3 y + 4 z = \\text{405,500}\\end{cases}$"
          },
          "metadata": {}
        },
        {
          "output_type": "stream",
          "name": "stdout",
          "text": [
            "\n",
            "Possibility number-137\n",
            "System of equations with:\n",
            "a = 1, b = 1, c = 3,\n",
            "d = 2, e = 4, f = 8,\n",
            "g = 9, h = 3, i = 5,\n",
            "x = 25,000, y = 25,500, z = 26,000\n",
            "--------------------------------------------------\n",
            "The system of equations is:\n"
          ]
        },
        {
          "output_type": "display_data",
          "data": {
            "text/plain": [
              "<IPython.core.display.Math object>"
            ],
            "text/latex": "$\\displaystyle \\begin{cases}x + y + 3 z = \\text{128,500}\\\\2 x + 4 y + 8 z = \\text{360,000}\\\\9 x + 3 y + 5 z = \\text{431,500}\\end{cases}$"
          },
          "metadata": {}
        },
        {
          "output_type": "stream",
          "name": "stdout",
          "text": [
            "\n",
            "Possibility number-138\n",
            "System of equations with:\n",
            "a = 1, b = 1, c = 3,\n",
            "d = 2, e = 4, f = 8,\n",
            "g = 9, h = 3, i = 6,\n",
            "x = 25,000, y = 25,500, z = 26,000\n",
            "--------------------------------------------------\n",
            "The system of equations is:\n"
          ]
        },
        {
          "output_type": "display_data",
          "data": {
            "text/plain": [
              "<IPython.core.display.Math object>"
            ],
            "text/latex": "$\\displaystyle \\begin{cases}x + y + 3 z = \\text{128,500}\\\\2 x + 4 y + 8 z = \\text{360,000}\\\\9 x + 3 y + 6 z = \\text{457,500}\\end{cases}$"
          },
          "metadata": {}
        },
        {
          "output_type": "stream",
          "name": "stdout",
          "text": [
            "\n",
            "Possibility number-139\n",
            "System of equations with:\n",
            "a = 1, b = 1, c = 3,\n",
            "d = 2, e = 4, f = 8,\n",
            "g = 11, h = 2, i = 4,\n",
            "x = 25,000, y = 25,500, z = 26,000\n",
            "--------------------------------------------------\n",
            "The system of equations is:\n"
          ]
        },
        {
          "output_type": "display_data",
          "data": {
            "text/plain": [
              "<IPython.core.display.Math object>"
            ],
            "text/latex": "$\\displaystyle \\begin{cases}x + y + 3 z = \\text{128,500}\\\\2 x + 4 y + 8 z = \\text{360,000}\\\\11 x + 2 y + 4 z = \\text{430,000}\\end{cases}$"
          },
          "metadata": {}
        },
        {
          "output_type": "stream",
          "name": "stdout",
          "text": [
            "\n",
            "Possibility number-140\n",
            "System of equations with:\n",
            "a = 1, b = 1, c = 3,\n",
            "d = 2, e = 4, f = 8,\n",
            "g = 11, h = 2, i = 5,\n",
            "x = 25,000, y = 25,500, z = 26,000\n",
            "--------------------------------------------------\n",
            "The system of equations is:\n"
          ]
        },
        {
          "output_type": "display_data",
          "data": {
            "text/plain": [
              "<IPython.core.display.Math object>"
            ],
            "text/latex": "$\\displaystyle \\begin{cases}x + y + 3 z = \\text{128,500}\\\\2 x + 4 y + 8 z = \\text{360,000}\\\\11 x + 2 y + 5 z = \\text{456,000}\\end{cases}$"
          },
          "metadata": {}
        },
        {
          "output_type": "stream",
          "name": "stdout",
          "text": [
            "\n",
            "Possibility number-141\n",
            "System of equations with:\n",
            "a = 1, b = 1, c = 3,\n",
            "d = 2, e = 4, f = 8,\n",
            "g = 11, h = 2, i = 6,\n",
            "x = 25,000, y = 25,500, z = 26,000\n",
            "--------------------------------------------------\n",
            "The system of equations is:\n"
          ]
        },
        {
          "output_type": "display_data",
          "data": {
            "text/plain": [
              "<IPython.core.display.Math object>"
            ],
            "text/latex": "$\\displaystyle \\begin{cases}x + y + 3 z = \\text{128,500}\\\\2 x + 4 y + 8 z = \\text{360,000}\\\\11 x + 2 y + 6 z = \\text{482,000}\\end{cases}$"
          },
          "metadata": {}
        },
        {
          "output_type": "stream",
          "name": "stdout",
          "text": [
            "\n",
            "Possibility number-142\n",
            "System of equations with:\n",
            "a = 1, b = 1, c = 3,\n",
            "d = 2, e = 4, f = 8,\n",
            "g = 11, h = 3, i = 4,\n",
            "x = 25,000, y = 25,500, z = 26,000\n",
            "--------------------------------------------------\n",
            "The system of equations is:\n"
          ]
        },
        {
          "output_type": "display_data",
          "data": {
            "text/plain": [
              "<IPython.core.display.Math object>"
            ],
            "text/latex": "$\\displaystyle \\begin{cases}x + y + 3 z = \\text{128,500}\\\\2 x + 4 y + 8 z = \\text{360,000}\\\\11 x + 3 y + 4 z = \\text{455,500}\\end{cases}$"
          },
          "metadata": {}
        },
        {
          "output_type": "stream",
          "name": "stdout",
          "text": [
            "\n",
            "Possibility number-143\n",
            "System of equations with:\n",
            "a = 1, b = 1, c = 3,\n",
            "d = 2, e = 4, f = 8,\n",
            "g = 11, h = 3, i = 5,\n",
            "x = 25,000, y = 25,500, z = 26,000\n",
            "--------------------------------------------------\n",
            "The system of equations is:\n"
          ]
        },
        {
          "output_type": "display_data",
          "data": {
            "text/plain": [
              "<IPython.core.display.Math object>"
            ],
            "text/latex": "$\\displaystyle \\begin{cases}x + y + 3 z = \\text{128,500}\\\\2 x + 4 y + 8 z = \\text{360,000}\\\\11 x + 3 y + 5 z = \\text{481,500}\\end{cases}$"
          },
          "metadata": {}
        },
        {
          "output_type": "stream",
          "name": "stdout",
          "text": [
            "\n",
            "Possibility number-144\n",
            "System of equations with:\n",
            "a = 1, b = 1, c = 3,\n",
            "d = 2, e = 4, f = 8,\n",
            "g = 11, h = 3, i = 6,\n",
            "x = 25,000, y = 25,500, z = 26,000\n",
            "--------------------------------------------------\n",
            "The system of equations is:\n"
          ]
        },
        {
          "output_type": "display_data",
          "data": {
            "text/plain": [
              "<IPython.core.display.Math object>"
            ],
            "text/latex": "$\\displaystyle \\begin{cases}x + y + 3 z = \\text{128,500}\\\\2 x + 4 y + 8 z = \\text{360,000}\\\\11 x + 3 y + 6 z = \\text{507,500}\\end{cases}$"
          },
          "metadata": {}
        },
        {
          "output_type": "stream",
          "name": "stdout",
          "text": [
            "\n",
            "Possibility number-145\n",
            "System of equations with:\n",
            "a = 1, b = 1, c = 3,\n",
            "d = 2, e = 4, f = 10,\n",
            "g = 5, h = 2, i = 4,\n",
            "x = 25,000, y = 25,500, z = 26,000\n",
            "--------------------------------------------------\n",
            "The system of equations is:\n"
          ]
        },
        {
          "output_type": "display_data",
          "data": {
            "text/plain": [
              "<IPython.core.display.Math object>"
            ],
            "text/latex": "$\\displaystyle \\begin{cases}x + y + 3 z = \\text{128,500}\\\\2 x + 4 y + 10 z = \\text{412,000}\\\\5 x + 2 y + 4 z = \\text{280,000}\\end{cases}$"
          },
          "metadata": {}
        },
        {
          "output_type": "stream",
          "name": "stdout",
          "text": [
            "\n",
            "Possibility number-146\n",
            "System of equations with:\n",
            "a = 1, b = 1, c = 3,\n",
            "d = 2, e = 4, f = 10,\n",
            "g = 5, h = 2, i = 5,\n",
            "x = 25,000, y = 25,500, z = 26,000\n",
            "--------------------------------------------------\n",
            "The system of equations is:\n"
          ]
        },
        {
          "output_type": "display_data",
          "data": {
            "text/plain": [
              "<IPython.core.display.Math object>"
            ],
            "text/latex": "$\\displaystyle \\begin{cases}x + y + 3 z = \\text{128,500}\\\\2 x + 4 y + 10 z = \\text{412,000}\\\\5 x + 2 y + 5 z = \\text{306,000}\\end{cases}$"
          },
          "metadata": {}
        },
        {
          "output_type": "stream",
          "name": "stdout",
          "text": [
            "\n",
            "Possibility number-147\n",
            "System of equations with:\n",
            "a = 1, b = 1, c = 3,\n",
            "d = 2, e = 4, f = 10,\n",
            "g = 5, h = 2, i = 6,\n",
            "x = 25,000, y = 25,500, z = 26,000\n",
            "--------------------------------------------------\n",
            "The system of equations is:\n"
          ]
        },
        {
          "output_type": "display_data",
          "data": {
            "text/plain": [
              "<IPython.core.display.Math object>"
            ],
            "text/latex": "$\\displaystyle \\begin{cases}x + y + 3 z = \\text{128,500}\\\\2 x + 4 y + 10 z = \\text{412,000}\\\\5 x + 2 y + 6 z = \\text{332,000}\\end{cases}$"
          },
          "metadata": {}
        },
        {
          "output_type": "stream",
          "name": "stdout",
          "text": [
            "\n",
            "Possibility number-148\n",
            "System of equations with:\n",
            "a = 1, b = 1, c = 3,\n",
            "d = 2, e = 4, f = 10,\n",
            "g = 5, h = 3, i = 4,\n",
            "x = 25,000, y = 25,500, z = 26,000\n",
            "--------------------------------------------------\n",
            "The system of equations is:\n"
          ]
        },
        {
          "output_type": "display_data",
          "data": {
            "text/plain": [
              "<IPython.core.display.Math object>"
            ],
            "text/latex": "$\\displaystyle \\begin{cases}x + y + 3 z = \\text{128,500}\\\\2 x + 4 y + 10 z = \\text{412,000}\\\\5 x + 3 y + 4 z = \\text{305,500}\\end{cases}$"
          },
          "metadata": {}
        },
        {
          "output_type": "stream",
          "name": "stdout",
          "text": [
            "\n",
            "Possibility number-149\n",
            "System of equations with:\n",
            "a = 1, b = 1, c = 3,\n",
            "d = 2, e = 4, f = 10,\n",
            "g = 5, h = 3, i = 5,\n",
            "x = 25,000, y = 25,500, z = 26,000\n",
            "--------------------------------------------------\n",
            "The system of equations is:\n"
          ]
        },
        {
          "output_type": "display_data",
          "data": {
            "text/plain": [
              "<IPython.core.display.Math object>"
            ],
            "text/latex": "$\\displaystyle \\begin{cases}x + y + 3 z = \\text{128,500}\\\\2 x + 4 y + 10 z = \\text{412,000}\\\\5 x + 3 y + 5 z = \\text{331,500}\\end{cases}$"
          },
          "metadata": {}
        },
        {
          "output_type": "stream",
          "name": "stdout",
          "text": [
            "\n",
            "Possibility number-150\n",
            "System of equations with:\n",
            "a = 1, b = 1, c = 3,\n",
            "d = 2, e = 4, f = 10,\n",
            "g = 5, h = 3, i = 6,\n",
            "x = 25,000, y = 25,500, z = 26,000\n",
            "--------------------------------------------------\n",
            "The system of equations is:\n"
          ]
        },
        {
          "output_type": "display_data",
          "data": {
            "text/plain": [
              "<IPython.core.display.Math object>"
            ],
            "text/latex": "$\\displaystyle \\begin{cases}x + y + 3 z = \\text{128,500}\\\\2 x + 4 y + 10 z = \\text{412,000}\\\\5 x + 3 y + 6 z = \\text{357,500}\\end{cases}$"
          },
          "metadata": {}
        },
        {
          "output_type": "stream",
          "name": "stdout",
          "text": [
            "\n",
            "Possibility number-151\n",
            "System of equations with:\n",
            "a = 1, b = 1, c = 3,\n",
            "d = 2, e = 4, f = 10,\n",
            "g = 9, h = 2, i = 4,\n",
            "x = 25,000, y = 25,500, z = 26,000\n",
            "--------------------------------------------------\n",
            "The system of equations is:\n"
          ]
        },
        {
          "output_type": "display_data",
          "data": {
            "text/plain": [
              "<IPython.core.display.Math object>"
            ],
            "text/latex": "$\\displaystyle \\begin{cases}x + y + 3 z = \\text{128,500}\\\\2 x + 4 y + 10 z = \\text{412,000}\\\\9 x + 2 y + 4 z = \\text{380,000}\\end{cases}$"
          },
          "metadata": {}
        },
        {
          "output_type": "stream",
          "name": "stdout",
          "text": [
            "\n",
            "Possibility number-152\n",
            "System of equations with:\n",
            "a = 1, b = 1, c = 3,\n",
            "d = 2, e = 4, f = 10,\n",
            "g = 9, h = 2, i = 5,\n",
            "x = 25,000, y = 25,500, z = 26,000\n",
            "--------------------------------------------------\n",
            "The system of equations is:\n"
          ]
        },
        {
          "output_type": "display_data",
          "data": {
            "text/plain": [
              "<IPython.core.display.Math object>"
            ],
            "text/latex": "$\\displaystyle \\begin{cases}x + y + 3 z = \\text{128,500}\\\\2 x + 4 y + 10 z = \\text{412,000}\\\\9 x + 2 y + 5 z = \\text{406,000}\\end{cases}$"
          },
          "metadata": {}
        },
        {
          "output_type": "stream",
          "name": "stdout",
          "text": [
            "\n",
            "Possibility number-153\n",
            "System of equations with:\n",
            "a = 1, b = 1, c = 3,\n",
            "d = 2, e = 4, f = 10,\n",
            "g = 9, h = 2, i = 6,\n",
            "x = 25,000, y = 25,500, z = 26,000\n",
            "--------------------------------------------------\n",
            "The system of equations is:\n"
          ]
        },
        {
          "output_type": "display_data",
          "data": {
            "text/plain": [
              "<IPython.core.display.Math object>"
            ],
            "text/latex": "$\\displaystyle \\begin{cases}x + y + 3 z = \\text{128,500}\\\\2 x + 4 y + 10 z = \\text{412,000}\\\\9 x + 2 y + 6 z = \\text{432,000}\\end{cases}$"
          },
          "metadata": {}
        },
        {
          "output_type": "stream",
          "name": "stdout",
          "text": [
            "\n",
            "Possibility number-154\n",
            "System of equations with:\n",
            "a = 1, b = 1, c = 3,\n",
            "d = 2, e = 4, f = 10,\n",
            "g = 9, h = 3, i = 4,\n",
            "x = 25,000, y = 25,500, z = 26,000\n",
            "--------------------------------------------------\n",
            "The system of equations is:\n"
          ]
        },
        {
          "output_type": "display_data",
          "data": {
            "text/plain": [
              "<IPython.core.display.Math object>"
            ],
            "text/latex": "$\\displaystyle \\begin{cases}x + y + 3 z = \\text{128,500}\\\\2 x + 4 y + 10 z = \\text{412,000}\\\\9 x + 3 y + 4 z = \\text{405,500}\\end{cases}$"
          },
          "metadata": {}
        },
        {
          "output_type": "stream",
          "name": "stdout",
          "text": [
            "\n",
            "Possibility number-155\n",
            "System of equations with:\n",
            "a = 1, b = 1, c = 3,\n",
            "d = 2, e = 4, f = 10,\n",
            "g = 9, h = 3, i = 5,\n",
            "x = 25,000, y = 25,500, z = 26,000\n",
            "--------------------------------------------------\n",
            "The system of equations is:\n"
          ]
        },
        {
          "output_type": "display_data",
          "data": {
            "text/plain": [
              "<IPython.core.display.Math object>"
            ],
            "text/latex": "$\\displaystyle \\begin{cases}x + y + 3 z = \\text{128,500}\\\\2 x + 4 y + 10 z = \\text{412,000}\\\\9 x + 3 y + 5 z = \\text{431,500}\\end{cases}$"
          },
          "metadata": {}
        },
        {
          "output_type": "stream",
          "name": "stdout",
          "text": [
            "\n",
            "Possibility number-156\n",
            "System of equations with:\n",
            "a = 1, b = 1, c = 3,\n",
            "d = 2, e = 4, f = 10,\n",
            "g = 9, h = 3, i = 6,\n",
            "x = 25,000, y = 25,500, z = 26,000\n",
            "--------------------------------------------------\n",
            "The system of equations is:\n"
          ]
        },
        {
          "output_type": "display_data",
          "data": {
            "text/plain": [
              "<IPython.core.display.Math object>"
            ],
            "text/latex": "$\\displaystyle \\begin{cases}x + y + 3 z = \\text{128,500}\\\\2 x + 4 y + 10 z = \\text{412,000}\\\\9 x + 3 y + 6 z = \\text{457,500}\\end{cases}$"
          },
          "metadata": {}
        },
        {
          "output_type": "stream",
          "name": "stdout",
          "text": [
            "\n",
            "Possibility number-157\n",
            "System of equations with:\n",
            "a = 1, b = 1, c = 3,\n",
            "d = 2, e = 4, f = 10,\n",
            "g = 11, h = 2, i = 4,\n",
            "x = 25,000, y = 25,500, z = 26,000\n",
            "--------------------------------------------------\n",
            "The system of equations is:\n"
          ]
        },
        {
          "output_type": "display_data",
          "data": {
            "text/plain": [
              "<IPython.core.display.Math object>"
            ],
            "text/latex": "$\\displaystyle \\begin{cases}x + y + 3 z = \\text{128,500}\\\\2 x + 4 y + 10 z = \\text{412,000}\\\\11 x + 2 y + 4 z = \\text{430,000}\\end{cases}$"
          },
          "metadata": {}
        },
        {
          "output_type": "stream",
          "name": "stdout",
          "text": [
            "\n",
            "Possibility number-158\n",
            "System of equations with:\n",
            "a = 1, b = 1, c = 3,\n",
            "d = 2, e = 4, f = 10,\n",
            "g = 11, h = 2, i = 5,\n",
            "x = 25,000, y = 25,500, z = 26,000\n",
            "--------------------------------------------------\n",
            "The system of equations is:\n"
          ]
        },
        {
          "output_type": "display_data",
          "data": {
            "text/plain": [
              "<IPython.core.display.Math object>"
            ],
            "text/latex": "$\\displaystyle \\begin{cases}x + y + 3 z = \\text{128,500}\\\\2 x + 4 y + 10 z = \\text{412,000}\\\\11 x + 2 y + 5 z = \\text{456,000}\\end{cases}$"
          },
          "metadata": {}
        },
        {
          "output_type": "stream",
          "name": "stdout",
          "text": [
            "\n",
            "Possibility number-159\n",
            "System of equations with:\n",
            "a = 1, b = 1, c = 3,\n",
            "d = 2, e = 4, f = 10,\n",
            "g = 11, h = 2, i = 6,\n",
            "x = 25,000, y = 25,500, z = 26,000\n",
            "--------------------------------------------------\n",
            "The system of equations is:\n"
          ]
        },
        {
          "output_type": "display_data",
          "data": {
            "text/plain": [
              "<IPython.core.display.Math object>"
            ],
            "text/latex": "$\\displaystyle \\begin{cases}x + y + 3 z = \\text{128,500}\\\\2 x + 4 y + 10 z = \\text{412,000}\\\\11 x + 2 y + 6 z = \\text{482,000}\\end{cases}$"
          },
          "metadata": {}
        },
        {
          "output_type": "stream",
          "name": "stdout",
          "text": [
            "\n",
            "Possibility number-160\n",
            "System of equations with:\n",
            "a = 1, b = 1, c = 3,\n",
            "d = 2, e = 4, f = 10,\n",
            "g = 11, h = 3, i = 4,\n",
            "x = 25,000, y = 25,500, z = 26,000\n",
            "--------------------------------------------------\n",
            "The system of equations is:\n"
          ]
        },
        {
          "output_type": "display_data",
          "data": {
            "text/plain": [
              "<IPython.core.display.Math object>"
            ],
            "text/latex": "$\\displaystyle \\begin{cases}x + y + 3 z = \\text{128,500}\\\\2 x + 4 y + 10 z = \\text{412,000}\\\\11 x + 3 y + 4 z = \\text{455,500}\\end{cases}$"
          },
          "metadata": {}
        },
        {
          "output_type": "stream",
          "name": "stdout",
          "text": [
            "\n",
            "Possibility number-161\n",
            "System of equations with:\n",
            "a = 1, b = 1, c = 3,\n",
            "d = 2, e = 4, f = 10,\n",
            "g = 11, h = 3, i = 5,\n",
            "x = 25,000, y = 25,500, z = 26,000\n",
            "--------------------------------------------------\n",
            "The system of equations is:\n"
          ]
        },
        {
          "output_type": "display_data",
          "data": {
            "text/plain": [
              "<IPython.core.display.Math object>"
            ],
            "text/latex": "$\\displaystyle \\begin{cases}x + y + 3 z = \\text{128,500}\\\\2 x + 4 y + 10 z = \\text{412,000}\\\\11 x + 3 y + 5 z = \\text{481,500}\\end{cases}$"
          },
          "metadata": {}
        },
        {
          "output_type": "stream",
          "name": "stdout",
          "text": [
            "\n",
            "Possibility number-162\n",
            "System of equations with:\n",
            "a = 1, b = 1, c = 3,\n",
            "d = 2, e = 4, f = 10,\n",
            "g = 11, h = 3, i = 6,\n",
            "x = 25,000, y = 25,500, z = 26,000\n",
            "--------------------------------------------------\n",
            "The system of equations is:\n"
          ]
        },
        {
          "output_type": "display_data",
          "data": {
            "text/plain": [
              "<IPython.core.display.Math object>"
            ],
            "text/latex": "$\\displaystyle \\begin{cases}x + y + 3 z = \\text{128,500}\\\\2 x + 4 y + 10 z = \\text{412,000}\\\\11 x + 3 y + 6 z = \\text{507,500}\\end{cases}$"
          },
          "metadata": {}
        },
        {
          "output_type": "stream",
          "name": "stdout",
          "text": [
            "\n",
            "Possibility number-163\n",
            "System of equations with:\n",
            "a = 1, b = 1, c = 3,\n",
            "d = 3, e = 4, f = 7,\n",
            "g = 5, h = 2, i = 4,\n",
            "x = 25,000, y = 25,500, z = 26,000\n",
            "--------------------------------------------------\n",
            "The system of equations is:\n"
          ]
        },
        {
          "output_type": "display_data",
          "data": {
            "text/plain": [
              "<IPython.core.display.Math object>"
            ],
            "text/latex": "$\\displaystyle \\begin{cases}x + y + 3 z = \\text{128,500}\\\\3 x + 4 y + 7 z = \\text{359,000}\\\\5 x + 2 y + 4 z = \\text{280,000}\\end{cases}$"
          },
          "metadata": {}
        },
        {
          "output_type": "stream",
          "name": "stdout",
          "text": [
            "\n",
            "Possibility number-164\n",
            "System of equations with:\n",
            "a = 1, b = 1, c = 3,\n",
            "d = 3, e = 4, f = 7,\n",
            "g = 5, h = 2, i = 5,\n",
            "x = 25,000, y = 25,500, z = 26,000\n",
            "--------------------------------------------------\n",
            "The system of equations is:\n"
          ]
        },
        {
          "output_type": "display_data",
          "data": {
            "text/plain": [
              "<IPython.core.display.Math object>"
            ],
            "text/latex": "$\\displaystyle \\begin{cases}x + y + 3 z = \\text{128,500}\\\\3 x + 4 y + 7 z = \\text{359,000}\\\\5 x + 2 y + 5 z = \\text{306,000}\\end{cases}$"
          },
          "metadata": {}
        },
        {
          "output_type": "stream",
          "name": "stdout",
          "text": [
            "\n",
            "Possibility number-165\n",
            "System of equations with:\n",
            "a = 1, b = 1, c = 3,\n",
            "d = 3, e = 4, f = 7,\n",
            "g = 5, h = 2, i = 6,\n",
            "x = 25,000, y = 25,500, z = 26,000\n",
            "--------------------------------------------------\n",
            "The system of equations is:\n"
          ]
        },
        {
          "output_type": "display_data",
          "data": {
            "text/plain": [
              "<IPython.core.display.Math object>"
            ],
            "text/latex": "$\\displaystyle \\begin{cases}x + y + 3 z = \\text{128,500}\\\\3 x + 4 y + 7 z = \\text{359,000}\\\\5 x + 2 y + 6 z = \\text{332,000}\\end{cases}$"
          },
          "metadata": {}
        },
        {
          "output_type": "stream",
          "name": "stdout",
          "text": [
            "\n",
            "Possibility number-166\n",
            "System of equations with:\n",
            "a = 1, b = 1, c = 3,\n",
            "d = 3, e = 4, f = 7,\n",
            "g = 5, h = 3, i = 4,\n",
            "x = 25,000, y = 25,500, z = 26,000\n",
            "--------------------------------------------------\n",
            "The system of equations is:\n"
          ]
        },
        {
          "output_type": "display_data",
          "data": {
            "text/plain": [
              "<IPython.core.display.Math object>"
            ],
            "text/latex": "$\\displaystyle \\begin{cases}x + y + 3 z = \\text{128,500}\\\\3 x + 4 y + 7 z = \\text{359,000}\\\\5 x + 3 y + 4 z = \\text{305,500}\\end{cases}$"
          },
          "metadata": {}
        },
        {
          "output_type": "stream",
          "name": "stdout",
          "text": [
            "\n",
            "Possibility number-167\n",
            "System of equations with:\n",
            "a = 1, b = 1, c = 3,\n",
            "d = 3, e = 4, f = 7,\n",
            "g = 5, h = 3, i = 5,\n",
            "x = 25,000, y = 25,500, z = 26,000\n",
            "--------------------------------------------------\n",
            "The system of equations is:\n"
          ]
        },
        {
          "output_type": "display_data",
          "data": {
            "text/plain": [
              "<IPython.core.display.Math object>"
            ],
            "text/latex": "$\\displaystyle \\begin{cases}x + y + 3 z = \\text{128,500}\\\\3 x + 4 y + 7 z = \\text{359,000}\\\\5 x + 3 y + 5 z = \\text{331,500}\\end{cases}$"
          },
          "metadata": {}
        },
        {
          "output_type": "stream",
          "name": "stdout",
          "text": [
            "\n",
            "Possibility number-168\n",
            "System of equations with:\n",
            "a = 1, b = 1, c = 3,\n",
            "d = 3, e = 4, f = 7,\n",
            "g = 5, h = 3, i = 6,\n",
            "x = 25,000, y = 25,500, z = 26,000\n",
            "--------------------------------------------------\n",
            "The system of equations is:\n"
          ]
        },
        {
          "output_type": "display_data",
          "data": {
            "text/plain": [
              "<IPython.core.display.Math object>"
            ],
            "text/latex": "$\\displaystyle \\begin{cases}x + y + 3 z = \\text{128,500}\\\\3 x + 4 y + 7 z = \\text{359,000}\\\\5 x + 3 y + 6 z = \\text{357,500}\\end{cases}$"
          },
          "metadata": {}
        },
        {
          "output_type": "stream",
          "name": "stdout",
          "text": [
            "\n",
            "Possibility number-169\n",
            "System of equations with:\n",
            "a = 1, b = 1, c = 3,\n",
            "d = 3, e = 4, f = 7,\n",
            "g = 9, h = 2, i = 4,\n",
            "x = 25,000, y = 25,500, z = 26,000\n",
            "--------------------------------------------------\n",
            "The system of equations is:\n"
          ]
        },
        {
          "output_type": "display_data",
          "data": {
            "text/plain": [
              "<IPython.core.display.Math object>"
            ],
            "text/latex": "$\\displaystyle \\begin{cases}x + y + 3 z = \\text{128,500}\\\\3 x + 4 y + 7 z = \\text{359,000}\\\\9 x + 2 y + 4 z = \\text{380,000}\\end{cases}$"
          },
          "metadata": {}
        },
        {
          "output_type": "stream",
          "name": "stdout",
          "text": [
            "\n",
            "Possibility number-170\n",
            "System of equations with:\n",
            "a = 1, b = 1, c = 3,\n",
            "d = 3, e = 4, f = 7,\n",
            "g = 9, h = 2, i = 5,\n",
            "x = 25,000, y = 25,500, z = 26,000\n",
            "--------------------------------------------------\n",
            "The system of equations is:\n"
          ]
        },
        {
          "output_type": "display_data",
          "data": {
            "text/plain": [
              "<IPython.core.display.Math object>"
            ],
            "text/latex": "$\\displaystyle \\begin{cases}x + y + 3 z = \\text{128,500}\\\\3 x + 4 y + 7 z = \\text{359,000}\\\\9 x + 2 y + 5 z = \\text{406,000}\\end{cases}$"
          },
          "metadata": {}
        },
        {
          "output_type": "stream",
          "name": "stdout",
          "text": [
            "\n",
            "Possibility number-171\n",
            "System of equations with:\n",
            "a = 1, b = 1, c = 3,\n",
            "d = 3, e = 4, f = 7,\n",
            "g = 9, h = 2, i = 6,\n",
            "x = 25,000, y = 25,500, z = 26,000\n",
            "--------------------------------------------------\n",
            "The system of equations is:\n"
          ]
        },
        {
          "output_type": "display_data",
          "data": {
            "text/plain": [
              "<IPython.core.display.Math object>"
            ],
            "text/latex": "$\\displaystyle \\begin{cases}x + y + 3 z = \\text{128,500}\\\\3 x + 4 y + 7 z = \\text{359,000}\\\\9 x + 2 y + 6 z = \\text{432,000}\\end{cases}$"
          },
          "metadata": {}
        },
        {
          "output_type": "stream",
          "name": "stdout",
          "text": [
            "\n",
            "Possibility number-172\n",
            "System of equations with:\n",
            "a = 1, b = 1, c = 3,\n",
            "d = 3, e = 4, f = 7,\n",
            "g = 9, h = 3, i = 4,\n",
            "x = 25,000, y = 25,500, z = 26,000\n",
            "--------------------------------------------------\n",
            "The system of equations is:\n"
          ]
        },
        {
          "output_type": "display_data",
          "data": {
            "text/plain": [
              "<IPython.core.display.Math object>"
            ],
            "text/latex": "$\\displaystyle \\begin{cases}x + y + 3 z = \\text{128,500}\\\\3 x + 4 y + 7 z = \\text{359,000}\\\\9 x + 3 y + 4 z = \\text{405,500}\\end{cases}$"
          },
          "metadata": {}
        },
        {
          "output_type": "stream",
          "name": "stdout",
          "text": [
            "\n",
            "Possibility number-173\n",
            "System of equations with:\n",
            "a = 1, b = 1, c = 3,\n",
            "d = 3, e = 4, f = 7,\n",
            "g = 9, h = 3, i = 5,\n",
            "x = 25,000, y = 25,500, z = 26,000\n",
            "--------------------------------------------------\n",
            "The system of equations is:\n"
          ]
        },
        {
          "output_type": "display_data",
          "data": {
            "text/plain": [
              "<IPython.core.display.Math object>"
            ],
            "text/latex": "$\\displaystyle \\begin{cases}x + y + 3 z = \\text{128,500}\\\\3 x + 4 y + 7 z = \\text{359,000}\\\\9 x + 3 y + 5 z = \\text{431,500}\\end{cases}$"
          },
          "metadata": {}
        },
        {
          "output_type": "stream",
          "name": "stdout",
          "text": [
            "\n",
            "Possibility number-174\n",
            "System of equations with:\n",
            "a = 1, b = 1, c = 3,\n",
            "d = 3, e = 4, f = 7,\n",
            "g = 9, h = 3, i = 6,\n",
            "x = 25,000, y = 25,500, z = 26,000\n",
            "--------------------------------------------------\n",
            "The system of equations is:\n"
          ]
        },
        {
          "output_type": "display_data",
          "data": {
            "text/plain": [
              "<IPython.core.display.Math object>"
            ],
            "text/latex": "$\\displaystyle \\begin{cases}x + y + 3 z = \\text{128,500}\\\\3 x + 4 y + 7 z = \\text{359,000}\\\\9 x + 3 y + 6 z = \\text{457,500}\\end{cases}$"
          },
          "metadata": {}
        },
        {
          "output_type": "stream",
          "name": "stdout",
          "text": [
            "\n",
            "Possibility number-175\n",
            "System of equations with:\n",
            "a = 1, b = 1, c = 3,\n",
            "d = 3, e = 4, f = 7,\n",
            "g = 11, h = 2, i = 4,\n",
            "x = 25,000, y = 25,500, z = 26,000\n",
            "--------------------------------------------------\n",
            "The system of equations is:\n"
          ]
        },
        {
          "output_type": "display_data",
          "data": {
            "text/plain": [
              "<IPython.core.display.Math object>"
            ],
            "text/latex": "$\\displaystyle \\begin{cases}x + y + 3 z = \\text{128,500}\\\\3 x + 4 y + 7 z = \\text{359,000}\\\\11 x + 2 y + 4 z = \\text{430,000}\\end{cases}$"
          },
          "metadata": {}
        },
        {
          "output_type": "stream",
          "name": "stdout",
          "text": [
            "\n",
            "Possibility number-176\n",
            "System of equations with:\n",
            "a = 1, b = 1, c = 3,\n",
            "d = 3, e = 4, f = 7,\n",
            "g = 11, h = 2, i = 5,\n",
            "x = 25,000, y = 25,500, z = 26,000\n",
            "--------------------------------------------------\n",
            "The system of equations is:\n"
          ]
        },
        {
          "output_type": "display_data",
          "data": {
            "text/plain": [
              "<IPython.core.display.Math object>"
            ],
            "text/latex": "$\\displaystyle \\begin{cases}x + y + 3 z = \\text{128,500}\\\\3 x + 4 y + 7 z = \\text{359,000}\\\\11 x + 2 y + 5 z = \\text{456,000}\\end{cases}$"
          },
          "metadata": {}
        },
        {
          "output_type": "stream",
          "name": "stdout",
          "text": [
            "\n",
            "Possibility number-177\n",
            "System of equations with:\n",
            "a = 1, b = 1, c = 3,\n",
            "d = 3, e = 4, f = 7,\n",
            "g = 11, h = 2, i = 6,\n",
            "x = 25,000, y = 25,500, z = 26,000\n",
            "--------------------------------------------------\n",
            "The system of equations is:\n"
          ]
        },
        {
          "output_type": "display_data",
          "data": {
            "text/plain": [
              "<IPython.core.display.Math object>"
            ],
            "text/latex": "$\\displaystyle \\begin{cases}x + y + 3 z = \\text{128,500}\\\\3 x + 4 y + 7 z = \\text{359,000}\\\\11 x + 2 y + 6 z = \\text{482,000}\\end{cases}$"
          },
          "metadata": {}
        },
        {
          "output_type": "stream",
          "name": "stdout",
          "text": [
            "\n",
            "Possibility number-178\n",
            "System of equations with:\n",
            "a = 1, b = 1, c = 3,\n",
            "d = 3, e = 4, f = 7,\n",
            "g = 11, h = 3, i = 4,\n",
            "x = 25,000, y = 25,500, z = 26,000\n",
            "--------------------------------------------------\n",
            "The system of equations is:\n"
          ]
        },
        {
          "output_type": "display_data",
          "data": {
            "text/plain": [
              "<IPython.core.display.Math object>"
            ],
            "text/latex": "$\\displaystyle \\begin{cases}x + y + 3 z = \\text{128,500}\\\\3 x + 4 y + 7 z = \\text{359,000}\\\\11 x + 3 y + 4 z = \\text{455,500}\\end{cases}$"
          },
          "metadata": {}
        },
        {
          "output_type": "stream",
          "name": "stdout",
          "text": [
            "\n",
            "Possibility number-179\n",
            "System of equations with:\n",
            "a = 1, b = 1, c = 3,\n",
            "d = 3, e = 4, f = 7,\n",
            "g = 11, h = 3, i = 5,\n",
            "x = 25,000, y = 25,500, z = 26,000\n",
            "--------------------------------------------------\n",
            "The system of equations is:\n"
          ]
        },
        {
          "output_type": "display_data",
          "data": {
            "text/plain": [
              "<IPython.core.display.Math object>"
            ],
            "text/latex": "$\\displaystyle \\begin{cases}x + y + 3 z = \\text{128,500}\\\\3 x + 4 y + 7 z = \\text{359,000}\\\\11 x + 3 y + 5 z = \\text{481,500}\\end{cases}$"
          },
          "metadata": {}
        },
        {
          "output_type": "stream",
          "name": "stdout",
          "text": [
            "\n",
            "Possibility number-180\n",
            "System of equations with:\n",
            "a = 1, b = 1, c = 3,\n",
            "d = 3, e = 4, f = 7,\n",
            "g = 11, h = 3, i = 6,\n",
            "x = 25,000, y = 25,500, z = 26,000\n",
            "--------------------------------------------------\n",
            "The system of equations is:\n"
          ]
        },
        {
          "output_type": "display_data",
          "data": {
            "text/plain": [
              "<IPython.core.display.Math object>"
            ],
            "text/latex": "$\\displaystyle \\begin{cases}x + y + 3 z = \\text{128,500}\\\\3 x + 4 y + 7 z = \\text{359,000}\\\\11 x + 3 y + 6 z = \\text{507,500}\\end{cases}$"
          },
          "metadata": {}
        },
        {
          "output_type": "stream",
          "name": "stdout",
          "text": [
            "\n",
            "Possibility number-181\n",
            "System of equations with:\n",
            "a = 1, b = 1, c = 3,\n",
            "d = 3, e = 4, f = 8,\n",
            "g = 5, h = 2, i = 4,\n",
            "x = 25,000, y = 25,500, z = 26,000\n",
            "--------------------------------------------------\n",
            "The system of equations is:\n"
          ]
        },
        {
          "output_type": "display_data",
          "data": {
            "text/plain": [
              "<IPython.core.display.Math object>"
            ],
            "text/latex": "$\\displaystyle \\begin{cases}x + y + 3 z = \\text{128,500}\\\\3 x + 4 y + 8 z = \\text{385,000}\\\\5 x + 2 y + 4 z = \\text{280,000}\\end{cases}$"
          },
          "metadata": {}
        },
        {
          "output_type": "stream",
          "name": "stdout",
          "text": [
            "\n",
            "Possibility number-182\n",
            "System of equations with:\n",
            "a = 1, b = 1, c = 3,\n",
            "d = 3, e = 4, f = 8,\n",
            "g = 5, h = 2, i = 5,\n",
            "x = 25,000, y = 25,500, z = 26,000\n",
            "--------------------------------------------------\n",
            "The system of equations is:\n"
          ]
        },
        {
          "output_type": "display_data",
          "data": {
            "text/plain": [
              "<IPython.core.display.Math object>"
            ],
            "text/latex": "$\\displaystyle \\begin{cases}x + y + 3 z = \\text{128,500}\\\\3 x + 4 y + 8 z = \\text{385,000}\\\\5 x + 2 y + 5 z = \\text{306,000}\\end{cases}$"
          },
          "metadata": {}
        },
        {
          "output_type": "stream",
          "name": "stdout",
          "text": [
            "\n",
            "Possibility number-183\n",
            "System of equations with:\n",
            "a = 1, b = 1, c = 3,\n",
            "d = 3, e = 4, f = 8,\n",
            "g = 5, h = 2, i = 6,\n",
            "x = 25,000, y = 25,500, z = 26,000\n",
            "--------------------------------------------------\n",
            "The system of equations is:\n"
          ]
        },
        {
          "output_type": "display_data",
          "data": {
            "text/plain": [
              "<IPython.core.display.Math object>"
            ],
            "text/latex": "$\\displaystyle \\begin{cases}x + y + 3 z = \\text{128,500}\\\\3 x + 4 y + 8 z = \\text{385,000}\\\\5 x + 2 y + 6 z = \\text{332,000}\\end{cases}$"
          },
          "metadata": {}
        },
        {
          "output_type": "stream",
          "name": "stdout",
          "text": [
            "\n",
            "Possibility number-184\n",
            "System of equations with:\n",
            "a = 1, b = 1, c = 3,\n",
            "d = 3, e = 4, f = 8,\n",
            "g = 5, h = 3, i = 4,\n",
            "x = 25,000, y = 25,500, z = 26,000\n",
            "--------------------------------------------------\n",
            "The system of equations is:\n"
          ]
        },
        {
          "output_type": "display_data",
          "data": {
            "text/plain": [
              "<IPython.core.display.Math object>"
            ],
            "text/latex": "$\\displaystyle \\begin{cases}x + y + 3 z = \\text{128,500}\\\\3 x + 4 y + 8 z = \\text{385,000}\\\\5 x + 3 y + 4 z = \\text{305,500}\\end{cases}$"
          },
          "metadata": {}
        },
        {
          "output_type": "stream",
          "name": "stdout",
          "text": [
            "\n",
            "Possibility number-185\n",
            "System of equations with:\n",
            "a = 1, b = 1, c = 3,\n",
            "d = 3, e = 4, f = 8,\n",
            "g = 5, h = 3, i = 5,\n",
            "x = 25,000, y = 25,500, z = 26,000\n",
            "--------------------------------------------------\n",
            "The system of equations is:\n"
          ]
        },
        {
          "output_type": "display_data",
          "data": {
            "text/plain": [
              "<IPython.core.display.Math object>"
            ],
            "text/latex": "$\\displaystyle \\begin{cases}x + y + 3 z = \\text{128,500}\\\\3 x + 4 y + 8 z = \\text{385,000}\\\\5 x + 3 y + 5 z = \\text{331,500}\\end{cases}$"
          },
          "metadata": {}
        },
        {
          "output_type": "stream",
          "name": "stdout",
          "text": [
            "\n",
            "Possibility number-186\n",
            "System of equations with:\n",
            "a = 1, b = 1, c = 3,\n",
            "d = 3, e = 4, f = 8,\n",
            "g = 5, h = 3, i = 6,\n",
            "x = 25,000, y = 25,500, z = 26,000\n",
            "--------------------------------------------------\n",
            "The system of equations is:\n"
          ]
        },
        {
          "output_type": "display_data",
          "data": {
            "text/plain": [
              "<IPython.core.display.Math object>"
            ],
            "text/latex": "$\\displaystyle \\begin{cases}x + y + 3 z = \\text{128,500}\\\\3 x + 4 y + 8 z = \\text{385,000}\\\\5 x + 3 y + 6 z = \\text{357,500}\\end{cases}$"
          },
          "metadata": {}
        },
        {
          "output_type": "stream",
          "name": "stdout",
          "text": [
            "\n",
            "Possibility number-187\n",
            "System of equations with:\n",
            "a = 1, b = 1, c = 3,\n",
            "d = 3, e = 4, f = 8,\n",
            "g = 9, h = 2, i = 4,\n",
            "x = 25,000, y = 25,500, z = 26,000\n",
            "--------------------------------------------------\n",
            "The system of equations is:\n"
          ]
        },
        {
          "output_type": "display_data",
          "data": {
            "text/plain": [
              "<IPython.core.display.Math object>"
            ],
            "text/latex": "$\\displaystyle \\begin{cases}x + y + 3 z = \\text{128,500}\\\\3 x + 4 y + 8 z = \\text{385,000}\\\\9 x + 2 y + 4 z = \\text{380,000}\\end{cases}$"
          },
          "metadata": {}
        },
        {
          "output_type": "stream",
          "name": "stdout",
          "text": [
            "\n",
            "Possibility number-188\n",
            "System of equations with:\n",
            "a = 1, b = 1, c = 3,\n",
            "d = 3, e = 4, f = 8,\n",
            "g = 9, h = 2, i = 5,\n",
            "x = 25,000, y = 25,500, z = 26,000\n",
            "--------------------------------------------------\n",
            "The system of equations is:\n"
          ]
        },
        {
          "output_type": "display_data",
          "data": {
            "text/plain": [
              "<IPython.core.display.Math object>"
            ],
            "text/latex": "$\\displaystyle \\begin{cases}x + y + 3 z = \\text{128,500}\\\\3 x + 4 y + 8 z = \\text{385,000}\\\\9 x + 2 y + 5 z = \\text{406,000}\\end{cases}$"
          },
          "metadata": {}
        },
        {
          "output_type": "stream",
          "name": "stdout",
          "text": [
            "\n",
            "Possibility number-189\n",
            "System of equations with:\n",
            "a = 1, b = 1, c = 3,\n",
            "d = 3, e = 4, f = 8,\n",
            "g = 9, h = 2, i = 6,\n",
            "x = 25,000, y = 25,500, z = 26,000\n",
            "--------------------------------------------------\n",
            "The system of equations is:\n"
          ]
        },
        {
          "output_type": "display_data",
          "data": {
            "text/plain": [
              "<IPython.core.display.Math object>"
            ],
            "text/latex": "$\\displaystyle \\begin{cases}x + y + 3 z = \\text{128,500}\\\\3 x + 4 y + 8 z = \\text{385,000}\\\\9 x + 2 y + 6 z = \\text{432,000}\\end{cases}$"
          },
          "metadata": {}
        },
        {
          "output_type": "stream",
          "name": "stdout",
          "text": [
            "\n",
            "Possibility number-190\n",
            "System of equations with:\n",
            "a = 1, b = 1, c = 3,\n",
            "d = 3, e = 4, f = 8,\n",
            "g = 9, h = 3, i = 4,\n",
            "x = 25,000, y = 25,500, z = 26,000\n",
            "--------------------------------------------------\n",
            "The system of equations is:\n"
          ]
        },
        {
          "output_type": "display_data",
          "data": {
            "text/plain": [
              "<IPython.core.display.Math object>"
            ],
            "text/latex": "$\\displaystyle \\begin{cases}x + y + 3 z = \\text{128,500}\\\\3 x + 4 y + 8 z = \\text{385,000}\\\\9 x + 3 y + 4 z = \\text{405,500}\\end{cases}$"
          },
          "metadata": {}
        },
        {
          "output_type": "stream",
          "name": "stdout",
          "text": [
            "\n",
            "Possibility number-191\n",
            "System of equations with:\n",
            "a = 1, b = 1, c = 3,\n",
            "d = 3, e = 4, f = 8,\n",
            "g = 9, h = 3, i = 5,\n",
            "x = 25,000, y = 25,500, z = 26,000\n",
            "--------------------------------------------------\n",
            "The system of equations is:\n"
          ]
        },
        {
          "output_type": "display_data",
          "data": {
            "text/plain": [
              "<IPython.core.display.Math object>"
            ],
            "text/latex": "$\\displaystyle \\begin{cases}x + y + 3 z = \\text{128,500}\\\\3 x + 4 y + 8 z = \\text{385,000}\\\\9 x + 3 y + 5 z = \\text{431,500}\\end{cases}$"
          },
          "metadata": {}
        },
        {
          "output_type": "stream",
          "name": "stdout",
          "text": [
            "\n",
            "Possibility number-192\n",
            "System of equations with:\n",
            "a = 1, b = 1, c = 3,\n",
            "d = 3, e = 4, f = 8,\n",
            "g = 9, h = 3, i = 6,\n",
            "x = 25,000, y = 25,500, z = 26,000\n",
            "--------------------------------------------------\n",
            "The system of equations is:\n"
          ]
        },
        {
          "output_type": "display_data",
          "data": {
            "text/plain": [
              "<IPython.core.display.Math object>"
            ],
            "text/latex": "$\\displaystyle \\begin{cases}x + y + 3 z = \\text{128,500}\\\\3 x + 4 y + 8 z = \\text{385,000}\\\\9 x + 3 y + 6 z = \\text{457,500}\\end{cases}$"
          },
          "metadata": {}
        },
        {
          "output_type": "stream",
          "name": "stdout",
          "text": [
            "\n",
            "Possibility number-193\n",
            "System of equations with:\n",
            "a = 1, b = 1, c = 3,\n",
            "d = 3, e = 4, f = 8,\n",
            "g = 11, h = 2, i = 4,\n",
            "x = 25,000, y = 25,500, z = 26,000\n",
            "--------------------------------------------------\n",
            "The system of equations is:\n"
          ]
        },
        {
          "output_type": "display_data",
          "data": {
            "text/plain": [
              "<IPython.core.display.Math object>"
            ],
            "text/latex": "$\\displaystyle \\begin{cases}x + y + 3 z = \\text{128,500}\\\\3 x + 4 y + 8 z = \\text{385,000}\\\\11 x + 2 y + 4 z = \\text{430,000}\\end{cases}$"
          },
          "metadata": {}
        },
        {
          "output_type": "stream",
          "name": "stdout",
          "text": [
            "\n",
            "Possibility number-194\n",
            "System of equations with:\n",
            "a = 1, b = 1, c = 3,\n",
            "d = 3, e = 4, f = 8,\n",
            "g = 11, h = 2, i = 5,\n",
            "x = 25,000, y = 25,500, z = 26,000\n",
            "--------------------------------------------------\n",
            "The system of equations is:\n"
          ]
        },
        {
          "output_type": "display_data",
          "data": {
            "text/plain": [
              "<IPython.core.display.Math object>"
            ],
            "text/latex": "$\\displaystyle \\begin{cases}x + y + 3 z = \\text{128,500}\\\\3 x + 4 y + 8 z = \\text{385,000}\\\\11 x + 2 y + 5 z = \\text{456,000}\\end{cases}$"
          },
          "metadata": {}
        },
        {
          "output_type": "stream",
          "name": "stdout",
          "text": [
            "\n",
            "Possibility number-195\n",
            "System of equations with:\n",
            "a = 1, b = 1, c = 3,\n",
            "d = 3, e = 4, f = 8,\n",
            "g = 11, h = 2, i = 6,\n",
            "x = 25,000, y = 25,500, z = 26,000\n",
            "--------------------------------------------------\n",
            "The system of equations is:\n"
          ]
        },
        {
          "output_type": "display_data",
          "data": {
            "text/plain": [
              "<IPython.core.display.Math object>"
            ],
            "text/latex": "$\\displaystyle \\begin{cases}x + y + 3 z = \\text{128,500}\\\\3 x + 4 y + 8 z = \\text{385,000}\\\\11 x + 2 y + 6 z = \\text{482,000}\\end{cases}$"
          },
          "metadata": {}
        },
        {
          "output_type": "stream",
          "name": "stdout",
          "text": [
            "\n",
            "Possibility number-196\n",
            "System of equations with:\n",
            "a = 1, b = 1, c = 3,\n",
            "d = 3, e = 4, f = 8,\n",
            "g = 11, h = 3, i = 4,\n",
            "x = 25,000, y = 25,500, z = 26,000\n",
            "--------------------------------------------------\n",
            "The system of equations is:\n"
          ]
        },
        {
          "output_type": "display_data",
          "data": {
            "text/plain": [
              "<IPython.core.display.Math object>"
            ],
            "text/latex": "$\\displaystyle \\begin{cases}x + y + 3 z = \\text{128,500}\\\\3 x + 4 y + 8 z = \\text{385,000}\\\\11 x + 3 y + 4 z = \\text{455,500}\\end{cases}$"
          },
          "metadata": {}
        },
        {
          "output_type": "stream",
          "name": "stdout",
          "text": [
            "\n",
            "Possibility number-197\n",
            "System of equations with:\n",
            "a = 1, b = 1, c = 3,\n",
            "d = 3, e = 4, f = 8,\n",
            "g = 11, h = 3, i = 5,\n",
            "x = 25,000, y = 25,500, z = 26,000\n",
            "--------------------------------------------------\n",
            "The system of equations is:\n"
          ]
        },
        {
          "output_type": "display_data",
          "data": {
            "text/plain": [
              "<IPython.core.display.Math object>"
            ],
            "text/latex": "$\\displaystyle \\begin{cases}x + y + 3 z = \\text{128,500}\\\\3 x + 4 y + 8 z = \\text{385,000}\\\\11 x + 3 y + 5 z = \\text{481,500}\\end{cases}$"
          },
          "metadata": {}
        },
        {
          "output_type": "stream",
          "name": "stdout",
          "text": [
            "\n",
            "Possibility number-198\n",
            "System of equations with:\n",
            "a = 1, b = 1, c = 3,\n",
            "d = 3, e = 4, f = 8,\n",
            "g = 11, h = 3, i = 6,\n",
            "x = 25,000, y = 25,500, z = 26,000\n",
            "--------------------------------------------------\n",
            "The system of equations is:\n"
          ]
        },
        {
          "output_type": "display_data",
          "data": {
            "text/plain": [
              "<IPython.core.display.Math object>"
            ],
            "text/latex": "$\\displaystyle \\begin{cases}x + y + 3 z = \\text{128,500}\\\\3 x + 4 y + 8 z = \\text{385,000}\\\\11 x + 3 y + 6 z = \\text{507,500}\\end{cases}$"
          },
          "metadata": {}
        },
        {
          "output_type": "stream",
          "name": "stdout",
          "text": [
            "\n",
            "Possibility number-199\n",
            "System of equations with:\n",
            "a = 1, b = 1, c = 3,\n",
            "d = 3, e = 4, f = 10,\n",
            "g = 5, h = 2, i = 4,\n",
            "x = 25,000, y = 25,500, z = 26,000\n",
            "--------------------------------------------------\n",
            "The system of equations is:\n"
          ]
        },
        {
          "output_type": "display_data",
          "data": {
            "text/plain": [
              "<IPython.core.display.Math object>"
            ],
            "text/latex": "$\\displaystyle \\begin{cases}x + y + 3 z = \\text{128,500}\\\\3 x + 4 y + 10 z = \\text{437,000}\\\\5 x + 2 y + 4 z = \\text{280,000}\\end{cases}$"
          },
          "metadata": {}
        },
        {
          "output_type": "stream",
          "name": "stdout",
          "text": [
            "\n",
            "Possibility number-200\n",
            "System of equations with:\n",
            "a = 1, b = 1, c = 3,\n",
            "d = 3, e = 4, f = 10,\n",
            "g = 5, h = 2, i = 5,\n",
            "x = 25,000, y = 25,500, z = 26,000\n",
            "--------------------------------------------------\n",
            "The system of equations is:\n"
          ]
        },
        {
          "output_type": "display_data",
          "data": {
            "text/plain": [
              "<IPython.core.display.Math object>"
            ],
            "text/latex": "$\\displaystyle \\begin{cases}x + y + 3 z = \\text{128,500}\\\\3 x + 4 y + 10 z = \\text{437,000}\\\\5 x + 2 y + 5 z = \\text{306,000}\\end{cases}$"
          },
          "metadata": {}
        },
        {
          "output_type": "stream",
          "name": "stdout",
          "text": [
            "\n",
            "Possibility number-201\n",
            "System of equations with:\n",
            "a = 1, b = 1, c = 3,\n",
            "d = 3, e = 4, f = 10,\n",
            "g = 5, h = 2, i = 6,\n",
            "x = 25,000, y = 25,500, z = 26,000\n",
            "--------------------------------------------------\n",
            "The system of equations is:\n"
          ]
        },
        {
          "output_type": "display_data",
          "data": {
            "text/plain": [
              "<IPython.core.display.Math object>"
            ],
            "text/latex": "$\\displaystyle \\begin{cases}x + y + 3 z = \\text{128,500}\\\\3 x + 4 y + 10 z = \\text{437,000}\\\\5 x + 2 y + 6 z = \\text{332,000}\\end{cases}$"
          },
          "metadata": {}
        },
        {
          "output_type": "stream",
          "name": "stdout",
          "text": [
            "\n",
            "Possibility number-202\n",
            "System of equations with:\n",
            "a = 1, b = 1, c = 3,\n",
            "d = 3, e = 4, f = 10,\n",
            "g = 5, h = 3, i = 4,\n",
            "x = 25,000, y = 25,500, z = 26,000\n",
            "--------------------------------------------------\n",
            "The system of equations is:\n"
          ]
        },
        {
          "output_type": "display_data",
          "data": {
            "text/plain": [
              "<IPython.core.display.Math object>"
            ],
            "text/latex": "$\\displaystyle \\begin{cases}x + y + 3 z = \\text{128,500}\\\\3 x + 4 y + 10 z = \\text{437,000}\\\\5 x + 3 y + 4 z = \\text{305,500}\\end{cases}$"
          },
          "metadata": {}
        },
        {
          "output_type": "stream",
          "name": "stdout",
          "text": [
            "\n",
            "Possibility number-203\n",
            "System of equations with:\n",
            "a = 1, b = 1, c = 3,\n",
            "d = 3, e = 4, f = 10,\n",
            "g = 5, h = 3, i = 5,\n",
            "x = 25,000, y = 25,500, z = 26,000\n",
            "--------------------------------------------------\n",
            "The system of equations is:\n"
          ]
        },
        {
          "output_type": "display_data",
          "data": {
            "text/plain": [
              "<IPython.core.display.Math object>"
            ],
            "text/latex": "$\\displaystyle \\begin{cases}x + y + 3 z = \\text{128,500}\\\\3 x + 4 y + 10 z = \\text{437,000}\\\\5 x + 3 y + 5 z = \\text{331,500}\\end{cases}$"
          },
          "metadata": {}
        },
        {
          "output_type": "stream",
          "name": "stdout",
          "text": [
            "\n",
            "Possibility number-204\n",
            "System of equations with:\n",
            "a = 1, b = 1, c = 3,\n",
            "d = 3, e = 4, f = 10,\n",
            "g = 5, h = 3, i = 6,\n",
            "x = 25,000, y = 25,500, z = 26,000\n",
            "--------------------------------------------------\n",
            "The system of equations is:\n"
          ]
        },
        {
          "output_type": "display_data",
          "data": {
            "text/plain": [
              "<IPython.core.display.Math object>"
            ],
            "text/latex": "$\\displaystyle \\begin{cases}x + y + 3 z = \\text{128,500}\\\\3 x + 4 y + 10 z = \\text{437,000}\\\\5 x + 3 y + 6 z = \\text{357,500}\\end{cases}$"
          },
          "metadata": {}
        },
        {
          "output_type": "stream",
          "name": "stdout",
          "text": [
            "\n",
            "Possibility number-205\n",
            "System of equations with:\n",
            "a = 1, b = 1, c = 3,\n",
            "d = 3, e = 4, f = 10,\n",
            "g = 9, h = 2, i = 4,\n",
            "x = 25,000, y = 25,500, z = 26,000\n",
            "--------------------------------------------------\n",
            "The system of equations is:\n"
          ]
        },
        {
          "output_type": "display_data",
          "data": {
            "text/plain": [
              "<IPython.core.display.Math object>"
            ],
            "text/latex": "$\\displaystyle \\begin{cases}x + y + 3 z = \\text{128,500}\\\\3 x + 4 y + 10 z = \\text{437,000}\\\\9 x + 2 y + 4 z = \\text{380,000}\\end{cases}$"
          },
          "metadata": {}
        },
        {
          "output_type": "stream",
          "name": "stdout",
          "text": [
            "\n",
            "Possibility number-206\n",
            "System of equations with:\n",
            "a = 1, b = 1, c = 3,\n",
            "d = 3, e = 4, f = 10,\n",
            "g = 9, h = 2, i = 5,\n",
            "x = 25,000, y = 25,500, z = 26,000\n",
            "--------------------------------------------------\n",
            "The system of equations is:\n"
          ]
        },
        {
          "output_type": "display_data",
          "data": {
            "text/plain": [
              "<IPython.core.display.Math object>"
            ],
            "text/latex": "$\\displaystyle \\begin{cases}x + y + 3 z = \\text{128,500}\\\\3 x + 4 y + 10 z = \\text{437,000}\\\\9 x + 2 y + 5 z = \\text{406,000}\\end{cases}$"
          },
          "metadata": {}
        },
        {
          "output_type": "stream",
          "name": "stdout",
          "text": [
            "\n",
            "Possibility number-207\n",
            "System of equations with:\n",
            "a = 1, b = 1, c = 3,\n",
            "d = 3, e = 4, f = 10,\n",
            "g = 9, h = 2, i = 6,\n",
            "x = 25,000, y = 25,500, z = 26,000\n",
            "--------------------------------------------------\n",
            "The system of equations is:\n"
          ]
        },
        {
          "output_type": "display_data",
          "data": {
            "text/plain": [
              "<IPython.core.display.Math object>"
            ],
            "text/latex": "$\\displaystyle \\begin{cases}x + y + 3 z = \\text{128,500}\\\\3 x + 4 y + 10 z = \\text{437,000}\\\\9 x + 2 y + 6 z = \\text{432,000}\\end{cases}$"
          },
          "metadata": {}
        },
        {
          "output_type": "stream",
          "name": "stdout",
          "text": [
            "\n",
            "Possibility number-208\n",
            "System of equations with:\n",
            "a = 1, b = 1, c = 3,\n",
            "d = 3, e = 4, f = 10,\n",
            "g = 9, h = 3, i = 4,\n",
            "x = 25,000, y = 25,500, z = 26,000\n",
            "--------------------------------------------------\n",
            "The system of equations is:\n"
          ]
        },
        {
          "output_type": "display_data",
          "data": {
            "text/plain": [
              "<IPython.core.display.Math object>"
            ],
            "text/latex": "$\\displaystyle \\begin{cases}x + y + 3 z = \\text{128,500}\\\\3 x + 4 y + 10 z = \\text{437,000}\\\\9 x + 3 y + 4 z = \\text{405,500}\\end{cases}$"
          },
          "metadata": {}
        },
        {
          "output_type": "stream",
          "name": "stdout",
          "text": [
            "\n",
            "Possibility number-209\n",
            "System of equations with:\n",
            "a = 1, b = 1, c = 3,\n",
            "d = 3, e = 4, f = 10,\n",
            "g = 9, h = 3, i = 5,\n",
            "x = 25,000, y = 25,500, z = 26,000\n",
            "--------------------------------------------------\n",
            "The system of equations is:\n"
          ]
        },
        {
          "output_type": "display_data",
          "data": {
            "text/plain": [
              "<IPython.core.display.Math object>"
            ],
            "text/latex": "$\\displaystyle \\begin{cases}x + y + 3 z = \\text{128,500}\\\\3 x + 4 y + 10 z = \\text{437,000}\\\\9 x + 3 y + 5 z = \\text{431,500}\\end{cases}$"
          },
          "metadata": {}
        },
        {
          "output_type": "stream",
          "name": "stdout",
          "text": [
            "\n",
            "Possibility number-210\n",
            "System of equations with:\n",
            "a = 1, b = 1, c = 3,\n",
            "d = 3, e = 4, f = 10,\n",
            "g = 9, h = 3, i = 6,\n",
            "x = 25,000, y = 25,500, z = 26,000\n",
            "--------------------------------------------------\n",
            "The system of equations is:\n"
          ]
        },
        {
          "output_type": "display_data",
          "data": {
            "text/plain": [
              "<IPython.core.display.Math object>"
            ],
            "text/latex": "$\\displaystyle \\begin{cases}x + y + 3 z = \\text{128,500}\\\\3 x + 4 y + 10 z = \\text{437,000}\\\\9 x + 3 y + 6 z = \\text{457,500}\\end{cases}$"
          },
          "metadata": {}
        },
        {
          "output_type": "stream",
          "name": "stdout",
          "text": [
            "\n",
            "Possibility number-211\n",
            "System of equations with:\n",
            "a = 1, b = 1, c = 3,\n",
            "d = 3, e = 4, f = 10,\n",
            "g = 11, h = 2, i = 4,\n",
            "x = 25,000, y = 25,500, z = 26,000\n",
            "--------------------------------------------------\n",
            "The system of equations is:\n"
          ]
        },
        {
          "output_type": "display_data",
          "data": {
            "text/plain": [
              "<IPython.core.display.Math object>"
            ],
            "text/latex": "$\\displaystyle \\begin{cases}x + y + 3 z = \\text{128,500}\\\\3 x + 4 y + 10 z = \\text{437,000}\\\\11 x + 2 y + 4 z = \\text{430,000}\\end{cases}$"
          },
          "metadata": {}
        },
        {
          "output_type": "stream",
          "name": "stdout",
          "text": [
            "\n",
            "Possibility number-212\n",
            "System of equations with:\n",
            "a = 1, b = 1, c = 3,\n",
            "d = 3, e = 4, f = 10,\n",
            "g = 11, h = 2, i = 5,\n",
            "x = 25,000, y = 25,500, z = 26,000\n",
            "--------------------------------------------------\n",
            "The system of equations is:\n"
          ]
        },
        {
          "output_type": "display_data",
          "data": {
            "text/plain": [
              "<IPython.core.display.Math object>"
            ],
            "text/latex": "$\\displaystyle \\begin{cases}x + y + 3 z = \\text{128,500}\\\\3 x + 4 y + 10 z = \\text{437,000}\\\\11 x + 2 y + 5 z = \\text{456,000}\\end{cases}$"
          },
          "metadata": {}
        },
        {
          "output_type": "stream",
          "name": "stdout",
          "text": [
            "\n",
            "Possibility number-213\n",
            "System of equations with:\n",
            "a = 1, b = 1, c = 3,\n",
            "d = 3, e = 4, f = 10,\n",
            "g = 11, h = 2, i = 6,\n",
            "x = 25,000, y = 25,500, z = 26,000\n",
            "--------------------------------------------------\n",
            "The system of equations is:\n"
          ]
        },
        {
          "output_type": "display_data",
          "data": {
            "text/plain": [
              "<IPython.core.display.Math object>"
            ],
            "text/latex": "$\\displaystyle \\begin{cases}x + y + 3 z = \\text{128,500}\\\\3 x + 4 y + 10 z = \\text{437,000}\\\\11 x + 2 y + 6 z = \\text{482,000}\\end{cases}$"
          },
          "metadata": {}
        },
        {
          "output_type": "stream",
          "name": "stdout",
          "text": [
            "\n",
            "Possibility number-214\n",
            "System of equations with:\n",
            "a = 1, b = 1, c = 3,\n",
            "d = 3, e = 4, f = 10,\n",
            "g = 11, h = 3, i = 4,\n",
            "x = 25,000, y = 25,500, z = 26,000\n",
            "--------------------------------------------------\n",
            "The system of equations is:\n"
          ]
        },
        {
          "output_type": "display_data",
          "data": {
            "text/plain": [
              "<IPython.core.display.Math object>"
            ],
            "text/latex": "$\\displaystyle \\begin{cases}x + y + 3 z = \\text{128,500}\\\\3 x + 4 y + 10 z = \\text{437,000}\\\\11 x + 3 y + 4 z = \\text{455,500}\\end{cases}$"
          },
          "metadata": {}
        },
        {
          "output_type": "stream",
          "name": "stdout",
          "text": [
            "\n",
            "Possibility number-215\n",
            "System of equations with:\n",
            "a = 1, b = 1, c = 3,\n",
            "d = 3, e = 4, f = 10,\n",
            "g = 11, h = 3, i = 5,\n",
            "x = 25,000, y = 25,500, z = 26,000\n",
            "--------------------------------------------------\n",
            "The system of equations is:\n"
          ]
        },
        {
          "output_type": "display_data",
          "data": {
            "text/plain": [
              "<IPython.core.display.Math object>"
            ],
            "text/latex": "$\\displaystyle \\begin{cases}x + y + 3 z = \\text{128,500}\\\\3 x + 4 y + 10 z = \\text{437,000}\\\\11 x + 3 y + 5 z = \\text{481,500}\\end{cases}$"
          },
          "metadata": {}
        },
        {
          "output_type": "stream",
          "name": "stdout",
          "text": [
            "\n",
            "Possibility number-216\n",
            "System of equations with:\n",
            "a = 1, b = 1, c = 3,\n",
            "d = 3, e = 4, f = 10,\n",
            "g = 11, h = 3, i = 6,\n",
            "x = 25,000, y = 25,500, z = 26,000\n",
            "--------------------------------------------------\n",
            "The system of equations is:\n"
          ]
        },
        {
          "output_type": "display_data",
          "data": {
            "text/plain": [
              "<IPython.core.display.Math object>"
            ],
            "text/latex": "$\\displaystyle \\begin{cases}x + y + 3 z = \\text{128,500}\\\\3 x + 4 y + 10 z = \\text{437,000}\\\\11 x + 3 y + 6 z = \\text{507,500}\\end{cases}$"
          },
          "metadata": {}
        },
        {
          "output_type": "stream",
          "name": "stdout",
          "text": [
            "\n",
            "Possibility number-217\n",
            "System of equations with:\n",
            "a = 2, b = 2, c = 3,\n",
            "d = 1, e = 4, f = 7,\n",
            "g = 5, h = 1, i = 4,\n",
            "x = 25,000, y = 25,500, z = 26,000\n",
            "--------------------------------------------------\n",
            "The system of equations is:\n"
          ]
        },
        {
          "output_type": "display_data",
          "data": {
            "text/plain": [
              "<IPython.core.display.Math object>"
            ],
            "text/latex": "$\\displaystyle \\begin{cases}2 x + 2 y + 3 z = \\text{179,000}\\\\x + 4 y + 7 z = \\text{309,000}\\\\5 x + y + 4 z = \\text{254,500}\\end{cases}$"
          },
          "metadata": {}
        },
        {
          "output_type": "stream",
          "name": "stdout",
          "text": [
            "\n",
            "Possibility number-218\n",
            "System of equations with:\n",
            "a = 2, b = 2, c = 3,\n",
            "d = 1, e = 4, f = 7,\n",
            "g = 5, h = 1, i = 5,\n",
            "x = 25,000, y = 25,500, z = 26,000\n",
            "--------------------------------------------------\n",
            "The system of equations is:\n"
          ]
        },
        {
          "output_type": "display_data",
          "data": {
            "text/plain": [
              "<IPython.core.display.Math object>"
            ],
            "text/latex": "$\\displaystyle \\begin{cases}2 x + 2 y + 3 z = \\text{179,000}\\\\x + 4 y + 7 z = \\text{309,000}\\\\5 x + y + 5 z = \\text{280,500}\\end{cases}$"
          },
          "metadata": {}
        },
        {
          "output_type": "stream",
          "name": "stdout",
          "text": [
            "\n",
            "Possibility number-219\n",
            "System of equations with:\n",
            "a = 2, b = 2, c = 3,\n",
            "d = 1, e = 4, f = 7,\n",
            "g = 5, h = 1, i = 6,\n",
            "x = 25,000, y = 25,500, z = 26,000\n",
            "--------------------------------------------------\n",
            "The system of equations is:\n"
          ]
        },
        {
          "output_type": "display_data",
          "data": {
            "text/plain": [
              "<IPython.core.display.Math object>"
            ],
            "text/latex": "$\\displaystyle \\begin{cases}2 x + 2 y + 3 z = \\text{179,000}\\\\x + 4 y + 7 z = \\text{309,000}\\\\5 x + y + 6 z = \\text{306,500}\\end{cases}$"
          },
          "metadata": {}
        },
        {
          "output_type": "stream",
          "name": "stdout",
          "text": [
            "\n",
            "Possibility number-220\n",
            "System of equations with:\n",
            "a = 2, b = 2, c = 3,\n",
            "d = 1, e = 4, f = 7,\n",
            "g = 5, h = 3, i = 4,\n",
            "x = 25,000, y = 25,500, z = 26,000\n",
            "--------------------------------------------------\n",
            "The system of equations is:\n"
          ]
        },
        {
          "output_type": "display_data",
          "data": {
            "text/plain": [
              "<IPython.core.display.Math object>"
            ],
            "text/latex": "$\\displaystyle \\begin{cases}2 x + 2 y + 3 z = \\text{179,000}\\\\x + 4 y + 7 z = \\text{309,000}\\\\5 x + 3 y + 4 z = \\text{305,500}\\end{cases}$"
          },
          "metadata": {}
        },
        {
          "output_type": "stream",
          "name": "stdout",
          "text": [
            "\n",
            "Possibility number-221\n",
            "System of equations with:\n",
            "a = 2, b = 2, c = 3,\n",
            "d = 1, e = 4, f = 7,\n",
            "g = 5, h = 3, i = 5,\n",
            "x = 25,000, y = 25,500, z = 26,000\n",
            "--------------------------------------------------\n",
            "The system of equations is:\n"
          ]
        },
        {
          "output_type": "display_data",
          "data": {
            "text/plain": [
              "<IPython.core.display.Math object>"
            ],
            "text/latex": "$\\displaystyle \\begin{cases}2 x + 2 y + 3 z = \\text{179,000}\\\\x + 4 y + 7 z = \\text{309,000}\\\\5 x + 3 y + 5 z = \\text{331,500}\\end{cases}$"
          },
          "metadata": {}
        },
        {
          "output_type": "stream",
          "name": "stdout",
          "text": [
            "\n",
            "Possibility number-222\n",
            "System of equations with:\n",
            "a = 2, b = 2, c = 3,\n",
            "d = 1, e = 4, f = 7,\n",
            "g = 5, h = 3, i = 6,\n",
            "x = 25,000, y = 25,500, z = 26,000\n",
            "--------------------------------------------------\n",
            "The system of equations is:\n"
          ]
        },
        {
          "output_type": "display_data",
          "data": {
            "text/plain": [
              "<IPython.core.display.Math object>"
            ],
            "text/latex": "$\\displaystyle \\begin{cases}2 x + 2 y + 3 z = \\text{179,000}\\\\x + 4 y + 7 z = \\text{309,000}\\\\5 x + 3 y + 6 z = \\text{357,500}\\end{cases}$"
          },
          "metadata": {}
        },
        {
          "output_type": "stream",
          "name": "stdout",
          "text": [
            "\n",
            "Possibility number-223\n",
            "System of equations with:\n",
            "a = 2, b = 2, c = 3,\n",
            "d = 1, e = 4, f = 7,\n",
            "g = 9, h = 1, i = 4,\n",
            "x = 25,000, y = 25,500, z = 26,000\n",
            "--------------------------------------------------\n",
            "The system of equations is:\n"
          ]
        },
        {
          "output_type": "display_data",
          "data": {
            "text/plain": [
              "<IPython.core.display.Math object>"
            ],
            "text/latex": "$\\displaystyle \\begin{cases}2 x + 2 y + 3 z = \\text{179,000}\\\\x + 4 y + 7 z = \\text{309,000}\\\\9 x + y + 4 z = \\text{354,500}\\end{cases}$"
          },
          "metadata": {}
        },
        {
          "output_type": "stream",
          "name": "stdout",
          "text": [
            "\n",
            "Possibility number-224\n",
            "System of equations with:\n",
            "a = 2, b = 2, c = 3,\n",
            "d = 1, e = 4, f = 7,\n",
            "g = 9, h = 1, i = 5,\n",
            "x = 25,000, y = 25,500, z = 26,000\n",
            "--------------------------------------------------\n",
            "The system of equations is:\n"
          ]
        },
        {
          "output_type": "display_data",
          "data": {
            "text/plain": [
              "<IPython.core.display.Math object>"
            ],
            "text/latex": "$\\displaystyle \\begin{cases}2 x + 2 y + 3 z = \\text{179,000}\\\\x + 4 y + 7 z = \\text{309,000}\\\\9 x + y + 5 z = \\text{380,500}\\end{cases}$"
          },
          "metadata": {}
        },
        {
          "output_type": "stream",
          "name": "stdout",
          "text": [
            "\n",
            "Possibility number-225\n",
            "System of equations with:\n",
            "a = 2, b = 2, c = 3,\n",
            "d = 1, e = 4, f = 7,\n",
            "g = 9, h = 1, i = 6,\n",
            "x = 25,000, y = 25,500, z = 26,000\n",
            "--------------------------------------------------\n",
            "The system of equations is:\n"
          ]
        },
        {
          "output_type": "display_data",
          "data": {
            "text/plain": [
              "<IPython.core.display.Math object>"
            ],
            "text/latex": "$\\displaystyle \\begin{cases}2 x + 2 y + 3 z = \\text{179,000}\\\\x + 4 y + 7 z = \\text{309,000}\\\\9 x + y + 6 z = \\text{406,500}\\end{cases}$"
          },
          "metadata": {}
        },
        {
          "output_type": "stream",
          "name": "stdout",
          "text": [
            "\n",
            "Possibility number-226\n",
            "System of equations with:\n",
            "a = 2, b = 2, c = 3,\n",
            "d = 1, e = 4, f = 7,\n",
            "g = 9, h = 3, i = 4,\n",
            "x = 25,000, y = 25,500, z = 26,000\n",
            "--------------------------------------------------\n",
            "The system of equations is:\n"
          ]
        },
        {
          "output_type": "display_data",
          "data": {
            "text/plain": [
              "<IPython.core.display.Math object>"
            ],
            "text/latex": "$\\displaystyle \\begin{cases}2 x + 2 y + 3 z = \\text{179,000}\\\\x + 4 y + 7 z = \\text{309,000}\\\\9 x + 3 y + 4 z = \\text{405,500}\\end{cases}$"
          },
          "metadata": {}
        },
        {
          "output_type": "stream",
          "name": "stdout",
          "text": [
            "\n",
            "Possibility number-227\n",
            "System of equations with:\n",
            "a = 2, b = 2, c = 3,\n",
            "d = 1, e = 4, f = 7,\n",
            "g = 9, h = 3, i = 5,\n",
            "x = 25,000, y = 25,500, z = 26,000\n",
            "--------------------------------------------------\n",
            "The system of equations is:\n"
          ]
        },
        {
          "output_type": "display_data",
          "data": {
            "text/plain": [
              "<IPython.core.display.Math object>"
            ],
            "text/latex": "$\\displaystyle \\begin{cases}2 x + 2 y + 3 z = \\text{179,000}\\\\x + 4 y + 7 z = \\text{309,000}\\\\9 x + 3 y + 5 z = \\text{431,500}\\end{cases}$"
          },
          "metadata": {}
        },
        {
          "output_type": "stream",
          "name": "stdout",
          "text": [
            "\n",
            "Possibility number-228\n",
            "System of equations with:\n",
            "a = 2, b = 2, c = 3,\n",
            "d = 1, e = 4, f = 7,\n",
            "g = 9, h = 3, i = 6,\n",
            "x = 25,000, y = 25,500, z = 26,000\n",
            "--------------------------------------------------\n",
            "The system of equations is:\n"
          ]
        },
        {
          "output_type": "display_data",
          "data": {
            "text/plain": [
              "<IPython.core.display.Math object>"
            ],
            "text/latex": "$\\displaystyle \\begin{cases}2 x + 2 y + 3 z = \\text{179,000}\\\\x + 4 y + 7 z = \\text{309,000}\\\\9 x + 3 y + 6 z = \\text{457,500}\\end{cases}$"
          },
          "metadata": {}
        },
        {
          "output_type": "stream",
          "name": "stdout",
          "text": [
            "\n",
            "Possibility number-229\n",
            "System of equations with:\n",
            "a = 2, b = 2, c = 3,\n",
            "d = 1, e = 4, f = 7,\n",
            "g = 11, h = 1, i = 4,\n",
            "x = 25,000, y = 25,500, z = 26,000\n",
            "--------------------------------------------------\n",
            "The system of equations is:\n"
          ]
        },
        {
          "output_type": "display_data",
          "data": {
            "text/plain": [
              "<IPython.core.display.Math object>"
            ],
            "text/latex": "$\\displaystyle \\begin{cases}2 x + 2 y + 3 z = \\text{179,000}\\\\x + 4 y + 7 z = \\text{309,000}\\\\11 x + y + 4 z = \\text{404,500}\\end{cases}$"
          },
          "metadata": {}
        },
        {
          "output_type": "stream",
          "name": "stdout",
          "text": [
            "\n",
            "Possibility number-230\n",
            "System of equations with:\n",
            "a = 2, b = 2, c = 3,\n",
            "d = 1, e = 4, f = 7,\n",
            "g = 11, h = 1, i = 5,\n",
            "x = 25,000, y = 25,500, z = 26,000\n",
            "--------------------------------------------------\n",
            "The system of equations is:\n"
          ]
        },
        {
          "output_type": "display_data",
          "data": {
            "text/plain": [
              "<IPython.core.display.Math object>"
            ],
            "text/latex": "$\\displaystyle \\begin{cases}2 x + 2 y + 3 z = \\text{179,000}\\\\x + 4 y + 7 z = \\text{309,000}\\\\11 x + y + 5 z = \\text{430,500}\\end{cases}$"
          },
          "metadata": {}
        },
        {
          "output_type": "stream",
          "name": "stdout",
          "text": [
            "\n",
            "Possibility number-231\n",
            "System of equations with:\n",
            "a = 2, b = 2, c = 3,\n",
            "d = 1, e = 4, f = 7,\n",
            "g = 11, h = 1, i = 6,\n",
            "x = 25,000, y = 25,500, z = 26,000\n",
            "--------------------------------------------------\n",
            "The system of equations is:\n"
          ]
        },
        {
          "output_type": "display_data",
          "data": {
            "text/plain": [
              "<IPython.core.display.Math object>"
            ],
            "text/latex": "$\\displaystyle \\begin{cases}2 x + 2 y + 3 z = \\text{179,000}\\\\x + 4 y + 7 z = \\text{309,000}\\\\11 x + y + 6 z = \\text{456,500}\\end{cases}$"
          },
          "metadata": {}
        },
        {
          "output_type": "stream",
          "name": "stdout",
          "text": [
            "\n",
            "Possibility number-232\n",
            "System of equations with:\n",
            "a = 2, b = 2, c = 3,\n",
            "d = 1, e = 4, f = 7,\n",
            "g = 11, h = 3, i = 4,\n",
            "x = 25,000, y = 25,500, z = 26,000\n",
            "--------------------------------------------------\n",
            "The system of equations is:\n"
          ]
        },
        {
          "output_type": "display_data",
          "data": {
            "text/plain": [
              "<IPython.core.display.Math object>"
            ],
            "text/latex": "$\\displaystyle \\begin{cases}2 x + 2 y + 3 z = \\text{179,000}\\\\x + 4 y + 7 z = \\text{309,000}\\\\11 x + 3 y + 4 z = \\text{455,500}\\end{cases}$"
          },
          "metadata": {}
        },
        {
          "output_type": "stream",
          "name": "stdout",
          "text": [
            "\n",
            "Possibility number-233\n",
            "System of equations with:\n",
            "a = 2, b = 2, c = 3,\n",
            "d = 1, e = 4, f = 7,\n",
            "g = 11, h = 3, i = 5,\n",
            "x = 25,000, y = 25,500, z = 26,000\n",
            "--------------------------------------------------\n",
            "The system of equations is:\n"
          ]
        },
        {
          "output_type": "display_data",
          "data": {
            "text/plain": [
              "<IPython.core.display.Math object>"
            ],
            "text/latex": "$\\displaystyle \\begin{cases}2 x + 2 y + 3 z = \\text{179,000}\\\\x + 4 y + 7 z = \\text{309,000}\\\\11 x + 3 y + 5 z = \\text{481,500}\\end{cases}$"
          },
          "metadata": {}
        },
        {
          "output_type": "stream",
          "name": "stdout",
          "text": [
            "\n",
            "Possibility number-234\n",
            "System of equations with:\n",
            "a = 2, b = 2, c = 3,\n",
            "d = 1, e = 4, f = 7,\n",
            "g = 11, h = 3, i = 6,\n",
            "x = 25,000, y = 25,500, z = 26,000\n",
            "--------------------------------------------------\n",
            "The system of equations is:\n"
          ]
        },
        {
          "output_type": "display_data",
          "data": {
            "text/plain": [
              "<IPython.core.display.Math object>"
            ],
            "text/latex": "$\\displaystyle \\begin{cases}2 x + 2 y + 3 z = \\text{179,000}\\\\x + 4 y + 7 z = \\text{309,000}\\\\11 x + 3 y + 6 z = \\text{507,500}\\end{cases}$"
          },
          "metadata": {}
        },
        {
          "output_type": "stream",
          "name": "stdout",
          "text": [
            "\n",
            "Possibility number-235\n",
            "System of equations with:\n",
            "a = 2, b = 2, c = 3,\n",
            "d = 1, e = 4, f = 8,\n",
            "g = 5, h = 1, i = 4,\n",
            "x = 25,000, y = 25,500, z = 26,000\n",
            "--------------------------------------------------\n",
            "The system of equations is:\n"
          ]
        },
        {
          "output_type": "display_data",
          "data": {
            "text/plain": [
              "<IPython.core.display.Math object>"
            ],
            "text/latex": "$\\displaystyle \\begin{cases}2 x + 2 y + 3 z = \\text{179,000}\\\\x + 4 y + 8 z = \\text{335,000}\\\\5 x + y + 4 z = \\text{254,500}\\end{cases}$"
          },
          "metadata": {}
        },
        {
          "output_type": "stream",
          "name": "stdout",
          "text": [
            "\n",
            "Possibility number-236\n",
            "System of equations with:\n",
            "a = 2, b = 2, c = 3,\n",
            "d = 1, e = 4, f = 8,\n",
            "g = 5, h = 1, i = 5,\n",
            "x = 25,000, y = 25,500, z = 26,000\n",
            "--------------------------------------------------\n",
            "The system of equations is:\n"
          ]
        },
        {
          "output_type": "display_data",
          "data": {
            "text/plain": [
              "<IPython.core.display.Math object>"
            ],
            "text/latex": "$\\displaystyle \\begin{cases}2 x + 2 y + 3 z = \\text{179,000}\\\\x + 4 y + 8 z = \\text{335,000}\\\\5 x + y + 5 z = \\text{280,500}\\end{cases}$"
          },
          "metadata": {}
        },
        {
          "output_type": "stream",
          "name": "stdout",
          "text": [
            "\n",
            "Possibility number-237\n",
            "System of equations with:\n",
            "a = 2, b = 2, c = 3,\n",
            "d = 1, e = 4, f = 8,\n",
            "g = 5, h = 1, i = 6,\n",
            "x = 25,000, y = 25,500, z = 26,000\n",
            "--------------------------------------------------\n",
            "The system of equations is:\n"
          ]
        },
        {
          "output_type": "display_data",
          "data": {
            "text/plain": [
              "<IPython.core.display.Math object>"
            ],
            "text/latex": "$\\displaystyle \\begin{cases}2 x + 2 y + 3 z = \\text{179,000}\\\\x + 4 y + 8 z = \\text{335,000}\\\\5 x + y + 6 z = \\text{306,500}\\end{cases}$"
          },
          "metadata": {}
        },
        {
          "output_type": "stream",
          "name": "stdout",
          "text": [
            "\n",
            "Possibility number-238\n",
            "System of equations with:\n",
            "a = 2, b = 2, c = 3,\n",
            "d = 1, e = 4, f = 8,\n",
            "g = 5, h = 3, i = 4,\n",
            "x = 25,000, y = 25,500, z = 26,000\n",
            "--------------------------------------------------\n",
            "The system of equations is:\n"
          ]
        },
        {
          "output_type": "display_data",
          "data": {
            "text/plain": [
              "<IPython.core.display.Math object>"
            ],
            "text/latex": "$\\displaystyle \\begin{cases}2 x + 2 y + 3 z = \\text{179,000}\\\\x + 4 y + 8 z = \\text{335,000}\\\\5 x + 3 y + 4 z = \\text{305,500}\\end{cases}$"
          },
          "metadata": {}
        },
        {
          "output_type": "stream",
          "name": "stdout",
          "text": [
            "\n",
            "Possibility number-239\n",
            "System of equations with:\n",
            "a = 2, b = 2, c = 3,\n",
            "d = 1, e = 4, f = 8,\n",
            "g = 5, h = 3, i = 5,\n",
            "x = 25,000, y = 25,500, z = 26,000\n",
            "--------------------------------------------------\n",
            "The system of equations is:\n"
          ]
        },
        {
          "output_type": "display_data",
          "data": {
            "text/plain": [
              "<IPython.core.display.Math object>"
            ],
            "text/latex": "$\\displaystyle \\begin{cases}2 x + 2 y + 3 z = \\text{179,000}\\\\x + 4 y + 8 z = \\text{335,000}\\\\5 x + 3 y + 5 z = \\text{331,500}\\end{cases}$"
          },
          "metadata": {}
        },
        {
          "output_type": "stream",
          "name": "stdout",
          "text": [
            "\n",
            "Possibility number-240\n",
            "System of equations with:\n",
            "a = 2, b = 2, c = 3,\n",
            "d = 1, e = 4, f = 8,\n",
            "g = 5, h = 3, i = 6,\n",
            "x = 25,000, y = 25,500, z = 26,000\n",
            "--------------------------------------------------\n",
            "The system of equations is:\n"
          ]
        },
        {
          "output_type": "display_data",
          "data": {
            "text/plain": [
              "<IPython.core.display.Math object>"
            ],
            "text/latex": "$\\displaystyle \\begin{cases}2 x + 2 y + 3 z = \\text{179,000}\\\\x + 4 y + 8 z = \\text{335,000}\\\\5 x + 3 y + 6 z = \\text{357,500}\\end{cases}$"
          },
          "metadata": {}
        },
        {
          "output_type": "stream",
          "name": "stdout",
          "text": [
            "\n",
            "Possibility number-241\n",
            "System of equations with:\n",
            "a = 2, b = 2, c = 3,\n",
            "d = 1, e = 4, f = 8,\n",
            "g = 9, h = 1, i = 4,\n",
            "x = 25,000, y = 25,500, z = 26,000\n",
            "--------------------------------------------------\n",
            "The system of equations is:\n"
          ]
        },
        {
          "output_type": "display_data",
          "data": {
            "text/plain": [
              "<IPython.core.display.Math object>"
            ],
            "text/latex": "$\\displaystyle \\begin{cases}2 x + 2 y + 3 z = \\text{179,000}\\\\x + 4 y + 8 z = \\text{335,000}\\\\9 x + y + 4 z = \\text{354,500}\\end{cases}$"
          },
          "metadata": {}
        },
        {
          "output_type": "stream",
          "name": "stdout",
          "text": [
            "\n",
            "Possibility number-242\n",
            "System of equations with:\n",
            "a = 2, b = 2, c = 3,\n",
            "d = 1, e = 4, f = 8,\n",
            "g = 9, h = 1, i = 5,\n",
            "x = 25,000, y = 25,500, z = 26,000\n",
            "--------------------------------------------------\n",
            "The system of equations is:\n"
          ]
        },
        {
          "output_type": "display_data",
          "data": {
            "text/plain": [
              "<IPython.core.display.Math object>"
            ],
            "text/latex": "$\\displaystyle \\begin{cases}2 x + 2 y + 3 z = \\text{179,000}\\\\x + 4 y + 8 z = \\text{335,000}\\\\9 x + y + 5 z = \\text{380,500}\\end{cases}$"
          },
          "metadata": {}
        },
        {
          "output_type": "stream",
          "name": "stdout",
          "text": [
            "\n",
            "Possibility number-243\n",
            "System of equations with:\n",
            "a = 2, b = 2, c = 3,\n",
            "d = 1, e = 4, f = 8,\n",
            "g = 9, h = 1, i = 6,\n",
            "x = 25,000, y = 25,500, z = 26,000\n",
            "--------------------------------------------------\n",
            "The system of equations is:\n"
          ]
        },
        {
          "output_type": "display_data",
          "data": {
            "text/plain": [
              "<IPython.core.display.Math object>"
            ],
            "text/latex": "$\\displaystyle \\begin{cases}2 x + 2 y + 3 z = \\text{179,000}\\\\x + 4 y + 8 z = \\text{335,000}\\\\9 x + y + 6 z = \\text{406,500}\\end{cases}$"
          },
          "metadata": {}
        },
        {
          "output_type": "stream",
          "name": "stdout",
          "text": [
            "\n",
            "Possibility number-244\n",
            "System of equations with:\n",
            "a = 2, b = 2, c = 3,\n",
            "d = 1, e = 4, f = 8,\n",
            "g = 9, h = 3, i = 4,\n",
            "x = 25,000, y = 25,500, z = 26,000\n",
            "--------------------------------------------------\n",
            "The system of equations is:\n"
          ]
        },
        {
          "output_type": "display_data",
          "data": {
            "text/plain": [
              "<IPython.core.display.Math object>"
            ],
            "text/latex": "$\\displaystyle \\begin{cases}2 x + 2 y + 3 z = \\text{179,000}\\\\x + 4 y + 8 z = \\text{335,000}\\\\9 x + 3 y + 4 z = \\text{405,500}\\end{cases}$"
          },
          "metadata": {}
        },
        {
          "output_type": "stream",
          "name": "stdout",
          "text": [
            "\n",
            "Possibility number-245\n",
            "System of equations with:\n",
            "a = 2, b = 2, c = 3,\n",
            "d = 1, e = 4, f = 8,\n",
            "g = 9, h = 3, i = 5,\n",
            "x = 25,000, y = 25,500, z = 26,000\n",
            "--------------------------------------------------\n",
            "The system of equations is:\n"
          ]
        },
        {
          "output_type": "display_data",
          "data": {
            "text/plain": [
              "<IPython.core.display.Math object>"
            ],
            "text/latex": "$\\displaystyle \\begin{cases}2 x + 2 y + 3 z = \\text{179,000}\\\\x + 4 y + 8 z = \\text{335,000}\\\\9 x + 3 y + 5 z = \\text{431,500}\\end{cases}$"
          },
          "metadata": {}
        },
        {
          "output_type": "stream",
          "name": "stdout",
          "text": [
            "\n",
            "Possibility number-246\n",
            "System of equations with:\n",
            "a = 2, b = 2, c = 3,\n",
            "d = 1, e = 4, f = 8,\n",
            "g = 9, h = 3, i = 6,\n",
            "x = 25,000, y = 25,500, z = 26,000\n",
            "--------------------------------------------------\n",
            "The system of equations is:\n"
          ]
        },
        {
          "output_type": "display_data",
          "data": {
            "text/plain": [
              "<IPython.core.display.Math object>"
            ],
            "text/latex": "$\\displaystyle \\begin{cases}2 x + 2 y + 3 z = \\text{179,000}\\\\x + 4 y + 8 z = \\text{335,000}\\\\9 x + 3 y + 6 z = \\text{457,500}\\end{cases}$"
          },
          "metadata": {}
        },
        {
          "output_type": "stream",
          "name": "stdout",
          "text": [
            "\n",
            "Possibility number-247\n",
            "System of equations with:\n",
            "a = 2, b = 2, c = 3,\n",
            "d = 1, e = 4, f = 8,\n",
            "g = 11, h = 1, i = 4,\n",
            "x = 25,000, y = 25,500, z = 26,000\n",
            "--------------------------------------------------\n",
            "The system of equations is:\n"
          ]
        },
        {
          "output_type": "display_data",
          "data": {
            "text/plain": [
              "<IPython.core.display.Math object>"
            ],
            "text/latex": "$\\displaystyle \\begin{cases}2 x + 2 y + 3 z = \\text{179,000}\\\\x + 4 y + 8 z = \\text{335,000}\\\\11 x + y + 4 z = \\text{404,500}\\end{cases}$"
          },
          "metadata": {}
        },
        {
          "output_type": "stream",
          "name": "stdout",
          "text": [
            "\n",
            "Possibility number-248\n",
            "System of equations with:\n",
            "a = 2, b = 2, c = 3,\n",
            "d = 1, e = 4, f = 8,\n",
            "g = 11, h = 1, i = 5,\n",
            "x = 25,000, y = 25,500, z = 26,000\n",
            "--------------------------------------------------\n",
            "The system of equations is:\n"
          ]
        },
        {
          "output_type": "display_data",
          "data": {
            "text/plain": [
              "<IPython.core.display.Math object>"
            ],
            "text/latex": "$\\displaystyle \\begin{cases}2 x + 2 y + 3 z = \\text{179,000}\\\\x + 4 y + 8 z = \\text{335,000}\\\\11 x + y + 5 z = \\text{430,500}\\end{cases}$"
          },
          "metadata": {}
        },
        {
          "output_type": "stream",
          "name": "stdout",
          "text": [
            "\n",
            "Possibility number-249\n",
            "System of equations with:\n",
            "a = 2, b = 2, c = 3,\n",
            "d = 1, e = 4, f = 8,\n",
            "g = 11, h = 1, i = 6,\n",
            "x = 25,000, y = 25,500, z = 26,000\n",
            "--------------------------------------------------\n",
            "The system of equations is:\n"
          ]
        },
        {
          "output_type": "display_data",
          "data": {
            "text/plain": [
              "<IPython.core.display.Math object>"
            ],
            "text/latex": "$\\displaystyle \\begin{cases}2 x + 2 y + 3 z = \\text{179,000}\\\\x + 4 y + 8 z = \\text{335,000}\\\\11 x + y + 6 z = \\text{456,500}\\end{cases}$"
          },
          "metadata": {}
        },
        {
          "output_type": "stream",
          "name": "stdout",
          "text": [
            "\n",
            "Possibility number-250\n",
            "System of equations with:\n",
            "a = 2, b = 2, c = 3,\n",
            "d = 1, e = 4, f = 8,\n",
            "g = 11, h = 3, i = 4,\n",
            "x = 25,000, y = 25,500, z = 26,000\n",
            "--------------------------------------------------\n",
            "The system of equations is:\n"
          ]
        },
        {
          "output_type": "display_data",
          "data": {
            "text/plain": [
              "<IPython.core.display.Math object>"
            ],
            "text/latex": "$\\displaystyle \\begin{cases}2 x + 2 y + 3 z = \\text{179,000}\\\\x + 4 y + 8 z = \\text{335,000}\\\\11 x + 3 y + 4 z = \\text{455,500}\\end{cases}$"
          },
          "metadata": {}
        },
        {
          "output_type": "stream",
          "name": "stdout",
          "text": [
            "\n",
            "Possibility number-251\n",
            "System of equations with:\n",
            "a = 2, b = 2, c = 3,\n",
            "d = 1, e = 4, f = 8,\n",
            "g = 11, h = 3, i = 5,\n",
            "x = 25,000, y = 25,500, z = 26,000\n",
            "--------------------------------------------------\n",
            "The system of equations is:\n"
          ]
        },
        {
          "output_type": "display_data",
          "data": {
            "text/plain": [
              "<IPython.core.display.Math object>"
            ],
            "text/latex": "$\\displaystyle \\begin{cases}2 x + 2 y + 3 z = \\text{179,000}\\\\x + 4 y + 8 z = \\text{335,000}\\\\11 x + 3 y + 5 z = \\text{481,500}\\end{cases}$"
          },
          "metadata": {}
        },
        {
          "output_type": "stream",
          "name": "stdout",
          "text": [
            "\n",
            "Possibility number-252\n",
            "System of equations with:\n",
            "a = 2, b = 2, c = 3,\n",
            "d = 1, e = 4, f = 8,\n",
            "g = 11, h = 3, i = 6,\n",
            "x = 25,000, y = 25,500, z = 26,000\n",
            "--------------------------------------------------\n",
            "The system of equations is:\n"
          ]
        },
        {
          "output_type": "display_data",
          "data": {
            "text/plain": [
              "<IPython.core.display.Math object>"
            ],
            "text/latex": "$\\displaystyle \\begin{cases}2 x + 2 y + 3 z = \\text{179,000}\\\\x + 4 y + 8 z = \\text{335,000}\\\\11 x + 3 y + 6 z = \\text{507,500}\\end{cases}$"
          },
          "metadata": {}
        },
        {
          "output_type": "stream",
          "name": "stdout",
          "text": [
            "\n",
            "Possibility number-253\n",
            "System of equations with:\n",
            "a = 2, b = 2, c = 3,\n",
            "d = 1, e = 4, f = 10,\n",
            "g = 5, h = 1, i = 4,\n",
            "x = 25,000, y = 25,500, z = 26,000\n",
            "--------------------------------------------------\n",
            "The system of equations is:\n"
          ]
        },
        {
          "output_type": "display_data",
          "data": {
            "text/plain": [
              "<IPython.core.display.Math object>"
            ],
            "text/latex": "$\\displaystyle \\begin{cases}2 x + 2 y + 3 z = \\text{179,000}\\\\x + 4 y + 10 z = \\text{387,000}\\\\5 x + y + 4 z = \\text{254,500}\\end{cases}$"
          },
          "metadata": {}
        },
        {
          "output_type": "stream",
          "name": "stdout",
          "text": [
            "\n",
            "Possibility number-254\n",
            "System of equations with:\n",
            "a = 2, b = 2, c = 3,\n",
            "d = 1, e = 4, f = 10,\n",
            "g = 5, h = 1, i = 5,\n",
            "x = 25,000, y = 25,500, z = 26,000\n",
            "--------------------------------------------------\n",
            "The system of equations is:\n"
          ]
        },
        {
          "output_type": "display_data",
          "data": {
            "text/plain": [
              "<IPython.core.display.Math object>"
            ],
            "text/latex": "$\\displaystyle \\begin{cases}2 x + 2 y + 3 z = \\text{179,000}\\\\x + 4 y + 10 z = \\text{387,000}\\\\5 x + y + 5 z = \\text{280,500}\\end{cases}$"
          },
          "metadata": {}
        },
        {
          "output_type": "stream",
          "name": "stdout",
          "text": [
            "\n",
            "Possibility number-255\n",
            "System of equations with:\n",
            "a = 2, b = 2, c = 3,\n",
            "d = 1, e = 4, f = 10,\n",
            "g = 5, h = 1, i = 6,\n",
            "x = 25,000, y = 25,500, z = 26,000\n",
            "--------------------------------------------------\n",
            "The system of equations is:\n"
          ]
        },
        {
          "output_type": "display_data",
          "data": {
            "text/plain": [
              "<IPython.core.display.Math object>"
            ],
            "text/latex": "$\\displaystyle \\begin{cases}2 x + 2 y + 3 z = \\text{179,000}\\\\x + 4 y + 10 z = \\text{387,000}\\\\5 x + y + 6 z = \\text{306,500}\\end{cases}$"
          },
          "metadata": {}
        },
        {
          "output_type": "stream",
          "name": "stdout",
          "text": [
            "\n",
            "Possibility number-256\n",
            "System of equations with:\n",
            "a = 2, b = 2, c = 3,\n",
            "d = 1, e = 4, f = 10,\n",
            "g = 5, h = 3, i = 4,\n",
            "x = 25,000, y = 25,500, z = 26,000\n",
            "--------------------------------------------------\n",
            "The system of equations is:\n"
          ]
        },
        {
          "output_type": "display_data",
          "data": {
            "text/plain": [
              "<IPython.core.display.Math object>"
            ],
            "text/latex": "$\\displaystyle \\begin{cases}2 x + 2 y + 3 z = \\text{179,000}\\\\x + 4 y + 10 z = \\text{387,000}\\\\5 x + 3 y + 4 z = \\text{305,500}\\end{cases}$"
          },
          "metadata": {}
        },
        {
          "output_type": "stream",
          "name": "stdout",
          "text": [
            "\n",
            "Possibility number-257\n",
            "System of equations with:\n",
            "a = 2, b = 2, c = 3,\n",
            "d = 1, e = 4, f = 10,\n",
            "g = 5, h = 3, i = 5,\n",
            "x = 25,000, y = 25,500, z = 26,000\n",
            "--------------------------------------------------\n",
            "The system of equations is:\n"
          ]
        },
        {
          "output_type": "display_data",
          "data": {
            "text/plain": [
              "<IPython.core.display.Math object>"
            ],
            "text/latex": "$\\displaystyle \\begin{cases}2 x + 2 y + 3 z = \\text{179,000}\\\\x + 4 y + 10 z = \\text{387,000}\\\\5 x + 3 y + 5 z = \\text{331,500}\\end{cases}$"
          },
          "metadata": {}
        },
        {
          "output_type": "stream",
          "name": "stdout",
          "text": [
            "\n",
            "Possibility number-258\n",
            "System of equations with:\n",
            "a = 2, b = 2, c = 3,\n",
            "d = 1, e = 4, f = 10,\n",
            "g = 5, h = 3, i = 6,\n",
            "x = 25,000, y = 25,500, z = 26,000\n",
            "--------------------------------------------------\n",
            "The system of equations is:\n"
          ]
        },
        {
          "output_type": "display_data",
          "data": {
            "text/plain": [
              "<IPython.core.display.Math object>"
            ],
            "text/latex": "$\\displaystyle \\begin{cases}2 x + 2 y + 3 z = \\text{179,000}\\\\x + 4 y + 10 z = \\text{387,000}\\\\5 x + 3 y + 6 z = \\text{357,500}\\end{cases}$"
          },
          "metadata": {}
        },
        {
          "output_type": "stream",
          "name": "stdout",
          "text": [
            "\n",
            "Possibility number-259\n",
            "System of equations with:\n",
            "a = 2, b = 2, c = 3,\n",
            "d = 1, e = 4, f = 10,\n",
            "g = 9, h = 1, i = 4,\n",
            "x = 25,000, y = 25,500, z = 26,000\n",
            "--------------------------------------------------\n",
            "The system of equations is:\n"
          ]
        },
        {
          "output_type": "display_data",
          "data": {
            "text/plain": [
              "<IPython.core.display.Math object>"
            ],
            "text/latex": "$\\displaystyle \\begin{cases}2 x + 2 y + 3 z = \\text{179,000}\\\\x + 4 y + 10 z = \\text{387,000}\\\\9 x + y + 4 z = \\text{354,500}\\end{cases}$"
          },
          "metadata": {}
        },
        {
          "output_type": "stream",
          "name": "stdout",
          "text": [
            "\n",
            "Possibility number-260\n",
            "System of equations with:\n",
            "a = 2, b = 2, c = 3,\n",
            "d = 1, e = 4, f = 10,\n",
            "g = 9, h = 1, i = 5,\n",
            "x = 25,000, y = 25,500, z = 26,000\n",
            "--------------------------------------------------\n",
            "The system of equations is:\n"
          ]
        },
        {
          "output_type": "display_data",
          "data": {
            "text/plain": [
              "<IPython.core.display.Math object>"
            ],
            "text/latex": "$\\displaystyle \\begin{cases}2 x + 2 y + 3 z = \\text{179,000}\\\\x + 4 y + 10 z = \\text{387,000}\\\\9 x + y + 5 z = \\text{380,500}\\end{cases}$"
          },
          "metadata": {}
        },
        {
          "output_type": "stream",
          "name": "stdout",
          "text": [
            "\n",
            "Possibility number-261\n",
            "System of equations with:\n",
            "a = 2, b = 2, c = 3,\n",
            "d = 1, e = 4, f = 10,\n",
            "g = 9, h = 1, i = 6,\n",
            "x = 25,000, y = 25,500, z = 26,000\n",
            "--------------------------------------------------\n",
            "The system of equations is:\n"
          ]
        },
        {
          "output_type": "display_data",
          "data": {
            "text/plain": [
              "<IPython.core.display.Math object>"
            ],
            "text/latex": "$\\displaystyle \\begin{cases}2 x + 2 y + 3 z = \\text{179,000}\\\\x + 4 y + 10 z = \\text{387,000}\\\\9 x + y + 6 z = \\text{406,500}\\end{cases}$"
          },
          "metadata": {}
        },
        {
          "output_type": "stream",
          "name": "stdout",
          "text": [
            "\n",
            "Possibility number-262\n",
            "System of equations with:\n",
            "a = 2, b = 2, c = 3,\n",
            "d = 1, e = 4, f = 10,\n",
            "g = 9, h = 3, i = 4,\n",
            "x = 25,000, y = 25,500, z = 26,000\n",
            "--------------------------------------------------\n",
            "The system of equations is:\n"
          ]
        },
        {
          "output_type": "display_data",
          "data": {
            "text/plain": [
              "<IPython.core.display.Math object>"
            ],
            "text/latex": "$\\displaystyle \\begin{cases}2 x + 2 y + 3 z = \\text{179,000}\\\\x + 4 y + 10 z = \\text{387,000}\\\\9 x + 3 y + 4 z = \\text{405,500}\\end{cases}$"
          },
          "metadata": {}
        },
        {
          "output_type": "stream",
          "name": "stdout",
          "text": [
            "\n",
            "Possibility number-263\n",
            "System of equations with:\n",
            "a = 2, b = 2, c = 3,\n",
            "d = 1, e = 4, f = 10,\n",
            "g = 9, h = 3, i = 5,\n",
            "x = 25,000, y = 25,500, z = 26,000\n",
            "--------------------------------------------------\n",
            "The system of equations is:\n"
          ]
        },
        {
          "output_type": "display_data",
          "data": {
            "text/plain": [
              "<IPython.core.display.Math object>"
            ],
            "text/latex": "$\\displaystyle \\begin{cases}2 x + 2 y + 3 z = \\text{179,000}\\\\x + 4 y + 10 z = \\text{387,000}\\\\9 x + 3 y + 5 z = \\text{431,500}\\end{cases}$"
          },
          "metadata": {}
        },
        {
          "output_type": "stream",
          "name": "stdout",
          "text": [
            "\n",
            "Possibility number-264\n",
            "System of equations with:\n",
            "a = 2, b = 2, c = 3,\n",
            "d = 1, e = 4, f = 10,\n",
            "g = 9, h = 3, i = 6,\n",
            "x = 25,000, y = 25,500, z = 26,000\n",
            "--------------------------------------------------\n",
            "The system of equations is:\n"
          ]
        },
        {
          "output_type": "display_data",
          "data": {
            "text/plain": [
              "<IPython.core.display.Math object>"
            ],
            "text/latex": "$\\displaystyle \\begin{cases}2 x + 2 y + 3 z = \\text{179,000}\\\\x + 4 y + 10 z = \\text{387,000}\\\\9 x + 3 y + 6 z = \\text{457,500}\\end{cases}$"
          },
          "metadata": {}
        },
        {
          "output_type": "stream",
          "name": "stdout",
          "text": [
            "\n",
            "Possibility number-265\n",
            "System of equations with:\n",
            "a = 2, b = 2, c = 3,\n",
            "d = 1, e = 4, f = 10,\n",
            "g = 11, h = 1, i = 4,\n",
            "x = 25,000, y = 25,500, z = 26,000\n",
            "--------------------------------------------------\n",
            "The system of equations is:\n"
          ]
        },
        {
          "output_type": "display_data",
          "data": {
            "text/plain": [
              "<IPython.core.display.Math object>"
            ],
            "text/latex": "$\\displaystyle \\begin{cases}2 x + 2 y + 3 z = \\text{179,000}\\\\x + 4 y + 10 z = \\text{387,000}\\\\11 x + y + 4 z = \\text{404,500}\\end{cases}$"
          },
          "metadata": {}
        },
        {
          "output_type": "stream",
          "name": "stdout",
          "text": [
            "\n",
            "Possibility number-266\n",
            "System of equations with:\n",
            "a = 2, b = 2, c = 3,\n",
            "d = 1, e = 4, f = 10,\n",
            "g = 11, h = 1, i = 5,\n",
            "x = 25,000, y = 25,500, z = 26,000\n",
            "--------------------------------------------------\n",
            "The system of equations is:\n"
          ]
        },
        {
          "output_type": "display_data",
          "data": {
            "text/plain": [
              "<IPython.core.display.Math object>"
            ],
            "text/latex": "$\\displaystyle \\begin{cases}2 x + 2 y + 3 z = \\text{179,000}\\\\x + 4 y + 10 z = \\text{387,000}\\\\11 x + y + 5 z = \\text{430,500}\\end{cases}$"
          },
          "metadata": {}
        },
        {
          "output_type": "stream",
          "name": "stdout",
          "text": [
            "\n",
            "Possibility number-267\n",
            "System of equations with:\n",
            "a = 2, b = 2, c = 3,\n",
            "d = 1, e = 4, f = 10,\n",
            "g = 11, h = 1, i = 6,\n",
            "x = 25,000, y = 25,500, z = 26,000\n",
            "--------------------------------------------------\n",
            "The system of equations is:\n"
          ]
        },
        {
          "output_type": "display_data",
          "data": {
            "text/plain": [
              "<IPython.core.display.Math object>"
            ],
            "text/latex": "$\\displaystyle \\begin{cases}2 x + 2 y + 3 z = \\text{179,000}\\\\x + 4 y + 10 z = \\text{387,000}\\\\11 x + y + 6 z = \\text{456,500}\\end{cases}$"
          },
          "metadata": {}
        },
        {
          "output_type": "stream",
          "name": "stdout",
          "text": [
            "\n",
            "Possibility number-268\n",
            "System of equations with:\n",
            "a = 2, b = 2, c = 3,\n",
            "d = 1, e = 4, f = 10,\n",
            "g = 11, h = 3, i = 4,\n",
            "x = 25,000, y = 25,500, z = 26,000\n",
            "--------------------------------------------------\n",
            "The system of equations is:\n"
          ]
        },
        {
          "output_type": "display_data",
          "data": {
            "text/plain": [
              "<IPython.core.display.Math object>"
            ],
            "text/latex": "$\\displaystyle \\begin{cases}2 x + 2 y + 3 z = \\text{179,000}\\\\x + 4 y + 10 z = \\text{387,000}\\\\11 x + 3 y + 4 z = \\text{455,500}\\end{cases}$"
          },
          "metadata": {}
        },
        {
          "output_type": "stream",
          "name": "stdout",
          "text": [
            "\n",
            "Possibility number-269\n",
            "System of equations with:\n",
            "a = 2, b = 2, c = 3,\n",
            "d = 1, e = 4, f = 10,\n",
            "g = 11, h = 3, i = 5,\n",
            "x = 25,000, y = 25,500, z = 26,000\n",
            "--------------------------------------------------\n",
            "The system of equations is:\n"
          ]
        },
        {
          "output_type": "display_data",
          "data": {
            "text/plain": [
              "<IPython.core.display.Math object>"
            ],
            "text/latex": "$\\displaystyle \\begin{cases}2 x + 2 y + 3 z = \\text{179,000}\\\\x + 4 y + 10 z = \\text{387,000}\\\\11 x + 3 y + 5 z = \\text{481,500}\\end{cases}$"
          },
          "metadata": {}
        },
        {
          "output_type": "stream",
          "name": "stdout",
          "text": [
            "\n",
            "Possibility number-270\n",
            "System of equations with:\n",
            "a = 2, b = 2, c = 3,\n",
            "d = 1, e = 4, f = 10,\n",
            "g = 11, h = 3, i = 6,\n",
            "x = 25,000, y = 25,500, z = 26,000\n",
            "--------------------------------------------------\n",
            "The system of equations is:\n"
          ]
        },
        {
          "output_type": "display_data",
          "data": {
            "text/plain": [
              "<IPython.core.display.Math object>"
            ],
            "text/latex": "$\\displaystyle \\begin{cases}2 x + 2 y + 3 z = \\text{179,000}\\\\x + 4 y + 10 z = \\text{387,000}\\\\11 x + 3 y + 6 z = \\text{507,500}\\end{cases}$"
          },
          "metadata": {}
        },
        {
          "output_type": "stream",
          "name": "stdout",
          "text": [
            "\n",
            "Possibility number-271\n",
            "System of equations with:\n",
            "a = 2, b = 2, c = 3,\n",
            "d = 3, e = 4, f = 7,\n",
            "g = 5, h = 1, i = 4,\n",
            "x = 25,000, y = 25,500, z = 26,000\n",
            "--------------------------------------------------\n",
            "The system of equations is:\n"
          ]
        },
        {
          "output_type": "display_data",
          "data": {
            "text/plain": [
              "<IPython.core.display.Math object>"
            ],
            "text/latex": "$\\displaystyle \\begin{cases}2 x + 2 y + 3 z = \\text{179,000}\\\\3 x + 4 y + 7 z = \\text{359,000}\\\\5 x + y + 4 z = \\text{254,500}\\end{cases}$"
          },
          "metadata": {}
        },
        {
          "output_type": "stream",
          "name": "stdout",
          "text": [
            "\n",
            "Possibility number-272\n",
            "System of equations with:\n",
            "a = 2, b = 2, c = 3,\n",
            "d = 3, e = 4, f = 7,\n",
            "g = 5, h = 1, i = 5,\n",
            "x = 25,000, y = 25,500, z = 26,000\n",
            "--------------------------------------------------\n",
            "The system of equations is:\n"
          ]
        },
        {
          "output_type": "display_data",
          "data": {
            "text/plain": [
              "<IPython.core.display.Math object>"
            ],
            "text/latex": "$\\displaystyle \\begin{cases}2 x + 2 y + 3 z = \\text{179,000}\\\\3 x + 4 y + 7 z = \\text{359,000}\\\\5 x + y + 5 z = \\text{280,500}\\end{cases}$"
          },
          "metadata": {}
        },
        {
          "output_type": "stream",
          "name": "stdout",
          "text": [
            "\n",
            "Possibility number-273\n",
            "System of equations with:\n",
            "a = 2, b = 2, c = 3,\n",
            "d = 3, e = 4, f = 7,\n",
            "g = 5, h = 1, i = 6,\n",
            "x = 25,000, y = 25,500, z = 26,000\n",
            "--------------------------------------------------\n",
            "The system of equations is:\n"
          ]
        },
        {
          "output_type": "display_data",
          "data": {
            "text/plain": [
              "<IPython.core.display.Math object>"
            ],
            "text/latex": "$\\displaystyle \\begin{cases}2 x + 2 y + 3 z = \\text{179,000}\\\\3 x + 4 y + 7 z = \\text{359,000}\\\\5 x + y + 6 z = \\text{306,500}\\end{cases}$"
          },
          "metadata": {}
        },
        {
          "output_type": "stream",
          "name": "stdout",
          "text": [
            "\n",
            "Possibility number-274\n",
            "System of equations with:\n",
            "a = 2, b = 2, c = 3,\n",
            "d = 3, e = 4, f = 7,\n",
            "g = 5, h = 3, i = 4,\n",
            "x = 25,000, y = 25,500, z = 26,000\n",
            "--------------------------------------------------\n",
            "The system of equations is:\n"
          ]
        },
        {
          "output_type": "display_data",
          "data": {
            "text/plain": [
              "<IPython.core.display.Math object>"
            ],
            "text/latex": "$\\displaystyle \\begin{cases}2 x + 2 y + 3 z = \\text{179,000}\\\\3 x + 4 y + 7 z = \\text{359,000}\\\\5 x + 3 y + 4 z = \\text{305,500}\\end{cases}$"
          },
          "metadata": {}
        },
        {
          "output_type": "stream",
          "name": "stdout",
          "text": [
            "\n",
            "Possibility number-275\n",
            "System of equations with:\n",
            "a = 2, b = 2, c = 3,\n",
            "d = 3, e = 4, f = 7,\n",
            "g = 5, h = 3, i = 5,\n",
            "x = 25,000, y = 25,500, z = 26,000\n",
            "--------------------------------------------------\n",
            "The system of equations is:\n"
          ]
        },
        {
          "output_type": "display_data",
          "data": {
            "text/plain": [
              "<IPython.core.display.Math object>"
            ],
            "text/latex": "$\\displaystyle \\begin{cases}2 x + 2 y + 3 z = \\text{179,000}\\\\3 x + 4 y + 7 z = \\text{359,000}\\\\5 x + 3 y + 5 z = \\text{331,500}\\end{cases}$"
          },
          "metadata": {}
        },
        {
          "output_type": "stream",
          "name": "stdout",
          "text": [
            "\n",
            "Possibility number-276\n",
            "System of equations with:\n",
            "a = 2, b = 2, c = 3,\n",
            "d = 3, e = 4, f = 7,\n",
            "g = 5, h = 3, i = 6,\n",
            "x = 25,000, y = 25,500, z = 26,000\n",
            "--------------------------------------------------\n",
            "The system of equations is:\n"
          ]
        },
        {
          "output_type": "display_data",
          "data": {
            "text/plain": [
              "<IPython.core.display.Math object>"
            ],
            "text/latex": "$\\displaystyle \\begin{cases}2 x + 2 y + 3 z = \\text{179,000}\\\\3 x + 4 y + 7 z = \\text{359,000}\\\\5 x + 3 y + 6 z = \\text{357,500}\\end{cases}$"
          },
          "metadata": {}
        },
        {
          "output_type": "stream",
          "name": "stdout",
          "text": [
            "\n",
            "Possibility number-277\n",
            "System of equations with:\n",
            "a = 2, b = 2, c = 3,\n",
            "d = 3, e = 4, f = 7,\n",
            "g = 9, h = 1, i = 4,\n",
            "x = 25,000, y = 25,500, z = 26,000\n",
            "--------------------------------------------------\n",
            "The system of equations is:\n"
          ]
        },
        {
          "output_type": "display_data",
          "data": {
            "text/plain": [
              "<IPython.core.display.Math object>"
            ],
            "text/latex": "$\\displaystyle \\begin{cases}2 x + 2 y + 3 z = \\text{179,000}\\\\3 x + 4 y + 7 z = \\text{359,000}\\\\9 x + y + 4 z = \\text{354,500}\\end{cases}$"
          },
          "metadata": {}
        },
        {
          "output_type": "stream",
          "name": "stdout",
          "text": [
            "\n",
            "Possibility number-278\n",
            "System of equations with:\n",
            "a = 2, b = 2, c = 3,\n",
            "d = 3, e = 4, f = 7,\n",
            "g = 9, h = 1, i = 5,\n",
            "x = 25,000, y = 25,500, z = 26,000\n",
            "--------------------------------------------------\n",
            "The system of equations is:\n"
          ]
        },
        {
          "output_type": "display_data",
          "data": {
            "text/plain": [
              "<IPython.core.display.Math object>"
            ],
            "text/latex": "$\\displaystyle \\begin{cases}2 x + 2 y + 3 z = \\text{179,000}\\\\3 x + 4 y + 7 z = \\text{359,000}\\\\9 x + y + 5 z = \\text{380,500}\\end{cases}$"
          },
          "metadata": {}
        },
        {
          "output_type": "stream",
          "name": "stdout",
          "text": [
            "\n",
            "Possibility number-279\n",
            "System of equations with:\n",
            "a = 2, b = 2, c = 3,\n",
            "d = 3, e = 4, f = 7,\n",
            "g = 9, h = 1, i = 6,\n",
            "x = 25,000, y = 25,500, z = 26,000\n",
            "--------------------------------------------------\n",
            "The system of equations is:\n"
          ]
        },
        {
          "output_type": "display_data",
          "data": {
            "text/plain": [
              "<IPython.core.display.Math object>"
            ],
            "text/latex": "$\\displaystyle \\begin{cases}2 x + 2 y + 3 z = \\text{179,000}\\\\3 x + 4 y + 7 z = \\text{359,000}\\\\9 x + y + 6 z = \\text{406,500}\\end{cases}$"
          },
          "metadata": {}
        },
        {
          "output_type": "stream",
          "name": "stdout",
          "text": [
            "\n",
            "Possibility number-280\n",
            "System of equations with:\n",
            "a = 2, b = 2, c = 3,\n",
            "d = 3, e = 4, f = 7,\n",
            "g = 9, h = 3, i = 4,\n",
            "x = 25,000, y = 25,500, z = 26,000\n",
            "--------------------------------------------------\n",
            "The system of equations is:\n"
          ]
        },
        {
          "output_type": "display_data",
          "data": {
            "text/plain": [
              "<IPython.core.display.Math object>"
            ],
            "text/latex": "$\\displaystyle \\begin{cases}2 x + 2 y + 3 z = \\text{179,000}\\\\3 x + 4 y + 7 z = \\text{359,000}\\\\9 x + 3 y + 4 z = \\text{405,500}\\end{cases}$"
          },
          "metadata": {}
        },
        {
          "output_type": "stream",
          "name": "stdout",
          "text": [
            "\n",
            "Possibility number-281\n",
            "System of equations with:\n",
            "a = 2, b = 2, c = 3,\n",
            "d = 3, e = 4, f = 7,\n",
            "g = 9, h = 3, i = 5,\n",
            "x = 25,000, y = 25,500, z = 26,000\n",
            "--------------------------------------------------\n",
            "The system of equations is:\n"
          ]
        },
        {
          "output_type": "display_data",
          "data": {
            "text/plain": [
              "<IPython.core.display.Math object>"
            ],
            "text/latex": "$\\displaystyle \\begin{cases}2 x + 2 y + 3 z = \\text{179,000}\\\\3 x + 4 y + 7 z = \\text{359,000}\\\\9 x + 3 y + 5 z = \\text{431,500}\\end{cases}$"
          },
          "metadata": {}
        },
        {
          "output_type": "stream",
          "name": "stdout",
          "text": [
            "\n",
            "Possibility number-282\n",
            "System of equations with:\n",
            "a = 2, b = 2, c = 3,\n",
            "d = 3, e = 4, f = 7,\n",
            "g = 9, h = 3, i = 6,\n",
            "x = 25,000, y = 25,500, z = 26,000\n",
            "--------------------------------------------------\n",
            "The system of equations is:\n"
          ]
        },
        {
          "output_type": "display_data",
          "data": {
            "text/plain": [
              "<IPython.core.display.Math object>"
            ],
            "text/latex": "$\\displaystyle \\begin{cases}2 x + 2 y + 3 z = \\text{179,000}\\\\3 x + 4 y + 7 z = \\text{359,000}\\\\9 x + 3 y + 6 z = \\text{457,500}\\end{cases}$"
          },
          "metadata": {}
        },
        {
          "output_type": "stream",
          "name": "stdout",
          "text": [
            "\n",
            "Possibility number-283\n",
            "System of equations with:\n",
            "a = 2, b = 2, c = 3,\n",
            "d = 3, e = 4, f = 7,\n",
            "g = 11, h = 1, i = 4,\n",
            "x = 25,000, y = 25,500, z = 26,000\n",
            "--------------------------------------------------\n",
            "The system of equations is:\n"
          ]
        },
        {
          "output_type": "display_data",
          "data": {
            "text/plain": [
              "<IPython.core.display.Math object>"
            ],
            "text/latex": "$\\displaystyle \\begin{cases}2 x + 2 y + 3 z = \\text{179,000}\\\\3 x + 4 y + 7 z = \\text{359,000}\\\\11 x + y + 4 z = \\text{404,500}\\end{cases}$"
          },
          "metadata": {}
        },
        {
          "output_type": "stream",
          "name": "stdout",
          "text": [
            "\n",
            "Possibility number-284\n",
            "System of equations with:\n",
            "a = 2, b = 2, c = 3,\n",
            "d = 3, e = 4, f = 7,\n",
            "g = 11, h = 1, i = 5,\n",
            "x = 25,000, y = 25,500, z = 26,000\n",
            "--------------------------------------------------\n",
            "The system of equations is:\n"
          ]
        },
        {
          "output_type": "display_data",
          "data": {
            "text/plain": [
              "<IPython.core.display.Math object>"
            ],
            "text/latex": "$\\displaystyle \\begin{cases}2 x + 2 y + 3 z = \\text{179,000}\\\\3 x + 4 y + 7 z = \\text{359,000}\\\\11 x + y + 5 z = \\text{430,500}\\end{cases}$"
          },
          "metadata": {}
        },
        {
          "output_type": "stream",
          "name": "stdout",
          "text": [
            "\n",
            "Possibility number-285\n",
            "System of equations with:\n",
            "a = 2, b = 2, c = 3,\n",
            "d = 3, e = 4, f = 7,\n",
            "g = 11, h = 1, i = 6,\n",
            "x = 25,000, y = 25,500, z = 26,000\n",
            "--------------------------------------------------\n",
            "The system of equations is:\n"
          ]
        },
        {
          "output_type": "display_data",
          "data": {
            "text/plain": [
              "<IPython.core.display.Math object>"
            ],
            "text/latex": "$\\displaystyle \\begin{cases}2 x + 2 y + 3 z = \\text{179,000}\\\\3 x + 4 y + 7 z = \\text{359,000}\\\\11 x + y + 6 z = \\text{456,500}\\end{cases}$"
          },
          "metadata": {}
        },
        {
          "output_type": "stream",
          "name": "stdout",
          "text": [
            "\n",
            "Possibility number-286\n",
            "System of equations with:\n",
            "a = 2, b = 2, c = 3,\n",
            "d = 3, e = 4, f = 7,\n",
            "g = 11, h = 3, i = 4,\n",
            "x = 25,000, y = 25,500, z = 26,000\n",
            "--------------------------------------------------\n",
            "The system of equations is:\n"
          ]
        },
        {
          "output_type": "display_data",
          "data": {
            "text/plain": [
              "<IPython.core.display.Math object>"
            ],
            "text/latex": "$\\displaystyle \\begin{cases}2 x + 2 y + 3 z = \\text{179,000}\\\\3 x + 4 y + 7 z = \\text{359,000}\\\\11 x + 3 y + 4 z = \\text{455,500}\\end{cases}$"
          },
          "metadata": {}
        },
        {
          "output_type": "stream",
          "name": "stdout",
          "text": [
            "\n",
            "Possibility number-287\n",
            "System of equations with:\n",
            "a = 2, b = 2, c = 3,\n",
            "d = 3, e = 4, f = 7,\n",
            "g = 11, h = 3, i = 5,\n",
            "x = 25,000, y = 25,500, z = 26,000\n",
            "--------------------------------------------------\n",
            "The system of equations is:\n"
          ]
        },
        {
          "output_type": "display_data",
          "data": {
            "text/plain": [
              "<IPython.core.display.Math object>"
            ],
            "text/latex": "$\\displaystyle \\begin{cases}2 x + 2 y + 3 z = \\text{179,000}\\\\3 x + 4 y + 7 z = \\text{359,000}\\\\11 x + 3 y + 5 z = \\text{481,500}\\end{cases}$"
          },
          "metadata": {}
        },
        {
          "output_type": "stream",
          "name": "stdout",
          "text": [
            "\n",
            "Possibility number-288\n",
            "System of equations with:\n",
            "a = 2, b = 2, c = 3,\n",
            "d = 3, e = 4, f = 7,\n",
            "g = 11, h = 3, i = 6,\n",
            "x = 25,000, y = 25,500, z = 26,000\n",
            "--------------------------------------------------\n",
            "The system of equations is:\n"
          ]
        },
        {
          "output_type": "display_data",
          "data": {
            "text/plain": [
              "<IPython.core.display.Math object>"
            ],
            "text/latex": "$\\displaystyle \\begin{cases}2 x + 2 y + 3 z = \\text{179,000}\\\\3 x + 4 y + 7 z = \\text{359,000}\\\\11 x + 3 y + 6 z = \\text{507,500}\\end{cases}$"
          },
          "metadata": {}
        },
        {
          "output_type": "stream",
          "name": "stdout",
          "text": [
            "\n",
            "Possibility number-289\n",
            "System of equations with:\n",
            "a = 2, b = 2, c = 3,\n",
            "d = 3, e = 4, f = 8,\n",
            "g = 5, h = 1, i = 4,\n",
            "x = 25,000, y = 25,500, z = 26,000\n",
            "--------------------------------------------------\n",
            "The system of equations is:\n"
          ]
        },
        {
          "output_type": "display_data",
          "data": {
            "text/plain": [
              "<IPython.core.display.Math object>"
            ],
            "text/latex": "$\\displaystyle \\begin{cases}2 x + 2 y + 3 z = \\text{179,000}\\\\3 x + 4 y + 8 z = \\text{385,000}\\\\5 x + y + 4 z = \\text{254,500}\\end{cases}$"
          },
          "metadata": {}
        },
        {
          "output_type": "stream",
          "name": "stdout",
          "text": [
            "\n",
            "Possibility number-290\n",
            "System of equations with:\n",
            "a = 2, b = 2, c = 3,\n",
            "d = 3, e = 4, f = 8,\n",
            "g = 5, h = 1, i = 5,\n",
            "x = 25,000, y = 25,500, z = 26,000\n",
            "--------------------------------------------------\n",
            "The system of equations is:\n"
          ]
        },
        {
          "output_type": "display_data",
          "data": {
            "text/plain": [
              "<IPython.core.display.Math object>"
            ],
            "text/latex": "$\\displaystyle \\begin{cases}2 x + 2 y + 3 z = \\text{179,000}\\\\3 x + 4 y + 8 z = \\text{385,000}\\\\5 x + y + 5 z = \\text{280,500}\\end{cases}$"
          },
          "metadata": {}
        },
        {
          "output_type": "stream",
          "name": "stdout",
          "text": [
            "\n",
            "Possibility number-291\n",
            "System of equations with:\n",
            "a = 2, b = 2, c = 3,\n",
            "d = 3, e = 4, f = 8,\n",
            "g = 5, h = 1, i = 6,\n",
            "x = 25,000, y = 25,500, z = 26,000\n",
            "--------------------------------------------------\n",
            "The system of equations is:\n"
          ]
        },
        {
          "output_type": "display_data",
          "data": {
            "text/plain": [
              "<IPython.core.display.Math object>"
            ],
            "text/latex": "$\\displaystyle \\begin{cases}2 x + 2 y + 3 z = \\text{179,000}\\\\3 x + 4 y + 8 z = \\text{385,000}\\\\5 x + y + 6 z = \\text{306,500}\\end{cases}$"
          },
          "metadata": {}
        },
        {
          "output_type": "stream",
          "name": "stdout",
          "text": [
            "\n",
            "Possibility number-292\n",
            "System of equations with:\n",
            "a = 2, b = 2, c = 3,\n",
            "d = 3, e = 4, f = 8,\n",
            "g = 5, h = 3, i = 4,\n",
            "x = 25,000, y = 25,500, z = 26,000\n",
            "--------------------------------------------------\n",
            "The system of equations is:\n"
          ]
        },
        {
          "output_type": "display_data",
          "data": {
            "text/plain": [
              "<IPython.core.display.Math object>"
            ],
            "text/latex": "$\\displaystyle \\begin{cases}2 x + 2 y + 3 z = \\text{179,000}\\\\3 x + 4 y + 8 z = \\text{385,000}\\\\5 x + 3 y + 4 z = \\text{305,500}\\end{cases}$"
          },
          "metadata": {}
        },
        {
          "output_type": "stream",
          "name": "stdout",
          "text": [
            "\n",
            "Possibility number-293\n",
            "System of equations with:\n",
            "a = 2, b = 2, c = 3,\n",
            "d = 3, e = 4, f = 8,\n",
            "g = 5, h = 3, i = 5,\n",
            "x = 25,000, y = 25,500, z = 26,000\n",
            "--------------------------------------------------\n",
            "The system of equations is:\n"
          ]
        },
        {
          "output_type": "display_data",
          "data": {
            "text/plain": [
              "<IPython.core.display.Math object>"
            ],
            "text/latex": "$\\displaystyle \\begin{cases}2 x + 2 y + 3 z = \\text{179,000}\\\\3 x + 4 y + 8 z = \\text{385,000}\\\\5 x + 3 y + 5 z = \\text{331,500}\\end{cases}$"
          },
          "metadata": {}
        },
        {
          "output_type": "stream",
          "name": "stdout",
          "text": [
            "\n",
            "Possibility number-294\n",
            "System of equations with:\n",
            "a = 2, b = 2, c = 3,\n",
            "d = 3, e = 4, f = 8,\n",
            "g = 5, h = 3, i = 6,\n",
            "x = 25,000, y = 25,500, z = 26,000\n",
            "--------------------------------------------------\n",
            "The system of equations is:\n"
          ]
        },
        {
          "output_type": "display_data",
          "data": {
            "text/plain": [
              "<IPython.core.display.Math object>"
            ],
            "text/latex": "$\\displaystyle \\begin{cases}2 x + 2 y + 3 z = \\text{179,000}\\\\3 x + 4 y + 8 z = \\text{385,000}\\\\5 x + 3 y + 6 z = \\text{357,500}\\end{cases}$"
          },
          "metadata": {}
        },
        {
          "output_type": "stream",
          "name": "stdout",
          "text": [
            "\n",
            "Possibility number-295\n",
            "System of equations with:\n",
            "a = 2, b = 2, c = 3,\n",
            "d = 3, e = 4, f = 8,\n",
            "g = 9, h = 1, i = 4,\n",
            "x = 25,000, y = 25,500, z = 26,000\n",
            "--------------------------------------------------\n",
            "The system of equations is:\n"
          ]
        },
        {
          "output_type": "display_data",
          "data": {
            "text/plain": [
              "<IPython.core.display.Math object>"
            ],
            "text/latex": "$\\displaystyle \\begin{cases}2 x + 2 y + 3 z = \\text{179,000}\\\\3 x + 4 y + 8 z = \\text{385,000}\\\\9 x + y + 4 z = \\text{354,500}\\end{cases}$"
          },
          "metadata": {}
        },
        {
          "output_type": "stream",
          "name": "stdout",
          "text": [
            "\n",
            "Possibility number-296\n",
            "System of equations with:\n",
            "a = 2, b = 2, c = 3,\n",
            "d = 3, e = 4, f = 8,\n",
            "g = 9, h = 1, i = 5,\n",
            "x = 25,000, y = 25,500, z = 26,000\n",
            "--------------------------------------------------\n",
            "The system of equations is:\n"
          ]
        },
        {
          "output_type": "display_data",
          "data": {
            "text/plain": [
              "<IPython.core.display.Math object>"
            ],
            "text/latex": "$\\displaystyle \\begin{cases}2 x + 2 y + 3 z = \\text{179,000}\\\\3 x + 4 y + 8 z = \\text{385,000}\\\\9 x + y + 5 z = \\text{380,500}\\end{cases}$"
          },
          "metadata": {}
        },
        {
          "output_type": "stream",
          "name": "stdout",
          "text": [
            "\n",
            "Possibility number-297\n",
            "System of equations with:\n",
            "a = 2, b = 2, c = 3,\n",
            "d = 3, e = 4, f = 8,\n",
            "g = 9, h = 1, i = 6,\n",
            "x = 25,000, y = 25,500, z = 26,000\n",
            "--------------------------------------------------\n",
            "The system of equations is:\n"
          ]
        },
        {
          "output_type": "display_data",
          "data": {
            "text/plain": [
              "<IPython.core.display.Math object>"
            ],
            "text/latex": "$\\displaystyle \\begin{cases}2 x + 2 y + 3 z = \\text{179,000}\\\\3 x + 4 y + 8 z = \\text{385,000}\\\\9 x + y + 6 z = \\text{406,500}\\end{cases}$"
          },
          "metadata": {}
        },
        {
          "output_type": "stream",
          "name": "stdout",
          "text": [
            "\n",
            "Possibility number-298\n",
            "System of equations with:\n",
            "a = 2, b = 2, c = 3,\n",
            "d = 3, e = 4, f = 8,\n",
            "g = 9, h = 3, i = 4,\n",
            "x = 25,000, y = 25,500, z = 26,000\n",
            "--------------------------------------------------\n",
            "The system of equations is:\n"
          ]
        },
        {
          "output_type": "display_data",
          "data": {
            "text/plain": [
              "<IPython.core.display.Math object>"
            ],
            "text/latex": "$\\displaystyle \\begin{cases}2 x + 2 y + 3 z = \\text{179,000}\\\\3 x + 4 y + 8 z = \\text{385,000}\\\\9 x + 3 y + 4 z = \\text{405,500}\\end{cases}$"
          },
          "metadata": {}
        },
        {
          "output_type": "stream",
          "name": "stdout",
          "text": [
            "\n",
            "Possibility number-299\n",
            "System of equations with:\n",
            "a = 2, b = 2, c = 3,\n",
            "d = 3, e = 4, f = 8,\n",
            "g = 9, h = 3, i = 5,\n",
            "x = 25,000, y = 25,500, z = 26,000\n",
            "--------------------------------------------------\n",
            "The system of equations is:\n"
          ]
        },
        {
          "output_type": "display_data",
          "data": {
            "text/plain": [
              "<IPython.core.display.Math object>"
            ],
            "text/latex": "$\\displaystyle \\begin{cases}2 x + 2 y + 3 z = \\text{179,000}\\\\3 x + 4 y + 8 z = \\text{385,000}\\\\9 x + 3 y + 5 z = \\text{431,500}\\end{cases}$"
          },
          "metadata": {}
        },
        {
          "output_type": "stream",
          "name": "stdout",
          "text": [
            "\n",
            "Possibility number-300\n",
            "System of equations with:\n",
            "a = 2, b = 2, c = 3,\n",
            "d = 3, e = 4, f = 8,\n",
            "g = 9, h = 3, i = 6,\n",
            "x = 25,000, y = 25,500, z = 26,000\n",
            "--------------------------------------------------\n",
            "The system of equations is:\n"
          ]
        },
        {
          "output_type": "display_data",
          "data": {
            "text/plain": [
              "<IPython.core.display.Math object>"
            ],
            "text/latex": "$\\displaystyle \\begin{cases}2 x + 2 y + 3 z = \\text{179,000}\\\\3 x + 4 y + 8 z = \\text{385,000}\\\\9 x + 3 y + 6 z = \\text{457,500}\\end{cases}$"
          },
          "metadata": {}
        },
        {
          "output_type": "stream",
          "name": "stdout",
          "text": [
            "\n",
            "Possibility number-301\n",
            "System of equations with:\n",
            "a = 2, b = 2, c = 3,\n",
            "d = 3, e = 4, f = 8,\n",
            "g = 11, h = 1, i = 4,\n",
            "x = 25,000, y = 25,500, z = 26,000\n",
            "--------------------------------------------------\n",
            "The system of equations is:\n"
          ]
        },
        {
          "output_type": "display_data",
          "data": {
            "text/plain": [
              "<IPython.core.display.Math object>"
            ],
            "text/latex": "$\\displaystyle \\begin{cases}2 x + 2 y + 3 z = \\text{179,000}\\\\3 x + 4 y + 8 z = \\text{385,000}\\\\11 x + y + 4 z = \\text{404,500}\\end{cases}$"
          },
          "metadata": {}
        },
        {
          "output_type": "stream",
          "name": "stdout",
          "text": [
            "\n",
            "Possibility number-302\n",
            "System of equations with:\n",
            "a = 2, b = 2, c = 3,\n",
            "d = 3, e = 4, f = 8,\n",
            "g = 11, h = 1, i = 5,\n",
            "x = 25,000, y = 25,500, z = 26,000\n",
            "--------------------------------------------------\n",
            "The system of equations is:\n"
          ]
        },
        {
          "output_type": "display_data",
          "data": {
            "text/plain": [
              "<IPython.core.display.Math object>"
            ],
            "text/latex": "$\\displaystyle \\begin{cases}2 x + 2 y + 3 z = \\text{179,000}\\\\3 x + 4 y + 8 z = \\text{385,000}\\\\11 x + y + 5 z = \\text{430,500}\\end{cases}$"
          },
          "metadata": {}
        },
        {
          "output_type": "stream",
          "name": "stdout",
          "text": [
            "\n",
            "Possibility number-303\n",
            "System of equations with:\n",
            "a = 2, b = 2, c = 3,\n",
            "d = 3, e = 4, f = 8,\n",
            "g = 11, h = 1, i = 6,\n",
            "x = 25,000, y = 25,500, z = 26,000\n",
            "--------------------------------------------------\n",
            "The system of equations is:\n"
          ]
        },
        {
          "output_type": "display_data",
          "data": {
            "text/plain": [
              "<IPython.core.display.Math object>"
            ],
            "text/latex": "$\\displaystyle \\begin{cases}2 x + 2 y + 3 z = \\text{179,000}\\\\3 x + 4 y + 8 z = \\text{385,000}\\\\11 x + y + 6 z = \\text{456,500}\\end{cases}$"
          },
          "metadata": {}
        },
        {
          "output_type": "stream",
          "name": "stdout",
          "text": [
            "\n",
            "Possibility number-304\n",
            "System of equations with:\n",
            "a = 2, b = 2, c = 3,\n",
            "d = 3, e = 4, f = 8,\n",
            "g = 11, h = 3, i = 4,\n",
            "x = 25,000, y = 25,500, z = 26,000\n",
            "--------------------------------------------------\n",
            "The system of equations is:\n"
          ]
        },
        {
          "output_type": "display_data",
          "data": {
            "text/plain": [
              "<IPython.core.display.Math object>"
            ],
            "text/latex": "$\\displaystyle \\begin{cases}2 x + 2 y + 3 z = \\text{179,000}\\\\3 x + 4 y + 8 z = \\text{385,000}\\\\11 x + 3 y + 4 z = \\text{455,500}\\end{cases}$"
          },
          "metadata": {}
        },
        {
          "output_type": "stream",
          "name": "stdout",
          "text": [
            "\n",
            "Possibility number-305\n",
            "System of equations with:\n",
            "a = 2, b = 2, c = 3,\n",
            "d = 3, e = 4, f = 8,\n",
            "g = 11, h = 3, i = 5,\n",
            "x = 25,000, y = 25,500, z = 26,000\n",
            "--------------------------------------------------\n",
            "The system of equations is:\n"
          ]
        },
        {
          "output_type": "display_data",
          "data": {
            "text/plain": [
              "<IPython.core.display.Math object>"
            ],
            "text/latex": "$\\displaystyle \\begin{cases}2 x + 2 y + 3 z = \\text{179,000}\\\\3 x + 4 y + 8 z = \\text{385,000}\\\\11 x + 3 y + 5 z = \\text{481,500}\\end{cases}$"
          },
          "metadata": {}
        },
        {
          "output_type": "stream",
          "name": "stdout",
          "text": [
            "\n",
            "Possibility number-306\n",
            "System of equations with:\n",
            "a = 2, b = 2, c = 3,\n",
            "d = 3, e = 4, f = 8,\n",
            "g = 11, h = 3, i = 6,\n",
            "x = 25,000, y = 25,500, z = 26,000\n",
            "--------------------------------------------------\n",
            "The system of equations is:\n"
          ]
        },
        {
          "output_type": "display_data",
          "data": {
            "text/plain": [
              "<IPython.core.display.Math object>"
            ],
            "text/latex": "$\\displaystyle \\begin{cases}2 x + 2 y + 3 z = \\text{179,000}\\\\3 x + 4 y + 8 z = \\text{385,000}\\\\11 x + 3 y + 6 z = \\text{507,500}\\end{cases}$"
          },
          "metadata": {}
        },
        {
          "output_type": "stream",
          "name": "stdout",
          "text": [
            "\n",
            "Possibility number-307\n",
            "System of equations with:\n",
            "a = 2, b = 2, c = 3,\n",
            "d = 3, e = 4, f = 10,\n",
            "g = 5, h = 1, i = 4,\n",
            "x = 25,000, y = 25,500, z = 26,000\n",
            "--------------------------------------------------\n",
            "The system of equations is:\n"
          ]
        },
        {
          "output_type": "display_data",
          "data": {
            "text/plain": [
              "<IPython.core.display.Math object>"
            ],
            "text/latex": "$\\displaystyle \\begin{cases}2 x + 2 y + 3 z = \\text{179,000}\\\\3 x + 4 y + 10 z = \\text{437,000}\\\\5 x + y + 4 z = \\text{254,500}\\end{cases}$"
          },
          "metadata": {}
        },
        {
          "output_type": "stream",
          "name": "stdout",
          "text": [
            "\n",
            "Possibility number-308\n",
            "System of equations with:\n",
            "a = 2, b = 2, c = 3,\n",
            "d = 3, e = 4, f = 10,\n",
            "g = 5, h = 1, i = 5,\n",
            "x = 25,000, y = 25,500, z = 26,000\n",
            "--------------------------------------------------\n",
            "The system of equations is:\n"
          ]
        },
        {
          "output_type": "display_data",
          "data": {
            "text/plain": [
              "<IPython.core.display.Math object>"
            ],
            "text/latex": "$\\displaystyle \\begin{cases}2 x + 2 y + 3 z = \\text{179,000}\\\\3 x + 4 y + 10 z = \\text{437,000}\\\\5 x + y + 5 z = \\text{280,500}\\end{cases}$"
          },
          "metadata": {}
        },
        {
          "output_type": "stream",
          "name": "stdout",
          "text": [
            "\n",
            "Possibility number-309\n",
            "System of equations with:\n",
            "a = 2, b = 2, c = 3,\n",
            "d = 3, e = 4, f = 10,\n",
            "g = 5, h = 1, i = 6,\n",
            "x = 25,000, y = 25,500, z = 26,000\n",
            "--------------------------------------------------\n",
            "The system of equations is:\n"
          ]
        },
        {
          "output_type": "display_data",
          "data": {
            "text/plain": [
              "<IPython.core.display.Math object>"
            ],
            "text/latex": "$\\displaystyle \\begin{cases}2 x + 2 y + 3 z = \\text{179,000}\\\\3 x + 4 y + 10 z = \\text{437,000}\\\\5 x + y + 6 z = \\text{306,500}\\end{cases}$"
          },
          "metadata": {}
        },
        {
          "output_type": "stream",
          "name": "stdout",
          "text": [
            "\n",
            "Possibility number-310\n",
            "System of equations with:\n",
            "a = 2, b = 2, c = 3,\n",
            "d = 3, e = 4, f = 10,\n",
            "g = 5, h = 3, i = 4,\n",
            "x = 25,000, y = 25,500, z = 26,000\n",
            "--------------------------------------------------\n",
            "The system of equations is:\n"
          ]
        },
        {
          "output_type": "display_data",
          "data": {
            "text/plain": [
              "<IPython.core.display.Math object>"
            ],
            "text/latex": "$\\displaystyle \\begin{cases}2 x + 2 y + 3 z = \\text{179,000}\\\\3 x + 4 y + 10 z = \\text{437,000}\\\\5 x + 3 y + 4 z = \\text{305,500}\\end{cases}$"
          },
          "metadata": {}
        },
        {
          "output_type": "stream",
          "name": "stdout",
          "text": [
            "\n",
            "Possibility number-311\n",
            "System of equations with:\n",
            "a = 2, b = 2, c = 3,\n",
            "d = 3, e = 4, f = 10,\n",
            "g = 5, h = 3, i = 5,\n",
            "x = 25,000, y = 25,500, z = 26,000\n",
            "--------------------------------------------------\n",
            "The system of equations is:\n"
          ]
        },
        {
          "output_type": "display_data",
          "data": {
            "text/plain": [
              "<IPython.core.display.Math object>"
            ],
            "text/latex": "$\\displaystyle \\begin{cases}2 x + 2 y + 3 z = \\text{179,000}\\\\3 x + 4 y + 10 z = \\text{437,000}\\\\5 x + 3 y + 5 z = \\text{331,500}\\end{cases}$"
          },
          "metadata": {}
        },
        {
          "output_type": "stream",
          "name": "stdout",
          "text": [
            "\n",
            "Possibility number-312\n",
            "System of equations with:\n",
            "a = 2, b = 2, c = 3,\n",
            "d = 3, e = 4, f = 10,\n",
            "g = 5, h = 3, i = 6,\n",
            "x = 25,000, y = 25,500, z = 26,000\n",
            "--------------------------------------------------\n",
            "The system of equations is:\n"
          ]
        },
        {
          "output_type": "display_data",
          "data": {
            "text/plain": [
              "<IPython.core.display.Math object>"
            ],
            "text/latex": "$\\displaystyle \\begin{cases}2 x + 2 y + 3 z = \\text{179,000}\\\\3 x + 4 y + 10 z = \\text{437,000}\\\\5 x + 3 y + 6 z = \\text{357,500}\\end{cases}$"
          },
          "metadata": {}
        },
        {
          "output_type": "stream",
          "name": "stdout",
          "text": [
            "\n",
            "Possibility number-313\n",
            "System of equations with:\n",
            "a = 2, b = 2, c = 3,\n",
            "d = 3, e = 4, f = 10,\n",
            "g = 9, h = 1, i = 4,\n",
            "x = 25,000, y = 25,500, z = 26,000\n",
            "--------------------------------------------------\n",
            "The system of equations is:\n"
          ]
        },
        {
          "output_type": "display_data",
          "data": {
            "text/plain": [
              "<IPython.core.display.Math object>"
            ],
            "text/latex": "$\\displaystyle \\begin{cases}2 x + 2 y + 3 z = \\text{179,000}\\\\3 x + 4 y + 10 z = \\text{437,000}\\\\9 x + y + 4 z = \\text{354,500}\\end{cases}$"
          },
          "metadata": {}
        },
        {
          "output_type": "stream",
          "name": "stdout",
          "text": [
            "\n",
            "Possibility number-314\n",
            "System of equations with:\n",
            "a = 2, b = 2, c = 3,\n",
            "d = 3, e = 4, f = 10,\n",
            "g = 9, h = 1, i = 5,\n",
            "x = 25,000, y = 25,500, z = 26,000\n",
            "--------------------------------------------------\n",
            "The system of equations is:\n"
          ]
        },
        {
          "output_type": "display_data",
          "data": {
            "text/plain": [
              "<IPython.core.display.Math object>"
            ],
            "text/latex": "$\\displaystyle \\begin{cases}2 x + 2 y + 3 z = \\text{179,000}\\\\3 x + 4 y + 10 z = \\text{437,000}\\\\9 x + y + 5 z = \\text{380,500}\\end{cases}$"
          },
          "metadata": {}
        },
        {
          "output_type": "stream",
          "name": "stdout",
          "text": [
            "\n",
            "Possibility number-315\n",
            "System of equations with:\n",
            "a = 2, b = 2, c = 3,\n",
            "d = 3, e = 4, f = 10,\n",
            "g = 9, h = 1, i = 6,\n",
            "x = 25,000, y = 25,500, z = 26,000\n",
            "--------------------------------------------------\n",
            "The system of equations is:\n"
          ]
        },
        {
          "output_type": "display_data",
          "data": {
            "text/plain": [
              "<IPython.core.display.Math object>"
            ],
            "text/latex": "$\\displaystyle \\begin{cases}2 x + 2 y + 3 z = \\text{179,000}\\\\3 x + 4 y + 10 z = \\text{437,000}\\\\9 x + y + 6 z = \\text{406,500}\\end{cases}$"
          },
          "metadata": {}
        },
        {
          "output_type": "stream",
          "name": "stdout",
          "text": [
            "\n",
            "Possibility number-316\n",
            "System of equations with:\n",
            "a = 2, b = 2, c = 3,\n",
            "d = 3, e = 4, f = 10,\n",
            "g = 9, h = 3, i = 4,\n",
            "x = 25,000, y = 25,500, z = 26,000\n",
            "--------------------------------------------------\n",
            "The system of equations is:\n"
          ]
        },
        {
          "output_type": "display_data",
          "data": {
            "text/plain": [
              "<IPython.core.display.Math object>"
            ],
            "text/latex": "$\\displaystyle \\begin{cases}2 x + 2 y + 3 z = \\text{179,000}\\\\3 x + 4 y + 10 z = \\text{437,000}\\\\9 x + 3 y + 4 z = \\text{405,500}\\end{cases}$"
          },
          "metadata": {}
        },
        {
          "output_type": "stream",
          "name": "stdout",
          "text": [
            "\n",
            "Possibility number-317\n",
            "System of equations with:\n",
            "a = 2, b = 2, c = 3,\n",
            "d = 3, e = 4, f = 10,\n",
            "g = 9, h = 3, i = 5,\n",
            "x = 25,000, y = 25,500, z = 26,000\n",
            "--------------------------------------------------\n",
            "The system of equations is:\n"
          ]
        },
        {
          "output_type": "display_data",
          "data": {
            "text/plain": [
              "<IPython.core.display.Math object>"
            ],
            "text/latex": "$\\displaystyle \\begin{cases}2 x + 2 y + 3 z = \\text{179,000}\\\\3 x + 4 y + 10 z = \\text{437,000}\\\\9 x + 3 y + 5 z = \\text{431,500}\\end{cases}$"
          },
          "metadata": {}
        },
        {
          "output_type": "stream",
          "name": "stdout",
          "text": [
            "\n",
            "Possibility number-318\n",
            "System of equations with:\n",
            "a = 2, b = 2, c = 3,\n",
            "d = 3, e = 4, f = 10,\n",
            "g = 9, h = 3, i = 6,\n",
            "x = 25,000, y = 25,500, z = 26,000\n",
            "--------------------------------------------------\n",
            "The system of equations is:\n"
          ]
        },
        {
          "output_type": "display_data",
          "data": {
            "text/plain": [
              "<IPython.core.display.Math object>"
            ],
            "text/latex": "$\\displaystyle \\begin{cases}2 x + 2 y + 3 z = \\text{179,000}\\\\3 x + 4 y + 10 z = \\text{437,000}\\\\9 x + 3 y + 6 z = \\text{457,500}\\end{cases}$"
          },
          "metadata": {}
        },
        {
          "output_type": "stream",
          "name": "stdout",
          "text": [
            "\n",
            "Possibility number-319\n",
            "System of equations with:\n",
            "a = 2, b = 2, c = 3,\n",
            "d = 3, e = 4, f = 10,\n",
            "g = 11, h = 1, i = 4,\n",
            "x = 25,000, y = 25,500, z = 26,000\n",
            "--------------------------------------------------\n",
            "The system of equations is:\n"
          ]
        },
        {
          "output_type": "display_data",
          "data": {
            "text/plain": [
              "<IPython.core.display.Math object>"
            ],
            "text/latex": "$\\displaystyle \\begin{cases}2 x + 2 y + 3 z = \\text{179,000}\\\\3 x + 4 y + 10 z = \\text{437,000}\\\\11 x + y + 4 z = \\text{404,500}\\end{cases}$"
          },
          "metadata": {}
        },
        {
          "output_type": "stream",
          "name": "stdout",
          "text": [
            "\n",
            "Possibility number-320\n",
            "System of equations with:\n",
            "a = 2, b = 2, c = 3,\n",
            "d = 3, e = 4, f = 10,\n",
            "g = 11, h = 1, i = 5,\n",
            "x = 25,000, y = 25,500, z = 26,000\n",
            "--------------------------------------------------\n",
            "The system of equations is:\n"
          ]
        },
        {
          "output_type": "display_data",
          "data": {
            "text/plain": [
              "<IPython.core.display.Math object>"
            ],
            "text/latex": "$\\displaystyle \\begin{cases}2 x + 2 y + 3 z = \\text{179,000}\\\\3 x + 4 y + 10 z = \\text{437,000}\\\\11 x + y + 5 z = \\text{430,500}\\end{cases}$"
          },
          "metadata": {}
        },
        {
          "output_type": "stream",
          "name": "stdout",
          "text": [
            "\n",
            "Possibility number-321\n",
            "System of equations with:\n",
            "a = 2, b = 2, c = 3,\n",
            "d = 3, e = 4, f = 10,\n",
            "g = 11, h = 1, i = 6,\n",
            "x = 25,000, y = 25,500, z = 26,000\n",
            "--------------------------------------------------\n",
            "The system of equations is:\n"
          ]
        },
        {
          "output_type": "display_data",
          "data": {
            "text/plain": [
              "<IPython.core.display.Math object>"
            ],
            "text/latex": "$\\displaystyle \\begin{cases}2 x + 2 y + 3 z = \\text{179,000}\\\\3 x + 4 y + 10 z = \\text{437,000}\\\\11 x + y + 6 z = \\text{456,500}\\end{cases}$"
          },
          "metadata": {}
        },
        {
          "output_type": "stream",
          "name": "stdout",
          "text": [
            "\n",
            "Possibility number-322\n",
            "System of equations with:\n",
            "a = 2, b = 2, c = 3,\n",
            "d = 3, e = 4, f = 10,\n",
            "g = 11, h = 3, i = 4,\n",
            "x = 25,000, y = 25,500, z = 26,000\n",
            "--------------------------------------------------\n",
            "The system of equations is:\n"
          ]
        },
        {
          "output_type": "display_data",
          "data": {
            "text/plain": [
              "<IPython.core.display.Math object>"
            ],
            "text/latex": "$\\displaystyle \\begin{cases}2 x + 2 y + 3 z = \\text{179,000}\\\\3 x + 4 y + 10 z = \\text{437,000}\\\\11 x + 3 y + 4 z = \\text{455,500}\\end{cases}$"
          },
          "metadata": {}
        },
        {
          "output_type": "stream",
          "name": "stdout",
          "text": [
            "\n",
            "Possibility number-323\n",
            "System of equations with:\n",
            "a = 2, b = 2, c = 3,\n",
            "d = 3, e = 4, f = 10,\n",
            "g = 11, h = 3, i = 5,\n",
            "x = 25,000, y = 25,500, z = 26,000\n",
            "--------------------------------------------------\n",
            "The system of equations is:\n"
          ]
        },
        {
          "output_type": "display_data",
          "data": {
            "text/plain": [
              "<IPython.core.display.Math object>"
            ],
            "text/latex": "$\\displaystyle \\begin{cases}2 x + 2 y + 3 z = \\text{179,000}\\\\3 x + 4 y + 10 z = \\text{437,000}\\\\11 x + 3 y + 5 z = \\text{481,500}\\end{cases}$"
          },
          "metadata": {}
        },
        {
          "output_type": "stream",
          "name": "stdout",
          "text": [
            "\n",
            "Possibility number-324\n",
            "System of equations with:\n",
            "a = 2, b = 2, c = 3,\n",
            "d = 3, e = 4, f = 10,\n",
            "g = 11, h = 3, i = 6,\n",
            "x = 25,000, y = 25,500, z = 26,000\n",
            "--------------------------------------------------\n",
            "The system of equations is:\n"
          ]
        },
        {
          "output_type": "display_data",
          "data": {
            "text/plain": [
              "<IPython.core.display.Math object>"
            ],
            "text/latex": "$\\displaystyle \\begin{cases}2 x + 2 y + 3 z = \\text{179,000}\\\\3 x + 4 y + 10 z = \\text{437,000}\\\\11 x + 3 y + 6 z = \\text{507,500}\\end{cases}$"
          },
          "metadata": {}
        }
      ]
    },
    {
      "cell_type": "code",
      "source": [
        "# Terminal version\n",
        "\n",
        "def sle3v_frac_ter(a, b, c, d, e, f):\n",
        "    print(\"General form: \")\n",
        "    print(\"A/x + B/y + C/z = k1\")\n",
        "    print(\"D/x + E/y + F/z = k2\")\n",
        "    print(\"G/x + H/y + I/z = k3\")\n",
        "    print(\"=\"*50)\n",
        "    print()\n",
        "\n",
        "    def find_solutions():\n",
        "        # Temporarily collect all solutions\n",
        "        temp_solutions = []\n",
        "        for A in range(1, 21):\n",
        "            for B in range(1, 21):\n",
        "                for C in range(1, 21):\n",
        "                    if A / a + B / b + C / c == d:\n",
        "                        for D in range(1, 21):\n",
        "                            for E in range(1, 21):\n",
        "                                for F_ in range(1, 21):\n",
        "                                    if D / a + E / b + F_ / c == e:\n",
        "                                        if (A, B, C) != (D, E, F_):\n",
        "                                            for G in range(1, 21):\n",
        "                                                for H in range(1, 21):\n",
        "                                                    for I in range(1, 21):\n",
        "                                                        if G / a + H / b + I / c == f:\n",
        "                                                            if (G, H, I) != (A, B, C) and (G, H, I) != (D, E, F_):\n",
        "                                                                temp_solutions.append((A, B, C, D, E, F_, G, H, I))\n",
        "\n",
        "        # Filter solutions: ensure no group (A,D,G), (B,E,H), (C,F,I) appears more than 2 times\n",
        "        from collections import defaultdict\n",
        "        count_ADG = defaultdict(int)\n",
        "        count_BEH = defaultdict(int)\n",
        "        count_CFI = defaultdict(int)\n",
        "        filtered_solutions = []\n",
        "\n",
        "        for sol in temp_solutions:\n",
        "            A, B, C, D, E, F_, G, H, I = sol\n",
        "            ADG = (A, D, G)\n",
        "            BEH = (B, E, H)\n",
        "            CFI = (C, F_, I)\n",
        "\n",
        "            # Skip solution if any group has already appeared twice\n",
        "            if count_ADG[ADG] >= 2 or count_BEH[BEH] >= 2 or count_CFI[CFI] >= 2:\n",
        "                continue\n",
        "\n",
        "            # Add solution if all groups have appeared less than twice\n",
        "            filtered_solutions.append(sol)\n",
        "            count_ADG[ADG] += 1\n",
        "            count_BEH[BEH] += 1\n",
        "            count_CFI[CFI] += 1\n",
        "\n",
        "        return filtered_solutions\n",
        "\n",
        "    solutions = find_solutions()\n",
        "\n",
        "    i = 0\n",
        "    if solutions:\n",
        "        for sol in solutions:\n",
        "            A, B, C, D, E, F_, G, H, I = sol\n",
        "            print(f\"Possibility number-{i + 1}: \")\n",
        "            print(f\"A = {A}, B = {B}, C = {C}\")\n",
        "            print(f\"D = {D}, E = {E}, F = {F_}\")\n",
        "            print(f\"G = {G}, H = {H}, I = {I}\")\n",
        "            print(\"=\" * 50)\n",
        "            print(\"The resulting SLE3V system is: \")\n",
        "            print(f\"Equation 1: {A}/x + {B}/y + {C}/z = {d}\")\n",
        "            print(f\"Equation 2: {D}/x + {E}/y + {F_}/z = {e}\")\n",
        "            print(f\"Equation 3: {G}/x + {H}/y + {I}/z = {f}\\n\")\n",
        "            i += 1\n",
        "    else:\n",
        "        print(\"No solutions found.\")\n",
        "\n",
        "# Note :\n",
        "# the parameters a, b, c in function are similar to x, y, z\n",
        "\n",
        "# Example usage\n",
        "sle3v_frac_ter(4, 8, 12, 1, 1, 1)\n"
      ],
      "metadata": {
        "colab": {
          "base_uri": "https://localhost:8080/"
        },
        "id": "i3fIS5ikLCAx",
        "outputId": "4971b81b-b1de-429b-afb3-62ac5c83d3ad"
      },
      "execution_count": 11,
      "outputs": [
        {
          "output_type": "stream",
          "name": "stdout",
          "text": [
            "General form: \n",
            "A/x + B/y + C/z = k1\n",
            "D/x + E/y + F/z = k2\n",
            "G/x + H/y + I/z = k3\n",
            "==================================================\n",
            "\n",
            "Possibility number-1: \n",
            "A = 1, B = 2, C = 6\n",
            "D = 1, E = 4, F = 3\n",
            "G = 2, H = 2, I = 3\n",
            "==================================================\n",
            "The resulting SLE3V system is: \n",
            "Equation 1: 1/x + 2/y + 6/z = 1\n",
            "Equation 2: 1/x + 4/y + 3/z = 1\n",
            "Equation 3: 2/x + 2/y + 3/z = 1\n",
            "\n",
            "Possibility number-2: \n",
            "A = 1, B = 2, C = 6\n",
            "D = 2, E = 2, F = 3\n",
            "G = 1, H = 4, I = 3\n",
            "==================================================\n",
            "The resulting SLE3V system is: \n",
            "Equation 1: 1/x + 2/y + 6/z = 1\n",
            "Equation 2: 2/x + 2/y + 3/z = 1\n",
            "Equation 3: 1/x + 4/y + 3/z = 1\n",
            "\n",
            "Possibility number-3: \n",
            "A = 1, B = 4, C = 3\n",
            "D = 1, E = 2, F = 6\n",
            "G = 2, H = 2, I = 3\n",
            "==================================================\n",
            "The resulting SLE3V system is: \n",
            "Equation 1: 1/x + 4/y + 3/z = 1\n",
            "Equation 2: 1/x + 2/y + 6/z = 1\n",
            "Equation 3: 2/x + 2/y + 3/z = 1\n",
            "\n",
            "Possibility number-4: \n",
            "A = 1, B = 4, C = 3\n",
            "D = 2, E = 2, F = 3\n",
            "G = 1, H = 2, I = 6\n",
            "==================================================\n",
            "The resulting SLE3V system is: \n",
            "Equation 1: 1/x + 4/y + 3/z = 1\n",
            "Equation 2: 2/x + 2/y + 3/z = 1\n",
            "Equation 3: 1/x + 2/y + 6/z = 1\n",
            "\n",
            "Possibility number-5: \n",
            "A = 2, B = 2, C = 3\n",
            "D = 1, E = 2, F = 6\n",
            "G = 1, H = 4, I = 3\n",
            "==================================================\n",
            "The resulting SLE3V system is: \n",
            "Equation 1: 2/x + 2/y + 3/z = 1\n",
            "Equation 2: 1/x + 2/y + 6/z = 1\n",
            "Equation 3: 1/x + 4/y + 3/z = 1\n",
            "\n",
            "Possibility number-6: \n",
            "A = 2, B = 2, C = 3\n",
            "D = 1, E = 4, F = 3\n",
            "G = 1, H = 2, I = 6\n",
            "==================================================\n",
            "The resulting SLE3V system is: \n",
            "Equation 1: 2/x + 2/y + 3/z = 1\n",
            "Equation 2: 1/x + 4/y + 3/z = 1\n",
            "Equation 3: 1/x + 2/y + 6/z = 1\n",
            "\n"
          ]
        }
      ]
    },
    {
      "cell_type": "code",
      "source": [
        "# Jupyter version\n",
        "\n",
        "from sympy import symbols, Eq, latex\n",
        "from IPython.display import display, Math\n",
        "from collections import defaultdict\n",
        "\n",
        "def sle3v_frac_jup(a, b, c, d, e, f):\n",
        "    print(\"General form:\")\n",
        "    x, y, z = symbols('x y z')\n",
        "    A, B, C, D, E, F, G, H, I = symbols('A B C D E F G H I')\n",
        "\n",
        "    # Display general form with cases\n",
        "    display(Math(r\"\\begin{cases}\" +\n",
        "               latex(A/x + B/y + C/z) + r\" = k_1 \\\\\" +\n",
        "               latex(D/x + E/y + F/z) + r\" = k_2 \\\\\" +\n",
        "               latex(G/x + H/y + I/z) + r\" = k_3\" +\n",
        "               r\"\\end{cases}\"))\n",
        "    print(\"=\" * 50)\n",
        "    print()\n",
        "\n",
        "    def find_solutions():\n",
        "        temp_solutions = []\n",
        "        for A_val in range(1, 21):\n",
        "            for B_val in range(1, 21):\n",
        "                for C_val in range(1, 21):\n",
        "                    if A_val/a + B_val/b + C_val/c == d:\n",
        "                        for D_val in range(1, 21):\n",
        "                            for E_val in range(1, 21):\n",
        "                                for F_val in range(1, 21):\n",
        "                                    if D_val/a + E_val/b + F_val/c == e:\n",
        "                                        if (A_val, B_val, C_val) != (D_val, E_val, F_val):\n",
        "                                            for G_val in range(1, 21):\n",
        "                                                for H_val in range(1, 21):\n",
        "                                                    for I_val in range(1, 21):\n",
        "                                                        if G_val/a + H_val/b + I_val/c == f:\n",
        "                                                            if (G_val, H_val, I_val) != (A_val, B_val, C_val) and (G_val, H_val, I_val) != (D_val, E_val, F_val):\n",
        "                                                                temp_solutions.append((A_val, B_val, C_val, D_val, E_val, F_val, G_val, H_val, I_val))\n",
        "\n",
        "        # Filter solutions\n",
        "        count_ADG = defaultdict(int)\n",
        "        count_BEH = defaultdict(int)\n",
        "        count_CFI = defaultdict(int)\n",
        "        filtered_solutions = []\n",
        "\n",
        "        for sol in temp_solutions:\n",
        "            A_val, B_val, C_val, D_val, E_val, F_val, G_val, H_val, I_val = sol\n",
        "            ADG = (A_val, D_val, G_val)\n",
        "            BEH = (B_val, E_val, H_val)\n",
        "            CFI = (C_val, F_val, I_val)\n",
        "\n",
        "            if count_ADG[ADG] >= 2 or count_BEH[BEH] >= 2 or count_CFI[CFI] >= 2:\n",
        "                continue\n",
        "\n",
        "            filtered_solutions.append(sol)\n",
        "            count_ADG[ADG] += 1\n",
        "            count_BEH[BEH] += 1\n",
        "            count_CFI[CFI] += 1\n",
        "\n",
        "        return filtered_solutions\n",
        "\n",
        "    solutions = find_solutions()\n",
        "\n",
        "    i = 0\n",
        "    if solutions:\n",
        "        for sol in solutions:\n",
        "            A_val, B_val, C_val, D_val, E_val, F_val, G_val, H_val, I_val = sol\n",
        "            print(f\"Possibility number-{i + 1}:\")\n",
        "            print(f\"A = {A_val}, B = {B_val}, C = {C_val}\")\n",
        "            print(f\"D = {D_val}, E = {E_val}, F = {F_val}\")\n",
        "            print(f\"G = {G_val}, H = {H_val}, I = {I_val}\")\n",
        "            print(\"=\" * 50)\n",
        "            print(\"The resulting SLE3V system is:\")\n",
        "\n",
        "            # Display in formatted cases\n",
        "            display(Math(r\"\\begin{cases}\" +\n",
        "                       latex(Eq(A_val/x + B_val/y + C_val/z, d)) + r\" \\\\\" +\n",
        "                       latex(Eq(D_val/x + E_val/y + F_val/z, e)) + r\" \\\\\" +\n",
        "                       latex(Eq(G_val/x + H_val/y + I_val/z, f)) +\n",
        "                       r\"\\end{cases}\"))\n",
        "            print()\n",
        "            i += 1\n",
        "    else:\n",
        "        print(\"No solutions found.\")\n",
        "\n",
        "# Note :\n",
        "# the parameters a, b, c in function are similar to x, y, z\n",
        "\n",
        "# Example usage\n",
        "sle3v_frac_jup(4, 8, 12, 1, 1, 1)\n"
      ],
      "metadata": {
        "colab": {
          "base_uri": "https://localhost:8080/",
          "height": 1000
        },
        "id": "uI9R-IwUWMUG",
        "outputId": "6dd5503f-01bc-476c-d21a-9166a71b0208"
      },
      "execution_count": 13,
      "outputs": [
        {
          "output_type": "stream",
          "name": "stdout",
          "text": [
            "General form:\n"
          ]
        },
        {
          "output_type": "display_data",
          "data": {
            "text/plain": [
              "<IPython.core.display.Math object>"
            ],
            "text/latex": "$\\displaystyle \\begin{cases}\\frac{A}{x} + \\frac{B}{y} + \\frac{C}{z} = k_1 \\\\\\frac{D}{x} + \\frac{E}{y} + \\frac{F}{z} = k_2 \\\\\\frac{G}{x} + \\frac{H}{y} + \\frac{I}{z} = k_3\\end{cases}$"
          },
          "metadata": {}
        },
        {
          "output_type": "stream",
          "name": "stdout",
          "text": [
            "==================================================\n",
            "\n",
            "Possibility number-1:\n",
            "A = 1, B = 2, C = 6\n",
            "D = 1, E = 4, F = 3\n",
            "G = 2, H = 2, I = 3\n",
            "==================================================\n",
            "The resulting SLE3V system is:\n"
          ]
        },
        {
          "output_type": "display_data",
          "data": {
            "text/plain": [
              "<IPython.core.display.Math object>"
            ],
            "text/latex": "$\\displaystyle \\begin{cases}\\frac{6}{z} + \\frac{2}{y} + \\frac{1}{x} = 1 \\\\\\frac{3}{z} + \\frac{4}{y} + \\frac{1}{x} = 1 \\\\\\frac{3}{z} + \\frac{2}{y} + \\frac{2}{x} = 1\\end{cases}$"
          },
          "metadata": {}
        },
        {
          "output_type": "stream",
          "name": "stdout",
          "text": [
            "\n",
            "Possibility number-2:\n",
            "A = 1, B = 2, C = 6\n",
            "D = 2, E = 2, F = 3\n",
            "G = 1, H = 4, I = 3\n",
            "==================================================\n",
            "The resulting SLE3V system is:\n"
          ]
        },
        {
          "output_type": "display_data",
          "data": {
            "text/plain": [
              "<IPython.core.display.Math object>"
            ],
            "text/latex": "$\\displaystyle \\begin{cases}\\frac{6}{z} + \\frac{2}{y} + \\frac{1}{x} = 1 \\\\\\frac{3}{z} + \\frac{2}{y} + \\frac{2}{x} = 1 \\\\\\frac{3}{z} + \\frac{4}{y} + \\frac{1}{x} = 1\\end{cases}$"
          },
          "metadata": {}
        },
        {
          "output_type": "stream",
          "name": "stdout",
          "text": [
            "\n",
            "Possibility number-3:\n",
            "A = 1, B = 4, C = 3\n",
            "D = 1, E = 2, F = 6\n",
            "G = 2, H = 2, I = 3\n",
            "==================================================\n",
            "The resulting SLE3V system is:\n"
          ]
        },
        {
          "output_type": "display_data",
          "data": {
            "text/plain": [
              "<IPython.core.display.Math object>"
            ],
            "text/latex": "$\\displaystyle \\begin{cases}\\frac{3}{z} + \\frac{4}{y} + \\frac{1}{x} = 1 \\\\\\frac{6}{z} + \\frac{2}{y} + \\frac{1}{x} = 1 \\\\\\frac{3}{z} + \\frac{2}{y} + \\frac{2}{x} = 1\\end{cases}$"
          },
          "metadata": {}
        },
        {
          "output_type": "stream",
          "name": "stdout",
          "text": [
            "\n",
            "Possibility number-4:\n",
            "A = 1, B = 4, C = 3\n",
            "D = 2, E = 2, F = 3\n",
            "G = 1, H = 2, I = 6\n",
            "==================================================\n",
            "The resulting SLE3V system is:\n"
          ]
        },
        {
          "output_type": "display_data",
          "data": {
            "text/plain": [
              "<IPython.core.display.Math object>"
            ],
            "text/latex": "$\\displaystyle \\begin{cases}\\frac{3}{z} + \\frac{4}{y} + \\frac{1}{x} = 1 \\\\\\frac{3}{z} + \\frac{2}{y} + \\frac{2}{x} = 1 \\\\\\frac{6}{z} + \\frac{2}{y} + \\frac{1}{x} = 1\\end{cases}$"
          },
          "metadata": {}
        },
        {
          "output_type": "stream",
          "name": "stdout",
          "text": [
            "\n",
            "Possibility number-5:\n",
            "A = 2, B = 2, C = 3\n",
            "D = 1, E = 2, F = 6\n",
            "G = 1, H = 4, I = 3\n",
            "==================================================\n",
            "The resulting SLE3V system is:\n"
          ]
        },
        {
          "output_type": "display_data",
          "data": {
            "text/plain": [
              "<IPython.core.display.Math object>"
            ],
            "text/latex": "$\\displaystyle \\begin{cases}\\frac{3}{z} + \\frac{2}{y} + \\frac{2}{x} = 1 \\\\\\frac{6}{z} + \\frac{2}{y} + \\frac{1}{x} = 1 \\\\\\frac{3}{z} + \\frac{4}{y} + \\frac{1}{x} = 1\\end{cases}$"
          },
          "metadata": {}
        },
        {
          "output_type": "stream",
          "name": "stdout",
          "text": [
            "\n",
            "Possibility number-6:\n",
            "A = 2, B = 2, C = 3\n",
            "D = 1, E = 4, F = 3\n",
            "G = 1, H = 2, I = 6\n",
            "==================================================\n",
            "The resulting SLE3V system is:\n"
          ]
        },
        {
          "output_type": "display_data",
          "data": {
            "text/plain": [
              "<IPython.core.display.Math object>"
            ],
            "text/latex": "$\\displaystyle \\begin{cases}\\frac{3}{z} + \\frac{2}{y} + \\frac{2}{x} = 1 \\\\\\frac{3}{z} + \\frac{4}{y} + \\frac{1}{x} = 1 \\\\\\frac{6}{z} + \\frac{2}{y} + \\frac{1}{x} = 1\\end{cases}$"
          },
          "metadata": {}
        },
        {
          "output_type": "stream",
          "name": "stdout",
          "text": [
            "\n"
          ]
        }
      ]
    }
  ]
}