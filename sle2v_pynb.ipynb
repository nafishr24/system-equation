{
  "nbformat": 4,
  "nbformat_minor": 0,
  "metadata": {
    "colab": {
      "provenance": []
    },
    "kernelspec": {
      "name": "python3",
      "display_name": "Python 3"
    },
    "language_info": {
      "name": "python"
    }
  },
  "cells": [
    {
      "cell_type": "code",
      "execution_count": 6,
      "metadata": {
        "colab": {
          "base_uri": "https://localhost:8080/"
        },
        "id": "xGQDler2EHXC",
        "outputId": "4c067ad7-0390-48df-f575-481e3772a9b5"
      },
      "outputs": [
        {
          "output_type": "stream",
          "name": "stdout",
          "text": [
            "General form of SLE2V:\n",
            "ax + by = k1\n",
            "cx + dy = k2\n",
            "\n",
            "\n",
            "Possibility number-1\n",
            "System of equations with:\n",
            "a = 1, b = 1,\n",
            "c = 2, d = 3,\n",
            "x = 25,000, y = 25,500\n",
            "--------------------------------------------------\n",
            "The system of equations is:\n",
            "1x + 1y = 50,500\n",
            "2x + 3y = 126,500\n",
            "\n",
            "Possibility number-2\n",
            "System of equations with:\n",
            "a = 1, b = 1,\n",
            "c = 3, d = 2,\n",
            "x = 25,000, y = 25,500\n",
            "--------------------------------------------------\n",
            "The system of equations is:\n",
            "1x + 1y = 50,500\n",
            "3x + 2y = 126,000\n",
            "\n",
            "Possibility number-3\n",
            "System of equations with:\n",
            "a = 1, b = 2,\n",
            "c = 2, d = 1,\n",
            "x = 25,000, y = 25,500\n",
            "--------------------------------------------------\n",
            "The system of equations is:\n",
            "1x + 2y = 76,000\n",
            "2x + 1y = 75,500\n",
            "\n",
            "Possibility number-4\n",
            "System of equations with:\n",
            "a = 1, b = 2,\n",
            "c = 2, d = 3,\n",
            "x = 25,000, y = 25,500\n",
            "--------------------------------------------------\n",
            "The system of equations is:\n",
            "1x + 2y = 76,000\n",
            "2x + 3y = 126,500\n",
            "\n",
            "Possibility number-5\n",
            "System of equations with:\n",
            "a = 1, b = 2,\n",
            "c = 3, d = 1,\n",
            "x = 25,000, y = 25,500\n",
            "--------------------------------------------------\n",
            "The system of equations is:\n",
            "1x + 2y = 76,000\n",
            "3x + 1y = 100,500\n",
            "\n",
            "Possibility number-6\n",
            "System of equations with:\n",
            "a = 1, b = 2,\n",
            "c = 3, d = 3,\n",
            "x = 25,000, y = 25,500\n",
            "--------------------------------------------------\n",
            "The system of equations is:\n",
            "1x + 2y = 76,000\n",
            "3x + 3y = 151,500\n",
            "\n",
            "Possibility number-7\n",
            "System of equations with:\n",
            "a = 1, b = 3,\n",
            "c = 2, d = 1,\n",
            "x = 25,000, y = 25,500\n",
            "--------------------------------------------------\n",
            "The system of equations is:\n",
            "1x + 3y = 101,500\n",
            "2x + 1y = 75,500\n",
            "\n",
            "Possibility number-8\n",
            "System of equations with:\n",
            "a = 1, b = 3,\n",
            "c = 2, d = 2,\n",
            "x = 25,000, y = 25,500\n",
            "--------------------------------------------------\n",
            "The system of equations is:\n",
            "1x + 3y = 101,500\n",
            "2x + 2y = 101,000\n",
            "\n",
            "Possibility number-9\n",
            "System of equations with:\n",
            "a = 1, b = 3,\n",
            "c = 3, d = 1,\n",
            "x = 25,000, y = 25,500\n",
            "--------------------------------------------------\n",
            "The system of equations is:\n",
            "1x + 3y = 101,500\n",
            "3x + 1y = 100,500\n",
            "\n",
            "Possibility number-10\n",
            "System of equations with:\n",
            "a = 1, b = 3,\n",
            "c = 3, d = 2,\n",
            "x = 25,000, y = 25,500\n",
            "--------------------------------------------------\n",
            "The system of equations is:\n",
            "1x + 3y = 101,500\n",
            "3x + 2y = 126,000\n",
            "\n",
            "Possibility number-11\n",
            "System of equations with:\n",
            "a = 2, b = 1,\n",
            "c = 1, d = 2,\n",
            "x = 25,000, y = 25,500\n",
            "--------------------------------------------------\n",
            "The system of equations is:\n",
            "2x + 1y = 75,500\n",
            "1x + 2y = 76,000\n",
            "\n",
            "Possibility number-12\n",
            "System of equations with:\n",
            "a = 2, b = 1,\n",
            "c = 1, d = 3,\n",
            "x = 25,000, y = 25,500\n",
            "--------------------------------------------------\n",
            "The system of equations is:\n",
            "2x + 1y = 75,500\n",
            "1x + 3y = 101,500\n",
            "\n",
            "Possibility number-13\n",
            "System of equations with:\n",
            "a = 2, b = 1,\n",
            "c = 3, d = 2,\n",
            "x = 25,000, y = 25,500\n",
            "--------------------------------------------------\n",
            "The system of equations is:\n",
            "2x + 1y = 75,500\n",
            "3x + 2y = 126,000\n",
            "\n",
            "Possibility number-14\n",
            "System of equations with:\n",
            "a = 2, b = 1,\n",
            "c = 3, d = 3,\n",
            "x = 25,000, y = 25,500\n",
            "--------------------------------------------------\n",
            "The system of equations is:\n",
            "2x + 1y = 75,500\n",
            "3x + 3y = 151,500\n",
            "\n",
            "Possibility number-15\n",
            "System of equations with:\n",
            "a = 2, b = 2,\n",
            "c = 1, d = 3,\n",
            "x = 25,000, y = 25,500\n",
            "--------------------------------------------------\n",
            "The system of equations is:\n",
            "2x + 2y = 101,000\n",
            "1x + 3y = 101,500\n",
            "\n",
            "Possibility number-16\n",
            "System of equations with:\n",
            "a = 2, b = 2,\n",
            "c = 3, d = 1,\n",
            "x = 25,000, y = 25,500\n",
            "--------------------------------------------------\n",
            "The system of equations is:\n",
            "2x + 2y = 101,000\n",
            "3x + 1y = 100,500\n",
            "\n",
            "Possibility number-17\n",
            "System of equations with:\n",
            "a = 2, b = 3,\n",
            "c = 1, d = 1,\n",
            "x = 25,000, y = 25,500\n",
            "--------------------------------------------------\n",
            "The system of equations is:\n",
            "2x + 3y = 126,500\n",
            "1x + 1y = 50,500\n",
            "\n",
            "Possibility number-18\n",
            "System of equations with:\n",
            "a = 2, b = 3,\n",
            "c = 1, d = 2,\n",
            "x = 25,000, y = 25,500\n",
            "--------------------------------------------------\n",
            "The system of equations is:\n",
            "2x + 3y = 126,500\n",
            "1x + 2y = 76,000\n",
            "\n",
            "Possibility number-19\n",
            "System of equations with:\n",
            "a = 2, b = 3,\n",
            "c = 3, d = 1,\n",
            "x = 25,000, y = 25,500\n",
            "--------------------------------------------------\n",
            "The system of equations is:\n",
            "2x + 3y = 126,500\n",
            "3x + 1y = 100,500\n",
            "\n",
            "Possibility number-20\n",
            "System of equations with:\n",
            "a = 2, b = 3,\n",
            "c = 3, d = 2,\n",
            "x = 25,000, y = 25,500\n",
            "--------------------------------------------------\n",
            "The system of equations is:\n",
            "2x + 3y = 126,500\n",
            "3x + 2y = 126,000\n",
            "\n",
            "Possibility number-21\n",
            "System of equations with:\n",
            "a = 3, b = 1,\n",
            "c = 1, d = 2,\n",
            "x = 25,000, y = 25,500\n",
            "--------------------------------------------------\n",
            "The system of equations is:\n",
            "3x + 1y = 100,500\n",
            "1x + 2y = 76,000\n",
            "\n",
            "Possibility number-22\n",
            "System of equations with:\n",
            "a = 3, b = 1,\n",
            "c = 1, d = 3,\n",
            "x = 25,000, y = 25,500\n",
            "--------------------------------------------------\n",
            "The system of equations is:\n",
            "3x + 1y = 100,500\n",
            "1x + 3y = 101,500\n",
            "\n",
            "Possibility number-23\n",
            "System of equations with:\n",
            "a = 3, b = 1,\n",
            "c = 2, d = 2,\n",
            "x = 25,000, y = 25,500\n",
            "--------------------------------------------------\n",
            "The system of equations is:\n",
            "3x + 1y = 100,500\n",
            "2x + 2y = 101,000\n",
            "\n",
            "Possibility number-24\n",
            "System of equations with:\n",
            "a = 3, b = 1,\n",
            "c = 2, d = 3,\n",
            "x = 25,000, y = 25,500\n",
            "--------------------------------------------------\n",
            "The system of equations is:\n",
            "3x + 1y = 100,500\n",
            "2x + 3y = 126,500\n",
            "\n",
            "Possibility number-25\n",
            "System of equations with:\n",
            "a = 3, b = 2,\n",
            "c = 1, d = 1,\n",
            "x = 25,000, y = 25,500\n",
            "--------------------------------------------------\n",
            "The system of equations is:\n",
            "3x + 2y = 126,000\n",
            "1x + 1y = 50,500\n",
            "\n",
            "Possibility number-26\n",
            "System of equations with:\n",
            "a = 3, b = 2,\n",
            "c = 1, d = 3,\n",
            "x = 25,000, y = 25,500\n",
            "--------------------------------------------------\n",
            "The system of equations is:\n",
            "3x + 2y = 126,000\n",
            "1x + 3y = 101,500\n",
            "\n",
            "Possibility number-27\n",
            "System of equations with:\n",
            "a = 3, b = 2,\n",
            "c = 2, d = 1,\n",
            "x = 25,000, y = 25,500\n",
            "--------------------------------------------------\n",
            "The system of equations is:\n",
            "3x + 2y = 126,000\n",
            "2x + 1y = 75,500\n",
            "\n",
            "Possibility number-28\n",
            "System of equations with:\n",
            "a = 3, b = 2,\n",
            "c = 2, d = 3,\n",
            "x = 25,000, y = 25,500\n",
            "--------------------------------------------------\n",
            "The system of equations is:\n",
            "3x + 2y = 126,000\n",
            "2x + 3y = 126,500\n",
            "\n",
            "Possibility number-29\n",
            "System of equations with:\n",
            "a = 3, b = 3,\n",
            "c = 1, d = 2,\n",
            "x = 25,000, y = 25,500\n",
            "--------------------------------------------------\n",
            "The system of equations is:\n",
            "3x + 3y = 151,500\n",
            "1x + 2y = 76,000\n",
            "\n",
            "Possibility number-30\n",
            "System of equations with:\n",
            "a = 3, b = 3,\n",
            "c = 2, d = 1,\n",
            "x = 25,000, y = 25,500\n",
            "--------------------------------------------------\n",
            "The system of equations is:\n",
            "3x + 3y = 151,500\n",
            "2x + 1y = 75,500\n"
          ]
        }
      ],
      "source": [
        "# Terminal version\n",
        "\n",
        "from itertools import product\n",
        "from collections import Counter\n",
        "\n",
        "t = 0  # Global variable to count possibilities\n",
        "\n",
        "def sle2v_ter(a, b, c, d, x, y):\n",
        "    global t\n",
        "    k1 = a * x + b * y\n",
        "    k2 = c * x + d * y\n",
        "    t += 1\n",
        "    print(f\"\\nPossibility number-{t:,}\")\n",
        "    print(\"System of equations with:\")\n",
        "    print(f\"a = {a}, b = {b},\\nc = {c}, d = {d},\\nx = {x:,}, y = {y:,}\")\n",
        "    print(\"-\" * 50)\n",
        "    print(\"The system of equations is:\")\n",
        "    print(f\"{a}x + {b}y = {k1:,}\")\n",
        "    print(f\"{c}x + {d}y = {k2:,}\")\n",
        "\n",
        "def max_duplicates_allowed(group, max_duplicates=2):\n",
        "    counts = Counter(group)\n",
        "    return all(v <= max_duplicates for v in counts.values())\n",
        "\n",
        "# List of values for each coefficient\n",
        "a_values = [1, 2, 3]\n",
        "b_values = [1, 2, 3]\n",
        "c_values = [1, 2, 3]\n",
        "d_values = [1, 2, 3]\n",
        "\n",
        "# Fixed values for x and y\n",
        "x_values = [25000]\n",
        "y_values = [25500]\n",
        "\n",
        "# Iterate over all combinations using itertools.product\n",
        "print(\"General form of SLE2V:\\nax + by = k1\\ncx + dy = k2\\n\", flush=True)\n",
        "\n",
        "for a, b, c, d, x, y in product(\n",
        "    a_values, b_values,\n",
        "    c_values, d_values,\n",
        "    x_values, y_values\n",
        "):\n",
        "    # Uncomment below to stop after a certain number of results\n",
        "    # if t >= max_possibilities:\n",
        "    #     break\n",
        "\n",
        "    # Skip if both equations have identical coefficients\n",
        "    if (a, b) == (c, d) or a == c or b == d:\n",
        "        continue\n",
        "\n",
        "    # Skip if (c, d) is a multiple of (a, b)\n",
        "    if a != 0 and b != 0 and c != 0 and d != 0:\n",
        "        ratio1 = c / a\n",
        "        ratio2 = d / b\n",
        "        if ratio1 == ratio2:\n",
        "            continue\n",
        "\n",
        "    # ✅ Display valid system\n",
        "    sle2v_ter(a, b, c, d, x, y)\n"
      ]
    },
    {
      "cell_type": "code",
      "source": [
        "# Jupyter version\n",
        "\n",
        "from itertools import product\n",
        "from collections import Counter\n",
        "from sympy import symbols, Eq, latex\n",
        "from IPython.display import display, Math\n",
        "\n",
        "t = 0  # Global variable to count possibilities\n",
        "\n",
        "# Symbols for equations\n",
        "x_sym, y_sym = symbols('x y')\n",
        "\n",
        "def sle2v_jup(a, b, c, d, x, y):\n",
        "    global t\n",
        "    k1 = a * x + b * y\n",
        "    k2 = c * x + d * y\n",
        "    t += 1\n",
        "    print(f\"\\nPossibility number-{t:,}\")\n",
        "    print(\"System of equations with:\")\n",
        "    print(f\"a = {a}, b = {b},\\nc = {c}, d = {d},\\nx = {x:,}, y = {y:,}\")\n",
        "    print(\"-\" * 50)\n",
        "    print(\"The system of equations is:\")\n",
        "    display(Math(r\"\\begin{cases}\" +\n",
        "             f\"{latex(a*x_sym + b*y_sym)} = \\\\text{{{format(k1, ',')}}}\" + r\"\\\\\" +\n",
        "             f\"{latex(c*x_sym + d*y_sym)} = \\\\text{{{format(k2, ',')}}}\" + r\"\\\\\" +\n",
        "             r\"\\end{cases}\"))\n",
        "\n",
        "def max_duplicates_allowed(group, max_duplicates=2):\n",
        "    counts = Counter(group)\n",
        "    return all(v <= max_duplicates for v in counts.values())\n",
        "\n",
        "# List of values for each parameter (1, 2, 3)\n",
        "a_values = [1, 2, 3]\n",
        "b_values = [1, 2, 3]\n",
        "c_values = [1, 2, 3]\n",
        "d_values = [1, 2, 3]\n",
        "\n",
        "# Fixed values for x and y\n",
        "x_values = [25000]\n",
        "y_values = [25500]\n",
        "\n",
        "# Display general form\n",
        "display(Math(\n",
        "    r\"\\text{General form of SLE2V:}\"\n",
        "    r\"\\\\\"  # New line\n",
        "    r\"\\begin{cases}\"\n",
        "    r\"ax + by = k_1 \\\\\"\n",
        "    r\"cx + dy = k_2 \\\\\"\n",
        "    r\"\\end{cases}\"\n",
        "))\n",
        "\n",
        "# Iterate through all combinations (using itertools.product)\n",
        "for a, b, c, d, x, y in product(\n",
        "    a_values, b_values,\n",
        "    c_values, d_values,\n",
        "    x_values, y_values\n",
        "):\n",
        "\n",
        "    # Skip if both equations have identical coefficients\n",
        "    if (a, b) == (c, d) or a == c or b == d:\n",
        "        continue\n",
        "\n",
        "    # Skip if (c, d) is a multiple of (a, b)\n",
        "    if a != 0 and b != 0 and c != 0 and d != 0:\n",
        "        ratio1 = c / a\n",
        "        ratio2 = d / b\n",
        "        if ratio1 == ratio2:\n",
        "            continue\n",
        "\n",
        "    # ✅ Display valid combination\n",
        "    sle2v_jup(a, b, c, d, x, y)\n"
      ],
      "metadata": {
        "colab": {
          "base_uri": "https://localhost:8080/",
          "height": 1000
        },
        "id": "d1pTVuESq0iN",
        "outputId": "641418aa-7b90-4ca6-d47c-f4e2fe96e84d"
      },
      "execution_count": 7,
      "outputs": [
        {
          "output_type": "display_data",
          "data": {
            "text/plain": [
              "<IPython.core.display.Math object>"
            ],
            "text/latex": "$\\displaystyle \\text{General form of SLE2V:}\\\\\\begin{cases}ax + by = k_1 \\\\cx + dy = k_2 \\\\\\end{cases}$"
          },
          "metadata": {}
        },
        {
          "output_type": "stream",
          "name": "stdout",
          "text": [
            "\n",
            "Possibility number-1\n",
            "System of equations with:\n",
            "a = 1, b = 1,\n",
            "c = 2, d = 3,\n",
            "x = 25,000, y = 25,500\n",
            "--------------------------------------------------\n",
            "The system of equations is:\n"
          ]
        },
        {
          "output_type": "display_data",
          "data": {
            "text/plain": [
              "<IPython.core.display.Math object>"
            ],
            "text/latex": "$\\displaystyle \\begin{cases}x + y = \\text{50,500}\\\\2 x + 3 y = \\text{126,500}\\\\\\end{cases}$"
          },
          "metadata": {}
        },
        {
          "output_type": "stream",
          "name": "stdout",
          "text": [
            "\n",
            "Possibility number-2\n",
            "System of equations with:\n",
            "a = 1, b = 1,\n",
            "c = 3, d = 2,\n",
            "x = 25,000, y = 25,500\n",
            "--------------------------------------------------\n",
            "The system of equations is:\n"
          ]
        },
        {
          "output_type": "display_data",
          "data": {
            "text/plain": [
              "<IPython.core.display.Math object>"
            ],
            "text/latex": "$\\displaystyle \\begin{cases}x + y = \\text{50,500}\\\\3 x + 2 y = \\text{126,000}\\\\\\end{cases}$"
          },
          "metadata": {}
        },
        {
          "output_type": "stream",
          "name": "stdout",
          "text": [
            "\n",
            "Possibility number-3\n",
            "System of equations with:\n",
            "a = 1, b = 2,\n",
            "c = 2, d = 1,\n",
            "x = 25,000, y = 25,500\n",
            "--------------------------------------------------\n",
            "The system of equations is:\n"
          ]
        },
        {
          "output_type": "display_data",
          "data": {
            "text/plain": [
              "<IPython.core.display.Math object>"
            ],
            "text/latex": "$\\displaystyle \\begin{cases}x + 2 y = \\text{76,000}\\\\2 x + y = \\text{75,500}\\\\\\end{cases}$"
          },
          "metadata": {}
        },
        {
          "output_type": "stream",
          "name": "stdout",
          "text": [
            "\n",
            "Possibility number-4\n",
            "System of equations with:\n",
            "a = 1, b = 2,\n",
            "c = 2, d = 3,\n",
            "x = 25,000, y = 25,500\n",
            "--------------------------------------------------\n",
            "The system of equations is:\n"
          ]
        },
        {
          "output_type": "display_data",
          "data": {
            "text/plain": [
              "<IPython.core.display.Math object>"
            ],
            "text/latex": "$\\displaystyle \\begin{cases}x + 2 y = \\text{76,000}\\\\2 x + 3 y = \\text{126,500}\\\\\\end{cases}$"
          },
          "metadata": {}
        },
        {
          "output_type": "stream",
          "name": "stdout",
          "text": [
            "\n",
            "Possibility number-5\n",
            "System of equations with:\n",
            "a = 1, b = 2,\n",
            "c = 3, d = 1,\n",
            "x = 25,000, y = 25,500\n",
            "--------------------------------------------------\n",
            "The system of equations is:\n"
          ]
        },
        {
          "output_type": "display_data",
          "data": {
            "text/plain": [
              "<IPython.core.display.Math object>"
            ],
            "text/latex": "$\\displaystyle \\begin{cases}x + 2 y = \\text{76,000}\\\\3 x + y = \\text{100,500}\\\\\\end{cases}$"
          },
          "metadata": {}
        },
        {
          "output_type": "stream",
          "name": "stdout",
          "text": [
            "\n",
            "Possibility number-6\n",
            "System of equations with:\n",
            "a = 1, b = 2,\n",
            "c = 3, d = 3,\n",
            "x = 25,000, y = 25,500\n",
            "--------------------------------------------------\n",
            "The system of equations is:\n"
          ]
        },
        {
          "output_type": "display_data",
          "data": {
            "text/plain": [
              "<IPython.core.display.Math object>"
            ],
            "text/latex": "$\\displaystyle \\begin{cases}x + 2 y = \\text{76,000}\\\\3 x + 3 y = \\text{151,500}\\\\\\end{cases}$"
          },
          "metadata": {}
        },
        {
          "output_type": "stream",
          "name": "stdout",
          "text": [
            "\n",
            "Possibility number-7\n",
            "System of equations with:\n",
            "a = 1, b = 3,\n",
            "c = 2, d = 1,\n",
            "x = 25,000, y = 25,500\n",
            "--------------------------------------------------\n",
            "The system of equations is:\n"
          ]
        },
        {
          "output_type": "display_data",
          "data": {
            "text/plain": [
              "<IPython.core.display.Math object>"
            ],
            "text/latex": "$\\displaystyle \\begin{cases}x + 3 y = \\text{101,500}\\\\2 x + y = \\text{75,500}\\\\\\end{cases}$"
          },
          "metadata": {}
        },
        {
          "output_type": "stream",
          "name": "stdout",
          "text": [
            "\n",
            "Possibility number-8\n",
            "System of equations with:\n",
            "a = 1, b = 3,\n",
            "c = 2, d = 2,\n",
            "x = 25,000, y = 25,500\n",
            "--------------------------------------------------\n",
            "The system of equations is:\n"
          ]
        },
        {
          "output_type": "display_data",
          "data": {
            "text/plain": [
              "<IPython.core.display.Math object>"
            ],
            "text/latex": "$\\displaystyle \\begin{cases}x + 3 y = \\text{101,500}\\\\2 x + 2 y = \\text{101,000}\\\\\\end{cases}$"
          },
          "metadata": {}
        },
        {
          "output_type": "stream",
          "name": "stdout",
          "text": [
            "\n",
            "Possibility number-9\n",
            "System of equations with:\n",
            "a = 1, b = 3,\n",
            "c = 3, d = 1,\n",
            "x = 25,000, y = 25,500\n",
            "--------------------------------------------------\n",
            "The system of equations is:\n"
          ]
        },
        {
          "output_type": "display_data",
          "data": {
            "text/plain": [
              "<IPython.core.display.Math object>"
            ],
            "text/latex": "$\\displaystyle \\begin{cases}x + 3 y = \\text{101,500}\\\\3 x + y = \\text{100,500}\\\\\\end{cases}$"
          },
          "metadata": {}
        },
        {
          "output_type": "stream",
          "name": "stdout",
          "text": [
            "\n",
            "Possibility number-10\n",
            "System of equations with:\n",
            "a = 1, b = 3,\n",
            "c = 3, d = 2,\n",
            "x = 25,000, y = 25,500\n",
            "--------------------------------------------------\n",
            "The system of equations is:\n"
          ]
        },
        {
          "output_type": "display_data",
          "data": {
            "text/plain": [
              "<IPython.core.display.Math object>"
            ],
            "text/latex": "$\\displaystyle \\begin{cases}x + 3 y = \\text{101,500}\\\\3 x + 2 y = \\text{126,000}\\\\\\end{cases}$"
          },
          "metadata": {}
        },
        {
          "output_type": "stream",
          "name": "stdout",
          "text": [
            "\n",
            "Possibility number-11\n",
            "System of equations with:\n",
            "a = 2, b = 1,\n",
            "c = 1, d = 2,\n",
            "x = 25,000, y = 25,500\n",
            "--------------------------------------------------\n",
            "The system of equations is:\n"
          ]
        },
        {
          "output_type": "display_data",
          "data": {
            "text/plain": [
              "<IPython.core.display.Math object>"
            ],
            "text/latex": "$\\displaystyle \\begin{cases}2 x + y = \\text{75,500}\\\\x + 2 y = \\text{76,000}\\\\\\end{cases}$"
          },
          "metadata": {}
        },
        {
          "output_type": "stream",
          "name": "stdout",
          "text": [
            "\n",
            "Possibility number-12\n",
            "System of equations with:\n",
            "a = 2, b = 1,\n",
            "c = 1, d = 3,\n",
            "x = 25,000, y = 25,500\n",
            "--------------------------------------------------\n",
            "The system of equations is:\n"
          ]
        },
        {
          "output_type": "display_data",
          "data": {
            "text/plain": [
              "<IPython.core.display.Math object>"
            ],
            "text/latex": "$\\displaystyle \\begin{cases}2 x + y = \\text{75,500}\\\\x + 3 y = \\text{101,500}\\\\\\end{cases}$"
          },
          "metadata": {}
        },
        {
          "output_type": "stream",
          "name": "stdout",
          "text": [
            "\n",
            "Possibility number-13\n",
            "System of equations with:\n",
            "a = 2, b = 1,\n",
            "c = 3, d = 2,\n",
            "x = 25,000, y = 25,500\n",
            "--------------------------------------------------\n",
            "The system of equations is:\n"
          ]
        },
        {
          "output_type": "display_data",
          "data": {
            "text/plain": [
              "<IPython.core.display.Math object>"
            ],
            "text/latex": "$\\displaystyle \\begin{cases}2 x + y = \\text{75,500}\\\\3 x + 2 y = \\text{126,000}\\\\\\end{cases}$"
          },
          "metadata": {}
        },
        {
          "output_type": "stream",
          "name": "stdout",
          "text": [
            "\n",
            "Possibility number-14\n",
            "System of equations with:\n",
            "a = 2, b = 1,\n",
            "c = 3, d = 3,\n",
            "x = 25,000, y = 25,500\n",
            "--------------------------------------------------\n",
            "The system of equations is:\n"
          ]
        },
        {
          "output_type": "display_data",
          "data": {
            "text/plain": [
              "<IPython.core.display.Math object>"
            ],
            "text/latex": "$\\displaystyle \\begin{cases}2 x + y = \\text{75,500}\\\\3 x + 3 y = \\text{151,500}\\\\\\end{cases}$"
          },
          "metadata": {}
        },
        {
          "output_type": "stream",
          "name": "stdout",
          "text": [
            "\n",
            "Possibility number-15\n",
            "System of equations with:\n",
            "a = 2, b = 2,\n",
            "c = 1, d = 3,\n",
            "x = 25,000, y = 25,500\n",
            "--------------------------------------------------\n",
            "The system of equations is:\n"
          ]
        },
        {
          "output_type": "display_data",
          "data": {
            "text/plain": [
              "<IPython.core.display.Math object>"
            ],
            "text/latex": "$\\displaystyle \\begin{cases}2 x + 2 y = \\text{101,000}\\\\x + 3 y = \\text{101,500}\\\\\\end{cases}$"
          },
          "metadata": {}
        },
        {
          "output_type": "stream",
          "name": "stdout",
          "text": [
            "\n",
            "Possibility number-16\n",
            "System of equations with:\n",
            "a = 2, b = 2,\n",
            "c = 3, d = 1,\n",
            "x = 25,000, y = 25,500\n",
            "--------------------------------------------------\n",
            "The system of equations is:\n"
          ]
        },
        {
          "output_type": "display_data",
          "data": {
            "text/plain": [
              "<IPython.core.display.Math object>"
            ],
            "text/latex": "$\\displaystyle \\begin{cases}2 x + 2 y = \\text{101,000}\\\\3 x + y = \\text{100,500}\\\\\\end{cases}$"
          },
          "metadata": {}
        },
        {
          "output_type": "stream",
          "name": "stdout",
          "text": [
            "\n",
            "Possibility number-17\n",
            "System of equations with:\n",
            "a = 2, b = 3,\n",
            "c = 1, d = 1,\n",
            "x = 25,000, y = 25,500\n",
            "--------------------------------------------------\n",
            "The system of equations is:\n"
          ]
        },
        {
          "output_type": "display_data",
          "data": {
            "text/plain": [
              "<IPython.core.display.Math object>"
            ],
            "text/latex": "$\\displaystyle \\begin{cases}2 x + 3 y = \\text{126,500}\\\\x + y = \\text{50,500}\\\\\\end{cases}$"
          },
          "metadata": {}
        },
        {
          "output_type": "stream",
          "name": "stdout",
          "text": [
            "\n",
            "Possibility number-18\n",
            "System of equations with:\n",
            "a = 2, b = 3,\n",
            "c = 1, d = 2,\n",
            "x = 25,000, y = 25,500\n",
            "--------------------------------------------------\n",
            "The system of equations is:\n"
          ]
        },
        {
          "output_type": "display_data",
          "data": {
            "text/plain": [
              "<IPython.core.display.Math object>"
            ],
            "text/latex": "$\\displaystyle \\begin{cases}2 x + 3 y = \\text{126,500}\\\\x + 2 y = \\text{76,000}\\\\\\end{cases}$"
          },
          "metadata": {}
        },
        {
          "output_type": "stream",
          "name": "stdout",
          "text": [
            "\n",
            "Possibility number-19\n",
            "System of equations with:\n",
            "a = 2, b = 3,\n",
            "c = 3, d = 1,\n",
            "x = 25,000, y = 25,500\n",
            "--------------------------------------------------\n",
            "The system of equations is:\n"
          ]
        },
        {
          "output_type": "display_data",
          "data": {
            "text/plain": [
              "<IPython.core.display.Math object>"
            ],
            "text/latex": "$\\displaystyle \\begin{cases}2 x + 3 y = \\text{126,500}\\\\3 x + y = \\text{100,500}\\\\\\end{cases}$"
          },
          "metadata": {}
        },
        {
          "output_type": "stream",
          "name": "stdout",
          "text": [
            "\n",
            "Possibility number-20\n",
            "System of equations with:\n",
            "a = 2, b = 3,\n",
            "c = 3, d = 2,\n",
            "x = 25,000, y = 25,500\n",
            "--------------------------------------------------\n",
            "The system of equations is:\n"
          ]
        },
        {
          "output_type": "display_data",
          "data": {
            "text/plain": [
              "<IPython.core.display.Math object>"
            ],
            "text/latex": "$\\displaystyle \\begin{cases}2 x + 3 y = \\text{126,500}\\\\3 x + 2 y = \\text{126,000}\\\\\\end{cases}$"
          },
          "metadata": {}
        },
        {
          "output_type": "stream",
          "name": "stdout",
          "text": [
            "\n",
            "Possibility number-21\n",
            "System of equations with:\n",
            "a = 3, b = 1,\n",
            "c = 1, d = 2,\n",
            "x = 25,000, y = 25,500\n",
            "--------------------------------------------------\n",
            "The system of equations is:\n"
          ]
        },
        {
          "output_type": "display_data",
          "data": {
            "text/plain": [
              "<IPython.core.display.Math object>"
            ],
            "text/latex": "$\\displaystyle \\begin{cases}3 x + y = \\text{100,500}\\\\x + 2 y = \\text{76,000}\\\\\\end{cases}$"
          },
          "metadata": {}
        },
        {
          "output_type": "stream",
          "name": "stdout",
          "text": [
            "\n",
            "Possibility number-22\n",
            "System of equations with:\n",
            "a = 3, b = 1,\n",
            "c = 1, d = 3,\n",
            "x = 25,000, y = 25,500\n",
            "--------------------------------------------------\n",
            "The system of equations is:\n"
          ]
        },
        {
          "output_type": "display_data",
          "data": {
            "text/plain": [
              "<IPython.core.display.Math object>"
            ],
            "text/latex": "$\\displaystyle \\begin{cases}3 x + y = \\text{100,500}\\\\x + 3 y = \\text{101,500}\\\\\\end{cases}$"
          },
          "metadata": {}
        },
        {
          "output_type": "stream",
          "name": "stdout",
          "text": [
            "\n",
            "Possibility number-23\n",
            "System of equations with:\n",
            "a = 3, b = 1,\n",
            "c = 2, d = 2,\n",
            "x = 25,000, y = 25,500\n",
            "--------------------------------------------------\n",
            "The system of equations is:\n"
          ]
        },
        {
          "output_type": "display_data",
          "data": {
            "text/plain": [
              "<IPython.core.display.Math object>"
            ],
            "text/latex": "$\\displaystyle \\begin{cases}3 x + y = \\text{100,500}\\\\2 x + 2 y = \\text{101,000}\\\\\\end{cases}$"
          },
          "metadata": {}
        },
        {
          "output_type": "stream",
          "name": "stdout",
          "text": [
            "\n",
            "Possibility number-24\n",
            "System of equations with:\n",
            "a = 3, b = 1,\n",
            "c = 2, d = 3,\n",
            "x = 25,000, y = 25,500\n",
            "--------------------------------------------------\n",
            "The system of equations is:\n"
          ]
        },
        {
          "output_type": "display_data",
          "data": {
            "text/plain": [
              "<IPython.core.display.Math object>"
            ],
            "text/latex": "$\\displaystyle \\begin{cases}3 x + y = \\text{100,500}\\\\2 x + 3 y = \\text{126,500}\\\\\\end{cases}$"
          },
          "metadata": {}
        },
        {
          "output_type": "stream",
          "name": "stdout",
          "text": [
            "\n",
            "Possibility number-25\n",
            "System of equations with:\n",
            "a = 3, b = 2,\n",
            "c = 1, d = 1,\n",
            "x = 25,000, y = 25,500\n",
            "--------------------------------------------------\n",
            "The system of equations is:\n"
          ]
        },
        {
          "output_type": "display_data",
          "data": {
            "text/plain": [
              "<IPython.core.display.Math object>"
            ],
            "text/latex": "$\\displaystyle \\begin{cases}3 x + 2 y = \\text{126,000}\\\\x + y = \\text{50,500}\\\\\\end{cases}$"
          },
          "metadata": {}
        },
        {
          "output_type": "stream",
          "name": "stdout",
          "text": [
            "\n",
            "Possibility number-26\n",
            "System of equations with:\n",
            "a = 3, b = 2,\n",
            "c = 1, d = 3,\n",
            "x = 25,000, y = 25,500\n",
            "--------------------------------------------------\n",
            "The system of equations is:\n"
          ]
        },
        {
          "output_type": "display_data",
          "data": {
            "text/plain": [
              "<IPython.core.display.Math object>"
            ],
            "text/latex": "$\\displaystyle \\begin{cases}3 x + 2 y = \\text{126,000}\\\\x + 3 y = \\text{101,500}\\\\\\end{cases}$"
          },
          "metadata": {}
        },
        {
          "output_type": "stream",
          "name": "stdout",
          "text": [
            "\n",
            "Possibility number-27\n",
            "System of equations with:\n",
            "a = 3, b = 2,\n",
            "c = 2, d = 1,\n",
            "x = 25,000, y = 25,500\n",
            "--------------------------------------------------\n",
            "The system of equations is:\n"
          ]
        },
        {
          "output_type": "display_data",
          "data": {
            "text/plain": [
              "<IPython.core.display.Math object>"
            ],
            "text/latex": "$\\displaystyle \\begin{cases}3 x + 2 y = \\text{126,000}\\\\2 x + y = \\text{75,500}\\\\\\end{cases}$"
          },
          "metadata": {}
        },
        {
          "output_type": "stream",
          "name": "stdout",
          "text": [
            "\n",
            "Possibility number-28\n",
            "System of equations with:\n",
            "a = 3, b = 2,\n",
            "c = 2, d = 3,\n",
            "x = 25,000, y = 25,500\n",
            "--------------------------------------------------\n",
            "The system of equations is:\n"
          ]
        },
        {
          "output_type": "display_data",
          "data": {
            "text/plain": [
              "<IPython.core.display.Math object>"
            ],
            "text/latex": "$\\displaystyle \\begin{cases}3 x + 2 y = \\text{126,000}\\\\2 x + 3 y = \\text{126,500}\\\\\\end{cases}$"
          },
          "metadata": {}
        },
        {
          "output_type": "stream",
          "name": "stdout",
          "text": [
            "\n",
            "Possibility number-29\n",
            "System of equations with:\n",
            "a = 3, b = 3,\n",
            "c = 1, d = 2,\n",
            "x = 25,000, y = 25,500\n",
            "--------------------------------------------------\n",
            "The system of equations is:\n"
          ]
        },
        {
          "output_type": "display_data",
          "data": {
            "text/plain": [
              "<IPython.core.display.Math object>"
            ],
            "text/latex": "$\\displaystyle \\begin{cases}3 x + 3 y = \\text{151,500}\\\\x + 2 y = \\text{76,000}\\\\\\end{cases}$"
          },
          "metadata": {}
        },
        {
          "output_type": "stream",
          "name": "stdout",
          "text": [
            "\n",
            "Possibility number-30\n",
            "System of equations with:\n",
            "a = 3, b = 3,\n",
            "c = 2, d = 1,\n",
            "x = 25,000, y = 25,500\n",
            "--------------------------------------------------\n",
            "The system of equations is:\n"
          ]
        },
        {
          "output_type": "display_data",
          "data": {
            "text/plain": [
              "<IPython.core.display.Math object>"
            ],
            "text/latex": "$\\displaystyle \\begin{cases}3 x + 3 y = \\text{151,500}\\\\2 x + y = \\text{75,500}\\\\\\end{cases}$"
          },
          "metadata": {}
        }
      ]
    },
    {
      "cell_type": "code",
      "source": [
        "# Terminal version\n",
        "\n",
        "def sle2v_frac_ter(x, y, a, b):\n",
        "    print(\"General form:\")\n",
        "    print(\"A/x + B/y = k1\")\n",
        "    print(\"C/x + D/y = k2\")\n",
        "    print(\"=\" * 50)\n",
        "    print()\n",
        "\n",
        "    def find_solutions():\n",
        "        temp_solutions = []\n",
        "        for A in range(1, 21):\n",
        "            for B in range(1, 21):\n",
        "                if A / x + B / y == a and A != B:  # 💡 Additional condition: A ≠ B\n",
        "                    for C in range(1, 21):\n",
        "                        for D in range(1, 21):\n",
        "                            if C / x + D / y == b and C != D:  # 💡 Additional condition: C ≠ D\n",
        "                                if (A, B) != (C, D):\n",
        "                                    temp_solutions.append((A, B, C, D))\n",
        "        return temp_solutions\n",
        "\n",
        "    solutions = find_solutions()\n",
        "\n",
        "    if solutions:\n",
        "        for i, sol in enumerate(solutions, 1):\n",
        "            A, B, C, D = sol\n",
        "            print(f\"Possibility number-{i}:\")\n",
        "            print(f\"A = {A}, B = {B}\")\n",
        "            print(f\"C = {C}, D = {D}\")\n",
        "            print(\"=\" * 50)\n",
        "            print(\"The resulting system of equations is:\")\n",
        "            print(f\"Equation 1: {A}/x + {B}/y = {a}\")\n",
        "            print(f\"Equation 2: {C}/x + {D}/y = {b}\\n\")\n",
        "    else:\n",
        "        print(\"No solutions found.\")\n",
        "\n",
        "# Test the function\n",
        "sle2v_frac_ter(10, 15, 1, 1)\n"
      ],
      "metadata": {
        "colab": {
          "base_uri": "https://localhost:8080/"
        },
        "id": "i3fIS5ikLCAx",
        "outputId": "d168f148-a6bb-44fa-b523-db0d04ed238e"
      },
      "execution_count": 8,
      "outputs": [
        {
          "output_type": "stream",
          "name": "stdout",
          "text": [
            "General form:\n",
            "A/x + B/y = k1\n",
            "C/x + D/y = k2\n",
            "==================================================\n",
            "\n",
            "Possibility number-1:\n",
            "A = 2, B = 12\n",
            "C = 4, D = 9\n",
            "==================================================\n",
            "The resulting system of equations is:\n",
            "Equation 1: 2/x + 12/y = 1\n",
            "Equation 2: 4/x + 9/y = 1\n",
            "\n",
            "Possibility number-2:\n",
            "A = 2, B = 12\n",
            "C = 8, D = 3\n",
            "==================================================\n",
            "The resulting system of equations is:\n",
            "Equation 1: 2/x + 12/y = 1\n",
            "Equation 2: 8/x + 3/y = 1\n",
            "\n",
            "Possibility number-3:\n",
            "A = 4, B = 9\n",
            "C = 2, D = 12\n",
            "==================================================\n",
            "The resulting system of equations is:\n",
            "Equation 1: 4/x + 9/y = 1\n",
            "Equation 2: 2/x + 12/y = 1\n",
            "\n",
            "Possibility number-4:\n",
            "A = 4, B = 9\n",
            "C = 8, D = 3\n",
            "==================================================\n",
            "The resulting system of equations is:\n",
            "Equation 1: 4/x + 9/y = 1\n",
            "Equation 2: 8/x + 3/y = 1\n",
            "\n",
            "Possibility number-5:\n",
            "A = 8, B = 3\n",
            "C = 2, D = 12\n",
            "==================================================\n",
            "The resulting system of equations is:\n",
            "Equation 1: 8/x + 3/y = 1\n",
            "Equation 2: 2/x + 12/y = 1\n",
            "\n",
            "Possibility number-6:\n",
            "A = 8, B = 3\n",
            "C = 4, D = 9\n",
            "==================================================\n",
            "The resulting system of equations is:\n",
            "Equation 1: 8/x + 3/y = 1\n",
            "Equation 2: 4/x + 9/y = 1\n",
            "\n"
          ]
        }
      ]
    },
    {
      "cell_type": "code",
      "source": [
        "# Jupyter version\n",
        "\n",
        "from sympy import symbols, Eq, latex, Rational\n",
        "from IPython.display import display, Math\n",
        "\n",
        "def sle2v_frac_jup(x_val, y_val, a, b):\n",
        "    x, y = symbols('x y')\n",
        "\n",
        "    print(\"General form:\")\n",
        "    display(Math(\n",
        "        r\"\\begin{cases}\"\n",
        "        r\"\\dfrac{A}{x} + \\dfrac{B}{y} = k_1 \\\\\" +\n",
        "        r\"\\dfrac{C}{x} + \\dfrac{D}{y} = k_2\"\n",
        "        r\"\\end{cases}\"\n",
        "    ))\n",
        "\n",
        "    print(\"=\" * 50)\n",
        "    print()\n",
        "\n",
        "    def find_solutions():\n",
        "        temp_solutions = []\n",
        "        for A in range(1, 21):\n",
        "            for B in range(1, 21):\n",
        "                if A / x_val + B / y_val == a and A != B:  # 💡 Condition: A ≠ B\n",
        "                    for C in range(1, 21):\n",
        "                        for D in range(1, 21):\n",
        "                            if C / x_val + D / y_val == b and C != D:  # 💡 Condition: C ≠ D\n",
        "                                if (A, B) != (C, D):\n",
        "                                    temp_solutions.append((A, B, C, D))\n",
        "        return temp_solutions\n",
        "\n",
        "    solutions = find_solutions()\n",
        "\n",
        "    if solutions:\n",
        "        for i, sol in enumerate(solutions, 1):\n",
        "            A, B, C, D = sol\n",
        "            print(f\"Possibility number-{i}:\")\n",
        "            print(f\"A = {A}, B = {B}\")\n",
        "            print(f\"C = {C}, D = {D}\")\n",
        "            print(\"=\" * 50)\n",
        "            print(\"SLE2V in fractional form:\")\n",
        "\n",
        "            # Create equations in fractional form\n",
        "            eq1 = Eq(Rational(A, 1)/x + Rational(B, 1)/y, a)\n",
        "            eq2 = Eq(Rational(C, 1)/x + Rational(D, 1)/y, b)\n",
        "\n",
        "            # Display as LaTeX\n",
        "            display(Math(\n",
        "                r\"\\begin{cases}\" +\n",
        "                r\"\\displaystyle \" + latex(eq1) + r\"\\\\\" +\n",
        "                r\"\\displaystyle \" + latex(eq2) +\n",
        "                r\"\\end{cases}\"\n",
        "            ))\n",
        "\n",
        "            print()\n",
        "    else:\n",
        "        print(\"No solutions found.\")\n",
        "\n",
        "# Test the function\n",
        "sle2v_frac_jup(10, 15, 1, 1)\n"
      ],
      "metadata": {
        "colab": {
          "base_uri": "https://localhost:8080/",
          "height": 1000
        },
        "id": "AkMCGK0ryPr4",
        "outputId": "03868be3-dd79-44ec-9032-07e07d746f98"
      },
      "execution_count": 9,
      "outputs": [
        {
          "output_type": "stream",
          "name": "stdout",
          "text": [
            "General form:\n"
          ]
        },
        {
          "output_type": "display_data",
          "data": {
            "text/plain": [
              "<IPython.core.display.Math object>"
            ],
            "text/latex": "$\\displaystyle \\begin{cases}\\dfrac{A}{x} + \\dfrac{B}{y} = k_1 \\\\\\dfrac{C}{x} + \\dfrac{D}{y} = k_2\\end{cases}$"
          },
          "metadata": {}
        },
        {
          "output_type": "stream",
          "name": "stdout",
          "text": [
            "==================================================\n",
            "\n",
            "Possibility number-1:\n",
            "A = 2, B = 12\n",
            "C = 4, D = 9\n",
            "==================================================\n",
            "SLE2V in fractional form:\n"
          ]
        },
        {
          "output_type": "display_data",
          "data": {
            "text/plain": [
              "<IPython.core.display.Math object>"
            ],
            "text/latex": "$\\displaystyle \\begin{cases}\\displaystyle \\frac{12}{y} + \\frac{2}{x} = 1\\\\\\displaystyle \\frac{9}{y} + \\frac{4}{x} = 1\\end{cases}$"
          },
          "metadata": {}
        },
        {
          "output_type": "stream",
          "name": "stdout",
          "text": [
            "\n",
            "Possibility number-2:\n",
            "A = 2, B = 12\n",
            "C = 8, D = 3\n",
            "==================================================\n",
            "SLE2V in fractional form:\n"
          ]
        },
        {
          "output_type": "display_data",
          "data": {
            "text/plain": [
              "<IPython.core.display.Math object>"
            ],
            "text/latex": "$\\displaystyle \\begin{cases}\\displaystyle \\frac{12}{y} + \\frac{2}{x} = 1\\\\\\displaystyle \\frac{3}{y} + \\frac{8}{x} = 1\\end{cases}$"
          },
          "metadata": {}
        },
        {
          "output_type": "stream",
          "name": "stdout",
          "text": [
            "\n",
            "Possibility number-3:\n",
            "A = 4, B = 9\n",
            "C = 2, D = 12\n",
            "==================================================\n",
            "SLE2V in fractional form:\n"
          ]
        },
        {
          "output_type": "display_data",
          "data": {
            "text/plain": [
              "<IPython.core.display.Math object>"
            ],
            "text/latex": "$\\displaystyle \\begin{cases}\\displaystyle \\frac{9}{y} + \\frac{4}{x} = 1\\\\\\displaystyle \\frac{12}{y} + \\frac{2}{x} = 1\\end{cases}$"
          },
          "metadata": {}
        },
        {
          "output_type": "stream",
          "name": "stdout",
          "text": [
            "\n",
            "Possibility number-4:\n",
            "A = 4, B = 9\n",
            "C = 8, D = 3\n",
            "==================================================\n",
            "SLE2V in fractional form:\n"
          ]
        },
        {
          "output_type": "display_data",
          "data": {
            "text/plain": [
              "<IPython.core.display.Math object>"
            ],
            "text/latex": "$\\displaystyle \\begin{cases}\\displaystyle \\frac{9}{y} + \\frac{4}{x} = 1\\\\\\displaystyle \\frac{3}{y} + \\frac{8}{x} = 1\\end{cases}$"
          },
          "metadata": {}
        },
        {
          "output_type": "stream",
          "name": "stdout",
          "text": [
            "\n",
            "Possibility number-5:\n",
            "A = 8, B = 3\n",
            "C = 2, D = 12\n",
            "==================================================\n",
            "SLE2V in fractional form:\n"
          ]
        },
        {
          "output_type": "display_data",
          "data": {
            "text/plain": [
              "<IPython.core.display.Math object>"
            ],
            "text/latex": "$\\displaystyle \\begin{cases}\\displaystyle \\frac{3}{y} + \\frac{8}{x} = 1\\\\\\displaystyle \\frac{12}{y} + \\frac{2}{x} = 1\\end{cases}$"
          },
          "metadata": {}
        },
        {
          "output_type": "stream",
          "name": "stdout",
          "text": [
            "\n",
            "Possibility number-6:\n",
            "A = 8, B = 3\n",
            "C = 4, D = 9\n",
            "==================================================\n",
            "SLE2V in fractional form:\n"
          ]
        },
        {
          "output_type": "display_data",
          "data": {
            "text/plain": [
              "<IPython.core.display.Math object>"
            ],
            "text/latex": "$\\displaystyle \\begin{cases}\\displaystyle \\frac{3}{y} + \\frac{8}{x} = 1\\\\\\displaystyle \\frac{9}{y} + \\frac{4}{x} = 1\\end{cases}$"
          },
          "metadata": {}
        },
        {
          "output_type": "stream",
          "name": "stdout",
          "text": [
            "\n"
          ]
        }
      ]
    }
  ]
}