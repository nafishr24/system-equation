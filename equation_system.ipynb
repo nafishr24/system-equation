{
  "nbformat": 4,
  "nbformat_minor": 0,
  "metadata": {
    "colab": {
      "provenance": []
    },
    "kernelspec": {
      "name": "python3",
      "display_name": "Python 3"
    },
    "language_info": {
      "name": "python"
    }
  },
  "cells": [
    {
      "cell_type": "code",
      "execution_count": null,
      "metadata": {
        "id": "6L6_mvLJ_tyy"
      },
      "outputs": [],
      "source": [
        "from itertools import product\n",
        "from fractions import Fraction\n",
        "from sympy import symbols, Eq, latex\n",
        "from IPython.display import display, Math\n",
        "\n",
        "def is_multiple(row1, row2):\n",
        "    try:\n",
        "        ratios = [Fraction(r2, r1) for r1, r2 in zip(row1, row2) if r1 != 0]\n",
        "        return all(r == ratios[0] for r in ratios) and len(ratios) == len(row1)\n",
        "    except ZeroDivisionError:\n",
        "        return False\n",
        "\n",
        "def sle(coeff_matrix, var_values, max_possibilities=10000):\n",
        "    num_eqs = len(coeff_matrix)\n",
        "    num_vars = len(coeff_matrix[0])\n",
        "    var_symbols = symbols(f'x1:{num_vars+1}')\n",
        "    t = 0\n",
        "    printed_systems = set()\n",
        "\n",
        "    print(f\"System with {num_vars} variables and {num_eqs} equations:\\n\")\n",
        "\n",
        "    coeff_combinations = list(product(*[product(*row) for row in coeff_matrix]))\n",
        "\n",
        "    for coeff_tuple in coeff_combinations:\n",
        "        matrix = [list(coeff_tuple[i]) for i in range(len(coeff_tuple))]\n",
        "\n",
        "        if not all(len(row) == num_vars for row in matrix):\n",
        "            continue\n",
        "        if any(matrix[i] == matrix[j] for i in range(num_eqs) for j in range(i+1, num_eqs)):\n",
        "            continue\n",
        "        skip = False\n",
        "        for i in range(num_eqs):\n",
        "            for j in range(i+1, num_eqs):\n",
        "                if is_multiple(matrix[i], matrix[j]):\n",
        "                    skip = True\n",
        "                    break\n",
        "            if skip:\n",
        "                break\n",
        "        if skip:\n",
        "            continue\n",
        "        columns = list(zip(*matrix))\n",
        "        if any(len(set(col)) < len(col) for col in columns):\n",
        "            continue\n",
        "\n",
        "        for values in product(*var_values):\n",
        "            rhs = [sum(c*v for c, v in zip(row, values)) for row in matrix]\n",
        "            system_key = tuple((tuple(row), rhs[i]) for i, row in enumerate(matrix))\n",
        "            if system_key in printed_systems:\n",
        "                continue\n",
        "            printed_systems.add(system_key)\n",
        "\n",
        "            if rhs == [10, 23] and matrix == [[1, 3], [5, 6]]:\n",
        "                continue\n",
        "\n",
        "            t += 1\n",
        "            print(f\"\\nPossibility #{t}\")\n",
        "            print(\"The system of equations is:\")\n",
        "            print(\"=\"*40)\n",
        "\n",
        "            # 💡 Display coefficient values (a_{i,j})\n",
        "            coeff_latex_lines = []\n",
        "            for i, row in enumerate(matrix):\n",
        "                line = \" , \".join(\n",
        "                    f\"a_{{{i+1},{j+1}}} = {row[j]}\" for j in range(len(row))\n",
        "                )\n",
        "                coeff_latex_lines.append(line)\n",
        "\n",
        "            # 💡 Display variable values (x_j = value)\n",
        "            var_value_line = \" , \".join(\n",
        "                f\"x_{{{j+1}}} = {values[j]}\" for j in range(len(values))\n",
        "            )\n",
        "\n",
        "            # 📐 Display equations\n",
        "            eq_lines = [\n",
        "                f\"{latex(sum(c*v for c, v in zip(row, var_symbols)))} = {latex('{:,}'.format(rhs[i]))}\"\n",
        "                for i, row in enumerate(matrix)\n",
        "            ]\n",
        "            latex_system = r\"\\begin{cases}\" + r\"\\\\\".join(eq_lines) + r\"\\end{cases}\"\n",
        "\n",
        "            # 🧾 Display full LaTeX block\n",
        "            full_latex = (\n",
        "                r\"\\textbf{Coefficient Values:}\\\\\"\n",
        "                + r\"\\\\\".join(coeff_latex_lines)\n",
        "                + r\"\\\\[1em]\"\n",
        "                + r\"\\textbf{Variable Values:}\\\\\"\n",
        "                + var_value_line\n",
        "                + r\"\\\\[1em]\"\n",
        "                + latex_system\n",
        "            )\n",
        "            display(Math(full_latex))\n",
        "\n",
        "            if t >= max_possibilities:\n",
        "                print(\"\\nMaximum number of possibilities reached.\")\n",
        "                return\n"
      ]
    },
    {
      "cell_type": "code",
      "source": [
        "coeff_matrix_example = [\n",
        "    [[1, 2, 3], [1, 2, 3], [1, 2, 3]],\n",
        "    [[1, 2, 3], [1, 2, 3], [1, 2, 3]],\n",
        "    [[1, 2, 3], [1, 2, 3], [1, 2, 3]]\n",
        "]\n",
        "\n",
        "var_values_example = [\n",
        "    [25000],\n",
        "    [25500],\n",
        "    [26000]\n",
        "]\n",
        "\n",
        "sle(coeff_matrix_example, var_values_example)\n"
      ],
      "metadata": {
        "colab": {
          "base_uri": "https://localhost:8080/",
          "height": 1000
        },
        "id": "aLV1J352_1-M",
        "outputId": "fc4d348c-4b28-4f03-8563-e050f12814b6"
      },
      "execution_count": 30,
      "outputs": [
        {
          "output_type": "stream",
          "name": "stdout",
          "text": [
            "System with 3 variables and 3 equations:\n",
            "\n",
            "\n",
            "Possibility #1\n",
            "The system of equations is:\n",
            "========================================\n"
          ]
        },
        {
          "output_type": "display_data",
          "data": {
            "text/plain": [
              "<IPython.core.display.Math object>"
            ],
            "text/latex": "$\\displaystyle \\textbf{Coefficient Values:}\\\\a_{1,1} = 1 , a_{1,2} = 1 , a_{1,3} = 1\\\\a_{2,1} = 2 , a_{2,2} = 2 , a_{2,3} = 3\\\\a_{3,1} = 3 , a_{3,2} = 3 , a_{3,3} = 2\\\\[1em]\\textbf{Variable Values:}\\\\x_{1} = 25000 , x_{2} = 25500 , x_{3} = 26000\\\\[1em]\\begin{cases}x_{1} + x_{2} + x_{3} = \\mathtt{\\text{76,500}}\\\\2 x_{1} + 2 x_{2} + 3 x_{3} = \\mathtt{\\text{179,000}}\\\\3 x_{1} + 3 x_{2} + 2 x_{3} = \\mathtt{\\text{203,500}}\\end{cases}$"
          },
          "metadata": {}
        },
        {
          "output_type": "stream",
          "name": "stdout",
          "text": [
            "\n",
            "Possibility #2\n",
            "The system of equations is:\n",
            "========================================\n"
          ]
        },
        {
          "output_type": "display_data",
          "data": {
            "text/plain": [
              "<IPython.core.display.Math object>"
            ],
            "text/latex": "$\\displaystyle \\textbf{Coefficient Values:}\\\\a_{1,1} = 1 , a_{1,2} = 1 , a_{1,3} = 1\\\\a_{2,1} = 2 , a_{2,2} = 3 , a_{2,3} = 2\\\\a_{3,1} = 3 , a_{3,2} = 2 , a_{3,3} = 3\\\\[1em]\\textbf{Variable Values:}\\\\x_{1} = 25000 , x_{2} = 25500 , x_{3} = 26000\\\\[1em]\\begin{cases}x_{1} + x_{2} + x_{3} = \\mathtt{\\text{76,500}}\\\\2 x_{1} + 3 x_{2} + 2 x_{3} = \\mathtt{\\text{178,500}}\\\\3 x_{1} + 2 x_{2} + 3 x_{3} = \\mathtt{\\text{204,000}}\\end{cases}$"
          },
          "metadata": {}
        },
        {
          "output_type": "stream",
          "name": "stdout",
          "text": [
            "\n",
            "Possibility #3\n",
            "The system of equations is:\n",
            "========================================\n"
          ]
        },
        {
          "output_type": "display_data",
          "data": {
            "text/plain": [
              "<IPython.core.display.Math object>"
            ],
            "text/latex": "$\\displaystyle \\textbf{Coefficient Values:}\\\\a_{1,1} = 1 , a_{1,2} = 1 , a_{1,3} = 1\\\\a_{2,1} = 2 , a_{2,2} = 3 , a_{2,3} = 3\\\\a_{3,1} = 3 , a_{3,2} = 2 , a_{3,3} = 2\\\\[1em]\\textbf{Variable Values:}\\\\x_{1} = 25000 , x_{2} = 25500 , x_{3} = 26000\\\\[1em]\\begin{cases}x_{1} + x_{2} + x_{3} = \\mathtt{\\text{76,500}}\\\\2 x_{1} + 3 x_{2} + 3 x_{3} = \\mathtt{\\text{204,500}}\\\\3 x_{1} + 2 x_{2} + 2 x_{3} = \\mathtt{\\text{178,000}}\\end{cases}$"
          },
          "metadata": {}
        },
        {
          "output_type": "stream",
          "name": "stdout",
          "text": [
            "\n",
            "Possibility #4\n",
            "The system of equations is:\n",
            "========================================\n"
          ]
        },
        {
          "output_type": "display_data",
          "data": {
            "text/plain": [
              "<IPython.core.display.Math object>"
            ],
            "text/latex": "$\\displaystyle \\textbf{Coefficient Values:}\\\\a_{1,1} = 1 , a_{1,2} = 1 , a_{1,3} = 1\\\\a_{2,1} = 3 , a_{2,2} = 2 , a_{2,3} = 2\\\\a_{3,1} = 2 , a_{3,2} = 3 , a_{3,3} = 3\\\\[1em]\\textbf{Variable Values:}\\\\x_{1} = 25000 , x_{2} = 25500 , x_{3} = 26000\\\\[1em]\\begin{cases}x_{1} + x_{2} + x_{3} = \\mathtt{\\text{76,500}}\\\\3 x_{1} + 2 x_{2} + 2 x_{3} = \\mathtt{\\text{178,000}}\\\\2 x_{1} + 3 x_{2} + 3 x_{3} = \\mathtt{\\text{204,500}}\\end{cases}$"
          },
          "metadata": {}
        },
        {
          "output_type": "stream",
          "name": "stdout",
          "text": [
            "\n",
            "Possibility #5\n",
            "The system of equations is:\n",
            "========================================\n"
          ]
        },
        {
          "output_type": "display_data",
          "data": {
            "text/plain": [
              "<IPython.core.display.Math object>"
            ],
            "text/latex": "$\\displaystyle \\textbf{Coefficient Values:}\\\\a_{1,1} = 1 , a_{1,2} = 1 , a_{1,3} = 1\\\\a_{2,1} = 3 , a_{2,2} = 2 , a_{2,3} = 3\\\\a_{3,1} = 2 , a_{3,2} = 3 , a_{3,3} = 2\\\\[1em]\\textbf{Variable Values:}\\\\x_{1} = 25000 , x_{2} = 25500 , x_{3} = 26000\\\\[1em]\\begin{cases}x_{1} + x_{2} + x_{3} = \\mathtt{\\text{76,500}}\\\\3 x_{1} + 2 x_{2} + 3 x_{3} = \\mathtt{\\text{204,000}}\\\\2 x_{1} + 3 x_{2} + 2 x_{3} = \\mathtt{\\text{178,500}}\\end{cases}$"
          },
          "metadata": {}
        },
        {
          "output_type": "stream",
          "name": "stdout",
          "text": [
            "\n",
            "Possibility #6\n",
            "The system of equations is:\n",
            "========================================\n"
          ]
        },
        {
          "output_type": "display_data",
          "data": {
            "text/plain": [
              "<IPython.core.display.Math object>"
            ],
            "text/latex": "$\\displaystyle \\textbf{Coefficient Values:}\\\\a_{1,1} = 1 , a_{1,2} = 1 , a_{1,3} = 1\\\\a_{2,1} = 3 , a_{2,2} = 3 , a_{2,3} = 2\\\\a_{3,1} = 2 , a_{3,2} = 2 , a_{3,3} = 3\\\\[1em]\\textbf{Variable Values:}\\\\x_{1} = 25000 , x_{2} = 25500 , x_{3} = 26000\\\\[1em]\\begin{cases}x_{1} + x_{2} + x_{3} = \\mathtt{\\text{76,500}}\\\\3 x_{1} + 3 x_{2} + 2 x_{3} = \\mathtt{\\text{203,500}}\\\\2 x_{1} + 2 x_{2} + 3 x_{3} = \\mathtt{\\text{179,000}}\\end{cases}$"
          },
          "metadata": {}
        },
        {
          "output_type": "stream",
          "name": "stdout",
          "text": [
            "\n",
            "Possibility #7\n",
            "The system of equations is:\n",
            "========================================\n"
          ]
        },
        {
          "output_type": "display_data",
          "data": {
            "text/plain": [
              "<IPython.core.display.Math object>"
            ],
            "text/latex": "$\\displaystyle \\textbf{Coefficient Values:}\\\\a_{1,1} = 1 , a_{1,2} = 1 , a_{1,3} = 2\\\\a_{2,1} = 2 , a_{2,2} = 2 , a_{2,3} = 1\\\\a_{3,1} = 3 , a_{3,2} = 3 , a_{3,3} = 3\\\\[1em]\\textbf{Variable Values:}\\\\x_{1} = 25000 , x_{2} = 25500 , x_{3} = 26000\\\\[1em]\\begin{cases}x_{1} + x_{2} + 2 x_{3} = \\mathtt{\\text{102,500}}\\\\2 x_{1} + 2 x_{2} + x_{3} = \\mathtt{\\text{127,000}}\\\\3 x_{1} + 3 x_{2} + 3 x_{3} = \\mathtt{\\text{229,500}}\\end{cases}$"
          },
          "metadata": {}
        },
        {
          "output_type": "stream",
          "name": "stdout",
          "text": [
            "\n",
            "Possibility #8\n",
            "The system of equations is:\n",
            "========================================\n"
          ]
        },
        {
          "output_type": "display_data",
          "data": {
            "text/plain": [
              "<IPython.core.display.Math object>"
            ],
            "text/latex": "$\\displaystyle \\textbf{Coefficient Values:}\\\\a_{1,1} = 1 , a_{1,2} = 1 , a_{1,3} = 2\\\\a_{2,1} = 2 , a_{2,2} = 2 , a_{2,3} = 3\\\\a_{3,1} = 3 , a_{3,2} = 3 , a_{3,3} = 1\\\\[1em]\\textbf{Variable Values:}\\\\x_{1} = 25000 , x_{2} = 25500 , x_{3} = 26000\\\\[1em]\\begin{cases}x_{1} + x_{2} + 2 x_{3} = \\mathtt{\\text{102,500}}\\\\2 x_{1} + 2 x_{2} + 3 x_{3} = \\mathtt{\\text{179,000}}\\\\3 x_{1} + 3 x_{2} + x_{3} = \\mathtt{\\text{177,500}}\\end{cases}$"
          },
          "metadata": {}
        },
        {
          "output_type": "stream",
          "name": "stdout",
          "text": [
            "\n",
            "Possibility #9\n",
            "The system of equations is:\n",
            "========================================\n"
          ]
        },
        {
          "output_type": "display_data",
          "data": {
            "text/plain": [
              "<IPython.core.display.Math object>"
            ],
            "text/latex": "$\\displaystyle \\textbf{Coefficient Values:}\\\\a_{1,1} = 1 , a_{1,2} = 1 , a_{1,3} = 2\\\\a_{2,1} = 2 , a_{2,2} = 3 , a_{2,3} = 1\\\\a_{3,1} = 3 , a_{3,2} = 2 , a_{3,3} = 3\\\\[1em]\\textbf{Variable Values:}\\\\x_{1} = 25000 , x_{2} = 25500 , x_{3} = 26000\\\\[1em]\\begin{cases}x_{1} + x_{2} + 2 x_{3} = \\mathtt{\\text{102,500}}\\\\2 x_{1} + 3 x_{2} + x_{3} = \\mathtt{\\text{152,500}}\\\\3 x_{1} + 2 x_{2} + 3 x_{3} = \\mathtt{\\text{204,000}}\\end{cases}$"
          },
          "metadata": {}
        },
        {
          "output_type": "stream",
          "name": "stdout",
          "text": [
            "\n",
            "Possibility #10\n",
            "The system of equations is:\n",
            "========================================\n"
          ]
        },
        {
          "output_type": "display_data",
          "data": {
            "text/plain": [
              "<IPython.core.display.Math object>"
            ],
            "text/latex": "$\\displaystyle \\textbf{Coefficient Values:}\\\\a_{1,1} = 1 , a_{1,2} = 1 , a_{1,3} = 2\\\\a_{2,1} = 2 , a_{2,2} = 3 , a_{2,3} = 3\\\\a_{3,1} = 3 , a_{3,2} = 2 , a_{3,3} = 1\\\\[1em]\\textbf{Variable Values:}\\\\x_{1} = 25000 , x_{2} = 25500 , x_{3} = 26000\\\\[1em]\\begin{cases}x_{1} + x_{2} + 2 x_{3} = \\mathtt{\\text{102,500}}\\\\2 x_{1} + 3 x_{2} + 3 x_{3} = \\mathtt{\\text{204,500}}\\\\3 x_{1} + 2 x_{2} + x_{3} = \\mathtt{\\text{152,000}}\\end{cases}$"
          },
          "metadata": {}
        },
        {
          "output_type": "stream",
          "name": "stdout",
          "text": [
            "\n",
            "Possibility #11\n",
            "The system of equations is:\n",
            "========================================\n"
          ]
        },
        {
          "output_type": "display_data",
          "data": {
            "text/plain": [
              "<IPython.core.display.Math object>"
            ],
            "text/latex": "$\\displaystyle \\textbf{Coefficient Values:}\\\\a_{1,1} = 1 , a_{1,2} = 1 , a_{1,3} = 2\\\\a_{2,1} = 3 , a_{2,2} = 2 , a_{2,3} = 1\\\\a_{3,1} = 2 , a_{3,2} = 3 , a_{3,3} = 3\\\\[1em]\\textbf{Variable Values:}\\\\x_{1} = 25000 , x_{2} = 25500 , x_{3} = 26000\\\\[1em]\\begin{cases}x_{1} + x_{2} + 2 x_{3} = \\mathtt{\\text{102,500}}\\\\3 x_{1} + 2 x_{2} + x_{3} = \\mathtt{\\text{152,000}}\\\\2 x_{1} + 3 x_{2} + 3 x_{3} = \\mathtt{\\text{204,500}}\\end{cases}$"
          },
          "metadata": {}
        },
        {
          "output_type": "stream",
          "name": "stdout",
          "text": [
            "\n",
            "Possibility #12\n",
            "The system of equations is:\n",
            "========================================\n"
          ]
        },
        {
          "output_type": "display_data",
          "data": {
            "text/plain": [
              "<IPython.core.display.Math object>"
            ],
            "text/latex": "$\\displaystyle \\textbf{Coefficient Values:}\\\\a_{1,1} = 1 , a_{1,2} = 1 , a_{1,3} = 2\\\\a_{2,1} = 3 , a_{2,2} = 2 , a_{2,3} = 3\\\\a_{3,1} = 2 , a_{3,2} = 3 , a_{3,3} = 1\\\\[1em]\\textbf{Variable Values:}\\\\x_{1} = 25000 , x_{2} = 25500 , x_{3} = 26000\\\\[1em]\\begin{cases}x_{1} + x_{2} + 2 x_{3} = \\mathtt{\\text{102,500}}\\\\3 x_{1} + 2 x_{2} + 3 x_{3} = \\mathtt{\\text{204,000}}\\\\2 x_{1} + 3 x_{2} + x_{3} = \\mathtt{\\text{152,500}}\\end{cases}$"
          },
          "metadata": {}
        },
        {
          "output_type": "stream",
          "name": "stdout",
          "text": [
            "\n",
            "Possibility #13\n",
            "The system of equations is:\n",
            "========================================\n"
          ]
        },
        {
          "output_type": "display_data",
          "data": {
            "text/plain": [
              "<IPython.core.display.Math object>"
            ],
            "text/latex": "$\\displaystyle \\textbf{Coefficient Values:}\\\\a_{1,1} = 1 , a_{1,2} = 1 , a_{1,3} = 2\\\\a_{2,1} = 3 , a_{2,2} = 3 , a_{2,3} = 1\\\\a_{3,1} = 2 , a_{3,2} = 2 , a_{3,3} = 3\\\\[1em]\\textbf{Variable Values:}\\\\x_{1} = 25000 , x_{2} = 25500 , x_{3} = 26000\\\\[1em]\\begin{cases}x_{1} + x_{2} + 2 x_{3} = \\mathtt{\\text{102,500}}\\\\3 x_{1} + 3 x_{2} + x_{3} = \\mathtt{\\text{177,500}}\\\\2 x_{1} + 2 x_{2} + 3 x_{3} = \\mathtt{\\text{179,000}}\\end{cases}$"
          },
          "metadata": {}
        },
        {
          "output_type": "stream",
          "name": "stdout",
          "text": [
            "\n",
            "Possibility #14\n",
            "The system of equations is:\n",
            "========================================\n"
          ]
        },
        {
          "output_type": "display_data",
          "data": {
            "text/plain": [
              "<IPython.core.display.Math object>"
            ],
            "text/latex": "$\\displaystyle \\textbf{Coefficient Values:}\\\\a_{1,1} = 1 , a_{1,2} = 1 , a_{1,3} = 2\\\\a_{2,1} = 3 , a_{2,2} = 3 , a_{2,3} = 3\\\\a_{3,1} = 2 , a_{3,2} = 2 , a_{3,3} = 1\\\\[1em]\\textbf{Variable Values:}\\\\x_{1} = 25000 , x_{2} = 25500 , x_{3} = 26000\\\\[1em]\\begin{cases}x_{1} + x_{2} + 2 x_{3} = \\mathtt{\\text{102,500}}\\\\3 x_{1} + 3 x_{2} + 3 x_{3} = \\mathtt{\\text{229,500}}\\\\2 x_{1} + 2 x_{2} + x_{3} = \\mathtt{\\text{127,000}}\\end{cases}$"
          },
          "metadata": {}
        },
        {
          "output_type": "stream",
          "name": "stdout",
          "text": [
            "\n",
            "Possibility #15\n",
            "The system of equations is:\n",
            "========================================\n"
          ]
        },
        {
          "output_type": "display_data",
          "data": {
            "text/plain": [
              "<IPython.core.display.Math object>"
            ],
            "text/latex": "$\\displaystyle \\textbf{Coefficient Values:}\\\\a_{1,1} = 1 , a_{1,2} = 1 , a_{1,3} = 3\\\\a_{2,1} = 2 , a_{2,2} = 2 , a_{2,3} = 1\\\\a_{3,1} = 3 , a_{3,2} = 3 , a_{3,3} = 2\\\\[1em]\\textbf{Variable Values:}\\\\x_{1} = 25000 , x_{2} = 25500 , x_{3} = 26000\\\\[1em]\\begin{cases}x_{1} + x_{2} + 3 x_{3} = \\mathtt{\\text{128,500}}\\\\2 x_{1} + 2 x_{2} + x_{3} = \\mathtt{\\text{127,000}}\\\\3 x_{1} + 3 x_{2} + 2 x_{3} = \\mathtt{\\text{203,500}}\\end{cases}$"
          },
          "metadata": {}
        },
        {
          "output_type": "stream",
          "name": "stdout",
          "text": [
            "\n",
            "Possibility #16\n",
            "The system of equations is:\n",
            "========================================\n"
          ]
        },
        {
          "output_type": "display_data",
          "data": {
            "text/plain": [
              "<IPython.core.display.Math object>"
            ],
            "text/latex": "$\\displaystyle \\textbf{Coefficient Values:}\\\\a_{1,1} = 1 , a_{1,2} = 1 , a_{1,3} = 3\\\\a_{2,1} = 2 , a_{2,2} = 2 , a_{2,3} = 2\\\\a_{3,1} = 3 , a_{3,2} = 3 , a_{3,3} = 1\\\\[1em]\\textbf{Variable Values:}\\\\x_{1} = 25000 , x_{2} = 25500 , x_{3} = 26000\\\\[1em]\\begin{cases}x_{1} + x_{2} + 3 x_{3} = \\mathtt{\\text{128,500}}\\\\2 x_{1} + 2 x_{2} + 2 x_{3} = \\mathtt{\\text{153,000}}\\\\3 x_{1} + 3 x_{2} + x_{3} = \\mathtt{\\text{177,500}}\\end{cases}$"
          },
          "metadata": {}
        },
        {
          "output_type": "stream",
          "name": "stdout",
          "text": [
            "\n",
            "Possibility #17\n",
            "The system of equations is:\n",
            "========================================\n"
          ]
        },
        {
          "output_type": "display_data",
          "data": {
            "text/plain": [
              "<IPython.core.display.Math object>"
            ],
            "text/latex": "$\\displaystyle \\textbf{Coefficient Values:}\\\\a_{1,1} = 1 , a_{1,2} = 1 , a_{1,3} = 3\\\\a_{2,1} = 2 , a_{2,2} = 3 , a_{2,3} = 1\\\\a_{3,1} = 3 , a_{3,2} = 2 , a_{3,3} = 2\\\\[1em]\\textbf{Variable Values:}\\\\x_{1} = 25000 , x_{2} = 25500 , x_{3} = 26000\\\\[1em]\\begin{cases}x_{1} + x_{2} + 3 x_{3} = \\mathtt{\\text{128,500}}\\\\2 x_{1} + 3 x_{2} + x_{3} = \\mathtt{\\text{152,500}}\\\\3 x_{1} + 2 x_{2} + 2 x_{3} = \\mathtt{\\text{178,000}}\\end{cases}$"
          },
          "metadata": {}
        },
        {
          "output_type": "stream",
          "name": "stdout",
          "text": [
            "\n",
            "Possibility #18\n",
            "The system of equations is:\n",
            "========================================\n"
          ]
        },
        {
          "output_type": "display_data",
          "data": {
            "text/plain": [
              "<IPython.core.display.Math object>"
            ],
            "text/latex": "$\\displaystyle \\textbf{Coefficient Values:}\\\\a_{1,1} = 1 , a_{1,2} = 1 , a_{1,3} = 3\\\\a_{2,1} = 2 , a_{2,2} = 3 , a_{2,3} = 2\\\\a_{3,1} = 3 , a_{3,2} = 2 , a_{3,3} = 1\\\\[1em]\\textbf{Variable Values:}\\\\x_{1} = 25000 , x_{2} = 25500 , x_{3} = 26000\\\\[1em]\\begin{cases}x_{1} + x_{2} + 3 x_{3} = \\mathtt{\\text{128,500}}\\\\2 x_{1} + 3 x_{2} + 2 x_{3} = \\mathtt{\\text{178,500}}\\\\3 x_{1} + 2 x_{2} + x_{3} = \\mathtt{\\text{152,000}}\\end{cases}$"
          },
          "metadata": {}
        },
        {
          "output_type": "stream",
          "name": "stdout",
          "text": [
            "\n",
            "Possibility #19\n",
            "The system of equations is:\n",
            "========================================\n"
          ]
        },
        {
          "output_type": "display_data",
          "data": {
            "text/plain": [
              "<IPython.core.display.Math object>"
            ],
            "text/latex": "$\\displaystyle \\textbf{Coefficient Values:}\\\\a_{1,1} = 1 , a_{1,2} = 1 , a_{1,3} = 3\\\\a_{2,1} = 3 , a_{2,2} = 2 , a_{2,3} = 1\\\\a_{3,1} = 2 , a_{3,2} = 3 , a_{3,3} = 2\\\\[1em]\\textbf{Variable Values:}\\\\x_{1} = 25000 , x_{2} = 25500 , x_{3} = 26000\\\\[1em]\\begin{cases}x_{1} + x_{2} + 3 x_{3} = \\mathtt{\\text{128,500}}\\\\3 x_{1} + 2 x_{2} + x_{3} = \\mathtt{\\text{152,000}}\\\\2 x_{1} + 3 x_{2} + 2 x_{3} = \\mathtt{\\text{178,500}}\\end{cases}$"
          },
          "metadata": {}
        },
        {
          "output_type": "stream",
          "name": "stdout",
          "text": [
            "\n",
            "Possibility #20\n",
            "The system of equations is:\n",
            "========================================\n"
          ]
        },
        {
          "output_type": "display_data",
          "data": {
            "text/plain": [
              "<IPython.core.display.Math object>"
            ],
            "text/latex": "$\\displaystyle \\textbf{Coefficient Values:}\\\\a_{1,1} = 1 , a_{1,2} = 1 , a_{1,3} = 3\\\\a_{2,1} = 3 , a_{2,2} = 2 , a_{2,3} = 2\\\\a_{3,1} = 2 , a_{3,2} = 3 , a_{3,3} = 1\\\\[1em]\\textbf{Variable Values:}\\\\x_{1} = 25000 , x_{2} = 25500 , x_{3} = 26000\\\\[1em]\\begin{cases}x_{1} + x_{2} + 3 x_{3} = \\mathtt{\\text{128,500}}\\\\3 x_{1} + 2 x_{2} + 2 x_{3} = \\mathtt{\\text{178,000}}\\\\2 x_{1} + 3 x_{2} + x_{3} = \\mathtt{\\text{152,500}}\\end{cases}$"
          },
          "metadata": {}
        },
        {
          "output_type": "stream",
          "name": "stdout",
          "text": [
            "\n",
            "Possibility #21\n",
            "The system of equations is:\n",
            "========================================\n"
          ]
        },
        {
          "output_type": "display_data",
          "data": {
            "text/plain": [
              "<IPython.core.display.Math object>"
            ],
            "text/latex": "$\\displaystyle \\textbf{Coefficient Values:}\\\\a_{1,1} = 1 , a_{1,2} = 1 , a_{1,3} = 3\\\\a_{2,1} = 3 , a_{2,2} = 3 , a_{2,3} = 1\\\\a_{3,1} = 2 , a_{3,2} = 2 , a_{3,3} = 2\\\\[1em]\\textbf{Variable Values:}\\\\x_{1} = 25000 , x_{2} = 25500 , x_{3} = 26000\\\\[1em]\\begin{cases}x_{1} + x_{2} + 3 x_{3} = \\mathtt{\\text{128,500}}\\\\3 x_{1} + 3 x_{2} + x_{3} = \\mathtt{\\text{177,500}}\\\\2 x_{1} + 2 x_{2} + 2 x_{3} = \\mathtt{\\text{153,000}}\\end{cases}$"
          },
          "metadata": {}
        },
        {
          "output_type": "stream",
          "name": "stdout",
          "text": [
            "\n",
            "Possibility #22\n",
            "The system of equations is:\n",
            "========================================\n"
          ]
        },
        {
          "output_type": "display_data",
          "data": {
            "text/plain": [
              "<IPython.core.display.Math object>"
            ],
            "text/latex": "$\\displaystyle \\textbf{Coefficient Values:}\\\\a_{1,1} = 1 , a_{1,2} = 1 , a_{1,3} = 3\\\\a_{2,1} = 3 , a_{2,2} = 3 , a_{2,3} = 2\\\\a_{3,1} = 2 , a_{3,2} = 2 , a_{3,3} = 1\\\\[1em]\\textbf{Variable Values:}\\\\x_{1} = 25000 , x_{2} = 25500 , x_{3} = 26000\\\\[1em]\\begin{cases}x_{1} + x_{2} + 3 x_{3} = \\mathtt{\\text{128,500}}\\\\3 x_{1} + 3 x_{2} + 2 x_{3} = \\mathtt{\\text{203,500}}\\\\2 x_{1} + 2 x_{2} + x_{3} = \\mathtt{\\text{127,000}}\\end{cases}$"
          },
          "metadata": {}
        },
        {
          "output_type": "stream",
          "name": "stdout",
          "text": [
            "\n",
            "Possibility #23\n",
            "The system of equations is:\n",
            "========================================\n"
          ]
        },
        {
          "output_type": "display_data",
          "data": {
            "text/plain": [
              "<IPython.core.display.Math object>"
            ],
            "text/latex": "$\\displaystyle \\textbf{Coefficient Values:}\\\\a_{1,1} = 1 , a_{1,2} = 2 , a_{1,3} = 1\\\\a_{2,1} = 2 , a_{2,2} = 1 , a_{2,3} = 2\\\\a_{3,1} = 3 , a_{3,2} = 3 , a_{3,3} = 3\\\\[1em]\\textbf{Variable Values:}\\\\x_{1} = 25000 , x_{2} = 25500 , x_{3} = 26000\\\\[1em]\\begin{cases}x_{1} + 2 x_{2} + x_{3} = \\mathtt{\\text{102,000}}\\\\2 x_{1} + x_{2} + 2 x_{3} = \\mathtt{\\text{127,500}}\\\\3 x_{1} + 3 x_{2} + 3 x_{3} = \\mathtt{\\text{229,500}}\\end{cases}$"
          },
          "metadata": {}
        },
        {
          "output_type": "stream",
          "name": "stdout",
          "text": [
            "\n",
            "Possibility #24\n",
            "The system of equations is:\n",
            "========================================\n"
          ]
        },
        {
          "output_type": "display_data",
          "data": {
            "text/plain": [
              "<IPython.core.display.Math object>"
            ],
            "text/latex": "$\\displaystyle \\textbf{Coefficient Values:}\\\\a_{1,1} = 1 , a_{1,2} = 2 , a_{1,3} = 1\\\\a_{2,1} = 2 , a_{2,2} = 1 , a_{2,3} = 3\\\\a_{3,1} = 3 , a_{3,2} = 3 , a_{3,3} = 2\\\\[1em]\\textbf{Variable Values:}\\\\x_{1} = 25000 , x_{2} = 25500 , x_{3} = 26000\\\\[1em]\\begin{cases}x_{1} + 2 x_{2} + x_{3} = \\mathtt{\\text{102,000}}\\\\2 x_{1} + x_{2} + 3 x_{3} = \\mathtt{\\text{153,500}}\\\\3 x_{1} + 3 x_{2} + 2 x_{3} = \\mathtt{\\text{203,500}}\\end{cases}$"
          },
          "metadata": {}
        },
        {
          "output_type": "stream",
          "name": "stdout",
          "text": [
            "\n",
            "Possibility #25\n",
            "The system of equations is:\n",
            "========================================\n"
          ]
        },
        {
          "output_type": "display_data",
          "data": {
            "text/plain": [
              "<IPython.core.display.Math object>"
            ],
            "text/latex": "$\\displaystyle \\textbf{Coefficient Values:}\\\\a_{1,1} = 1 , a_{1,2} = 2 , a_{1,3} = 1\\\\a_{2,1} = 2 , a_{2,2} = 3 , a_{2,3} = 2\\\\a_{3,1} = 3 , a_{3,2} = 1 , a_{3,3} = 3\\\\[1em]\\textbf{Variable Values:}\\\\x_{1} = 25000 , x_{2} = 25500 , x_{3} = 26000\\\\[1em]\\begin{cases}x_{1} + 2 x_{2} + x_{3} = \\mathtt{\\text{102,000}}\\\\2 x_{1} + 3 x_{2} + 2 x_{3} = \\mathtt{\\text{178,500}}\\\\3 x_{1} + x_{2} + 3 x_{3} = \\mathtt{\\text{178,500}}\\end{cases}$"
          },
          "metadata": {}
        },
        {
          "output_type": "stream",
          "name": "stdout",
          "text": [
            "\n",
            "Possibility #26\n",
            "The system of equations is:\n",
            "========================================\n"
          ]
        },
        {
          "output_type": "display_data",
          "data": {
            "text/plain": [
              "<IPython.core.display.Math object>"
            ],
            "text/latex": "$\\displaystyle \\textbf{Coefficient Values:}\\\\a_{1,1} = 1 , a_{1,2} = 2 , a_{1,3} = 1\\\\a_{2,1} = 2 , a_{2,2} = 3 , a_{2,3} = 3\\\\a_{3,1} = 3 , a_{3,2} = 1 , a_{3,3} = 2\\\\[1em]\\textbf{Variable Values:}\\\\x_{1} = 25000 , x_{2} = 25500 , x_{3} = 26000\\\\[1em]\\begin{cases}x_{1} + 2 x_{2} + x_{3} = \\mathtt{\\text{102,000}}\\\\2 x_{1} + 3 x_{2} + 3 x_{3} = \\mathtt{\\text{204,500}}\\\\3 x_{1} + x_{2} + 2 x_{3} = \\mathtt{\\text{152,500}}\\end{cases}$"
          },
          "metadata": {}
        },
        {
          "output_type": "stream",
          "name": "stdout",
          "text": [
            "\n",
            "Possibility #27\n",
            "The system of equations is:\n",
            "========================================\n"
          ]
        },
        {
          "output_type": "display_data",
          "data": {
            "text/plain": [
              "<IPython.core.display.Math object>"
            ],
            "text/latex": "$\\displaystyle \\textbf{Coefficient Values:}\\\\a_{1,1} = 1 , a_{1,2} = 2 , a_{1,3} = 1\\\\a_{2,1} = 3 , a_{2,2} = 1 , a_{2,3} = 2\\\\a_{3,1} = 2 , a_{3,2} = 3 , a_{3,3} = 3\\\\[1em]\\textbf{Variable Values:}\\\\x_{1} = 25000 , x_{2} = 25500 , x_{3} = 26000\\\\[1em]\\begin{cases}x_{1} + 2 x_{2} + x_{3} = \\mathtt{\\text{102,000}}\\\\3 x_{1} + x_{2} + 2 x_{3} = \\mathtt{\\text{152,500}}\\\\2 x_{1} + 3 x_{2} + 3 x_{3} = \\mathtt{\\text{204,500}}\\end{cases}$"
          },
          "metadata": {}
        },
        {
          "output_type": "stream",
          "name": "stdout",
          "text": [
            "\n",
            "Possibility #28\n",
            "The system of equations is:\n",
            "========================================\n"
          ]
        },
        {
          "output_type": "display_data",
          "data": {
            "text/plain": [
              "<IPython.core.display.Math object>"
            ],
            "text/latex": "$\\displaystyle \\textbf{Coefficient Values:}\\\\a_{1,1} = 1 , a_{1,2} = 2 , a_{1,3} = 1\\\\a_{2,1} = 3 , a_{2,2} = 1 , a_{2,3} = 3\\\\a_{3,1} = 2 , a_{3,2} = 3 , a_{3,3} = 2\\\\[1em]\\textbf{Variable Values:}\\\\x_{1} = 25000 , x_{2} = 25500 , x_{3} = 26000\\\\[1em]\\begin{cases}x_{1} + 2 x_{2} + x_{3} = \\mathtt{\\text{102,000}}\\\\3 x_{1} + x_{2} + 3 x_{3} = \\mathtt{\\text{178,500}}\\\\2 x_{1} + 3 x_{2} + 2 x_{3} = \\mathtt{\\text{178,500}}\\end{cases}$"
          },
          "metadata": {}
        },
        {
          "output_type": "stream",
          "name": "stdout",
          "text": [
            "\n",
            "Possibility #29\n",
            "The system of equations is:\n",
            "========================================\n"
          ]
        },
        {
          "output_type": "display_data",
          "data": {
            "text/plain": [
              "<IPython.core.display.Math object>"
            ],
            "text/latex": "$\\displaystyle \\textbf{Coefficient Values:}\\\\a_{1,1} = 1 , a_{1,2} = 2 , a_{1,3} = 1\\\\a_{2,1} = 3 , a_{2,2} = 3 , a_{2,3} = 2\\\\a_{3,1} = 2 , a_{3,2} = 1 , a_{3,3} = 3\\\\[1em]\\textbf{Variable Values:}\\\\x_{1} = 25000 , x_{2} = 25500 , x_{3} = 26000\\\\[1em]\\begin{cases}x_{1} + 2 x_{2} + x_{3} = \\mathtt{\\text{102,000}}\\\\3 x_{1} + 3 x_{2} + 2 x_{3} = \\mathtt{\\text{203,500}}\\\\2 x_{1} + x_{2} + 3 x_{3} = \\mathtt{\\text{153,500}}\\end{cases}$"
          },
          "metadata": {}
        },
        {
          "output_type": "stream",
          "name": "stdout",
          "text": [
            "\n",
            "Possibility #30\n",
            "The system of equations is:\n",
            "========================================\n"
          ]
        },
        {
          "output_type": "display_data",
          "data": {
            "text/plain": [
              "<IPython.core.display.Math object>"
            ],
            "text/latex": "$\\displaystyle \\textbf{Coefficient Values:}\\\\a_{1,1} = 1 , a_{1,2} = 2 , a_{1,3} = 1\\\\a_{2,1} = 3 , a_{2,2} = 3 , a_{2,3} = 3\\\\a_{3,1} = 2 , a_{3,2} = 1 , a_{3,3} = 2\\\\[1em]\\textbf{Variable Values:}\\\\x_{1} = 25000 , x_{2} = 25500 , x_{3} = 26000\\\\[1em]\\begin{cases}x_{1} + 2 x_{2} + x_{3} = \\mathtt{\\text{102,000}}\\\\3 x_{1} + 3 x_{2} + 3 x_{3} = \\mathtt{\\text{229,500}}\\\\2 x_{1} + x_{2} + 2 x_{3} = \\mathtt{\\text{127,500}}\\end{cases}$"
          },
          "metadata": {}
        },
        {
          "output_type": "stream",
          "name": "stdout",
          "text": [
            "\n",
            "Possibility #31\n",
            "The system of equations is:\n",
            "========================================\n"
          ]
        },
        {
          "output_type": "display_data",
          "data": {
            "text/plain": [
              "<IPython.core.display.Math object>"
            ],
            "text/latex": "$\\displaystyle \\textbf{Coefficient Values:}\\\\a_{1,1} = 1 , a_{1,2} = 2 , a_{1,3} = 2\\\\a_{2,1} = 2 , a_{2,2} = 1 , a_{2,3} = 1\\\\a_{3,1} = 3 , a_{3,2} = 3 , a_{3,3} = 3\\\\[1em]\\textbf{Variable Values:}\\\\x_{1} = 25000 , x_{2} = 25500 , x_{3} = 26000\\\\[1em]\\begin{cases}x_{1} + 2 x_{2} + 2 x_{3} = \\mathtt{\\text{128,000}}\\\\2 x_{1} + x_{2} + x_{3} = \\mathtt{\\text{101,500}}\\\\3 x_{1} + 3 x_{2} + 3 x_{3} = \\mathtt{\\text{229,500}}\\end{cases}$"
          },
          "metadata": {}
        },
        {
          "output_type": "stream",
          "name": "stdout",
          "text": [
            "\n",
            "Possibility #32\n",
            "The system of equations is:\n",
            "========================================\n"
          ]
        },
        {
          "output_type": "display_data",
          "data": {
            "text/plain": [
              "<IPython.core.display.Math object>"
            ],
            "text/latex": "$\\displaystyle \\textbf{Coefficient Values:}\\\\a_{1,1} = 1 , a_{1,2} = 2 , a_{1,3} = 2\\\\a_{2,1} = 2 , a_{2,2} = 1 , a_{2,3} = 3\\\\a_{3,1} = 3 , a_{3,2} = 3 , a_{3,3} = 1\\\\[1em]\\textbf{Variable Values:}\\\\x_{1} = 25000 , x_{2} = 25500 , x_{3} = 26000\\\\[1em]\\begin{cases}x_{1} + 2 x_{2} + 2 x_{3} = \\mathtt{\\text{128,000}}\\\\2 x_{1} + x_{2} + 3 x_{3} = \\mathtt{\\text{153,500}}\\\\3 x_{1} + 3 x_{2} + x_{3} = \\mathtt{\\text{177,500}}\\end{cases}$"
          },
          "metadata": {}
        },
        {
          "output_type": "stream",
          "name": "stdout",
          "text": [
            "\n",
            "Possibility #33\n",
            "The system of equations is:\n",
            "========================================\n"
          ]
        },
        {
          "output_type": "display_data",
          "data": {
            "text/plain": [
              "<IPython.core.display.Math object>"
            ],
            "text/latex": "$\\displaystyle \\textbf{Coefficient Values:}\\\\a_{1,1} = 1 , a_{1,2} = 2 , a_{1,3} = 2\\\\a_{2,1} = 2 , a_{2,2} = 3 , a_{2,3} = 1\\\\a_{3,1} = 3 , a_{3,2} = 1 , a_{3,3} = 3\\\\[1em]\\textbf{Variable Values:}\\\\x_{1} = 25000 , x_{2} = 25500 , x_{3} = 26000\\\\[1em]\\begin{cases}x_{1} + 2 x_{2} + 2 x_{3} = \\mathtt{\\text{128,000}}\\\\2 x_{1} + 3 x_{2} + x_{3} = \\mathtt{\\text{152,500}}\\\\3 x_{1} + x_{2} + 3 x_{3} = \\mathtt{\\text{178,500}}\\end{cases}$"
          },
          "metadata": {}
        },
        {
          "output_type": "stream",
          "name": "stdout",
          "text": [
            "\n",
            "Possibility #34\n",
            "The system of equations is:\n",
            "========================================\n"
          ]
        },
        {
          "output_type": "display_data",
          "data": {
            "text/plain": [
              "<IPython.core.display.Math object>"
            ],
            "text/latex": "$\\displaystyle \\textbf{Coefficient Values:}\\\\a_{1,1} = 1 , a_{1,2} = 2 , a_{1,3} = 2\\\\a_{2,1} = 2 , a_{2,2} = 3 , a_{2,3} = 3\\\\a_{3,1} = 3 , a_{3,2} = 1 , a_{3,3} = 1\\\\[1em]\\textbf{Variable Values:}\\\\x_{1} = 25000 , x_{2} = 25500 , x_{3} = 26000\\\\[1em]\\begin{cases}x_{1} + 2 x_{2} + 2 x_{3} = \\mathtt{\\text{128,000}}\\\\2 x_{1} + 3 x_{2} + 3 x_{3} = \\mathtt{\\text{204,500}}\\\\3 x_{1} + x_{2} + x_{3} = \\mathtt{\\text{126,500}}\\end{cases}$"
          },
          "metadata": {}
        },
        {
          "output_type": "stream",
          "name": "stdout",
          "text": [
            "\n",
            "Possibility #35\n",
            "The system of equations is:\n",
            "========================================\n"
          ]
        },
        {
          "output_type": "display_data",
          "data": {
            "text/plain": [
              "<IPython.core.display.Math object>"
            ],
            "text/latex": "$\\displaystyle \\textbf{Coefficient Values:}\\\\a_{1,1} = 1 , a_{1,2} = 2 , a_{1,3} = 2\\\\a_{2,1} = 3 , a_{2,2} = 1 , a_{2,3} = 1\\\\a_{3,1} = 2 , a_{3,2} = 3 , a_{3,3} = 3\\\\[1em]\\textbf{Variable Values:}\\\\x_{1} = 25000 , x_{2} = 25500 , x_{3} = 26000\\\\[1em]\\begin{cases}x_{1} + 2 x_{2} + 2 x_{3} = \\mathtt{\\text{128,000}}\\\\3 x_{1} + x_{2} + x_{3} = \\mathtt{\\text{126,500}}\\\\2 x_{1} + 3 x_{2} + 3 x_{3} = \\mathtt{\\text{204,500}}\\end{cases}$"
          },
          "metadata": {}
        },
        {
          "output_type": "stream",
          "name": "stdout",
          "text": [
            "\n",
            "Possibility #36\n",
            "The system of equations is:\n",
            "========================================\n"
          ]
        },
        {
          "output_type": "display_data",
          "data": {
            "text/plain": [
              "<IPython.core.display.Math object>"
            ],
            "text/latex": "$\\displaystyle \\textbf{Coefficient Values:}\\\\a_{1,1} = 1 , a_{1,2} = 2 , a_{1,3} = 2\\\\a_{2,1} = 3 , a_{2,2} = 1 , a_{2,3} = 3\\\\a_{3,1} = 2 , a_{3,2} = 3 , a_{3,3} = 1\\\\[1em]\\textbf{Variable Values:}\\\\x_{1} = 25000 , x_{2} = 25500 , x_{3} = 26000\\\\[1em]\\begin{cases}x_{1} + 2 x_{2} + 2 x_{3} = \\mathtt{\\text{128,000}}\\\\3 x_{1} + x_{2} + 3 x_{3} = \\mathtt{\\text{178,500}}\\\\2 x_{1} + 3 x_{2} + x_{3} = \\mathtt{\\text{152,500}}\\end{cases}$"
          },
          "metadata": {}
        },
        {
          "output_type": "stream",
          "name": "stdout",
          "text": [
            "\n",
            "Possibility #37\n",
            "The system of equations is:\n",
            "========================================\n"
          ]
        },
        {
          "output_type": "display_data",
          "data": {
            "text/plain": [
              "<IPython.core.display.Math object>"
            ],
            "text/latex": "$\\displaystyle \\textbf{Coefficient Values:}\\\\a_{1,1} = 1 , a_{1,2} = 2 , a_{1,3} = 2\\\\a_{2,1} = 3 , a_{2,2} = 3 , a_{2,3} = 1\\\\a_{3,1} = 2 , a_{3,2} = 1 , a_{3,3} = 3\\\\[1em]\\textbf{Variable Values:}\\\\x_{1} = 25000 , x_{2} = 25500 , x_{3} = 26000\\\\[1em]\\begin{cases}x_{1} + 2 x_{2} + 2 x_{3} = \\mathtt{\\text{128,000}}\\\\3 x_{1} + 3 x_{2} + x_{3} = \\mathtt{\\text{177,500}}\\\\2 x_{1} + x_{2} + 3 x_{3} = \\mathtt{\\text{153,500}}\\end{cases}$"
          },
          "metadata": {}
        },
        {
          "output_type": "stream",
          "name": "stdout",
          "text": [
            "\n",
            "Possibility #38\n",
            "The system of equations is:\n",
            "========================================\n"
          ]
        },
        {
          "output_type": "display_data",
          "data": {
            "text/plain": [
              "<IPython.core.display.Math object>"
            ],
            "text/latex": "$\\displaystyle \\textbf{Coefficient Values:}\\\\a_{1,1} = 1 , a_{1,2} = 2 , a_{1,3} = 2\\\\a_{2,1} = 3 , a_{2,2} = 3 , a_{2,3} = 3\\\\a_{3,1} = 2 , a_{3,2} = 1 , a_{3,3} = 1\\\\[1em]\\textbf{Variable Values:}\\\\x_{1} = 25000 , x_{2} = 25500 , x_{3} = 26000\\\\[1em]\\begin{cases}x_{1} + 2 x_{2} + 2 x_{3} = \\mathtt{\\text{128,000}}\\\\3 x_{1} + 3 x_{2} + 3 x_{3} = \\mathtt{\\text{229,500}}\\\\2 x_{1} + x_{2} + x_{3} = \\mathtt{\\text{101,500}}\\end{cases}$"
          },
          "metadata": {}
        },
        {
          "output_type": "stream",
          "name": "stdout",
          "text": [
            "\n",
            "Possibility #39\n",
            "The system of equations is:\n",
            "========================================\n"
          ]
        },
        {
          "output_type": "display_data",
          "data": {
            "text/plain": [
              "<IPython.core.display.Math object>"
            ],
            "text/latex": "$\\displaystyle \\textbf{Coefficient Values:}\\\\a_{1,1} = 1 , a_{1,2} = 2 , a_{1,3} = 3\\\\a_{2,1} = 2 , a_{2,2} = 1 , a_{2,3} = 1\\\\a_{3,1} = 3 , a_{3,2} = 3 , a_{3,3} = 2\\\\[1em]\\textbf{Variable Values:}\\\\x_{1} = 25000 , x_{2} = 25500 , x_{3} = 26000\\\\[1em]\\begin{cases}x_{1} + 2 x_{2} + 3 x_{3} = \\mathtt{\\text{154,000}}\\\\2 x_{1} + x_{2} + x_{3} = \\mathtt{\\text{101,500}}\\\\3 x_{1} + 3 x_{2} + 2 x_{3} = \\mathtt{\\text{203,500}}\\end{cases}$"
          },
          "metadata": {}
        },
        {
          "output_type": "stream",
          "name": "stdout",
          "text": [
            "\n",
            "Possibility #40\n",
            "The system of equations is:\n",
            "========================================\n"
          ]
        },
        {
          "output_type": "display_data",
          "data": {
            "text/plain": [
              "<IPython.core.display.Math object>"
            ],
            "text/latex": "$\\displaystyle \\textbf{Coefficient Values:}\\\\a_{1,1} = 1 , a_{1,2} = 2 , a_{1,3} = 3\\\\a_{2,1} = 2 , a_{2,2} = 1 , a_{2,3} = 2\\\\a_{3,1} = 3 , a_{3,2} = 3 , a_{3,3} = 1\\\\[1em]\\textbf{Variable Values:}\\\\x_{1} = 25000 , x_{2} = 25500 , x_{3} = 26000\\\\[1em]\\begin{cases}x_{1} + 2 x_{2} + 3 x_{3} = \\mathtt{\\text{154,000}}\\\\2 x_{1} + x_{2} + 2 x_{3} = \\mathtt{\\text{127,500}}\\\\3 x_{1} + 3 x_{2} + x_{3} = \\mathtt{\\text{177,500}}\\end{cases}$"
          },
          "metadata": {}
        },
        {
          "output_type": "stream",
          "name": "stdout",
          "text": [
            "\n",
            "Possibility #41\n",
            "The system of equations is:\n",
            "========================================\n"
          ]
        },
        {
          "output_type": "display_data",
          "data": {
            "text/plain": [
              "<IPython.core.display.Math object>"
            ],
            "text/latex": "$\\displaystyle \\textbf{Coefficient Values:}\\\\a_{1,1} = 1 , a_{1,2} = 2 , a_{1,3} = 3\\\\a_{2,1} = 2 , a_{2,2} = 3 , a_{2,3} = 1\\\\a_{3,1} = 3 , a_{3,2} = 1 , a_{3,3} = 2\\\\[1em]\\textbf{Variable Values:}\\\\x_{1} = 25000 , x_{2} = 25500 , x_{3} = 26000\\\\[1em]\\begin{cases}x_{1} + 2 x_{2} + 3 x_{3} = \\mathtt{\\text{154,000}}\\\\2 x_{1} + 3 x_{2} + x_{3} = \\mathtt{\\text{152,500}}\\\\3 x_{1} + x_{2} + 2 x_{3} = \\mathtt{\\text{152,500}}\\end{cases}$"
          },
          "metadata": {}
        },
        {
          "output_type": "stream",
          "name": "stdout",
          "text": [
            "\n",
            "Possibility #42\n",
            "The system of equations is:\n",
            "========================================\n"
          ]
        },
        {
          "output_type": "display_data",
          "data": {
            "text/plain": [
              "<IPython.core.display.Math object>"
            ],
            "text/latex": "$\\displaystyle \\textbf{Coefficient Values:}\\\\a_{1,1} = 1 , a_{1,2} = 2 , a_{1,3} = 3\\\\a_{2,1} = 2 , a_{2,2} = 3 , a_{2,3} = 2\\\\a_{3,1} = 3 , a_{3,2} = 1 , a_{3,3} = 1\\\\[1em]\\textbf{Variable Values:}\\\\x_{1} = 25000 , x_{2} = 25500 , x_{3} = 26000\\\\[1em]\\begin{cases}x_{1} + 2 x_{2} + 3 x_{3} = \\mathtt{\\text{154,000}}\\\\2 x_{1} + 3 x_{2} + 2 x_{3} = \\mathtt{\\text{178,500}}\\\\3 x_{1} + x_{2} + x_{3} = \\mathtt{\\text{126,500}}\\end{cases}$"
          },
          "metadata": {}
        },
        {
          "output_type": "stream",
          "name": "stdout",
          "text": [
            "\n",
            "Possibility #43\n",
            "The system of equations is:\n",
            "========================================\n"
          ]
        },
        {
          "output_type": "display_data",
          "data": {
            "text/plain": [
              "<IPython.core.display.Math object>"
            ],
            "text/latex": "$\\displaystyle \\textbf{Coefficient Values:}\\\\a_{1,1} = 1 , a_{1,2} = 2 , a_{1,3} = 3\\\\a_{2,1} = 3 , a_{2,2} = 1 , a_{2,3} = 1\\\\a_{3,1} = 2 , a_{3,2} = 3 , a_{3,3} = 2\\\\[1em]\\textbf{Variable Values:}\\\\x_{1} = 25000 , x_{2} = 25500 , x_{3} = 26000\\\\[1em]\\begin{cases}x_{1} + 2 x_{2} + 3 x_{3} = \\mathtt{\\text{154,000}}\\\\3 x_{1} + x_{2} + x_{3} = \\mathtt{\\text{126,500}}\\\\2 x_{1} + 3 x_{2} + 2 x_{3} = \\mathtt{\\text{178,500}}\\end{cases}$"
          },
          "metadata": {}
        },
        {
          "output_type": "stream",
          "name": "stdout",
          "text": [
            "\n",
            "Possibility #44\n",
            "The system of equations is:\n",
            "========================================\n"
          ]
        },
        {
          "output_type": "display_data",
          "data": {
            "text/plain": [
              "<IPython.core.display.Math object>"
            ],
            "text/latex": "$\\displaystyle \\textbf{Coefficient Values:}\\\\a_{1,1} = 1 , a_{1,2} = 2 , a_{1,3} = 3\\\\a_{2,1} = 3 , a_{2,2} = 1 , a_{2,3} = 2\\\\a_{3,1} = 2 , a_{3,2} = 3 , a_{3,3} = 1\\\\[1em]\\textbf{Variable Values:}\\\\x_{1} = 25000 , x_{2} = 25500 , x_{3} = 26000\\\\[1em]\\begin{cases}x_{1} + 2 x_{2} + 3 x_{3} = \\mathtt{\\text{154,000}}\\\\3 x_{1} + x_{2} + 2 x_{3} = \\mathtt{\\text{152,500}}\\\\2 x_{1} + 3 x_{2} + x_{3} = \\mathtt{\\text{152,500}}\\end{cases}$"
          },
          "metadata": {}
        },
        {
          "output_type": "stream",
          "name": "stdout",
          "text": [
            "\n",
            "Possibility #45\n",
            "The system of equations is:\n",
            "========================================\n"
          ]
        },
        {
          "output_type": "display_data",
          "data": {
            "text/plain": [
              "<IPython.core.display.Math object>"
            ],
            "text/latex": "$\\displaystyle \\textbf{Coefficient Values:}\\\\a_{1,1} = 1 , a_{1,2} = 2 , a_{1,3} = 3\\\\a_{2,1} = 3 , a_{2,2} = 3 , a_{2,3} = 1\\\\a_{3,1} = 2 , a_{3,2} = 1 , a_{3,3} = 2\\\\[1em]\\textbf{Variable Values:}\\\\x_{1} = 25000 , x_{2} = 25500 , x_{3} = 26000\\\\[1em]\\begin{cases}x_{1} + 2 x_{2} + 3 x_{3} = \\mathtt{\\text{154,000}}\\\\3 x_{1} + 3 x_{2} + x_{3} = \\mathtt{\\text{177,500}}\\\\2 x_{1} + x_{2} + 2 x_{3} = \\mathtt{\\text{127,500}}\\end{cases}$"
          },
          "metadata": {}
        },
        {
          "output_type": "stream",
          "name": "stdout",
          "text": [
            "\n",
            "Possibility #46\n",
            "The system of equations is:\n",
            "========================================\n"
          ]
        },
        {
          "output_type": "display_data",
          "data": {
            "text/plain": [
              "<IPython.core.display.Math object>"
            ],
            "text/latex": "$\\displaystyle \\textbf{Coefficient Values:}\\\\a_{1,1} = 1 , a_{1,2} = 2 , a_{1,3} = 3\\\\a_{2,1} = 3 , a_{2,2} = 3 , a_{2,3} = 2\\\\a_{3,1} = 2 , a_{3,2} = 1 , a_{3,3} = 1\\\\[1em]\\textbf{Variable Values:}\\\\x_{1} = 25000 , x_{2} = 25500 , x_{3} = 26000\\\\[1em]\\begin{cases}x_{1} + 2 x_{2} + 3 x_{3} = \\mathtt{\\text{154,000}}\\\\3 x_{1} + 3 x_{2} + 2 x_{3} = \\mathtt{\\text{203,500}}\\\\2 x_{1} + x_{2} + x_{3} = \\mathtt{\\text{101,500}}\\end{cases}$"
          },
          "metadata": {}
        },
        {
          "output_type": "stream",
          "name": "stdout",
          "text": [
            "\n",
            "Possibility #47\n",
            "The system of equations is:\n",
            "========================================\n"
          ]
        },
        {
          "output_type": "display_data",
          "data": {
            "text/plain": [
              "<IPython.core.display.Math object>"
            ],
            "text/latex": "$\\displaystyle \\textbf{Coefficient Values:}\\\\a_{1,1} = 1 , a_{1,2} = 3 , a_{1,3} = 1\\\\a_{2,1} = 2 , a_{2,2} = 1 , a_{2,3} = 2\\\\a_{3,1} = 3 , a_{3,2} = 2 , a_{3,3} = 3\\\\[1em]\\textbf{Variable Values:}\\\\x_{1} = 25000 , x_{2} = 25500 , x_{3} = 26000\\\\[1em]\\begin{cases}x_{1} + 3 x_{2} + x_{3} = \\mathtt{\\text{127,500}}\\\\2 x_{1} + x_{2} + 2 x_{3} = \\mathtt{\\text{127,500}}\\\\3 x_{1} + 2 x_{2} + 3 x_{3} = \\mathtt{\\text{204,000}}\\end{cases}$"
          },
          "metadata": {}
        },
        {
          "output_type": "stream",
          "name": "stdout",
          "text": [
            "\n",
            "Possibility #48\n",
            "The system of equations is:\n",
            "========================================\n"
          ]
        },
        {
          "output_type": "display_data",
          "data": {
            "text/plain": [
              "<IPython.core.display.Math object>"
            ],
            "text/latex": "$\\displaystyle \\textbf{Coefficient Values:}\\\\a_{1,1} = 1 , a_{1,2} = 3 , a_{1,3} = 1\\\\a_{2,1} = 2 , a_{2,2} = 1 , a_{2,3} = 3\\\\a_{3,1} = 3 , a_{3,2} = 2 , a_{3,3} = 2\\\\[1em]\\textbf{Variable Values:}\\\\x_{1} = 25000 , x_{2} = 25500 , x_{3} = 26000\\\\[1em]\\begin{cases}x_{1} + 3 x_{2} + x_{3} = \\mathtt{\\text{127,500}}\\\\2 x_{1} + x_{2} + 3 x_{3} = \\mathtt{\\text{153,500}}\\\\3 x_{1} + 2 x_{2} + 2 x_{3} = \\mathtt{\\text{178,000}}\\end{cases}$"
          },
          "metadata": {}
        },
        {
          "output_type": "stream",
          "name": "stdout",
          "text": [
            "\n",
            "Possibility #49\n",
            "The system of equations is:\n",
            "========================================\n"
          ]
        },
        {
          "output_type": "display_data",
          "data": {
            "text/plain": [
              "<IPython.core.display.Math object>"
            ],
            "text/latex": "$\\displaystyle \\textbf{Coefficient Values:}\\\\a_{1,1} = 1 , a_{1,2} = 3 , a_{1,3} = 1\\\\a_{2,1} = 2 , a_{2,2} = 2 , a_{2,3} = 2\\\\a_{3,1} = 3 , a_{3,2} = 1 , a_{3,3} = 3\\\\[1em]\\textbf{Variable Values:}\\\\x_{1} = 25000 , x_{2} = 25500 , x_{3} = 26000\\\\[1em]\\begin{cases}x_{1} + 3 x_{2} + x_{3} = \\mathtt{\\text{127,500}}\\\\2 x_{1} + 2 x_{2} + 2 x_{3} = \\mathtt{\\text{153,000}}\\\\3 x_{1} + x_{2} + 3 x_{3} = \\mathtt{\\text{178,500}}\\end{cases}$"
          },
          "metadata": {}
        },
        {
          "output_type": "stream",
          "name": "stdout",
          "text": [
            "\n",
            "Possibility #50\n",
            "The system of equations is:\n",
            "========================================\n"
          ]
        },
        {
          "output_type": "display_data",
          "data": {
            "text/plain": [
              "<IPython.core.display.Math object>"
            ],
            "text/latex": "$\\displaystyle \\textbf{Coefficient Values:}\\\\a_{1,1} = 1 , a_{1,2} = 3 , a_{1,3} = 1\\\\a_{2,1} = 2 , a_{2,2} = 2 , a_{2,3} = 3\\\\a_{3,1} = 3 , a_{3,2} = 1 , a_{3,3} = 2\\\\[1em]\\textbf{Variable Values:}\\\\x_{1} = 25000 , x_{2} = 25500 , x_{3} = 26000\\\\[1em]\\begin{cases}x_{1} + 3 x_{2} + x_{3} = \\mathtt{\\text{127,500}}\\\\2 x_{1} + 2 x_{2} + 3 x_{3} = \\mathtt{\\text{179,000}}\\\\3 x_{1} + x_{2} + 2 x_{3} = \\mathtt{\\text{152,500}}\\end{cases}$"
          },
          "metadata": {}
        },
        {
          "output_type": "stream",
          "name": "stdout",
          "text": [
            "\n",
            "Possibility #51\n",
            "The system of equations is:\n",
            "========================================\n"
          ]
        },
        {
          "output_type": "display_data",
          "data": {
            "text/plain": [
              "<IPython.core.display.Math object>"
            ],
            "text/latex": "$\\displaystyle \\textbf{Coefficient Values:}\\\\a_{1,1} = 1 , a_{1,2} = 3 , a_{1,3} = 1\\\\a_{2,1} = 3 , a_{2,2} = 1 , a_{2,3} = 2\\\\a_{3,1} = 2 , a_{3,2} = 2 , a_{3,3} = 3\\\\[1em]\\textbf{Variable Values:}\\\\x_{1} = 25000 , x_{2} = 25500 , x_{3} = 26000\\\\[1em]\\begin{cases}x_{1} + 3 x_{2} + x_{3} = \\mathtt{\\text{127,500}}\\\\3 x_{1} + x_{2} + 2 x_{3} = \\mathtt{\\text{152,500}}\\\\2 x_{1} + 2 x_{2} + 3 x_{3} = \\mathtt{\\text{179,000}}\\end{cases}$"
          },
          "metadata": {}
        },
        {
          "output_type": "stream",
          "name": "stdout",
          "text": [
            "\n",
            "Possibility #52\n",
            "The system of equations is:\n",
            "========================================\n"
          ]
        },
        {
          "output_type": "display_data",
          "data": {
            "text/plain": [
              "<IPython.core.display.Math object>"
            ],
            "text/latex": "$\\displaystyle \\textbf{Coefficient Values:}\\\\a_{1,1} = 1 , a_{1,2} = 3 , a_{1,3} = 1\\\\a_{2,1} = 3 , a_{2,2} = 1 , a_{2,3} = 3\\\\a_{3,1} = 2 , a_{3,2} = 2 , a_{3,3} = 2\\\\[1em]\\textbf{Variable Values:}\\\\x_{1} = 25000 , x_{2} = 25500 , x_{3} = 26000\\\\[1em]\\begin{cases}x_{1} + 3 x_{2} + x_{3} = \\mathtt{\\text{127,500}}\\\\3 x_{1} + x_{2} + 3 x_{3} = \\mathtt{\\text{178,500}}\\\\2 x_{1} + 2 x_{2} + 2 x_{3} = \\mathtt{\\text{153,000}}\\end{cases}$"
          },
          "metadata": {}
        },
        {
          "output_type": "stream",
          "name": "stdout",
          "text": [
            "\n",
            "Possibility #53\n",
            "The system of equations is:\n",
            "========================================\n"
          ]
        },
        {
          "output_type": "display_data",
          "data": {
            "text/plain": [
              "<IPython.core.display.Math object>"
            ],
            "text/latex": "$\\displaystyle \\textbf{Coefficient Values:}\\\\a_{1,1} = 1 , a_{1,2} = 3 , a_{1,3} = 1\\\\a_{2,1} = 3 , a_{2,2} = 2 , a_{2,3} = 2\\\\a_{3,1} = 2 , a_{3,2} = 1 , a_{3,3} = 3\\\\[1em]\\textbf{Variable Values:}\\\\x_{1} = 25000 , x_{2} = 25500 , x_{3} = 26000\\\\[1em]\\begin{cases}x_{1} + 3 x_{2} + x_{3} = \\mathtt{\\text{127,500}}\\\\3 x_{1} + 2 x_{2} + 2 x_{3} = \\mathtt{\\text{178,000}}\\\\2 x_{1} + x_{2} + 3 x_{3} = \\mathtt{\\text{153,500}}\\end{cases}$"
          },
          "metadata": {}
        },
        {
          "output_type": "stream",
          "name": "stdout",
          "text": [
            "\n",
            "Possibility #54\n",
            "The system of equations is:\n",
            "========================================\n"
          ]
        },
        {
          "output_type": "display_data",
          "data": {
            "text/plain": [
              "<IPython.core.display.Math object>"
            ],
            "text/latex": "$\\displaystyle \\textbf{Coefficient Values:}\\\\a_{1,1} = 1 , a_{1,2} = 3 , a_{1,3} = 1\\\\a_{2,1} = 3 , a_{2,2} = 2 , a_{2,3} = 3\\\\a_{3,1} = 2 , a_{3,2} = 1 , a_{3,3} = 2\\\\[1em]\\textbf{Variable Values:}\\\\x_{1} = 25000 , x_{2} = 25500 , x_{3} = 26000\\\\[1em]\\begin{cases}x_{1} + 3 x_{2} + x_{3} = \\mathtt{\\text{127,500}}\\\\3 x_{1} + 2 x_{2} + 3 x_{3} = \\mathtt{\\text{204,000}}\\\\2 x_{1} + x_{2} + 2 x_{3} = \\mathtt{\\text{127,500}}\\end{cases}$"
          },
          "metadata": {}
        },
        {
          "output_type": "stream",
          "name": "stdout",
          "text": [
            "\n",
            "Possibility #55\n",
            "The system of equations is:\n",
            "========================================\n"
          ]
        },
        {
          "output_type": "display_data",
          "data": {
            "text/plain": [
              "<IPython.core.display.Math object>"
            ],
            "text/latex": "$\\displaystyle \\textbf{Coefficient Values:}\\\\a_{1,1} = 1 , a_{1,2} = 3 , a_{1,3} = 2\\\\a_{2,1} = 2 , a_{2,2} = 1 , a_{2,3} = 1\\\\a_{3,1} = 3 , a_{3,2} = 2 , a_{3,3} = 3\\\\[1em]\\textbf{Variable Values:}\\\\x_{1} = 25000 , x_{2} = 25500 , x_{3} = 26000\\\\[1em]\\begin{cases}x_{1} + 3 x_{2} + 2 x_{3} = \\mathtt{\\text{153,500}}\\\\2 x_{1} + x_{2} + x_{3} = \\mathtt{\\text{101,500}}\\\\3 x_{1} + 2 x_{2} + 3 x_{3} = \\mathtt{\\text{204,000}}\\end{cases}$"
          },
          "metadata": {}
        },
        {
          "output_type": "stream",
          "name": "stdout",
          "text": [
            "\n",
            "Possibility #56\n",
            "The system of equations is:\n",
            "========================================\n"
          ]
        },
        {
          "output_type": "display_data",
          "data": {
            "text/plain": [
              "<IPython.core.display.Math object>"
            ],
            "text/latex": "$\\displaystyle \\textbf{Coefficient Values:}\\\\a_{1,1} = 1 , a_{1,2} = 3 , a_{1,3} = 2\\\\a_{2,1} = 2 , a_{2,2} = 1 , a_{2,3} = 3\\\\a_{3,1} = 3 , a_{3,2} = 2 , a_{3,3} = 1\\\\[1em]\\textbf{Variable Values:}\\\\x_{1} = 25000 , x_{2} = 25500 , x_{3} = 26000\\\\[1em]\\begin{cases}x_{1} + 3 x_{2} + 2 x_{3} = \\mathtt{\\text{153,500}}\\\\2 x_{1} + x_{2} + 3 x_{3} = \\mathtt{\\text{153,500}}\\\\3 x_{1} + 2 x_{2} + x_{3} = \\mathtt{\\text{152,000}}\\end{cases}$"
          },
          "metadata": {}
        },
        {
          "output_type": "stream",
          "name": "stdout",
          "text": [
            "\n",
            "Possibility #57\n",
            "The system of equations is:\n",
            "========================================\n"
          ]
        },
        {
          "output_type": "display_data",
          "data": {
            "text/plain": [
              "<IPython.core.display.Math object>"
            ],
            "text/latex": "$\\displaystyle \\textbf{Coefficient Values:}\\\\a_{1,1} = 1 , a_{1,2} = 3 , a_{1,3} = 2\\\\a_{2,1} = 2 , a_{2,2} = 2 , a_{2,3} = 1\\\\a_{3,1} = 3 , a_{3,2} = 1 , a_{3,3} = 3\\\\[1em]\\textbf{Variable Values:}\\\\x_{1} = 25000 , x_{2} = 25500 , x_{3} = 26000\\\\[1em]\\begin{cases}x_{1} + 3 x_{2} + 2 x_{3} = \\mathtt{\\text{153,500}}\\\\2 x_{1} + 2 x_{2} + x_{3} = \\mathtt{\\text{127,000}}\\\\3 x_{1} + x_{2} + 3 x_{3} = \\mathtt{\\text{178,500}}\\end{cases}$"
          },
          "metadata": {}
        },
        {
          "output_type": "stream",
          "name": "stdout",
          "text": [
            "\n",
            "Possibility #58\n",
            "The system of equations is:\n",
            "========================================\n"
          ]
        },
        {
          "output_type": "display_data",
          "data": {
            "text/plain": [
              "<IPython.core.display.Math object>"
            ],
            "text/latex": "$\\displaystyle \\textbf{Coefficient Values:}\\\\a_{1,1} = 1 , a_{1,2} = 3 , a_{1,3} = 2\\\\a_{2,1} = 2 , a_{2,2} = 2 , a_{2,3} = 3\\\\a_{3,1} = 3 , a_{3,2} = 1 , a_{3,3} = 1\\\\[1em]\\textbf{Variable Values:}\\\\x_{1} = 25000 , x_{2} = 25500 , x_{3} = 26000\\\\[1em]\\begin{cases}x_{1} + 3 x_{2} + 2 x_{3} = \\mathtt{\\text{153,500}}\\\\2 x_{1} + 2 x_{2} + 3 x_{3} = \\mathtt{\\text{179,000}}\\\\3 x_{1} + x_{2} + x_{3} = \\mathtt{\\text{126,500}}\\end{cases}$"
          },
          "metadata": {}
        },
        {
          "output_type": "stream",
          "name": "stdout",
          "text": [
            "\n",
            "Possibility #59\n",
            "The system of equations is:\n",
            "========================================\n"
          ]
        },
        {
          "output_type": "display_data",
          "data": {
            "text/plain": [
              "<IPython.core.display.Math object>"
            ],
            "text/latex": "$\\displaystyle \\textbf{Coefficient Values:}\\\\a_{1,1} = 1 , a_{1,2} = 3 , a_{1,3} = 2\\\\a_{2,1} = 3 , a_{2,2} = 1 , a_{2,3} = 1\\\\a_{3,1} = 2 , a_{3,2} = 2 , a_{3,3} = 3\\\\[1em]\\textbf{Variable Values:}\\\\x_{1} = 25000 , x_{2} = 25500 , x_{3} = 26000\\\\[1em]\\begin{cases}x_{1} + 3 x_{2} + 2 x_{3} = \\mathtt{\\text{153,500}}\\\\3 x_{1} + x_{2} + x_{3} = \\mathtt{\\text{126,500}}\\\\2 x_{1} + 2 x_{2} + 3 x_{3} = \\mathtt{\\text{179,000}}\\end{cases}$"
          },
          "metadata": {}
        },
        {
          "output_type": "stream",
          "name": "stdout",
          "text": [
            "\n",
            "Possibility #60\n",
            "The system of equations is:\n",
            "========================================\n"
          ]
        },
        {
          "output_type": "display_data",
          "data": {
            "text/plain": [
              "<IPython.core.display.Math object>"
            ],
            "text/latex": "$\\displaystyle \\textbf{Coefficient Values:}\\\\a_{1,1} = 1 , a_{1,2} = 3 , a_{1,3} = 2\\\\a_{2,1} = 3 , a_{2,2} = 1 , a_{2,3} = 3\\\\a_{3,1} = 2 , a_{3,2} = 2 , a_{3,3} = 1\\\\[1em]\\textbf{Variable Values:}\\\\x_{1} = 25000 , x_{2} = 25500 , x_{3} = 26000\\\\[1em]\\begin{cases}x_{1} + 3 x_{2} + 2 x_{3} = \\mathtt{\\text{153,500}}\\\\3 x_{1} + x_{2} + 3 x_{3} = \\mathtt{\\text{178,500}}\\\\2 x_{1} + 2 x_{2} + x_{3} = \\mathtt{\\text{127,000}}\\end{cases}$"
          },
          "metadata": {}
        },
        {
          "output_type": "stream",
          "name": "stdout",
          "text": [
            "\n",
            "Possibility #61\n",
            "The system of equations is:\n",
            "========================================\n"
          ]
        },
        {
          "output_type": "display_data",
          "data": {
            "text/plain": [
              "<IPython.core.display.Math object>"
            ],
            "text/latex": "$\\displaystyle \\textbf{Coefficient Values:}\\\\a_{1,1} = 1 , a_{1,2} = 3 , a_{1,3} = 2\\\\a_{2,1} = 3 , a_{2,2} = 2 , a_{2,3} = 1\\\\a_{3,1} = 2 , a_{3,2} = 1 , a_{3,3} = 3\\\\[1em]\\textbf{Variable Values:}\\\\x_{1} = 25000 , x_{2} = 25500 , x_{3} = 26000\\\\[1em]\\begin{cases}x_{1} + 3 x_{2} + 2 x_{3} = \\mathtt{\\text{153,500}}\\\\3 x_{1} + 2 x_{2} + x_{3} = \\mathtt{\\text{152,000}}\\\\2 x_{1} + x_{2} + 3 x_{3} = \\mathtt{\\text{153,500}}\\end{cases}$"
          },
          "metadata": {}
        },
        {
          "output_type": "stream",
          "name": "stdout",
          "text": [
            "\n",
            "Possibility #62\n",
            "The system of equations is:\n",
            "========================================\n"
          ]
        },
        {
          "output_type": "display_data",
          "data": {
            "text/plain": [
              "<IPython.core.display.Math object>"
            ],
            "text/latex": "$\\displaystyle \\textbf{Coefficient Values:}\\\\a_{1,1} = 1 , a_{1,2} = 3 , a_{1,3} = 2\\\\a_{2,1} = 3 , a_{2,2} = 2 , a_{2,3} = 3\\\\a_{3,1} = 2 , a_{3,2} = 1 , a_{3,3} = 1\\\\[1em]\\textbf{Variable Values:}\\\\x_{1} = 25000 , x_{2} = 25500 , x_{3} = 26000\\\\[1em]\\begin{cases}x_{1} + 3 x_{2} + 2 x_{3} = \\mathtt{\\text{153,500}}\\\\3 x_{1} + 2 x_{2} + 3 x_{3} = \\mathtt{\\text{204,000}}\\\\2 x_{1} + x_{2} + x_{3} = \\mathtt{\\text{101,500}}\\end{cases}$"
          },
          "metadata": {}
        },
        {
          "output_type": "stream",
          "name": "stdout",
          "text": [
            "\n",
            "Possibility #63\n",
            "The system of equations is:\n",
            "========================================\n"
          ]
        },
        {
          "output_type": "display_data",
          "data": {
            "text/plain": [
              "<IPython.core.display.Math object>"
            ],
            "text/latex": "$\\displaystyle \\textbf{Coefficient Values:}\\\\a_{1,1} = 1 , a_{1,2} = 3 , a_{1,3} = 3\\\\a_{2,1} = 2 , a_{2,2} = 1 , a_{2,3} = 1\\\\a_{3,1} = 3 , a_{3,2} = 2 , a_{3,3} = 2\\\\[1em]\\textbf{Variable Values:}\\\\x_{1} = 25000 , x_{2} = 25500 , x_{3} = 26000\\\\[1em]\\begin{cases}x_{1} + 3 x_{2} + 3 x_{3} = \\mathtt{\\text{179,500}}\\\\2 x_{1} + x_{2} + x_{3} = \\mathtt{\\text{101,500}}\\\\3 x_{1} + 2 x_{2} + 2 x_{3} = \\mathtt{\\text{178,000}}\\end{cases}$"
          },
          "metadata": {}
        },
        {
          "output_type": "stream",
          "name": "stdout",
          "text": [
            "\n",
            "Possibility #64\n",
            "The system of equations is:\n",
            "========================================\n"
          ]
        },
        {
          "output_type": "display_data",
          "data": {
            "text/plain": [
              "<IPython.core.display.Math object>"
            ],
            "text/latex": "$\\displaystyle \\textbf{Coefficient Values:}\\\\a_{1,1} = 1 , a_{1,2} = 3 , a_{1,3} = 3\\\\a_{2,1} = 2 , a_{2,2} = 1 , a_{2,3} = 2\\\\a_{3,1} = 3 , a_{3,2} = 2 , a_{3,3} = 1\\\\[1em]\\textbf{Variable Values:}\\\\x_{1} = 25000 , x_{2} = 25500 , x_{3} = 26000\\\\[1em]\\begin{cases}x_{1} + 3 x_{2} + 3 x_{3} = \\mathtt{\\text{179,500}}\\\\2 x_{1} + x_{2} + 2 x_{3} = \\mathtt{\\text{127,500}}\\\\3 x_{1} + 2 x_{2} + x_{3} = \\mathtt{\\text{152,000}}\\end{cases}$"
          },
          "metadata": {}
        },
        {
          "output_type": "stream",
          "name": "stdout",
          "text": [
            "\n",
            "Possibility #65\n",
            "The system of equations is:\n",
            "========================================\n"
          ]
        },
        {
          "output_type": "display_data",
          "data": {
            "text/plain": [
              "<IPython.core.display.Math object>"
            ],
            "text/latex": "$\\displaystyle \\textbf{Coefficient Values:}\\\\a_{1,1} = 1 , a_{1,2} = 3 , a_{1,3} = 3\\\\a_{2,1} = 2 , a_{2,2} = 2 , a_{2,3} = 1\\\\a_{3,1} = 3 , a_{3,2} = 1 , a_{3,3} = 2\\\\[1em]\\textbf{Variable Values:}\\\\x_{1} = 25000 , x_{2} = 25500 , x_{3} = 26000\\\\[1em]\\begin{cases}x_{1} + 3 x_{2} + 3 x_{3} = \\mathtt{\\text{179,500}}\\\\2 x_{1} + 2 x_{2} + x_{3} = \\mathtt{\\text{127,000}}\\\\3 x_{1} + x_{2} + 2 x_{3} = \\mathtt{\\text{152,500}}\\end{cases}$"
          },
          "metadata": {}
        },
        {
          "output_type": "stream",
          "name": "stdout",
          "text": [
            "\n",
            "Possibility #66\n",
            "The system of equations is:\n",
            "========================================\n"
          ]
        },
        {
          "output_type": "display_data",
          "data": {
            "text/plain": [
              "<IPython.core.display.Math object>"
            ],
            "text/latex": "$\\displaystyle \\textbf{Coefficient Values:}\\\\a_{1,1} = 1 , a_{1,2} = 3 , a_{1,3} = 3\\\\a_{2,1} = 2 , a_{2,2} = 2 , a_{2,3} = 2\\\\a_{3,1} = 3 , a_{3,2} = 1 , a_{3,3} = 1\\\\[1em]\\textbf{Variable Values:}\\\\x_{1} = 25000 , x_{2} = 25500 , x_{3} = 26000\\\\[1em]\\begin{cases}x_{1} + 3 x_{2} + 3 x_{3} = \\mathtt{\\text{179,500}}\\\\2 x_{1} + 2 x_{2} + 2 x_{3} = \\mathtt{\\text{153,000}}\\\\3 x_{1} + x_{2} + x_{3} = \\mathtt{\\text{126,500}}\\end{cases}$"
          },
          "metadata": {}
        },
        {
          "output_type": "stream",
          "name": "stdout",
          "text": [
            "\n",
            "Possibility #67\n",
            "The system of equations is:\n",
            "========================================\n"
          ]
        },
        {
          "output_type": "display_data",
          "data": {
            "text/plain": [
              "<IPython.core.display.Math object>"
            ],
            "text/latex": "$\\displaystyle \\textbf{Coefficient Values:}\\\\a_{1,1} = 1 , a_{1,2} = 3 , a_{1,3} = 3\\\\a_{2,1} = 3 , a_{2,2} = 1 , a_{2,3} = 1\\\\a_{3,1} = 2 , a_{3,2} = 2 , a_{3,3} = 2\\\\[1em]\\textbf{Variable Values:}\\\\x_{1} = 25000 , x_{2} = 25500 , x_{3} = 26000\\\\[1em]\\begin{cases}x_{1} + 3 x_{2} + 3 x_{3} = \\mathtt{\\text{179,500}}\\\\3 x_{1} + x_{2} + x_{3} = \\mathtt{\\text{126,500}}\\\\2 x_{1} + 2 x_{2} + 2 x_{3} = \\mathtt{\\text{153,000}}\\end{cases}$"
          },
          "metadata": {}
        },
        {
          "output_type": "stream",
          "name": "stdout",
          "text": [
            "\n",
            "Possibility #68\n",
            "The system of equations is:\n",
            "========================================\n"
          ]
        },
        {
          "output_type": "display_data",
          "data": {
            "text/plain": [
              "<IPython.core.display.Math object>"
            ],
            "text/latex": "$\\displaystyle \\textbf{Coefficient Values:}\\\\a_{1,1} = 1 , a_{1,2} = 3 , a_{1,3} = 3\\\\a_{2,1} = 3 , a_{2,2} = 1 , a_{2,3} = 2\\\\a_{3,1} = 2 , a_{3,2} = 2 , a_{3,3} = 1\\\\[1em]\\textbf{Variable Values:}\\\\x_{1} = 25000 , x_{2} = 25500 , x_{3} = 26000\\\\[1em]\\begin{cases}x_{1} + 3 x_{2} + 3 x_{3} = \\mathtt{\\text{179,500}}\\\\3 x_{1} + x_{2} + 2 x_{3} = \\mathtt{\\text{152,500}}\\\\2 x_{1} + 2 x_{2} + x_{3} = \\mathtt{\\text{127,000}}\\end{cases}$"
          },
          "metadata": {}
        },
        {
          "output_type": "stream",
          "name": "stdout",
          "text": [
            "\n",
            "Possibility #69\n",
            "The system of equations is:\n",
            "========================================\n"
          ]
        },
        {
          "output_type": "display_data",
          "data": {
            "text/plain": [
              "<IPython.core.display.Math object>"
            ],
            "text/latex": "$\\displaystyle \\textbf{Coefficient Values:}\\\\a_{1,1} = 1 , a_{1,2} = 3 , a_{1,3} = 3\\\\a_{2,1} = 3 , a_{2,2} = 2 , a_{2,3} = 1\\\\a_{3,1} = 2 , a_{3,2} = 1 , a_{3,3} = 2\\\\[1em]\\textbf{Variable Values:}\\\\x_{1} = 25000 , x_{2} = 25500 , x_{3} = 26000\\\\[1em]\\begin{cases}x_{1} + 3 x_{2} + 3 x_{3} = \\mathtt{\\text{179,500}}\\\\3 x_{1} + 2 x_{2} + x_{3} = \\mathtt{\\text{152,000}}\\\\2 x_{1} + x_{2} + 2 x_{3} = \\mathtt{\\text{127,500}}\\end{cases}$"
          },
          "metadata": {}
        },
        {
          "output_type": "stream",
          "name": "stdout",
          "text": [
            "\n",
            "Possibility #70\n",
            "The system of equations is:\n",
            "========================================\n"
          ]
        },
        {
          "output_type": "display_data",
          "data": {
            "text/plain": [
              "<IPython.core.display.Math object>"
            ],
            "text/latex": "$\\displaystyle \\textbf{Coefficient Values:}\\\\a_{1,1} = 1 , a_{1,2} = 3 , a_{1,3} = 3\\\\a_{2,1} = 3 , a_{2,2} = 2 , a_{2,3} = 2\\\\a_{3,1} = 2 , a_{3,2} = 1 , a_{3,3} = 1\\\\[1em]\\textbf{Variable Values:}\\\\x_{1} = 25000 , x_{2} = 25500 , x_{3} = 26000\\\\[1em]\\begin{cases}x_{1} + 3 x_{2} + 3 x_{3} = \\mathtt{\\text{179,500}}\\\\3 x_{1} + 2 x_{2} + 2 x_{3} = \\mathtt{\\text{178,000}}\\\\2 x_{1} + x_{2} + x_{3} = \\mathtt{\\text{101,500}}\\end{cases}$"
          },
          "metadata": {}
        },
        {
          "output_type": "stream",
          "name": "stdout",
          "text": [
            "\n",
            "Possibility #71\n",
            "The system of equations is:\n",
            "========================================\n"
          ]
        },
        {
          "output_type": "display_data",
          "data": {
            "text/plain": [
              "<IPython.core.display.Math object>"
            ],
            "text/latex": "$\\displaystyle \\textbf{Coefficient Values:}\\\\a_{1,1} = 2 , a_{1,2} = 1 , a_{1,3} = 1\\\\a_{2,1} = 1 , a_{2,2} = 2 , a_{2,3} = 2\\\\a_{3,1} = 3 , a_{3,2} = 3 , a_{3,3} = 3\\\\[1em]\\textbf{Variable Values:}\\\\x_{1} = 25000 , x_{2} = 25500 , x_{3} = 26000\\\\[1em]\\begin{cases}2 x_{1} + x_{2} + x_{3} = \\mathtt{\\text{101,500}}\\\\x_{1} + 2 x_{2} + 2 x_{3} = \\mathtt{\\text{128,000}}\\\\3 x_{1} + 3 x_{2} + 3 x_{3} = \\mathtt{\\text{229,500}}\\end{cases}$"
          },
          "metadata": {}
        },
        {
          "output_type": "stream",
          "name": "stdout",
          "text": [
            "\n",
            "Possibility #72\n",
            "The system of equations is:\n",
            "========================================\n"
          ]
        },
        {
          "output_type": "display_data",
          "data": {
            "text/plain": [
              "<IPython.core.display.Math object>"
            ],
            "text/latex": "$\\displaystyle \\textbf{Coefficient Values:}\\\\a_{1,1} = 2 , a_{1,2} = 1 , a_{1,3} = 1\\\\a_{2,1} = 1 , a_{2,2} = 2 , a_{2,3} = 3\\\\a_{3,1} = 3 , a_{3,2} = 3 , a_{3,3} = 2\\\\[1em]\\textbf{Variable Values:}\\\\x_{1} = 25000 , x_{2} = 25500 , x_{3} = 26000\\\\[1em]\\begin{cases}2 x_{1} + x_{2} + x_{3} = \\mathtt{\\text{101,500}}\\\\x_{1} + 2 x_{2} + 3 x_{3} = \\mathtt{\\text{154,000}}\\\\3 x_{1} + 3 x_{2} + 2 x_{3} = \\mathtt{\\text{203,500}}\\end{cases}$"
          },
          "metadata": {}
        },
        {
          "output_type": "stream",
          "name": "stdout",
          "text": [
            "\n",
            "Possibility #73\n",
            "The system of equations is:\n",
            "========================================\n"
          ]
        },
        {
          "output_type": "display_data",
          "data": {
            "text/plain": [
              "<IPython.core.display.Math object>"
            ],
            "text/latex": "$\\displaystyle \\textbf{Coefficient Values:}\\\\a_{1,1} = 2 , a_{1,2} = 1 , a_{1,3} = 1\\\\a_{2,1} = 1 , a_{2,2} = 3 , a_{2,3} = 2\\\\a_{3,1} = 3 , a_{3,2} = 2 , a_{3,3} = 3\\\\[1em]\\textbf{Variable Values:}\\\\x_{1} = 25000 , x_{2} = 25500 , x_{3} = 26000\\\\[1em]\\begin{cases}2 x_{1} + x_{2} + x_{3} = \\mathtt{\\text{101,500}}\\\\x_{1} + 3 x_{2} + 2 x_{3} = \\mathtt{\\text{153,500}}\\\\3 x_{1} + 2 x_{2} + 3 x_{3} = \\mathtt{\\text{204,000}}\\end{cases}$"
          },
          "metadata": {}
        },
        {
          "output_type": "stream",
          "name": "stdout",
          "text": [
            "\n",
            "Possibility #74\n",
            "The system of equations is:\n",
            "========================================\n"
          ]
        },
        {
          "output_type": "display_data",
          "data": {
            "text/plain": [
              "<IPython.core.display.Math object>"
            ],
            "text/latex": "$\\displaystyle \\textbf{Coefficient Values:}\\\\a_{1,1} = 2 , a_{1,2} = 1 , a_{1,3} = 1\\\\a_{2,1} = 1 , a_{2,2} = 3 , a_{2,3} = 3\\\\a_{3,1} = 3 , a_{3,2} = 2 , a_{3,3} = 2\\\\[1em]\\textbf{Variable Values:}\\\\x_{1} = 25000 , x_{2} = 25500 , x_{3} = 26000\\\\[1em]\\begin{cases}2 x_{1} + x_{2} + x_{3} = \\mathtt{\\text{101,500}}\\\\x_{1} + 3 x_{2} + 3 x_{3} = \\mathtt{\\text{179,500}}\\\\3 x_{1} + 2 x_{2} + 2 x_{3} = \\mathtt{\\text{178,000}}\\end{cases}$"
          },
          "metadata": {}
        },
        {
          "output_type": "stream",
          "name": "stdout",
          "text": [
            "\n",
            "Possibility #75\n",
            "The system of equations is:\n",
            "========================================\n"
          ]
        },
        {
          "output_type": "display_data",
          "data": {
            "text/plain": [
              "<IPython.core.display.Math object>"
            ],
            "text/latex": "$\\displaystyle \\textbf{Coefficient Values:}\\\\a_{1,1} = 2 , a_{1,2} = 1 , a_{1,3} = 1\\\\a_{2,1} = 3 , a_{2,2} = 2 , a_{2,3} = 2\\\\a_{3,1} = 1 , a_{3,2} = 3 , a_{3,3} = 3\\\\[1em]\\textbf{Variable Values:}\\\\x_{1} = 25000 , x_{2} = 25500 , x_{3} = 26000\\\\[1em]\\begin{cases}2 x_{1} + x_{2} + x_{3} = \\mathtt{\\text{101,500}}\\\\3 x_{1} + 2 x_{2} + 2 x_{3} = \\mathtt{\\text{178,000}}\\\\x_{1} + 3 x_{2} + 3 x_{3} = \\mathtt{\\text{179,500}}\\end{cases}$"
          },
          "metadata": {}
        },
        {
          "output_type": "stream",
          "name": "stdout",
          "text": [
            "\n",
            "Possibility #76\n",
            "The system of equations is:\n",
            "========================================\n"
          ]
        },
        {
          "output_type": "display_data",
          "data": {
            "text/plain": [
              "<IPython.core.display.Math object>"
            ],
            "text/latex": "$\\displaystyle \\textbf{Coefficient Values:}\\\\a_{1,1} = 2 , a_{1,2} = 1 , a_{1,3} = 1\\\\a_{2,1} = 3 , a_{2,2} = 2 , a_{2,3} = 3\\\\a_{3,1} = 1 , a_{3,2} = 3 , a_{3,3} = 2\\\\[1em]\\textbf{Variable Values:}\\\\x_{1} = 25000 , x_{2} = 25500 , x_{3} = 26000\\\\[1em]\\begin{cases}2 x_{1} + x_{2} + x_{3} = \\mathtt{\\text{101,500}}\\\\3 x_{1} + 2 x_{2} + 3 x_{3} = \\mathtt{\\text{204,000}}\\\\x_{1} + 3 x_{2} + 2 x_{3} = \\mathtt{\\text{153,500}}\\end{cases}$"
          },
          "metadata": {}
        },
        {
          "output_type": "stream",
          "name": "stdout",
          "text": [
            "\n",
            "Possibility #77\n",
            "The system of equations is:\n",
            "========================================\n"
          ]
        },
        {
          "output_type": "display_data",
          "data": {
            "text/plain": [
              "<IPython.core.display.Math object>"
            ],
            "text/latex": "$\\displaystyle \\textbf{Coefficient Values:}\\\\a_{1,1} = 2 , a_{1,2} = 1 , a_{1,3} = 1\\\\a_{2,1} = 3 , a_{2,2} = 3 , a_{2,3} = 2\\\\a_{3,1} = 1 , a_{3,2} = 2 , a_{3,3} = 3\\\\[1em]\\textbf{Variable Values:}\\\\x_{1} = 25000 , x_{2} = 25500 , x_{3} = 26000\\\\[1em]\\begin{cases}2 x_{1} + x_{2} + x_{3} = \\mathtt{\\text{101,500}}\\\\3 x_{1} + 3 x_{2} + 2 x_{3} = \\mathtt{\\text{203,500}}\\\\x_{1} + 2 x_{2} + 3 x_{3} = \\mathtt{\\text{154,000}}\\end{cases}$"
          },
          "metadata": {}
        },
        {
          "output_type": "stream",
          "name": "stdout",
          "text": [
            "\n",
            "Possibility #78\n",
            "The system of equations is:\n",
            "========================================\n"
          ]
        },
        {
          "output_type": "display_data",
          "data": {
            "text/plain": [
              "<IPython.core.display.Math object>"
            ],
            "text/latex": "$\\displaystyle \\textbf{Coefficient Values:}\\\\a_{1,1} = 2 , a_{1,2} = 1 , a_{1,3} = 1\\\\a_{2,1} = 3 , a_{2,2} = 3 , a_{2,3} = 3\\\\a_{3,1} = 1 , a_{3,2} = 2 , a_{3,3} = 2\\\\[1em]\\textbf{Variable Values:}\\\\x_{1} = 25000 , x_{2} = 25500 , x_{3} = 26000\\\\[1em]\\begin{cases}2 x_{1} + x_{2} + x_{3} = \\mathtt{\\text{101,500}}\\\\3 x_{1} + 3 x_{2} + 3 x_{3} = \\mathtt{\\text{229,500}}\\\\x_{1} + 2 x_{2} + 2 x_{3} = \\mathtt{\\text{128,000}}\\end{cases}$"
          },
          "metadata": {}
        },
        {
          "output_type": "stream",
          "name": "stdout",
          "text": [
            "\n",
            "Possibility #79\n",
            "The system of equations is:\n",
            "========================================\n"
          ]
        },
        {
          "output_type": "display_data",
          "data": {
            "text/plain": [
              "<IPython.core.display.Math object>"
            ],
            "text/latex": "$\\displaystyle \\textbf{Coefficient Values:}\\\\a_{1,1} = 2 , a_{1,2} = 1 , a_{1,3} = 2\\\\a_{2,1} = 1 , a_{2,2} = 2 , a_{2,3} = 1\\\\a_{3,1} = 3 , a_{3,2} = 3 , a_{3,3} = 3\\\\[1em]\\textbf{Variable Values:}\\\\x_{1} = 25000 , x_{2} = 25500 , x_{3} = 26000\\\\[1em]\\begin{cases}2 x_{1} + x_{2} + 2 x_{3} = \\mathtt{\\text{127,500}}\\\\x_{1} + 2 x_{2} + x_{3} = \\mathtt{\\text{102,000}}\\\\3 x_{1} + 3 x_{2} + 3 x_{3} = \\mathtt{\\text{229,500}}\\end{cases}$"
          },
          "metadata": {}
        },
        {
          "output_type": "stream",
          "name": "stdout",
          "text": [
            "\n",
            "Possibility #80\n",
            "The system of equations is:\n",
            "========================================\n"
          ]
        },
        {
          "output_type": "display_data",
          "data": {
            "text/plain": [
              "<IPython.core.display.Math object>"
            ],
            "text/latex": "$\\displaystyle \\textbf{Coefficient Values:}\\\\a_{1,1} = 2 , a_{1,2} = 1 , a_{1,3} = 2\\\\a_{2,1} = 1 , a_{2,2} = 2 , a_{2,3} = 3\\\\a_{3,1} = 3 , a_{3,2} = 3 , a_{3,3} = 1\\\\[1em]\\textbf{Variable Values:}\\\\x_{1} = 25000 , x_{2} = 25500 , x_{3} = 26000\\\\[1em]\\begin{cases}2 x_{1} + x_{2} + 2 x_{3} = \\mathtt{\\text{127,500}}\\\\x_{1} + 2 x_{2} + 3 x_{3} = \\mathtt{\\text{154,000}}\\\\3 x_{1} + 3 x_{2} + x_{3} = \\mathtt{\\text{177,500}}\\end{cases}$"
          },
          "metadata": {}
        },
        {
          "output_type": "stream",
          "name": "stdout",
          "text": [
            "\n",
            "Possibility #81\n",
            "The system of equations is:\n",
            "========================================\n"
          ]
        },
        {
          "output_type": "display_data",
          "data": {
            "text/plain": [
              "<IPython.core.display.Math object>"
            ],
            "text/latex": "$\\displaystyle \\textbf{Coefficient Values:}\\\\a_{1,1} = 2 , a_{1,2} = 1 , a_{1,3} = 2\\\\a_{2,1} = 1 , a_{2,2} = 3 , a_{2,3} = 1\\\\a_{3,1} = 3 , a_{3,2} = 2 , a_{3,3} = 3\\\\[1em]\\textbf{Variable Values:}\\\\x_{1} = 25000 , x_{2} = 25500 , x_{3} = 26000\\\\[1em]\\begin{cases}2 x_{1} + x_{2} + 2 x_{3} = \\mathtt{\\text{127,500}}\\\\x_{1} + 3 x_{2} + x_{3} = \\mathtt{\\text{127,500}}\\\\3 x_{1} + 2 x_{2} + 3 x_{3} = \\mathtt{\\text{204,000}}\\end{cases}$"
          },
          "metadata": {}
        },
        {
          "output_type": "stream",
          "name": "stdout",
          "text": [
            "\n",
            "Possibility #82\n",
            "The system of equations is:\n",
            "========================================\n"
          ]
        },
        {
          "output_type": "display_data",
          "data": {
            "text/plain": [
              "<IPython.core.display.Math object>"
            ],
            "text/latex": "$\\displaystyle \\textbf{Coefficient Values:}\\\\a_{1,1} = 2 , a_{1,2} = 1 , a_{1,3} = 2\\\\a_{2,1} = 1 , a_{2,2} = 3 , a_{2,3} = 3\\\\a_{3,1} = 3 , a_{3,2} = 2 , a_{3,3} = 1\\\\[1em]\\textbf{Variable Values:}\\\\x_{1} = 25000 , x_{2} = 25500 , x_{3} = 26000\\\\[1em]\\begin{cases}2 x_{1} + x_{2} + 2 x_{3} = \\mathtt{\\text{127,500}}\\\\x_{1} + 3 x_{2} + 3 x_{3} = \\mathtt{\\text{179,500}}\\\\3 x_{1} + 2 x_{2} + x_{3} = \\mathtt{\\text{152,000}}\\end{cases}$"
          },
          "metadata": {}
        },
        {
          "output_type": "stream",
          "name": "stdout",
          "text": [
            "\n",
            "Possibility #83\n",
            "The system of equations is:\n",
            "========================================\n"
          ]
        },
        {
          "output_type": "display_data",
          "data": {
            "text/plain": [
              "<IPython.core.display.Math object>"
            ],
            "text/latex": "$\\displaystyle \\textbf{Coefficient Values:}\\\\a_{1,1} = 2 , a_{1,2} = 1 , a_{1,3} = 2\\\\a_{2,1} = 3 , a_{2,2} = 2 , a_{2,3} = 1\\\\a_{3,1} = 1 , a_{3,2} = 3 , a_{3,3} = 3\\\\[1em]\\textbf{Variable Values:}\\\\x_{1} = 25000 , x_{2} = 25500 , x_{3} = 26000\\\\[1em]\\begin{cases}2 x_{1} + x_{2} + 2 x_{3} = \\mathtt{\\text{127,500}}\\\\3 x_{1} + 2 x_{2} + x_{3} = \\mathtt{\\text{152,000}}\\\\x_{1} + 3 x_{2} + 3 x_{3} = \\mathtt{\\text{179,500}}\\end{cases}$"
          },
          "metadata": {}
        },
        {
          "output_type": "stream",
          "name": "stdout",
          "text": [
            "\n",
            "Possibility #84\n",
            "The system of equations is:\n",
            "========================================\n"
          ]
        },
        {
          "output_type": "display_data",
          "data": {
            "text/plain": [
              "<IPython.core.display.Math object>"
            ],
            "text/latex": "$\\displaystyle \\textbf{Coefficient Values:}\\\\a_{1,1} = 2 , a_{1,2} = 1 , a_{1,3} = 2\\\\a_{2,1} = 3 , a_{2,2} = 2 , a_{2,3} = 3\\\\a_{3,1} = 1 , a_{3,2} = 3 , a_{3,3} = 1\\\\[1em]\\textbf{Variable Values:}\\\\x_{1} = 25000 , x_{2} = 25500 , x_{3} = 26000\\\\[1em]\\begin{cases}2 x_{1} + x_{2} + 2 x_{3} = \\mathtt{\\text{127,500}}\\\\3 x_{1} + 2 x_{2} + 3 x_{3} = \\mathtt{\\text{204,000}}\\\\x_{1} + 3 x_{2} + x_{3} = \\mathtt{\\text{127,500}}\\end{cases}$"
          },
          "metadata": {}
        },
        {
          "output_type": "stream",
          "name": "stdout",
          "text": [
            "\n",
            "Possibility #85\n",
            "The system of equations is:\n",
            "========================================\n"
          ]
        },
        {
          "output_type": "display_data",
          "data": {
            "text/plain": [
              "<IPython.core.display.Math object>"
            ],
            "text/latex": "$\\displaystyle \\textbf{Coefficient Values:}\\\\a_{1,1} = 2 , a_{1,2} = 1 , a_{1,3} = 2\\\\a_{2,1} = 3 , a_{2,2} = 3 , a_{2,3} = 1\\\\a_{3,1} = 1 , a_{3,2} = 2 , a_{3,3} = 3\\\\[1em]\\textbf{Variable Values:}\\\\x_{1} = 25000 , x_{2} = 25500 , x_{3} = 26000\\\\[1em]\\begin{cases}2 x_{1} + x_{2} + 2 x_{3} = \\mathtt{\\text{127,500}}\\\\3 x_{1} + 3 x_{2} + x_{3} = \\mathtt{\\text{177,500}}\\\\x_{1} + 2 x_{2} + 3 x_{3} = \\mathtt{\\text{154,000}}\\end{cases}$"
          },
          "metadata": {}
        },
        {
          "output_type": "stream",
          "name": "stdout",
          "text": [
            "\n",
            "Possibility #86\n",
            "The system of equations is:\n",
            "========================================\n"
          ]
        },
        {
          "output_type": "display_data",
          "data": {
            "text/plain": [
              "<IPython.core.display.Math object>"
            ],
            "text/latex": "$\\displaystyle \\textbf{Coefficient Values:}\\\\a_{1,1} = 2 , a_{1,2} = 1 , a_{1,3} = 2\\\\a_{2,1} = 3 , a_{2,2} = 3 , a_{2,3} = 3\\\\a_{3,1} = 1 , a_{3,2} = 2 , a_{3,3} = 1\\\\[1em]\\textbf{Variable Values:}\\\\x_{1} = 25000 , x_{2} = 25500 , x_{3} = 26000\\\\[1em]\\begin{cases}2 x_{1} + x_{2} + 2 x_{3} = \\mathtt{\\text{127,500}}\\\\3 x_{1} + 3 x_{2} + 3 x_{3} = \\mathtt{\\text{229,500}}\\\\x_{1} + 2 x_{2} + x_{3} = \\mathtt{\\text{102,000}}\\end{cases}$"
          },
          "metadata": {}
        },
        {
          "output_type": "stream",
          "name": "stdout",
          "text": [
            "\n",
            "Possibility #87\n",
            "The system of equations is:\n",
            "========================================\n"
          ]
        },
        {
          "output_type": "display_data",
          "data": {
            "text/plain": [
              "<IPython.core.display.Math object>"
            ],
            "text/latex": "$\\displaystyle \\textbf{Coefficient Values:}\\\\a_{1,1} = 2 , a_{1,2} = 1 , a_{1,3} = 3\\\\a_{2,1} = 1 , a_{2,2} = 2 , a_{2,3} = 1\\\\a_{3,1} = 3 , a_{3,2} = 3 , a_{3,3} = 2\\\\[1em]\\textbf{Variable Values:}\\\\x_{1} = 25000 , x_{2} = 25500 , x_{3} = 26000\\\\[1em]\\begin{cases}2 x_{1} + x_{2} + 3 x_{3} = \\mathtt{\\text{153,500}}\\\\x_{1} + 2 x_{2} + x_{3} = \\mathtt{\\text{102,000}}\\\\3 x_{1} + 3 x_{2} + 2 x_{3} = \\mathtt{\\text{203,500}}\\end{cases}$"
          },
          "metadata": {}
        },
        {
          "output_type": "stream",
          "name": "stdout",
          "text": [
            "\n",
            "Possibility #88\n",
            "The system of equations is:\n",
            "========================================\n"
          ]
        },
        {
          "output_type": "display_data",
          "data": {
            "text/plain": [
              "<IPython.core.display.Math object>"
            ],
            "text/latex": "$\\displaystyle \\textbf{Coefficient Values:}\\\\a_{1,1} = 2 , a_{1,2} = 1 , a_{1,3} = 3\\\\a_{2,1} = 1 , a_{2,2} = 2 , a_{2,3} = 2\\\\a_{3,1} = 3 , a_{3,2} = 3 , a_{3,3} = 1\\\\[1em]\\textbf{Variable Values:}\\\\x_{1} = 25000 , x_{2} = 25500 , x_{3} = 26000\\\\[1em]\\begin{cases}2 x_{1} + x_{2} + 3 x_{3} = \\mathtt{\\text{153,500}}\\\\x_{1} + 2 x_{2} + 2 x_{3} = \\mathtt{\\text{128,000}}\\\\3 x_{1} + 3 x_{2} + x_{3} = \\mathtt{\\text{177,500}}\\end{cases}$"
          },
          "metadata": {}
        },
        {
          "output_type": "stream",
          "name": "stdout",
          "text": [
            "\n",
            "Possibility #89\n",
            "The system of equations is:\n",
            "========================================\n"
          ]
        },
        {
          "output_type": "display_data",
          "data": {
            "text/plain": [
              "<IPython.core.display.Math object>"
            ],
            "text/latex": "$\\displaystyle \\textbf{Coefficient Values:}\\\\a_{1,1} = 2 , a_{1,2} = 1 , a_{1,3} = 3\\\\a_{2,1} = 1 , a_{2,2} = 3 , a_{2,3} = 1\\\\a_{3,1} = 3 , a_{3,2} = 2 , a_{3,3} = 2\\\\[1em]\\textbf{Variable Values:}\\\\x_{1} = 25000 , x_{2} = 25500 , x_{3} = 26000\\\\[1em]\\begin{cases}2 x_{1} + x_{2} + 3 x_{3} = \\mathtt{\\text{153,500}}\\\\x_{1} + 3 x_{2} + x_{3} = \\mathtt{\\text{127,500}}\\\\3 x_{1} + 2 x_{2} + 2 x_{3} = \\mathtt{\\text{178,000}}\\end{cases}$"
          },
          "metadata": {}
        },
        {
          "output_type": "stream",
          "name": "stdout",
          "text": [
            "\n",
            "Possibility #90\n",
            "The system of equations is:\n",
            "========================================\n"
          ]
        },
        {
          "output_type": "display_data",
          "data": {
            "text/plain": [
              "<IPython.core.display.Math object>"
            ],
            "text/latex": "$\\displaystyle \\textbf{Coefficient Values:}\\\\a_{1,1} = 2 , a_{1,2} = 1 , a_{1,3} = 3\\\\a_{2,1} = 1 , a_{2,2} = 3 , a_{2,3} = 2\\\\a_{3,1} = 3 , a_{3,2} = 2 , a_{3,3} = 1\\\\[1em]\\textbf{Variable Values:}\\\\x_{1} = 25000 , x_{2} = 25500 , x_{3} = 26000\\\\[1em]\\begin{cases}2 x_{1} + x_{2} + 3 x_{3} = \\mathtt{\\text{153,500}}\\\\x_{1} + 3 x_{2} + 2 x_{3} = \\mathtt{\\text{153,500}}\\\\3 x_{1} + 2 x_{2} + x_{3} = \\mathtt{\\text{152,000}}\\end{cases}$"
          },
          "metadata": {}
        },
        {
          "output_type": "stream",
          "name": "stdout",
          "text": [
            "\n",
            "Possibility #91\n",
            "The system of equations is:\n",
            "========================================\n"
          ]
        },
        {
          "output_type": "display_data",
          "data": {
            "text/plain": [
              "<IPython.core.display.Math object>"
            ],
            "text/latex": "$\\displaystyle \\textbf{Coefficient Values:}\\\\a_{1,1} = 2 , a_{1,2} = 1 , a_{1,3} = 3\\\\a_{2,1} = 3 , a_{2,2} = 2 , a_{2,3} = 1\\\\a_{3,1} = 1 , a_{3,2} = 3 , a_{3,3} = 2\\\\[1em]\\textbf{Variable Values:}\\\\x_{1} = 25000 , x_{2} = 25500 , x_{3} = 26000\\\\[1em]\\begin{cases}2 x_{1} + x_{2} + 3 x_{3} = \\mathtt{\\text{153,500}}\\\\3 x_{1} + 2 x_{2} + x_{3} = \\mathtt{\\text{152,000}}\\\\x_{1} + 3 x_{2} + 2 x_{3} = \\mathtt{\\text{153,500}}\\end{cases}$"
          },
          "metadata": {}
        },
        {
          "output_type": "stream",
          "name": "stdout",
          "text": [
            "\n",
            "Possibility #92\n",
            "The system of equations is:\n",
            "========================================\n"
          ]
        },
        {
          "output_type": "display_data",
          "data": {
            "text/plain": [
              "<IPython.core.display.Math object>"
            ],
            "text/latex": "$\\displaystyle \\textbf{Coefficient Values:}\\\\a_{1,1} = 2 , a_{1,2} = 1 , a_{1,3} = 3\\\\a_{2,1} = 3 , a_{2,2} = 2 , a_{2,3} = 2\\\\a_{3,1} = 1 , a_{3,2} = 3 , a_{3,3} = 1\\\\[1em]\\textbf{Variable Values:}\\\\x_{1} = 25000 , x_{2} = 25500 , x_{3} = 26000\\\\[1em]\\begin{cases}2 x_{1} + x_{2} + 3 x_{3} = \\mathtt{\\text{153,500}}\\\\3 x_{1} + 2 x_{2} + 2 x_{3} = \\mathtt{\\text{178,000}}\\\\x_{1} + 3 x_{2} + x_{3} = \\mathtt{\\text{127,500}}\\end{cases}$"
          },
          "metadata": {}
        },
        {
          "output_type": "stream",
          "name": "stdout",
          "text": [
            "\n",
            "Possibility #93\n",
            "The system of equations is:\n",
            "========================================\n"
          ]
        },
        {
          "output_type": "display_data",
          "data": {
            "text/plain": [
              "<IPython.core.display.Math object>"
            ],
            "text/latex": "$\\displaystyle \\textbf{Coefficient Values:}\\\\a_{1,1} = 2 , a_{1,2} = 1 , a_{1,3} = 3\\\\a_{2,1} = 3 , a_{2,2} = 3 , a_{2,3} = 1\\\\a_{3,1} = 1 , a_{3,2} = 2 , a_{3,3} = 2\\\\[1em]\\textbf{Variable Values:}\\\\x_{1} = 25000 , x_{2} = 25500 , x_{3} = 26000\\\\[1em]\\begin{cases}2 x_{1} + x_{2} + 3 x_{3} = \\mathtt{\\text{153,500}}\\\\3 x_{1} + 3 x_{2} + x_{3} = \\mathtt{\\text{177,500}}\\\\x_{1} + 2 x_{2} + 2 x_{3} = \\mathtt{\\text{128,000}}\\end{cases}$"
          },
          "metadata": {}
        },
        {
          "output_type": "stream",
          "name": "stdout",
          "text": [
            "\n",
            "Possibility #94\n",
            "The system of equations is:\n",
            "========================================\n"
          ]
        },
        {
          "output_type": "display_data",
          "data": {
            "text/plain": [
              "<IPython.core.display.Math object>"
            ],
            "text/latex": "$\\displaystyle \\textbf{Coefficient Values:}\\\\a_{1,1} = 2 , a_{1,2} = 1 , a_{1,3} = 3\\\\a_{2,1} = 3 , a_{2,2} = 3 , a_{2,3} = 2\\\\a_{3,1} = 1 , a_{3,2} = 2 , a_{3,3} = 1\\\\[1em]\\textbf{Variable Values:}\\\\x_{1} = 25000 , x_{2} = 25500 , x_{3} = 26000\\\\[1em]\\begin{cases}2 x_{1} + x_{2} + 3 x_{3} = \\mathtt{\\text{153,500}}\\\\3 x_{1} + 3 x_{2} + 2 x_{3} = \\mathtt{\\text{203,500}}\\\\x_{1} + 2 x_{2} + x_{3} = \\mathtt{\\text{102,000}}\\end{cases}$"
          },
          "metadata": {}
        },
        {
          "output_type": "stream",
          "name": "stdout",
          "text": [
            "\n",
            "Possibility #95\n",
            "The system of equations is:\n",
            "========================================\n"
          ]
        },
        {
          "output_type": "display_data",
          "data": {
            "text/plain": [
              "<IPython.core.display.Math object>"
            ],
            "text/latex": "$\\displaystyle \\textbf{Coefficient Values:}\\\\a_{1,1} = 2 , a_{1,2} = 2 , a_{1,3} = 1\\\\a_{2,1} = 1 , a_{2,2} = 1 , a_{2,3} = 2\\\\a_{3,1} = 3 , a_{3,2} = 3 , a_{3,3} = 3\\\\[1em]\\textbf{Variable Values:}\\\\x_{1} = 25000 , x_{2} = 25500 , x_{3} = 26000\\\\[1em]\\begin{cases}2 x_{1} + 2 x_{2} + x_{3} = \\mathtt{\\text{127,000}}\\\\x_{1} + x_{2} + 2 x_{3} = \\mathtt{\\text{102,500}}\\\\3 x_{1} + 3 x_{2} + 3 x_{3} = \\mathtt{\\text{229,500}}\\end{cases}$"
          },
          "metadata": {}
        },
        {
          "output_type": "stream",
          "name": "stdout",
          "text": [
            "\n",
            "Possibility #96\n",
            "The system of equations is:\n",
            "========================================\n"
          ]
        },
        {
          "output_type": "display_data",
          "data": {
            "text/plain": [
              "<IPython.core.display.Math object>"
            ],
            "text/latex": "$\\displaystyle \\textbf{Coefficient Values:}\\\\a_{1,1} = 2 , a_{1,2} = 2 , a_{1,3} = 1\\\\a_{2,1} = 1 , a_{2,2} = 1 , a_{2,3} = 3\\\\a_{3,1} = 3 , a_{3,2} = 3 , a_{3,3} = 2\\\\[1em]\\textbf{Variable Values:}\\\\x_{1} = 25000 , x_{2} = 25500 , x_{3} = 26000\\\\[1em]\\begin{cases}2 x_{1} + 2 x_{2} + x_{3} = \\mathtt{\\text{127,000}}\\\\x_{1} + x_{2} + 3 x_{3} = \\mathtt{\\text{128,500}}\\\\3 x_{1} + 3 x_{2} + 2 x_{3} = \\mathtt{\\text{203,500}}\\end{cases}$"
          },
          "metadata": {}
        },
        {
          "output_type": "stream",
          "name": "stdout",
          "text": [
            "\n",
            "Possibility #97\n",
            "The system of equations is:\n",
            "========================================\n"
          ]
        },
        {
          "output_type": "display_data",
          "data": {
            "text/plain": [
              "<IPython.core.display.Math object>"
            ],
            "text/latex": "$\\displaystyle \\textbf{Coefficient Values:}\\\\a_{1,1} = 2 , a_{1,2} = 2 , a_{1,3} = 1\\\\a_{2,1} = 1 , a_{2,2} = 3 , a_{2,3} = 2\\\\a_{3,1} = 3 , a_{3,2} = 1 , a_{3,3} = 3\\\\[1em]\\textbf{Variable Values:}\\\\x_{1} = 25000 , x_{2} = 25500 , x_{3} = 26000\\\\[1em]\\begin{cases}2 x_{1} + 2 x_{2} + x_{3} = \\mathtt{\\text{127,000}}\\\\x_{1} + 3 x_{2} + 2 x_{3} = \\mathtt{\\text{153,500}}\\\\3 x_{1} + x_{2} + 3 x_{3} = \\mathtt{\\text{178,500}}\\end{cases}$"
          },
          "metadata": {}
        },
        {
          "output_type": "stream",
          "name": "stdout",
          "text": [
            "\n",
            "Possibility #98\n",
            "The system of equations is:\n",
            "========================================\n"
          ]
        },
        {
          "output_type": "display_data",
          "data": {
            "text/plain": [
              "<IPython.core.display.Math object>"
            ],
            "text/latex": "$\\displaystyle \\textbf{Coefficient Values:}\\\\a_{1,1} = 2 , a_{1,2} = 2 , a_{1,3} = 1\\\\a_{2,1} = 1 , a_{2,2} = 3 , a_{2,3} = 3\\\\a_{3,1} = 3 , a_{3,2} = 1 , a_{3,3} = 2\\\\[1em]\\textbf{Variable Values:}\\\\x_{1} = 25000 , x_{2} = 25500 , x_{3} = 26000\\\\[1em]\\begin{cases}2 x_{1} + 2 x_{2} + x_{3} = \\mathtt{\\text{127,000}}\\\\x_{1} + 3 x_{2} + 3 x_{3} = \\mathtt{\\text{179,500}}\\\\3 x_{1} + x_{2} + 2 x_{3} = \\mathtt{\\text{152,500}}\\end{cases}$"
          },
          "metadata": {}
        },
        {
          "output_type": "stream",
          "name": "stdout",
          "text": [
            "\n",
            "Possibility #99\n",
            "The system of equations is:\n",
            "========================================\n"
          ]
        },
        {
          "output_type": "display_data",
          "data": {
            "text/plain": [
              "<IPython.core.display.Math object>"
            ],
            "text/latex": "$\\displaystyle \\textbf{Coefficient Values:}\\\\a_{1,1} = 2 , a_{1,2} = 2 , a_{1,3} = 1\\\\a_{2,1} = 3 , a_{2,2} = 1 , a_{2,3} = 2\\\\a_{3,1} = 1 , a_{3,2} = 3 , a_{3,3} = 3\\\\[1em]\\textbf{Variable Values:}\\\\x_{1} = 25000 , x_{2} = 25500 , x_{3} = 26000\\\\[1em]\\begin{cases}2 x_{1} + 2 x_{2} + x_{3} = \\mathtt{\\text{127,000}}\\\\3 x_{1} + x_{2} + 2 x_{3} = \\mathtt{\\text{152,500}}\\\\x_{1} + 3 x_{2} + 3 x_{3} = \\mathtt{\\text{179,500}}\\end{cases}$"
          },
          "metadata": {}
        },
        {
          "output_type": "stream",
          "name": "stdout",
          "text": [
            "\n",
            "Possibility #100\n",
            "The system of equations is:\n",
            "========================================\n"
          ]
        },
        {
          "output_type": "display_data",
          "data": {
            "text/plain": [
              "<IPython.core.display.Math object>"
            ],
            "text/latex": "$\\displaystyle \\textbf{Coefficient Values:}\\\\a_{1,1} = 2 , a_{1,2} = 2 , a_{1,3} = 1\\\\a_{2,1} = 3 , a_{2,2} = 1 , a_{2,3} = 3\\\\a_{3,1} = 1 , a_{3,2} = 3 , a_{3,3} = 2\\\\[1em]\\textbf{Variable Values:}\\\\x_{1} = 25000 , x_{2} = 25500 , x_{3} = 26000\\\\[1em]\\begin{cases}2 x_{1} + 2 x_{2} + x_{3} = \\mathtt{\\text{127,000}}\\\\3 x_{1} + x_{2} + 3 x_{3} = \\mathtt{\\text{178,500}}\\\\x_{1} + 3 x_{2} + 2 x_{3} = \\mathtt{\\text{153,500}}\\end{cases}$"
          },
          "metadata": {}
        },
        {
          "output_type": "stream",
          "name": "stdout",
          "text": [
            "\n",
            "Possibility #101\n",
            "The system of equations is:\n",
            "========================================\n"
          ]
        },
        {
          "output_type": "display_data",
          "data": {
            "text/plain": [
              "<IPython.core.display.Math object>"
            ],
            "text/latex": "$\\displaystyle \\textbf{Coefficient Values:}\\\\a_{1,1} = 2 , a_{1,2} = 2 , a_{1,3} = 1\\\\a_{2,1} = 3 , a_{2,2} = 3 , a_{2,3} = 2\\\\a_{3,1} = 1 , a_{3,2} = 1 , a_{3,3} = 3\\\\[1em]\\textbf{Variable Values:}\\\\x_{1} = 25000 , x_{2} = 25500 , x_{3} = 26000\\\\[1em]\\begin{cases}2 x_{1} + 2 x_{2} + x_{3} = \\mathtt{\\text{127,000}}\\\\3 x_{1} + 3 x_{2} + 2 x_{3} = \\mathtt{\\text{203,500}}\\\\x_{1} + x_{2} + 3 x_{3} = \\mathtt{\\text{128,500}}\\end{cases}$"
          },
          "metadata": {}
        },
        {
          "output_type": "stream",
          "name": "stdout",
          "text": [
            "\n",
            "Possibility #102\n",
            "The system of equations is:\n",
            "========================================\n"
          ]
        },
        {
          "output_type": "display_data",
          "data": {
            "text/plain": [
              "<IPython.core.display.Math object>"
            ],
            "text/latex": "$\\displaystyle \\textbf{Coefficient Values:}\\\\a_{1,1} = 2 , a_{1,2} = 2 , a_{1,3} = 1\\\\a_{2,1} = 3 , a_{2,2} = 3 , a_{2,3} = 3\\\\a_{3,1} = 1 , a_{3,2} = 1 , a_{3,3} = 2\\\\[1em]\\textbf{Variable Values:}\\\\x_{1} = 25000 , x_{2} = 25500 , x_{3} = 26000\\\\[1em]\\begin{cases}2 x_{1} + 2 x_{2} + x_{3} = \\mathtt{\\text{127,000}}\\\\3 x_{1} + 3 x_{2} + 3 x_{3} = \\mathtt{\\text{229,500}}\\\\x_{1} + x_{2} + 2 x_{3} = \\mathtt{\\text{102,500}}\\end{cases}$"
          },
          "metadata": {}
        },
        {
          "output_type": "stream",
          "name": "stdout",
          "text": [
            "\n",
            "Possibility #103\n",
            "The system of equations is:\n",
            "========================================\n"
          ]
        },
        {
          "output_type": "display_data",
          "data": {
            "text/plain": [
              "<IPython.core.display.Math object>"
            ],
            "text/latex": "$\\displaystyle \\textbf{Coefficient Values:}\\\\a_{1,1} = 2 , a_{1,2} = 2 , a_{1,3} = 2\\\\a_{2,1} = 1 , a_{2,2} = 1 , a_{2,3} = 3\\\\a_{3,1} = 3 , a_{3,2} = 3 , a_{3,3} = 1\\\\[1em]\\textbf{Variable Values:}\\\\x_{1} = 25000 , x_{2} = 25500 , x_{3} = 26000\\\\[1em]\\begin{cases}2 x_{1} + 2 x_{2} + 2 x_{3} = \\mathtt{\\text{153,000}}\\\\x_{1} + x_{2} + 3 x_{3} = \\mathtt{\\text{128,500}}\\\\3 x_{1} + 3 x_{2} + x_{3} = \\mathtt{\\text{177,500}}\\end{cases}$"
          },
          "metadata": {}
        },
        {
          "output_type": "stream",
          "name": "stdout",
          "text": [
            "\n",
            "Possibility #104\n",
            "The system of equations is:\n",
            "========================================\n"
          ]
        },
        {
          "output_type": "display_data",
          "data": {
            "text/plain": [
              "<IPython.core.display.Math object>"
            ],
            "text/latex": "$\\displaystyle \\textbf{Coefficient Values:}\\\\a_{1,1} = 2 , a_{1,2} = 2 , a_{1,3} = 2\\\\a_{2,1} = 1 , a_{2,2} = 3 , a_{2,3} = 1\\\\a_{3,1} = 3 , a_{3,2} = 1 , a_{3,3} = 3\\\\[1em]\\textbf{Variable Values:}\\\\x_{1} = 25000 , x_{2} = 25500 , x_{3} = 26000\\\\[1em]\\begin{cases}2 x_{1} + 2 x_{2} + 2 x_{3} = \\mathtt{\\text{153,000}}\\\\x_{1} + 3 x_{2} + x_{3} = \\mathtt{\\text{127,500}}\\\\3 x_{1} + x_{2} + 3 x_{3} = \\mathtt{\\text{178,500}}\\end{cases}$"
          },
          "metadata": {}
        },
        {
          "output_type": "stream",
          "name": "stdout",
          "text": [
            "\n",
            "Possibility #105\n",
            "The system of equations is:\n",
            "========================================\n"
          ]
        },
        {
          "output_type": "display_data",
          "data": {
            "text/plain": [
              "<IPython.core.display.Math object>"
            ],
            "text/latex": "$\\displaystyle \\textbf{Coefficient Values:}\\\\a_{1,1} = 2 , a_{1,2} = 2 , a_{1,3} = 2\\\\a_{2,1} = 1 , a_{2,2} = 3 , a_{2,3} = 3\\\\a_{3,1} = 3 , a_{3,2} = 1 , a_{3,3} = 1\\\\[1em]\\textbf{Variable Values:}\\\\x_{1} = 25000 , x_{2} = 25500 , x_{3} = 26000\\\\[1em]\\begin{cases}2 x_{1} + 2 x_{2} + 2 x_{3} = \\mathtt{\\text{153,000}}\\\\x_{1} + 3 x_{2} + 3 x_{3} = \\mathtt{\\text{179,500}}\\\\3 x_{1} + x_{2} + x_{3} = \\mathtt{\\text{126,500}}\\end{cases}$"
          },
          "metadata": {}
        },
        {
          "output_type": "stream",
          "name": "stdout",
          "text": [
            "\n",
            "Possibility #106\n",
            "The system of equations is:\n",
            "========================================\n"
          ]
        },
        {
          "output_type": "display_data",
          "data": {
            "text/plain": [
              "<IPython.core.display.Math object>"
            ],
            "text/latex": "$\\displaystyle \\textbf{Coefficient Values:}\\\\a_{1,1} = 2 , a_{1,2} = 2 , a_{1,3} = 2\\\\a_{2,1} = 3 , a_{2,2} = 1 , a_{2,3} = 1\\\\a_{3,1} = 1 , a_{3,2} = 3 , a_{3,3} = 3\\\\[1em]\\textbf{Variable Values:}\\\\x_{1} = 25000 , x_{2} = 25500 , x_{3} = 26000\\\\[1em]\\begin{cases}2 x_{1} + 2 x_{2} + 2 x_{3} = \\mathtt{\\text{153,000}}\\\\3 x_{1} + x_{2} + x_{3} = \\mathtt{\\text{126,500}}\\\\x_{1} + 3 x_{2} + 3 x_{3} = \\mathtt{\\text{179,500}}\\end{cases}$"
          },
          "metadata": {}
        },
        {
          "output_type": "stream",
          "name": "stdout",
          "text": [
            "\n",
            "Possibility #107\n",
            "The system of equations is:\n",
            "========================================\n"
          ]
        },
        {
          "output_type": "display_data",
          "data": {
            "text/plain": [
              "<IPython.core.display.Math object>"
            ],
            "text/latex": "$\\displaystyle \\textbf{Coefficient Values:}\\\\a_{1,1} = 2 , a_{1,2} = 2 , a_{1,3} = 2\\\\a_{2,1} = 3 , a_{2,2} = 1 , a_{2,3} = 3\\\\a_{3,1} = 1 , a_{3,2} = 3 , a_{3,3} = 1\\\\[1em]\\textbf{Variable Values:}\\\\x_{1} = 25000 , x_{2} = 25500 , x_{3} = 26000\\\\[1em]\\begin{cases}2 x_{1} + 2 x_{2} + 2 x_{3} = \\mathtt{\\text{153,000}}\\\\3 x_{1} + x_{2} + 3 x_{3} = \\mathtt{\\text{178,500}}\\\\x_{1} + 3 x_{2} + x_{3} = \\mathtt{\\text{127,500}}\\end{cases}$"
          },
          "metadata": {}
        },
        {
          "output_type": "stream",
          "name": "stdout",
          "text": [
            "\n",
            "Possibility #108\n",
            "The system of equations is:\n",
            "========================================\n"
          ]
        },
        {
          "output_type": "display_data",
          "data": {
            "text/plain": [
              "<IPython.core.display.Math object>"
            ],
            "text/latex": "$\\displaystyle \\textbf{Coefficient Values:}\\\\a_{1,1} = 2 , a_{1,2} = 2 , a_{1,3} = 2\\\\a_{2,1} = 3 , a_{2,2} = 3 , a_{2,3} = 1\\\\a_{3,1} = 1 , a_{3,2} = 1 , a_{3,3} = 3\\\\[1em]\\textbf{Variable Values:}\\\\x_{1} = 25000 , x_{2} = 25500 , x_{3} = 26000\\\\[1em]\\begin{cases}2 x_{1} + 2 x_{2} + 2 x_{3} = \\mathtt{\\text{153,000}}\\\\3 x_{1} + 3 x_{2} + x_{3} = \\mathtt{\\text{177,500}}\\\\x_{1} + x_{2} + 3 x_{3} = \\mathtt{\\text{128,500}}\\end{cases}$"
          },
          "metadata": {}
        },
        {
          "output_type": "stream",
          "name": "stdout",
          "text": [
            "\n",
            "Possibility #109\n",
            "The system of equations is:\n",
            "========================================\n"
          ]
        },
        {
          "output_type": "display_data",
          "data": {
            "text/plain": [
              "<IPython.core.display.Math object>"
            ],
            "text/latex": "$\\displaystyle \\textbf{Coefficient Values:}\\\\a_{1,1} = 2 , a_{1,2} = 2 , a_{1,3} = 3\\\\a_{2,1} = 1 , a_{2,2} = 1 , a_{2,3} = 1\\\\a_{3,1} = 3 , a_{3,2} = 3 , a_{3,3} = 2\\\\[1em]\\textbf{Variable Values:}\\\\x_{1} = 25000 , x_{2} = 25500 , x_{3} = 26000\\\\[1em]\\begin{cases}2 x_{1} + 2 x_{2} + 3 x_{3} = \\mathtt{\\text{179,000}}\\\\x_{1} + x_{2} + x_{3} = \\mathtt{\\text{76,500}}\\\\3 x_{1} + 3 x_{2} + 2 x_{3} = \\mathtt{\\text{203,500}}\\end{cases}$"
          },
          "metadata": {}
        },
        {
          "output_type": "stream",
          "name": "stdout",
          "text": [
            "\n",
            "Possibility #110\n",
            "The system of equations is:\n",
            "========================================\n"
          ]
        },
        {
          "output_type": "display_data",
          "data": {
            "text/plain": [
              "<IPython.core.display.Math object>"
            ],
            "text/latex": "$\\displaystyle \\textbf{Coefficient Values:}\\\\a_{1,1} = 2 , a_{1,2} = 2 , a_{1,3} = 3\\\\a_{2,1} = 1 , a_{2,2} = 1 , a_{2,3} = 2\\\\a_{3,1} = 3 , a_{3,2} = 3 , a_{3,3} = 1\\\\[1em]\\textbf{Variable Values:}\\\\x_{1} = 25000 , x_{2} = 25500 , x_{3} = 26000\\\\[1em]\\begin{cases}2 x_{1} + 2 x_{2} + 3 x_{3} = \\mathtt{\\text{179,000}}\\\\x_{1} + x_{2} + 2 x_{3} = \\mathtt{\\text{102,500}}\\\\3 x_{1} + 3 x_{2} + x_{3} = \\mathtt{\\text{177,500}}\\end{cases}$"
          },
          "metadata": {}
        },
        {
          "output_type": "stream",
          "name": "stdout",
          "text": [
            "\n",
            "Possibility #111\n",
            "The system of equations is:\n",
            "========================================\n"
          ]
        },
        {
          "output_type": "display_data",
          "data": {
            "text/plain": [
              "<IPython.core.display.Math object>"
            ],
            "text/latex": "$\\displaystyle \\textbf{Coefficient Values:}\\\\a_{1,1} = 2 , a_{1,2} = 2 , a_{1,3} = 3\\\\a_{2,1} = 1 , a_{2,2} = 3 , a_{2,3} = 1\\\\a_{3,1} = 3 , a_{3,2} = 1 , a_{3,3} = 2\\\\[1em]\\textbf{Variable Values:}\\\\x_{1} = 25000 , x_{2} = 25500 , x_{3} = 26000\\\\[1em]\\begin{cases}2 x_{1} + 2 x_{2} + 3 x_{3} = \\mathtt{\\text{179,000}}\\\\x_{1} + 3 x_{2} + x_{3} = \\mathtt{\\text{127,500}}\\\\3 x_{1} + x_{2} + 2 x_{3} = \\mathtt{\\text{152,500}}\\end{cases}$"
          },
          "metadata": {}
        },
        {
          "output_type": "stream",
          "name": "stdout",
          "text": [
            "\n",
            "Possibility #112\n",
            "The system of equations is:\n",
            "========================================\n"
          ]
        },
        {
          "output_type": "display_data",
          "data": {
            "text/plain": [
              "<IPython.core.display.Math object>"
            ],
            "text/latex": "$\\displaystyle \\textbf{Coefficient Values:}\\\\a_{1,1} = 2 , a_{1,2} = 2 , a_{1,3} = 3\\\\a_{2,1} = 1 , a_{2,2} = 3 , a_{2,3} = 2\\\\a_{3,1} = 3 , a_{3,2} = 1 , a_{3,3} = 1\\\\[1em]\\textbf{Variable Values:}\\\\x_{1} = 25000 , x_{2} = 25500 , x_{3} = 26000\\\\[1em]\\begin{cases}2 x_{1} + 2 x_{2} + 3 x_{3} = \\mathtt{\\text{179,000}}\\\\x_{1} + 3 x_{2} + 2 x_{3} = \\mathtt{\\text{153,500}}\\\\3 x_{1} + x_{2} + x_{3} = \\mathtt{\\text{126,500}}\\end{cases}$"
          },
          "metadata": {}
        },
        {
          "output_type": "stream",
          "name": "stdout",
          "text": [
            "\n",
            "Possibility #113\n",
            "The system of equations is:\n",
            "========================================\n"
          ]
        },
        {
          "output_type": "display_data",
          "data": {
            "text/plain": [
              "<IPython.core.display.Math object>"
            ],
            "text/latex": "$\\displaystyle \\textbf{Coefficient Values:}\\\\a_{1,1} = 2 , a_{1,2} = 2 , a_{1,3} = 3\\\\a_{2,1} = 3 , a_{2,2} = 1 , a_{2,3} = 1\\\\a_{3,1} = 1 , a_{3,2} = 3 , a_{3,3} = 2\\\\[1em]\\textbf{Variable Values:}\\\\x_{1} = 25000 , x_{2} = 25500 , x_{3} = 26000\\\\[1em]\\begin{cases}2 x_{1} + 2 x_{2} + 3 x_{3} = \\mathtt{\\text{179,000}}\\\\3 x_{1} + x_{2} + x_{3} = \\mathtt{\\text{126,500}}\\\\x_{1} + 3 x_{2} + 2 x_{3} = \\mathtt{\\text{153,500}}\\end{cases}$"
          },
          "metadata": {}
        },
        {
          "output_type": "stream",
          "name": "stdout",
          "text": [
            "\n",
            "Possibility #114\n",
            "The system of equations is:\n",
            "========================================\n"
          ]
        },
        {
          "output_type": "display_data",
          "data": {
            "text/plain": [
              "<IPython.core.display.Math object>"
            ],
            "text/latex": "$\\displaystyle \\textbf{Coefficient Values:}\\\\a_{1,1} = 2 , a_{1,2} = 2 , a_{1,3} = 3\\\\a_{2,1} = 3 , a_{2,2} = 1 , a_{2,3} = 2\\\\a_{3,1} = 1 , a_{3,2} = 3 , a_{3,3} = 1\\\\[1em]\\textbf{Variable Values:}\\\\x_{1} = 25000 , x_{2} = 25500 , x_{3} = 26000\\\\[1em]\\begin{cases}2 x_{1} + 2 x_{2} + 3 x_{3} = \\mathtt{\\text{179,000}}\\\\3 x_{1} + x_{2} + 2 x_{3} = \\mathtt{\\text{152,500}}\\\\x_{1} + 3 x_{2} + x_{3} = \\mathtt{\\text{127,500}}\\end{cases}$"
          },
          "metadata": {}
        },
        {
          "output_type": "stream",
          "name": "stdout",
          "text": [
            "\n",
            "Possibility #115\n",
            "The system of equations is:\n",
            "========================================\n"
          ]
        },
        {
          "output_type": "display_data",
          "data": {
            "text/plain": [
              "<IPython.core.display.Math object>"
            ],
            "text/latex": "$\\displaystyle \\textbf{Coefficient Values:}\\\\a_{1,1} = 2 , a_{1,2} = 2 , a_{1,3} = 3\\\\a_{2,1} = 3 , a_{2,2} = 3 , a_{2,3} = 1\\\\a_{3,1} = 1 , a_{3,2} = 1 , a_{3,3} = 2\\\\[1em]\\textbf{Variable Values:}\\\\x_{1} = 25000 , x_{2} = 25500 , x_{3} = 26000\\\\[1em]\\begin{cases}2 x_{1} + 2 x_{2} + 3 x_{3} = \\mathtt{\\text{179,000}}\\\\3 x_{1} + 3 x_{2} + x_{3} = \\mathtt{\\text{177,500}}\\\\x_{1} + x_{2} + 2 x_{3} = \\mathtt{\\text{102,500}}\\end{cases}$"
          },
          "metadata": {}
        },
        {
          "output_type": "stream",
          "name": "stdout",
          "text": [
            "\n",
            "Possibility #116\n",
            "The system of equations is:\n",
            "========================================\n"
          ]
        },
        {
          "output_type": "display_data",
          "data": {
            "text/plain": [
              "<IPython.core.display.Math object>"
            ],
            "text/latex": "$\\displaystyle \\textbf{Coefficient Values:}\\\\a_{1,1} = 2 , a_{1,2} = 2 , a_{1,3} = 3\\\\a_{2,1} = 3 , a_{2,2} = 3 , a_{2,3} = 2\\\\a_{3,1} = 1 , a_{3,2} = 1 , a_{3,3} = 1\\\\[1em]\\textbf{Variable Values:}\\\\x_{1} = 25000 , x_{2} = 25500 , x_{3} = 26000\\\\[1em]\\begin{cases}2 x_{1} + 2 x_{2} + 3 x_{3} = \\mathtt{\\text{179,000}}\\\\3 x_{1} + 3 x_{2} + 2 x_{3} = \\mathtt{\\text{203,500}}\\\\x_{1} + x_{2} + x_{3} = \\mathtt{\\text{76,500}}\\end{cases}$"
          },
          "metadata": {}
        },
        {
          "output_type": "stream",
          "name": "stdout",
          "text": [
            "\n",
            "Possibility #117\n",
            "The system of equations is:\n",
            "========================================\n"
          ]
        },
        {
          "output_type": "display_data",
          "data": {
            "text/plain": [
              "<IPython.core.display.Math object>"
            ],
            "text/latex": "$\\displaystyle \\textbf{Coefficient Values:}\\\\a_{1,1} = 2 , a_{1,2} = 3 , a_{1,3} = 1\\\\a_{2,1} = 1 , a_{2,2} = 1 , a_{2,3} = 2\\\\a_{3,1} = 3 , a_{3,2} = 2 , a_{3,3} = 3\\\\[1em]\\textbf{Variable Values:}\\\\x_{1} = 25000 , x_{2} = 25500 , x_{3} = 26000\\\\[1em]\\begin{cases}2 x_{1} + 3 x_{2} + x_{3} = \\mathtt{\\text{152,500}}\\\\x_{1} + x_{2} + 2 x_{3} = \\mathtt{\\text{102,500}}\\\\3 x_{1} + 2 x_{2} + 3 x_{3} = \\mathtt{\\text{204,000}}\\end{cases}$"
          },
          "metadata": {}
        },
        {
          "output_type": "stream",
          "name": "stdout",
          "text": [
            "\n",
            "Possibility #118\n",
            "The system of equations is:\n",
            "========================================\n"
          ]
        },
        {
          "output_type": "display_data",
          "data": {
            "text/plain": [
              "<IPython.core.display.Math object>"
            ],
            "text/latex": "$\\displaystyle \\textbf{Coefficient Values:}\\\\a_{1,1} = 2 , a_{1,2} = 3 , a_{1,3} = 1\\\\a_{2,1} = 1 , a_{2,2} = 1 , a_{2,3} = 3\\\\a_{3,1} = 3 , a_{3,2} = 2 , a_{3,3} = 2\\\\[1em]\\textbf{Variable Values:}\\\\x_{1} = 25000 , x_{2} = 25500 , x_{3} = 26000\\\\[1em]\\begin{cases}2 x_{1} + 3 x_{2} + x_{3} = \\mathtt{\\text{152,500}}\\\\x_{1} + x_{2} + 3 x_{3} = \\mathtt{\\text{128,500}}\\\\3 x_{1} + 2 x_{2} + 2 x_{3} = \\mathtt{\\text{178,000}}\\end{cases}$"
          },
          "metadata": {}
        },
        {
          "output_type": "stream",
          "name": "stdout",
          "text": [
            "\n",
            "Possibility #119\n",
            "The system of equations is:\n",
            "========================================\n"
          ]
        },
        {
          "output_type": "display_data",
          "data": {
            "text/plain": [
              "<IPython.core.display.Math object>"
            ],
            "text/latex": "$\\displaystyle \\textbf{Coefficient Values:}\\\\a_{1,1} = 2 , a_{1,2} = 3 , a_{1,3} = 1\\\\a_{2,1} = 1 , a_{2,2} = 2 , a_{2,3} = 2\\\\a_{3,1} = 3 , a_{3,2} = 1 , a_{3,3} = 3\\\\[1em]\\textbf{Variable Values:}\\\\x_{1} = 25000 , x_{2} = 25500 , x_{3} = 26000\\\\[1em]\\begin{cases}2 x_{1} + 3 x_{2} + x_{3} = \\mathtt{\\text{152,500}}\\\\x_{1} + 2 x_{2} + 2 x_{3} = \\mathtt{\\text{128,000}}\\\\3 x_{1} + x_{2} + 3 x_{3} = \\mathtt{\\text{178,500}}\\end{cases}$"
          },
          "metadata": {}
        },
        {
          "output_type": "stream",
          "name": "stdout",
          "text": [
            "\n",
            "Possibility #120\n",
            "The system of equations is:\n",
            "========================================\n"
          ]
        },
        {
          "output_type": "display_data",
          "data": {
            "text/plain": [
              "<IPython.core.display.Math object>"
            ],
            "text/latex": "$\\displaystyle \\textbf{Coefficient Values:}\\\\a_{1,1} = 2 , a_{1,2} = 3 , a_{1,3} = 1\\\\a_{2,1} = 1 , a_{2,2} = 2 , a_{2,3} = 3\\\\a_{3,1} = 3 , a_{3,2} = 1 , a_{3,3} = 2\\\\[1em]\\textbf{Variable Values:}\\\\x_{1} = 25000 , x_{2} = 25500 , x_{3} = 26000\\\\[1em]\\begin{cases}2 x_{1} + 3 x_{2} + x_{3} = \\mathtt{\\text{152,500}}\\\\x_{1} + 2 x_{2} + 3 x_{3} = \\mathtt{\\text{154,000}}\\\\3 x_{1} + x_{2} + 2 x_{3} = \\mathtt{\\text{152,500}}\\end{cases}$"
          },
          "metadata": {}
        },
        {
          "output_type": "stream",
          "name": "stdout",
          "text": [
            "\n",
            "Possibility #121\n",
            "The system of equations is:\n",
            "========================================\n"
          ]
        },
        {
          "output_type": "display_data",
          "data": {
            "text/plain": [
              "<IPython.core.display.Math object>"
            ],
            "text/latex": "$\\displaystyle \\textbf{Coefficient Values:}\\\\a_{1,1} = 2 , a_{1,2} = 3 , a_{1,3} = 1\\\\a_{2,1} = 3 , a_{2,2} = 1 , a_{2,3} = 2\\\\a_{3,1} = 1 , a_{3,2} = 2 , a_{3,3} = 3\\\\[1em]\\textbf{Variable Values:}\\\\x_{1} = 25000 , x_{2} = 25500 , x_{3} = 26000\\\\[1em]\\begin{cases}2 x_{1} + 3 x_{2} + x_{3} = \\mathtt{\\text{152,500}}\\\\3 x_{1} + x_{2} + 2 x_{3} = \\mathtt{\\text{152,500}}\\\\x_{1} + 2 x_{2} + 3 x_{3} = \\mathtt{\\text{154,000}}\\end{cases}$"
          },
          "metadata": {}
        },
        {
          "output_type": "stream",
          "name": "stdout",
          "text": [
            "\n",
            "Possibility #122\n",
            "The system of equations is:\n",
            "========================================\n"
          ]
        },
        {
          "output_type": "display_data",
          "data": {
            "text/plain": [
              "<IPython.core.display.Math object>"
            ],
            "text/latex": "$\\displaystyle \\textbf{Coefficient Values:}\\\\a_{1,1} = 2 , a_{1,2} = 3 , a_{1,3} = 1\\\\a_{2,1} = 3 , a_{2,2} = 1 , a_{2,3} = 3\\\\a_{3,1} = 1 , a_{3,2} = 2 , a_{3,3} = 2\\\\[1em]\\textbf{Variable Values:}\\\\x_{1} = 25000 , x_{2} = 25500 , x_{3} = 26000\\\\[1em]\\begin{cases}2 x_{1} + 3 x_{2} + x_{3} = \\mathtt{\\text{152,500}}\\\\3 x_{1} + x_{2} + 3 x_{3} = \\mathtt{\\text{178,500}}\\\\x_{1} + 2 x_{2} + 2 x_{3} = \\mathtt{\\text{128,000}}\\end{cases}$"
          },
          "metadata": {}
        },
        {
          "output_type": "stream",
          "name": "stdout",
          "text": [
            "\n",
            "Possibility #123\n",
            "The system of equations is:\n",
            "========================================\n"
          ]
        },
        {
          "output_type": "display_data",
          "data": {
            "text/plain": [
              "<IPython.core.display.Math object>"
            ],
            "text/latex": "$\\displaystyle \\textbf{Coefficient Values:}\\\\a_{1,1} = 2 , a_{1,2} = 3 , a_{1,3} = 1\\\\a_{2,1} = 3 , a_{2,2} = 2 , a_{2,3} = 2\\\\a_{3,1} = 1 , a_{3,2} = 1 , a_{3,3} = 3\\\\[1em]\\textbf{Variable Values:}\\\\x_{1} = 25000 , x_{2} = 25500 , x_{3} = 26000\\\\[1em]\\begin{cases}2 x_{1} + 3 x_{2} + x_{3} = \\mathtt{\\text{152,500}}\\\\3 x_{1} + 2 x_{2} + 2 x_{3} = \\mathtt{\\text{178,000}}\\\\x_{1} + x_{2} + 3 x_{3} = \\mathtt{\\text{128,500}}\\end{cases}$"
          },
          "metadata": {}
        },
        {
          "output_type": "stream",
          "name": "stdout",
          "text": [
            "\n",
            "Possibility #124\n",
            "The system of equations is:\n",
            "========================================\n"
          ]
        },
        {
          "output_type": "display_data",
          "data": {
            "text/plain": [
              "<IPython.core.display.Math object>"
            ],
            "text/latex": "$\\displaystyle \\textbf{Coefficient Values:}\\\\a_{1,1} = 2 , a_{1,2} = 3 , a_{1,3} = 1\\\\a_{2,1} = 3 , a_{2,2} = 2 , a_{2,3} = 3\\\\a_{3,1} = 1 , a_{3,2} = 1 , a_{3,3} = 2\\\\[1em]\\textbf{Variable Values:}\\\\x_{1} = 25000 , x_{2} = 25500 , x_{3} = 26000\\\\[1em]\\begin{cases}2 x_{1} + 3 x_{2} + x_{3} = \\mathtt{\\text{152,500}}\\\\3 x_{1} + 2 x_{2} + 3 x_{3} = \\mathtt{\\text{204,000}}\\\\x_{1} + x_{2} + 2 x_{3} = \\mathtt{\\text{102,500}}\\end{cases}$"
          },
          "metadata": {}
        },
        {
          "output_type": "stream",
          "name": "stdout",
          "text": [
            "\n",
            "Possibility #125\n",
            "The system of equations is:\n",
            "========================================\n"
          ]
        },
        {
          "output_type": "display_data",
          "data": {
            "text/plain": [
              "<IPython.core.display.Math object>"
            ],
            "text/latex": "$\\displaystyle \\textbf{Coefficient Values:}\\\\a_{1,1} = 2 , a_{1,2} = 3 , a_{1,3} = 2\\\\a_{2,1} = 1 , a_{2,2} = 1 , a_{2,3} = 1\\\\a_{3,1} = 3 , a_{3,2} = 2 , a_{3,3} = 3\\\\[1em]\\textbf{Variable Values:}\\\\x_{1} = 25000 , x_{2} = 25500 , x_{3} = 26000\\\\[1em]\\begin{cases}2 x_{1} + 3 x_{2} + 2 x_{3} = \\mathtt{\\text{178,500}}\\\\x_{1} + x_{2} + x_{3} = \\mathtt{\\text{76,500}}\\\\3 x_{1} + 2 x_{2} + 3 x_{3} = \\mathtt{\\text{204,000}}\\end{cases}$"
          },
          "metadata": {}
        },
        {
          "output_type": "stream",
          "name": "stdout",
          "text": [
            "\n",
            "Possibility #126\n",
            "The system of equations is:\n",
            "========================================\n"
          ]
        },
        {
          "output_type": "display_data",
          "data": {
            "text/plain": [
              "<IPython.core.display.Math object>"
            ],
            "text/latex": "$\\displaystyle \\textbf{Coefficient Values:}\\\\a_{1,1} = 2 , a_{1,2} = 3 , a_{1,3} = 2\\\\a_{2,1} = 1 , a_{2,2} = 1 , a_{2,3} = 3\\\\a_{3,1} = 3 , a_{3,2} = 2 , a_{3,3} = 1\\\\[1em]\\textbf{Variable Values:}\\\\x_{1} = 25000 , x_{2} = 25500 , x_{3} = 26000\\\\[1em]\\begin{cases}2 x_{1} + 3 x_{2} + 2 x_{3} = \\mathtt{\\text{178,500}}\\\\x_{1} + x_{2} + 3 x_{3} = \\mathtt{\\text{128,500}}\\\\3 x_{1} + 2 x_{2} + x_{3} = \\mathtt{\\text{152,000}}\\end{cases}$"
          },
          "metadata": {}
        },
        {
          "output_type": "stream",
          "name": "stdout",
          "text": [
            "\n",
            "Possibility #127\n",
            "The system of equations is:\n",
            "========================================\n"
          ]
        },
        {
          "output_type": "display_data",
          "data": {
            "text/plain": [
              "<IPython.core.display.Math object>"
            ],
            "text/latex": "$\\displaystyle \\textbf{Coefficient Values:}\\\\a_{1,1} = 2 , a_{1,2} = 3 , a_{1,3} = 2\\\\a_{2,1} = 1 , a_{2,2} = 2 , a_{2,3} = 1\\\\a_{3,1} = 3 , a_{3,2} = 1 , a_{3,3} = 3\\\\[1em]\\textbf{Variable Values:}\\\\x_{1} = 25000 , x_{2} = 25500 , x_{3} = 26000\\\\[1em]\\begin{cases}2 x_{1} + 3 x_{2} + 2 x_{3} = \\mathtt{\\text{178,500}}\\\\x_{1} + 2 x_{2} + x_{3} = \\mathtt{\\text{102,000}}\\\\3 x_{1} + x_{2} + 3 x_{3} = \\mathtt{\\text{178,500}}\\end{cases}$"
          },
          "metadata": {}
        },
        {
          "output_type": "stream",
          "name": "stdout",
          "text": [
            "\n",
            "Possibility #128\n",
            "The system of equations is:\n",
            "========================================\n"
          ]
        },
        {
          "output_type": "display_data",
          "data": {
            "text/plain": [
              "<IPython.core.display.Math object>"
            ],
            "text/latex": "$\\displaystyle \\textbf{Coefficient Values:}\\\\a_{1,1} = 2 , a_{1,2} = 3 , a_{1,3} = 2\\\\a_{2,1} = 1 , a_{2,2} = 2 , a_{2,3} = 3\\\\a_{3,1} = 3 , a_{3,2} = 1 , a_{3,3} = 1\\\\[1em]\\textbf{Variable Values:}\\\\x_{1} = 25000 , x_{2} = 25500 , x_{3} = 26000\\\\[1em]\\begin{cases}2 x_{1} + 3 x_{2} + 2 x_{3} = \\mathtt{\\text{178,500}}\\\\x_{1} + 2 x_{2} + 3 x_{3} = \\mathtt{\\text{154,000}}\\\\3 x_{1} + x_{2} + x_{3} = \\mathtt{\\text{126,500}}\\end{cases}$"
          },
          "metadata": {}
        },
        {
          "output_type": "stream",
          "name": "stdout",
          "text": [
            "\n",
            "Possibility #129\n",
            "The system of equations is:\n",
            "========================================\n"
          ]
        },
        {
          "output_type": "display_data",
          "data": {
            "text/plain": [
              "<IPython.core.display.Math object>"
            ],
            "text/latex": "$\\displaystyle \\textbf{Coefficient Values:}\\\\a_{1,1} = 2 , a_{1,2} = 3 , a_{1,3} = 2\\\\a_{2,1} = 3 , a_{2,2} = 1 , a_{2,3} = 1\\\\a_{3,1} = 1 , a_{3,2} = 2 , a_{3,3} = 3\\\\[1em]\\textbf{Variable Values:}\\\\x_{1} = 25000 , x_{2} = 25500 , x_{3} = 26000\\\\[1em]\\begin{cases}2 x_{1} + 3 x_{2} + 2 x_{3} = \\mathtt{\\text{178,500}}\\\\3 x_{1} + x_{2} + x_{3} = \\mathtt{\\text{126,500}}\\\\x_{1} + 2 x_{2} + 3 x_{3} = \\mathtt{\\text{154,000}}\\end{cases}$"
          },
          "metadata": {}
        },
        {
          "output_type": "stream",
          "name": "stdout",
          "text": [
            "\n",
            "Possibility #130\n",
            "The system of equations is:\n",
            "========================================\n"
          ]
        },
        {
          "output_type": "display_data",
          "data": {
            "text/plain": [
              "<IPython.core.display.Math object>"
            ],
            "text/latex": "$\\displaystyle \\textbf{Coefficient Values:}\\\\a_{1,1} = 2 , a_{1,2} = 3 , a_{1,3} = 2\\\\a_{2,1} = 3 , a_{2,2} = 1 , a_{2,3} = 3\\\\a_{3,1} = 1 , a_{3,2} = 2 , a_{3,3} = 1\\\\[1em]\\textbf{Variable Values:}\\\\x_{1} = 25000 , x_{2} = 25500 , x_{3} = 26000\\\\[1em]\\begin{cases}2 x_{1} + 3 x_{2} + 2 x_{3} = \\mathtt{\\text{178,500}}\\\\3 x_{1} + x_{2} + 3 x_{3} = \\mathtt{\\text{178,500}}\\\\x_{1} + 2 x_{2} + x_{3} = \\mathtt{\\text{102,000}}\\end{cases}$"
          },
          "metadata": {}
        },
        {
          "output_type": "stream",
          "name": "stdout",
          "text": [
            "\n",
            "Possibility #131\n",
            "The system of equations is:\n",
            "========================================\n"
          ]
        },
        {
          "output_type": "display_data",
          "data": {
            "text/plain": [
              "<IPython.core.display.Math object>"
            ],
            "text/latex": "$\\displaystyle \\textbf{Coefficient Values:}\\\\a_{1,1} = 2 , a_{1,2} = 3 , a_{1,3} = 2\\\\a_{2,1} = 3 , a_{2,2} = 2 , a_{2,3} = 1\\\\a_{3,1} = 1 , a_{3,2} = 1 , a_{3,3} = 3\\\\[1em]\\textbf{Variable Values:}\\\\x_{1} = 25000 , x_{2} = 25500 , x_{3} = 26000\\\\[1em]\\begin{cases}2 x_{1} + 3 x_{2} + 2 x_{3} = \\mathtt{\\text{178,500}}\\\\3 x_{1} + 2 x_{2} + x_{3} = \\mathtt{\\text{152,000}}\\\\x_{1} + x_{2} + 3 x_{3} = \\mathtt{\\text{128,500}}\\end{cases}$"
          },
          "metadata": {}
        },
        {
          "output_type": "stream",
          "name": "stdout",
          "text": [
            "\n",
            "Possibility #132\n",
            "The system of equations is:\n",
            "========================================\n"
          ]
        },
        {
          "output_type": "display_data",
          "data": {
            "text/plain": [
              "<IPython.core.display.Math object>"
            ],
            "text/latex": "$\\displaystyle \\textbf{Coefficient Values:}\\\\a_{1,1} = 2 , a_{1,2} = 3 , a_{1,3} = 2\\\\a_{2,1} = 3 , a_{2,2} = 2 , a_{2,3} = 3\\\\a_{3,1} = 1 , a_{3,2} = 1 , a_{3,3} = 1\\\\[1em]\\textbf{Variable Values:}\\\\x_{1} = 25000 , x_{2} = 25500 , x_{3} = 26000\\\\[1em]\\begin{cases}2 x_{1} + 3 x_{2} + 2 x_{3} = \\mathtt{\\text{178,500}}\\\\3 x_{1} + 2 x_{2} + 3 x_{3} = \\mathtt{\\text{204,000}}\\\\x_{1} + x_{2} + x_{3} = \\mathtt{\\text{76,500}}\\end{cases}$"
          },
          "metadata": {}
        },
        {
          "output_type": "stream",
          "name": "stdout",
          "text": [
            "\n",
            "Possibility #133\n",
            "The system of equations is:\n",
            "========================================\n"
          ]
        },
        {
          "output_type": "display_data",
          "data": {
            "text/plain": [
              "<IPython.core.display.Math object>"
            ],
            "text/latex": "$\\displaystyle \\textbf{Coefficient Values:}\\\\a_{1,1} = 2 , a_{1,2} = 3 , a_{1,3} = 3\\\\a_{2,1} = 1 , a_{2,2} = 1 , a_{2,3} = 1\\\\a_{3,1} = 3 , a_{3,2} = 2 , a_{3,3} = 2\\\\[1em]\\textbf{Variable Values:}\\\\x_{1} = 25000 , x_{2} = 25500 , x_{3} = 26000\\\\[1em]\\begin{cases}2 x_{1} + 3 x_{2} + 3 x_{3} = \\mathtt{\\text{204,500}}\\\\x_{1} + x_{2} + x_{3} = \\mathtt{\\text{76,500}}\\\\3 x_{1} + 2 x_{2} + 2 x_{3} = \\mathtt{\\text{178,000}}\\end{cases}$"
          },
          "metadata": {}
        },
        {
          "output_type": "stream",
          "name": "stdout",
          "text": [
            "\n",
            "Possibility #134\n",
            "The system of equations is:\n",
            "========================================\n"
          ]
        },
        {
          "output_type": "display_data",
          "data": {
            "text/plain": [
              "<IPython.core.display.Math object>"
            ],
            "text/latex": "$\\displaystyle \\textbf{Coefficient Values:}\\\\a_{1,1} = 2 , a_{1,2} = 3 , a_{1,3} = 3\\\\a_{2,1} = 1 , a_{2,2} = 1 , a_{2,3} = 2\\\\a_{3,1} = 3 , a_{3,2} = 2 , a_{3,3} = 1\\\\[1em]\\textbf{Variable Values:}\\\\x_{1} = 25000 , x_{2} = 25500 , x_{3} = 26000\\\\[1em]\\begin{cases}2 x_{1} + 3 x_{2} + 3 x_{3} = \\mathtt{\\text{204,500}}\\\\x_{1} + x_{2} + 2 x_{3} = \\mathtt{\\text{102,500}}\\\\3 x_{1} + 2 x_{2} + x_{3} = \\mathtt{\\text{152,000}}\\end{cases}$"
          },
          "metadata": {}
        },
        {
          "output_type": "stream",
          "name": "stdout",
          "text": [
            "\n",
            "Possibility #135\n",
            "The system of equations is:\n",
            "========================================\n"
          ]
        },
        {
          "output_type": "display_data",
          "data": {
            "text/plain": [
              "<IPython.core.display.Math object>"
            ],
            "text/latex": "$\\displaystyle \\textbf{Coefficient Values:}\\\\a_{1,1} = 2 , a_{1,2} = 3 , a_{1,3} = 3\\\\a_{2,1} = 1 , a_{2,2} = 2 , a_{2,3} = 1\\\\a_{3,1} = 3 , a_{3,2} = 1 , a_{3,3} = 2\\\\[1em]\\textbf{Variable Values:}\\\\x_{1} = 25000 , x_{2} = 25500 , x_{3} = 26000\\\\[1em]\\begin{cases}2 x_{1} + 3 x_{2} + 3 x_{3} = \\mathtt{\\text{204,500}}\\\\x_{1} + 2 x_{2} + x_{3} = \\mathtt{\\text{102,000}}\\\\3 x_{1} + x_{2} + 2 x_{3} = \\mathtt{\\text{152,500}}\\end{cases}$"
          },
          "metadata": {}
        },
        {
          "output_type": "stream",
          "name": "stdout",
          "text": [
            "\n",
            "Possibility #136\n",
            "The system of equations is:\n",
            "========================================\n"
          ]
        },
        {
          "output_type": "display_data",
          "data": {
            "text/plain": [
              "<IPython.core.display.Math object>"
            ],
            "text/latex": "$\\displaystyle \\textbf{Coefficient Values:}\\\\a_{1,1} = 2 , a_{1,2} = 3 , a_{1,3} = 3\\\\a_{2,1} = 1 , a_{2,2} = 2 , a_{2,3} = 2\\\\a_{3,1} = 3 , a_{3,2} = 1 , a_{3,3} = 1\\\\[1em]\\textbf{Variable Values:}\\\\x_{1} = 25000 , x_{2} = 25500 , x_{3} = 26000\\\\[1em]\\begin{cases}2 x_{1} + 3 x_{2} + 3 x_{3} = \\mathtt{\\text{204,500}}\\\\x_{1} + 2 x_{2} + 2 x_{3} = \\mathtt{\\text{128,000}}\\\\3 x_{1} + x_{2} + x_{3} = \\mathtt{\\text{126,500}}\\end{cases}$"
          },
          "metadata": {}
        },
        {
          "output_type": "stream",
          "name": "stdout",
          "text": [
            "\n",
            "Possibility #137\n",
            "The system of equations is:\n",
            "========================================\n"
          ]
        },
        {
          "output_type": "display_data",
          "data": {
            "text/plain": [
              "<IPython.core.display.Math object>"
            ],
            "text/latex": "$\\displaystyle \\textbf{Coefficient Values:}\\\\a_{1,1} = 2 , a_{1,2} = 3 , a_{1,3} = 3\\\\a_{2,1} = 3 , a_{2,2} = 1 , a_{2,3} = 1\\\\a_{3,1} = 1 , a_{3,2} = 2 , a_{3,3} = 2\\\\[1em]\\textbf{Variable Values:}\\\\x_{1} = 25000 , x_{2} = 25500 , x_{3} = 26000\\\\[1em]\\begin{cases}2 x_{1} + 3 x_{2} + 3 x_{3} = \\mathtt{\\text{204,500}}\\\\3 x_{1} + x_{2} + x_{3} = \\mathtt{\\text{126,500}}\\\\x_{1} + 2 x_{2} + 2 x_{3} = \\mathtt{\\text{128,000}}\\end{cases}$"
          },
          "metadata": {}
        },
        {
          "output_type": "stream",
          "name": "stdout",
          "text": [
            "\n",
            "Possibility #138\n",
            "The system of equations is:\n",
            "========================================\n"
          ]
        },
        {
          "output_type": "display_data",
          "data": {
            "text/plain": [
              "<IPython.core.display.Math object>"
            ],
            "text/latex": "$\\displaystyle \\textbf{Coefficient Values:}\\\\a_{1,1} = 2 , a_{1,2} = 3 , a_{1,3} = 3\\\\a_{2,1} = 3 , a_{2,2} = 1 , a_{2,3} = 2\\\\a_{3,1} = 1 , a_{3,2} = 2 , a_{3,3} = 1\\\\[1em]\\textbf{Variable Values:}\\\\x_{1} = 25000 , x_{2} = 25500 , x_{3} = 26000\\\\[1em]\\begin{cases}2 x_{1} + 3 x_{2} + 3 x_{3} = \\mathtt{\\text{204,500}}\\\\3 x_{1} + x_{2} + 2 x_{3} = \\mathtt{\\text{152,500}}\\\\x_{1} + 2 x_{2} + x_{3} = \\mathtt{\\text{102,000}}\\end{cases}$"
          },
          "metadata": {}
        },
        {
          "output_type": "stream",
          "name": "stdout",
          "text": [
            "\n",
            "Possibility #139\n",
            "The system of equations is:\n",
            "========================================\n"
          ]
        },
        {
          "output_type": "display_data",
          "data": {
            "text/plain": [
              "<IPython.core.display.Math object>"
            ],
            "text/latex": "$\\displaystyle \\textbf{Coefficient Values:}\\\\a_{1,1} = 2 , a_{1,2} = 3 , a_{1,3} = 3\\\\a_{2,1} = 3 , a_{2,2} = 2 , a_{2,3} = 1\\\\a_{3,1} = 1 , a_{3,2} = 1 , a_{3,3} = 2\\\\[1em]\\textbf{Variable Values:}\\\\x_{1} = 25000 , x_{2} = 25500 , x_{3} = 26000\\\\[1em]\\begin{cases}2 x_{1} + 3 x_{2} + 3 x_{3} = \\mathtt{\\text{204,500}}\\\\3 x_{1} + 2 x_{2} + x_{3} = \\mathtt{\\text{152,000}}\\\\x_{1} + x_{2} + 2 x_{3} = \\mathtt{\\text{102,500}}\\end{cases}$"
          },
          "metadata": {}
        },
        {
          "output_type": "stream",
          "name": "stdout",
          "text": [
            "\n",
            "Possibility #140\n",
            "The system of equations is:\n",
            "========================================\n"
          ]
        },
        {
          "output_type": "display_data",
          "data": {
            "text/plain": [
              "<IPython.core.display.Math object>"
            ],
            "text/latex": "$\\displaystyle \\textbf{Coefficient Values:}\\\\a_{1,1} = 2 , a_{1,2} = 3 , a_{1,3} = 3\\\\a_{2,1} = 3 , a_{2,2} = 2 , a_{2,3} = 2\\\\a_{3,1} = 1 , a_{3,2} = 1 , a_{3,3} = 1\\\\[1em]\\textbf{Variable Values:}\\\\x_{1} = 25000 , x_{2} = 25500 , x_{3} = 26000\\\\[1em]\\begin{cases}2 x_{1} + 3 x_{2} + 3 x_{3} = \\mathtt{\\text{204,500}}\\\\3 x_{1} + 2 x_{2} + 2 x_{3} = \\mathtt{\\text{178,000}}\\\\x_{1} + x_{2} + x_{3} = \\mathtt{\\text{76,500}}\\end{cases}$"
          },
          "metadata": {}
        },
        {
          "output_type": "stream",
          "name": "stdout",
          "text": [
            "\n",
            "Possibility #141\n",
            "The system of equations is:\n",
            "========================================\n"
          ]
        },
        {
          "output_type": "display_data",
          "data": {
            "text/plain": [
              "<IPython.core.display.Math object>"
            ],
            "text/latex": "$\\displaystyle \\textbf{Coefficient Values:}\\\\a_{1,1} = 3 , a_{1,2} = 1 , a_{1,3} = 1\\\\a_{2,1} = 1 , a_{2,2} = 2 , a_{2,3} = 2\\\\a_{3,1} = 2 , a_{3,2} = 3 , a_{3,3} = 3\\\\[1em]\\textbf{Variable Values:}\\\\x_{1} = 25000 , x_{2} = 25500 , x_{3} = 26000\\\\[1em]\\begin{cases}3 x_{1} + x_{2} + x_{3} = \\mathtt{\\text{126,500}}\\\\x_{1} + 2 x_{2} + 2 x_{3} = \\mathtt{\\text{128,000}}\\\\2 x_{1} + 3 x_{2} + 3 x_{3} = \\mathtt{\\text{204,500}}\\end{cases}$"
          },
          "metadata": {}
        },
        {
          "output_type": "stream",
          "name": "stdout",
          "text": [
            "\n",
            "Possibility #142\n",
            "The system of equations is:\n",
            "========================================\n"
          ]
        },
        {
          "output_type": "display_data",
          "data": {
            "text/plain": [
              "<IPython.core.display.Math object>"
            ],
            "text/latex": "$\\displaystyle \\textbf{Coefficient Values:}\\\\a_{1,1} = 3 , a_{1,2} = 1 , a_{1,3} = 1\\\\a_{2,1} = 1 , a_{2,2} = 2 , a_{2,3} = 3\\\\a_{3,1} = 2 , a_{3,2} = 3 , a_{3,3} = 2\\\\[1em]\\textbf{Variable Values:}\\\\x_{1} = 25000 , x_{2} = 25500 , x_{3} = 26000\\\\[1em]\\begin{cases}3 x_{1} + x_{2} + x_{3} = \\mathtt{\\text{126,500}}\\\\x_{1} + 2 x_{2} + 3 x_{3} = \\mathtt{\\text{154,000}}\\\\2 x_{1} + 3 x_{2} + 2 x_{3} = \\mathtt{\\text{178,500}}\\end{cases}$"
          },
          "metadata": {}
        },
        {
          "output_type": "stream",
          "name": "stdout",
          "text": [
            "\n",
            "Possibility #143\n",
            "The system of equations is:\n",
            "========================================\n"
          ]
        },
        {
          "output_type": "display_data",
          "data": {
            "text/plain": [
              "<IPython.core.display.Math object>"
            ],
            "text/latex": "$\\displaystyle \\textbf{Coefficient Values:}\\\\a_{1,1} = 3 , a_{1,2} = 1 , a_{1,3} = 1\\\\a_{2,1} = 1 , a_{2,2} = 3 , a_{2,3} = 2\\\\a_{3,1} = 2 , a_{3,2} = 2 , a_{3,3} = 3\\\\[1em]\\textbf{Variable Values:}\\\\x_{1} = 25000 , x_{2} = 25500 , x_{3} = 26000\\\\[1em]\\begin{cases}3 x_{1} + x_{2} + x_{3} = \\mathtt{\\text{126,500}}\\\\x_{1} + 3 x_{2} + 2 x_{3} = \\mathtt{\\text{153,500}}\\\\2 x_{1} + 2 x_{2} + 3 x_{3} = \\mathtt{\\text{179,000}}\\end{cases}$"
          },
          "metadata": {}
        },
        {
          "output_type": "stream",
          "name": "stdout",
          "text": [
            "\n",
            "Possibility #144\n",
            "The system of equations is:\n",
            "========================================\n"
          ]
        },
        {
          "output_type": "display_data",
          "data": {
            "text/plain": [
              "<IPython.core.display.Math object>"
            ],
            "text/latex": "$\\displaystyle \\textbf{Coefficient Values:}\\\\a_{1,1} = 3 , a_{1,2} = 1 , a_{1,3} = 1\\\\a_{2,1} = 1 , a_{2,2} = 3 , a_{2,3} = 3\\\\a_{3,1} = 2 , a_{3,2} = 2 , a_{3,3} = 2\\\\[1em]\\textbf{Variable Values:}\\\\x_{1} = 25000 , x_{2} = 25500 , x_{3} = 26000\\\\[1em]\\begin{cases}3 x_{1} + x_{2} + x_{3} = \\mathtt{\\text{126,500}}\\\\x_{1} + 3 x_{2} + 3 x_{3} = \\mathtt{\\text{179,500}}\\\\2 x_{1} + 2 x_{2} + 2 x_{3} = \\mathtt{\\text{153,000}}\\end{cases}$"
          },
          "metadata": {}
        },
        {
          "output_type": "stream",
          "name": "stdout",
          "text": [
            "\n",
            "Possibility #145\n",
            "The system of equations is:\n",
            "========================================\n"
          ]
        },
        {
          "output_type": "display_data",
          "data": {
            "text/plain": [
              "<IPython.core.display.Math object>"
            ],
            "text/latex": "$\\displaystyle \\textbf{Coefficient Values:}\\\\a_{1,1} = 3 , a_{1,2} = 1 , a_{1,3} = 1\\\\a_{2,1} = 2 , a_{2,2} = 2 , a_{2,3} = 2\\\\a_{3,1} = 1 , a_{3,2} = 3 , a_{3,3} = 3\\\\[1em]\\textbf{Variable Values:}\\\\x_{1} = 25000 , x_{2} = 25500 , x_{3} = 26000\\\\[1em]\\begin{cases}3 x_{1} + x_{2} + x_{3} = \\mathtt{\\text{126,500}}\\\\2 x_{1} + 2 x_{2} + 2 x_{3} = \\mathtt{\\text{153,000}}\\\\x_{1} + 3 x_{2} + 3 x_{3} = \\mathtt{\\text{179,500}}\\end{cases}$"
          },
          "metadata": {}
        },
        {
          "output_type": "stream",
          "name": "stdout",
          "text": [
            "\n",
            "Possibility #146\n",
            "The system of equations is:\n",
            "========================================\n"
          ]
        },
        {
          "output_type": "display_data",
          "data": {
            "text/plain": [
              "<IPython.core.display.Math object>"
            ],
            "text/latex": "$\\displaystyle \\textbf{Coefficient Values:}\\\\a_{1,1} = 3 , a_{1,2} = 1 , a_{1,3} = 1\\\\a_{2,1} = 2 , a_{2,2} = 2 , a_{2,3} = 3\\\\a_{3,1} = 1 , a_{3,2} = 3 , a_{3,3} = 2\\\\[1em]\\textbf{Variable Values:}\\\\x_{1} = 25000 , x_{2} = 25500 , x_{3} = 26000\\\\[1em]\\begin{cases}3 x_{1} + x_{2} + x_{3} = \\mathtt{\\text{126,500}}\\\\2 x_{1} + 2 x_{2} + 3 x_{3} = \\mathtt{\\text{179,000}}\\\\x_{1} + 3 x_{2} + 2 x_{3} = \\mathtt{\\text{153,500}}\\end{cases}$"
          },
          "metadata": {}
        },
        {
          "output_type": "stream",
          "name": "stdout",
          "text": [
            "\n",
            "Possibility #147\n",
            "The system of equations is:\n",
            "========================================\n"
          ]
        },
        {
          "output_type": "display_data",
          "data": {
            "text/plain": [
              "<IPython.core.display.Math object>"
            ],
            "text/latex": "$\\displaystyle \\textbf{Coefficient Values:}\\\\a_{1,1} = 3 , a_{1,2} = 1 , a_{1,3} = 1\\\\a_{2,1} = 2 , a_{2,2} = 3 , a_{2,3} = 2\\\\a_{3,1} = 1 , a_{3,2} = 2 , a_{3,3} = 3\\\\[1em]\\textbf{Variable Values:}\\\\x_{1} = 25000 , x_{2} = 25500 , x_{3} = 26000\\\\[1em]\\begin{cases}3 x_{1} + x_{2} + x_{3} = \\mathtt{\\text{126,500}}\\\\2 x_{1} + 3 x_{2} + 2 x_{3} = \\mathtt{\\text{178,500}}\\\\x_{1} + 2 x_{2} + 3 x_{3} = \\mathtt{\\text{154,000}}\\end{cases}$"
          },
          "metadata": {}
        },
        {
          "output_type": "stream",
          "name": "stdout",
          "text": [
            "\n",
            "Possibility #148\n",
            "The system of equations is:\n",
            "========================================\n"
          ]
        },
        {
          "output_type": "display_data",
          "data": {
            "text/plain": [
              "<IPython.core.display.Math object>"
            ],
            "text/latex": "$\\displaystyle \\textbf{Coefficient Values:}\\\\a_{1,1} = 3 , a_{1,2} = 1 , a_{1,3} = 1\\\\a_{2,1} = 2 , a_{2,2} = 3 , a_{2,3} = 3\\\\a_{3,1} = 1 , a_{3,2} = 2 , a_{3,3} = 2\\\\[1em]\\textbf{Variable Values:}\\\\x_{1} = 25000 , x_{2} = 25500 , x_{3} = 26000\\\\[1em]\\begin{cases}3 x_{1} + x_{2} + x_{3} = \\mathtt{\\text{126,500}}\\\\2 x_{1} + 3 x_{2} + 3 x_{3} = \\mathtt{\\text{204,500}}\\\\x_{1} + 2 x_{2} + 2 x_{3} = \\mathtt{\\text{128,000}}\\end{cases}$"
          },
          "metadata": {}
        },
        {
          "output_type": "stream",
          "name": "stdout",
          "text": [
            "\n",
            "Possibility #149\n",
            "The system of equations is:\n",
            "========================================\n"
          ]
        },
        {
          "output_type": "display_data",
          "data": {
            "text/plain": [
              "<IPython.core.display.Math object>"
            ],
            "text/latex": "$\\displaystyle \\textbf{Coefficient Values:}\\\\a_{1,1} = 3 , a_{1,2} = 1 , a_{1,3} = 2\\\\a_{2,1} = 1 , a_{2,2} = 2 , a_{2,3} = 1\\\\a_{3,1} = 2 , a_{3,2} = 3 , a_{3,3} = 3\\\\[1em]\\textbf{Variable Values:}\\\\x_{1} = 25000 , x_{2} = 25500 , x_{3} = 26000\\\\[1em]\\begin{cases}3 x_{1} + x_{2} + 2 x_{3} = \\mathtt{\\text{152,500}}\\\\x_{1} + 2 x_{2} + x_{3} = \\mathtt{\\text{102,000}}\\\\2 x_{1} + 3 x_{2} + 3 x_{3} = \\mathtt{\\text{204,500}}\\end{cases}$"
          },
          "metadata": {}
        },
        {
          "output_type": "stream",
          "name": "stdout",
          "text": [
            "\n",
            "Possibility #150\n",
            "The system of equations is:\n",
            "========================================\n"
          ]
        },
        {
          "output_type": "display_data",
          "data": {
            "text/plain": [
              "<IPython.core.display.Math object>"
            ],
            "text/latex": "$\\displaystyle \\textbf{Coefficient Values:}\\\\a_{1,1} = 3 , a_{1,2} = 1 , a_{1,3} = 2\\\\a_{2,1} = 1 , a_{2,2} = 2 , a_{2,3} = 3\\\\a_{3,1} = 2 , a_{3,2} = 3 , a_{3,3} = 1\\\\[1em]\\textbf{Variable Values:}\\\\x_{1} = 25000 , x_{2} = 25500 , x_{3} = 26000\\\\[1em]\\begin{cases}3 x_{1} + x_{2} + 2 x_{3} = \\mathtt{\\text{152,500}}\\\\x_{1} + 2 x_{2} + 3 x_{3} = \\mathtt{\\text{154,000}}\\\\2 x_{1} + 3 x_{2} + x_{3} = \\mathtt{\\text{152,500}}\\end{cases}$"
          },
          "metadata": {}
        },
        {
          "output_type": "stream",
          "name": "stdout",
          "text": [
            "\n",
            "Possibility #151\n",
            "The system of equations is:\n",
            "========================================\n"
          ]
        },
        {
          "output_type": "display_data",
          "data": {
            "text/plain": [
              "<IPython.core.display.Math object>"
            ],
            "text/latex": "$\\displaystyle \\textbf{Coefficient Values:}\\\\a_{1,1} = 3 , a_{1,2} = 1 , a_{1,3} = 2\\\\a_{2,1} = 1 , a_{2,2} = 3 , a_{2,3} = 1\\\\a_{3,1} = 2 , a_{3,2} = 2 , a_{3,3} = 3\\\\[1em]\\textbf{Variable Values:}\\\\x_{1} = 25000 , x_{2} = 25500 , x_{3} = 26000\\\\[1em]\\begin{cases}3 x_{1} + x_{2} + 2 x_{3} = \\mathtt{\\text{152,500}}\\\\x_{1} + 3 x_{2} + x_{3} = \\mathtt{\\text{127,500}}\\\\2 x_{1} + 2 x_{2} + 3 x_{3} = \\mathtt{\\text{179,000}}\\end{cases}$"
          },
          "metadata": {}
        },
        {
          "output_type": "stream",
          "name": "stdout",
          "text": [
            "\n",
            "Possibility #152\n",
            "The system of equations is:\n",
            "========================================\n"
          ]
        },
        {
          "output_type": "display_data",
          "data": {
            "text/plain": [
              "<IPython.core.display.Math object>"
            ],
            "text/latex": "$\\displaystyle \\textbf{Coefficient Values:}\\\\a_{1,1} = 3 , a_{1,2} = 1 , a_{1,3} = 2\\\\a_{2,1} = 1 , a_{2,2} = 3 , a_{2,3} = 3\\\\a_{3,1} = 2 , a_{3,2} = 2 , a_{3,3} = 1\\\\[1em]\\textbf{Variable Values:}\\\\x_{1} = 25000 , x_{2} = 25500 , x_{3} = 26000\\\\[1em]\\begin{cases}3 x_{1} + x_{2} + 2 x_{3} = \\mathtt{\\text{152,500}}\\\\x_{1} + 3 x_{2} + 3 x_{3} = \\mathtt{\\text{179,500}}\\\\2 x_{1} + 2 x_{2} + x_{3} = \\mathtt{\\text{127,000}}\\end{cases}$"
          },
          "metadata": {}
        },
        {
          "output_type": "stream",
          "name": "stdout",
          "text": [
            "\n",
            "Possibility #153\n",
            "The system of equations is:\n",
            "========================================\n"
          ]
        },
        {
          "output_type": "display_data",
          "data": {
            "text/plain": [
              "<IPython.core.display.Math object>"
            ],
            "text/latex": "$\\displaystyle \\textbf{Coefficient Values:}\\\\a_{1,1} = 3 , a_{1,2} = 1 , a_{1,3} = 2\\\\a_{2,1} = 2 , a_{2,2} = 2 , a_{2,3} = 1\\\\a_{3,1} = 1 , a_{3,2} = 3 , a_{3,3} = 3\\\\[1em]\\textbf{Variable Values:}\\\\x_{1} = 25000 , x_{2} = 25500 , x_{3} = 26000\\\\[1em]\\begin{cases}3 x_{1} + x_{2} + 2 x_{3} = \\mathtt{\\text{152,500}}\\\\2 x_{1} + 2 x_{2} + x_{3} = \\mathtt{\\text{127,000}}\\\\x_{1} + 3 x_{2} + 3 x_{3} = \\mathtt{\\text{179,500}}\\end{cases}$"
          },
          "metadata": {}
        },
        {
          "output_type": "stream",
          "name": "stdout",
          "text": [
            "\n",
            "Possibility #154\n",
            "The system of equations is:\n",
            "========================================\n"
          ]
        },
        {
          "output_type": "display_data",
          "data": {
            "text/plain": [
              "<IPython.core.display.Math object>"
            ],
            "text/latex": "$\\displaystyle \\textbf{Coefficient Values:}\\\\a_{1,1} = 3 , a_{1,2} = 1 , a_{1,3} = 2\\\\a_{2,1} = 2 , a_{2,2} = 2 , a_{2,3} = 3\\\\a_{3,1} = 1 , a_{3,2} = 3 , a_{3,3} = 1\\\\[1em]\\textbf{Variable Values:}\\\\x_{1} = 25000 , x_{2} = 25500 , x_{3} = 26000\\\\[1em]\\begin{cases}3 x_{1} + x_{2} + 2 x_{3} = \\mathtt{\\text{152,500}}\\\\2 x_{1} + 2 x_{2} + 3 x_{3} = \\mathtt{\\text{179,000}}\\\\x_{1} + 3 x_{2} + x_{3} = \\mathtt{\\text{127,500}}\\end{cases}$"
          },
          "metadata": {}
        },
        {
          "output_type": "stream",
          "name": "stdout",
          "text": [
            "\n",
            "Possibility #155\n",
            "The system of equations is:\n",
            "========================================\n"
          ]
        },
        {
          "output_type": "display_data",
          "data": {
            "text/plain": [
              "<IPython.core.display.Math object>"
            ],
            "text/latex": "$\\displaystyle \\textbf{Coefficient Values:}\\\\a_{1,1} = 3 , a_{1,2} = 1 , a_{1,3} = 2\\\\a_{2,1} = 2 , a_{2,2} = 3 , a_{2,3} = 1\\\\a_{3,1} = 1 , a_{3,2} = 2 , a_{3,3} = 3\\\\[1em]\\textbf{Variable Values:}\\\\x_{1} = 25000 , x_{2} = 25500 , x_{3} = 26000\\\\[1em]\\begin{cases}3 x_{1} + x_{2} + 2 x_{3} = \\mathtt{\\text{152,500}}\\\\2 x_{1} + 3 x_{2} + x_{3} = \\mathtt{\\text{152,500}}\\\\x_{1} + 2 x_{2} + 3 x_{3} = \\mathtt{\\text{154,000}}\\end{cases}$"
          },
          "metadata": {}
        },
        {
          "output_type": "stream",
          "name": "stdout",
          "text": [
            "\n",
            "Possibility #156\n",
            "The system of equations is:\n",
            "========================================\n"
          ]
        },
        {
          "output_type": "display_data",
          "data": {
            "text/plain": [
              "<IPython.core.display.Math object>"
            ],
            "text/latex": "$\\displaystyle \\textbf{Coefficient Values:}\\\\a_{1,1} = 3 , a_{1,2} = 1 , a_{1,3} = 2\\\\a_{2,1} = 2 , a_{2,2} = 3 , a_{2,3} = 3\\\\a_{3,1} = 1 , a_{3,2} = 2 , a_{3,3} = 1\\\\[1em]\\textbf{Variable Values:}\\\\x_{1} = 25000 , x_{2} = 25500 , x_{3} = 26000\\\\[1em]\\begin{cases}3 x_{1} + x_{2} + 2 x_{3} = \\mathtt{\\text{152,500}}\\\\2 x_{1} + 3 x_{2} + 3 x_{3} = \\mathtt{\\text{204,500}}\\\\x_{1} + 2 x_{2} + x_{3} = \\mathtt{\\text{102,000}}\\end{cases}$"
          },
          "metadata": {}
        },
        {
          "output_type": "stream",
          "name": "stdout",
          "text": [
            "\n",
            "Possibility #157\n",
            "The system of equations is:\n",
            "========================================\n"
          ]
        },
        {
          "output_type": "display_data",
          "data": {
            "text/plain": [
              "<IPython.core.display.Math object>"
            ],
            "text/latex": "$\\displaystyle \\textbf{Coefficient Values:}\\\\a_{1,1} = 3 , a_{1,2} = 1 , a_{1,3} = 3\\\\a_{2,1} = 1 , a_{2,2} = 2 , a_{2,3} = 1\\\\a_{3,1} = 2 , a_{3,2} = 3 , a_{3,3} = 2\\\\[1em]\\textbf{Variable Values:}\\\\x_{1} = 25000 , x_{2} = 25500 , x_{3} = 26000\\\\[1em]\\begin{cases}3 x_{1} + x_{2} + 3 x_{3} = \\mathtt{\\text{178,500}}\\\\x_{1} + 2 x_{2} + x_{3} = \\mathtt{\\text{102,000}}\\\\2 x_{1} + 3 x_{2} + 2 x_{3} = \\mathtt{\\text{178,500}}\\end{cases}$"
          },
          "metadata": {}
        },
        {
          "output_type": "stream",
          "name": "stdout",
          "text": [
            "\n",
            "Possibility #158\n",
            "The system of equations is:\n",
            "========================================\n"
          ]
        },
        {
          "output_type": "display_data",
          "data": {
            "text/plain": [
              "<IPython.core.display.Math object>"
            ],
            "text/latex": "$\\displaystyle \\textbf{Coefficient Values:}\\\\a_{1,1} = 3 , a_{1,2} = 1 , a_{1,3} = 3\\\\a_{2,1} = 1 , a_{2,2} = 2 , a_{2,3} = 2\\\\a_{3,1} = 2 , a_{3,2} = 3 , a_{3,3} = 1\\\\[1em]\\textbf{Variable Values:}\\\\x_{1} = 25000 , x_{2} = 25500 , x_{3} = 26000\\\\[1em]\\begin{cases}3 x_{1} + x_{2} + 3 x_{3} = \\mathtt{\\text{178,500}}\\\\x_{1} + 2 x_{2} + 2 x_{3} = \\mathtt{\\text{128,000}}\\\\2 x_{1} + 3 x_{2} + x_{3} = \\mathtt{\\text{152,500}}\\end{cases}$"
          },
          "metadata": {}
        },
        {
          "output_type": "stream",
          "name": "stdout",
          "text": [
            "\n",
            "Possibility #159\n",
            "The system of equations is:\n",
            "========================================\n"
          ]
        },
        {
          "output_type": "display_data",
          "data": {
            "text/plain": [
              "<IPython.core.display.Math object>"
            ],
            "text/latex": "$\\displaystyle \\textbf{Coefficient Values:}\\\\a_{1,1} = 3 , a_{1,2} = 1 , a_{1,3} = 3\\\\a_{2,1} = 1 , a_{2,2} = 3 , a_{2,3} = 1\\\\a_{3,1} = 2 , a_{3,2} = 2 , a_{3,3} = 2\\\\[1em]\\textbf{Variable Values:}\\\\x_{1} = 25000 , x_{2} = 25500 , x_{3} = 26000\\\\[1em]\\begin{cases}3 x_{1} + x_{2} + 3 x_{3} = \\mathtt{\\text{178,500}}\\\\x_{1} + 3 x_{2} + x_{3} = \\mathtt{\\text{127,500}}\\\\2 x_{1} + 2 x_{2} + 2 x_{3} = \\mathtt{\\text{153,000}}\\end{cases}$"
          },
          "metadata": {}
        },
        {
          "output_type": "stream",
          "name": "stdout",
          "text": [
            "\n",
            "Possibility #160\n",
            "The system of equations is:\n",
            "========================================\n"
          ]
        },
        {
          "output_type": "display_data",
          "data": {
            "text/plain": [
              "<IPython.core.display.Math object>"
            ],
            "text/latex": "$\\displaystyle \\textbf{Coefficient Values:}\\\\a_{1,1} = 3 , a_{1,2} = 1 , a_{1,3} = 3\\\\a_{2,1} = 1 , a_{2,2} = 3 , a_{2,3} = 2\\\\a_{3,1} = 2 , a_{3,2} = 2 , a_{3,3} = 1\\\\[1em]\\textbf{Variable Values:}\\\\x_{1} = 25000 , x_{2} = 25500 , x_{3} = 26000\\\\[1em]\\begin{cases}3 x_{1} + x_{2} + 3 x_{3} = \\mathtt{\\text{178,500}}\\\\x_{1} + 3 x_{2} + 2 x_{3} = \\mathtt{\\text{153,500}}\\\\2 x_{1} + 2 x_{2} + x_{3} = \\mathtt{\\text{127,000}}\\end{cases}$"
          },
          "metadata": {}
        },
        {
          "output_type": "stream",
          "name": "stdout",
          "text": [
            "\n",
            "Possibility #161\n",
            "The system of equations is:\n",
            "========================================\n"
          ]
        },
        {
          "output_type": "display_data",
          "data": {
            "text/plain": [
              "<IPython.core.display.Math object>"
            ],
            "text/latex": "$\\displaystyle \\textbf{Coefficient Values:}\\\\a_{1,1} = 3 , a_{1,2} = 1 , a_{1,3} = 3\\\\a_{2,1} = 2 , a_{2,2} = 2 , a_{2,3} = 1\\\\a_{3,1} = 1 , a_{3,2} = 3 , a_{3,3} = 2\\\\[1em]\\textbf{Variable Values:}\\\\x_{1} = 25000 , x_{2} = 25500 , x_{3} = 26000\\\\[1em]\\begin{cases}3 x_{1} + x_{2} + 3 x_{3} = \\mathtt{\\text{178,500}}\\\\2 x_{1} + 2 x_{2} + x_{3} = \\mathtt{\\text{127,000}}\\\\x_{1} + 3 x_{2} + 2 x_{3} = \\mathtt{\\text{153,500}}\\end{cases}$"
          },
          "metadata": {}
        },
        {
          "output_type": "stream",
          "name": "stdout",
          "text": [
            "\n",
            "Possibility #162\n",
            "The system of equations is:\n",
            "========================================\n"
          ]
        },
        {
          "output_type": "display_data",
          "data": {
            "text/plain": [
              "<IPython.core.display.Math object>"
            ],
            "text/latex": "$\\displaystyle \\textbf{Coefficient Values:}\\\\a_{1,1} = 3 , a_{1,2} = 1 , a_{1,3} = 3\\\\a_{2,1} = 2 , a_{2,2} = 2 , a_{2,3} = 2\\\\a_{3,1} = 1 , a_{3,2} = 3 , a_{3,3} = 1\\\\[1em]\\textbf{Variable Values:}\\\\x_{1} = 25000 , x_{2} = 25500 , x_{3} = 26000\\\\[1em]\\begin{cases}3 x_{1} + x_{2} + 3 x_{3} = \\mathtt{\\text{178,500}}\\\\2 x_{1} + 2 x_{2} + 2 x_{3} = \\mathtt{\\text{153,000}}\\\\x_{1} + 3 x_{2} + x_{3} = \\mathtt{\\text{127,500}}\\end{cases}$"
          },
          "metadata": {}
        },
        {
          "output_type": "stream",
          "name": "stdout",
          "text": [
            "\n",
            "Possibility #163\n",
            "The system of equations is:\n",
            "========================================\n"
          ]
        },
        {
          "output_type": "display_data",
          "data": {
            "text/plain": [
              "<IPython.core.display.Math object>"
            ],
            "text/latex": "$\\displaystyle \\textbf{Coefficient Values:}\\\\a_{1,1} = 3 , a_{1,2} = 1 , a_{1,3} = 3\\\\a_{2,1} = 2 , a_{2,2} = 3 , a_{2,3} = 1\\\\a_{3,1} = 1 , a_{3,2} = 2 , a_{3,3} = 2\\\\[1em]\\textbf{Variable Values:}\\\\x_{1} = 25000 , x_{2} = 25500 , x_{3} = 26000\\\\[1em]\\begin{cases}3 x_{1} + x_{2} + 3 x_{3} = \\mathtt{\\text{178,500}}\\\\2 x_{1} + 3 x_{2} + x_{3} = \\mathtt{\\text{152,500}}\\\\x_{1} + 2 x_{2} + 2 x_{3} = \\mathtt{\\text{128,000}}\\end{cases}$"
          },
          "metadata": {}
        },
        {
          "output_type": "stream",
          "name": "stdout",
          "text": [
            "\n",
            "Possibility #164\n",
            "The system of equations is:\n",
            "========================================\n"
          ]
        },
        {
          "output_type": "display_data",
          "data": {
            "text/plain": [
              "<IPython.core.display.Math object>"
            ],
            "text/latex": "$\\displaystyle \\textbf{Coefficient Values:}\\\\a_{1,1} = 3 , a_{1,2} = 1 , a_{1,3} = 3\\\\a_{2,1} = 2 , a_{2,2} = 3 , a_{2,3} = 2\\\\a_{3,1} = 1 , a_{3,2} = 2 , a_{3,3} = 1\\\\[1em]\\textbf{Variable Values:}\\\\x_{1} = 25000 , x_{2} = 25500 , x_{3} = 26000\\\\[1em]\\begin{cases}3 x_{1} + x_{2} + 3 x_{3} = \\mathtt{\\text{178,500}}\\\\2 x_{1} + 3 x_{2} + 2 x_{3} = \\mathtt{\\text{178,500}}\\\\x_{1} + 2 x_{2} + x_{3} = \\mathtt{\\text{102,000}}\\end{cases}$"
          },
          "metadata": {}
        },
        {
          "output_type": "stream",
          "name": "stdout",
          "text": [
            "\n",
            "Possibility #165\n",
            "The system of equations is:\n",
            "========================================\n"
          ]
        },
        {
          "output_type": "display_data",
          "data": {
            "text/plain": [
              "<IPython.core.display.Math object>"
            ],
            "text/latex": "$\\displaystyle \\textbf{Coefficient Values:}\\\\a_{1,1} = 3 , a_{1,2} = 2 , a_{1,3} = 1\\\\a_{2,1} = 1 , a_{2,2} = 1 , a_{2,3} = 2\\\\a_{3,1} = 2 , a_{3,2} = 3 , a_{3,3} = 3\\\\[1em]\\textbf{Variable Values:}\\\\x_{1} = 25000 , x_{2} = 25500 , x_{3} = 26000\\\\[1em]\\begin{cases}3 x_{1} + 2 x_{2} + x_{3} = \\mathtt{\\text{152,000}}\\\\x_{1} + x_{2} + 2 x_{3} = \\mathtt{\\text{102,500}}\\\\2 x_{1} + 3 x_{2} + 3 x_{3} = \\mathtt{\\text{204,500}}\\end{cases}$"
          },
          "metadata": {}
        },
        {
          "output_type": "stream",
          "name": "stdout",
          "text": [
            "\n",
            "Possibility #166\n",
            "The system of equations is:\n",
            "========================================\n"
          ]
        },
        {
          "output_type": "display_data",
          "data": {
            "text/plain": [
              "<IPython.core.display.Math object>"
            ],
            "text/latex": "$\\displaystyle \\textbf{Coefficient Values:}\\\\a_{1,1} = 3 , a_{1,2} = 2 , a_{1,3} = 1\\\\a_{2,1} = 1 , a_{2,2} = 1 , a_{2,3} = 3\\\\a_{3,1} = 2 , a_{3,2} = 3 , a_{3,3} = 2\\\\[1em]\\textbf{Variable Values:}\\\\x_{1} = 25000 , x_{2} = 25500 , x_{3} = 26000\\\\[1em]\\begin{cases}3 x_{1} + 2 x_{2} + x_{3} = \\mathtt{\\text{152,000}}\\\\x_{1} + x_{2} + 3 x_{3} = \\mathtt{\\text{128,500}}\\\\2 x_{1} + 3 x_{2} + 2 x_{3} = \\mathtt{\\text{178,500}}\\end{cases}$"
          },
          "metadata": {}
        },
        {
          "output_type": "stream",
          "name": "stdout",
          "text": [
            "\n",
            "Possibility #167\n",
            "The system of equations is:\n",
            "========================================\n"
          ]
        },
        {
          "output_type": "display_data",
          "data": {
            "text/plain": [
              "<IPython.core.display.Math object>"
            ],
            "text/latex": "$\\displaystyle \\textbf{Coefficient Values:}\\\\a_{1,1} = 3 , a_{1,2} = 2 , a_{1,3} = 1\\\\a_{2,1} = 1 , a_{2,2} = 3 , a_{2,3} = 2\\\\a_{3,1} = 2 , a_{3,2} = 1 , a_{3,3} = 3\\\\[1em]\\textbf{Variable Values:}\\\\x_{1} = 25000 , x_{2} = 25500 , x_{3} = 26000\\\\[1em]\\begin{cases}3 x_{1} + 2 x_{2} + x_{3} = \\mathtt{\\text{152,000}}\\\\x_{1} + 3 x_{2} + 2 x_{3} = \\mathtt{\\text{153,500}}\\\\2 x_{1} + x_{2} + 3 x_{3} = \\mathtt{\\text{153,500}}\\end{cases}$"
          },
          "metadata": {}
        },
        {
          "output_type": "stream",
          "name": "stdout",
          "text": [
            "\n",
            "Possibility #168\n",
            "The system of equations is:\n",
            "========================================\n"
          ]
        },
        {
          "output_type": "display_data",
          "data": {
            "text/plain": [
              "<IPython.core.display.Math object>"
            ],
            "text/latex": "$\\displaystyle \\textbf{Coefficient Values:}\\\\a_{1,1} = 3 , a_{1,2} = 2 , a_{1,3} = 1\\\\a_{2,1} = 1 , a_{2,2} = 3 , a_{2,3} = 3\\\\a_{3,1} = 2 , a_{3,2} = 1 , a_{3,3} = 2\\\\[1em]\\textbf{Variable Values:}\\\\x_{1} = 25000 , x_{2} = 25500 , x_{3} = 26000\\\\[1em]\\begin{cases}3 x_{1} + 2 x_{2} + x_{3} = \\mathtt{\\text{152,000}}\\\\x_{1} + 3 x_{2} + 3 x_{3} = \\mathtt{\\text{179,500}}\\\\2 x_{1} + x_{2} + 2 x_{3} = \\mathtt{\\text{127,500}}\\end{cases}$"
          },
          "metadata": {}
        },
        {
          "output_type": "stream",
          "name": "stdout",
          "text": [
            "\n",
            "Possibility #169\n",
            "The system of equations is:\n",
            "========================================\n"
          ]
        },
        {
          "output_type": "display_data",
          "data": {
            "text/plain": [
              "<IPython.core.display.Math object>"
            ],
            "text/latex": "$\\displaystyle \\textbf{Coefficient Values:}\\\\a_{1,1} = 3 , a_{1,2} = 2 , a_{1,3} = 1\\\\a_{2,1} = 2 , a_{2,2} = 1 , a_{2,3} = 2\\\\a_{3,1} = 1 , a_{3,2} = 3 , a_{3,3} = 3\\\\[1em]\\textbf{Variable Values:}\\\\x_{1} = 25000 , x_{2} = 25500 , x_{3} = 26000\\\\[1em]\\begin{cases}3 x_{1} + 2 x_{2} + x_{3} = \\mathtt{\\text{152,000}}\\\\2 x_{1} + x_{2} + 2 x_{3} = \\mathtt{\\text{127,500}}\\\\x_{1} + 3 x_{2} + 3 x_{3} = \\mathtt{\\text{179,500}}\\end{cases}$"
          },
          "metadata": {}
        },
        {
          "output_type": "stream",
          "name": "stdout",
          "text": [
            "\n",
            "Possibility #170\n",
            "The system of equations is:\n",
            "========================================\n"
          ]
        },
        {
          "output_type": "display_data",
          "data": {
            "text/plain": [
              "<IPython.core.display.Math object>"
            ],
            "text/latex": "$\\displaystyle \\textbf{Coefficient Values:}\\\\a_{1,1} = 3 , a_{1,2} = 2 , a_{1,3} = 1\\\\a_{2,1} = 2 , a_{2,2} = 1 , a_{2,3} = 3\\\\a_{3,1} = 1 , a_{3,2} = 3 , a_{3,3} = 2\\\\[1em]\\textbf{Variable Values:}\\\\x_{1} = 25000 , x_{2} = 25500 , x_{3} = 26000\\\\[1em]\\begin{cases}3 x_{1} + 2 x_{2} + x_{3} = \\mathtt{\\text{152,000}}\\\\2 x_{1} + x_{2} + 3 x_{3} = \\mathtt{\\text{153,500}}\\\\x_{1} + 3 x_{2} + 2 x_{3} = \\mathtt{\\text{153,500}}\\end{cases}$"
          },
          "metadata": {}
        },
        {
          "output_type": "stream",
          "name": "stdout",
          "text": [
            "\n",
            "Possibility #171\n",
            "The system of equations is:\n",
            "========================================\n"
          ]
        },
        {
          "output_type": "display_data",
          "data": {
            "text/plain": [
              "<IPython.core.display.Math object>"
            ],
            "text/latex": "$\\displaystyle \\textbf{Coefficient Values:}\\\\a_{1,1} = 3 , a_{1,2} = 2 , a_{1,3} = 1\\\\a_{2,1} = 2 , a_{2,2} = 3 , a_{2,3} = 2\\\\a_{3,1} = 1 , a_{3,2} = 1 , a_{3,3} = 3\\\\[1em]\\textbf{Variable Values:}\\\\x_{1} = 25000 , x_{2} = 25500 , x_{3} = 26000\\\\[1em]\\begin{cases}3 x_{1} + 2 x_{2} + x_{3} = \\mathtt{\\text{152,000}}\\\\2 x_{1} + 3 x_{2} + 2 x_{3} = \\mathtt{\\text{178,500}}\\\\x_{1} + x_{2} + 3 x_{3} = \\mathtt{\\text{128,500}}\\end{cases}$"
          },
          "metadata": {}
        },
        {
          "output_type": "stream",
          "name": "stdout",
          "text": [
            "\n",
            "Possibility #172\n",
            "The system of equations is:\n",
            "========================================\n"
          ]
        },
        {
          "output_type": "display_data",
          "data": {
            "text/plain": [
              "<IPython.core.display.Math object>"
            ],
            "text/latex": "$\\displaystyle \\textbf{Coefficient Values:}\\\\a_{1,1} = 3 , a_{1,2} = 2 , a_{1,3} = 1\\\\a_{2,1} = 2 , a_{2,2} = 3 , a_{2,3} = 3\\\\a_{3,1} = 1 , a_{3,2} = 1 , a_{3,3} = 2\\\\[1em]\\textbf{Variable Values:}\\\\x_{1} = 25000 , x_{2} = 25500 , x_{3} = 26000\\\\[1em]\\begin{cases}3 x_{1} + 2 x_{2} + x_{3} = \\mathtt{\\text{152,000}}\\\\2 x_{1} + 3 x_{2} + 3 x_{3} = \\mathtt{\\text{204,500}}\\\\x_{1} + x_{2} + 2 x_{3} = \\mathtt{\\text{102,500}}\\end{cases}$"
          },
          "metadata": {}
        },
        {
          "output_type": "stream",
          "name": "stdout",
          "text": [
            "\n",
            "Possibility #173\n",
            "The system of equations is:\n",
            "========================================\n"
          ]
        },
        {
          "output_type": "display_data",
          "data": {
            "text/plain": [
              "<IPython.core.display.Math object>"
            ],
            "text/latex": "$\\displaystyle \\textbf{Coefficient Values:}\\\\a_{1,1} = 3 , a_{1,2} = 2 , a_{1,3} = 2\\\\a_{2,1} = 1 , a_{2,2} = 1 , a_{2,3} = 1\\\\a_{3,1} = 2 , a_{3,2} = 3 , a_{3,3} = 3\\\\[1em]\\textbf{Variable Values:}\\\\x_{1} = 25000 , x_{2} = 25500 , x_{3} = 26000\\\\[1em]\\begin{cases}3 x_{1} + 2 x_{2} + 2 x_{3} = \\mathtt{\\text{178,000}}\\\\x_{1} + x_{2} + x_{3} = \\mathtt{\\text{76,500}}\\\\2 x_{1} + 3 x_{2} + 3 x_{3} = \\mathtt{\\text{204,500}}\\end{cases}$"
          },
          "metadata": {}
        },
        {
          "output_type": "stream",
          "name": "stdout",
          "text": [
            "\n",
            "Possibility #174\n",
            "The system of equations is:\n",
            "========================================\n"
          ]
        },
        {
          "output_type": "display_data",
          "data": {
            "text/plain": [
              "<IPython.core.display.Math object>"
            ],
            "text/latex": "$\\displaystyle \\textbf{Coefficient Values:}\\\\a_{1,1} = 3 , a_{1,2} = 2 , a_{1,3} = 2\\\\a_{2,1} = 1 , a_{2,2} = 1 , a_{2,3} = 3\\\\a_{3,1} = 2 , a_{3,2} = 3 , a_{3,3} = 1\\\\[1em]\\textbf{Variable Values:}\\\\x_{1} = 25000 , x_{2} = 25500 , x_{3} = 26000\\\\[1em]\\begin{cases}3 x_{1} + 2 x_{2} + 2 x_{3} = \\mathtt{\\text{178,000}}\\\\x_{1} + x_{2} + 3 x_{3} = \\mathtt{\\text{128,500}}\\\\2 x_{1} + 3 x_{2} + x_{3} = \\mathtt{\\text{152,500}}\\end{cases}$"
          },
          "metadata": {}
        },
        {
          "output_type": "stream",
          "name": "stdout",
          "text": [
            "\n",
            "Possibility #175\n",
            "The system of equations is:\n",
            "========================================\n"
          ]
        },
        {
          "output_type": "display_data",
          "data": {
            "text/plain": [
              "<IPython.core.display.Math object>"
            ],
            "text/latex": "$\\displaystyle \\textbf{Coefficient Values:}\\\\a_{1,1} = 3 , a_{1,2} = 2 , a_{1,3} = 2\\\\a_{2,1} = 1 , a_{2,2} = 3 , a_{2,3} = 1\\\\a_{3,1} = 2 , a_{3,2} = 1 , a_{3,3} = 3\\\\[1em]\\textbf{Variable Values:}\\\\x_{1} = 25000 , x_{2} = 25500 , x_{3} = 26000\\\\[1em]\\begin{cases}3 x_{1} + 2 x_{2} + 2 x_{3} = \\mathtt{\\text{178,000}}\\\\x_{1} + 3 x_{2} + x_{3} = \\mathtt{\\text{127,500}}\\\\2 x_{1} + x_{2} + 3 x_{3} = \\mathtt{\\text{153,500}}\\end{cases}$"
          },
          "metadata": {}
        },
        {
          "output_type": "stream",
          "name": "stdout",
          "text": [
            "\n",
            "Possibility #176\n",
            "The system of equations is:\n",
            "========================================\n"
          ]
        },
        {
          "output_type": "display_data",
          "data": {
            "text/plain": [
              "<IPython.core.display.Math object>"
            ],
            "text/latex": "$\\displaystyle \\textbf{Coefficient Values:}\\\\a_{1,1} = 3 , a_{1,2} = 2 , a_{1,3} = 2\\\\a_{2,1} = 1 , a_{2,2} = 3 , a_{2,3} = 3\\\\a_{3,1} = 2 , a_{3,2} = 1 , a_{3,3} = 1\\\\[1em]\\textbf{Variable Values:}\\\\x_{1} = 25000 , x_{2} = 25500 , x_{3} = 26000\\\\[1em]\\begin{cases}3 x_{1} + 2 x_{2} + 2 x_{3} = \\mathtt{\\text{178,000}}\\\\x_{1} + 3 x_{2} + 3 x_{3} = \\mathtt{\\text{179,500}}\\\\2 x_{1} + x_{2} + x_{3} = \\mathtt{\\text{101,500}}\\end{cases}$"
          },
          "metadata": {}
        },
        {
          "output_type": "stream",
          "name": "stdout",
          "text": [
            "\n",
            "Possibility #177\n",
            "The system of equations is:\n",
            "========================================\n"
          ]
        },
        {
          "output_type": "display_data",
          "data": {
            "text/plain": [
              "<IPython.core.display.Math object>"
            ],
            "text/latex": "$\\displaystyle \\textbf{Coefficient Values:}\\\\a_{1,1} = 3 , a_{1,2} = 2 , a_{1,3} = 2\\\\a_{2,1} = 2 , a_{2,2} = 1 , a_{2,3} = 1\\\\a_{3,1} = 1 , a_{3,2} = 3 , a_{3,3} = 3\\\\[1em]\\textbf{Variable Values:}\\\\x_{1} = 25000 , x_{2} = 25500 , x_{3} = 26000\\\\[1em]\\begin{cases}3 x_{1} + 2 x_{2} + 2 x_{3} = \\mathtt{\\text{178,000}}\\\\2 x_{1} + x_{2} + x_{3} = \\mathtt{\\text{101,500}}\\\\x_{1} + 3 x_{2} + 3 x_{3} = \\mathtt{\\text{179,500}}\\end{cases}$"
          },
          "metadata": {}
        },
        {
          "output_type": "stream",
          "name": "stdout",
          "text": [
            "\n",
            "Possibility #178\n",
            "The system of equations is:\n",
            "========================================\n"
          ]
        },
        {
          "output_type": "display_data",
          "data": {
            "text/plain": [
              "<IPython.core.display.Math object>"
            ],
            "text/latex": "$\\displaystyle \\textbf{Coefficient Values:}\\\\a_{1,1} = 3 , a_{1,2} = 2 , a_{1,3} = 2\\\\a_{2,1} = 2 , a_{2,2} = 1 , a_{2,3} = 3\\\\a_{3,1} = 1 , a_{3,2} = 3 , a_{3,3} = 1\\\\[1em]\\textbf{Variable Values:}\\\\x_{1} = 25000 , x_{2} = 25500 , x_{3} = 26000\\\\[1em]\\begin{cases}3 x_{1} + 2 x_{2} + 2 x_{3} = \\mathtt{\\text{178,000}}\\\\2 x_{1} + x_{2} + 3 x_{3} = \\mathtt{\\text{153,500}}\\\\x_{1} + 3 x_{2} + x_{3} = \\mathtt{\\text{127,500}}\\end{cases}$"
          },
          "metadata": {}
        },
        {
          "output_type": "stream",
          "name": "stdout",
          "text": [
            "\n",
            "Possibility #179\n",
            "The system of equations is:\n",
            "========================================\n"
          ]
        },
        {
          "output_type": "display_data",
          "data": {
            "text/plain": [
              "<IPython.core.display.Math object>"
            ],
            "text/latex": "$\\displaystyle \\textbf{Coefficient Values:}\\\\a_{1,1} = 3 , a_{1,2} = 2 , a_{1,3} = 2\\\\a_{2,1} = 2 , a_{2,2} = 3 , a_{2,3} = 1\\\\a_{3,1} = 1 , a_{3,2} = 1 , a_{3,3} = 3\\\\[1em]\\textbf{Variable Values:}\\\\x_{1} = 25000 , x_{2} = 25500 , x_{3} = 26000\\\\[1em]\\begin{cases}3 x_{1} + 2 x_{2} + 2 x_{3} = \\mathtt{\\text{178,000}}\\\\2 x_{1} + 3 x_{2} + x_{3} = \\mathtt{\\text{152,500}}\\\\x_{1} + x_{2} + 3 x_{3} = \\mathtt{\\text{128,500}}\\end{cases}$"
          },
          "metadata": {}
        },
        {
          "output_type": "stream",
          "name": "stdout",
          "text": [
            "\n",
            "Possibility #180\n",
            "The system of equations is:\n",
            "========================================\n"
          ]
        },
        {
          "output_type": "display_data",
          "data": {
            "text/plain": [
              "<IPython.core.display.Math object>"
            ],
            "text/latex": "$\\displaystyle \\textbf{Coefficient Values:}\\\\a_{1,1} = 3 , a_{1,2} = 2 , a_{1,3} = 2\\\\a_{2,1} = 2 , a_{2,2} = 3 , a_{2,3} = 3\\\\a_{3,1} = 1 , a_{3,2} = 1 , a_{3,3} = 1\\\\[1em]\\textbf{Variable Values:}\\\\x_{1} = 25000 , x_{2} = 25500 , x_{3} = 26000\\\\[1em]\\begin{cases}3 x_{1} + 2 x_{2} + 2 x_{3} = \\mathtt{\\text{178,000}}\\\\2 x_{1} + 3 x_{2} + 3 x_{3} = \\mathtt{\\text{204,500}}\\\\x_{1} + x_{2} + x_{3} = \\mathtt{\\text{76,500}}\\end{cases}$"
          },
          "metadata": {}
        },
        {
          "output_type": "stream",
          "name": "stdout",
          "text": [
            "\n",
            "Possibility #181\n",
            "The system of equations is:\n",
            "========================================\n"
          ]
        },
        {
          "output_type": "display_data",
          "data": {
            "text/plain": [
              "<IPython.core.display.Math object>"
            ],
            "text/latex": "$\\displaystyle \\textbf{Coefficient Values:}\\\\a_{1,1} = 3 , a_{1,2} = 2 , a_{1,3} = 3\\\\a_{2,1} = 1 , a_{2,2} = 1 , a_{2,3} = 1\\\\a_{3,1} = 2 , a_{3,2} = 3 , a_{3,3} = 2\\\\[1em]\\textbf{Variable Values:}\\\\x_{1} = 25000 , x_{2} = 25500 , x_{3} = 26000\\\\[1em]\\begin{cases}3 x_{1} + 2 x_{2} + 3 x_{3} = \\mathtt{\\text{204,000}}\\\\x_{1} + x_{2} + x_{3} = \\mathtt{\\text{76,500}}\\\\2 x_{1} + 3 x_{2} + 2 x_{3} = \\mathtt{\\text{178,500}}\\end{cases}$"
          },
          "metadata": {}
        },
        {
          "output_type": "stream",
          "name": "stdout",
          "text": [
            "\n",
            "Possibility #182\n",
            "The system of equations is:\n",
            "========================================\n"
          ]
        },
        {
          "output_type": "display_data",
          "data": {
            "text/plain": [
              "<IPython.core.display.Math object>"
            ],
            "text/latex": "$\\displaystyle \\textbf{Coefficient Values:}\\\\a_{1,1} = 3 , a_{1,2} = 2 , a_{1,3} = 3\\\\a_{2,1} = 1 , a_{2,2} = 1 , a_{2,3} = 2\\\\a_{3,1} = 2 , a_{3,2} = 3 , a_{3,3} = 1\\\\[1em]\\textbf{Variable Values:}\\\\x_{1} = 25000 , x_{2} = 25500 , x_{3} = 26000\\\\[1em]\\begin{cases}3 x_{1} + 2 x_{2} + 3 x_{3} = \\mathtt{\\text{204,000}}\\\\x_{1} + x_{2} + 2 x_{3} = \\mathtt{\\text{102,500}}\\\\2 x_{1} + 3 x_{2} + x_{3} = \\mathtt{\\text{152,500}}\\end{cases}$"
          },
          "metadata": {}
        },
        {
          "output_type": "stream",
          "name": "stdout",
          "text": [
            "\n",
            "Possibility #183\n",
            "The system of equations is:\n",
            "========================================\n"
          ]
        },
        {
          "output_type": "display_data",
          "data": {
            "text/plain": [
              "<IPython.core.display.Math object>"
            ],
            "text/latex": "$\\displaystyle \\textbf{Coefficient Values:}\\\\a_{1,1} = 3 , a_{1,2} = 2 , a_{1,3} = 3\\\\a_{2,1} = 1 , a_{2,2} = 3 , a_{2,3} = 1\\\\a_{3,1} = 2 , a_{3,2} = 1 , a_{3,3} = 2\\\\[1em]\\textbf{Variable Values:}\\\\x_{1} = 25000 , x_{2} = 25500 , x_{3} = 26000\\\\[1em]\\begin{cases}3 x_{1} + 2 x_{2} + 3 x_{3} = \\mathtt{\\text{204,000}}\\\\x_{1} + 3 x_{2} + x_{3} = \\mathtt{\\text{127,500}}\\\\2 x_{1} + x_{2} + 2 x_{3} = \\mathtt{\\text{127,500}}\\end{cases}$"
          },
          "metadata": {}
        },
        {
          "output_type": "stream",
          "name": "stdout",
          "text": [
            "\n",
            "Possibility #184\n",
            "The system of equations is:\n",
            "========================================\n"
          ]
        },
        {
          "output_type": "display_data",
          "data": {
            "text/plain": [
              "<IPython.core.display.Math object>"
            ],
            "text/latex": "$\\displaystyle \\textbf{Coefficient Values:}\\\\a_{1,1} = 3 , a_{1,2} = 2 , a_{1,3} = 3\\\\a_{2,1} = 1 , a_{2,2} = 3 , a_{2,3} = 2\\\\a_{3,1} = 2 , a_{3,2} = 1 , a_{3,3} = 1\\\\[1em]\\textbf{Variable Values:}\\\\x_{1} = 25000 , x_{2} = 25500 , x_{3} = 26000\\\\[1em]\\begin{cases}3 x_{1} + 2 x_{2} + 3 x_{3} = \\mathtt{\\text{204,000}}\\\\x_{1} + 3 x_{2} + 2 x_{3} = \\mathtt{\\text{153,500}}\\\\2 x_{1} + x_{2} + x_{3} = \\mathtt{\\text{101,500}}\\end{cases}$"
          },
          "metadata": {}
        },
        {
          "output_type": "stream",
          "name": "stdout",
          "text": [
            "\n",
            "Possibility #185\n",
            "The system of equations is:\n",
            "========================================\n"
          ]
        },
        {
          "output_type": "display_data",
          "data": {
            "text/plain": [
              "<IPython.core.display.Math object>"
            ],
            "text/latex": "$\\displaystyle \\textbf{Coefficient Values:}\\\\a_{1,1} = 3 , a_{1,2} = 2 , a_{1,3} = 3\\\\a_{2,1} = 2 , a_{2,2} = 1 , a_{2,3} = 1\\\\a_{3,1} = 1 , a_{3,2} = 3 , a_{3,3} = 2\\\\[1em]\\textbf{Variable Values:}\\\\x_{1} = 25000 , x_{2} = 25500 , x_{3} = 26000\\\\[1em]\\begin{cases}3 x_{1} + 2 x_{2} + 3 x_{3} = \\mathtt{\\text{204,000}}\\\\2 x_{1} + x_{2} + x_{3} = \\mathtt{\\text{101,500}}\\\\x_{1} + 3 x_{2} + 2 x_{3} = \\mathtt{\\text{153,500}}\\end{cases}$"
          },
          "metadata": {}
        },
        {
          "output_type": "stream",
          "name": "stdout",
          "text": [
            "\n",
            "Possibility #186\n",
            "The system of equations is:\n",
            "========================================\n"
          ]
        },
        {
          "output_type": "display_data",
          "data": {
            "text/plain": [
              "<IPython.core.display.Math object>"
            ],
            "text/latex": "$\\displaystyle \\textbf{Coefficient Values:}\\\\a_{1,1} = 3 , a_{1,2} = 2 , a_{1,3} = 3\\\\a_{2,1} = 2 , a_{2,2} = 1 , a_{2,3} = 2\\\\a_{3,1} = 1 , a_{3,2} = 3 , a_{3,3} = 1\\\\[1em]\\textbf{Variable Values:}\\\\x_{1} = 25000 , x_{2} = 25500 , x_{3} = 26000\\\\[1em]\\begin{cases}3 x_{1} + 2 x_{2} + 3 x_{3} = \\mathtt{\\text{204,000}}\\\\2 x_{1} + x_{2} + 2 x_{3} = \\mathtt{\\text{127,500}}\\\\x_{1} + 3 x_{2} + x_{3} = \\mathtt{\\text{127,500}}\\end{cases}$"
          },
          "metadata": {}
        },
        {
          "output_type": "stream",
          "name": "stdout",
          "text": [
            "\n",
            "Possibility #187\n",
            "The system of equations is:\n",
            "========================================\n"
          ]
        },
        {
          "output_type": "display_data",
          "data": {
            "text/plain": [
              "<IPython.core.display.Math object>"
            ],
            "text/latex": "$\\displaystyle \\textbf{Coefficient Values:}\\\\a_{1,1} = 3 , a_{1,2} = 2 , a_{1,3} = 3\\\\a_{2,1} = 2 , a_{2,2} = 3 , a_{2,3} = 1\\\\a_{3,1} = 1 , a_{3,2} = 1 , a_{3,3} = 2\\\\[1em]\\textbf{Variable Values:}\\\\x_{1} = 25000 , x_{2} = 25500 , x_{3} = 26000\\\\[1em]\\begin{cases}3 x_{1} + 2 x_{2} + 3 x_{3} = \\mathtt{\\text{204,000}}\\\\2 x_{1} + 3 x_{2} + x_{3} = \\mathtt{\\text{152,500}}\\\\x_{1} + x_{2} + 2 x_{3} = \\mathtt{\\text{102,500}}\\end{cases}$"
          },
          "metadata": {}
        },
        {
          "output_type": "stream",
          "name": "stdout",
          "text": [
            "\n",
            "Possibility #188\n",
            "The system of equations is:\n",
            "========================================\n"
          ]
        },
        {
          "output_type": "display_data",
          "data": {
            "text/plain": [
              "<IPython.core.display.Math object>"
            ],
            "text/latex": "$\\displaystyle \\textbf{Coefficient Values:}\\\\a_{1,1} = 3 , a_{1,2} = 2 , a_{1,3} = 3\\\\a_{2,1} = 2 , a_{2,2} = 3 , a_{2,3} = 2\\\\a_{3,1} = 1 , a_{3,2} = 1 , a_{3,3} = 1\\\\[1em]\\textbf{Variable Values:}\\\\x_{1} = 25000 , x_{2} = 25500 , x_{3} = 26000\\\\[1em]\\begin{cases}3 x_{1} + 2 x_{2} + 3 x_{3} = \\mathtt{\\text{204,000}}\\\\2 x_{1} + 3 x_{2} + 2 x_{3} = \\mathtt{\\text{178,500}}\\\\x_{1} + x_{2} + x_{3} = \\mathtt{\\text{76,500}}\\end{cases}$"
          },
          "metadata": {}
        },
        {
          "output_type": "stream",
          "name": "stdout",
          "text": [
            "\n",
            "Possibility #189\n",
            "The system of equations is:\n",
            "========================================\n"
          ]
        },
        {
          "output_type": "display_data",
          "data": {
            "text/plain": [
              "<IPython.core.display.Math object>"
            ],
            "text/latex": "$\\displaystyle \\textbf{Coefficient Values:}\\\\a_{1,1} = 3 , a_{1,2} = 3 , a_{1,3} = 1\\\\a_{2,1} = 1 , a_{2,2} = 1 , a_{2,3} = 2\\\\a_{3,1} = 2 , a_{3,2} = 2 , a_{3,3} = 3\\\\[1em]\\textbf{Variable Values:}\\\\x_{1} = 25000 , x_{2} = 25500 , x_{3} = 26000\\\\[1em]\\begin{cases}3 x_{1} + 3 x_{2} + x_{3} = \\mathtt{\\text{177,500}}\\\\x_{1} + x_{2} + 2 x_{3} = \\mathtt{\\text{102,500}}\\\\2 x_{1} + 2 x_{2} + 3 x_{3} = \\mathtt{\\text{179,000}}\\end{cases}$"
          },
          "metadata": {}
        },
        {
          "output_type": "stream",
          "name": "stdout",
          "text": [
            "\n",
            "Possibility #190\n",
            "The system of equations is:\n",
            "========================================\n"
          ]
        },
        {
          "output_type": "display_data",
          "data": {
            "text/plain": [
              "<IPython.core.display.Math object>"
            ],
            "text/latex": "$\\displaystyle \\textbf{Coefficient Values:}\\\\a_{1,1} = 3 , a_{1,2} = 3 , a_{1,3} = 1\\\\a_{2,1} = 1 , a_{2,2} = 1 , a_{2,3} = 3\\\\a_{3,1} = 2 , a_{3,2} = 2 , a_{3,3} = 2\\\\[1em]\\textbf{Variable Values:}\\\\x_{1} = 25000 , x_{2} = 25500 , x_{3} = 26000\\\\[1em]\\begin{cases}3 x_{1} + 3 x_{2} + x_{3} = \\mathtt{\\text{177,500}}\\\\x_{1} + x_{2} + 3 x_{3} = \\mathtt{\\text{128,500}}\\\\2 x_{1} + 2 x_{2} + 2 x_{3} = \\mathtt{\\text{153,000}}\\end{cases}$"
          },
          "metadata": {}
        },
        {
          "output_type": "stream",
          "name": "stdout",
          "text": [
            "\n",
            "Possibility #191\n",
            "The system of equations is:\n",
            "========================================\n"
          ]
        },
        {
          "output_type": "display_data",
          "data": {
            "text/plain": [
              "<IPython.core.display.Math object>"
            ],
            "text/latex": "$\\displaystyle \\textbf{Coefficient Values:}\\\\a_{1,1} = 3 , a_{1,2} = 3 , a_{1,3} = 1\\\\a_{2,1} = 1 , a_{2,2} = 2 , a_{2,3} = 2\\\\a_{3,1} = 2 , a_{3,2} = 1 , a_{3,3} = 3\\\\[1em]\\textbf{Variable Values:}\\\\x_{1} = 25000 , x_{2} = 25500 , x_{3} = 26000\\\\[1em]\\begin{cases}3 x_{1} + 3 x_{2} + x_{3} = \\mathtt{\\text{177,500}}\\\\x_{1} + 2 x_{2} + 2 x_{3} = \\mathtt{\\text{128,000}}\\\\2 x_{1} + x_{2} + 3 x_{3} = \\mathtt{\\text{153,500}}\\end{cases}$"
          },
          "metadata": {}
        },
        {
          "output_type": "stream",
          "name": "stdout",
          "text": [
            "\n",
            "Possibility #192\n",
            "The system of equations is:\n",
            "========================================\n"
          ]
        },
        {
          "output_type": "display_data",
          "data": {
            "text/plain": [
              "<IPython.core.display.Math object>"
            ],
            "text/latex": "$\\displaystyle \\textbf{Coefficient Values:}\\\\a_{1,1} = 3 , a_{1,2} = 3 , a_{1,3} = 1\\\\a_{2,1} = 1 , a_{2,2} = 2 , a_{2,3} = 3\\\\a_{3,1} = 2 , a_{3,2} = 1 , a_{3,3} = 2\\\\[1em]\\textbf{Variable Values:}\\\\x_{1} = 25000 , x_{2} = 25500 , x_{3} = 26000\\\\[1em]\\begin{cases}3 x_{1} + 3 x_{2} + x_{3} = \\mathtt{\\text{177,500}}\\\\x_{1} + 2 x_{2} + 3 x_{3} = \\mathtt{\\text{154,000}}\\\\2 x_{1} + x_{2} + 2 x_{3} = \\mathtt{\\text{127,500}}\\end{cases}$"
          },
          "metadata": {}
        },
        {
          "output_type": "stream",
          "name": "stdout",
          "text": [
            "\n",
            "Possibility #193\n",
            "The system of equations is:\n",
            "========================================\n"
          ]
        },
        {
          "output_type": "display_data",
          "data": {
            "text/plain": [
              "<IPython.core.display.Math object>"
            ],
            "text/latex": "$\\displaystyle \\textbf{Coefficient Values:}\\\\a_{1,1} = 3 , a_{1,2} = 3 , a_{1,3} = 1\\\\a_{2,1} = 2 , a_{2,2} = 1 , a_{2,3} = 2\\\\a_{3,1} = 1 , a_{3,2} = 2 , a_{3,3} = 3\\\\[1em]\\textbf{Variable Values:}\\\\x_{1} = 25000 , x_{2} = 25500 , x_{3} = 26000\\\\[1em]\\begin{cases}3 x_{1} + 3 x_{2} + x_{3} = \\mathtt{\\text{177,500}}\\\\2 x_{1} + x_{2} + 2 x_{3} = \\mathtt{\\text{127,500}}\\\\x_{1} + 2 x_{2} + 3 x_{3} = \\mathtt{\\text{154,000}}\\end{cases}$"
          },
          "metadata": {}
        },
        {
          "output_type": "stream",
          "name": "stdout",
          "text": [
            "\n",
            "Possibility #194\n",
            "The system of equations is:\n",
            "========================================\n"
          ]
        },
        {
          "output_type": "display_data",
          "data": {
            "text/plain": [
              "<IPython.core.display.Math object>"
            ],
            "text/latex": "$\\displaystyle \\textbf{Coefficient Values:}\\\\a_{1,1} = 3 , a_{1,2} = 3 , a_{1,3} = 1\\\\a_{2,1} = 2 , a_{2,2} = 1 , a_{2,3} = 3\\\\a_{3,1} = 1 , a_{3,2} = 2 , a_{3,3} = 2\\\\[1em]\\textbf{Variable Values:}\\\\x_{1} = 25000 , x_{2} = 25500 , x_{3} = 26000\\\\[1em]\\begin{cases}3 x_{1} + 3 x_{2} + x_{3} = \\mathtt{\\text{177,500}}\\\\2 x_{1} + x_{2} + 3 x_{3} = \\mathtt{\\text{153,500}}\\\\x_{1} + 2 x_{2} + 2 x_{3} = \\mathtt{\\text{128,000}}\\end{cases}$"
          },
          "metadata": {}
        },
        {
          "output_type": "stream",
          "name": "stdout",
          "text": [
            "\n",
            "Possibility #195\n",
            "The system of equations is:\n",
            "========================================\n"
          ]
        },
        {
          "output_type": "display_data",
          "data": {
            "text/plain": [
              "<IPython.core.display.Math object>"
            ],
            "text/latex": "$\\displaystyle \\textbf{Coefficient Values:}\\\\a_{1,1} = 3 , a_{1,2} = 3 , a_{1,3} = 1\\\\a_{2,1} = 2 , a_{2,2} = 2 , a_{2,3} = 2\\\\a_{3,1} = 1 , a_{3,2} = 1 , a_{3,3} = 3\\\\[1em]\\textbf{Variable Values:}\\\\x_{1} = 25000 , x_{2} = 25500 , x_{3} = 26000\\\\[1em]\\begin{cases}3 x_{1} + 3 x_{2} + x_{3} = \\mathtt{\\text{177,500}}\\\\2 x_{1} + 2 x_{2} + 2 x_{3} = \\mathtt{\\text{153,000}}\\\\x_{1} + x_{2} + 3 x_{3} = \\mathtt{\\text{128,500}}\\end{cases}$"
          },
          "metadata": {}
        },
        {
          "output_type": "stream",
          "name": "stdout",
          "text": [
            "\n",
            "Possibility #196\n",
            "The system of equations is:\n",
            "========================================\n"
          ]
        },
        {
          "output_type": "display_data",
          "data": {
            "text/plain": [
              "<IPython.core.display.Math object>"
            ],
            "text/latex": "$\\displaystyle \\textbf{Coefficient Values:}\\\\a_{1,1} = 3 , a_{1,2} = 3 , a_{1,3} = 1\\\\a_{2,1} = 2 , a_{2,2} = 2 , a_{2,3} = 3\\\\a_{3,1} = 1 , a_{3,2} = 1 , a_{3,3} = 2\\\\[1em]\\textbf{Variable Values:}\\\\x_{1} = 25000 , x_{2} = 25500 , x_{3} = 26000\\\\[1em]\\begin{cases}3 x_{1} + 3 x_{2} + x_{3} = \\mathtt{\\text{177,500}}\\\\2 x_{1} + 2 x_{2} + 3 x_{3} = \\mathtt{\\text{179,000}}\\\\x_{1} + x_{2} + 2 x_{3} = \\mathtt{\\text{102,500}}\\end{cases}$"
          },
          "metadata": {}
        },
        {
          "output_type": "stream",
          "name": "stdout",
          "text": [
            "\n",
            "Possibility #197\n",
            "The system of equations is:\n",
            "========================================\n"
          ]
        },
        {
          "output_type": "display_data",
          "data": {
            "text/plain": [
              "<IPython.core.display.Math object>"
            ],
            "text/latex": "$\\displaystyle \\textbf{Coefficient Values:}\\\\a_{1,1} = 3 , a_{1,2} = 3 , a_{1,3} = 2\\\\a_{2,1} = 1 , a_{2,2} = 1 , a_{2,3} = 1\\\\a_{3,1} = 2 , a_{3,2} = 2 , a_{3,3} = 3\\\\[1em]\\textbf{Variable Values:}\\\\x_{1} = 25000 , x_{2} = 25500 , x_{3} = 26000\\\\[1em]\\begin{cases}3 x_{1} + 3 x_{2} + 2 x_{3} = \\mathtt{\\text{203,500}}\\\\x_{1} + x_{2} + x_{3} = \\mathtt{\\text{76,500}}\\\\2 x_{1} + 2 x_{2} + 3 x_{3} = \\mathtt{\\text{179,000}}\\end{cases}$"
          },
          "metadata": {}
        },
        {
          "output_type": "stream",
          "name": "stdout",
          "text": [
            "\n",
            "Possibility #198\n",
            "The system of equations is:\n",
            "========================================\n"
          ]
        },
        {
          "output_type": "display_data",
          "data": {
            "text/plain": [
              "<IPython.core.display.Math object>"
            ],
            "text/latex": "$\\displaystyle \\textbf{Coefficient Values:}\\\\a_{1,1} = 3 , a_{1,2} = 3 , a_{1,3} = 2\\\\a_{2,1} = 1 , a_{2,2} = 1 , a_{2,3} = 3\\\\a_{3,1} = 2 , a_{3,2} = 2 , a_{3,3} = 1\\\\[1em]\\textbf{Variable Values:}\\\\x_{1} = 25000 , x_{2} = 25500 , x_{3} = 26000\\\\[1em]\\begin{cases}3 x_{1} + 3 x_{2} + 2 x_{3} = \\mathtt{\\text{203,500}}\\\\x_{1} + x_{2} + 3 x_{3} = \\mathtt{\\text{128,500}}\\\\2 x_{1} + 2 x_{2} + x_{3} = \\mathtt{\\text{127,000}}\\end{cases}$"
          },
          "metadata": {}
        },
        {
          "output_type": "stream",
          "name": "stdout",
          "text": [
            "\n",
            "Possibility #199\n",
            "The system of equations is:\n",
            "========================================\n"
          ]
        },
        {
          "output_type": "display_data",
          "data": {
            "text/plain": [
              "<IPython.core.display.Math object>"
            ],
            "text/latex": "$\\displaystyle \\textbf{Coefficient Values:}\\\\a_{1,1} = 3 , a_{1,2} = 3 , a_{1,3} = 2\\\\a_{2,1} = 1 , a_{2,2} = 2 , a_{2,3} = 1\\\\a_{3,1} = 2 , a_{3,2} = 1 , a_{3,3} = 3\\\\[1em]\\textbf{Variable Values:}\\\\x_{1} = 25000 , x_{2} = 25500 , x_{3} = 26000\\\\[1em]\\begin{cases}3 x_{1} + 3 x_{2} + 2 x_{3} = \\mathtt{\\text{203,500}}\\\\x_{1} + 2 x_{2} + x_{3} = \\mathtt{\\text{102,000}}\\\\2 x_{1} + x_{2} + 3 x_{3} = \\mathtt{\\text{153,500}}\\end{cases}$"
          },
          "metadata": {}
        },
        {
          "output_type": "stream",
          "name": "stdout",
          "text": [
            "\n",
            "Possibility #200\n",
            "The system of equations is:\n",
            "========================================\n"
          ]
        },
        {
          "output_type": "display_data",
          "data": {
            "text/plain": [
              "<IPython.core.display.Math object>"
            ],
            "text/latex": "$\\displaystyle \\textbf{Coefficient Values:}\\\\a_{1,1} = 3 , a_{1,2} = 3 , a_{1,3} = 2\\\\a_{2,1} = 1 , a_{2,2} = 2 , a_{2,3} = 3\\\\a_{3,1} = 2 , a_{3,2} = 1 , a_{3,3} = 1\\\\[1em]\\textbf{Variable Values:}\\\\x_{1} = 25000 , x_{2} = 25500 , x_{3} = 26000\\\\[1em]\\begin{cases}3 x_{1} + 3 x_{2} + 2 x_{3} = \\mathtt{\\text{203,500}}\\\\x_{1} + 2 x_{2} + 3 x_{3} = \\mathtt{\\text{154,000}}\\\\2 x_{1} + x_{2} + x_{3} = \\mathtt{\\text{101,500}}\\end{cases}$"
          },
          "metadata": {}
        },
        {
          "output_type": "stream",
          "name": "stdout",
          "text": [
            "\n",
            "Possibility #201\n",
            "The system of equations is:\n",
            "========================================\n"
          ]
        },
        {
          "output_type": "display_data",
          "data": {
            "text/plain": [
              "<IPython.core.display.Math object>"
            ],
            "text/latex": "$\\displaystyle \\textbf{Coefficient Values:}\\\\a_{1,1} = 3 , a_{1,2} = 3 , a_{1,3} = 2\\\\a_{2,1} = 2 , a_{2,2} = 1 , a_{2,3} = 1\\\\a_{3,1} = 1 , a_{3,2} = 2 , a_{3,3} = 3\\\\[1em]\\textbf{Variable Values:}\\\\x_{1} = 25000 , x_{2} = 25500 , x_{3} = 26000\\\\[1em]\\begin{cases}3 x_{1} + 3 x_{2} + 2 x_{3} = \\mathtt{\\text{203,500}}\\\\2 x_{1} + x_{2} + x_{3} = \\mathtt{\\text{101,500}}\\\\x_{1} + 2 x_{2} + 3 x_{3} = \\mathtt{\\text{154,000}}\\end{cases}$"
          },
          "metadata": {}
        },
        {
          "output_type": "stream",
          "name": "stdout",
          "text": [
            "\n",
            "Possibility #202\n",
            "The system of equations is:\n",
            "========================================\n"
          ]
        },
        {
          "output_type": "display_data",
          "data": {
            "text/plain": [
              "<IPython.core.display.Math object>"
            ],
            "text/latex": "$\\displaystyle \\textbf{Coefficient Values:}\\\\a_{1,1} = 3 , a_{1,2} = 3 , a_{1,3} = 2\\\\a_{2,1} = 2 , a_{2,2} = 1 , a_{2,3} = 3\\\\a_{3,1} = 1 , a_{3,2} = 2 , a_{3,3} = 1\\\\[1em]\\textbf{Variable Values:}\\\\x_{1} = 25000 , x_{2} = 25500 , x_{3} = 26000\\\\[1em]\\begin{cases}3 x_{1} + 3 x_{2} + 2 x_{3} = \\mathtt{\\text{203,500}}\\\\2 x_{1} + x_{2} + 3 x_{3} = \\mathtt{\\text{153,500}}\\\\x_{1} + 2 x_{2} + x_{3} = \\mathtt{\\text{102,000}}\\end{cases}$"
          },
          "metadata": {}
        },
        {
          "output_type": "stream",
          "name": "stdout",
          "text": [
            "\n",
            "Possibility #203\n",
            "The system of equations is:\n",
            "========================================\n"
          ]
        },
        {
          "output_type": "display_data",
          "data": {
            "text/plain": [
              "<IPython.core.display.Math object>"
            ],
            "text/latex": "$\\displaystyle \\textbf{Coefficient Values:}\\\\a_{1,1} = 3 , a_{1,2} = 3 , a_{1,3} = 2\\\\a_{2,1} = 2 , a_{2,2} = 2 , a_{2,3} = 1\\\\a_{3,1} = 1 , a_{3,2} = 1 , a_{3,3} = 3\\\\[1em]\\textbf{Variable Values:}\\\\x_{1} = 25000 , x_{2} = 25500 , x_{3} = 26000\\\\[1em]\\begin{cases}3 x_{1} + 3 x_{2} + 2 x_{3} = \\mathtt{\\text{203,500}}\\\\2 x_{1} + 2 x_{2} + x_{3} = \\mathtt{\\text{127,000}}\\\\x_{1} + x_{2} + 3 x_{3} = \\mathtt{\\text{128,500}}\\end{cases}$"
          },
          "metadata": {}
        },
        {
          "output_type": "stream",
          "name": "stdout",
          "text": [
            "\n",
            "Possibility #204\n",
            "The system of equations is:\n",
            "========================================\n"
          ]
        },
        {
          "output_type": "display_data",
          "data": {
            "text/plain": [
              "<IPython.core.display.Math object>"
            ],
            "text/latex": "$\\displaystyle \\textbf{Coefficient Values:}\\\\a_{1,1} = 3 , a_{1,2} = 3 , a_{1,3} = 2\\\\a_{2,1} = 2 , a_{2,2} = 2 , a_{2,3} = 3\\\\a_{3,1} = 1 , a_{3,2} = 1 , a_{3,3} = 1\\\\[1em]\\textbf{Variable Values:}\\\\x_{1} = 25000 , x_{2} = 25500 , x_{3} = 26000\\\\[1em]\\begin{cases}3 x_{1} + 3 x_{2} + 2 x_{3} = \\mathtt{\\text{203,500}}\\\\2 x_{1} + 2 x_{2} + 3 x_{3} = \\mathtt{\\text{179,000}}\\\\x_{1} + x_{2} + x_{3} = \\mathtt{\\text{76,500}}\\end{cases}$"
          },
          "metadata": {}
        },
        {
          "output_type": "stream",
          "name": "stdout",
          "text": [
            "\n",
            "Possibility #205\n",
            "The system of equations is:\n",
            "========================================\n"
          ]
        },
        {
          "output_type": "display_data",
          "data": {
            "text/plain": [
              "<IPython.core.display.Math object>"
            ],
            "text/latex": "$\\displaystyle \\textbf{Coefficient Values:}\\\\a_{1,1} = 3 , a_{1,2} = 3 , a_{1,3} = 3\\\\a_{2,1} = 1 , a_{2,2} = 1 , a_{2,3} = 2\\\\a_{3,1} = 2 , a_{3,2} = 2 , a_{3,3} = 1\\\\[1em]\\textbf{Variable Values:}\\\\x_{1} = 25000 , x_{2} = 25500 , x_{3} = 26000\\\\[1em]\\begin{cases}3 x_{1} + 3 x_{2} + 3 x_{3} = \\mathtt{\\text{229,500}}\\\\x_{1} + x_{2} + 2 x_{3} = \\mathtt{\\text{102,500}}\\\\2 x_{1} + 2 x_{2} + x_{3} = \\mathtt{\\text{127,000}}\\end{cases}$"
          },
          "metadata": {}
        },
        {
          "output_type": "stream",
          "name": "stdout",
          "text": [
            "\n",
            "Possibility #206\n",
            "The system of equations is:\n",
            "========================================\n"
          ]
        },
        {
          "output_type": "display_data",
          "data": {
            "text/plain": [
              "<IPython.core.display.Math object>"
            ],
            "text/latex": "$\\displaystyle \\textbf{Coefficient Values:}\\\\a_{1,1} = 3 , a_{1,2} = 3 , a_{1,3} = 3\\\\a_{2,1} = 1 , a_{2,2} = 2 , a_{2,3} = 1\\\\a_{3,1} = 2 , a_{3,2} = 1 , a_{3,3} = 2\\\\[1em]\\textbf{Variable Values:}\\\\x_{1} = 25000 , x_{2} = 25500 , x_{3} = 26000\\\\[1em]\\begin{cases}3 x_{1} + 3 x_{2} + 3 x_{3} = \\mathtt{\\text{229,500}}\\\\x_{1} + 2 x_{2} + x_{3} = \\mathtt{\\text{102,000}}\\\\2 x_{1} + x_{2} + 2 x_{3} = \\mathtt{\\text{127,500}}\\end{cases}$"
          },
          "metadata": {}
        },
        {
          "output_type": "stream",
          "name": "stdout",
          "text": [
            "\n",
            "Possibility #207\n",
            "The system of equations is:\n",
            "========================================\n"
          ]
        },
        {
          "output_type": "display_data",
          "data": {
            "text/plain": [
              "<IPython.core.display.Math object>"
            ],
            "text/latex": "$\\displaystyle \\textbf{Coefficient Values:}\\\\a_{1,1} = 3 , a_{1,2} = 3 , a_{1,3} = 3\\\\a_{2,1} = 1 , a_{2,2} = 2 , a_{2,3} = 2\\\\a_{3,1} = 2 , a_{3,2} = 1 , a_{3,3} = 1\\\\[1em]\\textbf{Variable Values:}\\\\x_{1} = 25000 , x_{2} = 25500 , x_{3} = 26000\\\\[1em]\\begin{cases}3 x_{1} + 3 x_{2} + 3 x_{3} = \\mathtt{\\text{229,500}}\\\\x_{1} + 2 x_{2} + 2 x_{3} = \\mathtt{\\text{128,000}}\\\\2 x_{1} + x_{2} + x_{3} = \\mathtt{\\text{101,500}}\\end{cases}$"
          },
          "metadata": {}
        },
        {
          "output_type": "stream",
          "name": "stdout",
          "text": [
            "\n",
            "Possibility #208\n",
            "The system of equations is:\n",
            "========================================\n"
          ]
        },
        {
          "output_type": "display_data",
          "data": {
            "text/plain": [
              "<IPython.core.display.Math object>"
            ],
            "text/latex": "$\\displaystyle \\textbf{Coefficient Values:}\\\\a_{1,1} = 3 , a_{1,2} = 3 , a_{1,3} = 3\\\\a_{2,1} = 2 , a_{2,2} = 1 , a_{2,3} = 1\\\\a_{3,1} = 1 , a_{3,2} = 2 , a_{3,3} = 2\\\\[1em]\\textbf{Variable Values:}\\\\x_{1} = 25000 , x_{2} = 25500 , x_{3} = 26000\\\\[1em]\\begin{cases}3 x_{1} + 3 x_{2} + 3 x_{3} = \\mathtt{\\text{229,500}}\\\\2 x_{1} + x_{2} + x_{3} = \\mathtt{\\text{101,500}}\\\\x_{1} + 2 x_{2} + 2 x_{3} = \\mathtt{\\text{128,000}}\\end{cases}$"
          },
          "metadata": {}
        },
        {
          "output_type": "stream",
          "name": "stdout",
          "text": [
            "\n",
            "Possibility #209\n",
            "The system of equations is:\n",
            "========================================\n"
          ]
        },
        {
          "output_type": "display_data",
          "data": {
            "text/plain": [
              "<IPython.core.display.Math object>"
            ],
            "text/latex": "$\\displaystyle \\textbf{Coefficient Values:}\\\\a_{1,1} = 3 , a_{1,2} = 3 , a_{1,3} = 3\\\\a_{2,1} = 2 , a_{2,2} = 1 , a_{2,3} = 2\\\\a_{3,1} = 1 , a_{3,2} = 2 , a_{3,3} = 1\\\\[1em]\\textbf{Variable Values:}\\\\x_{1} = 25000 , x_{2} = 25500 , x_{3} = 26000\\\\[1em]\\begin{cases}3 x_{1} + 3 x_{2} + 3 x_{3} = \\mathtt{\\text{229,500}}\\\\2 x_{1} + x_{2} + 2 x_{3} = \\mathtt{\\text{127,500}}\\\\x_{1} + 2 x_{2} + x_{3} = \\mathtt{\\text{102,000}}\\end{cases}$"
          },
          "metadata": {}
        },
        {
          "output_type": "stream",
          "name": "stdout",
          "text": [
            "\n",
            "Possibility #210\n",
            "The system of equations is:\n",
            "========================================\n"
          ]
        },
        {
          "output_type": "display_data",
          "data": {
            "text/plain": [
              "<IPython.core.display.Math object>"
            ],
            "text/latex": "$\\displaystyle \\textbf{Coefficient Values:}\\\\a_{1,1} = 3 , a_{1,2} = 3 , a_{1,3} = 3\\\\a_{2,1} = 2 , a_{2,2} = 2 , a_{2,3} = 1\\\\a_{3,1} = 1 , a_{3,2} = 1 , a_{3,3} = 2\\\\[1em]\\textbf{Variable Values:}\\\\x_{1} = 25000 , x_{2} = 25500 , x_{3} = 26000\\\\[1em]\\begin{cases}3 x_{1} + 3 x_{2} + 3 x_{3} = \\mathtt{\\text{229,500}}\\\\2 x_{1} + 2 x_{2} + x_{3} = \\mathtt{\\text{127,000}}\\\\x_{1} + x_{2} + 2 x_{3} = \\mathtt{\\text{102,500}}\\end{cases}$"
          },
          "metadata": {}
        }
      ]
    }
  ]
}