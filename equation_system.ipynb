{
  "cells": [
    {
      "cell_type": "code",
      "execution_count": 8,
      "metadata": {
        "id": "6L6_mvLJ_tyy"
      },
      "outputs": [],
      "source": [
        "# Jupyter version\n",
        "\n",
        "from itertools import product\n",
        "from fractions import Fraction\n",
        "from sympy import symbols, Eq, solve, latex\n",
        "from IPython.display import display, Math\n",
        "\n",
        "def is_multiple(row1, row2):\n",
        "    try:\n",
        "        ratios = [Fraction(r2, r1) for r1, r2 in zip(row1, row2) if r1 != 0]\n",
        "        return all(r == ratios[0] for r in ratios) and len(ratios) == len(row1)\n",
        "    except ZeroDivisionError:\n",
        "        return False\n",
        "\n",
        "def format_term_latex(coef, var):\n",
        "    if coef == 0:\n",
        "        return \"\"\n",
        "    sign = \"-\" if coef < 0 else \"\"\n",
        "    abs_coef = abs(coef)\n",
        "    if abs_coef == 1:\n",
        "        return f\"{sign}{var}\"\n",
        "    else:\n",
        "        return f\"{sign}{abs_coef}{var}\"\n",
        "\n",
        "def sle(coeff_matrix, var_values, max_possibilities=10000):\n",
        "    num_eqs = len(coeff_matrix)\n",
        "    num_vars = len(coeff_matrix[0])\n",
        "    var_symbols = symbols(f'x1:{num_vars+1}')\n",
        "    t = 0\n",
        "    printed_systems = set()\n",
        "\n",
        "    print(f\"System with {num_vars} variables and {num_eqs} equations:\\n\")\n",
        "\n",
        "    coeff_combinations = list(product(*[product(*row) for row in coeff_matrix]))\n",
        "\n",
        "    for coeff_tuple in coeff_combinations:\n",
        "        matrix = [list(coeff_tuple[i]) for i in range(len(coeff_tuple))]\n",
        "        if not all(len(row) == num_vars for row in matrix):\n",
        "            continue\n",
        "\n",
        "        if any(matrix[i] == matrix[j] for i in range(num_eqs) for j in range(i+1, num_eqs)):\n",
        "            continue\n",
        "\n",
        "        skip = False\n",
        "        for i in range(num_eqs):\n",
        "            for j in range(i+1, num_eqs):\n",
        "                if is_multiple(matrix[i], matrix[j]):\n",
        "                    skip = True\n",
        "                    break\n",
        "            if skip:\n",
        "                break\n",
        "        if skip:\n",
        "            continue\n",
        "\n",
        "        columns = list(zip(*matrix))\n",
        "        if any(len(set(col)) < len(col) for col in columns):\n",
        "            continue\n",
        "\n",
        "        for values in product(*var_values):\n",
        "            rhs = [sum(c * v for c, v in zip(row, values)) for row in matrix]\n",
        "            system_key = tuple((tuple(row), rhs[i]) for i, row in enumerate(matrix))\n",
        "            if system_key in printed_systems:\n",
        "                continue\n",
        "            printed_systems.add(system_key)\n",
        "\n",
        "            equations = [Eq(sum(row[j] * var_symbols[j] for j in range(num_vars)), rhs[i]) for i, row in enumerate(matrix)]\n",
        "            try:\n",
        "                solution = solve(equations, var_symbols, dict=True)\n",
        "                if not solution:\n",
        "                    continue\n",
        "                if len(solution) != 1:\n",
        "                    continue\n",
        "                solution_vals = tuple([solution[0][v] for v in var_symbols])\n",
        "                if solution_vals != values:\n",
        "                    continue\n",
        "            except:\n",
        "                continue\n",
        "\n",
        "            # LaTeX Display\n",
        "            t += 1\n",
        "            print(f\"\\nPossibility #{t}\")\n",
        "\n",
        "            # Coefficient values\n",
        "            coeff_latex = r\"\\textbf{Coefficient Values:}\\\\\"\n",
        "            for i, row in enumerate(matrix):\n",
        "                line = \",\\; \".join(f\"a_{{{i+1},{j+1}}} = {row[j]}\" for j in range(len(row)))\n",
        "                coeff_latex += line + r\"\\\\\"\n",
        "\n",
        "            # Variable values\n",
        "            var_line = r\"\\textbf{Variable Values:}\\\\\"\n",
        "            var_line += \",\\; \".join(f\"x_{{{j+1}}} = {values[j]}\" for j in range(len(values))) + r\"\\\\\"\n",
        "\n",
        "            # Equations in LaTeX\n",
        "            eq_lines = []\n",
        "            for i, row in enumerate(matrix):\n",
        "                terms = [format_term_latex(row[j], f\"x_{{{j+1}}}\") for j in range(num_vars)]\n",
        "                terms = [term for term in terms if term]\n",
        "                if not terms:\n",
        "                    eq_str = \"0\"\n",
        "                else:\n",
        "                    eq_str = terms[0]\n",
        "                    for term in terms[1:]:\n",
        "                        if term.startswith('-'):\n",
        "                            eq_str += f\" - {term[1:]}\"\n",
        "                        else:\n",
        "                            eq_str += f\" + {term}\"\n",
        "                eq_lines.append(f\"{eq_str} = {rhs[i]}\")\n",
        "            system_latex = r\"\\begin{cases} \" + r\"\\\\ \".join(eq_lines) + r\"\\end{cases}\"\n",
        "\n",
        "            # Full LaTeX block\n",
        "            full_display = coeff_latex + r\"[1em]\" + var_line + r\"[1em]\" + system_latex\n",
        "            display(Math(full_display))\n",
        "\n",
        "            if t >= max_possibilities:\n",
        "                print(\"\\nMaximum number of possibilities reached.\")\n",
        "                return\n"
      ]
    },
    {
      "cell_type": "code",
      "execution_count": 12,
      "metadata": {
        "colab": {
          "base_uri": "https://localhost:8080/",
          "height": 1000
        },
        "id": "aLV1J352_1-M",
        "outputId": "b7102a7a-84ed-433a-b469-76992b27a1ce"
      },
      "outputs": [
        {
          "output_type": "stream",
          "name": "stdout",
          "text": [
            "System with 3 variables and 3 equations:\n",
            "\n",
            "\n",
            "Possibility #1\n"
          ]
        },
        {
          "output_type": "display_data",
          "data": {
            "text/plain": [
              "<IPython.core.display.Math object>"
            ],
            "text/latex": "$\\displaystyle \\textbf{Coefficient Values:}\\\\a_{1,1} = 1,\\; a_{1,2} = 1,\\; a_{1,3} = 2\\\\a_{2,1} = 2,\\; a_{2,2} = 3,\\; a_{2,3} = 1\\\\a_{3,1} = 3,\\; a_{3,2} = 2,\\; a_{3,3} = 3\\\\[1em]\\textbf{Variable Values:}\\\\x_{1} = 25000,\\; x_{2} = 25500,\\; x_{3} = 26000\\\\[1em]\\begin{cases} x_{1} + x_{2} + 2x_{3} = 102500\\\\ 2x_{1} + 3x_{2} + x_{3} = 152500\\\\ 3x_{1} + 2x_{2} + 3x_{3} = 204000\\end{cases}$"
          },
          "metadata": {}
        },
        {
          "output_type": "stream",
          "name": "stdout",
          "text": [
            "\n",
            "Possibility #2\n"
          ]
        },
        {
          "output_type": "display_data",
          "data": {
            "text/plain": [
              "<IPython.core.display.Math object>"
            ],
            "text/latex": "$\\displaystyle \\textbf{Coefficient Values:}\\\\a_{1,1} = 1,\\; a_{1,2} = 1,\\; a_{1,3} = 2\\\\a_{2,1} = 2,\\; a_{2,2} = 3,\\; a_{2,3} = 1\\\\a_{3,1} = 3,\\; a_{3,2} = 2,\\; a_{3,3} = 3\\\\[1em]\\textbf{Variable Values:}\\\\x_{1} = 25000,\\; x_{2} = 25500,\\; x_{3} = 27000\\\\[1em]\\begin{cases} x_{1} + x_{2} + 2x_{3} = 104500\\\\ 2x_{1} + 3x_{2} + x_{3} = 153500\\\\ 3x_{1} + 2x_{2} + 3x_{3} = 207000\\end{cases}$"
          },
          "metadata": {}
        },
        {
          "output_type": "stream",
          "name": "stdout",
          "text": [
            "\n",
            "Possibility #3\n"
          ]
        },
        {
          "output_type": "display_data",
          "data": {
            "text/plain": [
              "<IPython.core.display.Math object>"
            ],
            "text/latex": "$\\displaystyle \\textbf{Coefficient Values:}\\\\a_{1,1} = 1,\\; a_{1,2} = 1,\\; a_{1,3} = 2\\\\a_{2,1} = 2,\\; a_{2,2} = 3,\\; a_{2,3} = 3\\\\a_{3,1} = 3,\\; a_{3,2} = 2,\\; a_{3,3} = 1\\\\[1em]\\textbf{Variable Values:}\\\\x_{1} = 25000,\\; x_{2} = 25500,\\; x_{3} = 26000\\\\[1em]\\begin{cases} x_{1} + x_{2} + 2x_{3} = 102500\\\\ 2x_{1} + 3x_{2} + 3x_{3} = 204500\\\\ 3x_{1} + 2x_{2} + x_{3} = 152000\\end{cases}$"
          },
          "metadata": {}
        },
        {
          "output_type": "stream",
          "name": "stdout",
          "text": [
            "\n",
            "Possibility #4\n"
          ]
        },
        {
          "output_type": "display_data",
          "data": {
            "text/plain": [
              "<IPython.core.display.Math object>"
            ],
            "text/latex": "$\\displaystyle \\textbf{Coefficient Values:}\\\\a_{1,1} = 1,\\; a_{1,2} = 1,\\; a_{1,3} = 2\\\\a_{2,1} = 2,\\; a_{2,2} = 3,\\; a_{2,3} = 3\\\\a_{3,1} = 3,\\; a_{3,2} = 2,\\; a_{3,3} = 1\\\\[1em]\\textbf{Variable Values:}\\\\x_{1} = 25000,\\; x_{2} = 25500,\\; x_{3} = 27000\\\\[1em]\\begin{cases} x_{1} + x_{2} + 2x_{3} = 104500\\\\ 2x_{1} + 3x_{2} + 3x_{3} = 207500\\\\ 3x_{1} + 2x_{2} + x_{3} = 153000\\end{cases}$"
          },
          "metadata": {}
        },
        {
          "output_type": "stream",
          "name": "stdout",
          "text": [
            "\n",
            "Possibility #5\n"
          ]
        },
        {
          "output_type": "display_data",
          "data": {
            "text/plain": [
              "<IPython.core.display.Math object>"
            ],
            "text/latex": "$\\displaystyle \\textbf{Coefficient Values:}\\\\a_{1,1} = 1,\\; a_{1,2} = 1,\\; a_{1,3} = 2\\\\a_{2,1} = 3,\\; a_{2,2} = 2,\\; a_{2,3} = 1\\\\a_{3,1} = 2,\\; a_{3,2} = 3,\\; a_{3,3} = 3\\\\[1em]\\textbf{Variable Values:}\\\\x_{1} = 25000,\\; x_{2} = 25500,\\; x_{3} = 26000\\\\[1em]\\begin{cases} x_{1} + x_{2} + 2x_{3} = 102500\\\\ 3x_{1} + 2x_{2} + x_{3} = 152000\\\\ 2x_{1} + 3x_{2} + 3x_{3} = 204500\\end{cases}$"
          },
          "metadata": {}
        },
        {
          "output_type": "stream",
          "name": "stdout",
          "text": [
            "\n",
            "Possibility #6\n"
          ]
        },
        {
          "output_type": "display_data",
          "data": {
            "text/plain": [
              "<IPython.core.display.Math object>"
            ],
            "text/latex": "$\\displaystyle \\textbf{Coefficient Values:}\\\\a_{1,1} = 1,\\; a_{1,2} = 1,\\; a_{1,3} = 2\\\\a_{2,1} = 3,\\; a_{2,2} = 2,\\; a_{2,3} = 1\\\\a_{3,1} = 2,\\; a_{3,2} = 3,\\; a_{3,3} = 3\\\\[1em]\\textbf{Variable Values:}\\\\x_{1} = 25000,\\; x_{2} = 25500,\\; x_{3} = 27000\\\\[1em]\\begin{cases} x_{1} + x_{2} + 2x_{3} = 104500\\\\ 3x_{1} + 2x_{2} + x_{3} = 153000\\\\ 2x_{1} + 3x_{2} + 3x_{3} = 207500\\end{cases}$"
          },
          "metadata": {}
        },
        {
          "output_type": "stream",
          "name": "stdout",
          "text": [
            "\n",
            "Possibility #7\n"
          ]
        },
        {
          "output_type": "display_data",
          "data": {
            "text/plain": [
              "<IPython.core.display.Math object>"
            ],
            "text/latex": "$\\displaystyle \\textbf{Coefficient Values:}\\\\a_{1,1} = 1,\\; a_{1,2} = 1,\\; a_{1,3} = 2\\\\a_{2,1} = 3,\\; a_{2,2} = 2,\\; a_{2,3} = 3\\\\a_{3,1} = 2,\\; a_{3,2} = 3,\\; a_{3,3} = 1\\\\[1em]\\textbf{Variable Values:}\\\\x_{1} = 25000,\\; x_{2} = 25500,\\; x_{3} = 26000\\\\[1em]\\begin{cases} x_{1} + x_{2} + 2x_{3} = 102500\\\\ 3x_{1} + 2x_{2} + 3x_{3} = 204000\\\\ 2x_{1} + 3x_{2} + x_{3} = 152500\\end{cases}$"
          },
          "metadata": {}
        },
        {
          "output_type": "stream",
          "name": "stdout",
          "text": [
            "\n",
            "Possibility #8\n"
          ]
        },
        {
          "output_type": "display_data",
          "data": {
            "text/plain": [
              "<IPython.core.display.Math object>"
            ],
            "text/latex": "$\\displaystyle \\textbf{Coefficient Values:}\\\\a_{1,1} = 1,\\; a_{1,2} = 1,\\; a_{1,3} = 2\\\\a_{2,1} = 3,\\; a_{2,2} = 2,\\; a_{2,3} = 3\\\\a_{3,1} = 2,\\; a_{3,2} = 3,\\; a_{3,3} = 1\\\\[1em]\\textbf{Variable Values:}\\\\x_{1} = 25000,\\; x_{2} = 25500,\\; x_{3} = 27000\\\\[1em]\\begin{cases} x_{1} + x_{2} + 2x_{3} = 104500\\\\ 3x_{1} + 2x_{2} + 3x_{3} = 207000\\\\ 2x_{1} + 3x_{2} + x_{3} = 153500\\end{cases}$"
          },
          "metadata": {}
        },
        {
          "output_type": "stream",
          "name": "stdout",
          "text": [
            "\n",
            "Possibility #9\n"
          ]
        },
        {
          "output_type": "display_data",
          "data": {
            "text/plain": [
              "<IPython.core.display.Math object>"
            ],
            "text/latex": "$\\displaystyle \\textbf{Coefficient Values:}\\\\a_{1,1} = 1,\\; a_{1,2} = 1,\\; a_{1,3} = 3\\\\a_{2,1} = 2,\\; a_{2,2} = 3,\\; a_{2,3} = 1\\\\a_{3,1} = 3,\\; a_{3,2} = 2,\\; a_{3,3} = 2\\\\[1em]\\textbf{Variable Values:}\\\\x_{1} = 25000,\\; x_{2} = 25500,\\; x_{3} = 26000\\\\[1em]\\begin{cases} x_{1} + x_{2} + 3x_{3} = 128500\\\\ 2x_{1} + 3x_{2} + x_{3} = 152500\\\\ 3x_{1} + 2x_{2} + 2x_{3} = 178000\\end{cases}$"
          },
          "metadata": {}
        },
        {
          "output_type": "stream",
          "name": "stdout",
          "text": [
            "\n",
            "Possibility #10\n"
          ]
        },
        {
          "output_type": "display_data",
          "data": {
            "text/plain": [
              "<IPython.core.display.Math object>"
            ],
            "text/latex": "$\\displaystyle \\textbf{Coefficient Values:}\\\\a_{1,1} = 1,\\; a_{1,2} = 1,\\; a_{1,3} = 3\\\\a_{2,1} = 2,\\; a_{2,2} = 3,\\; a_{2,3} = 1\\\\a_{3,1} = 3,\\; a_{3,2} = 2,\\; a_{3,3} = 2\\\\[1em]\\textbf{Variable Values:}\\\\x_{1} = 25000,\\; x_{2} = 25500,\\; x_{3} = 27000\\\\[1em]\\begin{cases} x_{1} + x_{2} + 3x_{3} = 131500\\\\ 2x_{1} + 3x_{2} + x_{3} = 153500\\\\ 3x_{1} + 2x_{2} + 2x_{3} = 180000\\end{cases}$"
          },
          "metadata": {}
        },
        {
          "output_type": "stream",
          "name": "stdout",
          "text": [
            "\n",
            "Possibility #11\n"
          ]
        },
        {
          "output_type": "display_data",
          "data": {
            "text/plain": [
              "<IPython.core.display.Math object>"
            ],
            "text/latex": "$\\displaystyle \\textbf{Coefficient Values:}\\\\a_{1,1} = 1,\\; a_{1,2} = 1,\\; a_{1,3} = 3\\\\a_{2,1} = 2,\\; a_{2,2} = 3,\\; a_{2,3} = 2\\\\a_{3,1} = 3,\\; a_{3,2} = 2,\\; a_{3,3} = 1\\\\[1em]\\textbf{Variable Values:}\\\\x_{1} = 25000,\\; x_{2} = 25500,\\; x_{3} = 26000\\\\[1em]\\begin{cases} x_{1} + x_{2} + 3x_{3} = 128500\\\\ 2x_{1} + 3x_{2} + 2x_{3} = 178500\\\\ 3x_{1} + 2x_{2} + x_{3} = 152000\\end{cases}$"
          },
          "metadata": {}
        },
        {
          "output_type": "stream",
          "name": "stdout",
          "text": [
            "\n",
            "Possibility #12\n"
          ]
        },
        {
          "output_type": "display_data",
          "data": {
            "text/plain": [
              "<IPython.core.display.Math object>"
            ],
            "text/latex": "$\\displaystyle \\textbf{Coefficient Values:}\\\\a_{1,1} = 1,\\; a_{1,2} = 1,\\; a_{1,3} = 3\\\\a_{2,1} = 2,\\; a_{2,2} = 3,\\; a_{2,3} = 2\\\\a_{3,1} = 3,\\; a_{3,2} = 2,\\; a_{3,3} = 1\\\\[1em]\\textbf{Variable Values:}\\\\x_{1} = 25000,\\; x_{2} = 25500,\\; x_{3} = 27000\\\\[1em]\\begin{cases} x_{1} + x_{2} + 3x_{3} = 131500\\\\ 2x_{1} + 3x_{2} + 2x_{3} = 180500\\\\ 3x_{1} + 2x_{2} + x_{3} = 153000\\end{cases}$"
          },
          "metadata": {}
        },
        {
          "output_type": "stream",
          "name": "stdout",
          "text": [
            "\n",
            "Possibility #13\n"
          ]
        },
        {
          "output_type": "display_data",
          "data": {
            "text/plain": [
              "<IPython.core.display.Math object>"
            ],
            "text/latex": "$\\displaystyle \\textbf{Coefficient Values:}\\\\a_{1,1} = 1,\\; a_{1,2} = 1,\\; a_{1,3} = 3\\\\a_{2,1} = 3,\\; a_{2,2} = 2,\\; a_{2,3} = 1\\\\a_{3,1} = 2,\\; a_{3,2} = 3,\\; a_{3,3} = 2\\\\[1em]\\textbf{Variable Values:}\\\\x_{1} = 25000,\\; x_{2} = 25500,\\; x_{3} = 26000\\\\[1em]\\begin{cases} x_{1} + x_{2} + 3x_{3} = 128500\\\\ 3x_{1} + 2x_{2} + x_{3} = 152000\\\\ 2x_{1} + 3x_{2} + 2x_{3} = 178500\\end{cases}$"
          },
          "metadata": {}
        },
        {
          "output_type": "stream",
          "name": "stdout",
          "text": [
            "\n",
            "Possibility #14\n"
          ]
        },
        {
          "output_type": "display_data",
          "data": {
            "text/plain": [
              "<IPython.core.display.Math object>"
            ],
            "text/latex": "$\\displaystyle \\textbf{Coefficient Values:}\\\\a_{1,1} = 1,\\; a_{1,2} = 1,\\; a_{1,3} = 3\\\\a_{2,1} = 3,\\; a_{2,2} = 2,\\; a_{2,3} = 1\\\\a_{3,1} = 2,\\; a_{3,2} = 3,\\; a_{3,3} = 2\\\\[1em]\\textbf{Variable Values:}\\\\x_{1} = 25000,\\; x_{2} = 25500,\\; x_{3} = 27000\\\\[1em]\\begin{cases} x_{1} + x_{2} + 3x_{3} = 131500\\\\ 3x_{1} + 2x_{2} + x_{3} = 153000\\\\ 2x_{1} + 3x_{2} + 2x_{3} = 180500\\end{cases}$"
          },
          "metadata": {}
        },
        {
          "output_type": "stream",
          "name": "stdout",
          "text": [
            "\n",
            "Possibility #15\n"
          ]
        },
        {
          "output_type": "display_data",
          "data": {
            "text/plain": [
              "<IPython.core.display.Math object>"
            ],
            "text/latex": "$\\displaystyle \\textbf{Coefficient Values:}\\\\a_{1,1} = 1,\\; a_{1,2} = 1,\\; a_{1,3} = 3\\\\a_{2,1} = 3,\\; a_{2,2} = 2,\\; a_{2,3} = 2\\\\a_{3,1} = 2,\\; a_{3,2} = 3,\\; a_{3,3} = 1\\\\[1em]\\textbf{Variable Values:}\\\\x_{1} = 25000,\\; x_{2} = 25500,\\; x_{3} = 26000\\\\[1em]\\begin{cases} x_{1} + x_{2} + 3x_{3} = 128500\\\\ 3x_{1} + 2x_{2} + 2x_{3} = 178000\\\\ 2x_{1} + 3x_{2} + x_{3} = 152500\\end{cases}$"
          },
          "metadata": {}
        },
        {
          "output_type": "stream",
          "name": "stdout",
          "text": [
            "\n",
            "Possibility #16\n"
          ]
        },
        {
          "output_type": "display_data",
          "data": {
            "text/plain": [
              "<IPython.core.display.Math object>"
            ],
            "text/latex": "$\\displaystyle \\textbf{Coefficient Values:}\\\\a_{1,1} = 1,\\; a_{1,2} = 1,\\; a_{1,3} = 3\\\\a_{2,1} = 3,\\; a_{2,2} = 2,\\; a_{2,3} = 2\\\\a_{3,1} = 2,\\; a_{3,2} = 3,\\; a_{3,3} = 1\\\\[1em]\\textbf{Variable Values:}\\\\x_{1} = 25000,\\; x_{2} = 25500,\\; x_{3} = 27000\\\\[1em]\\begin{cases} x_{1} + x_{2} + 3x_{3} = 131500\\\\ 3x_{1} + 2x_{2} + 2x_{3} = 180000\\\\ 2x_{1} + 3x_{2} + x_{3} = 153500\\end{cases}$"
          },
          "metadata": {}
        },
        {
          "output_type": "stream",
          "name": "stdout",
          "text": [
            "\n",
            "Possibility #17\n"
          ]
        },
        {
          "output_type": "display_data",
          "data": {
            "text/plain": [
              "<IPython.core.display.Math object>"
            ],
            "text/latex": "$\\displaystyle \\textbf{Coefficient Values:}\\\\a_{1,1} = 1,\\; a_{1,2} = 2,\\; a_{1,3} = 1\\\\a_{2,1} = 2,\\; a_{2,2} = 1,\\; a_{2,3} = 3\\\\a_{3,1} = 3,\\; a_{3,2} = 3,\\; a_{3,3} = 2\\\\[1em]\\textbf{Variable Values:}\\\\x_{1} = 25000,\\; x_{2} = 25500,\\; x_{3} = 26000\\\\[1em]\\begin{cases} x_{1} + 2x_{2} + x_{3} = 102000\\\\ 2x_{1} + x_{2} + 3x_{3} = 153500\\\\ 3x_{1} + 3x_{2} + 2x_{3} = 203500\\end{cases}$"
          },
          "metadata": {}
        },
        {
          "output_type": "stream",
          "name": "stdout",
          "text": [
            "\n",
            "Possibility #18\n"
          ]
        },
        {
          "output_type": "display_data",
          "data": {
            "text/plain": [
              "<IPython.core.display.Math object>"
            ],
            "text/latex": "$\\displaystyle \\textbf{Coefficient Values:}\\\\a_{1,1} = 1,\\; a_{1,2} = 2,\\; a_{1,3} = 1\\\\a_{2,1} = 2,\\; a_{2,2} = 1,\\; a_{2,3} = 3\\\\a_{3,1} = 3,\\; a_{3,2} = 3,\\; a_{3,3} = 2\\\\[1em]\\textbf{Variable Values:}\\\\x_{1} = 25000,\\; x_{2} = 25500,\\; x_{3} = 27000\\\\[1em]\\begin{cases} x_{1} + 2x_{2} + x_{3} = 103000\\\\ 2x_{1} + x_{2} + 3x_{3} = 156500\\\\ 3x_{1} + 3x_{2} + 2x_{3} = 205500\\end{cases}$"
          },
          "metadata": {}
        },
        {
          "output_type": "stream",
          "name": "stdout",
          "text": [
            "\n",
            "Possibility #19\n"
          ]
        },
        {
          "output_type": "display_data",
          "data": {
            "text/plain": [
              "<IPython.core.display.Math object>"
            ],
            "text/latex": "$\\displaystyle \\textbf{Coefficient Values:}\\\\a_{1,1} = 1,\\; a_{1,2} = 2,\\; a_{1,3} = 1\\\\a_{2,1} = 2,\\; a_{2,2} = 3,\\; a_{2,3} = 3\\\\a_{3,1} = 3,\\; a_{3,2} = 1,\\; a_{3,3} = 2\\\\[1em]\\textbf{Variable Values:}\\\\x_{1} = 25000,\\; x_{2} = 25500,\\; x_{3} = 26000\\\\[1em]\\begin{cases} x_{1} + 2x_{2} + x_{3} = 102000\\\\ 2x_{1} + 3x_{2} + 3x_{3} = 204500\\\\ 3x_{1} + x_{2} + 2x_{3} = 152500\\end{cases}$"
          },
          "metadata": {}
        },
        {
          "output_type": "stream",
          "name": "stdout",
          "text": [
            "\n",
            "Possibility #20\n"
          ]
        },
        {
          "output_type": "display_data",
          "data": {
            "text/plain": [
              "<IPython.core.display.Math object>"
            ],
            "text/latex": "$\\displaystyle \\textbf{Coefficient Values:}\\\\a_{1,1} = 1,\\; a_{1,2} = 2,\\; a_{1,3} = 1\\\\a_{2,1} = 2,\\; a_{2,2} = 3,\\; a_{2,3} = 3\\\\a_{3,1} = 3,\\; a_{3,2} = 1,\\; a_{3,3} = 2\\\\[1em]\\textbf{Variable Values:}\\\\x_{1} = 25000,\\; x_{2} = 25500,\\; x_{3} = 27000\\\\[1em]\\begin{cases} x_{1} + 2x_{2} + x_{3} = 103000\\\\ 2x_{1} + 3x_{2} + 3x_{3} = 207500\\\\ 3x_{1} + x_{2} + 2x_{3} = 154500\\end{cases}$"
          },
          "metadata": {}
        },
        {
          "output_type": "stream",
          "name": "stdout",
          "text": [
            "\n",
            "Possibility #21\n"
          ]
        },
        {
          "output_type": "display_data",
          "data": {
            "text/plain": [
              "<IPython.core.display.Math object>"
            ],
            "text/latex": "$\\displaystyle \\textbf{Coefficient Values:}\\\\a_{1,1} = 1,\\; a_{1,2} = 2,\\; a_{1,3} = 1\\\\a_{2,1} = 3,\\; a_{2,2} = 1,\\; a_{2,3} = 2\\\\a_{3,1} = 2,\\; a_{3,2} = 3,\\; a_{3,3} = 3\\\\[1em]\\textbf{Variable Values:}\\\\x_{1} = 25000,\\; x_{2} = 25500,\\; x_{3} = 26000\\\\[1em]\\begin{cases} x_{1} + 2x_{2} + x_{3} = 102000\\\\ 3x_{1} + x_{2} + 2x_{3} = 152500\\\\ 2x_{1} + 3x_{2} + 3x_{3} = 204500\\end{cases}$"
          },
          "metadata": {}
        },
        {
          "output_type": "stream",
          "name": "stdout",
          "text": [
            "\n",
            "Possibility #22\n"
          ]
        },
        {
          "output_type": "display_data",
          "data": {
            "text/plain": [
              "<IPython.core.display.Math object>"
            ],
            "text/latex": "$\\displaystyle \\textbf{Coefficient Values:}\\\\a_{1,1} = 1,\\; a_{1,2} = 2,\\; a_{1,3} = 1\\\\a_{2,1} = 3,\\; a_{2,2} = 1,\\; a_{2,3} = 2\\\\a_{3,1} = 2,\\; a_{3,2} = 3,\\; a_{3,3} = 3\\\\[1em]\\textbf{Variable Values:}\\\\x_{1} = 25000,\\; x_{2} = 25500,\\; x_{3} = 27000\\\\[1em]\\begin{cases} x_{1} + 2x_{2} + x_{3} = 103000\\\\ 3x_{1} + x_{2} + 2x_{3} = 154500\\\\ 2x_{1} + 3x_{2} + 3x_{3} = 207500\\end{cases}$"
          },
          "metadata": {}
        },
        {
          "output_type": "stream",
          "name": "stdout",
          "text": [
            "\n",
            "Possibility #23\n"
          ]
        },
        {
          "output_type": "display_data",
          "data": {
            "text/plain": [
              "<IPython.core.display.Math object>"
            ],
            "text/latex": "$\\displaystyle \\textbf{Coefficient Values:}\\\\a_{1,1} = 1,\\; a_{1,2} = 2,\\; a_{1,3} = 1\\\\a_{2,1} = 3,\\; a_{2,2} = 3,\\; a_{2,3} = 2\\\\a_{3,1} = 2,\\; a_{3,2} = 1,\\; a_{3,3} = 3\\\\[1em]\\textbf{Variable Values:}\\\\x_{1} = 25000,\\; x_{2} = 25500,\\; x_{3} = 26000\\\\[1em]\\begin{cases} x_{1} + 2x_{2} + x_{3} = 102000\\\\ 3x_{1} + 3x_{2} + 2x_{3} = 203500\\\\ 2x_{1} + x_{2} + 3x_{3} = 153500\\end{cases}$"
          },
          "metadata": {}
        },
        {
          "output_type": "stream",
          "name": "stdout",
          "text": [
            "\n",
            "Possibility #24\n"
          ]
        },
        {
          "output_type": "display_data",
          "data": {
            "text/plain": [
              "<IPython.core.display.Math object>"
            ],
            "text/latex": "$\\displaystyle \\textbf{Coefficient Values:}\\\\a_{1,1} = 1,\\; a_{1,2} = 2,\\; a_{1,3} = 1\\\\a_{2,1} = 3,\\; a_{2,2} = 3,\\; a_{2,3} = 2\\\\a_{3,1} = 2,\\; a_{3,2} = 1,\\; a_{3,3} = 3\\\\[1em]\\textbf{Variable Values:}\\\\x_{1} = 25000,\\; x_{2} = 25500,\\; x_{3} = 27000\\\\[1em]\\begin{cases} x_{1} + 2x_{2} + x_{3} = 103000\\\\ 3x_{1} + 3x_{2} + 2x_{3} = 205500\\\\ 2x_{1} + x_{2} + 3x_{3} = 156500\\end{cases}$"
          },
          "metadata": {}
        },
        {
          "output_type": "stream",
          "name": "stdout",
          "text": [
            "\n",
            "Possibility #25\n"
          ]
        },
        {
          "output_type": "display_data",
          "data": {
            "text/plain": [
              "<IPython.core.display.Math object>"
            ],
            "text/latex": "$\\displaystyle \\textbf{Coefficient Values:}\\\\a_{1,1} = 1,\\; a_{1,2} = 2,\\; a_{1,3} = 2\\\\a_{2,1} = 2,\\; a_{2,2} = 1,\\; a_{2,3} = 3\\\\a_{3,1} = 3,\\; a_{3,2} = 3,\\; a_{3,3} = 1\\\\[1em]\\textbf{Variable Values:}\\\\x_{1} = 25000,\\; x_{2} = 25500,\\; x_{3} = 26000\\\\[1em]\\begin{cases} x_{1} + 2x_{2} + 2x_{3} = 128000\\\\ 2x_{1} + x_{2} + 3x_{3} = 153500\\\\ 3x_{1} + 3x_{2} + x_{3} = 177500\\end{cases}$"
          },
          "metadata": {}
        },
        {
          "output_type": "stream",
          "name": "stdout",
          "text": [
            "\n",
            "Possibility #26\n"
          ]
        },
        {
          "output_type": "display_data",
          "data": {
            "text/plain": [
              "<IPython.core.display.Math object>"
            ],
            "text/latex": "$\\displaystyle \\textbf{Coefficient Values:}\\\\a_{1,1} = 1,\\; a_{1,2} = 2,\\; a_{1,3} = 2\\\\a_{2,1} = 2,\\; a_{2,2} = 1,\\; a_{2,3} = 3\\\\a_{3,1} = 3,\\; a_{3,2} = 3,\\; a_{3,3} = 1\\\\[1em]\\textbf{Variable Values:}\\\\x_{1} = 25000,\\; x_{2} = 25500,\\; x_{3} = 27000\\\\[1em]\\begin{cases} x_{1} + 2x_{2} + 2x_{3} = 130000\\\\ 2x_{1} + x_{2} + 3x_{3} = 156500\\\\ 3x_{1} + 3x_{2} + x_{3} = 178500\\end{cases}$"
          },
          "metadata": {}
        },
        {
          "output_type": "stream",
          "name": "stdout",
          "text": [
            "\n",
            "Possibility #27\n"
          ]
        },
        {
          "output_type": "display_data",
          "data": {
            "text/plain": [
              "<IPython.core.display.Math object>"
            ],
            "text/latex": "$\\displaystyle \\textbf{Coefficient Values:}\\\\a_{1,1} = 1,\\; a_{1,2} = 2,\\; a_{1,3} = 2\\\\a_{2,1} = 2,\\; a_{2,2} = 3,\\; a_{2,3} = 1\\\\a_{3,1} = 3,\\; a_{3,2} = 1,\\; a_{3,3} = 3\\\\[1em]\\textbf{Variable Values:}\\\\x_{1} = 25000,\\; x_{2} = 25500,\\; x_{3} = 26000\\\\[1em]\\begin{cases} x_{1} + 2x_{2} + 2x_{3} = 128000\\\\ 2x_{1} + 3x_{2} + x_{3} = 152500\\\\ 3x_{1} + x_{2} + 3x_{3} = 178500\\end{cases}$"
          },
          "metadata": {}
        },
        {
          "output_type": "stream",
          "name": "stdout",
          "text": [
            "\n",
            "Possibility #28\n"
          ]
        },
        {
          "output_type": "display_data",
          "data": {
            "text/plain": [
              "<IPython.core.display.Math object>"
            ],
            "text/latex": "$\\displaystyle \\textbf{Coefficient Values:}\\\\a_{1,1} = 1,\\; a_{1,2} = 2,\\; a_{1,3} = 2\\\\a_{2,1} = 2,\\; a_{2,2} = 3,\\; a_{2,3} = 1\\\\a_{3,1} = 3,\\; a_{3,2} = 1,\\; a_{3,3} = 3\\\\[1em]\\textbf{Variable Values:}\\\\x_{1} = 25000,\\; x_{2} = 25500,\\; x_{3} = 27000\\\\[1em]\\begin{cases} x_{1} + 2x_{2} + 2x_{3} = 130000\\\\ 2x_{1} + 3x_{2} + x_{3} = 153500\\\\ 3x_{1} + x_{2} + 3x_{3} = 181500\\end{cases}$"
          },
          "metadata": {}
        },
        {
          "output_type": "stream",
          "name": "stdout",
          "text": [
            "\n",
            "Possibility #29\n"
          ]
        },
        {
          "output_type": "display_data",
          "data": {
            "text/plain": [
              "<IPython.core.display.Math object>"
            ],
            "text/latex": "$\\displaystyle \\textbf{Coefficient Values:}\\\\a_{1,1} = 1,\\; a_{1,2} = 2,\\; a_{1,3} = 2\\\\a_{2,1} = 3,\\; a_{2,2} = 1,\\; a_{2,3} = 3\\\\a_{3,1} = 2,\\; a_{3,2} = 3,\\; a_{3,3} = 1\\\\[1em]\\textbf{Variable Values:}\\\\x_{1} = 25000,\\; x_{2} = 25500,\\; x_{3} = 26000\\\\[1em]\\begin{cases} x_{1} + 2x_{2} + 2x_{3} = 128000\\\\ 3x_{1} + x_{2} + 3x_{3} = 178500\\\\ 2x_{1} + 3x_{2} + x_{3} = 152500\\end{cases}$"
          },
          "metadata": {}
        },
        {
          "output_type": "stream",
          "name": "stdout",
          "text": [
            "\n",
            "Possibility #30\n"
          ]
        },
        {
          "output_type": "display_data",
          "data": {
            "text/plain": [
              "<IPython.core.display.Math object>"
            ],
            "text/latex": "$\\displaystyle \\textbf{Coefficient Values:}\\\\a_{1,1} = 1,\\; a_{1,2} = 2,\\; a_{1,3} = 2\\\\a_{2,1} = 3,\\; a_{2,2} = 1,\\; a_{2,3} = 3\\\\a_{3,1} = 2,\\; a_{3,2} = 3,\\; a_{3,3} = 1\\\\[1em]\\textbf{Variable Values:}\\\\x_{1} = 25000,\\; x_{2} = 25500,\\; x_{3} = 27000\\\\[1em]\\begin{cases} x_{1} + 2x_{2} + 2x_{3} = 130000\\\\ 3x_{1} + x_{2} + 3x_{3} = 181500\\\\ 2x_{1} + 3x_{2} + x_{3} = 153500\\end{cases}$"
          },
          "metadata": {}
        },
        {
          "output_type": "stream",
          "name": "stdout",
          "text": [
            "\n",
            "Possibility #31\n"
          ]
        },
        {
          "output_type": "display_data",
          "data": {
            "text/plain": [
              "<IPython.core.display.Math object>"
            ],
            "text/latex": "$\\displaystyle \\textbf{Coefficient Values:}\\\\a_{1,1} = 1,\\; a_{1,2} = 2,\\; a_{1,3} = 2\\\\a_{2,1} = 3,\\; a_{2,2} = 3,\\; a_{2,3} = 1\\\\a_{3,1} = 2,\\; a_{3,2} = 1,\\; a_{3,3} = 3\\\\[1em]\\textbf{Variable Values:}\\\\x_{1} = 25000,\\; x_{2} = 25500,\\; x_{3} = 26000\\\\[1em]\\begin{cases} x_{1} + 2x_{2} + 2x_{3} = 128000\\\\ 3x_{1} + 3x_{2} + x_{3} = 177500\\\\ 2x_{1} + x_{2} + 3x_{3} = 153500\\end{cases}$"
          },
          "metadata": {}
        },
        {
          "output_type": "stream",
          "name": "stdout",
          "text": [
            "\n",
            "Possibility #32\n"
          ]
        },
        {
          "output_type": "display_data",
          "data": {
            "text/plain": [
              "<IPython.core.display.Math object>"
            ],
            "text/latex": "$\\displaystyle \\textbf{Coefficient Values:}\\\\a_{1,1} = 1,\\; a_{1,2} = 2,\\; a_{1,3} = 2\\\\a_{2,1} = 3,\\; a_{2,2} = 3,\\; a_{2,3} = 1\\\\a_{3,1} = 2,\\; a_{3,2} = 1,\\; a_{3,3} = 3\\\\[1em]\\textbf{Variable Values:}\\\\x_{1} = 25000,\\; x_{2} = 25500,\\; x_{3} = 27000\\\\[1em]\\begin{cases} x_{1} + 2x_{2} + 2x_{3} = 130000\\\\ 3x_{1} + 3x_{2} + x_{3} = 178500\\\\ 2x_{1} + x_{2} + 3x_{3} = 156500\\end{cases}$"
          },
          "metadata": {}
        },
        {
          "output_type": "stream",
          "name": "stdout",
          "text": [
            "\n",
            "Possibility #33\n"
          ]
        },
        {
          "output_type": "display_data",
          "data": {
            "text/plain": [
              "<IPython.core.display.Math object>"
            ],
            "text/latex": "$\\displaystyle \\textbf{Coefficient Values:}\\\\a_{1,1} = 1,\\; a_{1,2} = 2,\\; a_{1,3} = 3\\\\a_{2,1} = 2,\\; a_{2,2} = 1,\\; a_{2,3} = 1\\\\a_{3,1} = 3,\\; a_{3,2} = 3,\\; a_{3,3} = 2\\\\[1em]\\textbf{Variable Values:}\\\\x_{1} = 25000,\\; x_{2} = 25500,\\; x_{3} = 26000\\\\[1em]\\begin{cases} x_{1} + 2x_{2} + 3x_{3} = 154000\\\\ 2x_{1} + x_{2} + x_{3} = 101500\\\\ 3x_{1} + 3x_{2} + 2x_{3} = 203500\\end{cases}$"
          },
          "metadata": {}
        },
        {
          "output_type": "stream",
          "name": "stdout",
          "text": [
            "\n",
            "Possibility #34\n"
          ]
        },
        {
          "output_type": "display_data",
          "data": {
            "text/plain": [
              "<IPython.core.display.Math object>"
            ],
            "text/latex": "$\\displaystyle \\textbf{Coefficient Values:}\\\\a_{1,1} = 1,\\; a_{1,2} = 2,\\; a_{1,3} = 3\\\\a_{2,1} = 2,\\; a_{2,2} = 1,\\; a_{2,3} = 1\\\\a_{3,1} = 3,\\; a_{3,2} = 3,\\; a_{3,3} = 2\\\\[1em]\\textbf{Variable Values:}\\\\x_{1} = 25000,\\; x_{2} = 25500,\\; x_{3} = 27000\\\\[1em]\\begin{cases} x_{1} + 2x_{2} + 3x_{3} = 157000\\\\ 2x_{1} + x_{2} + x_{3} = 102500\\\\ 3x_{1} + 3x_{2} + 2x_{3} = 205500\\end{cases}$"
          },
          "metadata": {}
        },
        {
          "output_type": "stream",
          "name": "stdout",
          "text": [
            "\n",
            "Possibility #35\n"
          ]
        },
        {
          "output_type": "display_data",
          "data": {
            "text/plain": [
              "<IPython.core.display.Math object>"
            ],
            "text/latex": "$\\displaystyle \\textbf{Coefficient Values:}\\\\a_{1,1} = 1,\\; a_{1,2} = 2,\\; a_{1,3} = 3\\\\a_{2,1} = 2,\\; a_{2,2} = 1,\\; a_{2,3} = 2\\\\a_{3,1} = 3,\\; a_{3,2} = 3,\\; a_{3,3} = 1\\\\[1em]\\textbf{Variable Values:}\\\\x_{1} = 25000,\\; x_{2} = 25500,\\; x_{3} = 26000\\\\[1em]\\begin{cases} x_{1} + 2x_{2} + 3x_{3} = 154000\\\\ 2x_{1} + x_{2} + 2x_{3} = 127500\\\\ 3x_{1} + 3x_{2} + x_{3} = 177500\\end{cases}$"
          },
          "metadata": {}
        },
        {
          "output_type": "stream",
          "name": "stdout",
          "text": [
            "\n",
            "Possibility #36\n"
          ]
        },
        {
          "output_type": "display_data",
          "data": {
            "text/plain": [
              "<IPython.core.display.Math object>"
            ],
            "text/latex": "$\\displaystyle \\textbf{Coefficient Values:}\\\\a_{1,1} = 1,\\; a_{1,2} = 2,\\; a_{1,3} = 3\\\\a_{2,1} = 2,\\; a_{2,2} = 1,\\; a_{2,3} = 2\\\\a_{3,1} = 3,\\; a_{3,2} = 3,\\; a_{3,3} = 1\\\\[1em]\\textbf{Variable Values:}\\\\x_{1} = 25000,\\; x_{2} = 25500,\\; x_{3} = 27000\\\\[1em]\\begin{cases} x_{1} + 2x_{2} + 3x_{3} = 157000\\\\ 2x_{1} + x_{2} + 2x_{3} = 129500\\\\ 3x_{1} + 3x_{2} + x_{3} = 178500\\end{cases}$"
          },
          "metadata": {}
        },
        {
          "output_type": "stream",
          "name": "stdout",
          "text": [
            "\n",
            "Possibility #37\n"
          ]
        },
        {
          "output_type": "display_data",
          "data": {
            "text/plain": [
              "<IPython.core.display.Math object>"
            ],
            "text/latex": "$\\displaystyle \\textbf{Coefficient Values:}\\\\a_{1,1} = 1,\\; a_{1,2} = 2,\\; a_{1,3} = 3\\\\a_{2,1} = 2,\\; a_{2,2} = 3,\\; a_{2,3} = 1\\\\a_{3,1} = 3,\\; a_{3,2} = 1,\\; a_{3,3} = 2\\\\[1em]\\textbf{Variable Values:}\\\\x_{1} = 25000,\\; x_{2} = 25500,\\; x_{3} = 26000\\\\[1em]\\begin{cases} x_{1} + 2x_{2} + 3x_{3} = 154000\\\\ 2x_{1} + 3x_{2} + x_{3} = 152500\\\\ 3x_{1} + x_{2} + 2x_{3} = 152500\\end{cases}$"
          },
          "metadata": {}
        },
        {
          "output_type": "stream",
          "name": "stdout",
          "text": [
            "\n",
            "Possibility #38\n"
          ]
        },
        {
          "output_type": "display_data",
          "data": {
            "text/plain": [
              "<IPython.core.display.Math object>"
            ],
            "text/latex": "$\\displaystyle \\textbf{Coefficient Values:}\\\\a_{1,1} = 1,\\; a_{1,2} = 2,\\; a_{1,3} = 3\\\\a_{2,1} = 2,\\; a_{2,2} = 3,\\; a_{2,3} = 1\\\\a_{3,1} = 3,\\; a_{3,2} = 1,\\; a_{3,3} = 2\\\\[1em]\\textbf{Variable Values:}\\\\x_{1} = 25000,\\; x_{2} = 25500,\\; x_{3} = 27000\\\\[1em]\\begin{cases} x_{1} + 2x_{2} + 3x_{3} = 157000\\\\ 2x_{1} + 3x_{2} + x_{3} = 153500\\\\ 3x_{1} + x_{2} + 2x_{3} = 154500\\end{cases}$"
          },
          "metadata": {}
        },
        {
          "output_type": "stream",
          "name": "stdout",
          "text": [
            "\n",
            "Possibility #39\n"
          ]
        },
        {
          "output_type": "display_data",
          "data": {
            "text/plain": [
              "<IPython.core.display.Math object>"
            ],
            "text/latex": "$\\displaystyle \\textbf{Coefficient Values:}\\\\a_{1,1} = 1,\\; a_{1,2} = 2,\\; a_{1,3} = 3\\\\a_{2,1} = 2,\\; a_{2,2} = 3,\\; a_{2,3} = 2\\\\a_{3,1} = 3,\\; a_{3,2} = 1,\\; a_{3,3} = 1\\\\[1em]\\textbf{Variable Values:}\\\\x_{1} = 25000,\\; x_{2} = 25500,\\; x_{3} = 26000\\\\[1em]\\begin{cases} x_{1} + 2x_{2} + 3x_{3} = 154000\\\\ 2x_{1} + 3x_{2} + 2x_{3} = 178500\\\\ 3x_{1} + x_{2} + x_{3} = 126500\\end{cases}$"
          },
          "metadata": {}
        },
        {
          "output_type": "stream",
          "name": "stdout",
          "text": [
            "\n",
            "Possibility #40\n"
          ]
        },
        {
          "output_type": "display_data",
          "data": {
            "text/plain": [
              "<IPython.core.display.Math object>"
            ],
            "text/latex": "$\\displaystyle \\textbf{Coefficient Values:}\\\\a_{1,1} = 1,\\; a_{1,2} = 2,\\; a_{1,3} = 3\\\\a_{2,1} = 2,\\; a_{2,2} = 3,\\; a_{2,3} = 2\\\\a_{3,1} = 3,\\; a_{3,2} = 1,\\; a_{3,3} = 1\\\\[1em]\\textbf{Variable Values:}\\\\x_{1} = 25000,\\; x_{2} = 25500,\\; x_{3} = 27000\\\\[1em]\\begin{cases} x_{1} + 2x_{2} + 3x_{3} = 157000\\\\ 2x_{1} + 3x_{2} + 2x_{3} = 180500\\\\ 3x_{1} + x_{2} + x_{3} = 127500\\end{cases}$"
          },
          "metadata": {}
        },
        {
          "output_type": "stream",
          "name": "stdout",
          "text": [
            "\n",
            "Possibility #41\n"
          ]
        },
        {
          "output_type": "display_data",
          "data": {
            "text/plain": [
              "<IPython.core.display.Math object>"
            ],
            "text/latex": "$\\displaystyle \\textbf{Coefficient Values:}\\\\a_{1,1} = 1,\\; a_{1,2} = 2,\\; a_{1,3} = 3\\\\a_{2,1} = 3,\\; a_{2,2} = 1,\\; a_{2,3} = 1\\\\a_{3,1} = 2,\\; a_{3,2} = 3,\\; a_{3,3} = 2\\\\[1em]\\textbf{Variable Values:}\\\\x_{1} = 25000,\\; x_{2} = 25500,\\; x_{3} = 26000\\\\[1em]\\begin{cases} x_{1} + 2x_{2} + 3x_{3} = 154000\\\\ 3x_{1} + x_{2} + x_{3} = 126500\\\\ 2x_{1} + 3x_{2} + 2x_{3} = 178500\\end{cases}$"
          },
          "metadata": {}
        },
        {
          "output_type": "stream",
          "name": "stdout",
          "text": [
            "\n",
            "Possibility #42\n"
          ]
        },
        {
          "output_type": "display_data",
          "data": {
            "text/plain": [
              "<IPython.core.display.Math object>"
            ],
            "text/latex": "$\\displaystyle \\textbf{Coefficient Values:}\\\\a_{1,1} = 1,\\; a_{1,2} = 2,\\; a_{1,3} = 3\\\\a_{2,1} = 3,\\; a_{2,2} = 1,\\; a_{2,3} = 1\\\\a_{3,1} = 2,\\; a_{3,2} = 3,\\; a_{3,3} = 2\\\\[1em]\\textbf{Variable Values:}\\\\x_{1} = 25000,\\; x_{2} = 25500,\\; x_{3} = 27000\\\\[1em]\\begin{cases} x_{1} + 2x_{2} + 3x_{3} = 157000\\\\ 3x_{1} + x_{2} + x_{3} = 127500\\\\ 2x_{1} + 3x_{2} + 2x_{3} = 180500\\end{cases}$"
          },
          "metadata": {}
        },
        {
          "output_type": "stream",
          "name": "stdout",
          "text": [
            "\n",
            "Possibility #43\n"
          ]
        },
        {
          "output_type": "display_data",
          "data": {
            "text/plain": [
              "<IPython.core.display.Math object>"
            ],
            "text/latex": "$\\displaystyle \\textbf{Coefficient Values:}\\\\a_{1,1} = 1,\\; a_{1,2} = 2,\\; a_{1,3} = 3\\\\a_{2,1} = 3,\\; a_{2,2} = 1,\\; a_{2,3} = 2\\\\a_{3,1} = 2,\\; a_{3,2} = 3,\\; a_{3,3} = 1\\\\[1em]\\textbf{Variable Values:}\\\\x_{1} = 25000,\\; x_{2} = 25500,\\; x_{3} = 26000\\\\[1em]\\begin{cases} x_{1} + 2x_{2} + 3x_{3} = 154000\\\\ 3x_{1} + x_{2} + 2x_{3} = 152500\\\\ 2x_{1} + 3x_{2} + x_{3} = 152500\\end{cases}$"
          },
          "metadata": {}
        },
        {
          "output_type": "stream",
          "name": "stdout",
          "text": [
            "\n",
            "Possibility #44\n"
          ]
        },
        {
          "output_type": "display_data",
          "data": {
            "text/plain": [
              "<IPython.core.display.Math object>"
            ],
            "text/latex": "$\\displaystyle \\textbf{Coefficient Values:}\\\\a_{1,1} = 1,\\; a_{1,2} = 2,\\; a_{1,3} = 3\\\\a_{2,1} = 3,\\; a_{2,2} = 1,\\; a_{2,3} = 2\\\\a_{3,1} = 2,\\; a_{3,2} = 3,\\; a_{3,3} = 1\\\\[1em]\\textbf{Variable Values:}\\\\x_{1} = 25000,\\; x_{2} = 25500,\\; x_{3} = 27000\\\\[1em]\\begin{cases} x_{1} + 2x_{2} + 3x_{3} = 157000\\\\ 3x_{1} + x_{2} + 2x_{3} = 154500\\\\ 2x_{1} + 3x_{2} + x_{3} = 153500\\end{cases}$"
          },
          "metadata": {}
        },
        {
          "output_type": "stream",
          "name": "stdout",
          "text": [
            "\n",
            "Possibility #45\n"
          ]
        },
        {
          "output_type": "display_data",
          "data": {
            "text/plain": [
              "<IPython.core.display.Math object>"
            ],
            "text/latex": "$\\displaystyle \\textbf{Coefficient Values:}\\\\a_{1,1} = 1,\\; a_{1,2} = 2,\\; a_{1,3} = 3\\\\a_{2,1} = 3,\\; a_{2,2} = 3,\\; a_{2,3} = 1\\\\a_{3,1} = 2,\\; a_{3,2} = 1,\\; a_{3,3} = 2\\\\[1em]\\textbf{Variable Values:}\\\\x_{1} = 25000,\\; x_{2} = 25500,\\; x_{3} = 26000\\\\[1em]\\begin{cases} x_{1} + 2x_{2} + 3x_{3} = 154000\\\\ 3x_{1} + 3x_{2} + x_{3} = 177500\\\\ 2x_{1} + x_{2} + 2x_{3} = 127500\\end{cases}$"
          },
          "metadata": {}
        },
        {
          "output_type": "stream",
          "name": "stdout",
          "text": [
            "\n",
            "Possibility #46\n"
          ]
        },
        {
          "output_type": "display_data",
          "data": {
            "text/plain": [
              "<IPython.core.display.Math object>"
            ],
            "text/latex": "$\\displaystyle \\textbf{Coefficient Values:}\\\\a_{1,1} = 1,\\; a_{1,2} = 2,\\; a_{1,3} = 3\\\\a_{2,1} = 3,\\; a_{2,2} = 3,\\; a_{2,3} = 1\\\\a_{3,1} = 2,\\; a_{3,2} = 1,\\; a_{3,3} = 2\\\\[1em]\\textbf{Variable Values:}\\\\x_{1} = 25000,\\; x_{2} = 25500,\\; x_{3} = 27000\\\\[1em]\\begin{cases} x_{1} + 2x_{2} + 3x_{3} = 157000\\\\ 3x_{1} + 3x_{2} + x_{3} = 178500\\\\ 2x_{1} + x_{2} + 2x_{3} = 129500\\end{cases}$"
          },
          "metadata": {}
        },
        {
          "output_type": "stream",
          "name": "stdout",
          "text": [
            "\n",
            "Possibility #47\n"
          ]
        },
        {
          "output_type": "display_data",
          "data": {
            "text/plain": [
              "<IPython.core.display.Math object>"
            ],
            "text/latex": "$\\displaystyle \\textbf{Coefficient Values:}\\\\a_{1,1} = 1,\\; a_{1,2} = 2,\\; a_{1,3} = 3\\\\a_{2,1} = 3,\\; a_{2,2} = 3,\\; a_{2,3} = 2\\\\a_{3,1} = 2,\\; a_{3,2} = 1,\\; a_{3,3} = 1\\\\[1em]\\textbf{Variable Values:}\\\\x_{1} = 25000,\\; x_{2} = 25500,\\; x_{3} = 26000\\\\[1em]\\begin{cases} x_{1} + 2x_{2} + 3x_{3} = 154000\\\\ 3x_{1} + 3x_{2} + 2x_{3} = 203500\\\\ 2x_{1} + x_{2} + x_{3} = 101500\\end{cases}$"
          },
          "metadata": {}
        },
        {
          "output_type": "stream",
          "name": "stdout",
          "text": [
            "\n",
            "Possibility #48\n"
          ]
        },
        {
          "output_type": "display_data",
          "data": {
            "text/plain": [
              "<IPython.core.display.Math object>"
            ],
            "text/latex": "$\\displaystyle \\textbf{Coefficient Values:}\\\\a_{1,1} = 1,\\; a_{1,2} = 2,\\; a_{1,3} = 3\\\\a_{2,1} = 3,\\; a_{2,2} = 3,\\; a_{2,3} = 2\\\\a_{3,1} = 2,\\; a_{3,2} = 1,\\; a_{3,3} = 1\\\\[1em]\\textbf{Variable Values:}\\\\x_{1} = 25000,\\; x_{2} = 25500,\\; x_{3} = 27000\\\\[1em]\\begin{cases} x_{1} + 2x_{2} + 3x_{3} = 157000\\\\ 3x_{1} + 3x_{2} + 2x_{3} = 205500\\\\ 2x_{1} + x_{2} + x_{3} = 102500\\end{cases}$"
          },
          "metadata": {}
        },
        {
          "output_type": "stream",
          "name": "stdout",
          "text": [
            "\n",
            "Possibility #49\n"
          ]
        },
        {
          "output_type": "display_data",
          "data": {
            "text/plain": [
              "<IPython.core.display.Math object>"
            ],
            "text/latex": "$\\displaystyle \\textbf{Coefficient Values:}\\\\a_{1,1} = 1,\\; a_{1,2} = 3,\\; a_{1,3} = 1\\\\a_{2,1} = 2,\\; a_{2,2} = 1,\\; a_{2,3} = 3\\\\a_{3,1} = 3,\\; a_{3,2} = 2,\\; a_{3,3} = 2\\\\[1em]\\textbf{Variable Values:}\\\\x_{1} = 25000,\\; x_{2} = 25500,\\; x_{3} = 26000\\\\[1em]\\begin{cases} x_{1} + 3x_{2} + x_{3} = 127500\\\\ 2x_{1} + x_{2} + 3x_{3} = 153500\\\\ 3x_{1} + 2x_{2} + 2x_{3} = 178000\\end{cases}$"
          },
          "metadata": {}
        },
        {
          "output_type": "stream",
          "name": "stdout",
          "text": [
            "\n",
            "Possibility #50\n"
          ]
        },
        {
          "output_type": "display_data",
          "data": {
            "text/plain": [
              "<IPython.core.display.Math object>"
            ],
            "text/latex": "$\\displaystyle \\textbf{Coefficient Values:}\\\\a_{1,1} = 1,\\; a_{1,2} = 3,\\; a_{1,3} = 1\\\\a_{2,1} = 2,\\; a_{2,2} = 1,\\; a_{2,3} = 3\\\\a_{3,1} = 3,\\; a_{3,2} = 2,\\; a_{3,3} = 2\\\\[1em]\\textbf{Variable Values:}\\\\x_{1} = 25000,\\; x_{2} = 25500,\\; x_{3} = 27000\\\\[1em]\\begin{cases} x_{1} + 3x_{2} + x_{3} = 128500\\\\ 2x_{1} + x_{2} + 3x_{3} = 156500\\\\ 3x_{1} + 2x_{2} + 2x_{3} = 180000\\end{cases}$"
          },
          "metadata": {}
        },
        {
          "output_type": "stream",
          "name": "stdout",
          "text": [
            "\n",
            "Possibility #51\n"
          ]
        },
        {
          "output_type": "display_data",
          "data": {
            "text/plain": [
              "<IPython.core.display.Math object>"
            ],
            "text/latex": "$\\displaystyle \\textbf{Coefficient Values:}\\\\a_{1,1} = 1,\\; a_{1,2} = 3,\\; a_{1,3} = 1\\\\a_{2,1} = 2,\\; a_{2,2} = 2,\\; a_{2,3} = 3\\\\a_{3,1} = 3,\\; a_{3,2} = 1,\\; a_{3,3} = 2\\\\[1em]\\textbf{Variable Values:}\\\\x_{1} = 25000,\\; x_{2} = 25500,\\; x_{3} = 26000\\\\[1em]\\begin{cases} x_{1} + 3x_{2} + x_{3} = 127500\\\\ 2x_{1} + 2x_{2} + 3x_{3} = 179000\\\\ 3x_{1} + x_{2} + 2x_{3} = 152500\\end{cases}$"
          },
          "metadata": {}
        },
        {
          "output_type": "stream",
          "name": "stdout",
          "text": [
            "\n",
            "Possibility #52\n"
          ]
        },
        {
          "output_type": "display_data",
          "data": {
            "text/plain": [
              "<IPython.core.display.Math object>"
            ],
            "text/latex": "$\\displaystyle \\textbf{Coefficient Values:}\\\\a_{1,1} = 1,\\; a_{1,2} = 3,\\; a_{1,3} = 1\\\\a_{2,1} = 2,\\; a_{2,2} = 2,\\; a_{2,3} = 3\\\\a_{3,1} = 3,\\; a_{3,2} = 1,\\; a_{3,3} = 2\\\\[1em]\\textbf{Variable Values:}\\\\x_{1} = 25000,\\; x_{2} = 25500,\\; x_{3} = 27000\\\\[1em]\\begin{cases} x_{1} + 3x_{2} + x_{3} = 128500\\\\ 2x_{1} + 2x_{2} + 3x_{3} = 182000\\\\ 3x_{1} + x_{2} + 2x_{3} = 154500\\end{cases}$"
          },
          "metadata": {}
        },
        {
          "output_type": "stream",
          "name": "stdout",
          "text": [
            "\n",
            "Possibility #53\n"
          ]
        },
        {
          "output_type": "display_data",
          "data": {
            "text/plain": [
              "<IPython.core.display.Math object>"
            ],
            "text/latex": "$\\displaystyle \\textbf{Coefficient Values:}\\\\a_{1,1} = 1,\\; a_{1,2} = 3,\\; a_{1,3} = 1\\\\a_{2,1} = 3,\\; a_{2,2} = 1,\\; a_{2,3} = 2\\\\a_{3,1} = 2,\\; a_{3,2} = 2,\\; a_{3,3} = 3\\\\[1em]\\textbf{Variable Values:}\\\\x_{1} = 25000,\\; x_{2} = 25500,\\; x_{3} = 26000\\\\[1em]\\begin{cases} x_{1} + 3x_{2} + x_{3} = 127500\\\\ 3x_{1} + x_{2} + 2x_{3} = 152500\\\\ 2x_{1} + 2x_{2} + 3x_{3} = 179000\\end{cases}$"
          },
          "metadata": {}
        },
        {
          "output_type": "stream",
          "name": "stdout",
          "text": [
            "\n",
            "Possibility #54\n"
          ]
        },
        {
          "output_type": "display_data",
          "data": {
            "text/plain": [
              "<IPython.core.display.Math object>"
            ],
            "text/latex": "$\\displaystyle \\textbf{Coefficient Values:}\\\\a_{1,1} = 1,\\; a_{1,2} = 3,\\; a_{1,3} = 1\\\\a_{2,1} = 3,\\; a_{2,2} = 1,\\; a_{2,3} = 2\\\\a_{3,1} = 2,\\; a_{3,2} = 2,\\; a_{3,3} = 3\\\\[1em]\\textbf{Variable Values:}\\\\x_{1} = 25000,\\; x_{2} = 25500,\\; x_{3} = 27000\\\\[1em]\\begin{cases} x_{1} + 3x_{2} + x_{3} = 128500\\\\ 3x_{1} + x_{2} + 2x_{3} = 154500\\\\ 2x_{1} + 2x_{2} + 3x_{3} = 182000\\end{cases}$"
          },
          "metadata": {}
        },
        {
          "output_type": "stream",
          "name": "stdout",
          "text": [
            "\n",
            "Possibility #55\n"
          ]
        },
        {
          "output_type": "display_data",
          "data": {
            "text/plain": [
              "<IPython.core.display.Math object>"
            ],
            "text/latex": "$\\displaystyle \\textbf{Coefficient Values:}\\\\a_{1,1} = 1,\\; a_{1,2} = 3,\\; a_{1,3} = 1\\\\a_{2,1} = 3,\\; a_{2,2} = 2,\\; a_{2,3} = 2\\\\a_{3,1} = 2,\\; a_{3,2} = 1,\\; a_{3,3} = 3\\\\[1em]\\textbf{Variable Values:}\\\\x_{1} = 25000,\\; x_{2} = 25500,\\; x_{3} = 26000\\\\[1em]\\begin{cases} x_{1} + 3x_{2} + x_{3} = 127500\\\\ 3x_{1} + 2x_{2} + 2x_{3} = 178000\\\\ 2x_{1} + x_{2} + 3x_{3} = 153500\\end{cases}$"
          },
          "metadata": {}
        },
        {
          "output_type": "stream",
          "name": "stdout",
          "text": [
            "\n",
            "Possibility #56\n"
          ]
        },
        {
          "output_type": "display_data",
          "data": {
            "text/plain": [
              "<IPython.core.display.Math object>"
            ],
            "text/latex": "$\\displaystyle \\textbf{Coefficient Values:}\\\\a_{1,1} = 1,\\; a_{1,2} = 3,\\; a_{1,3} = 1\\\\a_{2,1} = 3,\\; a_{2,2} = 2,\\; a_{2,3} = 2\\\\a_{3,1} = 2,\\; a_{3,2} = 1,\\; a_{3,3} = 3\\\\[1em]\\textbf{Variable Values:}\\\\x_{1} = 25000,\\; x_{2} = 25500,\\; x_{3} = 27000\\\\[1em]\\begin{cases} x_{1} + 3x_{2} + x_{3} = 128500\\\\ 3x_{1} + 2x_{2} + 2x_{3} = 180000\\\\ 2x_{1} + x_{2} + 3x_{3} = 156500\\end{cases}$"
          },
          "metadata": {}
        },
        {
          "output_type": "stream",
          "name": "stdout",
          "text": [
            "\n",
            "Possibility #57\n"
          ]
        },
        {
          "output_type": "display_data",
          "data": {
            "text/plain": [
              "<IPython.core.display.Math object>"
            ],
            "text/latex": "$\\displaystyle \\textbf{Coefficient Values:}\\\\a_{1,1} = 1,\\; a_{1,2} = 3,\\; a_{1,3} = 2\\\\a_{2,1} = 2,\\; a_{2,2} = 1,\\; a_{2,3} = 1\\\\a_{3,1} = 3,\\; a_{3,2} = 2,\\; a_{3,3} = 3\\\\[1em]\\textbf{Variable Values:}\\\\x_{1} = 25000,\\; x_{2} = 25500,\\; x_{3} = 26000\\\\[1em]\\begin{cases} x_{1} + 3x_{2} + 2x_{3} = 153500\\\\ 2x_{1} + x_{2} + x_{3} = 101500\\\\ 3x_{1} + 2x_{2} + 3x_{3} = 204000\\end{cases}$"
          },
          "metadata": {}
        },
        {
          "output_type": "stream",
          "name": "stdout",
          "text": [
            "\n",
            "Possibility #58\n"
          ]
        },
        {
          "output_type": "display_data",
          "data": {
            "text/plain": [
              "<IPython.core.display.Math object>"
            ],
            "text/latex": "$\\displaystyle \\textbf{Coefficient Values:}\\\\a_{1,1} = 1,\\; a_{1,2} = 3,\\; a_{1,3} = 2\\\\a_{2,1} = 2,\\; a_{2,2} = 1,\\; a_{2,3} = 1\\\\a_{3,1} = 3,\\; a_{3,2} = 2,\\; a_{3,3} = 3\\\\[1em]\\textbf{Variable Values:}\\\\x_{1} = 25000,\\; x_{2} = 25500,\\; x_{3} = 27000\\\\[1em]\\begin{cases} x_{1} + 3x_{2} + 2x_{3} = 155500\\\\ 2x_{1} + x_{2} + x_{3} = 102500\\\\ 3x_{1} + 2x_{2} + 3x_{3} = 207000\\end{cases}$"
          },
          "metadata": {}
        },
        {
          "output_type": "stream",
          "name": "stdout",
          "text": [
            "\n",
            "Possibility #59\n"
          ]
        },
        {
          "output_type": "display_data",
          "data": {
            "text/plain": [
              "<IPython.core.display.Math object>"
            ],
            "text/latex": "$\\displaystyle \\textbf{Coefficient Values:}\\\\a_{1,1} = 1,\\; a_{1,2} = 3,\\; a_{1,3} = 2\\\\a_{2,1} = 2,\\; a_{2,2} = 1,\\; a_{2,3} = 3\\\\a_{3,1} = 3,\\; a_{3,2} = 2,\\; a_{3,3} = 1\\\\[1em]\\textbf{Variable Values:}\\\\x_{1} = 25000,\\; x_{2} = 25500,\\; x_{3} = 26000\\\\[1em]\\begin{cases} x_{1} + 3x_{2} + 2x_{3} = 153500\\\\ 2x_{1} + x_{2} + 3x_{3} = 153500\\\\ 3x_{1} + 2x_{2} + x_{3} = 152000\\end{cases}$"
          },
          "metadata": {}
        },
        {
          "output_type": "stream",
          "name": "stdout",
          "text": [
            "\n",
            "Possibility #60\n"
          ]
        },
        {
          "output_type": "display_data",
          "data": {
            "text/plain": [
              "<IPython.core.display.Math object>"
            ],
            "text/latex": "$\\displaystyle \\textbf{Coefficient Values:}\\\\a_{1,1} = 1,\\; a_{1,2} = 3,\\; a_{1,3} = 2\\\\a_{2,1} = 2,\\; a_{2,2} = 1,\\; a_{2,3} = 3\\\\a_{3,1} = 3,\\; a_{3,2} = 2,\\; a_{3,3} = 1\\\\[1em]\\textbf{Variable Values:}\\\\x_{1} = 25000,\\; x_{2} = 25500,\\; x_{3} = 27000\\\\[1em]\\begin{cases} x_{1} + 3x_{2} + 2x_{3} = 155500\\\\ 2x_{1} + x_{2} + 3x_{3} = 156500\\\\ 3x_{1} + 2x_{2} + x_{3} = 153000\\end{cases}$"
          },
          "metadata": {}
        },
        {
          "output_type": "stream",
          "name": "stdout",
          "text": [
            "\n",
            "Possibility #61\n"
          ]
        },
        {
          "output_type": "display_data",
          "data": {
            "text/plain": [
              "<IPython.core.display.Math object>"
            ],
            "text/latex": "$\\displaystyle \\textbf{Coefficient Values:}\\\\a_{1,1} = 1,\\; a_{1,2} = 3,\\; a_{1,3} = 2\\\\a_{2,1} = 2,\\; a_{2,2} = 2,\\; a_{2,3} = 1\\\\a_{3,1} = 3,\\; a_{3,2} = 1,\\; a_{3,3} = 3\\\\[1em]\\textbf{Variable Values:}\\\\x_{1} = 25000,\\; x_{2} = 25500,\\; x_{3} = 26000\\\\[1em]\\begin{cases} x_{1} + 3x_{2} + 2x_{3} = 153500\\\\ 2x_{1} + 2x_{2} + x_{3} = 127000\\\\ 3x_{1} + x_{2} + 3x_{3} = 178500\\end{cases}$"
          },
          "metadata": {}
        },
        {
          "output_type": "stream",
          "name": "stdout",
          "text": [
            "\n",
            "Possibility #62\n"
          ]
        },
        {
          "output_type": "display_data",
          "data": {
            "text/plain": [
              "<IPython.core.display.Math object>"
            ],
            "text/latex": "$\\displaystyle \\textbf{Coefficient Values:}\\\\a_{1,1} = 1,\\; a_{1,2} = 3,\\; a_{1,3} = 2\\\\a_{2,1} = 2,\\; a_{2,2} = 2,\\; a_{2,3} = 1\\\\a_{3,1} = 3,\\; a_{3,2} = 1,\\; a_{3,3} = 3\\\\[1em]\\textbf{Variable Values:}\\\\x_{1} = 25000,\\; x_{2} = 25500,\\; x_{3} = 27000\\\\[1em]\\begin{cases} x_{1} + 3x_{2} + 2x_{3} = 155500\\\\ 2x_{1} + 2x_{2} + x_{3} = 128000\\\\ 3x_{1} + x_{2} + 3x_{3} = 181500\\end{cases}$"
          },
          "metadata": {}
        },
        {
          "output_type": "stream",
          "name": "stdout",
          "text": [
            "\n",
            "Possibility #63\n"
          ]
        },
        {
          "output_type": "display_data",
          "data": {
            "text/plain": [
              "<IPython.core.display.Math object>"
            ],
            "text/latex": "$\\displaystyle \\textbf{Coefficient Values:}\\\\a_{1,1} = 1,\\; a_{1,2} = 3,\\; a_{1,3} = 2\\\\a_{2,1} = 2,\\; a_{2,2} = 2,\\; a_{2,3} = 3\\\\a_{3,1} = 3,\\; a_{3,2} = 1,\\; a_{3,3} = 1\\\\[1em]\\textbf{Variable Values:}\\\\x_{1} = 25000,\\; x_{2} = 25500,\\; x_{3} = 26000\\\\[1em]\\begin{cases} x_{1} + 3x_{2} + 2x_{3} = 153500\\\\ 2x_{1} + 2x_{2} + 3x_{3} = 179000\\\\ 3x_{1} + x_{2} + x_{3} = 126500\\end{cases}$"
          },
          "metadata": {}
        },
        {
          "output_type": "stream",
          "name": "stdout",
          "text": [
            "\n",
            "Possibility #64\n"
          ]
        },
        {
          "output_type": "display_data",
          "data": {
            "text/plain": [
              "<IPython.core.display.Math object>"
            ],
            "text/latex": "$\\displaystyle \\textbf{Coefficient Values:}\\\\a_{1,1} = 1,\\; a_{1,2} = 3,\\; a_{1,3} = 2\\\\a_{2,1} = 2,\\; a_{2,2} = 2,\\; a_{2,3} = 3\\\\a_{3,1} = 3,\\; a_{3,2} = 1,\\; a_{3,3} = 1\\\\[1em]\\textbf{Variable Values:}\\\\x_{1} = 25000,\\; x_{2} = 25500,\\; x_{3} = 27000\\\\[1em]\\begin{cases} x_{1} + 3x_{2} + 2x_{3} = 155500\\\\ 2x_{1} + 2x_{2} + 3x_{3} = 182000\\\\ 3x_{1} + x_{2} + x_{3} = 127500\\end{cases}$"
          },
          "metadata": {}
        },
        {
          "output_type": "stream",
          "name": "stdout",
          "text": [
            "\n",
            "Possibility #65\n"
          ]
        },
        {
          "output_type": "display_data",
          "data": {
            "text/plain": [
              "<IPython.core.display.Math object>"
            ],
            "text/latex": "$\\displaystyle \\textbf{Coefficient Values:}\\\\a_{1,1} = 1,\\; a_{1,2} = 3,\\; a_{1,3} = 2\\\\a_{2,1} = 3,\\; a_{2,2} = 1,\\; a_{2,3} = 1\\\\a_{3,1} = 2,\\; a_{3,2} = 2,\\; a_{3,3} = 3\\\\[1em]\\textbf{Variable Values:}\\\\x_{1} = 25000,\\; x_{2} = 25500,\\; x_{3} = 26000\\\\[1em]\\begin{cases} x_{1} + 3x_{2} + 2x_{3} = 153500\\\\ 3x_{1} + x_{2} + x_{3} = 126500\\\\ 2x_{1} + 2x_{2} + 3x_{3} = 179000\\end{cases}$"
          },
          "metadata": {}
        },
        {
          "output_type": "stream",
          "name": "stdout",
          "text": [
            "\n",
            "Possibility #66\n"
          ]
        },
        {
          "output_type": "display_data",
          "data": {
            "text/plain": [
              "<IPython.core.display.Math object>"
            ],
            "text/latex": "$\\displaystyle \\textbf{Coefficient Values:}\\\\a_{1,1} = 1,\\; a_{1,2} = 3,\\; a_{1,3} = 2\\\\a_{2,1} = 3,\\; a_{2,2} = 1,\\; a_{2,3} = 1\\\\a_{3,1} = 2,\\; a_{3,2} = 2,\\; a_{3,3} = 3\\\\[1em]\\textbf{Variable Values:}\\\\x_{1} = 25000,\\; x_{2} = 25500,\\; x_{3} = 27000\\\\[1em]\\begin{cases} x_{1} + 3x_{2} + 2x_{3} = 155500\\\\ 3x_{1} + x_{2} + x_{3} = 127500\\\\ 2x_{1} + 2x_{2} + 3x_{3} = 182000\\end{cases}$"
          },
          "metadata": {}
        },
        {
          "output_type": "stream",
          "name": "stdout",
          "text": [
            "\n",
            "Possibility #67\n"
          ]
        },
        {
          "output_type": "display_data",
          "data": {
            "text/plain": [
              "<IPython.core.display.Math object>"
            ],
            "text/latex": "$\\displaystyle \\textbf{Coefficient Values:}\\\\a_{1,1} = 1,\\; a_{1,2} = 3,\\; a_{1,3} = 2\\\\a_{2,1} = 3,\\; a_{2,2} = 1,\\; a_{2,3} = 3\\\\a_{3,1} = 2,\\; a_{3,2} = 2,\\; a_{3,3} = 1\\\\[1em]\\textbf{Variable Values:}\\\\x_{1} = 25000,\\; x_{2} = 25500,\\; x_{3} = 26000\\\\[1em]\\begin{cases} x_{1} + 3x_{2} + 2x_{3} = 153500\\\\ 3x_{1} + x_{2} + 3x_{3} = 178500\\\\ 2x_{1} + 2x_{2} + x_{3} = 127000\\end{cases}$"
          },
          "metadata": {}
        },
        {
          "output_type": "stream",
          "name": "stdout",
          "text": [
            "\n",
            "Possibility #68\n"
          ]
        },
        {
          "output_type": "display_data",
          "data": {
            "text/plain": [
              "<IPython.core.display.Math object>"
            ],
            "text/latex": "$\\displaystyle \\textbf{Coefficient Values:}\\\\a_{1,1} = 1,\\; a_{1,2} = 3,\\; a_{1,3} = 2\\\\a_{2,1} = 3,\\; a_{2,2} = 1,\\; a_{2,3} = 3\\\\a_{3,1} = 2,\\; a_{3,2} = 2,\\; a_{3,3} = 1\\\\[1em]\\textbf{Variable Values:}\\\\x_{1} = 25000,\\; x_{2} = 25500,\\; x_{3} = 27000\\\\[1em]\\begin{cases} x_{1} + 3x_{2} + 2x_{3} = 155500\\\\ 3x_{1} + x_{2} + 3x_{3} = 181500\\\\ 2x_{1} + 2x_{2} + x_{3} = 128000\\end{cases}$"
          },
          "metadata": {}
        },
        {
          "output_type": "stream",
          "name": "stdout",
          "text": [
            "\n",
            "Possibility #69\n"
          ]
        },
        {
          "output_type": "display_data",
          "data": {
            "text/plain": [
              "<IPython.core.display.Math object>"
            ],
            "text/latex": "$\\displaystyle \\textbf{Coefficient Values:}\\\\a_{1,1} = 1,\\; a_{1,2} = 3,\\; a_{1,3} = 2\\\\a_{2,1} = 3,\\; a_{2,2} = 2,\\; a_{2,3} = 1\\\\a_{3,1} = 2,\\; a_{3,2} = 1,\\; a_{3,3} = 3\\\\[1em]\\textbf{Variable Values:}\\\\x_{1} = 25000,\\; x_{2} = 25500,\\; x_{3} = 26000\\\\[1em]\\begin{cases} x_{1} + 3x_{2} + 2x_{3} = 153500\\\\ 3x_{1} + 2x_{2} + x_{3} = 152000\\\\ 2x_{1} + x_{2} + 3x_{3} = 153500\\end{cases}$"
          },
          "metadata": {}
        },
        {
          "output_type": "stream",
          "name": "stdout",
          "text": [
            "\n",
            "Possibility #70\n"
          ]
        },
        {
          "output_type": "display_data",
          "data": {
            "text/plain": [
              "<IPython.core.display.Math object>"
            ],
            "text/latex": "$\\displaystyle \\textbf{Coefficient Values:}\\\\a_{1,1} = 1,\\; a_{1,2} = 3,\\; a_{1,3} = 2\\\\a_{2,1} = 3,\\; a_{2,2} = 2,\\; a_{2,3} = 1\\\\a_{3,1} = 2,\\; a_{3,2} = 1,\\; a_{3,3} = 3\\\\[1em]\\textbf{Variable Values:}\\\\x_{1} = 25000,\\; x_{2} = 25500,\\; x_{3} = 27000\\\\[1em]\\begin{cases} x_{1} + 3x_{2} + 2x_{3} = 155500\\\\ 3x_{1} + 2x_{2} + x_{3} = 153000\\\\ 2x_{1} + x_{2} + 3x_{3} = 156500\\end{cases}$"
          },
          "metadata": {}
        },
        {
          "output_type": "stream",
          "name": "stdout",
          "text": [
            "\n",
            "Possibility #71\n"
          ]
        },
        {
          "output_type": "display_data",
          "data": {
            "text/plain": [
              "<IPython.core.display.Math object>"
            ],
            "text/latex": "$\\displaystyle \\textbf{Coefficient Values:}\\\\a_{1,1} = 1,\\; a_{1,2} = 3,\\; a_{1,3} = 2\\\\a_{2,1} = 3,\\; a_{2,2} = 2,\\; a_{2,3} = 3\\\\a_{3,1} = 2,\\; a_{3,2} = 1,\\; a_{3,3} = 1\\\\[1em]\\textbf{Variable Values:}\\\\x_{1} = 25000,\\; x_{2} = 25500,\\; x_{3} = 26000\\\\[1em]\\begin{cases} x_{1} + 3x_{2} + 2x_{3} = 153500\\\\ 3x_{1} + 2x_{2} + 3x_{3} = 204000\\\\ 2x_{1} + x_{2} + x_{3} = 101500\\end{cases}$"
          },
          "metadata": {}
        },
        {
          "output_type": "stream",
          "name": "stdout",
          "text": [
            "\n",
            "Possibility #72\n"
          ]
        },
        {
          "output_type": "display_data",
          "data": {
            "text/plain": [
              "<IPython.core.display.Math object>"
            ],
            "text/latex": "$\\displaystyle \\textbf{Coefficient Values:}\\\\a_{1,1} = 1,\\; a_{1,2} = 3,\\; a_{1,3} = 2\\\\a_{2,1} = 3,\\; a_{2,2} = 2,\\; a_{2,3} = 3\\\\a_{3,1} = 2,\\; a_{3,2} = 1,\\; a_{3,3} = 1\\\\[1em]\\textbf{Variable Values:}\\\\x_{1} = 25000,\\; x_{2} = 25500,\\; x_{3} = 27000\\\\[1em]\\begin{cases} x_{1} + 3x_{2} + 2x_{3} = 155500\\\\ 3x_{1} + 2x_{2} + 3x_{3} = 207000\\\\ 2x_{1} + x_{2} + x_{3} = 102500\\end{cases}$"
          },
          "metadata": {}
        },
        {
          "output_type": "stream",
          "name": "stdout",
          "text": [
            "\n",
            "Possibility #73\n"
          ]
        },
        {
          "output_type": "display_data",
          "data": {
            "text/plain": [
              "<IPython.core.display.Math object>"
            ],
            "text/latex": "$\\displaystyle \\textbf{Coefficient Values:}\\\\a_{1,1} = 1,\\; a_{1,2} = 3,\\; a_{1,3} = 3\\\\a_{2,1} = 2,\\; a_{2,2} = 1,\\; a_{2,3} = 2\\\\a_{3,1} = 3,\\; a_{3,2} = 2,\\; a_{3,3} = 1\\\\[1em]\\textbf{Variable Values:}\\\\x_{1} = 25000,\\; x_{2} = 25500,\\; x_{3} = 26000\\\\[1em]\\begin{cases} x_{1} + 3x_{2} + 3x_{3} = 179500\\\\ 2x_{1} + x_{2} + 2x_{3} = 127500\\\\ 3x_{1} + 2x_{2} + x_{3} = 152000\\end{cases}$"
          },
          "metadata": {}
        },
        {
          "output_type": "stream",
          "name": "stdout",
          "text": [
            "\n",
            "Possibility #74\n"
          ]
        },
        {
          "output_type": "display_data",
          "data": {
            "text/plain": [
              "<IPython.core.display.Math object>"
            ],
            "text/latex": "$\\displaystyle \\textbf{Coefficient Values:}\\\\a_{1,1} = 1,\\; a_{1,2} = 3,\\; a_{1,3} = 3\\\\a_{2,1} = 2,\\; a_{2,2} = 1,\\; a_{2,3} = 2\\\\a_{3,1} = 3,\\; a_{3,2} = 2,\\; a_{3,3} = 1\\\\[1em]\\textbf{Variable Values:}\\\\x_{1} = 25000,\\; x_{2} = 25500,\\; x_{3} = 27000\\\\[1em]\\begin{cases} x_{1} + 3x_{2} + 3x_{3} = 182500\\\\ 2x_{1} + x_{2} + 2x_{3} = 129500\\\\ 3x_{1} + 2x_{2} + x_{3} = 153000\\end{cases}$"
          },
          "metadata": {}
        },
        {
          "output_type": "stream",
          "name": "stdout",
          "text": [
            "\n",
            "Possibility #75\n"
          ]
        },
        {
          "output_type": "display_data",
          "data": {
            "text/plain": [
              "<IPython.core.display.Math object>"
            ],
            "text/latex": "$\\displaystyle \\textbf{Coefficient Values:}\\\\a_{1,1} = 1,\\; a_{1,2} = 3,\\; a_{1,3} = 3\\\\a_{2,1} = 2,\\; a_{2,2} = 2,\\; a_{2,3} = 1\\\\a_{3,1} = 3,\\; a_{3,2} = 1,\\; a_{3,3} = 2\\\\[1em]\\textbf{Variable Values:}\\\\x_{1} = 25000,\\; x_{2} = 25500,\\; x_{3} = 26000\\\\[1em]\\begin{cases} x_{1} + 3x_{2} + 3x_{3} = 179500\\\\ 2x_{1} + 2x_{2} + x_{3} = 127000\\\\ 3x_{1} + x_{2} + 2x_{3} = 152500\\end{cases}$"
          },
          "metadata": {}
        },
        {
          "output_type": "stream",
          "name": "stdout",
          "text": [
            "\n",
            "Possibility #76\n"
          ]
        },
        {
          "output_type": "display_data",
          "data": {
            "text/plain": [
              "<IPython.core.display.Math object>"
            ],
            "text/latex": "$\\displaystyle \\textbf{Coefficient Values:}\\\\a_{1,1} = 1,\\; a_{1,2} = 3,\\; a_{1,3} = 3\\\\a_{2,1} = 2,\\; a_{2,2} = 2,\\; a_{2,3} = 1\\\\a_{3,1} = 3,\\; a_{3,2} = 1,\\; a_{3,3} = 2\\\\[1em]\\textbf{Variable Values:}\\\\x_{1} = 25000,\\; x_{2} = 25500,\\; x_{3} = 27000\\\\[1em]\\begin{cases} x_{1} + 3x_{2} + 3x_{3} = 182500\\\\ 2x_{1} + 2x_{2} + x_{3} = 128000\\\\ 3x_{1} + x_{2} + 2x_{3} = 154500\\end{cases}$"
          },
          "metadata": {}
        },
        {
          "output_type": "stream",
          "name": "stdout",
          "text": [
            "\n",
            "Possibility #77\n"
          ]
        },
        {
          "output_type": "display_data",
          "data": {
            "text/plain": [
              "<IPython.core.display.Math object>"
            ],
            "text/latex": "$\\displaystyle \\textbf{Coefficient Values:}\\\\a_{1,1} = 1,\\; a_{1,2} = 3,\\; a_{1,3} = 3\\\\a_{2,1} = 3,\\; a_{2,2} = 1,\\; a_{2,3} = 2\\\\a_{3,1} = 2,\\; a_{3,2} = 2,\\; a_{3,3} = 1\\\\[1em]\\textbf{Variable Values:}\\\\x_{1} = 25000,\\; x_{2} = 25500,\\; x_{3} = 26000\\\\[1em]\\begin{cases} x_{1} + 3x_{2} + 3x_{3} = 179500\\\\ 3x_{1} + x_{2} + 2x_{3} = 152500\\\\ 2x_{1} + 2x_{2} + x_{3} = 127000\\end{cases}$"
          },
          "metadata": {}
        },
        {
          "output_type": "stream",
          "name": "stdout",
          "text": [
            "\n",
            "Possibility #78\n"
          ]
        },
        {
          "output_type": "display_data",
          "data": {
            "text/plain": [
              "<IPython.core.display.Math object>"
            ],
            "text/latex": "$\\displaystyle \\textbf{Coefficient Values:}\\\\a_{1,1} = 1,\\; a_{1,2} = 3,\\; a_{1,3} = 3\\\\a_{2,1} = 3,\\; a_{2,2} = 1,\\; a_{2,3} = 2\\\\a_{3,1} = 2,\\; a_{3,2} = 2,\\; a_{3,3} = 1\\\\[1em]\\textbf{Variable Values:}\\\\x_{1} = 25000,\\; x_{2} = 25500,\\; x_{3} = 27000\\\\[1em]\\begin{cases} x_{1} + 3x_{2} + 3x_{3} = 182500\\\\ 3x_{1} + x_{2} + 2x_{3} = 154500\\\\ 2x_{1} + 2x_{2} + x_{3} = 128000\\end{cases}$"
          },
          "metadata": {}
        },
        {
          "output_type": "stream",
          "name": "stdout",
          "text": [
            "\n",
            "Possibility #79\n"
          ]
        },
        {
          "output_type": "display_data",
          "data": {
            "text/plain": [
              "<IPython.core.display.Math object>"
            ],
            "text/latex": "$\\displaystyle \\textbf{Coefficient Values:}\\\\a_{1,1} = 1,\\; a_{1,2} = 3,\\; a_{1,3} = 3\\\\a_{2,1} = 3,\\; a_{2,2} = 2,\\; a_{2,3} = 1\\\\a_{3,1} = 2,\\; a_{3,2} = 1,\\; a_{3,3} = 2\\\\[1em]\\textbf{Variable Values:}\\\\x_{1} = 25000,\\; x_{2} = 25500,\\; x_{3} = 26000\\\\[1em]\\begin{cases} x_{1} + 3x_{2} + 3x_{3} = 179500\\\\ 3x_{1} + 2x_{2} + x_{3} = 152000\\\\ 2x_{1} + x_{2} + 2x_{3} = 127500\\end{cases}$"
          },
          "metadata": {}
        },
        {
          "output_type": "stream",
          "name": "stdout",
          "text": [
            "\n",
            "Possibility #80\n"
          ]
        },
        {
          "output_type": "display_data",
          "data": {
            "text/plain": [
              "<IPython.core.display.Math object>"
            ],
            "text/latex": "$\\displaystyle \\textbf{Coefficient Values:}\\\\a_{1,1} = 1,\\; a_{1,2} = 3,\\; a_{1,3} = 3\\\\a_{2,1} = 3,\\; a_{2,2} = 2,\\; a_{2,3} = 1\\\\a_{3,1} = 2,\\; a_{3,2} = 1,\\; a_{3,3} = 2\\\\[1em]\\textbf{Variable Values:}\\\\x_{1} = 25000,\\; x_{2} = 25500,\\; x_{3} = 27000\\\\[1em]\\begin{cases} x_{1} + 3x_{2} + 3x_{3} = 182500\\\\ 3x_{1} + 2x_{2} + x_{3} = 153000\\\\ 2x_{1} + x_{2} + 2x_{3} = 129500\\end{cases}$"
          },
          "metadata": {}
        },
        {
          "output_type": "stream",
          "name": "stdout",
          "text": [
            "\n",
            "Possibility #81\n"
          ]
        },
        {
          "output_type": "display_data",
          "data": {
            "text/plain": [
              "<IPython.core.display.Math object>"
            ],
            "text/latex": "$\\displaystyle \\textbf{Coefficient Values:}\\\\a_{1,1} = 2,\\; a_{1,2} = 1,\\; a_{1,3} = 1\\\\a_{2,1} = 1,\\; a_{2,2} = 2,\\; a_{2,3} = 3\\\\a_{3,1} = 3,\\; a_{3,2} = 3,\\; a_{3,3} = 2\\\\[1em]\\textbf{Variable Values:}\\\\x_{1} = 25000,\\; x_{2} = 25500,\\; x_{3} = 26000\\\\[1em]\\begin{cases} 2x_{1} + x_{2} + x_{3} = 101500\\\\ x_{1} + 2x_{2} + 3x_{3} = 154000\\\\ 3x_{1} + 3x_{2} + 2x_{3} = 203500\\end{cases}$"
          },
          "metadata": {}
        },
        {
          "output_type": "stream",
          "name": "stdout",
          "text": [
            "\n",
            "Possibility #82\n"
          ]
        },
        {
          "output_type": "display_data",
          "data": {
            "text/plain": [
              "<IPython.core.display.Math object>"
            ],
            "text/latex": "$\\displaystyle \\textbf{Coefficient Values:}\\\\a_{1,1} = 2,\\; a_{1,2} = 1,\\; a_{1,3} = 1\\\\a_{2,1} = 1,\\; a_{2,2} = 2,\\; a_{2,3} = 3\\\\a_{3,1} = 3,\\; a_{3,2} = 3,\\; a_{3,3} = 2\\\\[1em]\\textbf{Variable Values:}\\\\x_{1} = 25000,\\; x_{2} = 25500,\\; x_{3} = 27000\\\\[1em]\\begin{cases} 2x_{1} + x_{2} + x_{3} = 102500\\\\ x_{1} + 2x_{2} + 3x_{3} = 157000\\\\ 3x_{1} + 3x_{2} + 2x_{3} = 205500\\end{cases}$"
          },
          "metadata": {}
        },
        {
          "output_type": "stream",
          "name": "stdout",
          "text": [
            "\n",
            "Possibility #83\n"
          ]
        },
        {
          "output_type": "display_data",
          "data": {
            "text/plain": [
              "<IPython.core.display.Math object>"
            ],
            "text/latex": "$\\displaystyle \\textbf{Coefficient Values:}\\\\a_{1,1} = 2,\\; a_{1,2} = 1,\\; a_{1,3} = 1\\\\a_{2,1} = 1,\\; a_{2,2} = 3,\\; a_{2,3} = 2\\\\a_{3,1} = 3,\\; a_{3,2} = 2,\\; a_{3,3} = 3\\\\[1em]\\textbf{Variable Values:}\\\\x_{1} = 25000,\\; x_{2} = 25500,\\; x_{3} = 26000\\\\[1em]\\begin{cases} 2x_{1} + x_{2} + x_{3} = 101500\\\\ x_{1} + 3x_{2} + 2x_{3} = 153500\\\\ 3x_{1} + 2x_{2} + 3x_{3} = 204000\\end{cases}$"
          },
          "metadata": {}
        },
        {
          "output_type": "stream",
          "name": "stdout",
          "text": [
            "\n",
            "Possibility #84\n"
          ]
        },
        {
          "output_type": "display_data",
          "data": {
            "text/plain": [
              "<IPython.core.display.Math object>"
            ],
            "text/latex": "$\\displaystyle \\textbf{Coefficient Values:}\\\\a_{1,1} = 2,\\; a_{1,2} = 1,\\; a_{1,3} = 1\\\\a_{2,1} = 1,\\; a_{2,2} = 3,\\; a_{2,3} = 2\\\\a_{3,1} = 3,\\; a_{3,2} = 2,\\; a_{3,3} = 3\\\\[1em]\\textbf{Variable Values:}\\\\x_{1} = 25000,\\; x_{2} = 25500,\\; x_{3} = 27000\\\\[1em]\\begin{cases} 2x_{1} + x_{2} + x_{3} = 102500\\\\ x_{1} + 3x_{2} + 2x_{3} = 155500\\\\ 3x_{1} + 2x_{2} + 3x_{3} = 207000\\end{cases}$"
          },
          "metadata": {}
        },
        {
          "output_type": "stream",
          "name": "stdout",
          "text": [
            "\n",
            "Possibility #85\n"
          ]
        },
        {
          "output_type": "display_data",
          "data": {
            "text/plain": [
              "<IPython.core.display.Math object>"
            ],
            "text/latex": "$\\displaystyle \\textbf{Coefficient Values:}\\\\a_{1,1} = 2,\\; a_{1,2} = 1,\\; a_{1,3} = 1\\\\a_{2,1} = 3,\\; a_{2,2} = 2,\\; a_{2,3} = 3\\\\a_{3,1} = 1,\\; a_{3,2} = 3,\\; a_{3,3} = 2\\\\[1em]\\textbf{Variable Values:}\\\\x_{1} = 25000,\\; x_{2} = 25500,\\; x_{3} = 26000\\\\[1em]\\begin{cases} 2x_{1} + x_{2} + x_{3} = 101500\\\\ 3x_{1} + 2x_{2} + 3x_{3} = 204000\\\\ x_{1} + 3x_{2} + 2x_{3} = 153500\\end{cases}$"
          },
          "metadata": {}
        },
        {
          "output_type": "stream",
          "name": "stdout",
          "text": [
            "\n",
            "Possibility #86\n"
          ]
        },
        {
          "output_type": "display_data",
          "data": {
            "text/plain": [
              "<IPython.core.display.Math object>"
            ],
            "text/latex": "$\\displaystyle \\textbf{Coefficient Values:}\\\\a_{1,1} = 2,\\; a_{1,2} = 1,\\; a_{1,3} = 1\\\\a_{2,1} = 3,\\; a_{2,2} = 2,\\; a_{2,3} = 3\\\\a_{3,1} = 1,\\; a_{3,2} = 3,\\; a_{3,3} = 2\\\\[1em]\\textbf{Variable Values:}\\\\x_{1} = 25000,\\; x_{2} = 25500,\\; x_{3} = 27000\\\\[1em]\\begin{cases} 2x_{1} + x_{2} + x_{3} = 102500\\\\ 3x_{1} + 2x_{2} + 3x_{3} = 207000\\\\ x_{1} + 3x_{2} + 2x_{3} = 155500\\end{cases}$"
          },
          "metadata": {}
        },
        {
          "output_type": "stream",
          "name": "stdout",
          "text": [
            "\n",
            "Possibility #87\n"
          ]
        },
        {
          "output_type": "display_data",
          "data": {
            "text/plain": [
              "<IPython.core.display.Math object>"
            ],
            "text/latex": "$\\displaystyle \\textbf{Coefficient Values:}\\\\a_{1,1} = 2,\\; a_{1,2} = 1,\\; a_{1,3} = 1\\\\a_{2,1} = 3,\\; a_{2,2} = 3,\\; a_{2,3} = 2\\\\a_{3,1} = 1,\\; a_{3,2} = 2,\\; a_{3,3} = 3\\\\[1em]\\textbf{Variable Values:}\\\\x_{1} = 25000,\\; x_{2} = 25500,\\; x_{3} = 26000\\\\[1em]\\begin{cases} 2x_{1} + x_{2} + x_{3} = 101500\\\\ 3x_{1} + 3x_{2} + 2x_{3} = 203500\\\\ x_{1} + 2x_{2} + 3x_{3} = 154000\\end{cases}$"
          },
          "metadata": {}
        },
        {
          "output_type": "stream",
          "name": "stdout",
          "text": [
            "\n",
            "Possibility #88\n"
          ]
        },
        {
          "output_type": "display_data",
          "data": {
            "text/plain": [
              "<IPython.core.display.Math object>"
            ],
            "text/latex": "$\\displaystyle \\textbf{Coefficient Values:}\\\\a_{1,1} = 2,\\; a_{1,2} = 1,\\; a_{1,3} = 1\\\\a_{2,1} = 3,\\; a_{2,2} = 3,\\; a_{2,3} = 2\\\\a_{3,1} = 1,\\; a_{3,2} = 2,\\; a_{3,3} = 3\\\\[1em]\\textbf{Variable Values:}\\\\x_{1} = 25000,\\; x_{2} = 25500,\\; x_{3} = 27000\\\\[1em]\\begin{cases} 2x_{1} + x_{2} + x_{3} = 102500\\\\ 3x_{1} + 3x_{2} + 2x_{3} = 205500\\\\ x_{1} + 2x_{2} + 3x_{3} = 157000\\end{cases}$"
          },
          "metadata": {}
        },
        {
          "output_type": "stream",
          "name": "stdout",
          "text": [
            "\n",
            "Possibility #89\n"
          ]
        },
        {
          "output_type": "display_data",
          "data": {
            "text/plain": [
              "<IPython.core.display.Math object>"
            ],
            "text/latex": "$\\displaystyle \\textbf{Coefficient Values:}\\\\a_{1,1} = 2,\\; a_{1,2} = 1,\\; a_{1,3} = 2\\\\a_{2,1} = 1,\\; a_{2,2} = 2,\\; a_{2,3} = 3\\\\a_{3,1} = 3,\\; a_{3,2} = 3,\\; a_{3,3} = 1\\\\[1em]\\textbf{Variable Values:}\\\\x_{1} = 25000,\\; x_{2} = 25500,\\; x_{3} = 26000\\\\[1em]\\begin{cases} 2x_{1} + x_{2} + 2x_{3} = 127500\\\\ x_{1} + 2x_{2} + 3x_{3} = 154000\\\\ 3x_{1} + 3x_{2} + x_{3} = 177500\\end{cases}$"
          },
          "metadata": {}
        },
        {
          "output_type": "stream",
          "name": "stdout",
          "text": [
            "\n",
            "Possibility #90\n"
          ]
        },
        {
          "output_type": "display_data",
          "data": {
            "text/plain": [
              "<IPython.core.display.Math object>"
            ],
            "text/latex": "$\\displaystyle \\textbf{Coefficient Values:}\\\\a_{1,1} = 2,\\; a_{1,2} = 1,\\; a_{1,3} = 2\\\\a_{2,1} = 1,\\; a_{2,2} = 2,\\; a_{2,3} = 3\\\\a_{3,1} = 3,\\; a_{3,2} = 3,\\; a_{3,3} = 1\\\\[1em]\\textbf{Variable Values:}\\\\x_{1} = 25000,\\; x_{2} = 25500,\\; x_{3} = 27000\\\\[1em]\\begin{cases} 2x_{1} + x_{2} + 2x_{3} = 129500\\\\ x_{1} + 2x_{2} + 3x_{3} = 157000\\\\ 3x_{1} + 3x_{2} + x_{3} = 178500\\end{cases}$"
          },
          "metadata": {}
        },
        {
          "output_type": "stream",
          "name": "stdout",
          "text": [
            "\n",
            "Possibility #91\n"
          ]
        },
        {
          "output_type": "display_data",
          "data": {
            "text/plain": [
              "<IPython.core.display.Math object>"
            ],
            "text/latex": "$\\displaystyle \\textbf{Coefficient Values:}\\\\a_{1,1} = 2,\\; a_{1,2} = 1,\\; a_{1,3} = 2\\\\a_{2,1} = 1,\\; a_{2,2} = 3,\\; a_{2,3} = 3\\\\a_{3,1} = 3,\\; a_{3,2} = 2,\\; a_{3,3} = 1\\\\[1em]\\textbf{Variable Values:}\\\\x_{1} = 25000,\\; x_{2} = 25500,\\; x_{3} = 26000\\\\[1em]\\begin{cases} 2x_{1} + x_{2} + 2x_{3} = 127500\\\\ x_{1} + 3x_{2} + 3x_{3} = 179500\\\\ 3x_{1} + 2x_{2} + x_{3} = 152000\\end{cases}$"
          },
          "metadata": {}
        },
        {
          "output_type": "stream",
          "name": "stdout",
          "text": [
            "\n",
            "Possibility #92\n"
          ]
        },
        {
          "output_type": "display_data",
          "data": {
            "text/plain": [
              "<IPython.core.display.Math object>"
            ],
            "text/latex": "$\\displaystyle \\textbf{Coefficient Values:}\\\\a_{1,1} = 2,\\; a_{1,2} = 1,\\; a_{1,3} = 2\\\\a_{2,1} = 1,\\; a_{2,2} = 3,\\; a_{2,3} = 3\\\\a_{3,1} = 3,\\; a_{3,2} = 2,\\; a_{3,3} = 1\\\\[1em]\\textbf{Variable Values:}\\\\x_{1} = 25000,\\; x_{2} = 25500,\\; x_{3} = 27000\\\\[1em]\\begin{cases} 2x_{1} + x_{2} + 2x_{3} = 129500\\\\ x_{1} + 3x_{2} + 3x_{3} = 182500\\\\ 3x_{1} + 2x_{2} + x_{3} = 153000\\end{cases}$"
          },
          "metadata": {}
        },
        {
          "output_type": "stream",
          "name": "stdout",
          "text": [
            "\n",
            "Possibility #93\n"
          ]
        },
        {
          "output_type": "display_data",
          "data": {
            "text/plain": [
              "<IPython.core.display.Math object>"
            ],
            "text/latex": "$\\displaystyle \\textbf{Coefficient Values:}\\\\a_{1,1} = 2,\\; a_{1,2} = 1,\\; a_{1,3} = 2\\\\a_{2,1} = 3,\\; a_{2,2} = 2,\\; a_{2,3} = 1\\\\a_{3,1} = 1,\\; a_{3,2} = 3,\\; a_{3,3} = 3\\\\[1em]\\textbf{Variable Values:}\\\\x_{1} = 25000,\\; x_{2} = 25500,\\; x_{3} = 26000\\\\[1em]\\begin{cases} 2x_{1} + x_{2} + 2x_{3} = 127500\\\\ 3x_{1} + 2x_{2} + x_{3} = 152000\\\\ x_{1} + 3x_{2} + 3x_{3} = 179500\\end{cases}$"
          },
          "metadata": {}
        },
        {
          "output_type": "stream",
          "name": "stdout",
          "text": [
            "\n",
            "Possibility #94\n"
          ]
        },
        {
          "output_type": "display_data",
          "data": {
            "text/plain": [
              "<IPython.core.display.Math object>"
            ],
            "text/latex": "$\\displaystyle \\textbf{Coefficient Values:}\\\\a_{1,1} = 2,\\; a_{1,2} = 1,\\; a_{1,3} = 2\\\\a_{2,1} = 3,\\; a_{2,2} = 2,\\; a_{2,3} = 1\\\\a_{3,1} = 1,\\; a_{3,2} = 3,\\; a_{3,3} = 3\\\\[1em]\\textbf{Variable Values:}\\\\x_{1} = 25000,\\; x_{2} = 25500,\\; x_{3} = 27000\\\\[1em]\\begin{cases} 2x_{1} + x_{2} + 2x_{3} = 129500\\\\ 3x_{1} + 2x_{2} + x_{3} = 153000\\\\ x_{1} + 3x_{2} + 3x_{3} = 182500\\end{cases}$"
          },
          "metadata": {}
        },
        {
          "output_type": "stream",
          "name": "stdout",
          "text": [
            "\n",
            "Possibility #95\n"
          ]
        },
        {
          "output_type": "display_data",
          "data": {
            "text/plain": [
              "<IPython.core.display.Math object>"
            ],
            "text/latex": "$\\displaystyle \\textbf{Coefficient Values:}\\\\a_{1,1} = 2,\\; a_{1,2} = 1,\\; a_{1,3} = 2\\\\a_{2,1} = 3,\\; a_{2,2} = 3,\\; a_{2,3} = 1\\\\a_{3,1} = 1,\\; a_{3,2} = 2,\\; a_{3,3} = 3\\\\[1em]\\textbf{Variable Values:}\\\\x_{1} = 25000,\\; x_{2} = 25500,\\; x_{3} = 26000\\\\[1em]\\begin{cases} 2x_{1} + x_{2} + 2x_{3} = 127500\\\\ 3x_{1} + 3x_{2} + x_{3} = 177500\\\\ x_{1} + 2x_{2} + 3x_{3} = 154000\\end{cases}$"
          },
          "metadata": {}
        },
        {
          "output_type": "stream",
          "name": "stdout",
          "text": [
            "\n",
            "Possibility #96\n"
          ]
        },
        {
          "output_type": "display_data",
          "data": {
            "text/plain": [
              "<IPython.core.display.Math object>"
            ],
            "text/latex": "$\\displaystyle \\textbf{Coefficient Values:}\\\\a_{1,1} = 2,\\; a_{1,2} = 1,\\; a_{1,3} = 2\\\\a_{2,1} = 3,\\; a_{2,2} = 3,\\; a_{2,3} = 1\\\\a_{3,1} = 1,\\; a_{3,2} = 2,\\; a_{3,3} = 3\\\\[1em]\\textbf{Variable Values:}\\\\x_{1} = 25000,\\; x_{2} = 25500,\\; x_{3} = 27000\\\\[1em]\\begin{cases} 2x_{1} + x_{2} + 2x_{3} = 129500\\\\ 3x_{1} + 3x_{2} + x_{3} = 178500\\\\ x_{1} + 2x_{2} + 3x_{3} = 157000\\end{cases}$"
          },
          "metadata": {}
        },
        {
          "output_type": "stream",
          "name": "stdout",
          "text": [
            "\n",
            "Possibility #97\n"
          ]
        },
        {
          "output_type": "display_data",
          "data": {
            "text/plain": [
              "<IPython.core.display.Math object>"
            ],
            "text/latex": "$\\displaystyle \\textbf{Coefficient Values:}\\\\a_{1,1} = 2,\\; a_{1,2} = 1,\\; a_{1,3} = 3\\\\a_{2,1} = 1,\\; a_{2,2} = 2,\\; a_{2,3} = 1\\\\a_{3,1} = 3,\\; a_{3,2} = 3,\\; a_{3,3} = 2\\\\[1em]\\textbf{Variable Values:}\\\\x_{1} = 25000,\\; x_{2} = 25500,\\; x_{3} = 26000\\\\[1em]\\begin{cases} 2x_{1} + x_{2} + 3x_{3} = 153500\\\\ x_{1} + 2x_{2} + x_{3} = 102000\\\\ 3x_{1} + 3x_{2} + 2x_{3} = 203500\\end{cases}$"
          },
          "metadata": {}
        },
        {
          "output_type": "stream",
          "name": "stdout",
          "text": [
            "\n",
            "Possibility #98\n"
          ]
        },
        {
          "output_type": "display_data",
          "data": {
            "text/plain": [
              "<IPython.core.display.Math object>"
            ],
            "text/latex": "$\\displaystyle \\textbf{Coefficient Values:}\\\\a_{1,1} = 2,\\; a_{1,2} = 1,\\; a_{1,3} = 3\\\\a_{2,1} = 1,\\; a_{2,2} = 2,\\; a_{2,3} = 1\\\\a_{3,1} = 3,\\; a_{3,2} = 3,\\; a_{3,3} = 2\\\\[1em]\\textbf{Variable Values:}\\\\x_{1} = 25000,\\; x_{2} = 25500,\\; x_{3} = 27000\\\\[1em]\\begin{cases} 2x_{1} + x_{2} + 3x_{3} = 156500\\\\ x_{1} + 2x_{2} + x_{3} = 103000\\\\ 3x_{1} + 3x_{2} + 2x_{3} = 205500\\end{cases}$"
          },
          "metadata": {}
        },
        {
          "output_type": "stream",
          "name": "stdout",
          "text": [
            "\n",
            "Possibility #99\n"
          ]
        },
        {
          "output_type": "display_data",
          "data": {
            "text/plain": [
              "<IPython.core.display.Math object>"
            ],
            "text/latex": "$\\displaystyle \\textbf{Coefficient Values:}\\\\a_{1,1} = 2,\\; a_{1,2} = 1,\\; a_{1,3} = 3\\\\a_{2,1} = 1,\\; a_{2,2} = 2,\\; a_{2,3} = 2\\\\a_{3,1} = 3,\\; a_{3,2} = 3,\\; a_{3,3} = 1\\\\[1em]\\textbf{Variable Values:}\\\\x_{1} = 25000,\\; x_{2} = 25500,\\; x_{3} = 26000\\\\[1em]\\begin{cases} 2x_{1} + x_{2} + 3x_{3} = 153500\\\\ x_{1} + 2x_{2} + 2x_{3} = 128000\\\\ 3x_{1} + 3x_{2} + x_{3} = 177500\\end{cases}$"
          },
          "metadata": {}
        },
        {
          "output_type": "stream",
          "name": "stdout",
          "text": [
            "\n",
            "Possibility #100\n"
          ]
        },
        {
          "output_type": "display_data",
          "data": {
            "text/plain": [
              "<IPython.core.display.Math object>"
            ],
            "text/latex": "$\\displaystyle \\textbf{Coefficient Values:}\\\\a_{1,1} = 2,\\; a_{1,2} = 1,\\; a_{1,3} = 3\\\\a_{2,1} = 1,\\; a_{2,2} = 2,\\; a_{2,3} = 2\\\\a_{3,1} = 3,\\; a_{3,2} = 3,\\; a_{3,3} = 1\\\\[1em]\\textbf{Variable Values:}\\\\x_{1} = 25000,\\; x_{2} = 25500,\\; x_{3} = 27000\\\\[1em]\\begin{cases} 2x_{1} + x_{2} + 3x_{3} = 156500\\\\ x_{1} + 2x_{2} + 2x_{3} = 130000\\\\ 3x_{1} + 3x_{2} + x_{3} = 178500\\end{cases}$"
          },
          "metadata": {}
        },
        {
          "output_type": "stream",
          "name": "stdout",
          "text": [
            "\n",
            "Possibility #101\n"
          ]
        },
        {
          "output_type": "display_data",
          "data": {
            "text/plain": [
              "<IPython.core.display.Math object>"
            ],
            "text/latex": "$\\displaystyle \\textbf{Coefficient Values:}\\\\a_{1,1} = 2,\\; a_{1,2} = 1,\\; a_{1,3} = 3\\\\a_{2,1} = 1,\\; a_{2,2} = 3,\\; a_{2,3} = 1\\\\a_{3,1} = 3,\\; a_{3,2} = 2,\\; a_{3,3} = 2\\\\[1em]\\textbf{Variable Values:}\\\\x_{1} = 25000,\\; x_{2} = 25500,\\; x_{3} = 26000\\\\[1em]\\begin{cases} 2x_{1} + x_{2} + 3x_{3} = 153500\\\\ x_{1} + 3x_{2} + x_{3} = 127500\\\\ 3x_{1} + 2x_{2} + 2x_{3} = 178000\\end{cases}$"
          },
          "metadata": {}
        },
        {
          "output_type": "stream",
          "name": "stdout",
          "text": [
            "\n",
            "Possibility #102\n"
          ]
        },
        {
          "output_type": "display_data",
          "data": {
            "text/plain": [
              "<IPython.core.display.Math object>"
            ],
            "text/latex": "$\\displaystyle \\textbf{Coefficient Values:}\\\\a_{1,1} = 2,\\; a_{1,2} = 1,\\; a_{1,3} = 3\\\\a_{2,1} = 1,\\; a_{2,2} = 3,\\; a_{2,3} = 1\\\\a_{3,1} = 3,\\; a_{3,2} = 2,\\; a_{3,3} = 2\\\\[1em]\\textbf{Variable Values:}\\\\x_{1} = 25000,\\; x_{2} = 25500,\\; x_{3} = 27000\\\\[1em]\\begin{cases} 2x_{1} + x_{2} + 3x_{3} = 156500\\\\ x_{1} + 3x_{2} + x_{3} = 128500\\\\ 3x_{1} + 2x_{2} + 2x_{3} = 180000\\end{cases}$"
          },
          "metadata": {}
        },
        {
          "output_type": "stream",
          "name": "stdout",
          "text": [
            "\n",
            "Possibility #103\n"
          ]
        },
        {
          "output_type": "display_data",
          "data": {
            "text/plain": [
              "<IPython.core.display.Math object>"
            ],
            "text/latex": "$\\displaystyle \\textbf{Coefficient Values:}\\\\a_{1,1} = 2,\\; a_{1,2} = 1,\\; a_{1,3} = 3\\\\a_{2,1} = 1,\\; a_{2,2} = 3,\\; a_{2,3} = 2\\\\a_{3,1} = 3,\\; a_{3,2} = 2,\\; a_{3,3} = 1\\\\[1em]\\textbf{Variable Values:}\\\\x_{1} = 25000,\\; x_{2} = 25500,\\; x_{3} = 26000\\\\[1em]\\begin{cases} 2x_{1} + x_{2} + 3x_{3} = 153500\\\\ x_{1} + 3x_{2} + 2x_{3} = 153500\\\\ 3x_{1} + 2x_{2} + x_{3} = 152000\\end{cases}$"
          },
          "metadata": {}
        },
        {
          "output_type": "stream",
          "name": "stdout",
          "text": [
            "\n",
            "Possibility #104\n"
          ]
        },
        {
          "output_type": "display_data",
          "data": {
            "text/plain": [
              "<IPython.core.display.Math object>"
            ],
            "text/latex": "$\\displaystyle \\textbf{Coefficient Values:}\\\\a_{1,1} = 2,\\; a_{1,2} = 1,\\; a_{1,3} = 3\\\\a_{2,1} = 1,\\; a_{2,2} = 3,\\; a_{2,3} = 2\\\\a_{3,1} = 3,\\; a_{3,2} = 2,\\; a_{3,3} = 1\\\\[1em]\\textbf{Variable Values:}\\\\x_{1} = 25000,\\; x_{2} = 25500,\\; x_{3} = 27000\\\\[1em]\\begin{cases} 2x_{1} + x_{2} + 3x_{3} = 156500\\\\ x_{1} + 3x_{2} + 2x_{3} = 155500\\\\ 3x_{1} + 2x_{2} + x_{3} = 153000\\end{cases}$"
          },
          "metadata": {}
        },
        {
          "output_type": "stream",
          "name": "stdout",
          "text": [
            "\n",
            "Possibility #105\n"
          ]
        },
        {
          "output_type": "display_data",
          "data": {
            "text/plain": [
              "<IPython.core.display.Math object>"
            ],
            "text/latex": "$\\displaystyle \\textbf{Coefficient Values:}\\\\a_{1,1} = 2,\\; a_{1,2} = 1,\\; a_{1,3} = 3\\\\a_{2,1} = 3,\\; a_{2,2} = 2,\\; a_{2,3} = 1\\\\a_{3,1} = 1,\\; a_{3,2} = 3,\\; a_{3,3} = 2\\\\[1em]\\textbf{Variable Values:}\\\\x_{1} = 25000,\\; x_{2} = 25500,\\; x_{3} = 26000\\\\[1em]\\begin{cases} 2x_{1} + x_{2} + 3x_{3} = 153500\\\\ 3x_{1} + 2x_{2} + x_{3} = 152000\\\\ x_{1} + 3x_{2} + 2x_{3} = 153500\\end{cases}$"
          },
          "metadata": {}
        },
        {
          "output_type": "stream",
          "name": "stdout",
          "text": [
            "\n",
            "Possibility #106\n"
          ]
        },
        {
          "output_type": "display_data",
          "data": {
            "text/plain": [
              "<IPython.core.display.Math object>"
            ],
            "text/latex": "$\\displaystyle \\textbf{Coefficient Values:}\\\\a_{1,1} = 2,\\; a_{1,2} = 1,\\; a_{1,3} = 3\\\\a_{2,1} = 3,\\; a_{2,2} = 2,\\; a_{2,3} = 1\\\\a_{3,1} = 1,\\; a_{3,2} = 3,\\; a_{3,3} = 2\\\\[1em]\\textbf{Variable Values:}\\\\x_{1} = 25000,\\; x_{2} = 25500,\\; x_{3} = 27000\\\\[1em]\\begin{cases} 2x_{1} + x_{2} + 3x_{3} = 156500\\\\ 3x_{1} + 2x_{2} + x_{3} = 153000\\\\ x_{1} + 3x_{2} + 2x_{3} = 155500\\end{cases}$"
          },
          "metadata": {}
        },
        {
          "output_type": "stream",
          "name": "stdout",
          "text": [
            "\n",
            "Possibility #107\n"
          ]
        },
        {
          "output_type": "display_data",
          "data": {
            "text/plain": [
              "<IPython.core.display.Math object>"
            ],
            "text/latex": "$\\displaystyle \\textbf{Coefficient Values:}\\\\a_{1,1} = 2,\\; a_{1,2} = 1,\\; a_{1,3} = 3\\\\a_{2,1} = 3,\\; a_{2,2} = 2,\\; a_{2,3} = 2\\\\a_{3,1} = 1,\\; a_{3,2} = 3,\\; a_{3,3} = 1\\\\[1em]\\textbf{Variable Values:}\\\\x_{1} = 25000,\\; x_{2} = 25500,\\; x_{3} = 26000\\\\[1em]\\begin{cases} 2x_{1} + x_{2} + 3x_{3} = 153500\\\\ 3x_{1} + 2x_{2} + 2x_{3} = 178000\\\\ x_{1} + 3x_{2} + x_{3} = 127500\\end{cases}$"
          },
          "metadata": {}
        },
        {
          "output_type": "stream",
          "name": "stdout",
          "text": [
            "\n",
            "Possibility #108\n"
          ]
        },
        {
          "output_type": "display_data",
          "data": {
            "text/plain": [
              "<IPython.core.display.Math object>"
            ],
            "text/latex": "$\\displaystyle \\textbf{Coefficient Values:}\\\\a_{1,1} = 2,\\; a_{1,2} = 1,\\; a_{1,3} = 3\\\\a_{2,1} = 3,\\; a_{2,2} = 2,\\; a_{2,3} = 2\\\\a_{3,1} = 1,\\; a_{3,2} = 3,\\; a_{3,3} = 1\\\\[1em]\\textbf{Variable Values:}\\\\x_{1} = 25000,\\; x_{2} = 25500,\\; x_{3} = 27000\\\\[1em]\\begin{cases} 2x_{1} + x_{2} + 3x_{3} = 156500\\\\ 3x_{1} + 2x_{2} + 2x_{3} = 180000\\\\ x_{1} + 3x_{2} + x_{3} = 128500\\end{cases}$"
          },
          "metadata": {}
        },
        {
          "output_type": "stream",
          "name": "stdout",
          "text": [
            "\n",
            "Possibility #109\n"
          ]
        },
        {
          "output_type": "display_data",
          "data": {
            "text/plain": [
              "<IPython.core.display.Math object>"
            ],
            "text/latex": "$\\displaystyle \\textbf{Coefficient Values:}\\\\a_{1,1} = 2,\\; a_{1,2} = 1,\\; a_{1,3} = 3\\\\a_{2,1} = 3,\\; a_{2,2} = 3,\\; a_{2,3} = 1\\\\a_{3,1} = 1,\\; a_{3,2} = 2,\\; a_{3,3} = 2\\\\[1em]\\textbf{Variable Values:}\\\\x_{1} = 25000,\\; x_{2} = 25500,\\; x_{3} = 26000\\\\[1em]\\begin{cases} 2x_{1} + x_{2} + 3x_{3} = 153500\\\\ 3x_{1} + 3x_{2} + x_{3} = 177500\\\\ x_{1} + 2x_{2} + 2x_{3} = 128000\\end{cases}$"
          },
          "metadata": {}
        },
        {
          "output_type": "stream",
          "name": "stdout",
          "text": [
            "\n",
            "Possibility #110\n"
          ]
        },
        {
          "output_type": "display_data",
          "data": {
            "text/plain": [
              "<IPython.core.display.Math object>"
            ],
            "text/latex": "$\\displaystyle \\textbf{Coefficient Values:}\\\\a_{1,1} = 2,\\; a_{1,2} = 1,\\; a_{1,3} = 3\\\\a_{2,1} = 3,\\; a_{2,2} = 3,\\; a_{2,3} = 1\\\\a_{3,1} = 1,\\; a_{3,2} = 2,\\; a_{3,3} = 2\\\\[1em]\\textbf{Variable Values:}\\\\x_{1} = 25000,\\; x_{2} = 25500,\\; x_{3} = 27000\\\\[1em]\\begin{cases} 2x_{1} + x_{2} + 3x_{3} = 156500\\\\ 3x_{1} + 3x_{2} + x_{3} = 178500\\\\ x_{1} + 2x_{2} + 2x_{3} = 130000\\end{cases}$"
          },
          "metadata": {}
        },
        {
          "output_type": "stream",
          "name": "stdout",
          "text": [
            "\n",
            "Possibility #111\n"
          ]
        },
        {
          "output_type": "display_data",
          "data": {
            "text/plain": [
              "<IPython.core.display.Math object>"
            ],
            "text/latex": "$\\displaystyle \\textbf{Coefficient Values:}\\\\a_{1,1} = 2,\\; a_{1,2} = 1,\\; a_{1,3} = 3\\\\a_{2,1} = 3,\\; a_{2,2} = 3,\\; a_{2,3} = 2\\\\a_{3,1} = 1,\\; a_{3,2} = 2,\\; a_{3,3} = 1\\\\[1em]\\textbf{Variable Values:}\\\\x_{1} = 25000,\\; x_{2} = 25500,\\; x_{3} = 26000\\\\[1em]\\begin{cases} 2x_{1} + x_{2} + 3x_{3} = 153500\\\\ 3x_{1} + 3x_{2} + 2x_{3} = 203500\\\\ x_{1} + 2x_{2} + x_{3} = 102000\\end{cases}$"
          },
          "metadata": {}
        },
        {
          "output_type": "stream",
          "name": "stdout",
          "text": [
            "\n",
            "Possibility #112\n"
          ]
        },
        {
          "output_type": "display_data",
          "data": {
            "text/plain": [
              "<IPython.core.display.Math object>"
            ],
            "text/latex": "$\\displaystyle \\textbf{Coefficient Values:}\\\\a_{1,1} = 2,\\; a_{1,2} = 1,\\; a_{1,3} = 3\\\\a_{2,1} = 3,\\; a_{2,2} = 3,\\; a_{2,3} = 2\\\\a_{3,1} = 1,\\; a_{3,2} = 2,\\; a_{3,3} = 1\\\\[1em]\\textbf{Variable Values:}\\\\x_{1} = 25000,\\; x_{2} = 25500,\\; x_{3} = 27000\\\\[1em]\\begin{cases} 2x_{1} + x_{2} + 3x_{3} = 156500\\\\ 3x_{1} + 3x_{2} + 2x_{3} = 205500\\\\ x_{1} + 2x_{2} + x_{3} = 103000\\end{cases}$"
          },
          "metadata": {}
        },
        {
          "output_type": "stream",
          "name": "stdout",
          "text": [
            "\n",
            "Possibility #113\n"
          ]
        },
        {
          "output_type": "display_data",
          "data": {
            "text/plain": [
              "<IPython.core.display.Math object>"
            ],
            "text/latex": "$\\displaystyle \\textbf{Coefficient Values:}\\\\a_{1,1} = 2,\\; a_{1,2} = 2,\\; a_{1,3} = 1\\\\a_{2,1} = 1,\\; a_{2,2} = 3,\\; a_{2,3} = 2\\\\a_{3,1} = 3,\\; a_{3,2} = 1,\\; a_{3,3} = 3\\\\[1em]\\textbf{Variable Values:}\\\\x_{1} = 25000,\\; x_{2} = 25500,\\; x_{3} = 26000\\\\[1em]\\begin{cases} 2x_{1} + 2x_{2} + x_{3} = 127000\\\\ x_{1} + 3x_{2} + 2x_{3} = 153500\\\\ 3x_{1} + x_{2} + 3x_{3} = 178500\\end{cases}$"
          },
          "metadata": {}
        },
        {
          "output_type": "stream",
          "name": "stdout",
          "text": [
            "\n",
            "Possibility #114\n"
          ]
        },
        {
          "output_type": "display_data",
          "data": {
            "text/plain": [
              "<IPython.core.display.Math object>"
            ],
            "text/latex": "$\\displaystyle \\textbf{Coefficient Values:}\\\\a_{1,1} = 2,\\; a_{1,2} = 2,\\; a_{1,3} = 1\\\\a_{2,1} = 1,\\; a_{2,2} = 3,\\; a_{2,3} = 2\\\\a_{3,1} = 3,\\; a_{3,2} = 1,\\; a_{3,3} = 3\\\\[1em]\\textbf{Variable Values:}\\\\x_{1} = 25000,\\; x_{2} = 25500,\\; x_{3} = 27000\\\\[1em]\\begin{cases} 2x_{1} + 2x_{2} + x_{3} = 128000\\\\ x_{1} + 3x_{2} + 2x_{3} = 155500\\\\ 3x_{1} + x_{2} + 3x_{3} = 181500\\end{cases}$"
          },
          "metadata": {}
        },
        {
          "output_type": "stream",
          "name": "stdout",
          "text": [
            "\n",
            "Possibility #115\n"
          ]
        },
        {
          "output_type": "display_data",
          "data": {
            "text/plain": [
              "<IPython.core.display.Math object>"
            ],
            "text/latex": "$\\displaystyle \\textbf{Coefficient Values:}\\\\a_{1,1} = 2,\\; a_{1,2} = 2,\\; a_{1,3} = 1\\\\a_{2,1} = 1,\\; a_{2,2} = 3,\\; a_{2,3} = 3\\\\a_{3,1} = 3,\\; a_{3,2} = 1,\\; a_{3,3} = 2\\\\[1em]\\textbf{Variable Values:}\\\\x_{1} = 25000,\\; x_{2} = 25500,\\; x_{3} = 26000\\\\[1em]\\begin{cases} 2x_{1} + 2x_{2} + x_{3} = 127000\\\\ x_{1} + 3x_{2} + 3x_{3} = 179500\\\\ 3x_{1} + x_{2} + 2x_{3} = 152500\\end{cases}$"
          },
          "metadata": {}
        },
        {
          "output_type": "stream",
          "name": "stdout",
          "text": [
            "\n",
            "Possibility #116\n"
          ]
        },
        {
          "output_type": "display_data",
          "data": {
            "text/plain": [
              "<IPython.core.display.Math object>"
            ],
            "text/latex": "$\\displaystyle \\textbf{Coefficient Values:}\\\\a_{1,1} = 2,\\; a_{1,2} = 2,\\; a_{1,3} = 1\\\\a_{2,1} = 1,\\; a_{2,2} = 3,\\; a_{2,3} = 3\\\\a_{3,1} = 3,\\; a_{3,2} = 1,\\; a_{3,3} = 2\\\\[1em]\\textbf{Variable Values:}\\\\x_{1} = 25000,\\; x_{2} = 25500,\\; x_{3} = 27000\\\\[1em]\\begin{cases} 2x_{1} + 2x_{2} + x_{3} = 128000\\\\ x_{1} + 3x_{2} + 3x_{3} = 182500\\\\ 3x_{1} + x_{2} + 2x_{3} = 154500\\end{cases}$"
          },
          "metadata": {}
        },
        {
          "output_type": "stream",
          "name": "stdout",
          "text": [
            "\n",
            "Possibility #117\n"
          ]
        },
        {
          "output_type": "display_data",
          "data": {
            "text/plain": [
              "<IPython.core.display.Math object>"
            ],
            "text/latex": "$\\displaystyle \\textbf{Coefficient Values:}\\\\a_{1,1} = 2,\\; a_{1,2} = 2,\\; a_{1,3} = 1\\\\a_{2,1} = 3,\\; a_{2,2} = 1,\\; a_{2,3} = 2\\\\a_{3,1} = 1,\\; a_{3,2} = 3,\\; a_{3,3} = 3\\\\[1em]\\textbf{Variable Values:}\\\\x_{1} = 25000,\\; x_{2} = 25500,\\; x_{3} = 26000\\\\[1em]\\begin{cases} 2x_{1} + 2x_{2} + x_{3} = 127000\\\\ 3x_{1} + x_{2} + 2x_{3} = 152500\\\\ x_{1} + 3x_{2} + 3x_{3} = 179500\\end{cases}$"
          },
          "metadata": {}
        },
        {
          "output_type": "stream",
          "name": "stdout",
          "text": [
            "\n",
            "Possibility #118\n"
          ]
        },
        {
          "output_type": "display_data",
          "data": {
            "text/plain": [
              "<IPython.core.display.Math object>"
            ],
            "text/latex": "$\\displaystyle \\textbf{Coefficient Values:}\\\\a_{1,1} = 2,\\; a_{1,2} = 2,\\; a_{1,3} = 1\\\\a_{2,1} = 3,\\; a_{2,2} = 1,\\; a_{2,3} = 2\\\\a_{3,1} = 1,\\; a_{3,2} = 3,\\; a_{3,3} = 3\\\\[1em]\\textbf{Variable Values:}\\\\x_{1} = 25000,\\; x_{2} = 25500,\\; x_{3} = 27000\\\\[1em]\\begin{cases} 2x_{1} + 2x_{2} + x_{3} = 128000\\\\ 3x_{1} + x_{2} + 2x_{3} = 154500\\\\ x_{1} + 3x_{2} + 3x_{3} = 182500\\end{cases}$"
          },
          "metadata": {}
        },
        {
          "output_type": "stream",
          "name": "stdout",
          "text": [
            "\n",
            "Possibility #119\n"
          ]
        },
        {
          "output_type": "display_data",
          "data": {
            "text/plain": [
              "<IPython.core.display.Math object>"
            ],
            "text/latex": "$\\displaystyle \\textbf{Coefficient Values:}\\\\a_{1,1} = 2,\\; a_{1,2} = 2,\\; a_{1,3} = 1\\\\a_{2,1} = 3,\\; a_{2,2} = 1,\\; a_{2,3} = 3\\\\a_{3,1} = 1,\\; a_{3,2} = 3,\\; a_{3,3} = 2\\\\[1em]\\textbf{Variable Values:}\\\\x_{1} = 25000,\\; x_{2} = 25500,\\; x_{3} = 26000\\\\[1em]\\begin{cases} 2x_{1} + 2x_{2} + x_{3} = 127000\\\\ 3x_{1} + x_{2} + 3x_{3} = 178500\\\\ x_{1} + 3x_{2} + 2x_{3} = 153500\\end{cases}$"
          },
          "metadata": {}
        },
        {
          "output_type": "stream",
          "name": "stdout",
          "text": [
            "\n",
            "Possibility #120\n"
          ]
        },
        {
          "output_type": "display_data",
          "data": {
            "text/plain": [
              "<IPython.core.display.Math object>"
            ],
            "text/latex": "$\\displaystyle \\textbf{Coefficient Values:}\\\\a_{1,1} = 2,\\; a_{1,2} = 2,\\; a_{1,3} = 1\\\\a_{2,1} = 3,\\; a_{2,2} = 1,\\; a_{2,3} = 3\\\\a_{3,1} = 1,\\; a_{3,2} = 3,\\; a_{3,3} = 2\\\\[1em]\\textbf{Variable Values:}\\\\x_{1} = 25000,\\; x_{2} = 25500,\\; x_{3} = 27000\\\\[1em]\\begin{cases} 2x_{1} + 2x_{2} + x_{3} = 128000\\\\ 3x_{1} + x_{2} + 3x_{3} = 181500\\\\ x_{1} + 3x_{2} + 2x_{3} = 155500\\end{cases}$"
          },
          "metadata": {}
        },
        {
          "output_type": "stream",
          "name": "stdout",
          "text": [
            "\n",
            "Possibility #121\n"
          ]
        },
        {
          "output_type": "display_data",
          "data": {
            "text/plain": [
              "<IPython.core.display.Math object>"
            ],
            "text/latex": "$\\displaystyle \\textbf{Coefficient Values:}\\\\a_{1,1} = 2,\\; a_{1,2} = 2,\\; a_{1,3} = 3\\\\a_{2,1} = 1,\\; a_{2,2} = 3,\\; a_{2,3} = 1\\\\a_{3,1} = 3,\\; a_{3,2} = 1,\\; a_{3,3} = 2\\\\[1em]\\textbf{Variable Values:}\\\\x_{1} = 25000,\\; x_{2} = 25500,\\; x_{3} = 26000\\\\[1em]\\begin{cases} 2x_{1} + 2x_{2} + 3x_{3} = 179000\\\\ x_{1} + 3x_{2} + x_{3} = 127500\\\\ 3x_{1} + x_{2} + 2x_{3} = 152500\\end{cases}$"
          },
          "metadata": {}
        },
        {
          "output_type": "stream",
          "name": "stdout",
          "text": [
            "\n",
            "Possibility #122\n"
          ]
        },
        {
          "output_type": "display_data",
          "data": {
            "text/plain": [
              "<IPython.core.display.Math object>"
            ],
            "text/latex": "$\\displaystyle \\textbf{Coefficient Values:}\\\\a_{1,1} = 2,\\; a_{1,2} = 2,\\; a_{1,3} = 3\\\\a_{2,1} = 1,\\; a_{2,2} = 3,\\; a_{2,3} = 1\\\\a_{3,1} = 3,\\; a_{3,2} = 1,\\; a_{3,3} = 2\\\\[1em]\\textbf{Variable Values:}\\\\x_{1} = 25000,\\; x_{2} = 25500,\\; x_{3} = 27000\\\\[1em]\\begin{cases} 2x_{1} + 2x_{2} + 3x_{3} = 182000\\\\ x_{1} + 3x_{2} + x_{3} = 128500\\\\ 3x_{1} + x_{2} + 2x_{3} = 154500\\end{cases}$"
          },
          "metadata": {}
        },
        {
          "output_type": "stream",
          "name": "stdout",
          "text": [
            "\n",
            "Possibility #123\n"
          ]
        },
        {
          "output_type": "display_data",
          "data": {
            "text/plain": [
              "<IPython.core.display.Math object>"
            ],
            "text/latex": "$\\displaystyle \\textbf{Coefficient Values:}\\\\a_{1,1} = 2,\\; a_{1,2} = 2,\\; a_{1,3} = 3\\\\a_{2,1} = 1,\\; a_{2,2} = 3,\\; a_{2,3} = 2\\\\a_{3,1} = 3,\\; a_{3,2} = 1,\\; a_{3,3} = 1\\\\[1em]\\textbf{Variable Values:}\\\\x_{1} = 25000,\\; x_{2} = 25500,\\; x_{3} = 26000\\\\[1em]\\begin{cases} 2x_{1} + 2x_{2} + 3x_{3} = 179000\\\\ x_{1} + 3x_{2} + 2x_{3} = 153500\\\\ 3x_{1} + x_{2} + x_{3} = 126500\\end{cases}$"
          },
          "metadata": {}
        },
        {
          "output_type": "stream",
          "name": "stdout",
          "text": [
            "\n",
            "Possibility #124\n"
          ]
        },
        {
          "output_type": "display_data",
          "data": {
            "text/plain": [
              "<IPython.core.display.Math object>"
            ],
            "text/latex": "$\\displaystyle \\textbf{Coefficient Values:}\\\\a_{1,1} = 2,\\; a_{1,2} = 2,\\; a_{1,3} = 3\\\\a_{2,1} = 1,\\; a_{2,2} = 3,\\; a_{2,3} = 2\\\\a_{3,1} = 3,\\; a_{3,2} = 1,\\; a_{3,3} = 1\\\\[1em]\\textbf{Variable Values:}\\\\x_{1} = 25000,\\; x_{2} = 25500,\\; x_{3} = 27000\\\\[1em]\\begin{cases} 2x_{1} + 2x_{2} + 3x_{3} = 182000\\\\ x_{1} + 3x_{2} + 2x_{3} = 155500\\\\ 3x_{1} + x_{2} + x_{3} = 127500\\end{cases}$"
          },
          "metadata": {}
        },
        {
          "output_type": "stream",
          "name": "stdout",
          "text": [
            "\n",
            "Possibility #125\n"
          ]
        },
        {
          "output_type": "display_data",
          "data": {
            "text/plain": [
              "<IPython.core.display.Math object>"
            ],
            "text/latex": "$\\displaystyle \\textbf{Coefficient Values:}\\\\a_{1,1} = 2,\\; a_{1,2} = 2,\\; a_{1,3} = 3\\\\a_{2,1} = 3,\\; a_{2,2} = 1,\\; a_{2,3} = 1\\\\a_{3,1} = 1,\\; a_{3,2} = 3,\\; a_{3,3} = 2\\\\[1em]\\textbf{Variable Values:}\\\\x_{1} = 25000,\\; x_{2} = 25500,\\; x_{3} = 26000\\\\[1em]\\begin{cases} 2x_{1} + 2x_{2} + 3x_{3} = 179000\\\\ 3x_{1} + x_{2} + x_{3} = 126500\\\\ x_{1} + 3x_{2} + 2x_{3} = 153500\\end{cases}$"
          },
          "metadata": {}
        },
        {
          "output_type": "stream",
          "name": "stdout",
          "text": [
            "\n",
            "Possibility #126\n"
          ]
        },
        {
          "output_type": "display_data",
          "data": {
            "text/plain": [
              "<IPython.core.display.Math object>"
            ],
            "text/latex": "$\\displaystyle \\textbf{Coefficient Values:}\\\\a_{1,1} = 2,\\; a_{1,2} = 2,\\; a_{1,3} = 3\\\\a_{2,1} = 3,\\; a_{2,2} = 1,\\; a_{2,3} = 1\\\\a_{3,1} = 1,\\; a_{3,2} = 3,\\; a_{3,3} = 2\\\\[1em]\\textbf{Variable Values:}\\\\x_{1} = 25000,\\; x_{2} = 25500,\\; x_{3} = 27000\\\\[1em]\\begin{cases} 2x_{1} + 2x_{2} + 3x_{3} = 182000\\\\ 3x_{1} + x_{2} + x_{3} = 127500\\\\ x_{1} + 3x_{2} + 2x_{3} = 155500\\end{cases}$"
          },
          "metadata": {}
        },
        {
          "output_type": "stream",
          "name": "stdout",
          "text": [
            "\n",
            "Possibility #127\n"
          ]
        },
        {
          "output_type": "display_data",
          "data": {
            "text/plain": [
              "<IPython.core.display.Math object>"
            ],
            "text/latex": "$\\displaystyle \\textbf{Coefficient Values:}\\\\a_{1,1} = 2,\\; a_{1,2} = 2,\\; a_{1,3} = 3\\\\a_{2,1} = 3,\\; a_{2,2} = 1,\\; a_{2,3} = 2\\\\a_{3,1} = 1,\\; a_{3,2} = 3,\\; a_{3,3} = 1\\\\[1em]\\textbf{Variable Values:}\\\\x_{1} = 25000,\\; x_{2} = 25500,\\; x_{3} = 26000\\\\[1em]\\begin{cases} 2x_{1} + 2x_{2} + 3x_{3} = 179000\\\\ 3x_{1} + x_{2} + 2x_{3} = 152500\\\\ x_{1} + 3x_{2} + x_{3} = 127500\\end{cases}$"
          },
          "metadata": {}
        },
        {
          "output_type": "stream",
          "name": "stdout",
          "text": [
            "\n",
            "Possibility #128\n"
          ]
        },
        {
          "output_type": "display_data",
          "data": {
            "text/plain": [
              "<IPython.core.display.Math object>"
            ],
            "text/latex": "$\\displaystyle \\textbf{Coefficient Values:}\\\\a_{1,1} = 2,\\; a_{1,2} = 2,\\; a_{1,3} = 3\\\\a_{2,1} = 3,\\; a_{2,2} = 1,\\; a_{2,3} = 2\\\\a_{3,1} = 1,\\; a_{3,2} = 3,\\; a_{3,3} = 1\\\\[1em]\\textbf{Variable Values:}\\\\x_{1} = 25000,\\; x_{2} = 25500,\\; x_{3} = 27000\\\\[1em]\\begin{cases} 2x_{1} + 2x_{2} + 3x_{3} = 182000\\\\ 3x_{1} + x_{2} + 2x_{3} = 154500\\\\ x_{1} + 3x_{2} + x_{3} = 128500\\end{cases}$"
          },
          "metadata": {}
        },
        {
          "output_type": "stream",
          "name": "stdout",
          "text": [
            "\n",
            "Possibility #129\n"
          ]
        },
        {
          "output_type": "display_data",
          "data": {
            "text/plain": [
              "<IPython.core.display.Math object>"
            ],
            "text/latex": "$\\displaystyle \\textbf{Coefficient Values:}\\\\a_{1,1} = 2,\\; a_{1,2} = 3,\\; a_{1,3} = 1\\\\a_{2,1} = 1,\\; a_{2,2} = 1,\\; a_{2,3} = 2\\\\a_{3,1} = 3,\\; a_{3,2} = 2,\\; a_{3,3} = 3\\\\[1em]\\textbf{Variable Values:}\\\\x_{1} = 25000,\\; x_{2} = 25500,\\; x_{3} = 26000\\\\[1em]\\begin{cases} 2x_{1} + 3x_{2} + x_{3} = 152500\\\\ x_{1} + x_{2} + 2x_{3} = 102500\\\\ 3x_{1} + 2x_{2} + 3x_{3} = 204000\\end{cases}$"
          },
          "metadata": {}
        },
        {
          "output_type": "stream",
          "name": "stdout",
          "text": [
            "\n",
            "Possibility #130\n"
          ]
        },
        {
          "output_type": "display_data",
          "data": {
            "text/plain": [
              "<IPython.core.display.Math object>"
            ],
            "text/latex": "$\\displaystyle \\textbf{Coefficient Values:}\\\\a_{1,1} = 2,\\; a_{1,2} = 3,\\; a_{1,3} = 1\\\\a_{2,1} = 1,\\; a_{2,2} = 1,\\; a_{2,3} = 2\\\\a_{3,1} = 3,\\; a_{3,2} = 2,\\; a_{3,3} = 3\\\\[1em]\\textbf{Variable Values:}\\\\x_{1} = 25000,\\; x_{2} = 25500,\\; x_{3} = 27000\\\\[1em]\\begin{cases} 2x_{1} + 3x_{2} + x_{3} = 153500\\\\ x_{1} + x_{2} + 2x_{3} = 104500\\\\ 3x_{1} + 2x_{2} + 3x_{3} = 207000\\end{cases}$"
          },
          "metadata": {}
        },
        {
          "output_type": "stream",
          "name": "stdout",
          "text": [
            "\n",
            "Possibility #131\n"
          ]
        },
        {
          "output_type": "display_data",
          "data": {
            "text/plain": [
              "<IPython.core.display.Math object>"
            ],
            "text/latex": "$\\displaystyle \\textbf{Coefficient Values:}\\\\a_{1,1} = 2,\\; a_{1,2} = 3,\\; a_{1,3} = 1\\\\a_{2,1} = 1,\\; a_{2,2} = 1,\\; a_{2,3} = 3\\\\a_{3,1} = 3,\\; a_{3,2} = 2,\\; a_{3,3} = 2\\\\[1em]\\textbf{Variable Values:}\\\\x_{1} = 25000,\\; x_{2} = 25500,\\; x_{3} = 26000\\\\[1em]\\begin{cases} 2x_{1} + 3x_{2} + x_{3} = 152500\\\\ x_{1} + x_{2} + 3x_{3} = 128500\\\\ 3x_{1} + 2x_{2} + 2x_{3} = 178000\\end{cases}$"
          },
          "metadata": {}
        },
        {
          "output_type": "stream",
          "name": "stdout",
          "text": [
            "\n",
            "Possibility #132\n"
          ]
        },
        {
          "output_type": "display_data",
          "data": {
            "text/plain": [
              "<IPython.core.display.Math object>"
            ],
            "text/latex": "$\\displaystyle \\textbf{Coefficient Values:}\\\\a_{1,1} = 2,\\; a_{1,2} = 3,\\; a_{1,3} = 1\\\\a_{2,1} = 1,\\; a_{2,2} = 1,\\; a_{2,3} = 3\\\\a_{3,1} = 3,\\; a_{3,2} = 2,\\; a_{3,3} = 2\\\\[1em]\\textbf{Variable Values:}\\\\x_{1} = 25000,\\; x_{2} = 25500,\\; x_{3} = 27000\\\\[1em]\\begin{cases} 2x_{1} + 3x_{2} + x_{3} = 153500\\\\ x_{1} + x_{2} + 3x_{3} = 131500\\\\ 3x_{1} + 2x_{2} + 2x_{3} = 180000\\end{cases}$"
          },
          "metadata": {}
        },
        {
          "output_type": "stream",
          "name": "stdout",
          "text": [
            "\n",
            "Possibility #133\n"
          ]
        },
        {
          "output_type": "display_data",
          "data": {
            "text/plain": [
              "<IPython.core.display.Math object>"
            ],
            "text/latex": "$\\displaystyle \\textbf{Coefficient Values:}\\\\a_{1,1} = 2,\\; a_{1,2} = 3,\\; a_{1,3} = 1\\\\a_{2,1} = 1,\\; a_{2,2} = 2,\\; a_{2,3} = 2\\\\a_{3,1} = 3,\\; a_{3,2} = 1,\\; a_{3,3} = 3\\\\[1em]\\textbf{Variable Values:}\\\\x_{1} = 25000,\\; x_{2} = 25500,\\; x_{3} = 26000\\\\[1em]\\begin{cases} 2x_{1} + 3x_{2} + x_{3} = 152500\\\\ x_{1} + 2x_{2} + 2x_{3} = 128000\\\\ 3x_{1} + x_{2} + 3x_{3} = 178500\\end{cases}$"
          },
          "metadata": {}
        },
        {
          "output_type": "stream",
          "name": "stdout",
          "text": [
            "\n",
            "Possibility #134\n"
          ]
        },
        {
          "output_type": "display_data",
          "data": {
            "text/plain": [
              "<IPython.core.display.Math object>"
            ],
            "text/latex": "$\\displaystyle \\textbf{Coefficient Values:}\\\\a_{1,1} = 2,\\; a_{1,2} = 3,\\; a_{1,3} = 1\\\\a_{2,1} = 1,\\; a_{2,2} = 2,\\; a_{2,3} = 2\\\\a_{3,1} = 3,\\; a_{3,2} = 1,\\; a_{3,3} = 3\\\\[1em]\\textbf{Variable Values:}\\\\x_{1} = 25000,\\; x_{2} = 25500,\\; x_{3} = 27000\\\\[1em]\\begin{cases} 2x_{1} + 3x_{2} + x_{3} = 153500\\\\ x_{1} + 2x_{2} + 2x_{3} = 130000\\\\ 3x_{1} + x_{2} + 3x_{3} = 181500\\end{cases}$"
          },
          "metadata": {}
        },
        {
          "output_type": "stream",
          "name": "stdout",
          "text": [
            "\n",
            "Possibility #135\n"
          ]
        },
        {
          "output_type": "display_data",
          "data": {
            "text/plain": [
              "<IPython.core.display.Math object>"
            ],
            "text/latex": "$\\displaystyle \\textbf{Coefficient Values:}\\\\a_{1,1} = 2,\\; a_{1,2} = 3,\\; a_{1,3} = 1\\\\a_{2,1} = 1,\\; a_{2,2} = 2,\\; a_{2,3} = 3\\\\a_{3,1} = 3,\\; a_{3,2} = 1,\\; a_{3,3} = 2\\\\[1em]\\textbf{Variable Values:}\\\\x_{1} = 25000,\\; x_{2} = 25500,\\; x_{3} = 26000\\\\[1em]\\begin{cases} 2x_{1} + 3x_{2} + x_{3} = 152500\\\\ x_{1} + 2x_{2} + 3x_{3} = 154000\\\\ 3x_{1} + x_{2} + 2x_{3} = 152500\\end{cases}$"
          },
          "metadata": {}
        },
        {
          "output_type": "stream",
          "name": "stdout",
          "text": [
            "\n",
            "Possibility #136\n"
          ]
        },
        {
          "output_type": "display_data",
          "data": {
            "text/plain": [
              "<IPython.core.display.Math object>"
            ],
            "text/latex": "$\\displaystyle \\textbf{Coefficient Values:}\\\\a_{1,1} = 2,\\; a_{1,2} = 3,\\; a_{1,3} = 1\\\\a_{2,1} = 1,\\; a_{2,2} = 2,\\; a_{2,3} = 3\\\\a_{3,1} = 3,\\; a_{3,2} = 1,\\; a_{3,3} = 2\\\\[1em]\\textbf{Variable Values:}\\\\x_{1} = 25000,\\; x_{2} = 25500,\\; x_{3} = 27000\\\\[1em]\\begin{cases} 2x_{1} + 3x_{2} + x_{3} = 153500\\\\ x_{1} + 2x_{2} + 3x_{3} = 157000\\\\ 3x_{1} + x_{2} + 2x_{3} = 154500\\end{cases}$"
          },
          "metadata": {}
        },
        {
          "output_type": "stream",
          "name": "stdout",
          "text": [
            "\n",
            "Possibility #137\n"
          ]
        },
        {
          "output_type": "display_data",
          "data": {
            "text/plain": [
              "<IPython.core.display.Math object>"
            ],
            "text/latex": "$\\displaystyle \\textbf{Coefficient Values:}\\\\a_{1,1} = 2,\\; a_{1,2} = 3,\\; a_{1,3} = 1\\\\a_{2,1} = 3,\\; a_{2,2} = 1,\\; a_{2,3} = 2\\\\a_{3,1} = 1,\\; a_{3,2} = 2,\\; a_{3,3} = 3\\\\[1em]\\textbf{Variable Values:}\\\\x_{1} = 25000,\\; x_{2} = 25500,\\; x_{3} = 26000\\\\[1em]\\begin{cases} 2x_{1} + 3x_{2} + x_{3} = 152500\\\\ 3x_{1} + x_{2} + 2x_{3} = 152500\\\\ x_{1} + 2x_{2} + 3x_{3} = 154000\\end{cases}$"
          },
          "metadata": {}
        },
        {
          "output_type": "stream",
          "name": "stdout",
          "text": [
            "\n",
            "Possibility #138\n"
          ]
        },
        {
          "output_type": "display_data",
          "data": {
            "text/plain": [
              "<IPython.core.display.Math object>"
            ],
            "text/latex": "$\\displaystyle \\textbf{Coefficient Values:}\\\\a_{1,1} = 2,\\; a_{1,2} = 3,\\; a_{1,3} = 1\\\\a_{2,1} = 3,\\; a_{2,2} = 1,\\; a_{2,3} = 2\\\\a_{3,1} = 1,\\; a_{3,2} = 2,\\; a_{3,3} = 3\\\\[1em]\\textbf{Variable Values:}\\\\x_{1} = 25000,\\; x_{2} = 25500,\\; x_{3} = 27000\\\\[1em]\\begin{cases} 2x_{1} + 3x_{2} + x_{3} = 153500\\\\ 3x_{1} + x_{2} + 2x_{3} = 154500\\\\ x_{1} + 2x_{2} + 3x_{3} = 157000\\end{cases}$"
          },
          "metadata": {}
        },
        {
          "output_type": "stream",
          "name": "stdout",
          "text": [
            "\n",
            "Possibility #139\n"
          ]
        },
        {
          "output_type": "display_data",
          "data": {
            "text/plain": [
              "<IPython.core.display.Math object>"
            ],
            "text/latex": "$\\displaystyle \\textbf{Coefficient Values:}\\\\a_{1,1} = 2,\\; a_{1,2} = 3,\\; a_{1,3} = 1\\\\a_{2,1} = 3,\\; a_{2,2} = 1,\\; a_{2,3} = 3\\\\a_{3,1} = 1,\\; a_{3,2} = 2,\\; a_{3,3} = 2\\\\[1em]\\textbf{Variable Values:}\\\\x_{1} = 25000,\\; x_{2} = 25500,\\; x_{3} = 26000\\\\[1em]\\begin{cases} 2x_{1} + 3x_{2} + x_{3} = 152500\\\\ 3x_{1} + x_{2} + 3x_{3} = 178500\\\\ x_{1} + 2x_{2} + 2x_{3} = 128000\\end{cases}$"
          },
          "metadata": {}
        },
        {
          "output_type": "stream",
          "name": "stdout",
          "text": [
            "\n",
            "Possibility #140\n"
          ]
        },
        {
          "output_type": "display_data",
          "data": {
            "text/plain": [
              "<IPython.core.display.Math object>"
            ],
            "text/latex": "$\\displaystyle \\textbf{Coefficient Values:}\\\\a_{1,1} = 2,\\; a_{1,2} = 3,\\; a_{1,3} = 1\\\\a_{2,1} = 3,\\; a_{2,2} = 1,\\; a_{2,3} = 3\\\\a_{3,1} = 1,\\; a_{3,2} = 2,\\; a_{3,3} = 2\\\\[1em]\\textbf{Variable Values:}\\\\x_{1} = 25000,\\; x_{2} = 25500,\\; x_{3} = 27000\\\\[1em]\\begin{cases} 2x_{1} + 3x_{2} + x_{3} = 153500\\\\ 3x_{1} + x_{2} + 3x_{3} = 181500\\\\ x_{1} + 2x_{2} + 2x_{3} = 130000\\end{cases}$"
          },
          "metadata": {}
        },
        {
          "output_type": "stream",
          "name": "stdout",
          "text": [
            "\n",
            "Possibility #141\n"
          ]
        },
        {
          "output_type": "display_data",
          "data": {
            "text/plain": [
              "<IPython.core.display.Math object>"
            ],
            "text/latex": "$\\displaystyle \\textbf{Coefficient Values:}\\\\a_{1,1} = 2,\\; a_{1,2} = 3,\\; a_{1,3} = 1\\\\a_{2,1} = 3,\\; a_{2,2} = 2,\\; a_{2,3} = 2\\\\a_{3,1} = 1,\\; a_{3,2} = 1,\\; a_{3,3} = 3\\\\[1em]\\textbf{Variable Values:}\\\\x_{1} = 25000,\\; x_{2} = 25500,\\; x_{3} = 26000\\\\[1em]\\begin{cases} 2x_{1} + 3x_{2} + x_{3} = 152500\\\\ 3x_{1} + 2x_{2} + 2x_{3} = 178000\\\\ x_{1} + x_{2} + 3x_{3} = 128500\\end{cases}$"
          },
          "metadata": {}
        },
        {
          "output_type": "stream",
          "name": "stdout",
          "text": [
            "\n",
            "Possibility #142\n"
          ]
        },
        {
          "output_type": "display_data",
          "data": {
            "text/plain": [
              "<IPython.core.display.Math object>"
            ],
            "text/latex": "$\\displaystyle \\textbf{Coefficient Values:}\\\\a_{1,1} = 2,\\; a_{1,2} = 3,\\; a_{1,3} = 1\\\\a_{2,1} = 3,\\; a_{2,2} = 2,\\; a_{2,3} = 2\\\\a_{3,1} = 1,\\; a_{3,2} = 1,\\; a_{3,3} = 3\\\\[1em]\\textbf{Variable Values:}\\\\x_{1} = 25000,\\; x_{2} = 25500,\\; x_{3} = 27000\\\\[1em]\\begin{cases} 2x_{1} + 3x_{2} + x_{3} = 153500\\\\ 3x_{1} + 2x_{2} + 2x_{3} = 180000\\\\ x_{1} + x_{2} + 3x_{3} = 131500\\end{cases}$"
          },
          "metadata": {}
        },
        {
          "output_type": "stream",
          "name": "stdout",
          "text": [
            "\n",
            "Possibility #143\n"
          ]
        },
        {
          "output_type": "display_data",
          "data": {
            "text/plain": [
              "<IPython.core.display.Math object>"
            ],
            "text/latex": "$\\displaystyle \\textbf{Coefficient Values:}\\\\a_{1,1} = 2,\\; a_{1,2} = 3,\\; a_{1,3} = 1\\\\a_{2,1} = 3,\\; a_{2,2} = 2,\\; a_{2,3} = 3\\\\a_{3,1} = 1,\\; a_{3,2} = 1,\\; a_{3,3} = 2\\\\[1em]\\textbf{Variable Values:}\\\\x_{1} = 25000,\\; x_{2} = 25500,\\; x_{3} = 26000\\\\[1em]\\begin{cases} 2x_{1} + 3x_{2} + x_{3} = 152500\\\\ 3x_{1} + 2x_{2} + 3x_{3} = 204000\\\\ x_{1} + x_{2} + 2x_{3} = 102500\\end{cases}$"
          },
          "metadata": {}
        },
        {
          "output_type": "stream",
          "name": "stdout",
          "text": [
            "\n",
            "Possibility #144\n"
          ]
        },
        {
          "output_type": "display_data",
          "data": {
            "text/plain": [
              "<IPython.core.display.Math object>"
            ],
            "text/latex": "$\\displaystyle \\textbf{Coefficient Values:}\\\\a_{1,1} = 2,\\; a_{1,2} = 3,\\; a_{1,3} = 1\\\\a_{2,1} = 3,\\; a_{2,2} = 2,\\; a_{2,3} = 3\\\\a_{3,1} = 1,\\; a_{3,2} = 1,\\; a_{3,3} = 2\\\\[1em]\\textbf{Variable Values:}\\\\x_{1} = 25000,\\; x_{2} = 25500,\\; x_{3} = 27000\\\\[1em]\\begin{cases} 2x_{1} + 3x_{2} + x_{3} = 153500\\\\ 3x_{1} + 2x_{2} + 3x_{3} = 207000\\\\ x_{1} + x_{2} + 2x_{3} = 104500\\end{cases}$"
          },
          "metadata": {}
        },
        {
          "output_type": "stream",
          "name": "stdout",
          "text": [
            "\n",
            "Possibility #145\n"
          ]
        },
        {
          "output_type": "display_data",
          "data": {
            "text/plain": [
              "<IPython.core.display.Math object>"
            ],
            "text/latex": "$\\displaystyle \\textbf{Coefficient Values:}\\\\a_{1,1} = 2,\\; a_{1,2} = 3,\\; a_{1,3} = 2\\\\a_{2,1} = 1,\\; a_{2,2} = 1,\\; a_{2,3} = 3\\\\a_{3,1} = 3,\\; a_{3,2} = 2,\\; a_{3,3} = 1\\\\[1em]\\textbf{Variable Values:}\\\\x_{1} = 25000,\\; x_{2} = 25500,\\; x_{3} = 26000\\\\[1em]\\begin{cases} 2x_{1} + 3x_{2} + 2x_{3} = 178500\\\\ x_{1} + x_{2} + 3x_{3} = 128500\\\\ 3x_{1} + 2x_{2} + x_{3} = 152000\\end{cases}$"
          },
          "metadata": {}
        },
        {
          "output_type": "stream",
          "name": "stdout",
          "text": [
            "\n",
            "Possibility #146\n"
          ]
        },
        {
          "output_type": "display_data",
          "data": {
            "text/plain": [
              "<IPython.core.display.Math object>"
            ],
            "text/latex": "$\\displaystyle \\textbf{Coefficient Values:}\\\\a_{1,1} = 2,\\; a_{1,2} = 3,\\; a_{1,3} = 2\\\\a_{2,1} = 1,\\; a_{2,2} = 1,\\; a_{2,3} = 3\\\\a_{3,1} = 3,\\; a_{3,2} = 2,\\; a_{3,3} = 1\\\\[1em]\\textbf{Variable Values:}\\\\x_{1} = 25000,\\; x_{2} = 25500,\\; x_{3} = 27000\\\\[1em]\\begin{cases} 2x_{1} + 3x_{2} + 2x_{3} = 180500\\\\ x_{1} + x_{2} + 3x_{3} = 131500\\\\ 3x_{1} + 2x_{2} + x_{3} = 153000\\end{cases}$"
          },
          "metadata": {}
        },
        {
          "output_type": "stream",
          "name": "stdout",
          "text": [
            "\n",
            "Possibility #147\n"
          ]
        },
        {
          "output_type": "display_data",
          "data": {
            "text/plain": [
              "<IPython.core.display.Math object>"
            ],
            "text/latex": "$\\displaystyle \\textbf{Coefficient Values:}\\\\a_{1,1} = 2,\\; a_{1,2} = 3,\\; a_{1,3} = 2\\\\a_{2,1} = 1,\\; a_{2,2} = 2,\\; a_{2,3} = 3\\\\a_{3,1} = 3,\\; a_{3,2} = 1,\\; a_{3,3} = 1\\\\[1em]\\textbf{Variable Values:}\\\\x_{1} = 25000,\\; x_{2} = 25500,\\; x_{3} = 26000\\\\[1em]\\begin{cases} 2x_{1} + 3x_{2} + 2x_{3} = 178500\\\\ x_{1} + 2x_{2} + 3x_{3} = 154000\\\\ 3x_{1} + x_{2} + x_{3} = 126500\\end{cases}$"
          },
          "metadata": {}
        },
        {
          "output_type": "stream",
          "name": "stdout",
          "text": [
            "\n",
            "Possibility #148\n"
          ]
        },
        {
          "output_type": "display_data",
          "data": {
            "text/plain": [
              "<IPython.core.display.Math object>"
            ],
            "text/latex": "$\\displaystyle \\textbf{Coefficient Values:}\\\\a_{1,1} = 2,\\; a_{1,2} = 3,\\; a_{1,3} = 2\\\\a_{2,1} = 1,\\; a_{2,2} = 2,\\; a_{2,3} = 3\\\\a_{3,1} = 3,\\; a_{3,2} = 1,\\; a_{3,3} = 1\\\\[1em]\\textbf{Variable Values:}\\\\x_{1} = 25000,\\; x_{2} = 25500,\\; x_{3} = 27000\\\\[1em]\\begin{cases} 2x_{1} + 3x_{2} + 2x_{3} = 180500\\\\ x_{1} + 2x_{2} + 3x_{3} = 157000\\\\ 3x_{1} + x_{2} + x_{3} = 127500\\end{cases}$"
          },
          "metadata": {}
        },
        {
          "output_type": "stream",
          "name": "stdout",
          "text": [
            "\n",
            "Possibility #149\n"
          ]
        },
        {
          "output_type": "display_data",
          "data": {
            "text/plain": [
              "<IPython.core.display.Math object>"
            ],
            "text/latex": "$\\displaystyle \\textbf{Coefficient Values:}\\\\a_{1,1} = 2,\\; a_{1,2} = 3,\\; a_{1,3} = 2\\\\a_{2,1} = 3,\\; a_{2,2} = 1,\\; a_{2,3} = 1\\\\a_{3,1} = 1,\\; a_{3,2} = 2,\\; a_{3,3} = 3\\\\[1em]\\textbf{Variable Values:}\\\\x_{1} = 25000,\\; x_{2} = 25500,\\; x_{3} = 26000\\\\[1em]\\begin{cases} 2x_{1} + 3x_{2} + 2x_{3} = 178500\\\\ 3x_{1} + x_{2} + x_{3} = 126500\\\\ x_{1} + 2x_{2} + 3x_{3} = 154000\\end{cases}$"
          },
          "metadata": {}
        },
        {
          "output_type": "stream",
          "name": "stdout",
          "text": [
            "\n",
            "Possibility #150\n"
          ]
        },
        {
          "output_type": "display_data",
          "data": {
            "text/plain": [
              "<IPython.core.display.Math object>"
            ],
            "text/latex": "$\\displaystyle \\textbf{Coefficient Values:}\\\\a_{1,1} = 2,\\; a_{1,2} = 3,\\; a_{1,3} = 2\\\\a_{2,1} = 3,\\; a_{2,2} = 1,\\; a_{2,3} = 1\\\\a_{3,1} = 1,\\; a_{3,2} = 2,\\; a_{3,3} = 3\\\\[1em]\\textbf{Variable Values:}\\\\x_{1} = 25000,\\; x_{2} = 25500,\\; x_{3} = 27000\\\\[1em]\\begin{cases} 2x_{1} + 3x_{2} + 2x_{3} = 180500\\\\ 3x_{1} + x_{2} + x_{3} = 127500\\\\ x_{1} + 2x_{2} + 3x_{3} = 157000\\end{cases}$"
          },
          "metadata": {}
        },
        {
          "output_type": "stream",
          "name": "stdout",
          "text": [
            "\n",
            "Possibility #151\n"
          ]
        },
        {
          "output_type": "display_data",
          "data": {
            "text/plain": [
              "<IPython.core.display.Math object>"
            ],
            "text/latex": "$\\displaystyle \\textbf{Coefficient Values:}\\\\a_{1,1} = 2,\\; a_{1,2} = 3,\\; a_{1,3} = 2\\\\a_{2,1} = 3,\\; a_{2,2} = 2,\\; a_{2,3} = 1\\\\a_{3,1} = 1,\\; a_{3,2} = 1,\\; a_{3,3} = 3\\\\[1em]\\textbf{Variable Values:}\\\\x_{1} = 25000,\\; x_{2} = 25500,\\; x_{3} = 26000\\\\[1em]\\begin{cases} 2x_{1} + 3x_{2} + 2x_{3} = 178500\\\\ 3x_{1} + 2x_{2} + x_{3} = 152000\\\\ x_{1} + x_{2} + 3x_{3} = 128500\\end{cases}$"
          },
          "metadata": {}
        },
        {
          "output_type": "stream",
          "name": "stdout",
          "text": [
            "\n",
            "Possibility #152\n"
          ]
        },
        {
          "output_type": "display_data",
          "data": {
            "text/plain": [
              "<IPython.core.display.Math object>"
            ],
            "text/latex": "$\\displaystyle \\textbf{Coefficient Values:}\\\\a_{1,1} = 2,\\; a_{1,2} = 3,\\; a_{1,3} = 2\\\\a_{2,1} = 3,\\; a_{2,2} = 2,\\; a_{2,3} = 1\\\\a_{3,1} = 1,\\; a_{3,2} = 1,\\; a_{3,3} = 3\\\\[1em]\\textbf{Variable Values:}\\\\x_{1} = 25000,\\; x_{2} = 25500,\\; x_{3} = 27000\\\\[1em]\\begin{cases} 2x_{1} + 3x_{2} + 2x_{3} = 180500\\\\ 3x_{1} + 2x_{2} + x_{3} = 153000\\\\ x_{1} + x_{2} + 3x_{3} = 131500\\end{cases}$"
          },
          "metadata": {}
        },
        {
          "output_type": "stream",
          "name": "stdout",
          "text": [
            "\n",
            "Possibility #153\n"
          ]
        },
        {
          "output_type": "display_data",
          "data": {
            "text/plain": [
              "<IPython.core.display.Math object>"
            ],
            "text/latex": "$\\displaystyle \\textbf{Coefficient Values:}\\\\a_{1,1} = 2,\\; a_{1,2} = 3,\\; a_{1,3} = 3\\\\a_{2,1} = 1,\\; a_{2,2} = 1,\\; a_{2,3} = 2\\\\a_{3,1} = 3,\\; a_{3,2} = 2,\\; a_{3,3} = 1\\\\[1em]\\textbf{Variable Values:}\\\\x_{1} = 25000,\\; x_{2} = 25500,\\; x_{3} = 26000\\\\[1em]\\begin{cases} 2x_{1} + 3x_{2} + 3x_{3} = 204500\\\\ x_{1} + x_{2} + 2x_{3} = 102500\\\\ 3x_{1} + 2x_{2} + x_{3} = 152000\\end{cases}$"
          },
          "metadata": {}
        },
        {
          "output_type": "stream",
          "name": "stdout",
          "text": [
            "\n",
            "Possibility #154\n"
          ]
        },
        {
          "output_type": "display_data",
          "data": {
            "text/plain": [
              "<IPython.core.display.Math object>"
            ],
            "text/latex": "$\\displaystyle \\textbf{Coefficient Values:}\\\\a_{1,1} = 2,\\; a_{1,2} = 3,\\; a_{1,3} = 3\\\\a_{2,1} = 1,\\; a_{2,2} = 1,\\; a_{2,3} = 2\\\\a_{3,1} = 3,\\; a_{3,2} = 2,\\; a_{3,3} = 1\\\\[1em]\\textbf{Variable Values:}\\\\x_{1} = 25000,\\; x_{2} = 25500,\\; x_{3} = 27000\\\\[1em]\\begin{cases} 2x_{1} + 3x_{2} + 3x_{3} = 207500\\\\ x_{1} + x_{2} + 2x_{3} = 104500\\\\ 3x_{1} + 2x_{2} + x_{3} = 153000\\end{cases}$"
          },
          "metadata": {}
        },
        {
          "output_type": "stream",
          "name": "stdout",
          "text": [
            "\n",
            "Possibility #155\n"
          ]
        },
        {
          "output_type": "display_data",
          "data": {
            "text/plain": [
              "<IPython.core.display.Math object>"
            ],
            "text/latex": "$\\displaystyle \\textbf{Coefficient Values:}\\\\a_{1,1} = 2,\\; a_{1,2} = 3,\\; a_{1,3} = 3\\\\a_{2,1} = 1,\\; a_{2,2} = 2,\\; a_{2,3} = 1\\\\a_{3,1} = 3,\\; a_{3,2} = 1,\\; a_{3,3} = 2\\\\[1em]\\textbf{Variable Values:}\\\\x_{1} = 25000,\\; x_{2} = 25500,\\; x_{3} = 26000\\\\[1em]\\begin{cases} 2x_{1} + 3x_{2} + 3x_{3} = 204500\\\\ x_{1} + 2x_{2} + x_{3} = 102000\\\\ 3x_{1} + x_{2} + 2x_{3} = 152500\\end{cases}$"
          },
          "metadata": {}
        },
        {
          "output_type": "stream",
          "name": "stdout",
          "text": [
            "\n",
            "Possibility #156\n"
          ]
        },
        {
          "output_type": "display_data",
          "data": {
            "text/plain": [
              "<IPython.core.display.Math object>"
            ],
            "text/latex": "$\\displaystyle \\textbf{Coefficient Values:}\\\\a_{1,1} = 2,\\; a_{1,2} = 3,\\; a_{1,3} = 3\\\\a_{2,1} = 1,\\; a_{2,2} = 2,\\; a_{2,3} = 1\\\\a_{3,1} = 3,\\; a_{3,2} = 1,\\; a_{3,3} = 2\\\\[1em]\\textbf{Variable Values:}\\\\x_{1} = 25000,\\; x_{2} = 25500,\\; x_{3} = 27000\\\\[1em]\\begin{cases} 2x_{1} + 3x_{2} + 3x_{3} = 207500\\\\ x_{1} + 2x_{2} + x_{3} = 103000\\\\ 3x_{1} + x_{2} + 2x_{3} = 154500\\end{cases}$"
          },
          "metadata": {}
        },
        {
          "output_type": "stream",
          "name": "stdout",
          "text": [
            "\n",
            "Possibility #157\n"
          ]
        },
        {
          "output_type": "display_data",
          "data": {
            "text/plain": [
              "<IPython.core.display.Math object>"
            ],
            "text/latex": "$\\displaystyle \\textbf{Coefficient Values:}\\\\a_{1,1} = 2,\\; a_{1,2} = 3,\\; a_{1,3} = 3\\\\a_{2,1} = 3,\\; a_{2,2} = 1,\\; a_{2,3} = 2\\\\a_{3,1} = 1,\\; a_{3,2} = 2,\\; a_{3,3} = 1\\\\[1em]\\textbf{Variable Values:}\\\\x_{1} = 25000,\\; x_{2} = 25500,\\; x_{3} = 26000\\\\[1em]\\begin{cases} 2x_{1} + 3x_{2} + 3x_{3} = 204500\\\\ 3x_{1} + x_{2} + 2x_{3} = 152500\\\\ x_{1} + 2x_{2} + x_{3} = 102000\\end{cases}$"
          },
          "metadata": {}
        },
        {
          "output_type": "stream",
          "name": "stdout",
          "text": [
            "\n",
            "Possibility #158\n"
          ]
        },
        {
          "output_type": "display_data",
          "data": {
            "text/plain": [
              "<IPython.core.display.Math object>"
            ],
            "text/latex": "$\\displaystyle \\textbf{Coefficient Values:}\\\\a_{1,1} = 2,\\; a_{1,2} = 3,\\; a_{1,3} = 3\\\\a_{2,1} = 3,\\; a_{2,2} = 1,\\; a_{2,3} = 2\\\\a_{3,1} = 1,\\; a_{3,2} = 2,\\; a_{3,3} = 1\\\\[1em]\\textbf{Variable Values:}\\\\x_{1} = 25000,\\; x_{2} = 25500,\\; x_{3} = 27000\\\\[1em]\\begin{cases} 2x_{1} + 3x_{2} + 3x_{3} = 207500\\\\ 3x_{1} + x_{2} + 2x_{3} = 154500\\\\ x_{1} + 2x_{2} + x_{3} = 103000\\end{cases}$"
          },
          "metadata": {}
        },
        {
          "output_type": "stream",
          "name": "stdout",
          "text": [
            "\n",
            "Possibility #159\n"
          ]
        },
        {
          "output_type": "display_data",
          "data": {
            "text/plain": [
              "<IPython.core.display.Math object>"
            ],
            "text/latex": "$\\displaystyle \\textbf{Coefficient Values:}\\\\a_{1,1} = 2,\\; a_{1,2} = 3,\\; a_{1,3} = 3\\\\a_{2,1} = 3,\\; a_{2,2} = 2,\\; a_{2,3} = 1\\\\a_{3,1} = 1,\\; a_{3,2} = 1,\\; a_{3,3} = 2\\\\[1em]\\textbf{Variable Values:}\\\\x_{1} = 25000,\\; x_{2} = 25500,\\; x_{3} = 26000\\\\[1em]\\begin{cases} 2x_{1} + 3x_{2} + 3x_{3} = 204500\\\\ 3x_{1} + 2x_{2} + x_{3} = 152000\\\\ x_{1} + x_{2} + 2x_{3} = 102500\\end{cases}$"
          },
          "metadata": {}
        },
        {
          "output_type": "stream",
          "name": "stdout",
          "text": [
            "\n",
            "Possibility #160\n"
          ]
        },
        {
          "output_type": "display_data",
          "data": {
            "text/plain": [
              "<IPython.core.display.Math object>"
            ],
            "text/latex": "$\\displaystyle \\textbf{Coefficient Values:}\\\\a_{1,1} = 2,\\; a_{1,2} = 3,\\; a_{1,3} = 3\\\\a_{2,1} = 3,\\; a_{2,2} = 2,\\; a_{2,3} = 1\\\\a_{3,1} = 1,\\; a_{3,2} = 1,\\; a_{3,3} = 2\\\\[1em]\\textbf{Variable Values:}\\\\x_{1} = 25000,\\; x_{2} = 25500,\\; x_{3} = 27000\\\\[1em]\\begin{cases} 2x_{1} + 3x_{2} + 3x_{3} = 207500\\\\ 3x_{1} + 2x_{2} + x_{3} = 153000\\\\ x_{1} + x_{2} + 2x_{3} = 104500\\end{cases}$"
          },
          "metadata": {}
        },
        {
          "output_type": "stream",
          "name": "stdout",
          "text": [
            "\n",
            "Possibility #161\n"
          ]
        },
        {
          "output_type": "display_data",
          "data": {
            "text/plain": [
              "<IPython.core.display.Math object>"
            ],
            "text/latex": "$\\displaystyle \\textbf{Coefficient Values:}\\\\a_{1,1} = 3,\\; a_{1,2} = 1,\\; a_{1,3} = 1\\\\a_{2,1} = 1,\\; a_{2,2} = 2,\\; a_{2,3} = 3\\\\a_{3,1} = 2,\\; a_{3,2} = 3,\\; a_{3,3} = 2\\\\[1em]\\textbf{Variable Values:}\\\\x_{1} = 25000,\\; x_{2} = 25500,\\; x_{3} = 26000\\\\[1em]\\begin{cases} 3x_{1} + x_{2} + x_{3} = 126500\\\\ x_{1} + 2x_{2} + 3x_{3} = 154000\\\\ 2x_{1} + 3x_{2} + 2x_{3} = 178500\\end{cases}$"
          },
          "metadata": {}
        },
        {
          "output_type": "stream",
          "name": "stdout",
          "text": [
            "\n",
            "Possibility #162\n"
          ]
        },
        {
          "output_type": "display_data",
          "data": {
            "text/plain": [
              "<IPython.core.display.Math object>"
            ],
            "text/latex": "$\\displaystyle \\textbf{Coefficient Values:}\\\\a_{1,1} = 3,\\; a_{1,2} = 1,\\; a_{1,3} = 1\\\\a_{2,1} = 1,\\; a_{2,2} = 2,\\; a_{2,3} = 3\\\\a_{3,1} = 2,\\; a_{3,2} = 3,\\; a_{3,3} = 2\\\\[1em]\\textbf{Variable Values:}\\\\x_{1} = 25000,\\; x_{2} = 25500,\\; x_{3} = 27000\\\\[1em]\\begin{cases} 3x_{1} + x_{2} + x_{3} = 127500\\\\ x_{1} + 2x_{2} + 3x_{3} = 157000\\\\ 2x_{1} + 3x_{2} + 2x_{3} = 180500\\end{cases}$"
          },
          "metadata": {}
        },
        {
          "output_type": "stream",
          "name": "stdout",
          "text": [
            "\n",
            "Possibility #163\n"
          ]
        },
        {
          "output_type": "display_data",
          "data": {
            "text/plain": [
              "<IPython.core.display.Math object>"
            ],
            "text/latex": "$\\displaystyle \\textbf{Coefficient Values:}\\\\a_{1,1} = 3,\\; a_{1,2} = 1,\\; a_{1,3} = 1\\\\a_{2,1} = 1,\\; a_{2,2} = 3,\\; a_{2,3} = 2\\\\a_{3,1} = 2,\\; a_{3,2} = 2,\\; a_{3,3} = 3\\\\[1em]\\textbf{Variable Values:}\\\\x_{1} = 25000,\\; x_{2} = 25500,\\; x_{3} = 26000\\\\[1em]\\begin{cases} 3x_{1} + x_{2} + x_{3} = 126500\\\\ x_{1} + 3x_{2} + 2x_{3} = 153500\\\\ 2x_{1} + 2x_{2} + 3x_{3} = 179000\\end{cases}$"
          },
          "metadata": {}
        },
        {
          "output_type": "stream",
          "name": "stdout",
          "text": [
            "\n",
            "Possibility #164\n"
          ]
        },
        {
          "output_type": "display_data",
          "data": {
            "text/plain": [
              "<IPython.core.display.Math object>"
            ],
            "text/latex": "$\\displaystyle \\textbf{Coefficient Values:}\\\\a_{1,1} = 3,\\; a_{1,2} = 1,\\; a_{1,3} = 1\\\\a_{2,1} = 1,\\; a_{2,2} = 3,\\; a_{2,3} = 2\\\\a_{3,1} = 2,\\; a_{3,2} = 2,\\; a_{3,3} = 3\\\\[1em]\\textbf{Variable Values:}\\\\x_{1} = 25000,\\; x_{2} = 25500,\\; x_{3} = 27000\\\\[1em]\\begin{cases} 3x_{1} + x_{2} + x_{3} = 127500\\\\ x_{1} + 3x_{2} + 2x_{3} = 155500\\\\ 2x_{1} + 2x_{2} + 3x_{3} = 182000\\end{cases}$"
          },
          "metadata": {}
        },
        {
          "output_type": "stream",
          "name": "stdout",
          "text": [
            "\n",
            "Possibility #165\n"
          ]
        },
        {
          "output_type": "display_data",
          "data": {
            "text/plain": [
              "<IPython.core.display.Math object>"
            ],
            "text/latex": "$\\displaystyle \\textbf{Coefficient Values:}\\\\a_{1,1} = 3,\\; a_{1,2} = 1,\\; a_{1,3} = 1\\\\a_{2,1} = 2,\\; a_{2,2} = 2,\\; a_{2,3} = 3\\\\a_{3,1} = 1,\\; a_{3,2} = 3,\\; a_{3,3} = 2\\\\[1em]\\textbf{Variable Values:}\\\\x_{1} = 25000,\\; x_{2} = 25500,\\; x_{3} = 26000\\\\[1em]\\begin{cases} 3x_{1} + x_{2} + x_{3} = 126500\\\\ 2x_{1} + 2x_{2} + 3x_{3} = 179000\\\\ x_{1} + 3x_{2} + 2x_{3} = 153500\\end{cases}$"
          },
          "metadata": {}
        },
        {
          "output_type": "stream",
          "name": "stdout",
          "text": [
            "\n",
            "Possibility #166\n"
          ]
        },
        {
          "output_type": "display_data",
          "data": {
            "text/plain": [
              "<IPython.core.display.Math object>"
            ],
            "text/latex": "$\\displaystyle \\textbf{Coefficient Values:}\\\\a_{1,1} = 3,\\; a_{1,2} = 1,\\; a_{1,3} = 1\\\\a_{2,1} = 2,\\; a_{2,2} = 2,\\; a_{2,3} = 3\\\\a_{3,1} = 1,\\; a_{3,2} = 3,\\; a_{3,3} = 2\\\\[1em]\\textbf{Variable Values:}\\\\x_{1} = 25000,\\; x_{2} = 25500,\\; x_{3} = 27000\\\\[1em]\\begin{cases} 3x_{1} + x_{2} + x_{3} = 127500\\\\ 2x_{1} + 2x_{2} + 3x_{3} = 182000\\\\ x_{1} + 3x_{2} + 2x_{3} = 155500\\end{cases}$"
          },
          "metadata": {}
        },
        {
          "output_type": "stream",
          "name": "stdout",
          "text": [
            "\n",
            "Possibility #167\n"
          ]
        },
        {
          "output_type": "display_data",
          "data": {
            "text/plain": [
              "<IPython.core.display.Math object>"
            ],
            "text/latex": "$\\displaystyle \\textbf{Coefficient Values:}\\\\a_{1,1} = 3,\\; a_{1,2} = 1,\\; a_{1,3} = 1\\\\a_{2,1} = 2,\\; a_{2,2} = 3,\\; a_{2,3} = 2\\\\a_{3,1} = 1,\\; a_{3,2} = 2,\\; a_{3,3} = 3\\\\[1em]\\textbf{Variable Values:}\\\\x_{1} = 25000,\\; x_{2} = 25500,\\; x_{3} = 26000\\\\[1em]\\begin{cases} 3x_{1} + x_{2} + x_{3} = 126500\\\\ 2x_{1} + 3x_{2} + 2x_{3} = 178500\\\\ x_{1} + 2x_{2} + 3x_{3} = 154000\\end{cases}$"
          },
          "metadata": {}
        },
        {
          "output_type": "stream",
          "name": "stdout",
          "text": [
            "\n",
            "Possibility #168\n"
          ]
        },
        {
          "output_type": "display_data",
          "data": {
            "text/plain": [
              "<IPython.core.display.Math object>"
            ],
            "text/latex": "$\\displaystyle \\textbf{Coefficient Values:}\\\\a_{1,1} = 3,\\; a_{1,2} = 1,\\; a_{1,3} = 1\\\\a_{2,1} = 2,\\; a_{2,2} = 3,\\; a_{2,3} = 2\\\\a_{3,1} = 1,\\; a_{3,2} = 2,\\; a_{3,3} = 3\\\\[1em]\\textbf{Variable Values:}\\\\x_{1} = 25000,\\; x_{2} = 25500,\\; x_{3} = 27000\\\\[1em]\\begin{cases} 3x_{1} + x_{2} + x_{3} = 127500\\\\ 2x_{1} + 3x_{2} + 2x_{3} = 180500\\\\ x_{1} + 2x_{2} + 3x_{3} = 157000\\end{cases}$"
          },
          "metadata": {}
        },
        {
          "output_type": "stream",
          "name": "stdout",
          "text": [
            "\n",
            "Possibility #169\n"
          ]
        },
        {
          "output_type": "display_data",
          "data": {
            "text/plain": [
              "<IPython.core.display.Math object>"
            ],
            "text/latex": "$\\displaystyle \\textbf{Coefficient Values:}\\\\a_{1,1} = 3,\\; a_{1,2} = 1,\\; a_{1,3} = 2\\\\a_{2,1} = 1,\\; a_{2,2} = 2,\\; a_{2,3} = 1\\\\a_{3,1} = 2,\\; a_{3,2} = 3,\\; a_{3,3} = 3\\\\[1em]\\textbf{Variable Values:}\\\\x_{1} = 25000,\\; x_{2} = 25500,\\; x_{3} = 26000\\\\[1em]\\begin{cases} 3x_{1} + x_{2} + 2x_{3} = 152500\\\\ x_{1} + 2x_{2} + x_{3} = 102000\\\\ 2x_{1} + 3x_{2} + 3x_{3} = 204500\\end{cases}$"
          },
          "metadata": {}
        },
        {
          "output_type": "stream",
          "name": "stdout",
          "text": [
            "\n",
            "Possibility #170\n"
          ]
        },
        {
          "output_type": "display_data",
          "data": {
            "text/plain": [
              "<IPython.core.display.Math object>"
            ],
            "text/latex": "$\\displaystyle \\textbf{Coefficient Values:}\\\\a_{1,1} = 3,\\; a_{1,2} = 1,\\; a_{1,3} = 2\\\\a_{2,1} = 1,\\; a_{2,2} = 2,\\; a_{2,3} = 1\\\\a_{3,1} = 2,\\; a_{3,2} = 3,\\; a_{3,3} = 3\\\\[1em]\\textbf{Variable Values:}\\\\x_{1} = 25000,\\; x_{2} = 25500,\\; x_{3} = 27000\\\\[1em]\\begin{cases} 3x_{1} + x_{2} + 2x_{3} = 154500\\\\ x_{1} + 2x_{2} + x_{3} = 103000\\\\ 2x_{1} + 3x_{2} + 3x_{3} = 207500\\end{cases}$"
          },
          "metadata": {}
        },
        {
          "output_type": "stream",
          "name": "stdout",
          "text": [
            "\n",
            "Possibility #171\n"
          ]
        },
        {
          "output_type": "display_data",
          "data": {
            "text/plain": [
              "<IPython.core.display.Math object>"
            ],
            "text/latex": "$\\displaystyle \\textbf{Coefficient Values:}\\\\a_{1,1} = 3,\\; a_{1,2} = 1,\\; a_{1,3} = 2\\\\a_{2,1} = 1,\\; a_{2,2} = 2,\\; a_{2,3} = 3\\\\a_{3,1} = 2,\\; a_{3,2} = 3,\\; a_{3,3} = 1\\\\[1em]\\textbf{Variable Values:}\\\\x_{1} = 25000,\\; x_{2} = 25500,\\; x_{3} = 26000\\\\[1em]\\begin{cases} 3x_{1} + x_{2} + 2x_{3} = 152500\\\\ x_{1} + 2x_{2} + 3x_{3} = 154000\\\\ 2x_{1} + 3x_{2} + x_{3} = 152500\\end{cases}$"
          },
          "metadata": {}
        },
        {
          "output_type": "stream",
          "name": "stdout",
          "text": [
            "\n",
            "Possibility #172\n"
          ]
        },
        {
          "output_type": "display_data",
          "data": {
            "text/plain": [
              "<IPython.core.display.Math object>"
            ],
            "text/latex": "$\\displaystyle \\textbf{Coefficient Values:}\\\\a_{1,1} = 3,\\; a_{1,2} = 1,\\; a_{1,3} = 2\\\\a_{2,1} = 1,\\; a_{2,2} = 2,\\; a_{2,3} = 3\\\\a_{3,1} = 2,\\; a_{3,2} = 3,\\; a_{3,3} = 1\\\\[1em]\\textbf{Variable Values:}\\\\x_{1} = 25000,\\; x_{2} = 25500,\\; x_{3} = 27000\\\\[1em]\\begin{cases} 3x_{1} + x_{2} + 2x_{3} = 154500\\\\ x_{1} + 2x_{2} + 3x_{3} = 157000\\\\ 2x_{1} + 3x_{2} + x_{3} = 153500\\end{cases}$"
          },
          "metadata": {}
        },
        {
          "output_type": "stream",
          "name": "stdout",
          "text": [
            "\n",
            "Possibility #173\n"
          ]
        },
        {
          "output_type": "display_data",
          "data": {
            "text/plain": [
              "<IPython.core.display.Math object>"
            ],
            "text/latex": "$\\displaystyle \\textbf{Coefficient Values:}\\\\a_{1,1} = 3,\\; a_{1,2} = 1,\\; a_{1,3} = 2\\\\a_{2,1} = 1,\\; a_{2,2} = 3,\\; a_{2,3} = 1\\\\a_{3,1} = 2,\\; a_{3,2} = 2,\\; a_{3,3} = 3\\\\[1em]\\textbf{Variable Values:}\\\\x_{1} = 25000,\\; x_{2} = 25500,\\; x_{3} = 26000\\\\[1em]\\begin{cases} 3x_{1} + x_{2} + 2x_{3} = 152500\\\\ x_{1} + 3x_{2} + x_{3} = 127500\\\\ 2x_{1} + 2x_{2} + 3x_{3} = 179000\\end{cases}$"
          },
          "metadata": {}
        },
        {
          "output_type": "stream",
          "name": "stdout",
          "text": [
            "\n",
            "Possibility #174\n"
          ]
        },
        {
          "output_type": "display_data",
          "data": {
            "text/plain": [
              "<IPython.core.display.Math object>"
            ],
            "text/latex": "$\\displaystyle \\textbf{Coefficient Values:}\\\\a_{1,1} = 3,\\; a_{1,2} = 1,\\; a_{1,3} = 2\\\\a_{2,1} = 1,\\; a_{2,2} = 3,\\; a_{2,3} = 1\\\\a_{3,1} = 2,\\; a_{3,2} = 2,\\; a_{3,3} = 3\\\\[1em]\\textbf{Variable Values:}\\\\x_{1} = 25000,\\; x_{2} = 25500,\\; x_{3} = 27000\\\\[1em]\\begin{cases} 3x_{1} + x_{2} + 2x_{3} = 154500\\\\ x_{1} + 3x_{2} + x_{3} = 128500\\\\ 2x_{1} + 2x_{2} + 3x_{3} = 182000\\end{cases}$"
          },
          "metadata": {}
        },
        {
          "output_type": "stream",
          "name": "stdout",
          "text": [
            "\n",
            "Possibility #175\n"
          ]
        },
        {
          "output_type": "display_data",
          "data": {
            "text/plain": [
              "<IPython.core.display.Math object>"
            ],
            "text/latex": "$\\displaystyle \\textbf{Coefficient Values:}\\\\a_{1,1} = 3,\\; a_{1,2} = 1,\\; a_{1,3} = 2\\\\a_{2,1} = 1,\\; a_{2,2} = 3,\\; a_{2,3} = 3\\\\a_{3,1} = 2,\\; a_{3,2} = 2,\\; a_{3,3} = 1\\\\[1em]\\textbf{Variable Values:}\\\\x_{1} = 25000,\\; x_{2} = 25500,\\; x_{3} = 26000\\\\[1em]\\begin{cases} 3x_{1} + x_{2} + 2x_{3} = 152500\\\\ x_{1} + 3x_{2} + 3x_{3} = 179500\\\\ 2x_{1} + 2x_{2} + x_{3} = 127000\\end{cases}$"
          },
          "metadata": {}
        },
        {
          "output_type": "stream",
          "name": "stdout",
          "text": [
            "\n",
            "Possibility #176\n"
          ]
        },
        {
          "output_type": "display_data",
          "data": {
            "text/plain": [
              "<IPython.core.display.Math object>"
            ],
            "text/latex": "$\\displaystyle \\textbf{Coefficient Values:}\\\\a_{1,1} = 3,\\; a_{1,2} = 1,\\; a_{1,3} = 2\\\\a_{2,1} = 1,\\; a_{2,2} = 3,\\; a_{2,3} = 3\\\\a_{3,1} = 2,\\; a_{3,2} = 2,\\; a_{3,3} = 1\\\\[1em]\\textbf{Variable Values:}\\\\x_{1} = 25000,\\; x_{2} = 25500,\\; x_{3} = 27000\\\\[1em]\\begin{cases} 3x_{1} + x_{2} + 2x_{3} = 154500\\\\ x_{1} + 3x_{2} + 3x_{3} = 182500\\\\ 2x_{1} + 2x_{2} + x_{3} = 128000\\end{cases}$"
          },
          "metadata": {}
        },
        {
          "output_type": "stream",
          "name": "stdout",
          "text": [
            "\n",
            "Possibility #177\n"
          ]
        },
        {
          "output_type": "display_data",
          "data": {
            "text/plain": [
              "<IPython.core.display.Math object>"
            ],
            "text/latex": "$\\displaystyle \\textbf{Coefficient Values:}\\\\a_{1,1} = 3,\\; a_{1,2} = 1,\\; a_{1,3} = 2\\\\a_{2,1} = 2,\\; a_{2,2} = 2,\\; a_{2,3} = 1\\\\a_{3,1} = 1,\\; a_{3,2} = 3,\\; a_{3,3} = 3\\\\[1em]\\textbf{Variable Values:}\\\\x_{1} = 25000,\\; x_{2} = 25500,\\; x_{3} = 26000\\\\[1em]\\begin{cases} 3x_{1} + x_{2} + 2x_{3} = 152500\\\\ 2x_{1} + 2x_{2} + x_{3} = 127000\\\\ x_{1} + 3x_{2} + 3x_{3} = 179500\\end{cases}$"
          },
          "metadata": {}
        },
        {
          "output_type": "stream",
          "name": "stdout",
          "text": [
            "\n",
            "Possibility #178\n"
          ]
        },
        {
          "output_type": "display_data",
          "data": {
            "text/plain": [
              "<IPython.core.display.Math object>"
            ],
            "text/latex": "$\\displaystyle \\textbf{Coefficient Values:}\\\\a_{1,1} = 3,\\; a_{1,2} = 1,\\; a_{1,3} = 2\\\\a_{2,1} = 2,\\; a_{2,2} = 2,\\; a_{2,3} = 1\\\\a_{3,1} = 1,\\; a_{3,2} = 3,\\; a_{3,3} = 3\\\\[1em]\\textbf{Variable Values:}\\\\x_{1} = 25000,\\; x_{2} = 25500,\\; x_{3} = 27000\\\\[1em]\\begin{cases} 3x_{1} + x_{2} + 2x_{3} = 154500\\\\ 2x_{1} + 2x_{2} + x_{3} = 128000\\\\ x_{1} + 3x_{2} + 3x_{3} = 182500\\end{cases}$"
          },
          "metadata": {}
        },
        {
          "output_type": "stream",
          "name": "stdout",
          "text": [
            "\n",
            "Possibility #179\n"
          ]
        },
        {
          "output_type": "display_data",
          "data": {
            "text/plain": [
              "<IPython.core.display.Math object>"
            ],
            "text/latex": "$\\displaystyle \\textbf{Coefficient Values:}\\\\a_{1,1} = 3,\\; a_{1,2} = 1,\\; a_{1,3} = 2\\\\a_{2,1} = 2,\\; a_{2,2} = 2,\\; a_{2,3} = 3\\\\a_{3,1} = 1,\\; a_{3,2} = 3,\\; a_{3,3} = 1\\\\[1em]\\textbf{Variable Values:}\\\\x_{1} = 25000,\\; x_{2} = 25500,\\; x_{3} = 26000\\\\[1em]\\begin{cases} 3x_{1} + x_{2} + 2x_{3} = 152500\\\\ 2x_{1} + 2x_{2} + 3x_{3} = 179000\\\\ x_{1} + 3x_{2} + x_{3} = 127500\\end{cases}$"
          },
          "metadata": {}
        },
        {
          "output_type": "stream",
          "name": "stdout",
          "text": [
            "\n",
            "Possibility #180\n"
          ]
        },
        {
          "output_type": "display_data",
          "data": {
            "text/plain": [
              "<IPython.core.display.Math object>"
            ],
            "text/latex": "$\\displaystyle \\textbf{Coefficient Values:}\\\\a_{1,1} = 3,\\; a_{1,2} = 1,\\; a_{1,3} = 2\\\\a_{2,1} = 2,\\; a_{2,2} = 2,\\; a_{2,3} = 3\\\\a_{3,1} = 1,\\; a_{3,2} = 3,\\; a_{3,3} = 1\\\\[1em]\\textbf{Variable Values:}\\\\x_{1} = 25000,\\; x_{2} = 25500,\\; x_{3} = 27000\\\\[1em]\\begin{cases} 3x_{1} + x_{2} + 2x_{3} = 154500\\\\ 2x_{1} + 2x_{2} + 3x_{3} = 182000\\\\ x_{1} + 3x_{2} + x_{3} = 128500\\end{cases}$"
          },
          "metadata": {}
        },
        {
          "output_type": "stream",
          "name": "stdout",
          "text": [
            "\n",
            "Possibility #181\n"
          ]
        },
        {
          "output_type": "display_data",
          "data": {
            "text/plain": [
              "<IPython.core.display.Math object>"
            ],
            "text/latex": "$\\displaystyle \\textbf{Coefficient Values:}\\\\a_{1,1} = 3,\\; a_{1,2} = 1,\\; a_{1,3} = 2\\\\a_{2,1} = 2,\\; a_{2,2} = 3,\\; a_{2,3} = 1\\\\a_{3,1} = 1,\\; a_{3,2} = 2,\\; a_{3,3} = 3\\\\[1em]\\textbf{Variable Values:}\\\\x_{1} = 25000,\\; x_{2} = 25500,\\; x_{3} = 26000\\\\[1em]\\begin{cases} 3x_{1} + x_{2} + 2x_{3} = 152500\\\\ 2x_{1} + 3x_{2} + x_{3} = 152500\\\\ x_{1} + 2x_{2} + 3x_{3} = 154000\\end{cases}$"
          },
          "metadata": {}
        },
        {
          "output_type": "stream",
          "name": "stdout",
          "text": [
            "\n",
            "Possibility #182\n"
          ]
        },
        {
          "output_type": "display_data",
          "data": {
            "text/plain": [
              "<IPython.core.display.Math object>"
            ],
            "text/latex": "$\\displaystyle \\textbf{Coefficient Values:}\\\\a_{1,1} = 3,\\; a_{1,2} = 1,\\; a_{1,3} = 2\\\\a_{2,1} = 2,\\; a_{2,2} = 3,\\; a_{2,3} = 1\\\\a_{3,1} = 1,\\; a_{3,2} = 2,\\; a_{3,3} = 3\\\\[1em]\\textbf{Variable Values:}\\\\x_{1} = 25000,\\; x_{2} = 25500,\\; x_{3} = 27000\\\\[1em]\\begin{cases} 3x_{1} + x_{2} + 2x_{3} = 154500\\\\ 2x_{1} + 3x_{2} + x_{3} = 153500\\\\ x_{1} + 2x_{2} + 3x_{3} = 157000\\end{cases}$"
          },
          "metadata": {}
        },
        {
          "output_type": "stream",
          "name": "stdout",
          "text": [
            "\n",
            "Possibility #183\n"
          ]
        },
        {
          "output_type": "display_data",
          "data": {
            "text/plain": [
              "<IPython.core.display.Math object>"
            ],
            "text/latex": "$\\displaystyle \\textbf{Coefficient Values:}\\\\a_{1,1} = 3,\\; a_{1,2} = 1,\\; a_{1,3} = 2\\\\a_{2,1} = 2,\\; a_{2,2} = 3,\\; a_{2,3} = 3\\\\a_{3,1} = 1,\\; a_{3,2} = 2,\\; a_{3,3} = 1\\\\[1em]\\textbf{Variable Values:}\\\\x_{1} = 25000,\\; x_{2} = 25500,\\; x_{3} = 26000\\\\[1em]\\begin{cases} 3x_{1} + x_{2} + 2x_{3} = 152500\\\\ 2x_{1} + 3x_{2} + 3x_{3} = 204500\\\\ x_{1} + 2x_{2} + x_{3} = 102000\\end{cases}$"
          },
          "metadata": {}
        },
        {
          "output_type": "stream",
          "name": "stdout",
          "text": [
            "\n",
            "Possibility #184\n"
          ]
        },
        {
          "output_type": "display_data",
          "data": {
            "text/plain": [
              "<IPython.core.display.Math object>"
            ],
            "text/latex": "$\\displaystyle \\textbf{Coefficient Values:}\\\\a_{1,1} = 3,\\; a_{1,2} = 1,\\; a_{1,3} = 2\\\\a_{2,1} = 2,\\; a_{2,2} = 3,\\; a_{2,3} = 3\\\\a_{3,1} = 1,\\; a_{3,2} = 2,\\; a_{3,3} = 1\\\\[1em]\\textbf{Variable Values:}\\\\x_{1} = 25000,\\; x_{2} = 25500,\\; x_{3} = 27000\\\\[1em]\\begin{cases} 3x_{1} + x_{2} + 2x_{3} = 154500\\\\ 2x_{1} + 3x_{2} + 3x_{3} = 207500\\\\ x_{1} + 2x_{2} + x_{3} = 103000\\end{cases}$"
          },
          "metadata": {}
        },
        {
          "output_type": "stream",
          "name": "stdout",
          "text": [
            "\n",
            "Possibility #185\n"
          ]
        },
        {
          "output_type": "display_data",
          "data": {
            "text/plain": [
              "<IPython.core.display.Math object>"
            ],
            "text/latex": "$\\displaystyle \\textbf{Coefficient Values:}\\\\a_{1,1} = 3,\\; a_{1,2} = 1,\\; a_{1,3} = 3\\\\a_{2,1} = 1,\\; a_{2,2} = 2,\\; a_{2,3} = 2\\\\a_{3,1} = 2,\\; a_{3,2} = 3,\\; a_{3,3} = 1\\\\[1em]\\textbf{Variable Values:}\\\\x_{1} = 25000,\\; x_{2} = 25500,\\; x_{3} = 26000\\\\[1em]\\begin{cases} 3x_{1} + x_{2} + 3x_{3} = 178500\\\\ x_{1} + 2x_{2} + 2x_{3} = 128000\\\\ 2x_{1} + 3x_{2} + x_{3} = 152500\\end{cases}$"
          },
          "metadata": {}
        },
        {
          "output_type": "stream",
          "name": "stdout",
          "text": [
            "\n",
            "Possibility #186\n"
          ]
        },
        {
          "output_type": "display_data",
          "data": {
            "text/plain": [
              "<IPython.core.display.Math object>"
            ],
            "text/latex": "$\\displaystyle \\textbf{Coefficient Values:}\\\\a_{1,1} = 3,\\; a_{1,2} = 1,\\; a_{1,3} = 3\\\\a_{2,1} = 1,\\; a_{2,2} = 2,\\; a_{2,3} = 2\\\\a_{3,1} = 2,\\; a_{3,2} = 3,\\; a_{3,3} = 1\\\\[1em]\\textbf{Variable Values:}\\\\x_{1} = 25000,\\; x_{2} = 25500,\\; x_{3} = 27000\\\\[1em]\\begin{cases} 3x_{1} + x_{2} + 3x_{3} = 181500\\\\ x_{1} + 2x_{2} + 2x_{3} = 130000\\\\ 2x_{1} + 3x_{2} + x_{3} = 153500\\end{cases}$"
          },
          "metadata": {}
        },
        {
          "output_type": "stream",
          "name": "stdout",
          "text": [
            "\n",
            "Possibility #187\n"
          ]
        },
        {
          "output_type": "display_data",
          "data": {
            "text/plain": [
              "<IPython.core.display.Math object>"
            ],
            "text/latex": "$\\displaystyle \\textbf{Coefficient Values:}\\\\a_{1,1} = 3,\\; a_{1,2} = 1,\\; a_{1,3} = 3\\\\a_{2,1} = 1,\\; a_{2,2} = 3,\\; a_{2,3} = 2\\\\a_{3,1} = 2,\\; a_{3,2} = 2,\\; a_{3,3} = 1\\\\[1em]\\textbf{Variable Values:}\\\\x_{1} = 25000,\\; x_{2} = 25500,\\; x_{3} = 26000\\\\[1em]\\begin{cases} 3x_{1} + x_{2} + 3x_{3} = 178500\\\\ x_{1} + 3x_{2} + 2x_{3} = 153500\\\\ 2x_{1} + 2x_{2} + x_{3} = 127000\\end{cases}$"
          },
          "metadata": {}
        },
        {
          "output_type": "stream",
          "name": "stdout",
          "text": [
            "\n",
            "Possibility #188\n"
          ]
        },
        {
          "output_type": "display_data",
          "data": {
            "text/plain": [
              "<IPython.core.display.Math object>"
            ],
            "text/latex": "$\\displaystyle \\textbf{Coefficient Values:}\\\\a_{1,1} = 3,\\; a_{1,2} = 1,\\; a_{1,3} = 3\\\\a_{2,1} = 1,\\; a_{2,2} = 3,\\; a_{2,3} = 2\\\\a_{3,1} = 2,\\; a_{3,2} = 2,\\; a_{3,3} = 1\\\\[1em]\\textbf{Variable Values:}\\\\x_{1} = 25000,\\; x_{2} = 25500,\\; x_{3} = 27000\\\\[1em]\\begin{cases} 3x_{1} + x_{2} + 3x_{3} = 181500\\\\ x_{1} + 3x_{2} + 2x_{3} = 155500\\\\ 2x_{1} + 2x_{2} + x_{3} = 128000\\end{cases}$"
          },
          "metadata": {}
        },
        {
          "output_type": "stream",
          "name": "stdout",
          "text": [
            "\n",
            "Possibility #189\n"
          ]
        },
        {
          "output_type": "display_data",
          "data": {
            "text/plain": [
              "<IPython.core.display.Math object>"
            ],
            "text/latex": "$\\displaystyle \\textbf{Coefficient Values:}\\\\a_{1,1} = 3,\\; a_{1,2} = 1,\\; a_{1,3} = 3\\\\a_{2,1} = 2,\\; a_{2,2} = 2,\\; a_{2,3} = 1\\\\a_{3,1} = 1,\\; a_{3,2} = 3,\\; a_{3,3} = 2\\\\[1em]\\textbf{Variable Values:}\\\\x_{1} = 25000,\\; x_{2} = 25500,\\; x_{3} = 26000\\\\[1em]\\begin{cases} 3x_{1} + x_{2} + 3x_{3} = 178500\\\\ 2x_{1} + 2x_{2} + x_{3} = 127000\\\\ x_{1} + 3x_{2} + 2x_{3} = 153500\\end{cases}$"
          },
          "metadata": {}
        },
        {
          "output_type": "stream",
          "name": "stdout",
          "text": [
            "\n",
            "Possibility #190\n"
          ]
        },
        {
          "output_type": "display_data",
          "data": {
            "text/plain": [
              "<IPython.core.display.Math object>"
            ],
            "text/latex": "$\\displaystyle \\textbf{Coefficient Values:}\\\\a_{1,1} = 3,\\; a_{1,2} = 1,\\; a_{1,3} = 3\\\\a_{2,1} = 2,\\; a_{2,2} = 2,\\; a_{2,3} = 1\\\\a_{3,1} = 1,\\; a_{3,2} = 3,\\; a_{3,3} = 2\\\\[1em]\\textbf{Variable Values:}\\\\x_{1} = 25000,\\; x_{2} = 25500,\\; x_{3} = 27000\\\\[1em]\\begin{cases} 3x_{1} + x_{2} + 3x_{3} = 181500\\\\ 2x_{1} + 2x_{2} + x_{3} = 128000\\\\ x_{1} + 3x_{2} + 2x_{3} = 155500\\end{cases}$"
          },
          "metadata": {}
        },
        {
          "output_type": "stream",
          "name": "stdout",
          "text": [
            "\n",
            "Possibility #191\n"
          ]
        },
        {
          "output_type": "display_data",
          "data": {
            "text/plain": [
              "<IPython.core.display.Math object>"
            ],
            "text/latex": "$\\displaystyle \\textbf{Coefficient Values:}\\\\a_{1,1} = 3,\\; a_{1,2} = 1,\\; a_{1,3} = 3\\\\a_{2,1} = 2,\\; a_{2,2} = 3,\\; a_{2,3} = 1\\\\a_{3,1} = 1,\\; a_{3,2} = 2,\\; a_{3,3} = 2\\\\[1em]\\textbf{Variable Values:}\\\\x_{1} = 25000,\\; x_{2} = 25500,\\; x_{3} = 26000\\\\[1em]\\begin{cases} 3x_{1} + x_{2} + 3x_{3} = 178500\\\\ 2x_{1} + 3x_{2} + x_{3} = 152500\\\\ x_{1} + 2x_{2} + 2x_{3} = 128000\\end{cases}$"
          },
          "metadata": {}
        },
        {
          "output_type": "stream",
          "name": "stdout",
          "text": [
            "\n",
            "Possibility #192\n"
          ]
        },
        {
          "output_type": "display_data",
          "data": {
            "text/plain": [
              "<IPython.core.display.Math object>"
            ],
            "text/latex": "$\\displaystyle \\textbf{Coefficient Values:}\\\\a_{1,1} = 3,\\; a_{1,2} = 1,\\; a_{1,3} = 3\\\\a_{2,1} = 2,\\; a_{2,2} = 3,\\; a_{2,3} = 1\\\\a_{3,1} = 1,\\; a_{3,2} = 2,\\; a_{3,3} = 2\\\\[1em]\\textbf{Variable Values:}\\\\x_{1} = 25000,\\; x_{2} = 25500,\\; x_{3} = 27000\\\\[1em]\\begin{cases} 3x_{1} + x_{2} + 3x_{3} = 181500\\\\ 2x_{1} + 3x_{2} + x_{3} = 153500\\\\ x_{1} + 2x_{2} + 2x_{3} = 130000\\end{cases}$"
          },
          "metadata": {}
        },
        {
          "output_type": "stream",
          "name": "stdout",
          "text": [
            "\n",
            "Possibility #193\n"
          ]
        },
        {
          "output_type": "display_data",
          "data": {
            "text/plain": [
              "<IPython.core.display.Math object>"
            ],
            "text/latex": "$\\displaystyle \\textbf{Coefficient Values:}\\\\a_{1,1} = 3,\\; a_{1,2} = 2,\\; a_{1,3} = 1\\\\a_{2,1} = 1,\\; a_{2,2} = 1,\\; a_{2,3} = 2\\\\a_{3,1} = 2,\\; a_{3,2} = 3,\\; a_{3,3} = 3\\\\[1em]\\textbf{Variable Values:}\\\\x_{1} = 25000,\\; x_{2} = 25500,\\; x_{3} = 26000\\\\[1em]\\begin{cases} 3x_{1} + 2x_{2} + x_{3} = 152000\\\\ x_{1} + x_{2} + 2x_{3} = 102500\\\\ 2x_{1} + 3x_{2} + 3x_{3} = 204500\\end{cases}$"
          },
          "metadata": {}
        },
        {
          "output_type": "stream",
          "name": "stdout",
          "text": [
            "\n",
            "Possibility #194\n"
          ]
        },
        {
          "output_type": "display_data",
          "data": {
            "text/plain": [
              "<IPython.core.display.Math object>"
            ],
            "text/latex": "$\\displaystyle \\textbf{Coefficient Values:}\\\\a_{1,1} = 3,\\; a_{1,2} = 2,\\; a_{1,3} = 1\\\\a_{2,1} = 1,\\; a_{2,2} = 1,\\; a_{2,3} = 2\\\\a_{3,1} = 2,\\; a_{3,2} = 3,\\; a_{3,3} = 3\\\\[1em]\\textbf{Variable Values:}\\\\x_{1} = 25000,\\; x_{2} = 25500,\\; x_{3} = 27000\\\\[1em]\\begin{cases} 3x_{1} + 2x_{2} + x_{3} = 153000\\\\ x_{1} + x_{2} + 2x_{3} = 104500\\\\ 2x_{1} + 3x_{2} + 3x_{3} = 207500\\end{cases}$"
          },
          "metadata": {}
        },
        {
          "output_type": "stream",
          "name": "stdout",
          "text": [
            "\n",
            "Possibility #195\n"
          ]
        },
        {
          "output_type": "display_data",
          "data": {
            "text/plain": [
              "<IPython.core.display.Math object>"
            ],
            "text/latex": "$\\displaystyle \\textbf{Coefficient Values:}\\\\a_{1,1} = 3,\\; a_{1,2} = 2,\\; a_{1,3} = 1\\\\a_{2,1} = 1,\\; a_{2,2} = 1,\\; a_{2,3} = 3\\\\a_{3,1} = 2,\\; a_{3,2} = 3,\\; a_{3,3} = 2\\\\[1em]\\textbf{Variable Values:}\\\\x_{1} = 25000,\\; x_{2} = 25500,\\; x_{3} = 26000\\\\[1em]\\begin{cases} 3x_{1} + 2x_{2} + x_{3} = 152000\\\\ x_{1} + x_{2} + 3x_{3} = 128500\\\\ 2x_{1} + 3x_{2} + 2x_{3} = 178500\\end{cases}$"
          },
          "metadata": {}
        },
        {
          "output_type": "stream",
          "name": "stdout",
          "text": [
            "\n",
            "Possibility #196\n"
          ]
        },
        {
          "output_type": "display_data",
          "data": {
            "text/plain": [
              "<IPython.core.display.Math object>"
            ],
            "text/latex": "$\\displaystyle \\textbf{Coefficient Values:}\\\\a_{1,1} = 3,\\; a_{1,2} = 2,\\; a_{1,3} = 1\\\\a_{2,1} = 1,\\; a_{2,2} = 1,\\; a_{2,3} = 3\\\\a_{3,1} = 2,\\; a_{3,2} = 3,\\; a_{3,3} = 2\\\\[1em]\\textbf{Variable Values:}\\\\x_{1} = 25000,\\; x_{2} = 25500,\\; x_{3} = 27000\\\\[1em]\\begin{cases} 3x_{1} + 2x_{2} + x_{3} = 153000\\\\ x_{1} + x_{2} + 3x_{3} = 131500\\\\ 2x_{1} + 3x_{2} + 2x_{3} = 180500\\end{cases}$"
          },
          "metadata": {}
        },
        {
          "output_type": "stream",
          "name": "stdout",
          "text": [
            "\n",
            "Possibility #197\n"
          ]
        },
        {
          "output_type": "display_data",
          "data": {
            "text/plain": [
              "<IPython.core.display.Math object>"
            ],
            "text/latex": "$\\displaystyle \\textbf{Coefficient Values:}\\\\a_{1,1} = 3,\\; a_{1,2} = 2,\\; a_{1,3} = 1\\\\a_{2,1} = 1,\\; a_{2,2} = 3,\\; a_{2,3} = 2\\\\a_{3,1} = 2,\\; a_{3,2} = 1,\\; a_{3,3} = 3\\\\[1em]\\textbf{Variable Values:}\\\\x_{1} = 25000,\\; x_{2} = 25500,\\; x_{3} = 26000\\\\[1em]\\begin{cases} 3x_{1} + 2x_{2} + x_{3} = 152000\\\\ x_{1} + 3x_{2} + 2x_{3} = 153500\\\\ 2x_{1} + x_{2} + 3x_{3} = 153500\\end{cases}$"
          },
          "metadata": {}
        },
        {
          "output_type": "stream",
          "name": "stdout",
          "text": [
            "\n",
            "Possibility #198\n"
          ]
        },
        {
          "output_type": "display_data",
          "data": {
            "text/plain": [
              "<IPython.core.display.Math object>"
            ],
            "text/latex": "$\\displaystyle \\textbf{Coefficient Values:}\\\\a_{1,1} = 3,\\; a_{1,2} = 2,\\; a_{1,3} = 1\\\\a_{2,1} = 1,\\; a_{2,2} = 3,\\; a_{2,3} = 2\\\\a_{3,1} = 2,\\; a_{3,2} = 1,\\; a_{3,3} = 3\\\\[1em]\\textbf{Variable Values:}\\\\x_{1} = 25000,\\; x_{2} = 25500,\\; x_{3} = 27000\\\\[1em]\\begin{cases} 3x_{1} + 2x_{2} + x_{3} = 153000\\\\ x_{1} + 3x_{2} + 2x_{3} = 155500\\\\ 2x_{1} + x_{2} + 3x_{3} = 156500\\end{cases}$"
          },
          "metadata": {}
        },
        {
          "output_type": "stream",
          "name": "stdout",
          "text": [
            "\n",
            "Possibility #199\n"
          ]
        },
        {
          "output_type": "display_data",
          "data": {
            "text/plain": [
              "<IPython.core.display.Math object>"
            ],
            "text/latex": "$\\displaystyle \\textbf{Coefficient Values:}\\\\a_{1,1} = 3,\\; a_{1,2} = 2,\\; a_{1,3} = 1\\\\a_{2,1} = 1,\\; a_{2,2} = 3,\\; a_{2,3} = 3\\\\a_{3,1} = 2,\\; a_{3,2} = 1,\\; a_{3,3} = 2\\\\[1em]\\textbf{Variable Values:}\\\\x_{1} = 25000,\\; x_{2} = 25500,\\; x_{3} = 26000\\\\[1em]\\begin{cases} 3x_{1} + 2x_{2} + x_{3} = 152000\\\\ x_{1} + 3x_{2} + 3x_{3} = 179500\\\\ 2x_{1} + x_{2} + 2x_{3} = 127500\\end{cases}$"
          },
          "metadata": {}
        },
        {
          "output_type": "stream",
          "name": "stdout",
          "text": [
            "\n",
            "Possibility #200\n"
          ]
        },
        {
          "output_type": "display_data",
          "data": {
            "text/plain": [
              "<IPython.core.display.Math object>"
            ],
            "text/latex": "$\\displaystyle \\textbf{Coefficient Values:}\\\\a_{1,1} = 3,\\; a_{1,2} = 2,\\; a_{1,3} = 1\\\\a_{2,1} = 1,\\; a_{2,2} = 3,\\; a_{2,3} = 3\\\\a_{3,1} = 2,\\; a_{3,2} = 1,\\; a_{3,3} = 2\\\\[1em]\\textbf{Variable Values:}\\\\x_{1} = 25000,\\; x_{2} = 25500,\\; x_{3} = 27000\\\\[1em]\\begin{cases} 3x_{1} + 2x_{2} + x_{3} = 153000\\\\ x_{1} + 3x_{2} + 3x_{3} = 182500\\\\ 2x_{1} + x_{2} + 2x_{3} = 129500\\end{cases}$"
          },
          "metadata": {}
        },
        {
          "output_type": "stream",
          "name": "stdout",
          "text": [
            "\n",
            "Possibility #201\n"
          ]
        },
        {
          "output_type": "display_data",
          "data": {
            "text/plain": [
              "<IPython.core.display.Math object>"
            ],
            "text/latex": "$\\displaystyle \\textbf{Coefficient Values:}\\\\a_{1,1} = 3,\\; a_{1,2} = 2,\\; a_{1,3} = 1\\\\a_{2,1} = 2,\\; a_{2,2} = 1,\\; a_{2,3} = 2\\\\a_{3,1} = 1,\\; a_{3,2} = 3,\\; a_{3,3} = 3\\\\[1em]\\textbf{Variable Values:}\\\\x_{1} = 25000,\\; x_{2} = 25500,\\; x_{3} = 26000\\\\[1em]\\begin{cases} 3x_{1} + 2x_{2} + x_{3} = 152000\\\\ 2x_{1} + x_{2} + 2x_{3} = 127500\\\\ x_{1} + 3x_{2} + 3x_{3} = 179500\\end{cases}$"
          },
          "metadata": {}
        },
        {
          "output_type": "stream",
          "name": "stdout",
          "text": [
            "\n",
            "Possibility #202\n"
          ]
        },
        {
          "output_type": "display_data",
          "data": {
            "text/plain": [
              "<IPython.core.display.Math object>"
            ],
            "text/latex": "$\\displaystyle \\textbf{Coefficient Values:}\\\\a_{1,1} = 3,\\; a_{1,2} = 2,\\; a_{1,3} = 1\\\\a_{2,1} = 2,\\; a_{2,2} = 1,\\; a_{2,3} = 2\\\\a_{3,1} = 1,\\; a_{3,2} = 3,\\; a_{3,3} = 3\\\\[1em]\\textbf{Variable Values:}\\\\x_{1} = 25000,\\; x_{2} = 25500,\\; x_{3} = 27000\\\\[1em]\\begin{cases} 3x_{1} + 2x_{2} + x_{3} = 153000\\\\ 2x_{1} + x_{2} + 2x_{3} = 129500\\\\ x_{1} + 3x_{2} + 3x_{3} = 182500\\end{cases}$"
          },
          "metadata": {}
        },
        {
          "output_type": "stream",
          "name": "stdout",
          "text": [
            "\n",
            "Possibility #203\n"
          ]
        },
        {
          "output_type": "display_data",
          "data": {
            "text/plain": [
              "<IPython.core.display.Math object>"
            ],
            "text/latex": "$\\displaystyle \\textbf{Coefficient Values:}\\\\a_{1,1} = 3,\\; a_{1,2} = 2,\\; a_{1,3} = 1\\\\a_{2,1} = 2,\\; a_{2,2} = 1,\\; a_{2,3} = 3\\\\a_{3,1} = 1,\\; a_{3,2} = 3,\\; a_{3,3} = 2\\\\[1em]\\textbf{Variable Values:}\\\\x_{1} = 25000,\\; x_{2} = 25500,\\; x_{3} = 26000\\\\[1em]\\begin{cases} 3x_{1} + 2x_{2} + x_{3} = 152000\\\\ 2x_{1} + x_{2} + 3x_{3} = 153500\\\\ x_{1} + 3x_{2} + 2x_{3} = 153500\\end{cases}$"
          },
          "metadata": {}
        },
        {
          "output_type": "stream",
          "name": "stdout",
          "text": [
            "\n",
            "Possibility #204\n"
          ]
        },
        {
          "output_type": "display_data",
          "data": {
            "text/plain": [
              "<IPython.core.display.Math object>"
            ],
            "text/latex": "$\\displaystyle \\textbf{Coefficient Values:}\\\\a_{1,1} = 3,\\; a_{1,2} = 2,\\; a_{1,3} = 1\\\\a_{2,1} = 2,\\; a_{2,2} = 1,\\; a_{2,3} = 3\\\\a_{3,1} = 1,\\; a_{3,2} = 3,\\; a_{3,3} = 2\\\\[1em]\\textbf{Variable Values:}\\\\x_{1} = 25000,\\; x_{2} = 25500,\\; x_{3} = 27000\\\\[1em]\\begin{cases} 3x_{1} + 2x_{2} + x_{3} = 153000\\\\ 2x_{1} + x_{2} + 3x_{3} = 156500\\\\ x_{1} + 3x_{2} + 2x_{3} = 155500\\end{cases}$"
          },
          "metadata": {}
        },
        {
          "output_type": "stream",
          "name": "stdout",
          "text": [
            "\n",
            "Possibility #205\n"
          ]
        },
        {
          "output_type": "display_data",
          "data": {
            "text/plain": [
              "<IPython.core.display.Math object>"
            ],
            "text/latex": "$\\displaystyle \\textbf{Coefficient Values:}\\\\a_{1,1} = 3,\\; a_{1,2} = 2,\\; a_{1,3} = 1\\\\a_{2,1} = 2,\\; a_{2,2} = 3,\\; a_{2,3} = 2\\\\a_{3,1} = 1,\\; a_{3,2} = 1,\\; a_{3,3} = 3\\\\[1em]\\textbf{Variable Values:}\\\\x_{1} = 25000,\\; x_{2} = 25500,\\; x_{3} = 26000\\\\[1em]\\begin{cases} 3x_{1} + 2x_{2} + x_{3} = 152000\\\\ 2x_{1} + 3x_{2} + 2x_{3} = 178500\\\\ x_{1} + x_{2} + 3x_{3} = 128500\\end{cases}$"
          },
          "metadata": {}
        },
        {
          "output_type": "stream",
          "name": "stdout",
          "text": [
            "\n",
            "Possibility #206\n"
          ]
        },
        {
          "output_type": "display_data",
          "data": {
            "text/plain": [
              "<IPython.core.display.Math object>"
            ],
            "text/latex": "$\\displaystyle \\textbf{Coefficient Values:}\\\\a_{1,1} = 3,\\; a_{1,2} = 2,\\; a_{1,3} = 1\\\\a_{2,1} = 2,\\; a_{2,2} = 3,\\; a_{2,3} = 2\\\\a_{3,1} = 1,\\; a_{3,2} = 1,\\; a_{3,3} = 3\\\\[1em]\\textbf{Variable Values:}\\\\x_{1} = 25000,\\; x_{2} = 25500,\\; x_{3} = 27000\\\\[1em]\\begin{cases} 3x_{1} + 2x_{2} + x_{3} = 153000\\\\ 2x_{1} + 3x_{2} + 2x_{3} = 180500\\\\ x_{1} + x_{2} + 3x_{3} = 131500\\end{cases}$"
          },
          "metadata": {}
        },
        {
          "output_type": "stream",
          "name": "stdout",
          "text": [
            "\n",
            "Possibility #207\n"
          ]
        },
        {
          "output_type": "display_data",
          "data": {
            "text/plain": [
              "<IPython.core.display.Math object>"
            ],
            "text/latex": "$\\displaystyle \\textbf{Coefficient Values:}\\\\a_{1,1} = 3,\\; a_{1,2} = 2,\\; a_{1,3} = 1\\\\a_{2,1} = 2,\\; a_{2,2} = 3,\\; a_{2,3} = 3\\\\a_{3,1} = 1,\\; a_{3,2} = 1,\\; a_{3,3} = 2\\\\[1em]\\textbf{Variable Values:}\\\\x_{1} = 25000,\\; x_{2} = 25500,\\; x_{3} = 26000\\\\[1em]\\begin{cases} 3x_{1} + 2x_{2} + x_{3} = 152000\\\\ 2x_{1} + 3x_{2} + 3x_{3} = 204500\\\\ x_{1} + x_{2} + 2x_{3} = 102500\\end{cases}$"
          },
          "metadata": {}
        },
        {
          "output_type": "stream",
          "name": "stdout",
          "text": [
            "\n",
            "Possibility #208\n"
          ]
        },
        {
          "output_type": "display_data",
          "data": {
            "text/plain": [
              "<IPython.core.display.Math object>"
            ],
            "text/latex": "$\\displaystyle \\textbf{Coefficient Values:}\\\\a_{1,1} = 3,\\; a_{1,2} = 2,\\; a_{1,3} = 1\\\\a_{2,1} = 2,\\; a_{2,2} = 3,\\; a_{2,3} = 3\\\\a_{3,1} = 1,\\; a_{3,2} = 1,\\; a_{3,3} = 2\\\\[1em]\\textbf{Variable Values:}\\\\x_{1} = 25000,\\; x_{2} = 25500,\\; x_{3} = 27000\\\\[1em]\\begin{cases} 3x_{1} + 2x_{2} + x_{3} = 153000\\\\ 2x_{1} + 3x_{2} + 3x_{3} = 207500\\\\ x_{1} + x_{2} + 2x_{3} = 104500\\end{cases}$"
          },
          "metadata": {}
        },
        {
          "output_type": "stream",
          "name": "stdout",
          "text": [
            "\n",
            "Possibility #209\n"
          ]
        },
        {
          "output_type": "display_data",
          "data": {
            "text/plain": [
              "<IPython.core.display.Math object>"
            ],
            "text/latex": "$\\displaystyle \\textbf{Coefficient Values:}\\\\a_{1,1} = 3,\\; a_{1,2} = 2,\\; a_{1,3} = 2\\\\a_{2,1} = 1,\\; a_{2,2} = 1,\\; a_{2,3} = 3\\\\a_{3,1} = 2,\\; a_{3,2} = 3,\\; a_{3,3} = 1\\\\[1em]\\textbf{Variable Values:}\\\\x_{1} = 25000,\\; x_{2} = 25500,\\; x_{3} = 26000\\\\[1em]\\begin{cases} 3x_{1} + 2x_{2} + 2x_{3} = 178000\\\\ x_{1} + x_{2} + 3x_{3} = 128500\\\\ 2x_{1} + 3x_{2} + x_{3} = 152500\\end{cases}$"
          },
          "metadata": {}
        },
        {
          "output_type": "stream",
          "name": "stdout",
          "text": [
            "\n",
            "Possibility #210\n"
          ]
        },
        {
          "output_type": "display_data",
          "data": {
            "text/plain": [
              "<IPython.core.display.Math object>"
            ],
            "text/latex": "$\\displaystyle \\textbf{Coefficient Values:}\\\\a_{1,1} = 3,\\; a_{1,2} = 2,\\; a_{1,3} = 2\\\\a_{2,1} = 1,\\; a_{2,2} = 1,\\; a_{2,3} = 3\\\\a_{3,1} = 2,\\; a_{3,2} = 3,\\; a_{3,3} = 1\\\\[1em]\\textbf{Variable Values:}\\\\x_{1} = 25000,\\; x_{2} = 25500,\\; x_{3} = 27000\\\\[1em]\\begin{cases} 3x_{1} + 2x_{2} + 2x_{3} = 180000\\\\ x_{1} + x_{2} + 3x_{3} = 131500\\\\ 2x_{1} + 3x_{2} + x_{3} = 153500\\end{cases}$"
          },
          "metadata": {}
        },
        {
          "output_type": "stream",
          "name": "stdout",
          "text": [
            "\n",
            "Possibility #211\n"
          ]
        },
        {
          "output_type": "display_data",
          "data": {
            "text/plain": [
              "<IPython.core.display.Math object>"
            ],
            "text/latex": "$\\displaystyle \\textbf{Coefficient Values:}\\\\a_{1,1} = 3,\\; a_{1,2} = 2,\\; a_{1,3} = 2\\\\a_{2,1} = 1,\\; a_{2,2} = 3,\\; a_{2,3} = 1\\\\a_{3,1} = 2,\\; a_{3,2} = 1,\\; a_{3,3} = 3\\\\[1em]\\textbf{Variable Values:}\\\\x_{1} = 25000,\\; x_{2} = 25500,\\; x_{3} = 26000\\\\[1em]\\begin{cases} 3x_{1} + 2x_{2} + 2x_{3} = 178000\\\\ x_{1} + 3x_{2} + x_{3} = 127500\\\\ 2x_{1} + x_{2} + 3x_{3} = 153500\\end{cases}$"
          },
          "metadata": {}
        },
        {
          "output_type": "stream",
          "name": "stdout",
          "text": [
            "\n",
            "Possibility #212\n"
          ]
        },
        {
          "output_type": "display_data",
          "data": {
            "text/plain": [
              "<IPython.core.display.Math object>"
            ],
            "text/latex": "$\\displaystyle \\textbf{Coefficient Values:}\\\\a_{1,1} = 3,\\; a_{1,2} = 2,\\; a_{1,3} = 2\\\\a_{2,1} = 1,\\; a_{2,2} = 3,\\; a_{2,3} = 1\\\\a_{3,1} = 2,\\; a_{3,2} = 1,\\; a_{3,3} = 3\\\\[1em]\\textbf{Variable Values:}\\\\x_{1} = 25000,\\; x_{2} = 25500,\\; x_{3} = 27000\\\\[1em]\\begin{cases} 3x_{1} + 2x_{2} + 2x_{3} = 180000\\\\ x_{1} + 3x_{2} + x_{3} = 128500\\\\ 2x_{1} + x_{2} + 3x_{3} = 156500\\end{cases}$"
          },
          "metadata": {}
        },
        {
          "output_type": "stream",
          "name": "stdout",
          "text": [
            "\n",
            "Possibility #213\n"
          ]
        },
        {
          "output_type": "display_data",
          "data": {
            "text/plain": [
              "<IPython.core.display.Math object>"
            ],
            "text/latex": "$\\displaystyle \\textbf{Coefficient Values:}\\\\a_{1,1} = 3,\\; a_{1,2} = 2,\\; a_{1,3} = 2\\\\a_{2,1} = 2,\\; a_{2,2} = 1,\\; a_{2,3} = 3\\\\a_{3,1} = 1,\\; a_{3,2} = 3,\\; a_{3,3} = 1\\\\[1em]\\textbf{Variable Values:}\\\\x_{1} = 25000,\\; x_{2} = 25500,\\; x_{3} = 26000\\\\[1em]\\begin{cases} 3x_{1} + 2x_{2} + 2x_{3} = 178000\\\\ 2x_{1} + x_{2} + 3x_{3} = 153500\\\\ x_{1} + 3x_{2} + x_{3} = 127500\\end{cases}$"
          },
          "metadata": {}
        },
        {
          "output_type": "stream",
          "name": "stdout",
          "text": [
            "\n",
            "Possibility #214\n"
          ]
        },
        {
          "output_type": "display_data",
          "data": {
            "text/plain": [
              "<IPython.core.display.Math object>"
            ],
            "text/latex": "$\\displaystyle \\textbf{Coefficient Values:}\\\\a_{1,1} = 3,\\; a_{1,2} = 2,\\; a_{1,3} = 2\\\\a_{2,1} = 2,\\; a_{2,2} = 1,\\; a_{2,3} = 3\\\\a_{3,1} = 1,\\; a_{3,2} = 3,\\; a_{3,3} = 1\\\\[1em]\\textbf{Variable Values:}\\\\x_{1} = 25000,\\; x_{2} = 25500,\\; x_{3} = 27000\\\\[1em]\\begin{cases} 3x_{1} + 2x_{2} + 2x_{3} = 180000\\\\ 2x_{1} + x_{2} + 3x_{3} = 156500\\\\ x_{1} + 3x_{2} + x_{3} = 128500\\end{cases}$"
          },
          "metadata": {}
        },
        {
          "output_type": "stream",
          "name": "stdout",
          "text": [
            "\n",
            "Possibility #215\n"
          ]
        },
        {
          "output_type": "display_data",
          "data": {
            "text/plain": [
              "<IPython.core.display.Math object>"
            ],
            "text/latex": "$\\displaystyle \\textbf{Coefficient Values:}\\\\a_{1,1} = 3,\\; a_{1,2} = 2,\\; a_{1,3} = 2\\\\a_{2,1} = 2,\\; a_{2,2} = 3,\\; a_{2,3} = 1\\\\a_{3,1} = 1,\\; a_{3,2} = 1,\\; a_{3,3} = 3\\\\[1em]\\textbf{Variable Values:}\\\\x_{1} = 25000,\\; x_{2} = 25500,\\; x_{3} = 26000\\\\[1em]\\begin{cases} 3x_{1} + 2x_{2} + 2x_{3} = 178000\\\\ 2x_{1} + 3x_{2} + x_{3} = 152500\\\\ x_{1} + x_{2} + 3x_{3} = 128500\\end{cases}$"
          },
          "metadata": {}
        },
        {
          "output_type": "stream",
          "name": "stdout",
          "text": [
            "\n",
            "Possibility #216\n"
          ]
        },
        {
          "output_type": "display_data",
          "data": {
            "text/plain": [
              "<IPython.core.display.Math object>"
            ],
            "text/latex": "$\\displaystyle \\textbf{Coefficient Values:}\\\\a_{1,1} = 3,\\; a_{1,2} = 2,\\; a_{1,3} = 2\\\\a_{2,1} = 2,\\; a_{2,2} = 3,\\; a_{2,3} = 1\\\\a_{3,1} = 1,\\; a_{3,2} = 1,\\; a_{3,3} = 3\\\\[1em]\\textbf{Variable Values:}\\\\x_{1} = 25000,\\; x_{2} = 25500,\\; x_{3} = 27000\\\\[1em]\\begin{cases} 3x_{1} + 2x_{2} + 2x_{3} = 180000\\\\ 2x_{1} + 3x_{2} + x_{3} = 153500\\\\ x_{1} + x_{2} + 3x_{3} = 131500\\end{cases}$"
          },
          "metadata": {}
        },
        {
          "output_type": "stream",
          "name": "stdout",
          "text": [
            "\n",
            "Possibility #217\n"
          ]
        },
        {
          "output_type": "display_data",
          "data": {
            "text/plain": [
              "<IPython.core.display.Math object>"
            ],
            "text/latex": "$\\displaystyle \\textbf{Coefficient Values:}\\\\a_{1,1} = 3,\\; a_{1,2} = 2,\\; a_{1,3} = 3\\\\a_{2,1} = 1,\\; a_{2,2} = 1,\\; a_{2,3} = 2\\\\a_{3,1} = 2,\\; a_{3,2} = 3,\\; a_{3,3} = 1\\\\[1em]\\textbf{Variable Values:}\\\\x_{1} = 25000,\\; x_{2} = 25500,\\; x_{3} = 26000\\\\[1em]\\begin{cases} 3x_{1} + 2x_{2} + 3x_{3} = 204000\\\\ x_{1} + x_{2} + 2x_{3} = 102500\\\\ 2x_{1} + 3x_{2} + x_{3} = 152500\\end{cases}$"
          },
          "metadata": {}
        },
        {
          "output_type": "stream",
          "name": "stdout",
          "text": [
            "\n",
            "Possibility #218\n"
          ]
        },
        {
          "output_type": "display_data",
          "data": {
            "text/plain": [
              "<IPython.core.display.Math object>"
            ],
            "text/latex": "$\\displaystyle \\textbf{Coefficient Values:}\\\\a_{1,1} = 3,\\; a_{1,2} = 2,\\; a_{1,3} = 3\\\\a_{2,1} = 1,\\; a_{2,2} = 1,\\; a_{2,3} = 2\\\\a_{3,1} = 2,\\; a_{3,2} = 3,\\; a_{3,3} = 1\\\\[1em]\\textbf{Variable Values:}\\\\x_{1} = 25000,\\; x_{2} = 25500,\\; x_{3} = 27000\\\\[1em]\\begin{cases} 3x_{1} + 2x_{2} + 3x_{3} = 207000\\\\ x_{1} + x_{2} + 2x_{3} = 104500\\\\ 2x_{1} + 3x_{2} + x_{3} = 153500\\end{cases}$"
          },
          "metadata": {}
        },
        {
          "output_type": "stream",
          "name": "stdout",
          "text": [
            "\n",
            "Possibility #219\n"
          ]
        },
        {
          "output_type": "display_data",
          "data": {
            "text/plain": [
              "<IPython.core.display.Math object>"
            ],
            "text/latex": "$\\displaystyle \\textbf{Coefficient Values:}\\\\a_{1,1} = 3,\\; a_{1,2} = 2,\\; a_{1,3} = 3\\\\a_{2,1} = 1,\\; a_{2,2} = 3,\\; a_{2,3} = 2\\\\a_{3,1} = 2,\\; a_{3,2} = 1,\\; a_{3,3} = 1\\\\[1em]\\textbf{Variable Values:}\\\\x_{1} = 25000,\\; x_{2} = 25500,\\; x_{3} = 26000\\\\[1em]\\begin{cases} 3x_{1} + 2x_{2} + 3x_{3} = 204000\\\\ x_{1} + 3x_{2} + 2x_{3} = 153500\\\\ 2x_{1} + x_{2} + x_{3} = 101500\\end{cases}$"
          },
          "metadata": {}
        },
        {
          "output_type": "stream",
          "name": "stdout",
          "text": [
            "\n",
            "Possibility #220\n"
          ]
        },
        {
          "output_type": "display_data",
          "data": {
            "text/plain": [
              "<IPython.core.display.Math object>"
            ],
            "text/latex": "$\\displaystyle \\textbf{Coefficient Values:}\\\\a_{1,1} = 3,\\; a_{1,2} = 2,\\; a_{1,3} = 3\\\\a_{2,1} = 1,\\; a_{2,2} = 3,\\; a_{2,3} = 2\\\\a_{3,1} = 2,\\; a_{3,2} = 1,\\; a_{3,3} = 1\\\\[1em]\\textbf{Variable Values:}\\\\x_{1} = 25000,\\; x_{2} = 25500,\\; x_{3} = 27000\\\\[1em]\\begin{cases} 3x_{1} + 2x_{2} + 3x_{3} = 207000\\\\ x_{1} + 3x_{2} + 2x_{3} = 155500\\\\ 2x_{1} + x_{2} + x_{3} = 102500\\end{cases}$"
          },
          "metadata": {}
        },
        {
          "output_type": "stream",
          "name": "stdout",
          "text": [
            "\n",
            "Possibility #221\n"
          ]
        },
        {
          "output_type": "display_data",
          "data": {
            "text/plain": [
              "<IPython.core.display.Math object>"
            ],
            "text/latex": "$\\displaystyle \\textbf{Coefficient Values:}\\\\a_{1,1} = 3,\\; a_{1,2} = 2,\\; a_{1,3} = 3\\\\a_{2,1} = 2,\\; a_{2,2} = 1,\\; a_{2,3} = 1\\\\a_{3,1} = 1,\\; a_{3,2} = 3,\\; a_{3,3} = 2\\\\[1em]\\textbf{Variable Values:}\\\\x_{1} = 25000,\\; x_{2} = 25500,\\; x_{3} = 26000\\\\[1em]\\begin{cases} 3x_{1} + 2x_{2} + 3x_{3} = 204000\\\\ 2x_{1} + x_{2} + x_{3} = 101500\\\\ x_{1} + 3x_{2} + 2x_{3} = 153500\\end{cases}$"
          },
          "metadata": {}
        },
        {
          "output_type": "stream",
          "name": "stdout",
          "text": [
            "\n",
            "Possibility #222\n"
          ]
        },
        {
          "output_type": "display_data",
          "data": {
            "text/plain": [
              "<IPython.core.display.Math object>"
            ],
            "text/latex": "$\\displaystyle \\textbf{Coefficient Values:}\\\\a_{1,1} = 3,\\; a_{1,2} = 2,\\; a_{1,3} = 3\\\\a_{2,1} = 2,\\; a_{2,2} = 1,\\; a_{2,3} = 1\\\\a_{3,1} = 1,\\; a_{3,2} = 3,\\; a_{3,3} = 2\\\\[1em]\\textbf{Variable Values:}\\\\x_{1} = 25000,\\; x_{2} = 25500,\\; x_{3} = 27000\\\\[1em]\\begin{cases} 3x_{1} + 2x_{2} + 3x_{3} = 207000\\\\ 2x_{1} + x_{2} + x_{3} = 102500\\\\ x_{1} + 3x_{2} + 2x_{3} = 155500\\end{cases}$"
          },
          "metadata": {}
        },
        {
          "output_type": "stream",
          "name": "stdout",
          "text": [
            "\n",
            "Possibility #223\n"
          ]
        },
        {
          "output_type": "display_data",
          "data": {
            "text/plain": [
              "<IPython.core.display.Math object>"
            ],
            "text/latex": "$\\displaystyle \\textbf{Coefficient Values:}\\\\a_{1,1} = 3,\\; a_{1,2} = 2,\\; a_{1,3} = 3\\\\a_{2,1} = 2,\\; a_{2,2} = 3,\\; a_{2,3} = 1\\\\a_{3,1} = 1,\\; a_{3,2} = 1,\\; a_{3,3} = 2\\\\[1em]\\textbf{Variable Values:}\\\\x_{1} = 25000,\\; x_{2} = 25500,\\; x_{3} = 26000\\\\[1em]\\begin{cases} 3x_{1} + 2x_{2} + 3x_{3} = 204000\\\\ 2x_{1} + 3x_{2} + x_{3} = 152500\\\\ x_{1} + x_{2} + 2x_{3} = 102500\\end{cases}$"
          },
          "metadata": {}
        },
        {
          "output_type": "stream",
          "name": "stdout",
          "text": [
            "\n",
            "Possibility #224\n"
          ]
        },
        {
          "output_type": "display_data",
          "data": {
            "text/plain": [
              "<IPython.core.display.Math object>"
            ],
            "text/latex": "$\\displaystyle \\textbf{Coefficient Values:}\\\\a_{1,1} = 3,\\; a_{1,2} = 2,\\; a_{1,3} = 3\\\\a_{2,1} = 2,\\; a_{2,2} = 3,\\; a_{2,3} = 1\\\\a_{3,1} = 1,\\; a_{3,2} = 1,\\; a_{3,3} = 2\\\\[1em]\\textbf{Variable Values:}\\\\x_{1} = 25000,\\; x_{2} = 25500,\\; x_{3} = 27000\\\\[1em]\\begin{cases} 3x_{1} + 2x_{2} + 3x_{3} = 207000\\\\ 2x_{1} + 3x_{2} + x_{3} = 153500\\\\ x_{1} + x_{2} + 2x_{3} = 104500\\end{cases}$"
          },
          "metadata": {}
        },
        {
          "output_type": "stream",
          "name": "stdout",
          "text": [
            "\n",
            "Possibility #225\n"
          ]
        },
        {
          "output_type": "display_data",
          "data": {
            "text/plain": [
              "<IPython.core.display.Math object>"
            ],
            "text/latex": "$\\displaystyle \\textbf{Coefficient Values:}\\\\a_{1,1} = 3,\\; a_{1,2} = 3,\\; a_{1,3} = 1\\\\a_{2,1} = 1,\\; a_{2,2} = 2,\\; a_{2,3} = 2\\\\a_{3,1} = 2,\\; a_{3,2} = 1,\\; a_{3,3} = 3\\\\[1em]\\textbf{Variable Values:}\\\\x_{1} = 25000,\\; x_{2} = 25500,\\; x_{3} = 26000\\\\[1em]\\begin{cases} 3x_{1} + 3x_{2} + x_{3} = 177500\\\\ x_{1} + 2x_{2} + 2x_{3} = 128000\\\\ 2x_{1} + x_{2} + 3x_{3} = 153500\\end{cases}$"
          },
          "metadata": {}
        },
        {
          "output_type": "stream",
          "name": "stdout",
          "text": [
            "\n",
            "Possibility #226\n"
          ]
        },
        {
          "output_type": "display_data",
          "data": {
            "text/plain": [
              "<IPython.core.display.Math object>"
            ],
            "text/latex": "$\\displaystyle \\textbf{Coefficient Values:}\\\\a_{1,1} = 3,\\; a_{1,2} = 3,\\; a_{1,3} = 1\\\\a_{2,1} = 1,\\; a_{2,2} = 2,\\; a_{2,3} = 2\\\\a_{3,1} = 2,\\; a_{3,2} = 1,\\; a_{3,3} = 3\\\\[1em]\\textbf{Variable Values:}\\\\x_{1} = 25000,\\; x_{2} = 25500,\\; x_{3} = 27000\\\\[1em]\\begin{cases} 3x_{1} + 3x_{2} + x_{3} = 178500\\\\ x_{1} + 2x_{2} + 2x_{3} = 130000\\\\ 2x_{1} + x_{2} + 3x_{3} = 156500\\end{cases}$"
          },
          "metadata": {}
        },
        {
          "output_type": "stream",
          "name": "stdout",
          "text": [
            "\n",
            "Possibility #227\n"
          ]
        },
        {
          "output_type": "display_data",
          "data": {
            "text/plain": [
              "<IPython.core.display.Math object>"
            ],
            "text/latex": "$\\displaystyle \\textbf{Coefficient Values:}\\\\a_{1,1} = 3,\\; a_{1,2} = 3,\\; a_{1,3} = 1\\\\a_{2,1} = 1,\\; a_{2,2} = 2,\\; a_{2,3} = 3\\\\a_{3,1} = 2,\\; a_{3,2} = 1,\\; a_{3,3} = 2\\\\[1em]\\textbf{Variable Values:}\\\\x_{1} = 25000,\\; x_{2} = 25500,\\; x_{3} = 26000\\\\[1em]\\begin{cases} 3x_{1} + 3x_{2} + x_{3} = 177500\\\\ x_{1} + 2x_{2} + 3x_{3} = 154000\\\\ 2x_{1} + x_{2} + 2x_{3} = 127500\\end{cases}$"
          },
          "metadata": {}
        },
        {
          "output_type": "stream",
          "name": "stdout",
          "text": [
            "\n",
            "Possibility #228\n"
          ]
        },
        {
          "output_type": "display_data",
          "data": {
            "text/plain": [
              "<IPython.core.display.Math object>"
            ],
            "text/latex": "$\\displaystyle \\textbf{Coefficient Values:}\\\\a_{1,1} = 3,\\; a_{1,2} = 3,\\; a_{1,3} = 1\\\\a_{2,1} = 1,\\; a_{2,2} = 2,\\; a_{2,3} = 3\\\\a_{3,1} = 2,\\; a_{3,2} = 1,\\; a_{3,3} = 2\\\\[1em]\\textbf{Variable Values:}\\\\x_{1} = 25000,\\; x_{2} = 25500,\\; x_{3} = 27000\\\\[1em]\\begin{cases} 3x_{1} + 3x_{2} + x_{3} = 178500\\\\ x_{1} + 2x_{2} + 3x_{3} = 157000\\\\ 2x_{1} + x_{2} + 2x_{3} = 129500\\end{cases}$"
          },
          "metadata": {}
        },
        {
          "output_type": "stream",
          "name": "stdout",
          "text": [
            "\n",
            "Possibility #229\n"
          ]
        },
        {
          "output_type": "display_data",
          "data": {
            "text/plain": [
              "<IPython.core.display.Math object>"
            ],
            "text/latex": "$\\displaystyle \\textbf{Coefficient Values:}\\\\a_{1,1} = 3,\\; a_{1,2} = 3,\\; a_{1,3} = 1\\\\a_{2,1} = 2,\\; a_{2,2} = 1,\\; a_{2,3} = 2\\\\a_{3,1} = 1,\\; a_{3,2} = 2,\\; a_{3,3} = 3\\\\[1em]\\textbf{Variable Values:}\\\\x_{1} = 25000,\\; x_{2} = 25500,\\; x_{3} = 26000\\\\[1em]\\begin{cases} 3x_{1} + 3x_{2} + x_{3} = 177500\\\\ 2x_{1} + x_{2} + 2x_{3} = 127500\\\\ x_{1} + 2x_{2} + 3x_{3} = 154000\\end{cases}$"
          },
          "metadata": {}
        },
        {
          "output_type": "stream",
          "name": "stdout",
          "text": [
            "\n",
            "Possibility #230\n"
          ]
        },
        {
          "output_type": "display_data",
          "data": {
            "text/plain": [
              "<IPython.core.display.Math object>"
            ],
            "text/latex": "$\\displaystyle \\textbf{Coefficient Values:}\\\\a_{1,1} = 3,\\; a_{1,2} = 3,\\; a_{1,3} = 1\\\\a_{2,1} = 2,\\; a_{2,2} = 1,\\; a_{2,3} = 2\\\\a_{3,1} = 1,\\; a_{3,2} = 2,\\; a_{3,3} = 3\\\\[1em]\\textbf{Variable Values:}\\\\x_{1} = 25000,\\; x_{2} = 25500,\\; x_{3} = 27000\\\\[1em]\\begin{cases} 3x_{1} + 3x_{2} + x_{3} = 178500\\\\ 2x_{1} + x_{2} + 2x_{3} = 129500\\\\ x_{1} + 2x_{2} + 3x_{3} = 157000\\end{cases}$"
          },
          "metadata": {}
        },
        {
          "output_type": "stream",
          "name": "stdout",
          "text": [
            "\n",
            "Possibility #231\n"
          ]
        },
        {
          "output_type": "display_data",
          "data": {
            "text/plain": [
              "<IPython.core.display.Math object>"
            ],
            "text/latex": "$\\displaystyle \\textbf{Coefficient Values:}\\\\a_{1,1} = 3,\\; a_{1,2} = 3,\\; a_{1,3} = 1\\\\a_{2,1} = 2,\\; a_{2,2} = 1,\\; a_{2,3} = 3\\\\a_{3,1} = 1,\\; a_{3,2} = 2,\\; a_{3,3} = 2\\\\[1em]\\textbf{Variable Values:}\\\\x_{1} = 25000,\\; x_{2} = 25500,\\; x_{3} = 26000\\\\[1em]\\begin{cases} 3x_{1} + 3x_{2} + x_{3} = 177500\\\\ 2x_{1} + x_{2} + 3x_{3} = 153500\\\\ x_{1} + 2x_{2} + 2x_{3} = 128000\\end{cases}$"
          },
          "metadata": {}
        },
        {
          "output_type": "stream",
          "name": "stdout",
          "text": [
            "\n",
            "Possibility #232\n"
          ]
        },
        {
          "output_type": "display_data",
          "data": {
            "text/plain": [
              "<IPython.core.display.Math object>"
            ],
            "text/latex": "$\\displaystyle \\textbf{Coefficient Values:}\\\\a_{1,1} = 3,\\; a_{1,2} = 3,\\; a_{1,3} = 1\\\\a_{2,1} = 2,\\; a_{2,2} = 1,\\; a_{2,3} = 3\\\\a_{3,1} = 1,\\; a_{3,2} = 2,\\; a_{3,3} = 2\\\\[1em]\\textbf{Variable Values:}\\\\x_{1} = 25000,\\; x_{2} = 25500,\\; x_{3} = 27000\\\\[1em]\\begin{cases} 3x_{1} + 3x_{2} + x_{3} = 178500\\\\ 2x_{1} + x_{2} + 3x_{3} = 156500\\\\ x_{1} + 2x_{2} + 2x_{3} = 130000\\end{cases}$"
          },
          "metadata": {}
        },
        {
          "output_type": "stream",
          "name": "stdout",
          "text": [
            "\n",
            "Possibility #233\n"
          ]
        },
        {
          "output_type": "display_data",
          "data": {
            "text/plain": [
              "<IPython.core.display.Math object>"
            ],
            "text/latex": "$\\displaystyle \\textbf{Coefficient Values:}\\\\a_{1,1} = 3,\\; a_{1,2} = 3,\\; a_{1,3} = 2\\\\a_{2,1} = 1,\\; a_{2,2} = 2,\\; a_{2,3} = 1\\\\a_{3,1} = 2,\\; a_{3,2} = 1,\\; a_{3,3} = 3\\\\[1em]\\textbf{Variable Values:}\\\\x_{1} = 25000,\\; x_{2} = 25500,\\; x_{3} = 26000\\\\[1em]\\begin{cases} 3x_{1} + 3x_{2} + 2x_{3} = 203500\\\\ x_{1} + 2x_{2} + x_{3} = 102000\\\\ 2x_{1} + x_{2} + 3x_{3} = 153500\\end{cases}$"
          },
          "metadata": {}
        },
        {
          "output_type": "stream",
          "name": "stdout",
          "text": [
            "\n",
            "Possibility #234\n"
          ]
        },
        {
          "output_type": "display_data",
          "data": {
            "text/plain": [
              "<IPython.core.display.Math object>"
            ],
            "text/latex": "$\\displaystyle \\textbf{Coefficient Values:}\\\\a_{1,1} = 3,\\; a_{1,2} = 3,\\; a_{1,3} = 2\\\\a_{2,1} = 1,\\; a_{2,2} = 2,\\; a_{2,3} = 1\\\\a_{3,1} = 2,\\; a_{3,2} = 1,\\; a_{3,3} = 3\\\\[1em]\\textbf{Variable Values:}\\\\x_{1} = 25000,\\; x_{2} = 25500,\\; x_{3} = 27000\\\\[1em]\\begin{cases} 3x_{1} + 3x_{2} + 2x_{3} = 205500\\\\ x_{1} + 2x_{2} + x_{3} = 103000\\\\ 2x_{1} + x_{2} + 3x_{3} = 156500\\end{cases}$"
          },
          "metadata": {}
        },
        {
          "output_type": "stream",
          "name": "stdout",
          "text": [
            "\n",
            "Possibility #235\n"
          ]
        },
        {
          "output_type": "display_data",
          "data": {
            "text/plain": [
              "<IPython.core.display.Math object>"
            ],
            "text/latex": "$\\displaystyle \\textbf{Coefficient Values:}\\\\a_{1,1} = 3,\\; a_{1,2} = 3,\\; a_{1,3} = 2\\\\a_{2,1} = 1,\\; a_{2,2} = 2,\\; a_{2,3} = 3\\\\a_{3,1} = 2,\\; a_{3,2} = 1,\\; a_{3,3} = 1\\\\[1em]\\textbf{Variable Values:}\\\\x_{1} = 25000,\\; x_{2} = 25500,\\; x_{3} = 26000\\\\[1em]\\begin{cases} 3x_{1} + 3x_{2} + 2x_{3} = 203500\\\\ x_{1} + 2x_{2} + 3x_{3} = 154000\\\\ 2x_{1} + x_{2} + x_{3} = 101500\\end{cases}$"
          },
          "metadata": {}
        },
        {
          "output_type": "stream",
          "name": "stdout",
          "text": [
            "\n",
            "Possibility #236\n"
          ]
        },
        {
          "output_type": "display_data",
          "data": {
            "text/plain": [
              "<IPython.core.display.Math object>"
            ],
            "text/latex": "$\\displaystyle \\textbf{Coefficient Values:}\\\\a_{1,1} = 3,\\; a_{1,2} = 3,\\; a_{1,3} = 2\\\\a_{2,1} = 1,\\; a_{2,2} = 2,\\; a_{2,3} = 3\\\\a_{3,1} = 2,\\; a_{3,2} = 1,\\; a_{3,3} = 1\\\\[1em]\\textbf{Variable Values:}\\\\x_{1} = 25000,\\; x_{2} = 25500,\\; x_{3} = 27000\\\\[1em]\\begin{cases} 3x_{1} + 3x_{2} + 2x_{3} = 205500\\\\ x_{1} + 2x_{2} + 3x_{3} = 157000\\\\ 2x_{1} + x_{2} + x_{3} = 102500\\end{cases}$"
          },
          "metadata": {}
        },
        {
          "output_type": "stream",
          "name": "stdout",
          "text": [
            "\n",
            "Possibility #237\n"
          ]
        },
        {
          "output_type": "display_data",
          "data": {
            "text/plain": [
              "<IPython.core.display.Math object>"
            ],
            "text/latex": "$\\displaystyle \\textbf{Coefficient Values:}\\\\a_{1,1} = 3,\\; a_{1,2} = 3,\\; a_{1,3} = 2\\\\a_{2,1} = 2,\\; a_{2,2} = 1,\\; a_{2,3} = 1\\\\a_{3,1} = 1,\\; a_{3,2} = 2,\\; a_{3,3} = 3\\\\[1em]\\textbf{Variable Values:}\\\\x_{1} = 25000,\\; x_{2} = 25500,\\; x_{3} = 26000\\\\[1em]\\begin{cases} 3x_{1} + 3x_{2} + 2x_{3} = 203500\\\\ 2x_{1} + x_{2} + x_{3} = 101500\\\\ x_{1} + 2x_{2} + 3x_{3} = 154000\\end{cases}$"
          },
          "metadata": {}
        },
        {
          "output_type": "stream",
          "name": "stdout",
          "text": [
            "\n",
            "Possibility #238\n"
          ]
        },
        {
          "output_type": "display_data",
          "data": {
            "text/plain": [
              "<IPython.core.display.Math object>"
            ],
            "text/latex": "$\\displaystyle \\textbf{Coefficient Values:}\\\\a_{1,1} = 3,\\; a_{1,2} = 3,\\; a_{1,3} = 2\\\\a_{2,1} = 2,\\; a_{2,2} = 1,\\; a_{2,3} = 1\\\\a_{3,1} = 1,\\; a_{3,2} = 2,\\; a_{3,3} = 3\\\\[1em]\\textbf{Variable Values:}\\\\x_{1} = 25000,\\; x_{2} = 25500,\\; x_{3} = 27000\\\\[1em]\\begin{cases} 3x_{1} + 3x_{2} + 2x_{3} = 205500\\\\ 2x_{1} + x_{2} + x_{3} = 102500\\\\ x_{1} + 2x_{2} + 3x_{3} = 157000\\end{cases}$"
          },
          "metadata": {}
        },
        {
          "output_type": "stream",
          "name": "stdout",
          "text": [
            "\n",
            "Possibility #239\n"
          ]
        },
        {
          "output_type": "display_data",
          "data": {
            "text/plain": [
              "<IPython.core.display.Math object>"
            ],
            "text/latex": "$\\displaystyle \\textbf{Coefficient Values:}\\\\a_{1,1} = 3,\\; a_{1,2} = 3,\\; a_{1,3} = 2\\\\a_{2,1} = 2,\\; a_{2,2} = 1,\\; a_{2,3} = 3\\\\a_{3,1} = 1,\\; a_{3,2} = 2,\\; a_{3,3} = 1\\\\[1em]\\textbf{Variable Values:}\\\\x_{1} = 25000,\\; x_{2} = 25500,\\; x_{3} = 26000\\\\[1em]\\begin{cases} 3x_{1} + 3x_{2} + 2x_{3} = 203500\\\\ 2x_{1} + x_{2} + 3x_{3} = 153500\\\\ x_{1} + 2x_{2} + x_{3} = 102000\\end{cases}$"
          },
          "metadata": {}
        },
        {
          "output_type": "stream",
          "name": "stdout",
          "text": [
            "\n",
            "Possibility #240\n"
          ]
        },
        {
          "output_type": "display_data",
          "data": {
            "text/plain": [
              "<IPython.core.display.Math object>"
            ],
            "text/latex": "$\\displaystyle \\textbf{Coefficient Values:}\\\\a_{1,1} = 3,\\; a_{1,2} = 3,\\; a_{1,3} = 2\\\\a_{2,1} = 2,\\; a_{2,2} = 1,\\; a_{2,3} = 3\\\\a_{3,1} = 1,\\; a_{3,2} = 2,\\; a_{3,3} = 1\\\\[1em]\\textbf{Variable Values:}\\\\x_{1} = 25000,\\; x_{2} = 25500,\\; x_{3} = 27000\\\\[1em]\\begin{cases} 3x_{1} + 3x_{2} + 2x_{3} = 205500\\\\ 2x_{1} + x_{2} + 3x_{3} = 156500\\\\ x_{1} + 2x_{2} + x_{3} = 103000\\end{cases}$"
          },
          "metadata": {}
        }
      ],
      "source": [
        "coeff_matrix_example = [\n",
        "    [[1, 2, 3], [1, 2, 3], [1, 2, 3]],\n",
        "    [[1, 2, 3], [1, 2, 3], [1, 2, 3]],\n",
        "    [[1, 2, 3], [1, 2, 3], [1, 2, 3]]\n",
        "]\n",
        "\n",
        "var_values_example = [\n",
        "    [25000],\n",
        "    [25500],\n",
        "    [26000, 27000]\n",
        "]\n",
        "\n",
        "sle(coeff_matrix_example, var_values_example)"
      ]
    },
    {
      "cell_type": "code",
      "source": [
        "# Terminal version\n",
        "\n",
        "from itertools import product\n",
        "from fractions import Fraction\n",
        "from sympy import symbols, Eq, solve\n",
        "\n",
        "def is_multiple(row1, row2):\n",
        "    try:\n",
        "        ratios = [Fraction(r2, r1) for r1, r2 in zip(row1, row2) if r1 != 0]\n",
        "        return all(r == ratios[0] for r in ratios) and len(ratios) == len(row1)\n",
        "    except ZeroDivisionError:\n",
        "        return False\n",
        "\n",
        "def format_term(coef, var):\n",
        "    if coef == 0:\n",
        "        return \"\"\n",
        "    sign = \"-\" if coef < 0 else \"\"\n",
        "    abs_coef = abs(coef)\n",
        "    if abs_coef == 1:\n",
        "        return f\"{sign}{var}\"\n",
        "    else:\n",
        "        return f\"{sign}{abs_coef}{var}\"\n",
        "\n",
        "def sle_ter(coeff_matrix, var_values, max_possibilities=10000):\n",
        "    num_eqs = len(coeff_matrix)\n",
        "    num_vars = len(coeff_matrix[0])\n",
        "    var_symbols = symbols(f'x1:{num_vars+1}')\n",
        "    t = 0\n",
        "    printed_systems = set()\n",
        "\n",
        "    print(f\"System with {num_vars} variables and {num_eqs} equations:\\n\")\n",
        "\n",
        "    coeff_combinations = list(product(*[product(*row) for row in coeff_matrix]))\n",
        "\n",
        "    for coeff_tuple in coeff_combinations:\n",
        "        matrix = [list(coeff_tuple[i]) for i in range(len(coeff_tuple))]\n",
        "        if not all(len(row) == num_vars for row in matrix):\n",
        "            continue\n",
        "\n",
        "        if any(matrix[i] == matrix[j] for i in range(num_eqs) for j in range(i+1, num_eqs)):\n",
        "            continue\n",
        "\n",
        "        skip = False\n",
        "        for i in range(num_eqs):\n",
        "            for j in range(i+1, num_eqs):\n",
        "                if is_multiple(matrix[i], matrix[j]):\n",
        "                    skip = True\n",
        "                    break\n",
        "            if skip:\n",
        "                break\n",
        "        if skip:\n",
        "            continue\n",
        "\n",
        "        columns = list(zip(*matrix))\n",
        "        if any(len(set(col)) < len(col) for col in columns):\n",
        "            continue\n",
        "\n",
        "        for values in product(*var_values):\n",
        "            rhs = [sum(c * v for c, v in zip(row, values)) for row in matrix]\n",
        "            system_key = tuple((tuple(row), rhs[i]) for i, row in enumerate(matrix))\n",
        "            if system_key in printed_systems:\n",
        "                continue\n",
        "            printed_systems.add(system_key)\n",
        "\n",
        "            # Tambahan: Buat sistem persamaan untuk validasi solusi unik\n",
        "            equations = [Eq(sum(row[j] * var_symbols[j] for j in range(num_vars)), rhs[i]) for i, row in enumerate(matrix)]\n",
        "            try:\n",
        "                solution = solve(equations, var_symbols, dict=True)\n",
        "                if not solution:\n",
        "                    continue\n",
        "                if len(solution) != 1:\n",
        "                    continue\n",
        "                # Ambil solusi dan bandingkan dengan 'values'\n",
        "                solution_vals = tuple([solution[0][v] for v in var_symbols])\n",
        "                if solution_vals != values:\n",
        "                    continue\n",
        "            except:\n",
        "                continue\n",
        "\n",
        "            # Tampilkan sistem\n",
        "            t += 1\n",
        "            print(f\"\\nPossibility #{t}\")\n",
        "            print(\"The system of equations is:\")\n",
        "            print(\"=\" * 40)\n",
        "\n",
        "            print(\"Coefficient Values:\")\n",
        "            for i, row in enumerate(matrix):\n",
        "                line = \", \".join(f\"a_{i+1},{j+1} = {row[j]}\" for j in range(len(row)))\n",
        "                print(f\"  {line}\")\n",
        "\n",
        "            print(\"Variable Values:\")\n",
        "            var_line = \", \".join(f\"x{j+1} = {values[j]}\" for j in range(len(values)))\n",
        "            print(f\"  {var_line}\")\n",
        "\n",
        "            print(\"Equations:\")\n",
        "            for i, row in enumerate(matrix):\n",
        "                terms = [format_term(row[j], f\"x{j+1}\") for j in range(num_vars)]\n",
        "                terms = [term for term in terms if term]\n",
        "                if not terms:\n",
        "                    equation = f\"0 = {rhs[i]}\"\n",
        "                else:\n",
        "                    eq_str = terms[0]\n",
        "                    for term in terms[1:]:\n",
        "                        if term.startswith('-'):\n",
        "                            eq_str += f\" - {term[1:]}\"\n",
        "                        else:\n",
        "                            eq_str += f\" + {term}\"\n",
        "                    equation = f\"{eq_str} = {rhs[i]}\"\n",
        "                print(f\"  {equation}\")\n",
        "\n",
        "            if t >= max_possibilities:\n",
        "                print(\"\\nMaximum number of possibilities reached.\")\n",
        "                return"
      ],
      "metadata": {
        "id": "o2PMt4S6YGp7"
      },
      "execution_count": null,
      "outputs": []
    },
    {
      "cell_type": "code",
      "source": [
        "\n",
        "\n",
        "coeff_matrix_example = [\n",
        "    [[1, 2, 3], [1, 2, 3], [1, 2, 3]],\n",
        "    [[1, 2, 3], [1, 2, 3], [1, 2, 3]],\n",
        "    [[1, 2, 3], [1, 2, 3], [1, 2, 3]]\n",
        "]\n",
        "\n",
        "var_values_example = [\n",
        "    [25000],\n",
        "    [25500],\n",
        "    [26000, 27000]\n",
        "]\n",
        "\n",
        "sle_ter(coeff_matrix_example, var_values_example)"
      ],
      "metadata": {
        "colab": {
          "base_uri": "https://localhost:8080/"
        },
        "id": "zG42sHZJYVLA",
        "outputId": "4410234b-d9a4-4d09-a55a-3179c6bc5e84"
      },
      "execution_count": 11,
      "outputs": [
        {
          "output_type": "stream",
          "name": "stdout",
          "text": [
            "System with 3 variables and 3 equations:\n",
            "\n",
            "\n",
            "Possibility #1\n",
            "The system of equations is:\n",
            "========================================\n",
            "Coefficient Values:\n",
            "  a_1,1 = 1, a_1,2 = 1, a_1,3 = 2\n",
            "  a_2,1 = 2, a_2,2 = 3, a_2,3 = 1\n",
            "  a_3,1 = 3, a_3,2 = 2, a_3,3 = 3\n",
            "Variable Values:\n",
            "  x1 = 25000, x2 = 25500, x3 = 26000\n",
            "Equations:\n",
            "  x1 + x2 + 2x3 = 102500\n",
            "  2x1 + 3x2 + x3 = 152500\n",
            "  3x1 + 2x2 + 3x3 = 204000\n",
            "\n",
            "Possibility #2\n",
            "The system of equations is:\n",
            "========================================\n",
            "Coefficient Values:\n",
            "  a_1,1 = 1, a_1,2 = 1, a_1,3 = 2\n",
            "  a_2,1 = 2, a_2,2 = 3, a_2,3 = 1\n",
            "  a_3,1 = 3, a_3,2 = 2, a_3,3 = 3\n",
            "Variable Values:\n",
            "  x1 = 25000, x2 = 25500, x3 = 27000\n",
            "Equations:\n",
            "  x1 + x2 + 2x3 = 104500\n",
            "  2x1 + 3x2 + x3 = 153500\n",
            "  3x1 + 2x2 + 3x3 = 207000\n",
            "\n",
            "Possibility #3\n",
            "The system of equations is:\n",
            "========================================\n",
            "Coefficient Values:\n",
            "  a_1,1 = 1, a_1,2 = 1, a_1,3 = 2\n",
            "  a_2,1 = 2, a_2,2 = 3, a_2,3 = 3\n",
            "  a_3,1 = 3, a_3,2 = 2, a_3,3 = 1\n",
            "Variable Values:\n",
            "  x1 = 25000, x2 = 25500, x3 = 26000\n",
            "Equations:\n",
            "  x1 + x2 + 2x3 = 102500\n",
            "  2x1 + 3x2 + 3x3 = 204500\n",
            "  3x1 + 2x2 + x3 = 152000\n",
            "\n",
            "Possibility #4\n",
            "The system of equations is:\n",
            "========================================\n",
            "Coefficient Values:\n",
            "  a_1,1 = 1, a_1,2 = 1, a_1,3 = 2\n",
            "  a_2,1 = 2, a_2,2 = 3, a_2,3 = 3\n",
            "  a_3,1 = 3, a_3,2 = 2, a_3,3 = 1\n",
            "Variable Values:\n",
            "  x1 = 25000, x2 = 25500, x3 = 27000\n",
            "Equations:\n",
            "  x1 + x2 + 2x3 = 104500\n",
            "  2x1 + 3x2 + 3x3 = 207500\n",
            "  3x1 + 2x2 + x3 = 153000\n",
            "\n",
            "Possibility #5\n",
            "The system of equations is:\n",
            "========================================\n",
            "Coefficient Values:\n",
            "  a_1,1 = 1, a_1,2 = 1, a_1,3 = 2\n",
            "  a_2,1 = 3, a_2,2 = 2, a_2,3 = 1\n",
            "  a_3,1 = 2, a_3,2 = 3, a_3,3 = 3\n",
            "Variable Values:\n",
            "  x1 = 25000, x2 = 25500, x3 = 26000\n",
            "Equations:\n",
            "  x1 + x2 + 2x3 = 102500\n",
            "  3x1 + 2x2 + x3 = 152000\n",
            "  2x1 + 3x2 + 3x3 = 204500\n",
            "\n",
            "Possibility #6\n",
            "The system of equations is:\n",
            "========================================\n",
            "Coefficient Values:\n",
            "  a_1,1 = 1, a_1,2 = 1, a_1,3 = 2\n",
            "  a_2,1 = 3, a_2,2 = 2, a_2,3 = 1\n",
            "  a_3,1 = 2, a_3,2 = 3, a_3,3 = 3\n",
            "Variable Values:\n",
            "  x1 = 25000, x2 = 25500, x3 = 27000\n",
            "Equations:\n",
            "  x1 + x2 + 2x3 = 104500\n",
            "  3x1 + 2x2 + x3 = 153000\n",
            "  2x1 + 3x2 + 3x3 = 207500\n",
            "\n",
            "Possibility #7\n",
            "The system of equations is:\n",
            "========================================\n",
            "Coefficient Values:\n",
            "  a_1,1 = 1, a_1,2 = 1, a_1,3 = 2\n",
            "  a_2,1 = 3, a_2,2 = 2, a_2,3 = 3\n",
            "  a_3,1 = 2, a_3,2 = 3, a_3,3 = 1\n",
            "Variable Values:\n",
            "  x1 = 25000, x2 = 25500, x3 = 26000\n",
            "Equations:\n",
            "  x1 + x2 + 2x3 = 102500\n",
            "  3x1 + 2x2 + 3x3 = 204000\n",
            "  2x1 + 3x2 + x3 = 152500\n",
            "\n",
            "Possibility #8\n",
            "The system of equations is:\n",
            "========================================\n",
            "Coefficient Values:\n",
            "  a_1,1 = 1, a_1,2 = 1, a_1,3 = 2\n",
            "  a_2,1 = 3, a_2,2 = 2, a_2,3 = 3\n",
            "  a_3,1 = 2, a_3,2 = 3, a_3,3 = 1\n",
            "Variable Values:\n",
            "  x1 = 25000, x2 = 25500, x3 = 27000\n",
            "Equations:\n",
            "  x1 + x2 + 2x3 = 104500\n",
            "  3x1 + 2x2 + 3x3 = 207000\n",
            "  2x1 + 3x2 + x3 = 153500\n",
            "\n",
            "Possibility #9\n",
            "The system of equations is:\n",
            "========================================\n",
            "Coefficient Values:\n",
            "  a_1,1 = 1, a_1,2 = 1, a_1,3 = 3\n",
            "  a_2,1 = 2, a_2,2 = 3, a_2,3 = 1\n",
            "  a_3,1 = 3, a_3,2 = 2, a_3,3 = 2\n",
            "Variable Values:\n",
            "  x1 = 25000, x2 = 25500, x3 = 26000\n",
            "Equations:\n",
            "  x1 + x2 + 3x3 = 128500\n",
            "  2x1 + 3x2 + x3 = 152500\n",
            "  3x1 + 2x2 + 2x3 = 178000\n",
            "\n",
            "Possibility #10\n",
            "The system of equations is:\n",
            "========================================\n",
            "Coefficient Values:\n",
            "  a_1,1 = 1, a_1,2 = 1, a_1,3 = 3\n",
            "  a_2,1 = 2, a_2,2 = 3, a_2,3 = 1\n",
            "  a_3,1 = 3, a_3,2 = 2, a_3,3 = 2\n",
            "Variable Values:\n",
            "  x1 = 25000, x2 = 25500, x3 = 27000\n",
            "Equations:\n",
            "  x1 + x2 + 3x3 = 131500\n",
            "  2x1 + 3x2 + x3 = 153500\n",
            "  3x1 + 2x2 + 2x3 = 180000\n",
            "\n",
            "Possibility #11\n",
            "The system of equations is:\n",
            "========================================\n",
            "Coefficient Values:\n",
            "  a_1,1 = 1, a_1,2 = 1, a_1,3 = 3\n",
            "  a_2,1 = 2, a_2,2 = 3, a_2,3 = 2\n",
            "  a_3,1 = 3, a_3,2 = 2, a_3,3 = 1\n",
            "Variable Values:\n",
            "  x1 = 25000, x2 = 25500, x3 = 26000\n",
            "Equations:\n",
            "  x1 + x2 + 3x3 = 128500\n",
            "  2x1 + 3x2 + 2x3 = 178500\n",
            "  3x1 + 2x2 + x3 = 152000\n",
            "\n",
            "Possibility #12\n",
            "The system of equations is:\n",
            "========================================\n",
            "Coefficient Values:\n",
            "  a_1,1 = 1, a_1,2 = 1, a_1,3 = 3\n",
            "  a_2,1 = 2, a_2,2 = 3, a_2,3 = 2\n",
            "  a_3,1 = 3, a_3,2 = 2, a_3,3 = 1\n",
            "Variable Values:\n",
            "  x1 = 25000, x2 = 25500, x3 = 27000\n",
            "Equations:\n",
            "  x1 + x2 + 3x3 = 131500\n",
            "  2x1 + 3x2 + 2x3 = 180500\n",
            "  3x1 + 2x2 + x3 = 153000\n",
            "\n",
            "Possibility #13\n",
            "The system of equations is:\n",
            "========================================\n",
            "Coefficient Values:\n",
            "  a_1,1 = 1, a_1,2 = 1, a_1,3 = 3\n",
            "  a_2,1 = 3, a_2,2 = 2, a_2,3 = 1\n",
            "  a_3,1 = 2, a_3,2 = 3, a_3,3 = 2\n",
            "Variable Values:\n",
            "  x1 = 25000, x2 = 25500, x3 = 26000\n",
            "Equations:\n",
            "  x1 + x2 + 3x3 = 128500\n",
            "  3x1 + 2x2 + x3 = 152000\n",
            "  2x1 + 3x2 + 2x3 = 178500\n",
            "\n",
            "Possibility #14\n",
            "The system of equations is:\n",
            "========================================\n",
            "Coefficient Values:\n",
            "  a_1,1 = 1, a_1,2 = 1, a_1,3 = 3\n",
            "  a_2,1 = 3, a_2,2 = 2, a_2,3 = 1\n",
            "  a_3,1 = 2, a_3,2 = 3, a_3,3 = 2\n",
            "Variable Values:\n",
            "  x1 = 25000, x2 = 25500, x3 = 27000\n",
            "Equations:\n",
            "  x1 + x2 + 3x3 = 131500\n",
            "  3x1 + 2x2 + x3 = 153000\n",
            "  2x1 + 3x2 + 2x3 = 180500\n",
            "\n",
            "Possibility #15\n",
            "The system of equations is:\n",
            "========================================\n",
            "Coefficient Values:\n",
            "  a_1,1 = 1, a_1,2 = 1, a_1,3 = 3\n",
            "  a_2,1 = 3, a_2,2 = 2, a_2,3 = 2\n",
            "  a_3,1 = 2, a_3,2 = 3, a_3,3 = 1\n",
            "Variable Values:\n",
            "  x1 = 25000, x2 = 25500, x3 = 26000\n",
            "Equations:\n",
            "  x1 + x2 + 3x3 = 128500\n",
            "  3x1 + 2x2 + 2x3 = 178000\n",
            "  2x1 + 3x2 + x3 = 152500\n",
            "\n",
            "Possibility #16\n",
            "The system of equations is:\n",
            "========================================\n",
            "Coefficient Values:\n",
            "  a_1,1 = 1, a_1,2 = 1, a_1,3 = 3\n",
            "  a_2,1 = 3, a_2,2 = 2, a_2,3 = 2\n",
            "  a_3,1 = 2, a_3,2 = 3, a_3,3 = 1\n",
            "Variable Values:\n",
            "  x1 = 25000, x2 = 25500, x3 = 27000\n",
            "Equations:\n",
            "  x1 + x2 + 3x3 = 131500\n",
            "  3x1 + 2x2 + 2x3 = 180000\n",
            "  2x1 + 3x2 + x3 = 153500\n",
            "\n",
            "Possibility #17\n",
            "The system of equations is:\n",
            "========================================\n",
            "Coefficient Values:\n",
            "  a_1,1 = 1, a_1,2 = 2, a_1,3 = 1\n",
            "  a_2,1 = 2, a_2,2 = 1, a_2,3 = 3\n",
            "  a_3,1 = 3, a_3,2 = 3, a_3,3 = 2\n",
            "Variable Values:\n",
            "  x1 = 25000, x2 = 25500, x3 = 26000\n",
            "Equations:\n",
            "  x1 + 2x2 + x3 = 102000\n",
            "  2x1 + x2 + 3x3 = 153500\n",
            "  3x1 + 3x2 + 2x3 = 203500\n",
            "\n",
            "Possibility #18\n",
            "The system of equations is:\n",
            "========================================\n",
            "Coefficient Values:\n",
            "  a_1,1 = 1, a_1,2 = 2, a_1,3 = 1\n",
            "  a_2,1 = 2, a_2,2 = 1, a_2,3 = 3\n",
            "  a_3,1 = 3, a_3,2 = 3, a_3,3 = 2\n",
            "Variable Values:\n",
            "  x1 = 25000, x2 = 25500, x3 = 27000\n",
            "Equations:\n",
            "  x1 + 2x2 + x3 = 103000\n",
            "  2x1 + x2 + 3x3 = 156500\n",
            "  3x1 + 3x2 + 2x3 = 205500\n",
            "\n",
            "Possibility #19\n",
            "The system of equations is:\n",
            "========================================\n",
            "Coefficient Values:\n",
            "  a_1,1 = 1, a_1,2 = 2, a_1,3 = 1\n",
            "  a_2,1 = 2, a_2,2 = 3, a_2,3 = 3\n",
            "  a_3,1 = 3, a_3,2 = 1, a_3,3 = 2\n",
            "Variable Values:\n",
            "  x1 = 25000, x2 = 25500, x3 = 26000\n",
            "Equations:\n",
            "  x1 + 2x2 + x3 = 102000\n",
            "  2x1 + 3x2 + 3x3 = 204500\n",
            "  3x1 + x2 + 2x3 = 152500\n",
            "\n",
            "Possibility #20\n",
            "The system of equations is:\n",
            "========================================\n",
            "Coefficient Values:\n",
            "  a_1,1 = 1, a_1,2 = 2, a_1,3 = 1\n",
            "  a_2,1 = 2, a_2,2 = 3, a_2,3 = 3\n",
            "  a_3,1 = 3, a_3,2 = 1, a_3,3 = 2\n",
            "Variable Values:\n",
            "  x1 = 25000, x2 = 25500, x3 = 27000\n",
            "Equations:\n",
            "  x1 + 2x2 + x3 = 103000\n",
            "  2x1 + 3x2 + 3x3 = 207500\n",
            "  3x1 + x2 + 2x3 = 154500\n",
            "\n",
            "Possibility #21\n",
            "The system of equations is:\n",
            "========================================\n",
            "Coefficient Values:\n",
            "  a_1,1 = 1, a_1,2 = 2, a_1,3 = 1\n",
            "  a_2,1 = 3, a_2,2 = 1, a_2,3 = 2\n",
            "  a_3,1 = 2, a_3,2 = 3, a_3,3 = 3\n",
            "Variable Values:\n",
            "  x1 = 25000, x2 = 25500, x3 = 26000\n",
            "Equations:\n",
            "  x1 + 2x2 + x3 = 102000\n",
            "  3x1 + x2 + 2x3 = 152500\n",
            "  2x1 + 3x2 + 3x3 = 204500\n",
            "\n",
            "Possibility #22\n",
            "The system of equations is:\n",
            "========================================\n",
            "Coefficient Values:\n",
            "  a_1,1 = 1, a_1,2 = 2, a_1,3 = 1\n",
            "  a_2,1 = 3, a_2,2 = 1, a_2,3 = 2\n",
            "  a_3,1 = 2, a_3,2 = 3, a_3,3 = 3\n",
            "Variable Values:\n",
            "  x1 = 25000, x2 = 25500, x3 = 27000\n",
            "Equations:\n",
            "  x1 + 2x2 + x3 = 103000\n",
            "  3x1 + x2 + 2x3 = 154500\n",
            "  2x1 + 3x2 + 3x3 = 207500\n",
            "\n",
            "Possibility #23\n",
            "The system of equations is:\n",
            "========================================\n",
            "Coefficient Values:\n",
            "  a_1,1 = 1, a_1,2 = 2, a_1,3 = 1\n",
            "  a_2,1 = 3, a_2,2 = 3, a_2,3 = 2\n",
            "  a_3,1 = 2, a_3,2 = 1, a_3,3 = 3\n",
            "Variable Values:\n",
            "  x1 = 25000, x2 = 25500, x3 = 26000\n",
            "Equations:\n",
            "  x1 + 2x2 + x3 = 102000\n",
            "  3x1 + 3x2 + 2x3 = 203500\n",
            "  2x1 + x2 + 3x3 = 153500\n",
            "\n",
            "Possibility #24\n",
            "The system of equations is:\n",
            "========================================\n",
            "Coefficient Values:\n",
            "  a_1,1 = 1, a_1,2 = 2, a_1,3 = 1\n",
            "  a_2,1 = 3, a_2,2 = 3, a_2,3 = 2\n",
            "  a_3,1 = 2, a_3,2 = 1, a_3,3 = 3\n",
            "Variable Values:\n",
            "  x1 = 25000, x2 = 25500, x3 = 27000\n",
            "Equations:\n",
            "  x1 + 2x2 + x3 = 103000\n",
            "  3x1 + 3x2 + 2x3 = 205500\n",
            "  2x1 + x2 + 3x3 = 156500\n",
            "\n",
            "Possibility #25\n",
            "The system of equations is:\n",
            "========================================\n",
            "Coefficient Values:\n",
            "  a_1,1 = 1, a_1,2 = 2, a_1,3 = 2\n",
            "  a_2,1 = 2, a_2,2 = 1, a_2,3 = 3\n",
            "  a_3,1 = 3, a_3,2 = 3, a_3,3 = 1\n",
            "Variable Values:\n",
            "  x1 = 25000, x2 = 25500, x3 = 26000\n",
            "Equations:\n",
            "  x1 + 2x2 + 2x3 = 128000\n",
            "  2x1 + x2 + 3x3 = 153500\n",
            "  3x1 + 3x2 + x3 = 177500\n",
            "\n",
            "Possibility #26\n",
            "The system of equations is:\n",
            "========================================\n",
            "Coefficient Values:\n",
            "  a_1,1 = 1, a_1,2 = 2, a_1,3 = 2\n",
            "  a_2,1 = 2, a_2,2 = 1, a_2,3 = 3\n",
            "  a_3,1 = 3, a_3,2 = 3, a_3,3 = 1\n",
            "Variable Values:\n",
            "  x1 = 25000, x2 = 25500, x3 = 27000\n",
            "Equations:\n",
            "  x1 + 2x2 + 2x3 = 130000\n",
            "  2x1 + x2 + 3x3 = 156500\n",
            "  3x1 + 3x2 + x3 = 178500\n",
            "\n",
            "Possibility #27\n",
            "The system of equations is:\n",
            "========================================\n",
            "Coefficient Values:\n",
            "  a_1,1 = 1, a_1,2 = 2, a_1,3 = 2\n",
            "  a_2,1 = 2, a_2,2 = 3, a_2,3 = 1\n",
            "  a_3,1 = 3, a_3,2 = 1, a_3,3 = 3\n",
            "Variable Values:\n",
            "  x1 = 25000, x2 = 25500, x3 = 26000\n",
            "Equations:\n",
            "  x1 + 2x2 + 2x3 = 128000\n",
            "  2x1 + 3x2 + x3 = 152500\n",
            "  3x1 + x2 + 3x3 = 178500\n",
            "\n",
            "Possibility #28\n",
            "The system of equations is:\n",
            "========================================\n",
            "Coefficient Values:\n",
            "  a_1,1 = 1, a_1,2 = 2, a_1,3 = 2\n",
            "  a_2,1 = 2, a_2,2 = 3, a_2,3 = 1\n",
            "  a_3,1 = 3, a_3,2 = 1, a_3,3 = 3\n",
            "Variable Values:\n",
            "  x1 = 25000, x2 = 25500, x3 = 27000\n",
            "Equations:\n",
            "  x1 + 2x2 + 2x3 = 130000\n",
            "  2x1 + 3x2 + x3 = 153500\n",
            "  3x1 + x2 + 3x3 = 181500\n",
            "\n",
            "Possibility #29\n",
            "The system of equations is:\n",
            "========================================\n",
            "Coefficient Values:\n",
            "  a_1,1 = 1, a_1,2 = 2, a_1,3 = 2\n",
            "  a_2,1 = 3, a_2,2 = 1, a_2,3 = 3\n",
            "  a_3,1 = 2, a_3,2 = 3, a_3,3 = 1\n",
            "Variable Values:\n",
            "  x1 = 25000, x2 = 25500, x3 = 26000\n",
            "Equations:\n",
            "  x1 + 2x2 + 2x3 = 128000\n",
            "  3x1 + x2 + 3x3 = 178500\n",
            "  2x1 + 3x2 + x3 = 152500\n",
            "\n",
            "Possibility #30\n",
            "The system of equations is:\n",
            "========================================\n",
            "Coefficient Values:\n",
            "  a_1,1 = 1, a_1,2 = 2, a_1,3 = 2\n",
            "  a_2,1 = 3, a_2,2 = 1, a_2,3 = 3\n",
            "  a_3,1 = 2, a_3,2 = 3, a_3,3 = 1\n",
            "Variable Values:\n",
            "  x1 = 25000, x2 = 25500, x3 = 27000\n",
            "Equations:\n",
            "  x1 + 2x2 + 2x3 = 130000\n",
            "  3x1 + x2 + 3x3 = 181500\n",
            "  2x1 + 3x2 + x3 = 153500\n",
            "\n",
            "Possibility #31\n",
            "The system of equations is:\n",
            "========================================\n",
            "Coefficient Values:\n",
            "  a_1,1 = 1, a_1,2 = 2, a_1,3 = 2\n",
            "  a_2,1 = 3, a_2,2 = 3, a_2,3 = 1\n",
            "  a_3,1 = 2, a_3,2 = 1, a_3,3 = 3\n",
            "Variable Values:\n",
            "  x1 = 25000, x2 = 25500, x3 = 26000\n",
            "Equations:\n",
            "  x1 + 2x2 + 2x3 = 128000\n",
            "  3x1 + 3x2 + x3 = 177500\n",
            "  2x1 + x2 + 3x3 = 153500\n",
            "\n",
            "Possibility #32\n",
            "The system of equations is:\n",
            "========================================\n",
            "Coefficient Values:\n",
            "  a_1,1 = 1, a_1,2 = 2, a_1,3 = 2\n",
            "  a_2,1 = 3, a_2,2 = 3, a_2,3 = 1\n",
            "  a_3,1 = 2, a_3,2 = 1, a_3,3 = 3\n",
            "Variable Values:\n",
            "  x1 = 25000, x2 = 25500, x3 = 27000\n",
            "Equations:\n",
            "  x1 + 2x2 + 2x3 = 130000\n",
            "  3x1 + 3x2 + x3 = 178500\n",
            "  2x1 + x2 + 3x3 = 156500\n",
            "\n",
            "Possibility #33\n",
            "The system of equations is:\n",
            "========================================\n",
            "Coefficient Values:\n",
            "  a_1,1 = 1, a_1,2 = 2, a_1,3 = 3\n",
            "  a_2,1 = 2, a_2,2 = 1, a_2,3 = 1\n",
            "  a_3,1 = 3, a_3,2 = 3, a_3,3 = 2\n",
            "Variable Values:\n",
            "  x1 = 25000, x2 = 25500, x3 = 26000\n",
            "Equations:\n",
            "  x1 + 2x2 + 3x3 = 154000\n",
            "  2x1 + x2 + x3 = 101500\n",
            "  3x1 + 3x2 + 2x3 = 203500\n",
            "\n",
            "Possibility #34\n",
            "The system of equations is:\n",
            "========================================\n",
            "Coefficient Values:\n",
            "  a_1,1 = 1, a_1,2 = 2, a_1,3 = 3\n",
            "  a_2,1 = 2, a_2,2 = 1, a_2,3 = 1\n",
            "  a_3,1 = 3, a_3,2 = 3, a_3,3 = 2\n",
            "Variable Values:\n",
            "  x1 = 25000, x2 = 25500, x3 = 27000\n",
            "Equations:\n",
            "  x1 + 2x2 + 3x3 = 157000\n",
            "  2x1 + x2 + x3 = 102500\n",
            "  3x1 + 3x2 + 2x3 = 205500\n",
            "\n",
            "Possibility #35\n",
            "The system of equations is:\n",
            "========================================\n",
            "Coefficient Values:\n",
            "  a_1,1 = 1, a_1,2 = 2, a_1,3 = 3\n",
            "  a_2,1 = 2, a_2,2 = 1, a_2,3 = 2\n",
            "  a_3,1 = 3, a_3,2 = 3, a_3,3 = 1\n",
            "Variable Values:\n",
            "  x1 = 25000, x2 = 25500, x3 = 26000\n",
            "Equations:\n",
            "  x1 + 2x2 + 3x3 = 154000\n",
            "  2x1 + x2 + 2x3 = 127500\n",
            "  3x1 + 3x2 + x3 = 177500\n",
            "\n",
            "Possibility #36\n",
            "The system of equations is:\n",
            "========================================\n",
            "Coefficient Values:\n",
            "  a_1,1 = 1, a_1,2 = 2, a_1,3 = 3\n",
            "  a_2,1 = 2, a_2,2 = 1, a_2,3 = 2\n",
            "  a_3,1 = 3, a_3,2 = 3, a_3,3 = 1\n",
            "Variable Values:\n",
            "  x1 = 25000, x2 = 25500, x3 = 27000\n",
            "Equations:\n",
            "  x1 + 2x2 + 3x3 = 157000\n",
            "  2x1 + x2 + 2x3 = 129500\n",
            "  3x1 + 3x2 + x3 = 178500\n",
            "\n",
            "Possibility #37\n",
            "The system of equations is:\n",
            "========================================\n",
            "Coefficient Values:\n",
            "  a_1,1 = 1, a_1,2 = 2, a_1,3 = 3\n",
            "  a_2,1 = 2, a_2,2 = 3, a_2,3 = 1\n",
            "  a_3,1 = 3, a_3,2 = 1, a_3,3 = 2\n",
            "Variable Values:\n",
            "  x1 = 25000, x2 = 25500, x3 = 26000\n",
            "Equations:\n",
            "  x1 + 2x2 + 3x3 = 154000\n",
            "  2x1 + 3x2 + x3 = 152500\n",
            "  3x1 + x2 + 2x3 = 152500\n",
            "\n",
            "Possibility #38\n",
            "The system of equations is:\n",
            "========================================\n",
            "Coefficient Values:\n",
            "  a_1,1 = 1, a_1,2 = 2, a_1,3 = 3\n",
            "  a_2,1 = 2, a_2,2 = 3, a_2,3 = 1\n",
            "  a_3,1 = 3, a_3,2 = 1, a_3,3 = 2\n",
            "Variable Values:\n",
            "  x1 = 25000, x2 = 25500, x3 = 27000\n",
            "Equations:\n",
            "  x1 + 2x2 + 3x3 = 157000\n",
            "  2x1 + 3x2 + x3 = 153500\n",
            "  3x1 + x2 + 2x3 = 154500\n",
            "\n",
            "Possibility #39\n",
            "The system of equations is:\n",
            "========================================\n",
            "Coefficient Values:\n",
            "  a_1,1 = 1, a_1,2 = 2, a_1,3 = 3\n",
            "  a_2,1 = 2, a_2,2 = 3, a_2,3 = 2\n",
            "  a_3,1 = 3, a_3,2 = 1, a_3,3 = 1\n",
            "Variable Values:\n",
            "  x1 = 25000, x2 = 25500, x3 = 26000\n",
            "Equations:\n",
            "  x1 + 2x2 + 3x3 = 154000\n",
            "  2x1 + 3x2 + 2x3 = 178500\n",
            "  3x1 + x2 + x3 = 126500\n",
            "\n",
            "Possibility #40\n",
            "The system of equations is:\n",
            "========================================\n",
            "Coefficient Values:\n",
            "  a_1,1 = 1, a_1,2 = 2, a_1,3 = 3\n",
            "  a_2,1 = 2, a_2,2 = 3, a_2,3 = 2\n",
            "  a_3,1 = 3, a_3,2 = 1, a_3,3 = 1\n",
            "Variable Values:\n",
            "  x1 = 25000, x2 = 25500, x3 = 27000\n",
            "Equations:\n",
            "  x1 + 2x2 + 3x3 = 157000\n",
            "  2x1 + 3x2 + 2x3 = 180500\n",
            "  3x1 + x2 + x3 = 127500\n",
            "\n",
            "Possibility #41\n",
            "The system of equations is:\n",
            "========================================\n",
            "Coefficient Values:\n",
            "  a_1,1 = 1, a_1,2 = 2, a_1,3 = 3\n",
            "  a_2,1 = 3, a_2,2 = 1, a_2,3 = 1\n",
            "  a_3,1 = 2, a_3,2 = 3, a_3,3 = 2\n",
            "Variable Values:\n",
            "  x1 = 25000, x2 = 25500, x3 = 26000\n",
            "Equations:\n",
            "  x1 + 2x2 + 3x3 = 154000\n",
            "  3x1 + x2 + x3 = 126500\n",
            "  2x1 + 3x2 + 2x3 = 178500\n",
            "\n",
            "Possibility #42\n",
            "The system of equations is:\n",
            "========================================\n",
            "Coefficient Values:\n",
            "  a_1,1 = 1, a_1,2 = 2, a_1,3 = 3\n",
            "  a_2,1 = 3, a_2,2 = 1, a_2,3 = 1\n",
            "  a_3,1 = 2, a_3,2 = 3, a_3,3 = 2\n",
            "Variable Values:\n",
            "  x1 = 25000, x2 = 25500, x3 = 27000\n",
            "Equations:\n",
            "  x1 + 2x2 + 3x3 = 157000\n",
            "  3x1 + x2 + x3 = 127500\n",
            "  2x1 + 3x2 + 2x3 = 180500\n",
            "\n",
            "Possibility #43\n",
            "The system of equations is:\n",
            "========================================\n",
            "Coefficient Values:\n",
            "  a_1,1 = 1, a_1,2 = 2, a_1,3 = 3\n",
            "  a_2,1 = 3, a_2,2 = 1, a_2,3 = 2\n",
            "  a_3,1 = 2, a_3,2 = 3, a_3,3 = 1\n",
            "Variable Values:\n",
            "  x1 = 25000, x2 = 25500, x3 = 26000\n",
            "Equations:\n",
            "  x1 + 2x2 + 3x3 = 154000\n",
            "  3x1 + x2 + 2x3 = 152500\n",
            "  2x1 + 3x2 + x3 = 152500\n",
            "\n",
            "Possibility #44\n",
            "The system of equations is:\n",
            "========================================\n",
            "Coefficient Values:\n",
            "  a_1,1 = 1, a_1,2 = 2, a_1,3 = 3\n",
            "  a_2,1 = 3, a_2,2 = 1, a_2,3 = 2\n",
            "  a_3,1 = 2, a_3,2 = 3, a_3,3 = 1\n",
            "Variable Values:\n",
            "  x1 = 25000, x2 = 25500, x3 = 27000\n",
            "Equations:\n",
            "  x1 + 2x2 + 3x3 = 157000\n",
            "  3x1 + x2 + 2x3 = 154500\n",
            "  2x1 + 3x2 + x3 = 153500\n",
            "\n",
            "Possibility #45\n",
            "The system of equations is:\n",
            "========================================\n",
            "Coefficient Values:\n",
            "  a_1,1 = 1, a_1,2 = 2, a_1,3 = 3\n",
            "  a_2,1 = 3, a_2,2 = 3, a_2,3 = 1\n",
            "  a_3,1 = 2, a_3,2 = 1, a_3,3 = 2\n",
            "Variable Values:\n",
            "  x1 = 25000, x2 = 25500, x3 = 26000\n",
            "Equations:\n",
            "  x1 + 2x2 + 3x3 = 154000\n",
            "  3x1 + 3x2 + x3 = 177500\n",
            "  2x1 + x2 + 2x3 = 127500\n",
            "\n",
            "Possibility #46\n",
            "The system of equations is:\n",
            "========================================\n",
            "Coefficient Values:\n",
            "  a_1,1 = 1, a_1,2 = 2, a_1,3 = 3\n",
            "  a_2,1 = 3, a_2,2 = 3, a_2,3 = 1\n",
            "  a_3,1 = 2, a_3,2 = 1, a_3,3 = 2\n",
            "Variable Values:\n",
            "  x1 = 25000, x2 = 25500, x3 = 27000\n",
            "Equations:\n",
            "  x1 + 2x2 + 3x3 = 157000\n",
            "  3x1 + 3x2 + x3 = 178500\n",
            "  2x1 + x2 + 2x3 = 129500\n",
            "\n",
            "Possibility #47\n",
            "The system of equations is:\n",
            "========================================\n",
            "Coefficient Values:\n",
            "  a_1,1 = 1, a_1,2 = 2, a_1,3 = 3\n",
            "  a_2,1 = 3, a_2,2 = 3, a_2,3 = 2\n",
            "  a_3,1 = 2, a_3,2 = 1, a_3,3 = 1\n",
            "Variable Values:\n",
            "  x1 = 25000, x2 = 25500, x3 = 26000\n",
            "Equations:\n",
            "  x1 + 2x2 + 3x3 = 154000\n",
            "  3x1 + 3x2 + 2x3 = 203500\n",
            "  2x1 + x2 + x3 = 101500\n",
            "\n",
            "Possibility #48\n",
            "The system of equations is:\n",
            "========================================\n",
            "Coefficient Values:\n",
            "  a_1,1 = 1, a_1,2 = 2, a_1,3 = 3\n",
            "  a_2,1 = 3, a_2,2 = 3, a_2,3 = 2\n",
            "  a_3,1 = 2, a_3,2 = 1, a_3,3 = 1\n",
            "Variable Values:\n",
            "  x1 = 25000, x2 = 25500, x3 = 27000\n",
            "Equations:\n",
            "  x1 + 2x2 + 3x3 = 157000\n",
            "  3x1 + 3x2 + 2x3 = 205500\n",
            "  2x1 + x2 + x3 = 102500\n",
            "\n",
            "Possibility #49\n",
            "The system of equations is:\n",
            "========================================\n",
            "Coefficient Values:\n",
            "  a_1,1 = 1, a_1,2 = 3, a_1,3 = 1\n",
            "  a_2,1 = 2, a_2,2 = 1, a_2,3 = 3\n",
            "  a_3,1 = 3, a_3,2 = 2, a_3,3 = 2\n",
            "Variable Values:\n",
            "  x1 = 25000, x2 = 25500, x3 = 26000\n",
            "Equations:\n",
            "  x1 + 3x2 + x3 = 127500\n",
            "  2x1 + x2 + 3x3 = 153500\n",
            "  3x1 + 2x2 + 2x3 = 178000\n",
            "\n",
            "Possibility #50\n",
            "The system of equations is:\n",
            "========================================\n",
            "Coefficient Values:\n",
            "  a_1,1 = 1, a_1,2 = 3, a_1,3 = 1\n",
            "  a_2,1 = 2, a_2,2 = 1, a_2,3 = 3\n",
            "  a_3,1 = 3, a_3,2 = 2, a_3,3 = 2\n",
            "Variable Values:\n",
            "  x1 = 25000, x2 = 25500, x3 = 27000\n",
            "Equations:\n",
            "  x1 + 3x2 + x3 = 128500\n",
            "  2x1 + x2 + 3x3 = 156500\n",
            "  3x1 + 2x2 + 2x3 = 180000\n",
            "\n",
            "Possibility #51\n",
            "The system of equations is:\n",
            "========================================\n",
            "Coefficient Values:\n",
            "  a_1,1 = 1, a_1,2 = 3, a_1,3 = 1\n",
            "  a_2,1 = 2, a_2,2 = 2, a_2,3 = 3\n",
            "  a_3,1 = 3, a_3,2 = 1, a_3,3 = 2\n",
            "Variable Values:\n",
            "  x1 = 25000, x2 = 25500, x3 = 26000\n",
            "Equations:\n",
            "  x1 + 3x2 + x3 = 127500\n",
            "  2x1 + 2x2 + 3x3 = 179000\n",
            "  3x1 + x2 + 2x3 = 152500\n",
            "\n",
            "Possibility #52\n",
            "The system of equations is:\n",
            "========================================\n",
            "Coefficient Values:\n",
            "  a_1,1 = 1, a_1,2 = 3, a_1,3 = 1\n",
            "  a_2,1 = 2, a_2,2 = 2, a_2,3 = 3\n",
            "  a_3,1 = 3, a_3,2 = 1, a_3,3 = 2\n",
            "Variable Values:\n",
            "  x1 = 25000, x2 = 25500, x3 = 27000\n",
            "Equations:\n",
            "  x1 + 3x2 + x3 = 128500\n",
            "  2x1 + 2x2 + 3x3 = 182000\n",
            "  3x1 + x2 + 2x3 = 154500\n",
            "\n",
            "Possibility #53\n",
            "The system of equations is:\n",
            "========================================\n",
            "Coefficient Values:\n",
            "  a_1,1 = 1, a_1,2 = 3, a_1,3 = 1\n",
            "  a_2,1 = 3, a_2,2 = 1, a_2,3 = 2\n",
            "  a_3,1 = 2, a_3,2 = 2, a_3,3 = 3\n",
            "Variable Values:\n",
            "  x1 = 25000, x2 = 25500, x3 = 26000\n",
            "Equations:\n",
            "  x1 + 3x2 + x3 = 127500\n",
            "  3x1 + x2 + 2x3 = 152500\n",
            "  2x1 + 2x2 + 3x3 = 179000\n",
            "\n",
            "Possibility #54\n",
            "The system of equations is:\n",
            "========================================\n",
            "Coefficient Values:\n",
            "  a_1,1 = 1, a_1,2 = 3, a_1,3 = 1\n",
            "  a_2,1 = 3, a_2,2 = 1, a_2,3 = 2\n",
            "  a_3,1 = 2, a_3,2 = 2, a_3,3 = 3\n",
            "Variable Values:\n",
            "  x1 = 25000, x2 = 25500, x3 = 27000\n",
            "Equations:\n",
            "  x1 + 3x2 + x3 = 128500\n",
            "  3x1 + x2 + 2x3 = 154500\n",
            "  2x1 + 2x2 + 3x3 = 182000\n",
            "\n",
            "Possibility #55\n",
            "The system of equations is:\n",
            "========================================\n",
            "Coefficient Values:\n",
            "  a_1,1 = 1, a_1,2 = 3, a_1,3 = 1\n",
            "  a_2,1 = 3, a_2,2 = 2, a_2,3 = 2\n",
            "  a_3,1 = 2, a_3,2 = 1, a_3,3 = 3\n",
            "Variable Values:\n",
            "  x1 = 25000, x2 = 25500, x3 = 26000\n",
            "Equations:\n",
            "  x1 + 3x2 + x3 = 127500\n",
            "  3x1 + 2x2 + 2x3 = 178000\n",
            "  2x1 + x2 + 3x3 = 153500\n",
            "\n",
            "Possibility #56\n",
            "The system of equations is:\n",
            "========================================\n",
            "Coefficient Values:\n",
            "  a_1,1 = 1, a_1,2 = 3, a_1,3 = 1\n",
            "  a_2,1 = 3, a_2,2 = 2, a_2,3 = 2\n",
            "  a_3,1 = 2, a_3,2 = 1, a_3,3 = 3\n",
            "Variable Values:\n",
            "  x1 = 25000, x2 = 25500, x3 = 27000\n",
            "Equations:\n",
            "  x1 + 3x2 + x3 = 128500\n",
            "  3x1 + 2x2 + 2x3 = 180000\n",
            "  2x1 + x2 + 3x3 = 156500\n",
            "\n",
            "Possibility #57\n",
            "The system of equations is:\n",
            "========================================\n",
            "Coefficient Values:\n",
            "  a_1,1 = 1, a_1,2 = 3, a_1,3 = 2\n",
            "  a_2,1 = 2, a_2,2 = 1, a_2,3 = 1\n",
            "  a_3,1 = 3, a_3,2 = 2, a_3,3 = 3\n",
            "Variable Values:\n",
            "  x1 = 25000, x2 = 25500, x3 = 26000\n",
            "Equations:\n",
            "  x1 + 3x2 + 2x3 = 153500\n",
            "  2x1 + x2 + x3 = 101500\n",
            "  3x1 + 2x2 + 3x3 = 204000\n",
            "\n",
            "Possibility #58\n",
            "The system of equations is:\n",
            "========================================\n",
            "Coefficient Values:\n",
            "  a_1,1 = 1, a_1,2 = 3, a_1,3 = 2\n",
            "  a_2,1 = 2, a_2,2 = 1, a_2,3 = 1\n",
            "  a_3,1 = 3, a_3,2 = 2, a_3,3 = 3\n",
            "Variable Values:\n",
            "  x1 = 25000, x2 = 25500, x3 = 27000\n",
            "Equations:\n",
            "  x1 + 3x2 + 2x3 = 155500\n",
            "  2x1 + x2 + x3 = 102500\n",
            "  3x1 + 2x2 + 3x3 = 207000\n",
            "\n",
            "Possibility #59\n",
            "The system of equations is:\n",
            "========================================\n",
            "Coefficient Values:\n",
            "  a_1,1 = 1, a_1,2 = 3, a_1,3 = 2\n",
            "  a_2,1 = 2, a_2,2 = 1, a_2,3 = 3\n",
            "  a_3,1 = 3, a_3,2 = 2, a_3,3 = 1\n",
            "Variable Values:\n",
            "  x1 = 25000, x2 = 25500, x3 = 26000\n",
            "Equations:\n",
            "  x1 + 3x2 + 2x3 = 153500\n",
            "  2x1 + x2 + 3x3 = 153500\n",
            "  3x1 + 2x2 + x3 = 152000\n",
            "\n",
            "Possibility #60\n",
            "The system of equations is:\n",
            "========================================\n",
            "Coefficient Values:\n",
            "  a_1,1 = 1, a_1,2 = 3, a_1,3 = 2\n",
            "  a_2,1 = 2, a_2,2 = 1, a_2,3 = 3\n",
            "  a_3,1 = 3, a_3,2 = 2, a_3,3 = 1\n",
            "Variable Values:\n",
            "  x1 = 25000, x2 = 25500, x3 = 27000\n",
            "Equations:\n",
            "  x1 + 3x2 + 2x3 = 155500\n",
            "  2x1 + x2 + 3x3 = 156500\n",
            "  3x1 + 2x2 + x3 = 153000\n",
            "\n",
            "Possibility #61\n",
            "The system of equations is:\n",
            "========================================\n",
            "Coefficient Values:\n",
            "  a_1,1 = 1, a_1,2 = 3, a_1,3 = 2\n",
            "  a_2,1 = 2, a_2,2 = 2, a_2,3 = 1\n",
            "  a_3,1 = 3, a_3,2 = 1, a_3,3 = 3\n",
            "Variable Values:\n",
            "  x1 = 25000, x2 = 25500, x3 = 26000\n",
            "Equations:\n",
            "  x1 + 3x2 + 2x3 = 153500\n",
            "  2x1 + 2x2 + x3 = 127000\n",
            "  3x1 + x2 + 3x3 = 178500\n",
            "\n",
            "Possibility #62\n",
            "The system of equations is:\n",
            "========================================\n",
            "Coefficient Values:\n",
            "  a_1,1 = 1, a_1,2 = 3, a_1,3 = 2\n",
            "  a_2,1 = 2, a_2,2 = 2, a_2,3 = 1\n",
            "  a_3,1 = 3, a_3,2 = 1, a_3,3 = 3\n",
            "Variable Values:\n",
            "  x1 = 25000, x2 = 25500, x3 = 27000\n",
            "Equations:\n",
            "  x1 + 3x2 + 2x3 = 155500\n",
            "  2x1 + 2x2 + x3 = 128000\n",
            "  3x1 + x2 + 3x3 = 181500\n",
            "\n",
            "Possibility #63\n",
            "The system of equations is:\n",
            "========================================\n",
            "Coefficient Values:\n",
            "  a_1,1 = 1, a_1,2 = 3, a_1,3 = 2\n",
            "  a_2,1 = 2, a_2,2 = 2, a_2,3 = 3\n",
            "  a_3,1 = 3, a_3,2 = 1, a_3,3 = 1\n",
            "Variable Values:\n",
            "  x1 = 25000, x2 = 25500, x3 = 26000\n",
            "Equations:\n",
            "  x1 + 3x2 + 2x3 = 153500\n",
            "  2x1 + 2x2 + 3x3 = 179000\n",
            "  3x1 + x2 + x3 = 126500\n",
            "\n",
            "Possibility #64\n",
            "The system of equations is:\n",
            "========================================\n",
            "Coefficient Values:\n",
            "  a_1,1 = 1, a_1,2 = 3, a_1,3 = 2\n",
            "  a_2,1 = 2, a_2,2 = 2, a_2,3 = 3\n",
            "  a_3,1 = 3, a_3,2 = 1, a_3,3 = 1\n",
            "Variable Values:\n",
            "  x1 = 25000, x2 = 25500, x3 = 27000\n",
            "Equations:\n",
            "  x1 + 3x2 + 2x3 = 155500\n",
            "  2x1 + 2x2 + 3x3 = 182000\n",
            "  3x1 + x2 + x3 = 127500\n",
            "\n",
            "Possibility #65\n",
            "The system of equations is:\n",
            "========================================\n",
            "Coefficient Values:\n",
            "  a_1,1 = 1, a_1,2 = 3, a_1,3 = 2\n",
            "  a_2,1 = 3, a_2,2 = 1, a_2,3 = 1\n",
            "  a_3,1 = 2, a_3,2 = 2, a_3,3 = 3\n",
            "Variable Values:\n",
            "  x1 = 25000, x2 = 25500, x3 = 26000\n",
            "Equations:\n",
            "  x1 + 3x2 + 2x3 = 153500\n",
            "  3x1 + x2 + x3 = 126500\n",
            "  2x1 + 2x2 + 3x3 = 179000\n",
            "\n",
            "Possibility #66\n",
            "The system of equations is:\n",
            "========================================\n",
            "Coefficient Values:\n",
            "  a_1,1 = 1, a_1,2 = 3, a_1,3 = 2\n",
            "  a_2,1 = 3, a_2,2 = 1, a_2,3 = 1\n",
            "  a_3,1 = 2, a_3,2 = 2, a_3,3 = 3\n",
            "Variable Values:\n",
            "  x1 = 25000, x2 = 25500, x3 = 27000\n",
            "Equations:\n",
            "  x1 + 3x2 + 2x3 = 155500\n",
            "  3x1 + x2 + x3 = 127500\n",
            "  2x1 + 2x2 + 3x3 = 182000\n",
            "\n",
            "Possibility #67\n",
            "The system of equations is:\n",
            "========================================\n",
            "Coefficient Values:\n",
            "  a_1,1 = 1, a_1,2 = 3, a_1,3 = 2\n",
            "  a_2,1 = 3, a_2,2 = 1, a_2,3 = 3\n",
            "  a_3,1 = 2, a_3,2 = 2, a_3,3 = 1\n",
            "Variable Values:\n",
            "  x1 = 25000, x2 = 25500, x3 = 26000\n",
            "Equations:\n",
            "  x1 + 3x2 + 2x3 = 153500\n",
            "  3x1 + x2 + 3x3 = 178500\n",
            "  2x1 + 2x2 + x3 = 127000\n",
            "\n",
            "Possibility #68\n",
            "The system of equations is:\n",
            "========================================\n",
            "Coefficient Values:\n",
            "  a_1,1 = 1, a_1,2 = 3, a_1,3 = 2\n",
            "  a_2,1 = 3, a_2,2 = 1, a_2,3 = 3\n",
            "  a_3,1 = 2, a_3,2 = 2, a_3,3 = 1\n",
            "Variable Values:\n",
            "  x1 = 25000, x2 = 25500, x3 = 27000\n",
            "Equations:\n",
            "  x1 + 3x2 + 2x3 = 155500\n",
            "  3x1 + x2 + 3x3 = 181500\n",
            "  2x1 + 2x2 + x3 = 128000\n",
            "\n",
            "Possibility #69\n",
            "The system of equations is:\n",
            "========================================\n",
            "Coefficient Values:\n",
            "  a_1,1 = 1, a_1,2 = 3, a_1,3 = 2\n",
            "  a_2,1 = 3, a_2,2 = 2, a_2,3 = 1\n",
            "  a_3,1 = 2, a_3,2 = 1, a_3,3 = 3\n",
            "Variable Values:\n",
            "  x1 = 25000, x2 = 25500, x3 = 26000\n",
            "Equations:\n",
            "  x1 + 3x2 + 2x3 = 153500\n",
            "  3x1 + 2x2 + x3 = 152000\n",
            "  2x1 + x2 + 3x3 = 153500\n",
            "\n",
            "Possibility #70\n",
            "The system of equations is:\n",
            "========================================\n",
            "Coefficient Values:\n",
            "  a_1,1 = 1, a_1,2 = 3, a_1,3 = 2\n",
            "  a_2,1 = 3, a_2,2 = 2, a_2,3 = 1\n",
            "  a_3,1 = 2, a_3,2 = 1, a_3,3 = 3\n",
            "Variable Values:\n",
            "  x1 = 25000, x2 = 25500, x3 = 27000\n",
            "Equations:\n",
            "  x1 + 3x2 + 2x3 = 155500\n",
            "  3x1 + 2x2 + x3 = 153000\n",
            "  2x1 + x2 + 3x3 = 156500\n",
            "\n",
            "Possibility #71\n",
            "The system of equations is:\n",
            "========================================\n",
            "Coefficient Values:\n",
            "  a_1,1 = 1, a_1,2 = 3, a_1,3 = 2\n",
            "  a_2,1 = 3, a_2,2 = 2, a_2,3 = 3\n",
            "  a_3,1 = 2, a_3,2 = 1, a_3,3 = 1\n",
            "Variable Values:\n",
            "  x1 = 25000, x2 = 25500, x3 = 26000\n",
            "Equations:\n",
            "  x1 + 3x2 + 2x3 = 153500\n",
            "  3x1 + 2x2 + 3x3 = 204000\n",
            "  2x1 + x2 + x3 = 101500\n",
            "\n",
            "Possibility #72\n",
            "The system of equations is:\n",
            "========================================\n",
            "Coefficient Values:\n",
            "  a_1,1 = 1, a_1,2 = 3, a_1,3 = 2\n",
            "  a_2,1 = 3, a_2,2 = 2, a_2,3 = 3\n",
            "  a_3,1 = 2, a_3,2 = 1, a_3,3 = 1\n",
            "Variable Values:\n",
            "  x1 = 25000, x2 = 25500, x3 = 27000\n",
            "Equations:\n",
            "  x1 + 3x2 + 2x3 = 155500\n",
            "  3x1 + 2x2 + 3x3 = 207000\n",
            "  2x1 + x2 + x3 = 102500\n",
            "\n",
            "Possibility #73\n",
            "The system of equations is:\n",
            "========================================\n",
            "Coefficient Values:\n",
            "  a_1,1 = 1, a_1,2 = 3, a_1,3 = 3\n",
            "  a_2,1 = 2, a_2,2 = 1, a_2,3 = 2\n",
            "  a_3,1 = 3, a_3,2 = 2, a_3,3 = 1\n",
            "Variable Values:\n",
            "  x1 = 25000, x2 = 25500, x3 = 26000\n",
            "Equations:\n",
            "  x1 + 3x2 + 3x3 = 179500\n",
            "  2x1 + x2 + 2x3 = 127500\n",
            "  3x1 + 2x2 + x3 = 152000\n",
            "\n",
            "Possibility #74\n",
            "The system of equations is:\n",
            "========================================\n",
            "Coefficient Values:\n",
            "  a_1,1 = 1, a_1,2 = 3, a_1,3 = 3\n",
            "  a_2,1 = 2, a_2,2 = 1, a_2,3 = 2\n",
            "  a_3,1 = 3, a_3,2 = 2, a_3,3 = 1\n",
            "Variable Values:\n",
            "  x1 = 25000, x2 = 25500, x3 = 27000\n",
            "Equations:\n",
            "  x1 + 3x2 + 3x3 = 182500\n",
            "  2x1 + x2 + 2x3 = 129500\n",
            "  3x1 + 2x2 + x3 = 153000\n",
            "\n",
            "Possibility #75\n",
            "The system of equations is:\n",
            "========================================\n",
            "Coefficient Values:\n",
            "  a_1,1 = 1, a_1,2 = 3, a_1,3 = 3\n",
            "  a_2,1 = 2, a_2,2 = 2, a_2,3 = 1\n",
            "  a_3,1 = 3, a_3,2 = 1, a_3,3 = 2\n",
            "Variable Values:\n",
            "  x1 = 25000, x2 = 25500, x3 = 26000\n",
            "Equations:\n",
            "  x1 + 3x2 + 3x3 = 179500\n",
            "  2x1 + 2x2 + x3 = 127000\n",
            "  3x1 + x2 + 2x3 = 152500\n",
            "\n",
            "Possibility #76\n",
            "The system of equations is:\n",
            "========================================\n",
            "Coefficient Values:\n",
            "  a_1,1 = 1, a_1,2 = 3, a_1,3 = 3\n",
            "  a_2,1 = 2, a_2,2 = 2, a_2,3 = 1\n",
            "  a_3,1 = 3, a_3,2 = 1, a_3,3 = 2\n",
            "Variable Values:\n",
            "  x1 = 25000, x2 = 25500, x3 = 27000\n",
            "Equations:\n",
            "  x1 + 3x2 + 3x3 = 182500\n",
            "  2x1 + 2x2 + x3 = 128000\n",
            "  3x1 + x2 + 2x3 = 154500\n",
            "\n",
            "Possibility #77\n",
            "The system of equations is:\n",
            "========================================\n",
            "Coefficient Values:\n",
            "  a_1,1 = 1, a_1,2 = 3, a_1,3 = 3\n",
            "  a_2,1 = 3, a_2,2 = 1, a_2,3 = 2\n",
            "  a_3,1 = 2, a_3,2 = 2, a_3,3 = 1\n",
            "Variable Values:\n",
            "  x1 = 25000, x2 = 25500, x3 = 26000\n",
            "Equations:\n",
            "  x1 + 3x2 + 3x3 = 179500\n",
            "  3x1 + x2 + 2x3 = 152500\n",
            "  2x1 + 2x2 + x3 = 127000\n",
            "\n",
            "Possibility #78\n",
            "The system of equations is:\n",
            "========================================\n",
            "Coefficient Values:\n",
            "  a_1,1 = 1, a_1,2 = 3, a_1,3 = 3\n",
            "  a_2,1 = 3, a_2,2 = 1, a_2,3 = 2\n",
            "  a_3,1 = 2, a_3,2 = 2, a_3,3 = 1\n",
            "Variable Values:\n",
            "  x1 = 25000, x2 = 25500, x3 = 27000\n",
            "Equations:\n",
            "  x1 + 3x2 + 3x3 = 182500\n",
            "  3x1 + x2 + 2x3 = 154500\n",
            "  2x1 + 2x2 + x3 = 128000\n",
            "\n",
            "Possibility #79\n",
            "The system of equations is:\n",
            "========================================\n",
            "Coefficient Values:\n",
            "  a_1,1 = 1, a_1,2 = 3, a_1,3 = 3\n",
            "  a_2,1 = 3, a_2,2 = 2, a_2,3 = 1\n",
            "  a_3,1 = 2, a_3,2 = 1, a_3,3 = 2\n",
            "Variable Values:\n",
            "  x1 = 25000, x2 = 25500, x3 = 26000\n",
            "Equations:\n",
            "  x1 + 3x2 + 3x3 = 179500\n",
            "  3x1 + 2x2 + x3 = 152000\n",
            "  2x1 + x2 + 2x3 = 127500\n",
            "\n",
            "Possibility #80\n",
            "The system of equations is:\n",
            "========================================\n",
            "Coefficient Values:\n",
            "  a_1,1 = 1, a_1,2 = 3, a_1,3 = 3\n",
            "  a_2,1 = 3, a_2,2 = 2, a_2,3 = 1\n",
            "  a_3,1 = 2, a_3,2 = 1, a_3,3 = 2\n",
            "Variable Values:\n",
            "  x1 = 25000, x2 = 25500, x3 = 27000\n",
            "Equations:\n",
            "  x1 + 3x2 + 3x3 = 182500\n",
            "  3x1 + 2x2 + x3 = 153000\n",
            "  2x1 + x2 + 2x3 = 129500\n",
            "\n",
            "Possibility #81\n",
            "The system of equations is:\n",
            "========================================\n",
            "Coefficient Values:\n",
            "  a_1,1 = 2, a_1,2 = 1, a_1,3 = 1\n",
            "  a_2,1 = 1, a_2,2 = 2, a_2,3 = 3\n",
            "  a_3,1 = 3, a_3,2 = 3, a_3,3 = 2\n",
            "Variable Values:\n",
            "  x1 = 25000, x2 = 25500, x3 = 26000\n",
            "Equations:\n",
            "  2x1 + x2 + x3 = 101500\n",
            "  x1 + 2x2 + 3x3 = 154000\n",
            "  3x1 + 3x2 + 2x3 = 203500\n",
            "\n",
            "Possibility #82\n",
            "The system of equations is:\n",
            "========================================\n",
            "Coefficient Values:\n",
            "  a_1,1 = 2, a_1,2 = 1, a_1,3 = 1\n",
            "  a_2,1 = 1, a_2,2 = 2, a_2,3 = 3\n",
            "  a_3,1 = 3, a_3,2 = 3, a_3,3 = 2\n",
            "Variable Values:\n",
            "  x1 = 25000, x2 = 25500, x3 = 27000\n",
            "Equations:\n",
            "  2x1 + x2 + x3 = 102500\n",
            "  x1 + 2x2 + 3x3 = 157000\n",
            "  3x1 + 3x2 + 2x3 = 205500\n",
            "\n",
            "Possibility #83\n",
            "The system of equations is:\n",
            "========================================\n",
            "Coefficient Values:\n",
            "  a_1,1 = 2, a_1,2 = 1, a_1,3 = 1\n",
            "  a_2,1 = 1, a_2,2 = 3, a_2,3 = 2\n",
            "  a_3,1 = 3, a_3,2 = 2, a_3,3 = 3\n",
            "Variable Values:\n",
            "  x1 = 25000, x2 = 25500, x3 = 26000\n",
            "Equations:\n",
            "  2x1 + x2 + x3 = 101500\n",
            "  x1 + 3x2 + 2x3 = 153500\n",
            "  3x1 + 2x2 + 3x3 = 204000\n",
            "\n",
            "Possibility #84\n",
            "The system of equations is:\n",
            "========================================\n",
            "Coefficient Values:\n",
            "  a_1,1 = 2, a_1,2 = 1, a_1,3 = 1\n",
            "  a_2,1 = 1, a_2,2 = 3, a_2,3 = 2\n",
            "  a_3,1 = 3, a_3,2 = 2, a_3,3 = 3\n",
            "Variable Values:\n",
            "  x1 = 25000, x2 = 25500, x3 = 27000\n",
            "Equations:\n",
            "  2x1 + x2 + x3 = 102500\n",
            "  x1 + 3x2 + 2x3 = 155500\n",
            "  3x1 + 2x2 + 3x3 = 207000\n",
            "\n",
            "Possibility #85\n",
            "The system of equations is:\n",
            "========================================\n",
            "Coefficient Values:\n",
            "  a_1,1 = 2, a_1,2 = 1, a_1,3 = 1\n",
            "  a_2,1 = 3, a_2,2 = 2, a_2,3 = 3\n",
            "  a_3,1 = 1, a_3,2 = 3, a_3,3 = 2\n",
            "Variable Values:\n",
            "  x1 = 25000, x2 = 25500, x3 = 26000\n",
            "Equations:\n",
            "  2x1 + x2 + x3 = 101500\n",
            "  3x1 + 2x2 + 3x3 = 204000\n",
            "  x1 + 3x2 + 2x3 = 153500\n",
            "\n",
            "Possibility #86\n",
            "The system of equations is:\n",
            "========================================\n",
            "Coefficient Values:\n",
            "  a_1,1 = 2, a_1,2 = 1, a_1,3 = 1\n",
            "  a_2,1 = 3, a_2,2 = 2, a_2,3 = 3\n",
            "  a_3,1 = 1, a_3,2 = 3, a_3,3 = 2\n",
            "Variable Values:\n",
            "  x1 = 25000, x2 = 25500, x3 = 27000\n",
            "Equations:\n",
            "  2x1 + x2 + x3 = 102500\n",
            "  3x1 + 2x2 + 3x3 = 207000\n",
            "  x1 + 3x2 + 2x3 = 155500\n",
            "\n",
            "Possibility #87\n",
            "The system of equations is:\n",
            "========================================\n",
            "Coefficient Values:\n",
            "  a_1,1 = 2, a_1,2 = 1, a_1,3 = 1\n",
            "  a_2,1 = 3, a_2,2 = 3, a_2,3 = 2\n",
            "  a_3,1 = 1, a_3,2 = 2, a_3,3 = 3\n",
            "Variable Values:\n",
            "  x1 = 25000, x2 = 25500, x3 = 26000\n",
            "Equations:\n",
            "  2x1 + x2 + x3 = 101500\n",
            "  3x1 + 3x2 + 2x3 = 203500\n",
            "  x1 + 2x2 + 3x3 = 154000\n",
            "\n",
            "Possibility #88\n",
            "The system of equations is:\n",
            "========================================\n",
            "Coefficient Values:\n",
            "  a_1,1 = 2, a_1,2 = 1, a_1,3 = 1\n",
            "  a_2,1 = 3, a_2,2 = 3, a_2,3 = 2\n",
            "  a_3,1 = 1, a_3,2 = 2, a_3,3 = 3\n",
            "Variable Values:\n",
            "  x1 = 25000, x2 = 25500, x3 = 27000\n",
            "Equations:\n",
            "  2x1 + x2 + x3 = 102500\n",
            "  3x1 + 3x2 + 2x3 = 205500\n",
            "  x1 + 2x2 + 3x3 = 157000\n",
            "\n",
            "Possibility #89\n",
            "The system of equations is:\n",
            "========================================\n",
            "Coefficient Values:\n",
            "  a_1,1 = 2, a_1,2 = 1, a_1,3 = 2\n",
            "  a_2,1 = 1, a_2,2 = 2, a_2,3 = 3\n",
            "  a_3,1 = 3, a_3,2 = 3, a_3,3 = 1\n",
            "Variable Values:\n",
            "  x1 = 25000, x2 = 25500, x3 = 26000\n",
            "Equations:\n",
            "  2x1 + x2 + 2x3 = 127500\n",
            "  x1 + 2x2 + 3x3 = 154000\n",
            "  3x1 + 3x2 + x3 = 177500\n",
            "\n",
            "Possibility #90\n",
            "The system of equations is:\n",
            "========================================\n",
            "Coefficient Values:\n",
            "  a_1,1 = 2, a_1,2 = 1, a_1,3 = 2\n",
            "  a_2,1 = 1, a_2,2 = 2, a_2,3 = 3\n",
            "  a_3,1 = 3, a_3,2 = 3, a_3,3 = 1\n",
            "Variable Values:\n",
            "  x1 = 25000, x2 = 25500, x3 = 27000\n",
            "Equations:\n",
            "  2x1 + x2 + 2x3 = 129500\n",
            "  x1 + 2x2 + 3x3 = 157000\n",
            "  3x1 + 3x2 + x3 = 178500\n",
            "\n",
            "Possibility #91\n",
            "The system of equations is:\n",
            "========================================\n",
            "Coefficient Values:\n",
            "  a_1,1 = 2, a_1,2 = 1, a_1,3 = 2\n",
            "  a_2,1 = 1, a_2,2 = 3, a_2,3 = 3\n",
            "  a_3,1 = 3, a_3,2 = 2, a_3,3 = 1\n",
            "Variable Values:\n",
            "  x1 = 25000, x2 = 25500, x3 = 26000\n",
            "Equations:\n",
            "  2x1 + x2 + 2x3 = 127500\n",
            "  x1 + 3x2 + 3x3 = 179500\n",
            "  3x1 + 2x2 + x3 = 152000\n",
            "\n",
            "Possibility #92\n",
            "The system of equations is:\n",
            "========================================\n",
            "Coefficient Values:\n",
            "  a_1,1 = 2, a_1,2 = 1, a_1,3 = 2\n",
            "  a_2,1 = 1, a_2,2 = 3, a_2,3 = 3\n",
            "  a_3,1 = 3, a_3,2 = 2, a_3,3 = 1\n",
            "Variable Values:\n",
            "  x1 = 25000, x2 = 25500, x3 = 27000\n",
            "Equations:\n",
            "  2x1 + x2 + 2x3 = 129500\n",
            "  x1 + 3x2 + 3x3 = 182500\n",
            "  3x1 + 2x2 + x3 = 153000\n",
            "\n",
            "Possibility #93\n",
            "The system of equations is:\n",
            "========================================\n",
            "Coefficient Values:\n",
            "  a_1,1 = 2, a_1,2 = 1, a_1,3 = 2\n",
            "  a_2,1 = 3, a_2,2 = 2, a_2,3 = 1\n",
            "  a_3,1 = 1, a_3,2 = 3, a_3,3 = 3\n",
            "Variable Values:\n",
            "  x1 = 25000, x2 = 25500, x3 = 26000\n",
            "Equations:\n",
            "  2x1 + x2 + 2x3 = 127500\n",
            "  3x1 + 2x2 + x3 = 152000\n",
            "  x1 + 3x2 + 3x3 = 179500\n",
            "\n",
            "Possibility #94\n",
            "The system of equations is:\n",
            "========================================\n",
            "Coefficient Values:\n",
            "  a_1,1 = 2, a_1,2 = 1, a_1,3 = 2\n",
            "  a_2,1 = 3, a_2,2 = 2, a_2,3 = 1\n",
            "  a_3,1 = 1, a_3,2 = 3, a_3,3 = 3\n",
            "Variable Values:\n",
            "  x1 = 25000, x2 = 25500, x3 = 27000\n",
            "Equations:\n",
            "  2x1 + x2 + 2x3 = 129500\n",
            "  3x1 + 2x2 + x3 = 153000\n",
            "  x1 + 3x2 + 3x3 = 182500\n",
            "\n",
            "Possibility #95\n",
            "The system of equations is:\n",
            "========================================\n",
            "Coefficient Values:\n",
            "  a_1,1 = 2, a_1,2 = 1, a_1,3 = 2\n",
            "  a_2,1 = 3, a_2,2 = 3, a_2,3 = 1\n",
            "  a_3,1 = 1, a_3,2 = 2, a_3,3 = 3\n",
            "Variable Values:\n",
            "  x1 = 25000, x2 = 25500, x3 = 26000\n",
            "Equations:\n",
            "  2x1 + x2 + 2x3 = 127500\n",
            "  3x1 + 3x2 + x3 = 177500\n",
            "  x1 + 2x2 + 3x3 = 154000\n",
            "\n",
            "Possibility #96\n",
            "The system of equations is:\n",
            "========================================\n",
            "Coefficient Values:\n",
            "  a_1,1 = 2, a_1,2 = 1, a_1,3 = 2\n",
            "  a_2,1 = 3, a_2,2 = 3, a_2,3 = 1\n",
            "  a_3,1 = 1, a_3,2 = 2, a_3,3 = 3\n",
            "Variable Values:\n",
            "  x1 = 25000, x2 = 25500, x3 = 27000\n",
            "Equations:\n",
            "  2x1 + x2 + 2x3 = 129500\n",
            "  3x1 + 3x2 + x3 = 178500\n",
            "  x1 + 2x2 + 3x3 = 157000\n",
            "\n",
            "Possibility #97\n",
            "The system of equations is:\n",
            "========================================\n",
            "Coefficient Values:\n",
            "  a_1,1 = 2, a_1,2 = 1, a_1,3 = 3\n",
            "  a_2,1 = 1, a_2,2 = 2, a_2,3 = 1\n",
            "  a_3,1 = 3, a_3,2 = 3, a_3,3 = 2\n",
            "Variable Values:\n",
            "  x1 = 25000, x2 = 25500, x3 = 26000\n",
            "Equations:\n",
            "  2x1 + x2 + 3x3 = 153500\n",
            "  x1 + 2x2 + x3 = 102000\n",
            "  3x1 + 3x2 + 2x3 = 203500\n",
            "\n",
            "Possibility #98\n",
            "The system of equations is:\n",
            "========================================\n",
            "Coefficient Values:\n",
            "  a_1,1 = 2, a_1,2 = 1, a_1,3 = 3\n",
            "  a_2,1 = 1, a_2,2 = 2, a_2,3 = 1\n",
            "  a_3,1 = 3, a_3,2 = 3, a_3,3 = 2\n",
            "Variable Values:\n",
            "  x1 = 25000, x2 = 25500, x3 = 27000\n",
            "Equations:\n",
            "  2x1 + x2 + 3x3 = 156500\n",
            "  x1 + 2x2 + x3 = 103000\n",
            "  3x1 + 3x2 + 2x3 = 205500\n",
            "\n",
            "Possibility #99\n",
            "The system of equations is:\n",
            "========================================\n",
            "Coefficient Values:\n",
            "  a_1,1 = 2, a_1,2 = 1, a_1,3 = 3\n",
            "  a_2,1 = 1, a_2,2 = 2, a_2,3 = 2\n",
            "  a_3,1 = 3, a_3,2 = 3, a_3,3 = 1\n",
            "Variable Values:\n",
            "  x1 = 25000, x2 = 25500, x3 = 26000\n",
            "Equations:\n",
            "  2x1 + x2 + 3x3 = 153500\n",
            "  x1 + 2x2 + 2x3 = 128000\n",
            "  3x1 + 3x2 + x3 = 177500\n",
            "\n",
            "Possibility #100\n",
            "The system of equations is:\n",
            "========================================\n",
            "Coefficient Values:\n",
            "  a_1,1 = 2, a_1,2 = 1, a_1,3 = 3\n",
            "  a_2,1 = 1, a_2,2 = 2, a_2,3 = 2\n",
            "  a_3,1 = 3, a_3,2 = 3, a_3,3 = 1\n",
            "Variable Values:\n",
            "  x1 = 25000, x2 = 25500, x3 = 27000\n",
            "Equations:\n",
            "  2x1 + x2 + 3x3 = 156500\n",
            "  x1 + 2x2 + 2x3 = 130000\n",
            "  3x1 + 3x2 + x3 = 178500\n",
            "\n",
            "Possibility #101\n",
            "The system of equations is:\n",
            "========================================\n",
            "Coefficient Values:\n",
            "  a_1,1 = 2, a_1,2 = 1, a_1,3 = 3\n",
            "  a_2,1 = 1, a_2,2 = 3, a_2,3 = 1\n",
            "  a_3,1 = 3, a_3,2 = 2, a_3,3 = 2\n",
            "Variable Values:\n",
            "  x1 = 25000, x2 = 25500, x3 = 26000\n",
            "Equations:\n",
            "  2x1 + x2 + 3x3 = 153500\n",
            "  x1 + 3x2 + x3 = 127500\n",
            "  3x1 + 2x2 + 2x3 = 178000\n",
            "\n",
            "Possibility #102\n",
            "The system of equations is:\n",
            "========================================\n",
            "Coefficient Values:\n",
            "  a_1,1 = 2, a_1,2 = 1, a_1,3 = 3\n",
            "  a_2,1 = 1, a_2,2 = 3, a_2,3 = 1\n",
            "  a_3,1 = 3, a_3,2 = 2, a_3,3 = 2\n",
            "Variable Values:\n",
            "  x1 = 25000, x2 = 25500, x3 = 27000\n",
            "Equations:\n",
            "  2x1 + x2 + 3x3 = 156500\n",
            "  x1 + 3x2 + x3 = 128500\n",
            "  3x1 + 2x2 + 2x3 = 180000\n",
            "\n",
            "Possibility #103\n",
            "The system of equations is:\n",
            "========================================\n",
            "Coefficient Values:\n",
            "  a_1,1 = 2, a_1,2 = 1, a_1,3 = 3\n",
            "  a_2,1 = 1, a_2,2 = 3, a_2,3 = 2\n",
            "  a_3,1 = 3, a_3,2 = 2, a_3,3 = 1\n",
            "Variable Values:\n",
            "  x1 = 25000, x2 = 25500, x3 = 26000\n",
            "Equations:\n",
            "  2x1 + x2 + 3x3 = 153500\n",
            "  x1 + 3x2 + 2x3 = 153500\n",
            "  3x1 + 2x2 + x3 = 152000\n",
            "\n",
            "Possibility #104\n",
            "The system of equations is:\n",
            "========================================\n",
            "Coefficient Values:\n",
            "  a_1,1 = 2, a_1,2 = 1, a_1,3 = 3\n",
            "  a_2,1 = 1, a_2,2 = 3, a_2,3 = 2\n",
            "  a_3,1 = 3, a_3,2 = 2, a_3,3 = 1\n",
            "Variable Values:\n",
            "  x1 = 25000, x2 = 25500, x3 = 27000\n",
            "Equations:\n",
            "  2x1 + x2 + 3x3 = 156500\n",
            "  x1 + 3x2 + 2x3 = 155500\n",
            "  3x1 + 2x2 + x3 = 153000\n",
            "\n",
            "Possibility #105\n",
            "The system of equations is:\n",
            "========================================\n",
            "Coefficient Values:\n",
            "  a_1,1 = 2, a_1,2 = 1, a_1,3 = 3\n",
            "  a_2,1 = 3, a_2,2 = 2, a_2,3 = 1\n",
            "  a_3,1 = 1, a_3,2 = 3, a_3,3 = 2\n",
            "Variable Values:\n",
            "  x1 = 25000, x2 = 25500, x3 = 26000\n",
            "Equations:\n",
            "  2x1 + x2 + 3x3 = 153500\n",
            "  3x1 + 2x2 + x3 = 152000\n",
            "  x1 + 3x2 + 2x3 = 153500\n",
            "\n",
            "Possibility #106\n",
            "The system of equations is:\n",
            "========================================\n",
            "Coefficient Values:\n",
            "  a_1,1 = 2, a_1,2 = 1, a_1,3 = 3\n",
            "  a_2,1 = 3, a_2,2 = 2, a_2,3 = 1\n",
            "  a_3,1 = 1, a_3,2 = 3, a_3,3 = 2\n",
            "Variable Values:\n",
            "  x1 = 25000, x2 = 25500, x3 = 27000\n",
            "Equations:\n",
            "  2x1 + x2 + 3x3 = 156500\n",
            "  3x1 + 2x2 + x3 = 153000\n",
            "  x1 + 3x2 + 2x3 = 155500\n",
            "\n",
            "Possibility #107\n",
            "The system of equations is:\n",
            "========================================\n",
            "Coefficient Values:\n",
            "  a_1,1 = 2, a_1,2 = 1, a_1,3 = 3\n",
            "  a_2,1 = 3, a_2,2 = 2, a_2,3 = 2\n",
            "  a_3,1 = 1, a_3,2 = 3, a_3,3 = 1\n",
            "Variable Values:\n",
            "  x1 = 25000, x2 = 25500, x3 = 26000\n",
            "Equations:\n",
            "  2x1 + x2 + 3x3 = 153500\n",
            "  3x1 + 2x2 + 2x3 = 178000\n",
            "  x1 + 3x2 + x3 = 127500\n",
            "\n",
            "Possibility #108\n",
            "The system of equations is:\n",
            "========================================\n",
            "Coefficient Values:\n",
            "  a_1,1 = 2, a_1,2 = 1, a_1,3 = 3\n",
            "  a_2,1 = 3, a_2,2 = 2, a_2,3 = 2\n",
            "  a_3,1 = 1, a_3,2 = 3, a_3,3 = 1\n",
            "Variable Values:\n",
            "  x1 = 25000, x2 = 25500, x3 = 27000\n",
            "Equations:\n",
            "  2x1 + x2 + 3x3 = 156500\n",
            "  3x1 + 2x2 + 2x3 = 180000\n",
            "  x1 + 3x2 + x3 = 128500\n",
            "\n",
            "Possibility #109\n",
            "The system of equations is:\n",
            "========================================\n",
            "Coefficient Values:\n",
            "  a_1,1 = 2, a_1,2 = 1, a_1,3 = 3\n",
            "  a_2,1 = 3, a_2,2 = 3, a_2,3 = 1\n",
            "  a_3,1 = 1, a_3,2 = 2, a_3,3 = 2\n",
            "Variable Values:\n",
            "  x1 = 25000, x2 = 25500, x3 = 26000\n",
            "Equations:\n",
            "  2x1 + x2 + 3x3 = 153500\n",
            "  3x1 + 3x2 + x3 = 177500\n",
            "  x1 + 2x2 + 2x3 = 128000\n",
            "\n",
            "Possibility #110\n",
            "The system of equations is:\n",
            "========================================\n",
            "Coefficient Values:\n",
            "  a_1,1 = 2, a_1,2 = 1, a_1,3 = 3\n",
            "  a_2,1 = 3, a_2,2 = 3, a_2,3 = 1\n",
            "  a_3,1 = 1, a_3,2 = 2, a_3,3 = 2\n",
            "Variable Values:\n",
            "  x1 = 25000, x2 = 25500, x3 = 27000\n",
            "Equations:\n",
            "  2x1 + x2 + 3x3 = 156500\n",
            "  3x1 + 3x2 + x3 = 178500\n",
            "  x1 + 2x2 + 2x3 = 130000\n",
            "\n",
            "Possibility #111\n",
            "The system of equations is:\n",
            "========================================\n",
            "Coefficient Values:\n",
            "  a_1,1 = 2, a_1,2 = 1, a_1,3 = 3\n",
            "  a_2,1 = 3, a_2,2 = 3, a_2,3 = 2\n",
            "  a_3,1 = 1, a_3,2 = 2, a_3,3 = 1\n",
            "Variable Values:\n",
            "  x1 = 25000, x2 = 25500, x3 = 26000\n",
            "Equations:\n",
            "  2x1 + x2 + 3x3 = 153500\n",
            "  3x1 + 3x2 + 2x3 = 203500\n",
            "  x1 + 2x2 + x3 = 102000\n",
            "\n",
            "Possibility #112\n",
            "The system of equations is:\n",
            "========================================\n",
            "Coefficient Values:\n",
            "  a_1,1 = 2, a_1,2 = 1, a_1,3 = 3\n",
            "  a_2,1 = 3, a_2,2 = 3, a_2,3 = 2\n",
            "  a_3,1 = 1, a_3,2 = 2, a_3,3 = 1\n",
            "Variable Values:\n",
            "  x1 = 25000, x2 = 25500, x3 = 27000\n",
            "Equations:\n",
            "  2x1 + x2 + 3x3 = 156500\n",
            "  3x1 + 3x2 + 2x3 = 205500\n",
            "  x1 + 2x2 + x3 = 103000\n",
            "\n",
            "Possibility #113\n",
            "The system of equations is:\n",
            "========================================\n",
            "Coefficient Values:\n",
            "  a_1,1 = 2, a_1,2 = 2, a_1,3 = 1\n",
            "  a_2,1 = 1, a_2,2 = 3, a_2,3 = 2\n",
            "  a_3,1 = 3, a_3,2 = 1, a_3,3 = 3\n",
            "Variable Values:\n",
            "  x1 = 25000, x2 = 25500, x3 = 26000\n",
            "Equations:\n",
            "  2x1 + 2x2 + x3 = 127000\n",
            "  x1 + 3x2 + 2x3 = 153500\n",
            "  3x1 + x2 + 3x3 = 178500\n",
            "\n",
            "Possibility #114\n",
            "The system of equations is:\n",
            "========================================\n",
            "Coefficient Values:\n",
            "  a_1,1 = 2, a_1,2 = 2, a_1,3 = 1\n",
            "  a_2,1 = 1, a_2,2 = 3, a_2,3 = 2\n",
            "  a_3,1 = 3, a_3,2 = 1, a_3,3 = 3\n",
            "Variable Values:\n",
            "  x1 = 25000, x2 = 25500, x3 = 27000\n",
            "Equations:\n",
            "  2x1 + 2x2 + x3 = 128000\n",
            "  x1 + 3x2 + 2x3 = 155500\n",
            "  3x1 + x2 + 3x3 = 181500\n",
            "\n",
            "Possibility #115\n",
            "The system of equations is:\n",
            "========================================\n",
            "Coefficient Values:\n",
            "  a_1,1 = 2, a_1,2 = 2, a_1,3 = 1\n",
            "  a_2,1 = 1, a_2,2 = 3, a_2,3 = 3\n",
            "  a_3,1 = 3, a_3,2 = 1, a_3,3 = 2\n",
            "Variable Values:\n",
            "  x1 = 25000, x2 = 25500, x3 = 26000\n",
            "Equations:\n",
            "  2x1 + 2x2 + x3 = 127000\n",
            "  x1 + 3x2 + 3x3 = 179500\n",
            "  3x1 + x2 + 2x3 = 152500\n",
            "\n",
            "Possibility #116\n",
            "The system of equations is:\n",
            "========================================\n",
            "Coefficient Values:\n",
            "  a_1,1 = 2, a_1,2 = 2, a_1,3 = 1\n",
            "  a_2,1 = 1, a_2,2 = 3, a_2,3 = 3\n",
            "  a_3,1 = 3, a_3,2 = 1, a_3,3 = 2\n",
            "Variable Values:\n",
            "  x1 = 25000, x2 = 25500, x3 = 27000\n",
            "Equations:\n",
            "  2x1 + 2x2 + x3 = 128000\n",
            "  x1 + 3x2 + 3x3 = 182500\n",
            "  3x1 + x2 + 2x3 = 154500\n",
            "\n",
            "Possibility #117\n",
            "The system of equations is:\n",
            "========================================\n",
            "Coefficient Values:\n",
            "  a_1,1 = 2, a_1,2 = 2, a_1,3 = 1\n",
            "  a_2,1 = 3, a_2,2 = 1, a_2,3 = 2\n",
            "  a_3,1 = 1, a_3,2 = 3, a_3,3 = 3\n",
            "Variable Values:\n",
            "  x1 = 25000, x2 = 25500, x3 = 26000\n",
            "Equations:\n",
            "  2x1 + 2x2 + x3 = 127000\n",
            "  3x1 + x2 + 2x3 = 152500\n",
            "  x1 + 3x2 + 3x3 = 179500\n",
            "\n",
            "Possibility #118\n",
            "The system of equations is:\n",
            "========================================\n",
            "Coefficient Values:\n",
            "  a_1,1 = 2, a_1,2 = 2, a_1,3 = 1\n",
            "  a_2,1 = 3, a_2,2 = 1, a_2,3 = 2\n",
            "  a_3,1 = 1, a_3,2 = 3, a_3,3 = 3\n",
            "Variable Values:\n",
            "  x1 = 25000, x2 = 25500, x3 = 27000\n",
            "Equations:\n",
            "  2x1 + 2x2 + x3 = 128000\n",
            "  3x1 + x2 + 2x3 = 154500\n",
            "  x1 + 3x2 + 3x3 = 182500\n",
            "\n",
            "Possibility #119\n",
            "The system of equations is:\n",
            "========================================\n",
            "Coefficient Values:\n",
            "  a_1,1 = 2, a_1,2 = 2, a_1,3 = 1\n",
            "  a_2,1 = 3, a_2,2 = 1, a_2,3 = 3\n",
            "  a_3,1 = 1, a_3,2 = 3, a_3,3 = 2\n",
            "Variable Values:\n",
            "  x1 = 25000, x2 = 25500, x3 = 26000\n",
            "Equations:\n",
            "  2x1 + 2x2 + x3 = 127000\n",
            "  3x1 + x2 + 3x3 = 178500\n",
            "  x1 + 3x2 + 2x3 = 153500\n",
            "\n",
            "Possibility #120\n",
            "The system of equations is:\n",
            "========================================\n",
            "Coefficient Values:\n",
            "  a_1,1 = 2, a_1,2 = 2, a_1,3 = 1\n",
            "  a_2,1 = 3, a_2,2 = 1, a_2,3 = 3\n",
            "  a_3,1 = 1, a_3,2 = 3, a_3,3 = 2\n",
            "Variable Values:\n",
            "  x1 = 25000, x2 = 25500, x3 = 27000\n",
            "Equations:\n",
            "  2x1 + 2x2 + x3 = 128000\n",
            "  3x1 + x2 + 3x3 = 181500\n",
            "  x1 + 3x2 + 2x3 = 155500\n",
            "\n",
            "Possibility #121\n",
            "The system of equations is:\n",
            "========================================\n",
            "Coefficient Values:\n",
            "  a_1,1 = 2, a_1,2 = 2, a_1,3 = 3\n",
            "  a_2,1 = 1, a_2,2 = 3, a_2,3 = 1\n",
            "  a_3,1 = 3, a_3,2 = 1, a_3,3 = 2\n",
            "Variable Values:\n",
            "  x1 = 25000, x2 = 25500, x3 = 26000\n",
            "Equations:\n",
            "  2x1 + 2x2 + 3x3 = 179000\n",
            "  x1 + 3x2 + x3 = 127500\n",
            "  3x1 + x2 + 2x3 = 152500\n",
            "\n",
            "Possibility #122\n",
            "The system of equations is:\n",
            "========================================\n",
            "Coefficient Values:\n",
            "  a_1,1 = 2, a_1,2 = 2, a_1,3 = 3\n",
            "  a_2,1 = 1, a_2,2 = 3, a_2,3 = 1\n",
            "  a_3,1 = 3, a_3,2 = 1, a_3,3 = 2\n",
            "Variable Values:\n",
            "  x1 = 25000, x2 = 25500, x3 = 27000\n",
            "Equations:\n",
            "  2x1 + 2x2 + 3x3 = 182000\n",
            "  x1 + 3x2 + x3 = 128500\n",
            "  3x1 + x2 + 2x3 = 154500\n",
            "\n",
            "Possibility #123\n",
            "The system of equations is:\n",
            "========================================\n",
            "Coefficient Values:\n",
            "  a_1,1 = 2, a_1,2 = 2, a_1,3 = 3\n",
            "  a_2,1 = 1, a_2,2 = 3, a_2,3 = 2\n",
            "  a_3,1 = 3, a_3,2 = 1, a_3,3 = 1\n",
            "Variable Values:\n",
            "  x1 = 25000, x2 = 25500, x3 = 26000\n",
            "Equations:\n",
            "  2x1 + 2x2 + 3x3 = 179000\n",
            "  x1 + 3x2 + 2x3 = 153500\n",
            "  3x1 + x2 + x3 = 126500\n",
            "\n",
            "Possibility #124\n",
            "The system of equations is:\n",
            "========================================\n",
            "Coefficient Values:\n",
            "  a_1,1 = 2, a_1,2 = 2, a_1,3 = 3\n",
            "  a_2,1 = 1, a_2,2 = 3, a_2,3 = 2\n",
            "  a_3,1 = 3, a_3,2 = 1, a_3,3 = 1\n",
            "Variable Values:\n",
            "  x1 = 25000, x2 = 25500, x3 = 27000\n",
            "Equations:\n",
            "  2x1 + 2x2 + 3x3 = 182000\n",
            "  x1 + 3x2 + 2x3 = 155500\n",
            "  3x1 + x2 + x3 = 127500\n",
            "\n",
            "Possibility #125\n",
            "The system of equations is:\n",
            "========================================\n",
            "Coefficient Values:\n",
            "  a_1,1 = 2, a_1,2 = 2, a_1,3 = 3\n",
            "  a_2,1 = 3, a_2,2 = 1, a_2,3 = 1\n",
            "  a_3,1 = 1, a_3,2 = 3, a_3,3 = 2\n",
            "Variable Values:\n",
            "  x1 = 25000, x2 = 25500, x3 = 26000\n",
            "Equations:\n",
            "  2x1 + 2x2 + 3x3 = 179000\n",
            "  3x1 + x2 + x3 = 126500\n",
            "  x1 + 3x2 + 2x3 = 153500\n",
            "\n",
            "Possibility #126\n",
            "The system of equations is:\n",
            "========================================\n",
            "Coefficient Values:\n",
            "  a_1,1 = 2, a_1,2 = 2, a_1,3 = 3\n",
            "  a_2,1 = 3, a_2,2 = 1, a_2,3 = 1\n",
            "  a_3,1 = 1, a_3,2 = 3, a_3,3 = 2\n",
            "Variable Values:\n",
            "  x1 = 25000, x2 = 25500, x3 = 27000\n",
            "Equations:\n",
            "  2x1 + 2x2 + 3x3 = 182000\n",
            "  3x1 + x2 + x3 = 127500\n",
            "  x1 + 3x2 + 2x3 = 155500\n",
            "\n",
            "Possibility #127\n",
            "The system of equations is:\n",
            "========================================\n",
            "Coefficient Values:\n",
            "  a_1,1 = 2, a_1,2 = 2, a_1,3 = 3\n",
            "  a_2,1 = 3, a_2,2 = 1, a_2,3 = 2\n",
            "  a_3,1 = 1, a_3,2 = 3, a_3,3 = 1\n",
            "Variable Values:\n",
            "  x1 = 25000, x2 = 25500, x3 = 26000\n",
            "Equations:\n",
            "  2x1 + 2x2 + 3x3 = 179000\n",
            "  3x1 + x2 + 2x3 = 152500\n",
            "  x1 + 3x2 + x3 = 127500\n",
            "\n",
            "Possibility #128\n",
            "The system of equations is:\n",
            "========================================\n",
            "Coefficient Values:\n",
            "  a_1,1 = 2, a_1,2 = 2, a_1,3 = 3\n",
            "  a_2,1 = 3, a_2,2 = 1, a_2,3 = 2\n",
            "  a_3,1 = 1, a_3,2 = 3, a_3,3 = 1\n",
            "Variable Values:\n",
            "  x1 = 25000, x2 = 25500, x3 = 27000\n",
            "Equations:\n",
            "  2x1 + 2x2 + 3x3 = 182000\n",
            "  3x1 + x2 + 2x3 = 154500\n",
            "  x1 + 3x2 + x3 = 128500\n",
            "\n",
            "Possibility #129\n",
            "The system of equations is:\n",
            "========================================\n",
            "Coefficient Values:\n",
            "  a_1,1 = 2, a_1,2 = 3, a_1,3 = 1\n",
            "  a_2,1 = 1, a_2,2 = 1, a_2,3 = 2\n",
            "  a_3,1 = 3, a_3,2 = 2, a_3,3 = 3\n",
            "Variable Values:\n",
            "  x1 = 25000, x2 = 25500, x3 = 26000\n",
            "Equations:\n",
            "  2x1 + 3x2 + x3 = 152500\n",
            "  x1 + x2 + 2x3 = 102500\n",
            "  3x1 + 2x2 + 3x3 = 204000\n",
            "\n",
            "Possibility #130\n",
            "The system of equations is:\n",
            "========================================\n",
            "Coefficient Values:\n",
            "  a_1,1 = 2, a_1,2 = 3, a_1,3 = 1\n",
            "  a_2,1 = 1, a_2,2 = 1, a_2,3 = 2\n",
            "  a_3,1 = 3, a_3,2 = 2, a_3,3 = 3\n",
            "Variable Values:\n",
            "  x1 = 25000, x2 = 25500, x3 = 27000\n",
            "Equations:\n",
            "  2x1 + 3x2 + x3 = 153500\n",
            "  x1 + x2 + 2x3 = 104500\n",
            "  3x1 + 2x2 + 3x3 = 207000\n",
            "\n",
            "Possibility #131\n",
            "The system of equations is:\n",
            "========================================\n",
            "Coefficient Values:\n",
            "  a_1,1 = 2, a_1,2 = 3, a_1,3 = 1\n",
            "  a_2,1 = 1, a_2,2 = 1, a_2,3 = 3\n",
            "  a_3,1 = 3, a_3,2 = 2, a_3,3 = 2\n",
            "Variable Values:\n",
            "  x1 = 25000, x2 = 25500, x3 = 26000\n",
            "Equations:\n",
            "  2x1 + 3x2 + x3 = 152500\n",
            "  x1 + x2 + 3x3 = 128500\n",
            "  3x1 + 2x2 + 2x3 = 178000\n",
            "\n",
            "Possibility #132\n",
            "The system of equations is:\n",
            "========================================\n",
            "Coefficient Values:\n",
            "  a_1,1 = 2, a_1,2 = 3, a_1,3 = 1\n",
            "  a_2,1 = 1, a_2,2 = 1, a_2,3 = 3\n",
            "  a_3,1 = 3, a_3,2 = 2, a_3,3 = 2\n",
            "Variable Values:\n",
            "  x1 = 25000, x2 = 25500, x3 = 27000\n",
            "Equations:\n",
            "  2x1 + 3x2 + x3 = 153500\n",
            "  x1 + x2 + 3x3 = 131500\n",
            "  3x1 + 2x2 + 2x3 = 180000\n",
            "\n",
            "Possibility #133\n",
            "The system of equations is:\n",
            "========================================\n",
            "Coefficient Values:\n",
            "  a_1,1 = 2, a_1,2 = 3, a_1,3 = 1\n",
            "  a_2,1 = 1, a_2,2 = 2, a_2,3 = 2\n",
            "  a_3,1 = 3, a_3,2 = 1, a_3,3 = 3\n",
            "Variable Values:\n",
            "  x1 = 25000, x2 = 25500, x3 = 26000\n",
            "Equations:\n",
            "  2x1 + 3x2 + x3 = 152500\n",
            "  x1 + 2x2 + 2x3 = 128000\n",
            "  3x1 + x2 + 3x3 = 178500\n",
            "\n",
            "Possibility #134\n",
            "The system of equations is:\n",
            "========================================\n",
            "Coefficient Values:\n",
            "  a_1,1 = 2, a_1,2 = 3, a_1,3 = 1\n",
            "  a_2,1 = 1, a_2,2 = 2, a_2,3 = 2\n",
            "  a_3,1 = 3, a_3,2 = 1, a_3,3 = 3\n",
            "Variable Values:\n",
            "  x1 = 25000, x2 = 25500, x3 = 27000\n",
            "Equations:\n",
            "  2x1 + 3x2 + x3 = 153500\n",
            "  x1 + 2x2 + 2x3 = 130000\n",
            "  3x1 + x2 + 3x3 = 181500\n",
            "\n",
            "Possibility #135\n",
            "The system of equations is:\n",
            "========================================\n",
            "Coefficient Values:\n",
            "  a_1,1 = 2, a_1,2 = 3, a_1,3 = 1\n",
            "  a_2,1 = 1, a_2,2 = 2, a_2,3 = 3\n",
            "  a_3,1 = 3, a_3,2 = 1, a_3,3 = 2\n",
            "Variable Values:\n",
            "  x1 = 25000, x2 = 25500, x3 = 26000\n",
            "Equations:\n",
            "  2x1 + 3x2 + x3 = 152500\n",
            "  x1 + 2x2 + 3x3 = 154000\n",
            "  3x1 + x2 + 2x3 = 152500\n",
            "\n",
            "Possibility #136\n",
            "The system of equations is:\n",
            "========================================\n",
            "Coefficient Values:\n",
            "  a_1,1 = 2, a_1,2 = 3, a_1,3 = 1\n",
            "  a_2,1 = 1, a_2,2 = 2, a_2,3 = 3\n",
            "  a_3,1 = 3, a_3,2 = 1, a_3,3 = 2\n",
            "Variable Values:\n",
            "  x1 = 25000, x2 = 25500, x3 = 27000\n",
            "Equations:\n",
            "  2x1 + 3x2 + x3 = 153500\n",
            "  x1 + 2x2 + 3x3 = 157000\n",
            "  3x1 + x2 + 2x3 = 154500\n",
            "\n",
            "Possibility #137\n",
            "The system of equations is:\n",
            "========================================\n",
            "Coefficient Values:\n",
            "  a_1,1 = 2, a_1,2 = 3, a_1,3 = 1\n",
            "  a_2,1 = 3, a_2,2 = 1, a_2,3 = 2\n",
            "  a_3,1 = 1, a_3,2 = 2, a_3,3 = 3\n",
            "Variable Values:\n",
            "  x1 = 25000, x2 = 25500, x3 = 26000\n",
            "Equations:\n",
            "  2x1 + 3x2 + x3 = 152500\n",
            "  3x1 + x2 + 2x3 = 152500\n",
            "  x1 + 2x2 + 3x3 = 154000\n",
            "\n",
            "Possibility #138\n",
            "The system of equations is:\n",
            "========================================\n",
            "Coefficient Values:\n",
            "  a_1,1 = 2, a_1,2 = 3, a_1,3 = 1\n",
            "  a_2,1 = 3, a_2,2 = 1, a_2,3 = 2\n",
            "  a_3,1 = 1, a_3,2 = 2, a_3,3 = 3\n",
            "Variable Values:\n",
            "  x1 = 25000, x2 = 25500, x3 = 27000\n",
            "Equations:\n",
            "  2x1 + 3x2 + x3 = 153500\n",
            "  3x1 + x2 + 2x3 = 154500\n",
            "  x1 + 2x2 + 3x3 = 157000\n",
            "\n",
            "Possibility #139\n",
            "The system of equations is:\n",
            "========================================\n",
            "Coefficient Values:\n",
            "  a_1,1 = 2, a_1,2 = 3, a_1,3 = 1\n",
            "  a_2,1 = 3, a_2,2 = 1, a_2,3 = 3\n",
            "  a_3,1 = 1, a_3,2 = 2, a_3,3 = 2\n",
            "Variable Values:\n",
            "  x1 = 25000, x2 = 25500, x3 = 26000\n",
            "Equations:\n",
            "  2x1 + 3x2 + x3 = 152500\n",
            "  3x1 + x2 + 3x3 = 178500\n",
            "  x1 + 2x2 + 2x3 = 128000\n",
            "\n",
            "Possibility #140\n",
            "The system of equations is:\n",
            "========================================\n",
            "Coefficient Values:\n",
            "  a_1,1 = 2, a_1,2 = 3, a_1,3 = 1\n",
            "  a_2,1 = 3, a_2,2 = 1, a_2,3 = 3\n",
            "  a_3,1 = 1, a_3,2 = 2, a_3,3 = 2\n",
            "Variable Values:\n",
            "  x1 = 25000, x2 = 25500, x3 = 27000\n",
            "Equations:\n",
            "  2x1 + 3x2 + x3 = 153500\n",
            "  3x1 + x2 + 3x3 = 181500\n",
            "  x1 + 2x2 + 2x3 = 130000\n",
            "\n",
            "Possibility #141\n",
            "The system of equations is:\n",
            "========================================\n",
            "Coefficient Values:\n",
            "  a_1,1 = 2, a_1,2 = 3, a_1,3 = 1\n",
            "  a_2,1 = 3, a_2,2 = 2, a_2,3 = 2\n",
            "  a_3,1 = 1, a_3,2 = 1, a_3,3 = 3\n",
            "Variable Values:\n",
            "  x1 = 25000, x2 = 25500, x3 = 26000\n",
            "Equations:\n",
            "  2x1 + 3x2 + x3 = 152500\n",
            "  3x1 + 2x2 + 2x3 = 178000\n",
            "  x1 + x2 + 3x3 = 128500\n",
            "\n",
            "Possibility #142\n",
            "The system of equations is:\n",
            "========================================\n",
            "Coefficient Values:\n",
            "  a_1,1 = 2, a_1,2 = 3, a_1,3 = 1\n",
            "  a_2,1 = 3, a_2,2 = 2, a_2,3 = 2\n",
            "  a_3,1 = 1, a_3,2 = 1, a_3,3 = 3\n",
            "Variable Values:\n",
            "  x1 = 25000, x2 = 25500, x3 = 27000\n",
            "Equations:\n",
            "  2x1 + 3x2 + x3 = 153500\n",
            "  3x1 + 2x2 + 2x3 = 180000\n",
            "  x1 + x2 + 3x3 = 131500\n",
            "\n",
            "Possibility #143\n",
            "The system of equations is:\n",
            "========================================\n",
            "Coefficient Values:\n",
            "  a_1,1 = 2, a_1,2 = 3, a_1,3 = 1\n",
            "  a_2,1 = 3, a_2,2 = 2, a_2,3 = 3\n",
            "  a_3,1 = 1, a_3,2 = 1, a_3,3 = 2\n",
            "Variable Values:\n",
            "  x1 = 25000, x2 = 25500, x3 = 26000\n",
            "Equations:\n",
            "  2x1 + 3x2 + x3 = 152500\n",
            "  3x1 + 2x2 + 3x3 = 204000\n",
            "  x1 + x2 + 2x3 = 102500\n",
            "\n",
            "Possibility #144\n",
            "The system of equations is:\n",
            "========================================\n",
            "Coefficient Values:\n",
            "  a_1,1 = 2, a_1,2 = 3, a_1,3 = 1\n",
            "  a_2,1 = 3, a_2,2 = 2, a_2,3 = 3\n",
            "  a_3,1 = 1, a_3,2 = 1, a_3,3 = 2\n",
            "Variable Values:\n",
            "  x1 = 25000, x2 = 25500, x3 = 27000\n",
            "Equations:\n",
            "  2x1 + 3x2 + x3 = 153500\n",
            "  3x1 + 2x2 + 3x3 = 207000\n",
            "  x1 + x2 + 2x3 = 104500\n",
            "\n",
            "Possibility #145\n",
            "The system of equations is:\n",
            "========================================\n",
            "Coefficient Values:\n",
            "  a_1,1 = 2, a_1,2 = 3, a_1,3 = 2\n",
            "  a_2,1 = 1, a_2,2 = 1, a_2,3 = 3\n",
            "  a_3,1 = 3, a_3,2 = 2, a_3,3 = 1\n",
            "Variable Values:\n",
            "  x1 = 25000, x2 = 25500, x3 = 26000\n",
            "Equations:\n",
            "  2x1 + 3x2 + 2x3 = 178500\n",
            "  x1 + x2 + 3x3 = 128500\n",
            "  3x1 + 2x2 + x3 = 152000\n",
            "\n",
            "Possibility #146\n",
            "The system of equations is:\n",
            "========================================\n",
            "Coefficient Values:\n",
            "  a_1,1 = 2, a_1,2 = 3, a_1,3 = 2\n",
            "  a_2,1 = 1, a_2,2 = 1, a_2,3 = 3\n",
            "  a_3,1 = 3, a_3,2 = 2, a_3,3 = 1\n",
            "Variable Values:\n",
            "  x1 = 25000, x2 = 25500, x3 = 27000\n",
            "Equations:\n",
            "  2x1 + 3x2 + 2x3 = 180500\n",
            "  x1 + x2 + 3x3 = 131500\n",
            "  3x1 + 2x2 + x3 = 153000\n",
            "\n",
            "Possibility #147\n",
            "The system of equations is:\n",
            "========================================\n",
            "Coefficient Values:\n",
            "  a_1,1 = 2, a_1,2 = 3, a_1,3 = 2\n",
            "  a_2,1 = 1, a_2,2 = 2, a_2,3 = 3\n",
            "  a_3,1 = 3, a_3,2 = 1, a_3,3 = 1\n",
            "Variable Values:\n",
            "  x1 = 25000, x2 = 25500, x3 = 26000\n",
            "Equations:\n",
            "  2x1 + 3x2 + 2x3 = 178500\n",
            "  x1 + 2x2 + 3x3 = 154000\n",
            "  3x1 + x2 + x3 = 126500\n",
            "\n",
            "Possibility #148\n",
            "The system of equations is:\n",
            "========================================\n",
            "Coefficient Values:\n",
            "  a_1,1 = 2, a_1,2 = 3, a_1,3 = 2\n",
            "  a_2,1 = 1, a_2,2 = 2, a_2,3 = 3\n",
            "  a_3,1 = 3, a_3,2 = 1, a_3,3 = 1\n",
            "Variable Values:\n",
            "  x1 = 25000, x2 = 25500, x3 = 27000\n",
            "Equations:\n",
            "  2x1 + 3x2 + 2x3 = 180500\n",
            "  x1 + 2x2 + 3x3 = 157000\n",
            "  3x1 + x2 + x3 = 127500\n",
            "\n",
            "Possibility #149\n",
            "The system of equations is:\n",
            "========================================\n",
            "Coefficient Values:\n",
            "  a_1,1 = 2, a_1,2 = 3, a_1,3 = 2\n",
            "  a_2,1 = 3, a_2,2 = 1, a_2,3 = 1\n",
            "  a_3,1 = 1, a_3,2 = 2, a_3,3 = 3\n",
            "Variable Values:\n",
            "  x1 = 25000, x2 = 25500, x3 = 26000\n",
            "Equations:\n",
            "  2x1 + 3x2 + 2x3 = 178500\n",
            "  3x1 + x2 + x3 = 126500\n",
            "  x1 + 2x2 + 3x3 = 154000\n",
            "\n",
            "Possibility #150\n",
            "The system of equations is:\n",
            "========================================\n",
            "Coefficient Values:\n",
            "  a_1,1 = 2, a_1,2 = 3, a_1,3 = 2\n",
            "  a_2,1 = 3, a_2,2 = 1, a_2,3 = 1\n",
            "  a_3,1 = 1, a_3,2 = 2, a_3,3 = 3\n",
            "Variable Values:\n",
            "  x1 = 25000, x2 = 25500, x3 = 27000\n",
            "Equations:\n",
            "  2x1 + 3x2 + 2x3 = 180500\n",
            "  3x1 + x2 + x3 = 127500\n",
            "  x1 + 2x2 + 3x3 = 157000\n",
            "\n",
            "Possibility #151\n",
            "The system of equations is:\n",
            "========================================\n",
            "Coefficient Values:\n",
            "  a_1,1 = 2, a_1,2 = 3, a_1,3 = 2\n",
            "  a_2,1 = 3, a_2,2 = 2, a_2,3 = 1\n",
            "  a_3,1 = 1, a_3,2 = 1, a_3,3 = 3\n",
            "Variable Values:\n",
            "  x1 = 25000, x2 = 25500, x3 = 26000\n",
            "Equations:\n",
            "  2x1 + 3x2 + 2x3 = 178500\n",
            "  3x1 + 2x2 + x3 = 152000\n",
            "  x1 + x2 + 3x3 = 128500\n",
            "\n",
            "Possibility #152\n",
            "The system of equations is:\n",
            "========================================\n",
            "Coefficient Values:\n",
            "  a_1,1 = 2, a_1,2 = 3, a_1,3 = 2\n",
            "  a_2,1 = 3, a_2,2 = 2, a_2,3 = 1\n",
            "  a_3,1 = 1, a_3,2 = 1, a_3,3 = 3\n",
            "Variable Values:\n",
            "  x1 = 25000, x2 = 25500, x3 = 27000\n",
            "Equations:\n",
            "  2x1 + 3x2 + 2x3 = 180500\n",
            "  3x1 + 2x2 + x3 = 153000\n",
            "  x1 + x2 + 3x3 = 131500\n",
            "\n",
            "Possibility #153\n",
            "The system of equations is:\n",
            "========================================\n",
            "Coefficient Values:\n",
            "  a_1,1 = 2, a_1,2 = 3, a_1,3 = 3\n",
            "  a_2,1 = 1, a_2,2 = 1, a_2,3 = 2\n",
            "  a_3,1 = 3, a_3,2 = 2, a_3,3 = 1\n",
            "Variable Values:\n",
            "  x1 = 25000, x2 = 25500, x3 = 26000\n",
            "Equations:\n",
            "  2x1 + 3x2 + 3x3 = 204500\n",
            "  x1 + x2 + 2x3 = 102500\n",
            "  3x1 + 2x2 + x3 = 152000\n",
            "\n",
            "Possibility #154\n",
            "The system of equations is:\n",
            "========================================\n",
            "Coefficient Values:\n",
            "  a_1,1 = 2, a_1,2 = 3, a_1,3 = 3\n",
            "  a_2,1 = 1, a_2,2 = 1, a_2,3 = 2\n",
            "  a_3,1 = 3, a_3,2 = 2, a_3,3 = 1\n",
            "Variable Values:\n",
            "  x1 = 25000, x2 = 25500, x3 = 27000\n",
            "Equations:\n",
            "  2x1 + 3x2 + 3x3 = 207500\n",
            "  x1 + x2 + 2x3 = 104500\n",
            "  3x1 + 2x2 + x3 = 153000\n",
            "\n",
            "Possibility #155\n",
            "The system of equations is:\n",
            "========================================\n",
            "Coefficient Values:\n",
            "  a_1,1 = 2, a_1,2 = 3, a_1,3 = 3\n",
            "  a_2,1 = 1, a_2,2 = 2, a_2,3 = 1\n",
            "  a_3,1 = 3, a_3,2 = 1, a_3,3 = 2\n",
            "Variable Values:\n",
            "  x1 = 25000, x2 = 25500, x3 = 26000\n",
            "Equations:\n",
            "  2x1 + 3x2 + 3x3 = 204500\n",
            "  x1 + 2x2 + x3 = 102000\n",
            "  3x1 + x2 + 2x3 = 152500\n",
            "\n",
            "Possibility #156\n",
            "The system of equations is:\n",
            "========================================\n",
            "Coefficient Values:\n",
            "  a_1,1 = 2, a_1,2 = 3, a_1,3 = 3\n",
            "  a_2,1 = 1, a_2,2 = 2, a_2,3 = 1\n",
            "  a_3,1 = 3, a_3,2 = 1, a_3,3 = 2\n",
            "Variable Values:\n",
            "  x1 = 25000, x2 = 25500, x3 = 27000\n",
            "Equations:\n",
            "  2x1 + 3x2 + 3x3 = 207500\n",
            "  x1 + 2x2 + x3 = 103000\n",
            "  3x1 + x2 + 2x3 = 154500\n",
            "\n",
            "Possibility #157\n",
            "The system of equations is:\n",
            "========================================\n",
            "Coefficient Values:\n",
            "  a_1,1 = 2, a_1,2 = 3, a_1,3 = 3\n",
            "  a_2,1 = 3, a_2,2 = 1, a_2,3 = 2\n",
            "  a_3,1 = 1, a_3,2 = 2, a_3,3 = 1\n",
            "Variable Values:\n",
            "  x1 = 25000, x2 = 25500, x3 = 26000\n",
            "Equations:\n",
            "  2x1 + 3x2 + 3x3 = 204500\n",
            "  3x1 + x2 + 2x3 = 152500\n",
            "  x1 + 2x2 + x3 = 102000\n",
            "\n",
            "Possibility #158\n",
            "The system of equations is:\n",
            "========================================\n",
            "Coefficient Values:\n",
            "  a_1,1 = 2, a_1,2 = 3, a_1,3 = 3\n",
            "  a_2,1 = 3, a_2,2 = 1, a_2,3 = 2\n",
            "  a_3,1 = 1, a_3,2 = 2, a_3,3 = 1\n",
            "Variable Values:\n",
            "  x1 = 25000, x2 = 25500, x3 = 27000\n",
            "Equations:\n",
            "  2x1 + 3x2 + 3x3 = 207500\n",
            "  3x1 + x2 + 2x3 = 154500\n",
            "  x1 + 2x2 + x3 = 103000\n",
            "\n",
            "Possibility #159\n",
            "The system of equations is:\n",
            "========================================\n",
            "Coefficient Values:\n",
            "  a_1,1 = 2, a_1,2 = 3, a_1,3 = 3\n",
            "  a_2,1 = 3, a_2,2 = 2, a_2,3 = 1\n",
            "  a_3,1 = 1, a_3,2 = 1, a_3,3 = 2\n",
            "Variable Values:\n",
            "  x1 = 25000, x2 = 25500, x3 = 26000\n",
            "Equations:\n",
            "  2x1 + 3x2 + 3x3 = 204500\n",
            "  3x1 + 2x2 + x3 = 152000\n",
            "  x1 + x2 + 2x3 = 102500\n",
            "\n",
            "Possibility #160\n",
            "The system of equations is:\n",
            "========================================\n",
            "Coefficient Values:\n",
            "  a_1,1 = 2, a_1,2 = 3, a_1,3 = 3\n",
            "  a_2,1 = 3, a_2,2 = 2, a_2,3 = 1\n",
            "  a_3,1 = 1, a_3,2 = 1, a_3,3 = 2\n",
            "Variable Values:\n",
            "  x1 = 25000, x2 = 25500, x3 = 27000\n",
            "Equations:\n",
            "  2x1 + 3x2 + 3x3 = 207500\n",
            "  3x1 + 2x2 + x3 = 153000\n",
            "  x1 + x2 + 2x3 = 104500\n",
            "\n",
            "Possibility #161\n",
            "The system of equations is:\n",
            "========================================\n",
            "Coefficient Values:\n",
            "  a_1,1 = 3, a_1,2 = 1, a_1,3 = 1\n",
            "  a_2,1 = 1, a_2,2 = 2, a_2,3 = 3\n",
            "  a_3,1 = 2, a_3,2 = 3, a_3,3 = 2\n",
            "Variable Values:\n",
            "  x1 = 25000, x2 = 25500, x3 = 26000\n",
            "Equations:\n",
            "  3x1 + x2 + x3 = 126500\n",
            "  x1 + 2x2 + 3x3 = 154000\n",
            "  2x1 + 3x2 + 2x3 = 178500\n",
            "\n",
            "Possibility #162\n",
            "The system of equations is:\n",
            "========================================\n",
            "Coefficient Values:\n",
            "  a_1,1 = 3, a_1,2 = 1, a_1,3 = 1\n",
            "  a_2,1 = 1, a_2,2 = 2, a_2,3 = 3\n",
            "  a_3,1 = 2, a_3,2 = 3, a_3,3 = 2\n",
            "Variable Values:\n",
            "  x1 = 25000, x2 = 25500, x3 = 27000\n",
            "Equations:\n",
            "  3x1 + x2 + x3 = 127500\n",
            "  x1 + 2x2 + 3x3 = 157000\n",
            "  2x1 + 3x2 + 2x3 = 180500\n",
            "\n",
            "Possibility #163\n",
            "The system of equations is:\n",
            "========================================\n",
            "Coefficient Values:\n",
            "  a_1,1 = 3, a_1,2 = 1, a_1,3 = 1\n",
            "  a_2,1 = 1, a_2,2 = 3, a_2,3 = 2\n",
            "  a_3,1 = 2, a_3,2 = 2, a_3,3 = 3\n",
            "Variable Values:\n",
            "  x1 = 25000, x2 = 25500, x3 = 26000\n",
            "Equations:\n",
            "  3x1 + x2 + x3 = 126500\n",
            "  x1 + 3x2 + 2x3 = 153500\n",
            "  2x1 + 2x2 + 3x3 = 179000\n",
            "\n",
            "Possibility #164\n",
            "The system of equations is:\n",
            "========================================\n",
            "Coefficient Values:\n",
            "  a_1,1 = 3, a_1,2 = 1, a_1,3 = 1\n",
            "  a_2,1 = 1, a_2,2 = 3, a_2,3 = 2\n",
            "  a_3,1 = 2, a_3,2 = 2, a_3,3 = 3\n",
            "Variable Values:\n",
            "  x1 = 25000, x2 = 25500, x3 = 27000\n",
            "Equations:\n",
            "  3x1 + x2 + x3 = 127500\n",
            "  x1 + 3x2 + 2x3 = 155500\n",
            "  2x1 + 2x2 + 3x3 = 182000\n",
            "\n",
            "Possibility #165\n",
            "The system of equations is:\n",
            "========================================\n",
            "Coefficient Values:\n",
            "  a_1,1 = 3, a_1,2 = 1, a_1,3 = 1\n",
            "  a_2,1 = 2, a_2,2 = 2, a_2,3 = 3\n",
            "  a_3,1 = 1, a_3,2 = 3, a_3,3 = 2\n",
            "Variable Values:\n",
            "  x1 = 25000, x2 = 25500, x3 = 26000\n",
            "Equations:\n",
            "  3x1 + x2 + x3 = 126500\n",
            "  2x1 + 2x2 + 3x3 = 179000\n",
            "  x1 + 3x2 + 2x3 = 153500\n",
            "\n",
            "Possibility #166\n",
            "The system of equations is:\n",
            "========================================\n",
            "Coefficient Values:\n",
            "  a_1,1 = 3, a_1,2 = 1, a_1,3 = 1\n",
            "  a_2,1 = 2, a_2,2 = 2, a_2,3 = 3\n",
            "  a_3,1 = 1, a_3,2 = 3, a_3,3 = 2\n",
            "Variable Values:\n",
            "  x1 = 25000, x2 = 25500, x3 = 27000\n",
            "Equations:\n",
            "  3x1 + x2 + x3 = 127500\n",
            "  2x1 + 2x2 + 3x3 = 182000\n",
            "  x1 + 3x2 + 2x3 = 155500\n",
            "\n",
            "Possibility #167\n",
            "The system of equations is:\n",
            "========================================\n",
            "Coefficient Values:\n",
            "  a_1,1 = 3, a_1,2 = 1, a_1,3 = 1\n",
            "  a_2,1 = 2, a_2,2 = 3, a_2,3 = 2\n",
            "  a_3,1 = 1, a_3,2 = 2, a_3,3 = 3\n",
            "Variable Values:\n",
            "  x1 = 25000, x2 = 25500, x3 = 26000\n",
            "Equations:\n",
            "  3x1 + x2 + x3 = 126500\n",
            "  2x1 + 3x2 + 2x3 = 178500\n",
            "  x1 + 2x2 + 3x3 = 154000\n",
            "\n",
            "Possibility #168\n",
            "The system of equations is:\n",
            "========================================\n",
            "Coefficient Values:\n",
            "  a_1,1 = 3, a_1,2 = 1, a_1,3 = 1\n",
            "  a_2,1 = 2, a_2,2 = 3, a_2,3 = 2\n",
            "  a_3,1 = 1, a_3,2 = 2, a_3,3 = 3\n",
            "Variable Values:\n",
            "  x1 = 25000, x2 = 25500, x3 = 27000\n",
            "Equations:\n",
            "  3x1 + x2 + x3 = 127500\n",
            "  2x1 + 3x2 + 2x3 = 180500\n",
            "  x1 + 2x2 + 3x3 = 157000\n",
            "\n",
            "Possibility #169\n",
            "The system of equations is:\n",
            "========================================\n",
            "Coefficient Values:\n",
            "  a_1,1 = 3, a_1,2 = 1, a_1,3 = 2\n",
            "  a_2,1 = 1, a_2,2 = 2, a_2,3 = 1\n",
            "  a_3,1 = 2, a_3,2 = 3, a_3,3 = 3\n",
            "Variable Values:\n",
            "  x1 = 25000, x2 = 25500, x3 = 26000\n",
            "Equations:\n",
            "  3x1 + x2 + 2x3 = 152500\n",
            "  x1 + 2x2 + x3 = 102000\n",
            "  2x1 + 3x2 + 3x3 = 204500\n",
            "\n",
            "Possibility #170\n",
            "The system of equations is:\n",
            "========================================\n",
            "Coefficient Values:\n",
            "  a_1,1 = 3, a_1,2 = 1, a_1,3 = 2\n",
            "  a_2,1 = 1, a_2,2 = 2, a_2,3 = 1\n",
            "  a_3,1 = 2, a_3,2 = 3, a_3,3 = 3\n",
            "Variable Values:\n",
            "  x1 = 25000, x2 = 25500, x3 = 27000\n",
            "Equations:\n",
            "  3x1 + x2 + 2x3 = 154500\n",
            "  x1 + 2x2 + x3 = 103000\n",
            "  2x1 + 3x2 + 3x3 = 207500\n",
            "\n",
            "Possibility #171\n",
            "The system of equations is:\n",
            "========================================\n",
            "Coefficient Values:\n",
            "  a_1,1 = 3, a_1,2 = 1, a_1,3 = 2\n",
            "  a_2,1 = 1, a_2,2 = 2, a_2,3 = 3\n",
            "  a_3,1 = 2, a_3,2 = 3, a_3,3 = 1\n",
            "Variable Values:\n",
            "  x1 = 25000, x2 = 25500, x3 = 26000\n",
            "Equations:\n",
            "  3x1 + x2 + 2x3 = 152500\n",
            "  x1 + 2x2 + 3x3 = 154000\n",
            "  2x1 + 3x2 + x3 = 152500\n",
            "\n",
            "Possibility #172\n",
            "The system of equations is:\n",
            "========================================\n",
            "Coefficient Values:\n",
            "  a_1,1 = 3, a_1,2 = 1, a_1,3 = 2\n",
            "  a_2,1 = 1, a_2,2 = 2, a_2,3 = 3\n",
            "  a_3,1 = 2, a_3,2 = 3, a_3,3 = 1\n",
            "Variable Values:\n",
            "  x1 = 25000, x2 = 25500, x3 = 27000\n",
            "Equations:\n",
            "  3x1 + x2 + 2x3 = 154500\n",
            "  x1 + 2x2 + 3x3 = 157000\n",
            "  2x1 + 3x2 + x3 = 153500\n",
            "\n",
            "Possibility #173\n",
            "The system of equations is:\n",
            "========================================\n",
            "Coefficient Values:\n",
            "  a_1,1 = 3, a_1,2 = 1, a_1,3 = 2\n",
            "  a_2,1 = 1, a_2,2 = 3, a_2,3 = 1\n",
            "  a_3,1 = 2, a_3,2 = 2, a_3,3 = 3\n",
            "Variable Values:\n",
            "  x1 = 25000, x2 = 25500, x3 = 26000\n",
            "Equations:\n",
            "  3x1 + x2 + 2x3 = 152500\n",
            "  x1 + 3x2 + x3 = 127500\n",
            "  2x1 + 2x2 + 3x3 = 179000\n",
            "\n",
            "Possibility #174\n",
            "The system of equations is:\n",
            "========================================\n",
            "Coefficient Values:\n",
            "  a_1,1 = 3, a_1,2 = 1, a_1,3 = 2\n",
            "  a_2,1 = 1, a_2,2 = 3, a_2,3 = 1\n",
            "  a_3,1 = 2, a_3,2 = 2, a_3,3 = 3\n",
            "Variable Values:\n",
            "  x1 = 25000, x2 = 25500, x3 = 27000\n",
            "Equations:\n",
            "  3x1 + x2 + 2x3 = 154500\n",
            "  x1 + 3x2 + x3 = 128500\n",
            "  2x1 + 2x2 + 3x3 = 182000\n",
            "\n",
            "Possibility #175\n",
            "The system of equations is:\n",
            "========================================\n",
            "Coefficient Values:\n",
            "  a_1,1 = 3, a_1,2 = 1, a_1,3 = 2\n",
            "  a_2,1 = 1, a_2,2 = 3, a_2,3 = 3\n",
            "  a_3,1 = 2, a_3,2 = 2, a_3,3 = 1\n",
            "Variable Values:\n",
            "  x1 = 25000, x2 = 25500, x3 = 26000\n",
            "Equations:\n",
            "  3x1 + x2 + 2x3 = 152500\n",
            "  x1 + 3x2 + 3x3 = 179500\n",
            "  2x1 + 2x2 + x3 = 127000\n",
            "\n",
            "Possibility #176\n",
            "The system of equations is:\n",
            "========================================\n",
            "Coefficient Values:\n",
            "  a_1,1 = 3, a_1,2 = 1, a_1,3 = 2\n",
            "  a_2,1 = 1, a_2,2 = 3, a_2,3 = 3\n",
            "  a_3,1 = 2, a_3,2 = 2, a_3,3 = 1\n",
            "Variable Values:\n",
            "  x1 = 25000, x2 = 25500, x3 = 27000\n",
            "Equations:\n",
            "  3x1 + x2 + 2x3 = 154500\n",
            "  x1 + 3x2 + 3x3 = 182500\n",
            "  2x1 + 2x2 + x3 = 128000\n",
            "\n",
            "Possibility #177\n",
            "The system of equations is:\n",
            "========================================\n",
            "Coefficient Values:\n",
            "  a_1,1 = 3, a_1,2 = 1, a_1,3 = 2\n",
            "  a_2,1 = 2, a_2,2 = 2, a_2,3 = 1\n",
            "  a_3,1 = 1, a_3,2 = 3, a_3,3 = 3\n",
            "Variable Values:\n",
            "  x1 = 25000, x2 = 25500, x3 = 26000\n",
            "Equations:\n",
            "  3x1 + x2 + 2x3 = 152500\n",
            "  2x1 + 2x2 + x3 = 127000\n",
            "  x1 + 3x2 + 3x3 = 179500\n",
            "\n",
            "Possibility #178\n",
            "The system of equations is:\n",
            "========================================\n",
            "Coefficient Values:\n",
            "  a_1,1 = 3, a_1,2 = 1, a_1,3 = 2\n",
            "  a_2,1 = 2, a_2,2 = 2, a_2,3 = 1\n",
            "  a_3,1 = 1, a_3,2 = 3, a_3,3 = 3\n",
            "Variable Values:\n",
            "  x1 = 25000, x2 = 25500, x3 = 27000\n",
            "Equations:\n",
            "  3x1 + x2 + 2x3 = 154500\n",
            "  2x1 + 2x2 + x3 = 128000\n",
            "  x1 + 3x2 + 3x3 = 182500\n",
            "\n",
            "Possibility #179\n",
            "The system of equations is:\n",
            "========================================\n",
            "Coefficient Values:\n",
            "  a_1,1 = 3, a_1,2 = 1, a_1,3 = 2\n",
            "  a_2,1 = 2, a_2,2 = 2, a_2,3 = 3\n",
            "  a_3,1 = 1, a_3,2 = 3, a_3,3 = 1\n",
            "Variable Values:\n",
            "  x1 = 25000, x2 = 25500, x3 = 26000\n",
            "Equations:\n",
            "  3x1 + x2 + 2x3 = 152500\n",
            "  2x1 + 2x2 + 3x3 = 179000\n",
            "  x1 + 3x2 + x3 = 127500\n",
            "\n",
            "Possibility #180\n",
            "The system of equations is:\n",
            "========================================\n",
            "Coefficient Values:\n",
            "  a_1,1 = 3, a_1,2 = 1, a_1,3 = 2\n",
            "  a_2,1 = 2, a_2,2 = 2, a_2,3 = 3\n",
            "  a_3,1 = 1, a_3,2 = 3, a_3,3 = 1\n",
            "Variable Values:\n",
            "  x1 = 25000, x2 = 25500, x3 = 27000\n",
            "Equations:\n",
            "  3x1 + x2 + 2x3 = 154500\n",
            "  2x1 + 2x2 + 3x3 = 182000\n",
            "  x1 + 3x2 + x3 = 128500\n",
            "\n",
            "Possibility #181\n",
            "The system of equations is:\n",
            "========================================\n",
            "Coefficient Values:\n",
            "  a_1,1 = 3, a_1,2 = 1, a_1,3 = 2\n",
            "  a_2,1 = 2, a_2,2 = 3, a_2,3 = 1\n",
            "  a_3,1 = 1, a_3,2 = 2, a_3,3 = 3\n",
            "Variable Values:\n",
            "  x1 = 25000, x2 = 25500, x3 = 26000\n",
            "Equations:\n",
            "  3x1 + x2 + 2x3 = 152500\n",
            "  2x1 + 3x2 + x3 = 152500\n",
            "  x1 + 2x2 + 3x3 = 154000\n",
            "\n",
            "Possibility #182\n",
            "The system of equations is:\n",
            "========================================\n",
            "Coefficient Values:\n",
            "  a_1,1 = 3, a_1,2 = 1, a_1,3 = 2\n",
            "  a_2,1 = 2, a_2,2 = 3, a_2,3 = 1\n",
            "  a_3,1 = 1, a_3,2 = 2, a_3,3 = 3\n",
            "Variable Values:\n",
            "  x1 = 25000, x2 = 25500, x3 = 27000\n",
            "Equations:\n",
            "  3x1 + x2 + 2x3 = 154500\n",
            "  2x1 + 3x2 + x3 = 153500\n",
            "  x1 + 2x2 + 3x3 = 157000\n",
            "\n",
            "Possibility #183\n",
            "The system of equations is:\n",
            "========================================\n",
            "Coefficient Values:\n",
            "  a_1,1 = 3, a_1,2 = 1, a_1,3 = 2\n",
            "  a_2,1 = 2, a_2,2 = 3, a_2,3 = 3\n",
            "  a_3,1 = 1, a_3,2 = 2, a_3,3 = 1\n",
            "Variable Values:\n",
            "  x1 = 25000, x2 = 25500, x3 = 26000\n",
            "Equations:\n",
            "  3x1 + x2 + 2x3 = 152500\n",
            "  2x1 + 3x2 + 3x3 = 204500\n",
            "  x1 + 2x2 + x3 = 102000\n",
            "\n",
            "Possibility #184\n",
            "The system of equations is:\n",
            "========================================\n",
            "Coefficient Values:\n",
            "  a_1,1 = 3, a_1,2 = 1, a_1,3 = 2\n",
            "  a_2,1 = 2, a_2,2 = 3, a_2,3 = 3\n",
            "  a_3,1 = 1, a_3,2 = 2, a_3,3 = 1\n",
            "Variable Values:\n",
            "  x1 = 25000, x2 = 25500, x3 = 27000\n",
            "Equations:\n",
            "  3x1 + x2 + 2x3 = 154500\n",
            "  2x1 + 3x2 + 3x3 = 207500\n",
            "  x1 + 2x2 + x3 = 103000\n",
            "\n",
            "Possibility #185\n",
            "The system of equations is:\n",
            "========================================\n",
            "Coefficient Values:\n",
            "  a_1,1 = 3, a_1,2 = 1, a_1,3 = 3\n",
            "  a_2,1 = 1, a_2,2 = 2, a_2,3 = 2\n",
            "  a_3,1 = 2, a_3,2 = 3, a_3,3 = 1\n",
            "Variable Values:\n",
            "  x1 = 25000, x2 = 25500, x3 = 26000\n",
            "Equations:\n",
            "  3x1 + x2 + 3x3 = 178500\n",
            "  x1 + 2x2 + 2x3 = 128000\n",
            "  2x1 + 3x2 + x3 = 152500\n",
            "\n",
            "Possibility #186\n",
            "The system of equations is:\n",
            "========================================\n",
            "Coefficient Values:\n",
            "  a_1,1 = 3, a_1,2 = 1, a_1,3 = 3\n",
            "  a_2,1 = 1, a_2,2 = 2, a_2,3 = 2\n",
            "  a_3,1 = 2, a_3,2 = 3, a_3,3 = 1\n",
            "Variable Values:\n",
            "  x1 = 25000, x2 = 25500, x3 = 27000\n",
            "Equations:\n",
            "  3x1 + x2 + 3x3 = 181500\n",
            "  x1 + 2x2 + 2x3 = 130000\n",
            "  2x1 + 3x2 + x3 = 153500\n",
            "\n",
            "Possibility #187\n",
            "The system of equations is:\n",
            "========================================\n",
            "Coefficient Values:\n",
            "  a_1,1 = 3, a_1,2 = 1, a_1,3 = 3\n",
            "  a_2,1 = 1, a_2,2 = 3, a_2,3 = 2\n",
            "  a_3,1 = 2, a_3,2 = 2, a_3,3 = 1\n",
            "Variable Values:\n",
            "  x1 = 25000, x2 = 25500, x3 = 26000\n",
            "Equations:\n",
            "  3x1 + x2 + 3x3 = 178500\n",
            "  x1 + 3x2 + 2x3 = 153500\n",
            "  2x1 + 2x2 + x3 = 127000\n",
            "\n",
            "Possibility #188\n",
            "The system of equations is:\n",
            "========================================\n",
            "Coefficient Values:\n",
            "  a_1,1 = 3, a_1,2 = 1, a_1,3 = 3\n",
            "  a_2,1 = 1, a_2,2 = 3, a_2,3 = 2\n",
            "  a_3,1 = 2, a_3,2 = 2, a_3,3 = 1\n",
            "Variable Values:\n",
            "  x1 = 25000, x2 = 25500, x3 = 27000\n",
            "Equations:\n",
            "  3x1 + x2 + 3x3 = 181500\n",
            "  x1 + 3x2 + 2x3 = 155500\n",
            "  2x1 + 2x2 + x3 = 128000\n",
            "\n",
            "Possibility #189\n",
            "The system of equations is:\n",
            "========================================\n",
            "Coefficient Values:\n",
            "  a_1,1 = 3, a_1,2 = 1, a_1,3 = 3\n",
            "  a_2,1 = 2, a_2,2 = 2, a_2,3 = 1\n",
            "  a_3,1 = 1, a_3,2 = 3, a_3,3 = 2\n",
            "Variable Values:\n",
            "  x1 = 25000, x2 = 25500, x3 = 26000\n",
            "Equations:\n",
            "  3x1 + x2 + 3x3 = 178500\n",
            "  2x1 + 2x2 + x3 = 127000\n",
            "  x1 + 3x2 + 2x3 = 153500\n",
            "\n",
            "Possibility #190\n",
            "The system of equations is:\n",
            "========================================\n",
            "Coefficient Values:\n",
            "  a_1,1 = 3, a_1,2 = 1, a_1,3 = 3\n",
            "  a_2,1 = 2, a_2,2 = 2, a_2,3 = 1\n",
            "  a_3,1 = 1, a_3,2 = 3, a_3,3 = 2\n",
            "Variable Values:\n",
            "  x1 = 25000, x2 = 25500, x3 = 27000\n",
            "Equations:\n",
            "  3x1 + x2 + 3x3 = 181500\n",
            "  2x1 + 2x2 + x3 = 128000\n",
            "  x1 + 3x2 + 2x3 = 155500\n",
            "\n",
            "Possibility #191\n",
            "The system of equations is:\n",
            "========================================\n",
            "Coefficient Values:\n",
            "  a_1,1 = 3, a_1,2 = 1, a_1,3 = 3\n",
            "  a_2,1 = 2, a_2,2 = 3, a_2,3 = 1\n",
            "  a_3,1 = 1, a_3,2 = 2, a_3,3 = 2\n",
            "Variable Values:\n",
            "  x1 = 25000, x2 = 25500, x3 = 26000\n",
            "Equations:\n",
            "  3x1 + x2 + 3x3 = 178500\n",
            "  2x1 + 3x2 + x3 = 152500\n",
            "  x1 + 2x2 + 2x3 = 128000\n",
            "\n",
            "Possibility #192\n",
            "The system of equations is:\n",
            "========================================\n",
            "Coefficient Values:\n",
            "  a_1,1 = 3, a_1,2 = 1, a_1,3 = 3\n",
            "  a_2,1 = 2, a_2,2 = 3, a_2,3 = 1\n",
            "  a_3,1 = 1, a_3,2 = 2, a_3,3 = 2\n",
            "Variable Values:\n",
            "  x1 = 25000, x2 = 25500, x3 = 27000\n",
            "Equations:\n",
            "  3x1 + x2 + 3x3 = 181500\n",
            "  2x1 + 3x2 + x3 = 153500\n",
            "  x1 + 2x2 + 2x3 = 130000\n",
            "\n",
            "Possibility #193\n",
            "The system of equations is:\n",
            "========================================\n",
            "Coefficient Values:\n",
            "  a_1,1 = 3, a_1,2 = 2, a_1,3 = 1\n",
            "  a_2,1 = 1, a_2,2 = 1, a_2,3 = 2\n",
            "  a_3,1 = 2, a_3,2 = 3, a_3,3 = 3\n",
            "Variable Values:\n",
            "  x1 = 25000, x2 = 25500, x3 = 26000\n",
            "Equations:\n",
            "  3x1 + 2x2 + x3 = 152000\n",
            "  x1 + x2 + 2x3 = 102500\n",
            "  2x1 + 3x2 + 3x3 = 204500\n",
            "\n",
            "Possibility #194\n",
            "The system of equations is:\n",
            "========================================\n",
            "Coefficient Values:\n",
            "  a_1,1 = 3, a_1,2 = 2, a_1,3 = 1\n",
            "  a_2,1 = 1, a_2,2 = 1, a_2,3 = 2\n",
            "  a_3,1 = 2, a_3,2 = 3, a_3,3 = 3\n",
            "Variable Values:\n",
            "  x1 = 25000, x2 = 25500, x3 = 27000\n",
            "Equations:\n",
            "  3x1 + 2x2 + x3 = 153000\n",
            "  x1 + x2 + 2x3 = 104500\n",
            "  2x1 + 3x2 + 3x3 = 207500\n",
            "\n",
            "Possibility #195\n",
            "The system of equations is:\n",
            "========================================\n",
            "Coefficient Values:\n",
            "  a_1,1 = 3, a_1,2 = 2, a_1,3 = 1\n",
            "  a_2,1 = 1, a_2,2 = 1, a_2,3 = 3\n",
            "  a_3,1 = 2, a_3,2 = 3, a_3,3 = 2\n",
            "Variable Values:\n",
            "  x1 = 25000, x2 = 25500, x3 = 26000\n",
            "Equations:\n",
            "  3x1 + 2x2 + x3 = 152000\n",
            "  x1 + x2 + 3x3 = 128500\n",
            "  2x1 + 3x2 + 2x3 = 178500\n",
            "\n",
            "Possibility #196\n",
            "The system of equations is:\n",
            "========================================\n",
            "Coefficient Values:\n",
            "  a_1,1 = 3, a_1,2 = 2, a_1,3 = 1\n",
            "  a_2,1 = 1, a_2,2 = 1, a_2,3 = 3\n",
            "  a_3,1 = 2, a_3,2 = 3, a_3,3 = 2\n",
            "Variable Values:\n",
            "  x1 = 25000, x2 = 25500, x3 = 27000\n",
            "Equations:\n",
            "  3x1 + 2x2 + x3 = 153000\n",
            "  x1 + x2 + 3x3 = 131500\n",
            "  2x1 + 3x2 + 2x3 = 180500\n",
            "\n",
            "Possibility #197\n",
            "The system of equations is:\n",
            "========================================\n",
            "Coefficient Values:\n",
            "  a_1,1 = 3, a_1,2 = 2, a_1,3 = 1\n",
            "  a_2,1 = 1, a_2,2 = 3, a_2,3 = 2\n",
            "  a_3,1 = 2, a_3,2 = 1, a_3,3 = 3\n",
            "Variable Values:\n",
            "  x1 = 25000, x2 = 25500, x3 = 26000\n",
            "Equations:\n",
            "  3x1 + 2x2 + x3 = 152000\n",
            "  x1 + 3x2 + 2x3 = 153500\n",
            "  2x1 + x2 + 3x3 = 153500\n",
            "\n",
            "Possibility #198\n",
            "The system of equations is:\n",
            "========================================\n",
            "Coefficient Values:\n",
            "  a_1,1 = 3, a_1,2 = 2, a_1,3 = 1\n",
            "  a_2,1 = 1, a_2,2 = 3, a_2,3 = 2\n",
            "  a_3,1 = 2, a_3,2 = 1, a_3,3 = 3\n",
            "Variable Values:\n",
            "  x1 = 25000, x2 = 25500, x3 = 27000\n",
            "Equations:\n",
            "  3x1 + 2x2 + x3 = 153000\n",
            "  x1 + 3x2 + 2x3 = 155500\n",
            "  2x1 + x2 + 3x3 = 156500\n",
            "\n",
            "Possibility #199\n",
            "The system of equations is:\n",
            "========================================\n",
            "Coefficient Values:\n",
            "  a_1,1 = 3, a_1,2 = 2, a_1,3 = 1\n",
            "  a_2,1 = 1, a_2,2 = 3, a_2,3 = 3\n",
            "  a_3,1 = 2, a_3,2 = 1, a_3,3 = 2\n",
            "Variable Values:\n",
            "  x1 = 25000, x2 = 25500, x3 = 26000\n",
            "Equations:\n",
            "  3x1 + 2x2 + x3 = 152000\n",
            "  x1 + 3x2 + 3x3 = 179500\n",
            "  2x1 + x2 + 2x3 = 127500\n",
            "\n",
            "Possibility #200\n",
            "The system of equations is:\n",
            "========================================\n",
            "Coefficient Values:\n",
            "  a_1,1 = 3, a_1,2 = 2, a_1,3 = 1\n",
            "  a_2,1 = 1, a_2,2 = 3, a_2,3 = 3\n",
            "  a_3,1 = 2, a_3,2 = 1, a_3,3 = 2\n",
            "Variable Values:\n",
            "  x1 = 25000, x2 = 25500, x3 = 27000\n",
            "Equations:\n",
            "  3x1 + 2x2 + x3 = 153000\n",
            "  x1 + 3x2 + 3x3 = 182500\n",
            "  2x1 + x2 + 2x3 = 129500\n",
            "\n",
            "Possibility #201\n",
            "The system of equations is:\n",
            "========================================\n",
            "Coefficient Values:\n",
            "  a_1,1 = 3, a_1,2 = 2, a_1,3 = 1\n",
            "  a_2,1 = 2, a_2,2 = 1, a_2,3 = 2\n",
            "  a_3,1 = 1, a_3,2 = 3, a_3,3 = 3\n",
            "Variable Values:\n",
            "  x1 = 25000, x2 = 25500, x3 = 26000\n",
            "Equations:\n",
            "  3x1 + 2x2 + x3 = 152000\n",
            "  2x1 + x2 + 2x3 = 127500\n",
            "  x1 + 3x2 + 3x3 = 179500\n",
            "\n",
            "Possibility #202\n",
            "The system of equations is:\n",
            "========================================\n",
            "Coefficient Values:\n",
            "  a_1,1 = 3, a_1,2 = 2, a_1,3 = 1\n",
            "  a_2,1 = 2, a_2,2 = 1, a_2,3 = 2\n",
            "  a_3,1 = 1, a_3,2 = 3, a_3,3 = 3\n",
            "Variable Values:\n",
            "  x1 = 25000, x2 = 25500, x3 = 27000\n",
            "Equations:\n",
            "  3x1 + 2x2 + x3 = 153000\n",
            "  2x1 + x2 + 2x3 = 129500\n",
            "  x1 + 3x2 + 3x3 = 182500\n",
            "\n",
            "Possibility #203\n",
            "The system of equations is:\n",
            "========================================\n",
            "Coefficient Values:\n",
            "  a_1,1 = 3, a_1,2 = 2, a_1,3 = 1\n",
            "  a_2,1 = 2, a_2,2 = 1, a_2,3 = 3\n",
            "  a_3,1 = 1, a_3,2 = 3, a_3,3 = 2\n",
            "Variable Values:\n",
            "  x1 = 25000, x2 = 25500, x3 = 26000\n",
            "Equations:\n",
            "  3x1 + 2x2 + x3 = 152000\n",
            "  2x1 + x2 + 3x3 = 153500\n",
            "  x1 + 3x2 + 2x3 = 153500\n",
            "\n",
            "Possibility #204\n",
            "The system of equations is:\n",
            "========================================\n",
            "Coefficient Values:\n",
            "  a_1,1 = 3, a_1,2 = 2, a_1,3 = 1\n",
            "  a_2,1 = 2, a_2,2 = 1, a_2,3 = 3\n",
            "  a_3,1 = 1, a_3,2 = 3, a_3,3 = 2\n",
            "Variable Values:\n",
            "  x1 = 25000, x2 = 25500, x3 = 27000\n",
            "Equations:\n",
            "  3x1 + 2x2 + x3 = 153000\n",
            "  2x1 + x2 + 3x3 = 156500\n",
            "  x1 + 3x2 + 2x3 = 155500\n",
            "\n",
            "Possibility #205\n",
            "The system of equations is:\n",
            "========================================\n",
            "Coefficient Values:\n",
            "  a_1,1 = 3, a_1,2 = 2, a_1,3 = 1\n",
            "  a_2,1 = 2, a_2,2 = 3, a_2,3 = 2\n",
            "  a_3,1 = 1, a_3,2 = 1, a_3,3 = 3\n",
            "Variable Values:\n",
            "  x1 = 25000, x2 = 25500, x3 = 26000\n",
            "Equations:\n",
            "  3x1 + 2x2 + x3 = 152000\n",
            "  2x1 + 3x2 + 2x3 = 178500\n",
            "  x1 + x2 + 3x3 = 128500\n",
            "\n",
            "Possibility #206\n",
            "The system of equations is:\n",
            "========================================\n",
            "Coefficient Values:\n",
            "  a_1,1 = 3, a_1,2 = 2, a_1,3 = 1\n",
            "  a_2,1 = 2, a_2,2 = 3, a_2,3 = 2\n",
            "  a_3,1 = 1, a_3,2 = 1, a_3,3 = 3\n",
            "Variable Values:\n",
            "  x1 = 25000, x2 = 25500, x3 = 27000\n",
            "Equations:\n",
            "  3x1 + 2x2 + x3 = 153000\n",
            "  2x1 + 3x2 + 2x3 = 180500\n",
            "  x1 + x2 + 3x3 = 131500\n",
            "\n",
            "Possibility #207\n",
            "The system of equations is:\n",
            "========================================\n",
            "Coefficient Values:\n",
            "  a_1,1 = 3, a_1,2 = 2, a_1,3 = 1\n",
            "  a_2,1 = 2, a_2,2 = 3, a_2,3 = 3\n",
            "  a_3,1 = 1, a_3,2 = 1, a_3,3 = 2\n",
            "Variable Values:\n",
            "  x1 = 25000, x2 = 25500, x3 = 26000\n",
            "Equations:\n",
            "  3x1 + 2x2 + x3 = 152000\n",
            "  2x1 + 3x2 + 3x3 = 204500\n",
            "  x1 + x2 + 2x3 = 102500\n",
            "\n",
            "Possibility #208\n",
            "The system of equations is:\n",
            "========================================\n",
            "Coefficient Values:\n",
            "  a_1,1 = 3, a_1,2 = 2, a_1,3 = 1\n",
            "  a_2,1 = 2, a_2,2 = 3, a_2,3 = 3\n",
            "  a_3,1 = 1, a_3,2 = 1, a_3,3 = 2\n",
            "Variable Values:\n",
            "  x1 = 25000, x2 = 25500, x3 = 27000\n",
            "Equations:\n",
            "  3x1 + 2x2 + x3 = 153000\n",
            "  2x1 + 3x2 + 3x3 = 207500\n",
            "  x1 + x2 + 2x3 = 104500\n",
            "\n",
            "Possibility #209\n",
            "The system of equations is:\n",
            "========================================\n",
            "Coefficient Values:\n",
            "  a_1,1 = 3, a_1,2 = 2, a_1,3 = 2\n",
            "  a_2,1 = 1, a_2,2 = 1, a_2,3 = 3\n",
            "  a_3,1 = 2, a_3,2 = 3, a_3,3 = 1\n",
            "Variable Values:\n",
            "  x1 = 25000, x2 = 25500, x3 = 26000\n",
            "Equations:\n",
            "  3x1 + 2x2 + 2x3 = 178000\n",
            "  x1 + x2 + 3x3 = 128500\n",
            "  2x1 + 3x2 + x3 = 152500\n",
            "\n",
            "Possibility #210\n",
            "The system of equations is:\n",
            "========================================\n",
            "Coefficient Values:\n",
            "  a_1,1 = 3, a_1,2 = 2, a_1,3 = 2\n",
            "  a_2,1 = 1, a_2,2 = 1, a_2,3 = 3\n",
            "  a_3,1 = 2, a_3,2 = 3, a_3,3 = 1\n",
            "Variable Values:\n",
            "  x1 = 25000, x2 = 25500, x3 = 27000\n",
            "Equations:\n",
            "  3x1 + 2x2 + 2x3 = 180000\n",
            "  x1 + x2 + 3x3 = 131500\n",
            "  2x1 + 3x2 + x3 = 153500\n",
            "\n",
            "Possibility #211\n",
            "The system of equations is:\n",
            "========================================\n",
            "Coefficient Values:\n",
            "  a_1,1 = 3, a_1,2 = 2, a_1,3 = 2\n",
            "  a_2,1 = 1, a_2,2 = 3, a_2,3 = 1\n",
            "  a_3,1 = 2, a_3,2 = 1, a_3,3 = 3\n",
            "Variable Values:\n",
            "  x1 = 25000, x2 = 25500, x3 = 26000\n",
            "Equations:\n",
            "  3x1 + 2x2 + 2x3 = 178000\n",
            "  x1 + 3x2 + x3 = 127500\n",
            "  2x1 + x2 + 3x3 = 153500\n",
            "\n",
            "Possibility #212\n",
            "The system of equations is:\n",
            "========================================\n",
            "Coefficient Values:\n",
            "  a_1,1 = 3, a_1,2 = 2, a_1,3 = 2\n",
            "  a_2,1 = 1, a_2,2 = 3, a_2,3 = 1\n",
            "  a_3,1 = 2, a_3,2 = 1, a_3,3 = 3\n",
            "Variable Values:\n",
            "  x1 = 25000, x2 = 25500, x3 = 27000\n",
            "Equations:\n",
            "  3x1 + 2x2 + 2x3 = 180000\n",
            "  x1 + 3x2 + x3 = 128500\n",
            "  2x1 + x2 + 3x3 = 156500\n",
            "\n",
            "Possibility #213\n",
            "The system of equations is:\n",
            "========================================\n",
            "Coefficient Values:\n",
            "  a_1,1 = 3, a_1,2 = 2, a_1,3 = 2\n",
            "  a_2,1 = 2, a_2,2 = 1, a_2,3 = 3\n",
            "  a_3,1 = 1, a_3,2 = 3, a_3,3 = 1\n",
            "Variable Values:\n",
            "  x1 = 25000, x2 = 25500, x3 = 26000\n",
            "Equations:\n",
            "  3x1 + 2x2 + 2x3 = 178000\n",
            "  2x1 + x2 + 3x3 = 153500\n",
            "  x1 + 3x2 + x3 = 127500\n",
            "\n",
            "Possibility #214\n",
            "The system of equations is:\n",
            "========================================\n",
            "Coefficient Values:\n",
            "  a_1,1 = 3, a_1,2 = 2, a_1,3 = 2\n",
            "  a_2,1 = 2, a_2,2 = 1, a_2,3 = 3\n",
            "  a_3,1 = 1, a_3,2 = 3, a_3,3 = 1\n",
            "Variable Values:\n",
            "  x1 = 25000, x2 = 25500, x3 = 27000\n",
            "Equations:\n",
            "  3x1 + 2x2 + 2x3 = 180000\n",
            "  2x1 + x2 + 3x3 = 156500\n",
            "  x1 + 3x2 + x3 = 128500\n",
            "\n",
            "Possibility #215\n",
            "The system of equations is:\n",
            "========================================\n",
            "Coefficient Values:\n",
            "  a_1,1 = 3, a_1,2 = 2, a_1,3 = 2\n",
            "  a_2,1 = 2, a_2,2 = 3, a_2,3 = 1\n",
            "  a_3,1 = 1, a_3,2 = 1, a_3,3 = 3\n",
            "Variable Values:\n",
            "  x1 = 25000, x2 = 25500, x3 = 26000\n",
            "Equations:\n",
            "  3x1 + 2x2 + 2x3 = 178000\n",
            "  2x1 + 3x2 + x3 = 152500\n",
            "  x1 + x2 + 3x3 = 128500\n",
            "\n",
            "Possibility #216\n",
            "The system of equations is:\n",
            "========================================\n",
            "Coefficient Values:\n",
            "  a_1,1 = 3, a_1,2 = 2, a_1,3 = 2\n",
            "  a_2,1 = 2, a_2,2 = 3, a_2,3 = 1\n",
            "  a_3,1 = 1, a_3,2 = 1, a_3,3 = 3\n",
            "Variable Values:\n",
            "  x1 = 25000, x2 = 25500, x3 = 27000\n",
            "Equations:\n",
            "  3x1 + 2x2 + 2x3 = 180000\n",
            "  2x1 + 3x2 + x3 = 153500\n",
            "  x1 + x2 + 3x3 = 131500\n",
            "\n",
            "Possibility #217\n",
            "The system of equations is:\n",
            "========================================\n",
            "Coefficient Values:\n",
            "  a_1,1 = 3, a_1,2 = 2, a_1,3 = 3\n",
            "  a_2,1 = 1, a_2,2 = 1, a_2,3 = 2\n",
            "  a_3,1 = 2, a_3,2 = 3, a_3,3 = 1\n",
            "Variable Values:\n",
            "  x1 = 25000, x2 = 25500, x3 = 26000\n",
            "Equations:\n",
            "  3x1 + 2x2 + 3x3 = 204000\n",
            "  x1 + x2 + 2x3 = 102500\n",
            "  2x1 + 3x2 + x3 = 152500\n",
            "\n",
            "Possibility #218\n",
            "The system of equations is:\n",
            "========================================\n",
            "Coefficient Values:\n",
            "  a_1,1 = 3, a_1,2 = 2, a_1,3 = 3\n",
            "  a_2,1 = 1, a_2,2 = 1, a_2,3 = 2\n",
            "  a_3,1 = 2, a_3,2 = 3, a_3,3 = 1\n",
            "Variable Values:\n",
            "  x1 = 25000, x2 = 25500, x3 = 27000\n",
            "Equations:\n",
            "  3x1 + 2x2 + 3x3 = 207000\n",
            "  x1 + x2 + 2x3 = 104500\n",
            "  2x1 + 3x2 + x3 = 153500\n",
            "\n",
            "Possibility #219\n",
            "The system of equations is:\n",
            "========================================\n",
            "Coefficient Values:\n",
            "  a_1,1 = 3, a_1,2 = 2, a_1,3 = 3\n",
            "  a_2,1 = 1, a_2,2 = 3, a_2,3 = 2\n",
            "  a_3,1 = 2, a_3,2 = 1, a_3,3 = 1\n",
            "Variable Values:\n",
            "  x1 = 25000, x2 = 25500, x3 = 26000\n",
            "Equations:\n",
            "  3x1 + 2x2 + 3x3 = 204000\n",
            "  x1 + 3x2 + 2x3 = 153500\n",
            "  2x1 + x2 + x3 = 101500\n",
            "\n",
            "Possibility #220\n",
            "The system of equations is:\n",
            "========================================\n",
            "Coefficient Values:\n",
            "  a_1,1 = 3, a_1,2 = 2, a_1,3 = 3\n",
            "  a_2,1 = 1, a_2,2 = 3, a_2,3 = 2\n",
            "  a_3,1 = 2, a_3,2 = 1, a_3,3 = 1\n",
            "Variable Values:\n",
            "  x1 = 25000, x2 = 25500, x3 = 27000\n",
            "Equations:\n",
            "  3x1 + 2x2 + 3x3 = 207000\n",
            "  x1 + 3x2 + 2x3 = 155500\n",
            "  2x1 + x2 + x3 = 102500\n",
            "\n",
            "Possibility #221\n",
            "The system of equations is:\n",
            "========================================\n",
            "Coefficient Values:\n",
            "  a_1,1 = 3, a_1,2 = 2, a_1,3 = 3\n",
            "  a_2,1 = 2, a_2,2 = 1, a_2,3 = 1\n",
            "  a_3,1 = 1, a_3,2 = 3, a_3,3 = 2\n",
            "Variable Values:\n",
            "  x1 = 25000, x2 = 25500, x3 = 26000\n",
            "Equations:\n",
            "  3x1 + 2x2 + 3x3 = 204000\n",
            "  2x1 + x2 + x3 = 101500\n",
            "  x1 + 3x2 + 2x3 = 153500\n",
            "\n",
            "Possibility #222\n",
            "The system of equations is:\n",
            "========================================\n",
            "Coefficient Values:\n",
            "  a_1,1 = 3, a_1,2 = 2, a_1,3 = 3\n",
            "  a_2,1 = 2, a_2,2 = 1, a_2,3 = 1\n",
            "  a_3,1 = 1, a_3,2 = 3, a_3,3 = 2\n",
            "Variable Values:\n",
            "  x1 = 25000, x2 = 25500, x3 = 27000\n",
            "Equations:\n",
            "  3x1 + 2x2 + 3x3 = 207000\n",
            "  2x1 + x2 + x3 = 102500\n",
            "  x1 + 3x2 + 2x3 = 155500\n",
            "\n",
            "Possibility #223\n",
            "The system of equations is:\n",
            "========================================\n",
            "Coefficient Values:\n",
            "  a_1,1 = 3, a_1,2 = 2, a_1,3 = 3\n",
            "  a_2,1 = 2, a_2,2 = 3, a_2,3 = 1\n",
            "  a_3,1 = 1, a_3,2 = 1, a_3,3 = 2\n",
            "Variable Values:\n",
            "  x1 = 25000, x2 = 25500, x3 = 26000\n",
            "Equations:\n",
            "  3x1 + 2x2 + 3x3 = 204000\n",
            "  2x1 + 3x2 + x3 = 152500\n",
            "  x1 + x2 + 2x3 = 102500\n",
            "\n",
            "Possibility #224\n",
            "The system of equations is:\n",
            "========================================\n",
            "Coefficient Values:\n",
            "  a_1,1 = 3, a_1,2 = 2, a_1,3 = 3\n",
            "  a_2,1 = 2, a_2,2 = 3, a_2,3 = 1\n",
            "  a_3,1 = 1, a_3,2 = 1, a_3,3 = 2\n",
            "Variable Values:\n",
            "  x1 = 25000, x2 = 25500, x3 = 27000\n",
            "Equations:\n",
            "  3x1 + 2x2 + 3x3 = 207000\n",
            "  2x1 + 3x2 + x3 = 153500\n",
            "  x1 + x2 + 2x3 = 104500\n",
            "\n",
            "Possibility #225\n",
            "The system of equations is:\n",
            "========================================\n",
            "Coefficient Values:\n",
            "  a_1,1 = 3, a_1,2 = 3, a_1,3 = 1\n",
            "  a_2,1 = 1, a_2,2 = 2, a_2,3 = 2\n",
            "  a_3,1 = 2, a_3,2 = 1, a_3,3 = 3\n",
            "Variable Values:\n",
            "  x1 = 25000, x2 = 25500, x3 = 26000\n",
            "Equations:\n",
            "  3x1 + 3x2 + x3 = 177500\n",
            "  x1 + 2x2 + 2x3 = 128000\n",
            "  2x1 + x2 + 3x3 = 153500\n",
            "\n",
            "Possibility #226\n",
            "The system of equations is:\n",
            "========================================\n",
            "Coefficient Values:\n",
            "  a_1,1 = 3, a_1,2 = 3, a_1,3 = 1\n",
            "  a_2,1 = 1, a_2,2 = 2, a_2,3 = 2\n",
            "  a_3,1 = 2, a_3,2 = 1, a_3,3 = 3\n",
            "Variable Values:\n",
            "  x1 = 25000, x2 = 25500, x3 = 27000\n",
            "Equations:\n",
            "  3x1 + 3x2 + x3 = 178500\n",
            "  x1 + 2x2 + 2x3 = 130000\n",
            "  2x1 + x2 + 3x3 = 156500\n",
            "\n",
            "Possibility #227\n",
            "The system of equations is:\n",
            "========================================\n",
            "Coefficient Values:\n",
            "  a_1,1 = 3, a_1,2 = 3, a_1,3 = 1\n",
            "  a_2,1 = 1, a_2,2 = 2, a_2,3 = 3\n",
            "  a_3,1 = 2, a_3,2 = 1, a_3,3 = 2\n",
            "Variable Values:\n",
            "  x1 = 25000, x2 = 25500, x3 = 26000\n",
            "Equations:\n",
            "  3x1 + 3x2 + x3 = 177500\n",
            "  x1 + 2x2 + 3x3 = 154000\n",
            "  2x1 + x2 + 2x3 = 127500\n",
            "\n",
            "Possibility #228\n",
            "The system of equations is:\n",
            "========================================\n",
            "Coefficient Values:\n",
            "  a_1,1 = 3, a_1,2 = 3, a_1,3 = 1\n",
            "  a_2,1 = 1, a_2,2 = 2, a_2,3 = 3\n",
            "  a_3,1 = 2, a_3,2 = 1, a_3,3 = 2\n",
            "Variable Values:\n",
            "  x1 = 25000, x2 = 25500, x3 = 27000\n",
            "Equations:\n",
            "  3x1 + 3x2 + x3 = 178500\n",
            "  x1 + 2x2 + 3x3 = 157000\n",
            "  2x1 + x2 + 2x3 = 129500\n",
            "\n",
            "Possibility #229\n",
            "The system of equations is:\n",
            "========================================\n",
            "Coefficient Values:\n",
            "  a_1,1 = 3, a_1,2 = 3, a_1,3 = 1\n",
            "  a_2,1 = 2, a_2,2 = 1, a_2,3 = 2\n",
            "  a_3,1 = 1, a_3,2 = 2, a_3,3 = 3\n",
            "Variable Values:\n",
            "  x1 = 25000, x2 = 25500, x3 = 26000\n",
            "Equations:\n",
            "  3x1 + 3x2 + x3 = 177500\n",
            "  2x1 + x2 + 2x3 = 127500\n",
            "  x1 + 2x2 + 3x3 = 154000\n",
            "\n",
            "Possibility #230\n",
            "The system of equations is:\n",
            "========================================\n",
            "Coefficient Values:\n",
            "  a_1,1 = 3, a_1,2 = 3, a_1,3 = 1\n",
            "  a_2,1 = 2, a_2,2 = 1, a_2,3 = 2\n",
            "  a_3,1 = 1, a_3,2 = 2, a_3,3 = 3\n",
            "Variable Values:\n",
            "  x1 = 25000, x2 = 25500, x3 = 27000\n",
            "Equations:\n",
            "  3x1 + 3x2 + x3 = 178500\n",
            "  2x1 + x2 + 2x3 = 129500\n",
            "  x1 + 2x2 + 3x3 = 157000\n",
            "\n",
            "Possibility #231\n",
            "The system of equations is:\n",
            "========================================\n",
            "Coefficient Values:\n",
            "  a_1,1 = 3, a_1,2 = 3, a_1,3 = 1\n",
            "  a_2,1 = 2, a_2,2 = 1, a_2,3 = 3\n",
            "  a_3,1 = 1, a_3,2 = 2, a_3,3 = 2\n",
            "Variable Values:\n",
            "  x1 = 25000, x2 = 25500, x3 = 26000\n",
            "Equations:\n",
            "  3x1 + 3x2 + x3 = 177500\n",
            "  2x1 + x2 + 3x3 = 153500\n",
            "  x1 + 2x2 + 2x3 = 128000\n",
            "\n",
            "Possibility #232\n",
            "The system of equations is:\n",
            "========================================\n",
            "Coefficient Values:\n",
            "  a_1,1 = 3, a_1,2 = 3, a_1,3 = 1\n",
            "  a_2,1 = 2, a_2,2 = 1, a_2,3 = 3\n",
            "  a_3,1 = 1, a_3,2 = 2, a_3,3 = 2\n",
            "Variable Values:\n",
            "  x1 = 25000, x2 = 25500, x3 = 27000\n",
            "Equations:\n",
            "  3x1 + 3x2 + x3 = 178500\n",
            "  2x1 + x2 + 3x3 = 156500\n",
            "  x1 + 2x2 + 2x3 = 130000\n",
            "\n",
            "Possibility #233\n",
            "The system of equations is:\n",
            "========================================\n",
            "Coefficient Values:\n",
            "  a_1,1 = 3, a_1,2 = 3, a_1,3 = 2\n",
            "  a_2,1 = 1, a_2,2 = 2, a_2,3 = 1\n",
            "  a_3,1 = 2, a_3,2 = 1, a_3,3 = 3\n",
            "Variable Values:\n",
            "  x1 = 25000, x2 = 25500, x3 = 26000\n",
            "Equations:\n",
            "  3x1 + 3x2 + 2x3 = 203500\n",
            "  x1 + 2x2 + x3 = 102000\n",
            "  2x1 + x2 + 3x3 = 153500\n",
            "\n",
            "Possibility #234\n",
            "The system of equations is:\n",
            "========================================\n",
            "Coefficient Values:\n",
            "  a_1,1 = 3, a_1,2 = 3, a_1,3 = 2\n",
            "  a_2,1 = 1, a_2,2 = 2, a_2,3 = 1\n",
            "  a_3,1 = 2, a_3,2 = 1, a_3,3 = 3\n",
            "Variable Values:\n",
            "  x1 = 25000, x2 = 25500, x3 = 27000\n",
            "Equations:\n",
            "  3x1 + 3x2 + 2x3 = 205500\n",
            "  x1 + 2x2 + x3 = 103000\n",
            "  2x1 + x2 + 3x3 = 156500\n",
            "\n",
            "Possibility #235\n",
            "The system of equations is:\n",
            "========================================\n",
            "Coefficient Values:\n",
            "  a_1,1 = 3, a_1,2 = 3, a_1,3 = 2\n",
            "  a_2,1 = 1, a_2,2 = 2, a_2,3 = 3\n",
            "  a_3,1 = 2, a_3,2 = 1, a_3,3 = 1\n",
            "Variable Values:\n",
            "  x1 = 25000, x2 = 25500, x3 = 26000\n",
            "Equations:\n",
            "  3x1 + 3x2 + 2x3 = 203500\n",
            "  x1 + 2x2 + 3x3 = 154000\n",
            "  2x1 + x2 + x3 = 101500\n",
            "\n",
            "Possibility #236\n",
            "The system of equations is:\n",
            "========================================\n",
            "Coefficient Values:\n",
            "  a_1,1 = 3, a_1,2 = 3, a_1,3 = 2\n",
            "  a_2,1 = 1, a_2,2 = 2, a_2,3 = 3\n",
            "  a_3,1 = 2, a_3,2 = 1, a_3,3 = 1\n",
            "Variable Values:\n",
            "  x1 = 25000, x2 = 25500, x3 = 27000\n",
            "Equations:\n",
            "  3x1 + 3x2 + 2x3 = 205500\n",
            "  x1 + 2x2 + 3x3 = 157000\n",
            "  2x1 + x2 + x3 = 102500\n",
            "\n",
            "Possibility #237\n",
            "The system of equations is:\n",
            "========================================\n",
            "Coefficient Values:\n",
            "  a_1,1 = 3, a_1,2 = 3, a_1,3 = 2\n",
            "  a_2,1 = 2, a_2,2 = 1, a_2,3 = 1\n",
            "  a_3,1 = 1, a_3,2 = 2, a_3,3 = 3\n",
            "Variable Values:\n",
            "  x1 = 25000, x2 = 25500, x3 = 26000\n",
            "Equations:\n",
            "  3x1 + 3x2 + 2x3 = 203500\n",
            "  2x1 + x2 + x3 = 101500\n",
            "  x1 + 2x2 + 3x3 = 154000\n",
            "\n",
            "Possibility #238\n",
            "The system of equations is:\n",
            "========================================\n",
            "Coefficient Values:\n",
            "  a_1,1 = 3, a_1,2 = 3, a_1,3 = 2\n",
            "  a_2,1 = 2, a_2,2 = 1, a_2,3 = 1\n",
            "  a_3,1 = 1, a_3,2 = 2, a_3,3 = 3\n",
            "Variable Values:\n",
            "  x1 = 25000, x2 = 25500, x3 = 27000\n",
            "Equations:\n",
            "  3x1 + 3x2 + 2x3 = 205500\n",
            "  2x1 + x2 + x3 = 102500\n",
            "  x1 + 2x2 + 3x3 = 157000\n",
            "\n",
            "Possibility #239\n",
            "The system of equations is:\n",
            "========================================\n",
            "Coefficient Values:\n",
            "  a_1,1 = 3, a_1,2 = 3, a_1,3 = 2\n",
            "  a_2,1 = 2, a_2,2 = 1, a_2,3 = 3\n",
            "  a_3,1 = 1, a_3,2 = 2, a_3,3 = 1\n",
            "Variable Values:\n",
            "  x1 = 25000, x2 = 25500, x3 = 26000\n",
            "Equations:\n",
            "  3x1 + 3x2 + 2x3 = 203500\n",
            "  2x1 + x2 + 3x3 = 153500\n",
            "  x1 + 2x2 + x3 = 102000\n",
            "\n",
            "Possibility #240\n",
            "The system of equations is:\n",
            "========================================\n",
            "Coefficient Values:\n",
            "  a_1,1 = 3, a_1,2 = 3, a_1,3 = 2\n",
            "  a_2,1 = 2, a_2,2 = 1, a_2,3 = 3\n",
            "  a_3,1 = 1, a_3,2 = 2, a_3,3 = 1\n",
            "Variable Values:\n",
            "  x1 = 25000, x2 = 25500, x3 = 27000\n",
            "Equations:\n",
            "  3x1 + 3x2 + 2x3 = 205500\n",
            "  2x1 + x2 + 3x3 = 156500\n",
            "  x1 + 2x2 + x3 = 103000\n"
          ]
        }
      ]
    },
    {
      "cell_type": "markdown",
      "source": [],
      "metadata": {
        "id": "puPmAQCE07LL"
      }
    }
  ],
  "metadata": {
    "colab": {
      "provenance": []
    },
    "kernelspec": {
      "display_name": "Python 3",
      "name": "python3"
    },
    "language_info": {
      "name": "python"
    }
  },
  "nbformat": 4,
  "nbformat_minor": 0
}