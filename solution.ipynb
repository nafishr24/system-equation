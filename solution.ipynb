{
  "nbformat": 4,
  "nbformat_minor": 0,
  "metadata": {
    "colab": {
      "provenance": []
    },
    "kernelspec": {
      "name": "python3",
      "display_name": "Python 3"
    },
    "language_info": {
      "name": "python"
    }
  },
  "cells": [
    {
      "cell_type": "code",
      "execution_count": 15,
      "metadata": {
        "id": "gT-ACRbf1pEv"
      },
      "outputs": [],
      "source": [
        "from sympy import symbols, Eq, solve, latex\n",
        "from IPython.display import display, Math\n",
        "\n",
        "def format_number(n):\n",
        "    \"\"\"Format number with thousand separators (commas) for LaTeX, preserve commas literally.\"\"\"\n",
        "    if isinstance(n, int):\n",
        "        return r\"\\text{\" + f\"{n:,}\" + r\"}\"\n",
        "    try:\n",
        "        if n.q == 1:\n",
        "            return r\"\\text{\" + f\"{int(n):,}\" + r\"}\"\n",
        "        else:\n",
        "            return latex(n)  # Keep fraction as is\n",
        "    except AttributeError:\n",
        "        return latex(n)\n",
        "\n",
        "\n",
        "\n",
        "def sls(coeff_matrix, constants):\n",
        "    \"\"\"\n",
        "    coeff_matrix: list of list, e.g., [[1, 2], [3, 4]]\n",
        "    constants: list, e.g., [5, 6]\n",
        "    \"\"\"\n",
        "\n",
        "    num_vars = len(coeff_matrix[0])\n",
        "    num_eqs = len(coeff_matrix)\n",
        "\n",
        "    var_symbols = symbols(f'x1:{num_vars+1}')\n",
        "\n",
        "    print(f\"System of Linear Equations with {num_vars} variables\")\n",
        "    print(\"=\" * 43)\n",
        "\n",
        "    equations = []\n",
        "    latex_lines = []\n",
        "\n",
        "    for i in range(num_eqs):\n",
        "        expr = sum(coeff * var for coeff, var in zip(coeff_matrix[i], var_symbols))\n",
        "        eq = Eq(expr, constants[i])\n",
        "        equations.append(eq)\n",
        "\n",
        "        formatted_const = format_number(constants[i])\n",
        "        latex_line = f\"{latex(expr)} = {formatted_const}\"\n",
        "        latex_lines.append(latex_line)\n",
        "\n",
        "    latex_system = r\"\\begin{cases}\" + r\"\\\\\".join(latex_lines) + r\"\\end{cases}\"\n",
        "    display(Math(latex_system))\n",
        "\n",
        "    sol = solve(equations, var_symbols)\n",
        "\n",
        "    print(\"\\nSolution:\")\n",
        "    if isinstance(sol, dict):\n",
        "        for var, value in sol.items():\n",
        "            formatted_val = format_number(value)\n",
        "            display(Math(f\"{latex(var)} = {formatted_val}\"))\n",
        "    elif sol:\n",
        "        for s in sol:\n",
        "            for var, value in s.items():\n",
        "                formatted_val = format_number(value)\n",
        "                display(Math(f\"{latex(var)} = {formatted_val}\"))\n",
        "    else:\n",
        "        print(\"No solution or system is inconsistent.\")\n"
      ]
    },
    {
      "cell_type": "code",
      "source": [
        "example_coeff_matrix = [\n",
        "          [0, 3, 3, 4, 6],     # first row\n",
        "          [1, 2, 1, 1, 0],     # second row\n",
        "          [4, 4, 11, 0, 9],    # third row\n",
        "          [3, 1, 2, 9, 7],     # fourth row\n",
        "          [5, 6, 9, 10, 1]     # fifth row\n",
        "]\n",
        "\n",
        "example_constant = [439000, 142000, 843000, 593000, 897000]\n",
        "\n",
        "sls(example_coeff_matrix, example_constant)"
      ],
      "metadata": {
        "colab": {
          "base_uri": "https://localhost:8080/",
          "height": 315
        },
        "id": "oSSHonq71tbh",
        "outputId": "d21f3a8b-6993-4dd8-e902-b941dc1ed9a8"
      },
      "execution_count": 17,
      "outputs": [
        {
          "output_type": "stream",
          "name": "stdout",
          "text": [
            "System of Linear Equations with 5 variables\n",
            "===========================================\n"
          ]
        },
        {
          "output_type": "display_data",
          "data": {
            "text/plain": [
              "<IPython.core.display.Math object>"
            ],
            "text/latex": "$\\displaystyle \\begin{cases}3 x_{2} + 3 x_{3} + 4 x_{4} + 6 x_{5} = \\text{439,000}\\\\x_{1} + 2 x_{2} + x_{3} + x_{4} = \\text{142,000}\\\\4 x_{1} + 4 x_{2} + 11 x_{3} + 9 x_{5} = \\text{843,000}\\\\3 x_{1} + x_{2} + 2 x_{3} + 9 x_{4} + 7 x_{5} = \\text{593,000}\\\\5 x_{1} + 6 x_{2} + 9 x_{3} + 10 x_{4} + x_{5} = \\text{897,000}\\end{cases}$"
          },
          "metadata": {}
        },
        {
          "output_type": "stream",
          "name": "stdout",
          "text": [
            "\n",
            "Solution:\n"
          ]
        },
        {
          "output_type": "display_data",
          "data": {
            "text/plain": [
              "<IPython.core.display.Math object>"
            ],
            "text/latex": "$\\displaystyle x_{1} = \\text{30,000}$"
          },
          "metadata": {}
        },
        {
          "output_type": "display_data",
          "data": {
            "text/plain": [
              "<IPython.core.display.Math object>"
            ],
            "text/latex": "$\\displaystyle x_{2} = \\text{26,000}$"
          },
          "metadata": {}
        },
        {
          "output_type": "display_data",
          "data": {
            "text/plain": [
              "<IPython.core.display.Math object>"
            ],
            "text/latex": "$\\displaystyle x_{3} = \\text{35,000}$"
          },
          "metadata": {}
        },
        {
          "output_type": "display_data",
          "data": {
            "text/plain": [
              "<IPython.core.display.Math object>"
            ],
            "text/latex": "$\\displaystyle x_{4} = \\text{25,000}$"
          },
          "metadata": {}
        },
        {
          "output_type": "display_data",
          "data": {
            "text/plain": [
              "<IPython.core.display.Math object>"
            ],
            "text/latex": "$\\displaystyle x_{5} = \\text{26,000}$"
          },
          "metadata": {}
        }
      ]
    }
  ]
}