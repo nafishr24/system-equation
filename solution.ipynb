{
  "nbformat": 4,
  "nbformat_minor": 0,
  "metadata": {
    "colab": {
      "provenance": []
    },
    "kernelspec": {
      "name": "python3",
      "display_name": "Python 3"
    },
    "language_info": {
      "name": "python"
    }
  },
  "cells": [
    {
      "cell_type": "code",
      "execution_count": 10,
      "metadata": {
        "id": "gT-ACRbf1pEv"
      },
      "outputs": [],
      "source": [
        "from sympy import symbols, Eq, solve, latex\n",
        "from IPython.display import display, Math\n",
        "\n",
        "def sls(coeff_matrix, constants):\n",
        "    \"\"\"\n",
        "    coeff_matrix: list of list, e.g., [[1, 2], [3, 4]]\n",
        "    constants: list, e.g., [5, 6]\n",
        "    \"\"\"\n",
        "\n",
        "    num_vars = len(coeff_matrix[0])  # number of variables\n",
        "    num_eqs = len(coeff_matrix)      # number of equations\n",
        "\n",
        "    # Automatically generate variable symbols: x1, x2, ..., xn\n",
        "    var_symbols = symbols(f'x1:{num_vars+1}')\n",
        "\n",
        "    print(f\"System of Linear Equations with {num_vars} variables\")\n",
        "    print(\"=\" * 40)\n",
        "\n",
        "    equations = []\n",
        "    latex_lines = []\n",
        "\n",
        "    for i in range(num_eqs):\n",
        "        expr = sum(coeff * var for coeff, var in zip(coeff_matrix[i], var_symbols))\n",
        "        eq = Eq(expr, constants[i])\n",
        "        equations.append(eq)\n",
        "\n",
        "        # Add to LaTeX display\n",
        "        latex_line = f\"{latex(expr)} = {latex(constants[i])}\"\n",
        "        latex_lines.append(latex_line)\n",
        "\n",
        "    # Display the system of equations in LaTeX form\n",
        "    latex_system = r\"\\begin{cases}\" + r\"\\\\\".join(latex_lines) + r\"\\end{cases}\"\n",
        "    display(Math(latex_system))\n",
        "\n",
        "    # Solve the system\n",
        "    sol = solve(equations, var_symbols)\n",
        "\n",
        "    print(\"\\nSolution:\")\n",
        "    if isinstance(sol, dict):\n",
        "        for var, value in sol.items():\n",
        "            display(Math(f\"{latex(var)} = {latex(value)}\"))\n",
        "    elif sol:  # sometimes the result is a list of dicts (parametric solution)\n",
        "        for s in sol:\n",
        "            for var, value in s.items():\n",
        "                display(Math(f\"{latex(var)} = {latex(value)}\"))\n",
        "    else:\n",
        "        print(\"No solution or system is inconsistent.\")"
      ]
    },
    {
      "cell_type": "code",
      "source": [
        "example_coeff_matrix = [\n",
        "          [1, 2, 3, 4, 5, 6],     # first row\n",
        "          [1, 4, 2, 6, 7, 2],     # second row\n",
        "          [0, 5, 0, 0, 1, 1],     # third row\n",
        "          [5, 0, 1, 0, 0, 10],    # fourth row\n",
        "          [0, 5, 0, 0, 11, 4],    # fifth row\n",
        "          [0, 0, 0, 3, 11, 13]    # sixth row\n",
        "]\n",
        "\n",
        "example_constant = [100, 12, 41, 7, 1, 6]\n",
        "\n",
        "sls(example_coeff_matrix, example_constant)"
      ],
      "metadata": {
        "colab": {
          "base_uri": "https://localhost:8080/",
          "height": 437
        },
        "id": "oSSHonq71tbh",
        "outputId": "6bd92b0f-348f-4e0a-95db-2ed7c46dbedb"
      },
      "execution_count": 11,
      "outputs": [
        {
          "output_type": "stream",
          "name": "stdout",
          "text": [
            "System of Linear Equations with 6 variables\n",
            "========================================\n"
          ]
        },
        {
          "output_type": "display_data",
          "data": {
            "text/plain": [
              "<IPython.core.display.Math object>"
            ],
            "text/latex": "$\\displaystyle \\begin{cases}x_{1} + 2 x_{2} + 3 x_{3} + 4 x_{4} + 5 x_{5} + 6 x_{6} = 100\\\\x_{1} + 4 x_{2} + 2 x_{3} + 6 x_{4} + 7 x_{5} + 2 x_{6} = 12\\\\5 x_{2} + x_{5} + x_{6} = 41\\\\5 x_{1} + x_{3} + 10 x_{6} = 7\\\\5 x_{2} + 11 x_{5} + 4 x_{6} = 1\\\\3 x_{4} + 11 x_{5} + 13 x_{6} = 6\\end{cases}$"
          },
          "metadata": {}
        },
        {
          "output_type": "stream",
          "name": "stdout",
          "text": [
            "\n",
            "Solution:\n"
          ]
        },
        {
          "output_type": "display_data",
          "data": {
            "text/plain": [
              "<IPython.core.display.Math object>"
            ],
            "text/latex": "$\\displaystyle x_{1} = - \\frac{241633}{10621}$"
          },
          "metadata": {}
        },
        {
          "output_type": "display_data",
          "data": {
            "text/plain": [
              "<IPython.core.display.Math object>"
            ],
            "text/latex": "$\\displaystyle x_{2} = \\frac{83906}{10621}$"
          },
          "metadata": {}
        },
        {
          "output_type": "display_data",
          "data": {
            "text/plain": [
              "<IPython.core.display.Math object>"
            ],
            "text/latex": "$\\displaystyle x_{3} = \\frac{448012}{10621}$"
          },
          "metadata": {}
        },
        {
          "output_type": "display_data",
          "data": {
            "text/plain": [
              "<IPython.core.display.Math object>"
            ],
            "text/latex": "$\\displaystyle x_{4} = - \\frac{92805}{10621}$"
          },
          "metadata": {}
        },
        {
          "output_type": "display_data",
          "data": {
            "text/plain": [
              "<IPython.core.display.Math object>"
            ],
            "text/latex": "$\\displaystyle x_{5} = - \\frac{67519}{10621}$"
          },
          "metadata": {}
        },
        {
          "output_type": "display_data",
          "data": {
            "text/plain": [
              "<IPython.core.display.Math object>"
            ],
            "text/latex": "$\\displaystyle x_{6} = \\frac{83450}{10621}$"
          },
          "metadata": {}
        }
      ]
    }
  ]
}