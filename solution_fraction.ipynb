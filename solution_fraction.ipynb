{
  "nbformat": 4,
  "nbformat_minor": 0,
  "metadata": {
    "colab": {
      "provenance": []
    },
    "kernelspec": {
      "name": "python3",
      "display_name": "Python 3"
    },
    "language_info": {
      "name": "python"
    }
  },
  "cells": [
    {
      "cell_type": "code",
      "execution_count": 6,
      "metadata": {
        "id": "VudpQYmZdTN5"
      },
      "outputs": [],
      "source": [
        "from sympy import symbols, Eq, solve, latex\n",
        "from IPython.display import display, Math\n",
        "\n",
        "def format_number(n):\n",
        "    \"\"\"Format number with thousand separators (commas) for LaTeX.\"\"\"\n",
        "    if isinstance(n, int):\n",
        "        return r\"\\text{\" + f\"{n:,}\" + r\"}\"\n",
        "    try:\n",
        "        if n.q == 1:\n",
        "            return r\"\\text{\" + f\"{int(n):,}\" + r\"}\"\n",
        "        else:\n",
        "            return latex(n)\n",
        "    except AttributeError:\n",
        "        return latex(n)\n",
        "\n",
        "def solve_fraction(coeff_matrix, constants, inverse_flags=None):\n",
        "    \"\"\"\n",
        "    coeff_matrix: list of list of coefficients\n",
        "    constants: list of constants (RHS)\n",
        "    inverse_flags: list of list of booleans indicating whether to use 1/xi for each variable\n",
        "    \"\"\"\n",
        "\n",
        "    num_eqs = len(coeff_matrix)\n",
        "    num_vars = len(coeff_matrix[0])\n",
        "    var_symbols = symbols(f'x1:{num_vars+1}')\n",
        "\n",
        "    # Automatically create inverse_flags if None\n",
        "    if inverse_flags is None:\n",
        "        inverse_flags = [[True] * num_vars for _ in range(num_eqs)]\n",
        "\n",
        "    print(f\"Non-Linear Equation System with {num_vars} variables\")\n",
        "    print(\"=\" * 50)\n",
        "\n",
        "    equations = []\n",
        "    latex_lines = []\n",
        "\n",
        "    for i in range(num_eqs):\n",
        "        expr = 0\n",
        "        for j in range(num_vars):\n",
        "            coeff = coeff_matrix[i][j]\n",
        "            var = var_symbols[j]\n",
        "            is_inverse = inverse_flags[i][j]\n",
        "            term = coeff / var if is_inverse else coeff * var\n",
        "            expr += term\n",
        "\n",
        "        eq = Eq(expr, constants[i])\n",
        "        equations.append(eq)\n",
        "\n",
        "        formatted_const = format_number(constants[i])\n",
        "        latex_line = f\"{latex(expr)} = {formatted_const}\"\n",
        "        latex_lines.append(latex_line)\n",
        "\n",
        "    latex_system = r\"\\begin{cases}\" + r\"\\\\\".join(latex_lines) + r\"\\end{cases}\"\n",
        "    display(Math(latex_system))\n",
        "\n",
        "    sol = solve(equations, var_symbols, dict=True)\n",
        "\n",
        "    print(\"\\nSolution:\")\n",
        "    if not sol:\n",
        "        print(\"No solution or inconsistent system.\")\n",
        "    else:\n",
        "        for s in sol:\n",
        "            for var, value in s.items():\n",
        "                display(Math(f\"{latex(var)} = {format_number(value)}\"))\n"
      ]
    },
    {
      "cell_type": "code",
      "source": [
        "coeff_matrix = [\n",
        "    [1, 2, 6],\n",
        "    [1, 4, 3],\n",
        "    [2, 2, 3]\n",
        "]\n",
        "constants = [1, 1, 1]\n",
        "\n",
        "\n",
        "solve_fraction(coeff_matrix, constants, inverse_flags=None)"
      ],
      "metadata": {
        "colab": {
          "base_uri": "https://localhost:8080/",
          "height": 224
        },
        "id": "miCijnlAdfcd",
        "outputId": "7fda5720-5bc1-454c-f402-416b75b77866"
      },
      "execution_count": 7,
      "outputs": [
        {
          "output_type": "stream",
          "name": "stdout",
          "text": [
            "Non-Linear Equation System with 3 variables\n",
            "==================================================\n"
          ]
        },
        {
          "output_type": "display_data",
          "data": {
            "text/plain": [
              "<IPython.core.display.Math object>"
            ],
            "text/latex": "$\\displaystyle \\begin{cases}\\frac{6}{x_{3}} + \\frac{2}{x_{2}} + \\frac{1}{x_{1}} = \\text{1}\\\\\\frac{3}{x_{3}} + \\frac{4}{x_{2}} + \\frac{1}{x_{1}} = \\text{1}\\\\\\frac{3}{x_{3}} + \\frac{2}{x_{2}} + \\frac{2}{x_{1}} = \\text{1}\\end{cases}$"
          },
          "metadata": {}
        },
        {
          "output_type": "stream",
          "name": "stdout",
          "text": [
            "\n",
            "Solution:\n"
          ]
        },
        {
          "output_type": "display_data",
          "data": {
            "text/plain": [
              "<IPython.core.display.Math object>"
            ],
            "text/latex": "$\\displaystyle x_{1} = \\text{4}$"
          },
          "metadata": {}
        },
        {
          "output_type": "display_data",
          "data": {
            "text/plain": [
              "<IPython.core.display.Math object>"
            ],
            "text/latex": "$\\displaystyle x_{2} = \\text{8}$"
          },
          "metadata": {}
        },
        {
          "output_type": "display_data",
          "data": {
            "text/plain": [
              "<IPython.core.display.Math object>"
            ],
            "text/latex": "$\\displaystyle x_{3} = \\text{12}$"
          },
          "metadata": {}
        }
      ]
    }
  ]
}